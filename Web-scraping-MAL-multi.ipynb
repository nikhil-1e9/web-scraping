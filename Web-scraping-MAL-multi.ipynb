{
 "cells": [
  {
   "cell_type": "markdown",
   "id": "11461201",
   "metadata": {},
   "source": [
    "# Webscraping MyAnimeList using Python"
   ]
  },
  {
   "cell_type": "markdown",
   "id": "4e04ac32",
   "metadata": {},
   "source": [
    "As I am a big fan of anime and manga, in this project I will be scraping the top anime and mangas from [MyAnimeList](https://myanimelist.net/) which is a site containing information about all of anime and manga. It would be fun."
   ]
  },
  {
   "cell_type": "code",
   "execution_count": 4,
   "id": "d1c71d7e",
   "metadata": {},
   "outputs": [],
   "source": [
    "# Loading required libraries\n",
    "import requests\n",
    "import os\n",
    "import csv\n",
    "from bs4 import BeautifulSoup\n",
    "import re\n",
    "import time\n",
    "import pandas as pd\n",
    "\n",
    "from IPython.display import display as disp, Image"
   ]
  },
  {
   "cell_type": "markdown",
   "id": "d33fbdff",
   "metadata": {},
   "source": [
    "## Exploring the html tags"
   ]
  },
  {
   "cell_type": "code",
   "execution_count": 9,
   "id": "8eedca0b",
   "metadata": {},
   "outputs": [],
   "source": [
    "URL = \"https://myanimelist.net/topanime.php\""
   ]
  },
  {
   "cell_type": "code",
   "execution_count": 11,
   "id": "46717c0a",
   "metadata": {},
   "outputs": [],
   "source": [
    "response = requests.get(URL)"
   ]
  },
  {
   "cell_type": "code",
   "execution_count": 12,
   "id": "142392b5",
   "metadata": {},
   "outputs": [],
   "source": [
    "parser = BeautifulSoup(response.text, \"html.parser\")"
   ]
  },
  {
   "cell_type": "code",
   "execution_count": 13,
   "id": "6572d5c9",
   "metadata": {},
   "outputs": [],
   "source": [
    "# Extract headers\n",
    "headers = parser.select(\"tr.table-header\")[0]"
   ]
  },
  {
   "cell_type": "code",
   "execution_count": 14,
   "id": "069b437a",
   "metadata": {},
   "outputs": [
    {
     "data": {
      "text/plain": [
       "'RankTitleScoreYour ScoreStatus'"
      ]
     },
     "execution_count": 14,
     "metadata": {},
     "output_type": "execute_result"
    }
   ],
   "source": [
    "headers.text"
   ]
  },
  {
   "cell_type": "code",
   "execution_count": 15,
   "id": "4fd69eab",
   "metadata": {},
   "outputs": [],
   "source": [
    "anime_tags = parser.select(\"tr.ranking-list\")"
   ]
  },
  {
   "cell_type": "code",
   "execution_count": 16,
   "id": "f3fe62ac",
   "metadata": {},
   "outputs": [
    {
     "data": {
      "text/plain": [
       "bs4.element.ResultSet"
      ]
     },
     "execution_count": 16,
     "metadata": {},
     "output_type": "execute_result"
    }
   ],
   "source": [
    "type(anime_tags)"
   ]
  },
  {
   "cell_type": "code",
   "execution_count": 17,
   "id": "931fe7c5",
   "metadata": {
    "scrolled": true
   },
   "outputs": [
    {
     "data": {
      "text/plain": [
       "[<tr class=\"ranking-list\">\n",
       " <td class=\"rank ac\" valign=\"top\">\n",
       " <span class=\"lightLink top-anime-rank-text rank1\">1</span>\n",
       " </td>\n",
       " <td class=\"title al va-t word-break\">\n",
       " <a class=\"hoverinfo_trigger fl-l ml12 mr8\" href=\"https://myanimelist.net/anime/5114/Fullmetal_Alchemist__Brotherhood\" id=\"#area5114\" rel=\"#info5114\">\n",
       " <img alt=\"Anime: Fullmetal Alchemist: Brotherhood\" border=\"0\" class=\"lazyload\" data-src=\"https://cdn.myanimelist.net/r/50x70/images/anime/1208/94745.jpg?s=7892d01b6c74f1bf945f7a3ff3bb1f6a\" data-srcset=\"https://cdn.myanimelist.net/r/50x70/images/anime/1208/94745.jpg?s=7892d01b6c74f1bf945f7a3ff3bb1f6a 1x, https://cdn.myanimelist.net/r/100x140/images/anime/1208/94745.jpg?s=5ec18639199f2c60b60009f34222228d 2x\" height=\"70\" width=\"50\">\n",
       " </img></a>\n",
       " <div class=\"detail\"><div id=\"area5114\">\n",
       " <div class=\"hoverinfo\" id=\"info5114\" rel=\"a5114\"></div>\n",
       " </div>\n",
       " <div class=\"di-ib clearfix\"><h3 class=\"hoverinfo_trigger fl-l fs14 fw-b anime_ranking_h3\"><a href=\"https://myanimelist.net/anime/5114/Fullmetal_Alchemist__Brotherhood\" id=\"#area5114\" rel=\"#info5114\">Fullmetal Alchemist: Brotherhood</a></h3><div class=\"icon-watch2\"><a class=\"mal-icon ml8 ga-click\" href=\"https://myanimelist.net/anime/5114/Fullmetal_Alchemist__Brotherhood/video\" title=\"Watch Episode Video\"><i class=\"malicon malicon-movie-episode\"></i></a></div></div><br/><div class=\"information di-ib mt4\">\n",
       "         TV (64 eps)<br/>\n",
       "         Apr 2009 - Jul 2010<br/>\n",
       "         3,188,280 members\n",
       "       </div></div>\n",
       " </td>\n",
       " <td class=\"score ac fs14\"><div class=\"js-top-ranking-score-col di-ib al\"><i class=\"icon-score-star fa-solid fa-star mr4 on\"></i><span class=\"text on score-label score-9\">9.10</span></div>\n",
       " </td>\n",
       " <td class=\"your-score ac fs14\">\n",
       " <div class=\"js-top-ranking-your-score-col di-ib al\"> <a class=\"\" href=\"https://myanimelist.net/login.php?error=login_required&amp;from=%2Ftopanime.php\"><i class=\"icon-score-star fa-solid fa-star mr4\"></i><span class=\"text score-label score-na\">N/A</span></a>\n",
       " </div>\n",
       " </td>\n",
       " <td class=\"status ac\"> <a class=\"btn-addEdit-large btn-anime-watch-status js-anime-watch-status notinmylist\" href=\"https://myanimelist.net/login.php?error=login_required&amp;from=%2Ftopanime.php\"><i class=\"fa-solid fa-square-plus-o mr4\"></i>Add to list</a>\n",
       " </td>\n",
       " </tr>,\n",
       " <tr class=\"ranking-list\">\n",
       " <td class=\"rank ac\" valign=\"top\">\n",
       " <span class=\"lightLink top-anime-rank-text rank1\">2</span>\n",
       " </td>\n",
       " <td class=\"title al va-t word-break\">\n",
       " <a class=\"hoverinfo_trigger fl-l ml12 mr8\" href=\"https://myanimelist.net/anime/9253/Steins_Gate\" id=\"#area9253\" rel=\"#info9253\">\n",
       " <img alt=\"Anime: Steins;Gate\" border=\"0\" class=\"lazyload\" data-src=\"https://cdn.myanimelist.net/r/50x70/images/anime/1935/127974.jpg?s=cd8506e6d26bad48a78aa985477a55ca\" data-srcset=\"https://cdn.myanimelist.net/r/50x70/images/anime/1935/127974.jpg?s=cd8506e6d26bad48a78aa985477a55ca 1x, https://cdn.myanimelist.net/r/100x140/images/anime/1935/127974.jpg?s=a0c19821033ace3af10310a253a9e85b 2x\" height=\"70\" width=\"50\">\n",
       " </img></a>\n",
       " <div class=\"detail\"><div id=\"area9253\">\n",
       " <div class=\"hoverinfo\" id=\"info9253\" rel=\"a9253\"></div>\n",
       " </div>\n",
       " <div class=\"di-ib clearfix\"><h3 class=\"hoverinfo_trigger fl-l fs14 fw-b anime_ranking_h3\"><a href=\"https://myanimelist.net/anime/9253/Steins_Gate\" id=\"#area9253\" rel=\"#info9253\">Steins;Gate</a></h3><div class=\"icon-watch2\"><a class=\"mal-icon ml8 ga-click\" href=\"https://myanimelist.net/anime/9253/Steins_Gate/video\" title=\"Watch Episode Video\"><i class=\"malicon malicon-movie-episode\"></i></a></div></div><br/><div class=\"information di-ib mt4\">\n",
       "         TV (24 eps)<br/>\n",
       "         Apr 2011 - Sep 2011<br/>\n",
       "         2,449,954 members\n",
       "       </div></div>\n",
       " </td>\n",
       " <td class=\"score ac fs14\"><div class=\"js-top-ranking-score-col di-ib al\"><i class=\"icon-score-star fa-solid fa-star mr4 on\"></i><span class=\"text on score-label score-9\">9.07</span></div>\n",
       " </td>\n",
       " <td class=\"your-score ac fs14\">\n",
       " <div class=\"js-top-ranking-your-score-col di-ib al\"> <a class=\"\" href=\"https://myanimelist.net/login.php?error=login_required&amp;from=%2Ftopanime.php\"><i class=\"icon-score-star fa-solid fa-star mr4\"></i><span class=\"text score-label score-na\">N/A</span></a>\n",
       " </div>\n",
       " </td>\n",
       " <td class=\"status ac\"> <a class=\"btn-addEdit-large btn-anime-watch-status js-anime-watch-status notinmylist\" href=\"https://myanimelist.net/login.php?error=login_required&amp;from=%2Ftopanime.php\"><i class=\"fa-solid fa-square-plus-o mr4\"></i>Add to list</a>\n",
       " </td>\n",
       " </tr>,\n",
       " <tr class=\"ranking-list\">\n",
       " <td class=\"rank ac\" valign=\"top\">\n",
       " <span class=\"lightLink top-anime-rank-text rank1\">3</span>\n",
       " </td>\n",
       " <td class=\"title al va-t word-break\">\n",
       " <a class=\"hoverinfo_trigger fl-l ml12 mr8\" href=\"https://myanimelist.net/anime/41467/Bleach__Sennen_Kessen-hen\" id=\"#area41467\" rel=\"#info41467\">\n",
       " <img alt=\"Anime: Bleach: Sennen Kessen-hen\" border=\"0\" class=\"lazyload\" data-src=\"https://cdn.myanimelist.net/r/50x70/images/anime/1908/135431.jpg?s=90ea032d3ed39b3093ec6b6dc6be844f\" data-srcset=\"https://cdn.myanimelist.net/r/50x70/images/anime/1908/135431.jpg?s=90ea032d3ed39b3093ec6b6dc6be844f 1x, https://cdn.myanimelist.net/r/100x140/images/anime/1908/135431.jpg?s=b2907feb4a5b5797b2fabdfe87fe9fae 2x\" height=\"70\" width=\"50\"/>\n",
       " </a>\n",
       " <div class=\"detail\"><div id=\"area41467\">\n",
       " <div class=\"hoverinfo\" id=\"info41467\" rel=\"a41467\"></div>\n",
       " </div>\n",
       " <div class=\"di-ib clearfix\"><h3 class=\"hoverinfo_trigger fl-l fs14 fw-b anime_ranking_h3\"><a href=\"https://myanimelist.net/anime/41467/Bleach__Sennen_Kessen-hen\" id=\"#area41467\" rel=\"#info41467\">Bleach: Sennen Kessen-hen</a></h3><div class=\"icon-watch-pv2\"><a class=\"mal-icon ml8 ga-click\" href=\"https://myanimelist.net/anime/41467/Bleach__Sennen_Kessen-hen/video\" title=\"Watch Promotional Video\"><i class=\"malicon malicon-movie-pv\"></i></a></div></div><br/><div class=\"information di-ib mt4\">\n",
       "         TV (13 eps)<br/>\n",
       "         Oct 2022 - Dec 2022<br/>\n",
       "         453,048 members\n",
       "       </div></div>\n",
       " </td>\n",
       " <td class=\"score ac fs14\"><div class=\"js-top-ranking-score-col di-ib al\"><i class=\"icon-score-star fa-solid fa-star mr4 on\"></i><span class=\"text on score-label score-9\">9.06</span></div>\n",
       " </td>\n",
       " <td class=\"your-score ac fs14\">\n",
       " <div class=\"js-top-ranking-your-score-col di-ib al\"> <a class=\"\" href=\"https://myanimelist.net/login.php?error=login_required&amp;from=%2Ftopanime.php\"><i class=\"icon-score-star fa-solid fa-star mr4\"></i><span class=\"text score-label score-na\">N/A</span></a>\n",
       " </div>\n",
       " </td>\n",
       " <td class=\"status ac\"> <a class=\"btn-addEdit-large btn-anime-watch-status js-anime-watch-status notinmylist\" href=\"https://myanimelist.net/login.php?error=login_required&amp;from=%2Ftopanime.php\"><i class=\"fa-solid fa-square-plus-o mr4\"></i>Add to list</a>\n",
       " </td>\n",
       " </tr>,\n",
       " <tr class=\"ranking-list\">\n",
       " <td class=\"rank ac\" valign=\"top\">\n",
       " <span class=\"lightLink top-anime-rank-text rank1\">4</span>\n",
       " </td>\n",
       " <td class=\"title al va-t word-break\">\n",
       " <a class=\"hoverinfo_trigger fl-l ml12 mr8\" href=\"https://myanimelist.net/anime/28977/Gintama°\" id=\"#area28977\" rel=\"#info28977\">\n",
       " <img alt=\"Anime: Gintama°\" border=\"0\" class=\"lazyload\" data-src=\"https://cdn.myanimelist.net/r/50x70/images/anime/3/72078.jpg?s=e9537ac90c08758594c787ede117f209\" data-srcset=\"https://cdn.myanimelist.net/r/50x70/images/anime/3/72078.jpg?s=e9537ac90c08758594c787ede117f209 1x, https://cdn.myanimelist.net/r/100x140/images/anime/3/72078.jpg?s=bb26d45bb75e13601e1b8029f717c2b0 2x\" height=\"70\" width=\"50\"/>\n",
       " </a>\n",
       " <div class=\"detail\"><div id=\"area28977\">\n",
       " <div class=\"hoverinfo\" id=\"info28977\" rel=\"a28977\"></div>\n",
       " </div>\n",
       " <div class=\"di-ib clearfix\"><h3 class=\"hoverinfo_trigger fl-l fs14 fw-b anime_ranking_h3\"><a href=\"https://myanimelist.net/anime/28977/Gintama°\" id=\"#area28977\" rel=\"#info28977\">Gintama°</a></h3><div class=\"icon-watch2\"><a class=\"mal-icon ml8 ga-click\" href=\"https://myanimelist.net/anime/28977/Gintama%C2%B0/video\" title=\"Watch Episode Video\"><i class=\"malicon malicon-movie-episode\"></i></a></div></div><br/><div class=\"information di-ib mt4\">\n",
       "         TV (51 eps)<br/>\n",
       "         Apr 2015 - Mar 2016<br/>\n",
       "         598,624 members\n",
       "       </div></div>\n",
       " </td>\n",
       " <td class=\"score ac fs14\"><div class=\"js-top-ranking-score-col di-ib al\"><i class=\"icon-score-star fa-solid fa-star mr4 on\"></i><span class=\"text on score-label score-9\">9.06</span></div>\n",
       " </td>\n",
       " <td class=\"your-score ac fs14\">\n",
       " <div class=\"js-top-ranking-your-score-col di-ib al\"> <a class=\"\" href=\"https://myanimelist.net/login.php?error=login_required&amp;from=%2Ftopanime.php\"><i class=\"icon-score-star fa-solid fa-star mr4\"></i><span class=\"text score-label score-na\">N/A</span></a>\n",
       " </div>\n",
       " </td>\n",
       " <td class=\"status ac\"> <a class=\"btn-addEdit-large btn-anime-watch-status js-anime-watch-status notinmylist\" href=\"https://myanimelist.net/login.php?error=login_required&amp;from=%2Ftopanime.php\"><i class=\"fa-solid fa-square-plus-o mr4\"></i>Add to list</a>\n",
       " </td>\n",
       " </tr>,\n",
       " <tr class=\"ranking-list\">\n",
       " <td class=\"rank ac\" valign=\"top\">\n",
       " <span class=\"lightLink top-anime-rank-text rank1\">5</span>\n",
       " </td>\n",
       " <td class=\"title al va-t word-break\">\n",
       " <a class=\"hoverinfo_trigger fl-l ml12 mr8\" href=\"https://myanimelist.net/anime/43608/Kaguya-sama_wa_Kokurasetai__Ultra_Romantic\" id=\"#area43608\" rel=\"#info43608\">\n",
       " <img alt=\"Anime: Kaguya-sama wa Kokurasetai: Ultra Romantic\" border=\"0\" class=\"lazyload\" data-src=\"https://cdn.myanimelist.net/r/50x70/images/anime/1160/122627.jpg?s=9b41450e9598d10c97fb4eeb7cca3737\" data-srcset=\"https://cdn.myanimelist.net/r/50x70/images/anime/1160/122627.jpg?s=9b41450e9598d10c97fb4eeb7cca3737 1x, https://cdn.myanimelist.net/r/100x140/images/anime/1160/122627.jpg?s=e4e56950556c022515bea0f8936ce541 2x\" height=\"70\" width=\"50\"/>\n",
       " </a>\n",
       " <div class=\"detail\"><div id=\"area43608\">\n",
       " <div class=\"hoverinfo\" id=\"info43608\" rel=\"a43608\"></div>\n",
       " </div>\n",
       " <div class=\"di-ib clearfix\"><h3 class=\"hoverinfo_trigger fl-l fs14 fw-b anime_ranking_h3\"><a href=\"https://myanimelist.net/anime/43608/Kaguya-sama_wa_Kokurasetai__Ultra_Romantic\" id=\"#area43608\" rel=\"#info43608\">Kaguya-sama wa Kokurasetai: Ultra Romantic</a></h3><div class=\"icon-watch2\"><a class=\"mal-icon ml8 ga-click\" href=\"https://myanimelist.net/anime/43608/Kaguya-sama_wa_Kokurasetai__Ultra_Romantic/video\" title=\"Watch Episode Video\"><i class=\"malicon malicon-movie-episode\"></i></a></div></div><br/><div class=\"information di-ib mt4\">\n",
       "         TV (13 eps)<br/>\n",
       "         Apr 2022 - Jun 2022<br/>\n",
       "         830,316 members\n",
       "       </div></div>\n",
       " </td>\n",
       " <td class=\"score ac fs14\"><div class=\"js-top-ranking-score-col di-ib al\"><i class=\"icon-score-star fa-solid fa-star mr4 on\"></i><span class=\"text on score-label score-9\">9.05</span></div>\n",
       " </td>\n",
       " <td class=\"your-score ac fs14\">\n",
       " <div class=\"js-top-ranking-your-score-col di-ib al\"> <a class=\"\" href=\"https://myanimelist.net/login.php?error=login_required&amp;from=%2Ftopanime.php\"><i class=\"icon-score-star fa-solid fa-star mr4\"></i><span class=\"text score-label score-na\">N/A</span></a>\n",
       " </div>\n",
       " </td>\n",
       " <td class=\"status ac\"> <a class=\"btn-addEdit-large btn-anime-watch-status js-anime-watch-status notinmylist\" href=\"https://myanimelist.net/login.php?error=login_required&amp;from=%2Ftopanime.php\"><i class=\"fa-solid fa-square-plus-o mr4\"></i>Add to list</a>\n",
       " </td>\n",
       " </tr>,\n",
       " <tr class=\"ranking-list\">\n",
       " <td class=\"rank ac\" valign=\"top\">\n",
       " <span class=\"lightLink top-anime-rank-text rank1\">6</span>\n",
       " </td>\n",
       " <td class=\"title al va-t word-break\">\n",
       " <a class=\"hoverinfo_trigger fl-l ml12 mr8\" href=\"https://myanimelist.net/anime/38524/Shingeki_no_Kyojin_Season_3_Part_2\" id=\"#area38524\" rel=\"#info38524\">\n",
       " <img alt=\"Anime: Shingeki no Kyojin Season 3 Part 2\" border=\"0\" class=\"lazyload\" data-src=\"https://cdn.myanimelist.net/r/50x70/images/anime/1517/100633.jpg?s=4540a01b5883647ade494cd28392f100\" data-srcset=\"https://cdn.myanimelist.net/r/50x70/images/anime/1517/100633.jpg?s=4540a01b5883647ade494cd28392f100 1x, https://cdn.myanimelist.net/r/100x140/images/anime/1517/100633.jpg?s=63aa0647fb4eba3fd80288489f0a64a4 2x\" height=\"70\" width=\"50\"/>\n",
       " </a>\n",
       " <div class=\"detail\"><div id=\"area38524\">\n",
       " <div class=\"hoverinfo\" id=\"info38524\" rel=\"a38524\"></div>\n",
       " </div>\n",
       " <div class=\"di-ib clearfix\"><h3 class=\"hoverinfo_trigger fl-l fs14 fw-b anime_ranking_h3\"><a href=\"https://myanimelist.net/anime/38524/Shingeki_no_Kyojin_Season_3_Part_2\" id=\"#area38524\" rel=\"#info38524\">Shingeki no Kyojin Season 3 Part 2</a></h3><div class=\"icon-watch2\"><a class=\"mal-icon ml8 ga-click\" href=\"https://myanimelist.net/anime/38524/Shingeki_no_Kyojin_Season_3_Part_2/video\" title=\"Watch Episode Video\"><i class=\"malicon malicon-movie-episode\"></i></a></div></div><br/><div class=\"information di-ib mt4\">\n",
       "         TV (10 eps)<br/>\n",
       "         Apr 2019 - Jul 2019<br/>\n",
       "         2,115,515 members\n",
       "       </div></div>\n",
       " </td>\n",
       " <td class=\"score ac fs14\"><div class=\"js-top-ranking-score-col di-ib al\"><i class=\"icon-score-star fa-solid fa-star mr4 on\"></i><span class=\"text on score-label score-9\">9.05</span></div>\n",
       " </td>\n",
       " <td class=\"your-score ac fs14\">\n",
       " <div class=\"js-top-ranking-your-score-col di-ib al\"> <a class=\"\" href=\"https://myanimelist.net/login.php?error=login_required&amp;from=%2Ftopanime.php\"><i class=\"icon-score-star fa-solid fa-star mr4\"></i><span class=\"text score-label score-na\">N/A</span></a>\n",
       " </div>\n",
       " </td>\n",
       " <td class=\"status ac\"> <a class=\"btn-addEdit-large btn-anime-watch-status js-anime-watch-status notinmylist\" href=\"https://myanimelist.net/login.php?error=login_required&amp;from=%2Ftopanime.php\"><i class=\"fa-solid fa-square-plus-o mr4\"></i>Add to list</a>\n",
       " </td>\n",
       " </tr>,\n",
       " <tr class=\"ranking-list\">\n",
       " <td class=\"rank ac\" valign=\"top\">\n",
       " <span class=\"lightLink top-anime-rank-text rank1\">7</span>\n",
       " </td>\n",
       " <td class=\"title al va-t word-break\">\n",
       " <a class=\"hoverinfo_trigger fl-l ml12 mr8\" href=\"https://myanimelist.net/anime/51535/Shingeki_no_Kyojin__The_Final_Season_-_Kanketsu-hen\" id=\"#area51535\" rel=\"#info51535\">\n",
       " <img alt=\"Anime: Shingeki no Kyojin: The Final Season - Kanketsu-hen\" border=\"0\" class=\"lazyload\" data-src=\"https://cdn.myanimelist.net/r/50x70/images/anime/1279/131078.jpg?s=d6d04a0dcc347ba55e0243b75b0ad5dd\" data-srcset=\"https://cdn.myanimelist.net/r/50x70/images/anime/1279/131078.jpg?s=d6d04a0dcc347ba55e0243b75b0ad5dd 1x, https://cdn.myanimelist.net/r/100x140/images/anime/1279/131078.jpg?s=1b0db37795fa4240d5b66641643f76bb 2x\" height=\"70\" width=\"50\"/>\n",
       " </a>\n",
       " <div class=\"detail\"><div id=\"area51535\">\n",
       " <div class=\"hoverinfo\" id=\"info51535\" rel=\"a51535\"></div>\n",
       " </div>\n",
       " <div class=\"di-ib clearfix\"><h3 class=\"hoverinfo_trigger fl-l fs14 fw-b anime_ranking_h3\"><a href=\"https://myanimelist.net/anime/51535/Shingeki_no_Kyojin__The_Final_Season_-_Kanketsu-hen\" id=\"#area51535\" rel=\"#info51535\">Shingeki no Kyojin: The Final Season - Kanketsu-hen</a></h3><div class=\"icon-watch-pv2\"><a class=\"mal-icon ml8 ga-click\" href=\"https://myanimelist.net/anime/51535/Shingeki_no_Kyojin__The_Final_Season_-_Kanketsu-hen/video\" title=\"Watch Promotional Video\"><i class=\"malicon malicon-movie-pv\"></i></a></div></div><br/><div class=\"information di-ib mt4\">\n",
       "         Special (2 eps)<br/>\n",
       "         Mar 2023 - 2023<br/>\n",
       "         446,872 members\n",
       "       </div></div>\n",
       " </td>\n",
       " <td class=\"score ac fs14\"><div class=\"js-top-ranking-score-col di-ib al\"><i class=\"icon-score-star fa-solid fa-star mr4 on\"></i><span class=\"text on score-label score-9\">9.05</span></div>\n",
       " </td>\n",
       " <td class=\"your-score ac fs14\">\n",
       " <div class=\"js-top-ranking-your-score-col di-ib al\"> <a class=\"\" href=\"https://myanimelist.net/login.php?error=login_required&amp;from=%2Ftopanime.php\"><i class=\"icon-score-star fa-solid fa-star mr4\"></i><span class=\"text score-label score-na\">N/A</span></a>\n",
       " </div>\n",
       " </td>\n",
       " <td class=\"status ac\"> <a class=\"btn-addEdit-large btn-anime-watch-status js-anime-watch-status notinmylist\" href=\"https://myanimelist.net/login.php?error=login_required&amp;from=%2Ftopanime.php\"><i class=\"fa-solid fa-square-plus-o mr4\"></i>Add to list</a>\n",
       " </td>\n",
       " </tr>,\n",
       " <tr class=\"ranking-list\">\n",
       " <td class=\"rank ac\" valign=\"top\">\n",
       " <span class=\"lightLink top-anime-rank-text rank1\">8</span>\n",
       " </td>\n",
       " <td class=\"title al va-t word-break\">\n",
       " <a class=\"hoverinfo_trigger fl-l ml12 mr8\" href=\"https://myanimelist.net/anime/9969/Gintama\" id=\"#area9969\" rel=\"#info9969\">\n",
       " <img alt=\"Anime: Gintama&amp;#039;\" border=\"0\" class=\"lazyload\" data-src=\"https://cdn.myanimelist.net/r/50x70/images/anime/4/50361.jpg?s=b3a061db8c3d42a055d58f9df1f3dac7\" data-srcset=\"https://cdn.myanimelist.net/r/50x70/images/anime/4/50361.jpg?s=b3a061db8c3d42a055d58f9df1f3dac7 1x, https://cdn.myanimelist.net/r/100x140/images/anime/4/50361.jpg?s=0fde0801daa3b436029146f401e5e77f 2x\" height=\"70\" width=\"50\"/>\n",
       " </a>\n",
       " <div class=\"detail\"><div id=\"area9969\">\n",
       " <div class=\"hoverinfo\" id=\"info9969\" rel=\"a9969\"></div>\n",
       " </div>\n",
       " <div class=\"di-ib clearfix\"><h3 class=\"hoverinfo_trigger fl-l fs14 fw-b anime_ranking_h3\"><a href=\"https://myanimelist.net/anime/9969/Gintama\" id=\"#area9969\" rel=\"#info9969\">Gintama'</a></h3><div class=\"icon-watch2\"><a class=\"mal-icon ml8 ga-click\" href=\"https://myanimelist.net/anime/9969/Gintama/video\" title=\"Watch Episode Video\"><i class=\"malicon malicon-movie-episode\"></i></a></div></div><br/><div class=\"information di-ib mt4\">\n",
       "         TV (51 eps)<br/>\n",
       "         Apr 2011 - Mar 2012<br/>\n",
       "         528,133 members\n",
       "       </div></div>\n",
       " </td>\n",
       " <td class=\"score ac fs14\"><div class=\"js-top-ranking-score-col di-ib al\"><i class=\"icon-score-star fa-solid fa-star mr4 on\"></i><span class=\"text on score-label score-9\">9.04</span></div>\n",
       " </td>\n",
       " <td class=\"your-score ac fs14\">\n",
       " <div class=\"js-top-ranking-your-score-col di-ib al\"> <a class=\"\" href=\"https://myanimelist.net/login.php?error=login_required&amp;from=%2Ftopanime.php\"><i class=\"icon-score-star fa-solid fa-star mr4\"></i><span class=\"text score-label score-na\">N/A</span></a>\n",
       " </div>\n",
       " </td>\n",
       " <td class=\"status ac\"> <a class=\"btn-addEdit-large btn-anime-watch-status js-anime-watch-status notinmylist\" href=\"https://myanimelist.net/login.php?error=login_required&amp;from=%2Ftopanime.php\"><i class=\"fa-solid fa-square-plus-o mr4\"></i>Add to list</a>\n",
       " </td>\n",
       " </tr>,\n",
       " <tr class=\"ranking-list\">\n",
       " <td class=\"rank ac\" valign=\"top\">\n",
       " <span class=\"lightLink top-anime-rank-text rank1\">9</span>\n",
       " </td>\n",
       " <td class=\"title al va-t word-break\">\n",
       " <a class=\"hoverinfo_trigger fl-l ml12 mr8\" href=\"https://myanimelist.net/anime/39486/Gintama__The_Final\" id=\"#area39486\" rel=\"#info39486\">\n",
       " <img alt=\"Anime: Gintama: The Final\" border=\"0\" class=\"lazyload\" data-src=\"https://cdn.myanimelist.net/r/50x70/images/anime/1245/116760.jpg?s=8f52d6ff46ef1233eb9fcd542434221c\" data-srcset=\"https://cdn.myanimelist.net/r/50x70/images/anime/1245/116760.jpg?s=8f52d6ff46ef1233eb9fcd542434221c 1x, https://cdn.myanimelist.net/r/100x140/images/anime/1245/116760.jpg?s=8fc5f4b436ee45307a882948a5e768ac 2x\" height=\"70\" width=\"50\"/>\n",
       " </a>\n",
       " <div class=\"detail\"><div id=\"area39486\">\n",
       " <div class=\"hoverinfo\" id=\"info39486\" rel=\"a39486\"></div>\n",
       " </div>\n",
       " <div class=\"di-ib clearfix\"><h3 class=\"hoverinfo_trigger fl-l fs14 fw-b anime_ranking_h3\"><a href=\"https://myanimelist.net/anime/39486/Gintama__The_Final\" id=\"#area39486\" rel=\"#info39486\">Gintama: The Final</a></h3><div class=\"icon-watch2\"><a class=\"mal-icon ml8 ga-click\" href=\"https://myanimelist.net/anime/39486/Gintama__The_Final/video\" title=\"Watch Episode Video\"><i class=\"malicon malicon-movie-episode\"></i></a></div></div><br/><div class=\"information di-ib mt4\">\n",
       "         Movie (1 eps)<br/>\n",
       "         Jan 2021 - Jan 2021<br/>\n",
       "         134,175 members\n",
       "       </div></div>\n",
       " </td>\n",
       " <td class=\"score ac fs14\"><div class=\"js-top-ranking-score-col di-ib al\"><i class=\"icon-score-star fa-solid fa-star mr4 on\"></i><span class=\"text on score-label score-9\">9.04</span></div>\n",
       " </td>\n",
       " <td class=\"your-score ac fs14\">\n",
       " <div class=\"js-top-ranking-your-score-col di-ib al\"> <a class=\"\" href=\"https://myanimelist.net/login.php?error=login_required&amp;from=%2Ftopanime.php\"><i class=\"icon-score-star fa-solid fa-star mr4\"></i><span class=\"text score-label score-na\">N/A</span></a>\n",
       " </div>\n",
       " </td>\n",
       " <td class=\"status ac\"> <a class=\"btn-addEdit-large btn-anime-watch-status js-anime-watch-status notinmylist\" href=\"https://myanimelist.net/login.php?error=login_required&amp;from=%2Ftopanime.php\"><i class=\"fa-solid fa-square-plus-o mr4\"></i>Add to list</a>\n",
       " </td>\n",
       " </tr>,\n",
       " <tr class=\"ranking-list\">\n",
       " <td class=\"rank ac\" valign=\"top\">\n",
       " <span class=\"lightLink top-anime-rank-text rank2\">10</span>\n",
       " </td>\n",
       " <td class=\"title al va-t word-break\">\n",
       " <a class=\"hoverinfo_trigger fl-l ml12 mr8\" href=\"https://myanimelist.net/anime/11061/Hunter_x_Hunter_2011\" id=\"#area11061\" rel=\"#info11061\">\n",
       " <img alt=\"Anime: Hunter x Hunter (2011)\" border=\"0\" class=\"lazyload\" data-src=\"https://cdn.myanimelist.net/r/50x70/images/anime/1337/99013.jpg?s=1838e905a0aa3542a009fbcf78000701\" data-srcset=\"https://cdn.myanimelist.net/r/50x70/images/anime/1337/99013.jpg?s=1838e905a0aa3542a009fbcf78000701 1x, https://cdn.myanimelist.net/r/100x140/images/anime/1337/99013.jpg?s=9eb9cdcf5b9da3538432d014fd0aaa31 2x\" height=\"70\" width=\"50\"/>\n",
       " </a>\n",
       " <div class=\"detail\"><div id=\"area11061\">\n",
       " <div class=\"hoverinfo\" id=\"info11061\" rel=\"a11061\"></div>\n",
       " </div>\n",
       " <div class=\"di-ib clearfix\"><h3 class=\"hoverinfo_trigger fl-l fs14 fw-b anime_ranking_h3\"><a href=\"https://myanimelist.net/anime/11061/Hunter_x_Hunter_2011\" id=\"#area11061\" rel=\"#info11061\">Hunter x Hunter (2011)</a></h3><div class=\"icon-watch2\"><a class=\"mal-icon ml8 ga-click\" href=\"https://myanimelist.net/anime/11061/Hunter_x_Hunter_2011/video\" title=\"Watch Episode Video\"><i class=\"malicon malicon-movie-episode\"></i></a></div></div><br/><div class=\"information di-ib mt4\">\n",
       "         TV (148 eps)<br/>\n",
       "         Oct 2011 - Sep 2014<br/>\n",
       "         2,669,186 members\n",
       "       </div></div>\n",
       " </td>\n",
       " <td class=\"score ac fs14\"><div class=\"js-top-ranking-score-col di-ib al\"><i class=\"icon-score-star fa-solid fa-star mr4 on\"></i><span class=\"text on score-label score-9\">9.04</span></div>\n",
       " </td>\n",
       " <td class=\"your-score ac fs14\">\n",
       " <div class=\"js-top-ranking-your-score-col di-ib al\"> <a class=\"\" href=\"https://myanimelist.net/login.php?error=login_required&amp;from=%2Ftopanime.php\"><i class=\"icon-score-star fa-solid fa-star mr4\"></i><span class=\"text score-label score-na\">N/A</span></a>\n",
       " </div>\n",
       " </td>\n",
       " <td class=\"status ac\"> <a class=\"btn-addEdit-large btn-anime-watch-status js-anime-watch-status notinmylist\" href=\"https://myanimelist.net/login.php?error=login_required&amp;from=%2Ftopanime.php\"><i class=\"fa-solid fa-square-plus-o mr4\"></i>Add to list</a>\n",
       " </td>\n",
       " </tr>,\n",
       " <tr class=\"ranking-list\">\n",
       " <td class=\"rank ac\" valign=\"top\">\n",
       " <span class=\"lightLink top-anime-rank-text rank2\">11</span>\n",
       " </td>\n",
       " <td class=\"title al va-t word-break\">\n",
       " <a class=\"hoverinfo_trigger fl-l ml12 mr8\" href=\"https://myanimelist.net/anime/15417/Gintama__Enchousen\" id=\"#area15417\" rel=\"#info15417\">\n",
       " <img alt=\"Anime: Gintama&amp;#039;: Enchousen\" border=\"0\" class=\"lazyload\" data-src=\"https://cdn.myanimelist.net/r/50x70/images/anime/1452/123686.jpg?s=9691ed28cdfeb56ce6881faf2adbf01e\" data-srcset=\"https://cdn.myanimelist.net/r/50x70/images/anime/1452/123686.jpg?s=9691ed28cdfeb56ce6881faf2adbf01e 1x, https://cdn.myanimelist.net/r/100x140/images/anime/1452/123686.jpg?s=8c58b95cccbdac9b5ad4f15f4802baa9 2x\" height=\"70\" width=\"50\"/>\n",
       " </a>\n",
       " <div class=\"detail\"><div id=\"area15417\">\n",
       " <div class=\"hoverinfo\" id=\"info15417\" rel=\"a15417\"></div>\n",
       " </div>\n",
       " <div class=\"di-ib clearfix\"><h3 class=\"hoverinfo_trigger fl-l fs14 fw-b anime_ranking_h3\"><a href=\"https://myanimelist.net/anime/15417/Gintama__Enchousen\" id=\"#area15417\" rel=\"#info15417\">Gintama': Enchousen</a></h3><div class=\"icon-watch2\"><a class=\"mal-icon ml8 ga-click\" href=\"https://myanimelist.net/anime/15417/Gintama__Enchousen/video\" title=\"Watch Episode Video\"><i class=\"malicon malicon-movie-episode\"></i></a></div></div><br/><div class=\"information di-ib mt4\">\n",
       "         TV (13 eps)<br/>\n",
       "         Oct 2012 - Mar 2013<br/>\n",
       "         310,470 members\n",
       "       </div></div>\n",
       " </td>\n",
       " <td class=\"score ac fs14\"><div class=\"js-top-ranking-score-col di-ib al\"><i class=\"icon-score-star fa-solid fa-star mr4 on\"></i><span class=\"text on score-label score-9\">9.03</span></div>\n",
       " </td>\n",
       " <td class=\"your-score ac fs14\">\n",
       " <div class=\"js-top-ranking-your-score-col di-ib al\"> <a class=\"\" href=\"https://myanimelist.net/login.php?error=login_required&amp;from=%2Ftopanime.php\"><i class=\"icon-score-star fa-solid fa-star mr4\"></i><span class=\"text score-label score-na\">N/A</span></a>\n",
       " </div>\n",
       " </td>\n",
       " <td class=\"status ac\"> <a class=\"btn-addEdit-large btn-anime-watch-status js-anime-watch-status notinmylist\" href=\"https://myanimelist.net/login.php?error=login_required&amp;from=%2Ftopanime.php\"><i class=\"fa-solid fa-square-plus-o mr4\"></i>Add to list</a>\n",
       " </td>\n",
       " </tr>,\n",
       " <tr class=\"ranking-list\">\n",
       " <td class=\"rank ac\" valign=\"top\">\n",
       " <span class=\"lightLink top-anime-rank-text rank2\">12</span>\n",
       " </td>\n",
       " <td class=\"title al va-t word-break\">\n",
       " <a class=\"hoverinfo_trigger fl-l ml12 mr8\" href=\"https://myanimelist.net/anime/820/Ginga_Eiyuu_Densetsu\" id=\"#area820\" rel=\"#info820\">\n",
       " <img alt=\"Anime: Ginga Eiyuu Densetsu\" border=\"0\" class=\"lazyload\" data-src=\"https://cdn.myanimelist.net/r/50x70/images/anime/13/13225.jpg?s=385cedad342e284c5765833ab1cddc1c\" data-srcset=\"https://cdn.myanimelist.net/r/50x70/images/anime/13/13225.jpg?s=385cedad342e284c5765833ab1cddc1c 1x, https://cdn.myanimelist.net/r/100x140/images/anime/13/13225.jpg?s=8672a3462de209d1b78348d01df76d7b 2x\" height=\"70\" width=\"50\"/>\n",
       " </a>\n",
       " <div class=\"detail\"><div id=\"area820\">\n",
       " <div class=\"hoverinfo\" id=\"info820\" rel=\"a820\"></div>\n",
       " </div>\n",
       " <div class=\"di-ib clearfix\"><h3 class=\"hoverinfo_trigger fl-l fs14 fw-b anime_ranking_h3\"><a href=\"https://myanimelist.net/anime/820/Ginga_Eiyuu_Densetsu\" id=\"#area820\" rel=\"#info820\">Ginga Eiyuu Densetsu</a></h3><div class=\"icon-watch-pv2\"><a class=\"mal-icon ml8 ga-click\" href=\"https://myanimelist.net/anime/820/Ginga_Eiyuu_Densetsu/video\" title=\"Watch Promotional Video\"><i class=\"malicon malicon-movie-pv\"></i></a></div></div><br/><div class=\"information di-ib mt4\">\n",
       "         OVA (110 eps)<br/>\n",
       "         Jan 1988 - Mar 1997<br/>\n",
       "         306,464 members\n",
       "       </div></div>\n",
       " </td>\n",
       " <td class=\"score ac fs14\"><div class=\"js-top-ranking-score-col di-ib al\"><i class=\"icon-score-star fa-solid fa-star mr4 on\"></i><span class=\"text on score-label score-9\">9.02</span></div>\n",
       " </td>\n",
       " <td class=\"your-score ac fs14\">\n",
       " <div class=\"js-top-ranking-your-score-col di-ib al\"> <a class=\"\" href=\"https://myanimelist.net/login.php?error=login_required&amp;from=%2Ftopanime.php\"><i class=\"icon-score-star fa-solid fa-star mr4\"></i><span class=\"text score-label score-na\">N/A</span></a>\n",
       " </div>\n",
       " </td>\n",
       " <td class=\"status ac\"> <a class=\"btn-addEdit-large btn-anime-watch-status js-anime-watch-status notinmylist\" href=\"https://myanimelist.net/login.php?error=login_required&amp;from=%2Ftopanime.php\"><i class=\"fa-solid fa-square-plus-o mr4\"></i>Add to list</a>\n",
       " </td>\n",
       " </tr>,\n",
       " <tr class=\"ranking-list\">\n",
       " <td class=\"rank ac\" valign=\"top\">\n",
       " <span class=\"lightLink top-anime-rank-text rank2\">13</span>\n",
       " </td>\n",
       " <td class=\"title al va-t word-break\">\n",
       " <a class=\"hoverinfo_trigger fl-l ml12 mr8\" href=\"https://myanimelist.net/anime/42938/Fruits_Basket__The_Final\" id=\"#area42938\" rel=\"#info42938\">\n",
       " <img alt=\"Anime: Fruits Basket: The Final\" border=\"0\" class=\"lazyload\" data-src=\"https://cdn.myanimelist.net/r/50x70/images/anime/1085/114792.jpg?s=bb4303c0804c9d5ca9fcb30b8f8e6783\" data-srcset=\"https://cdn.myanimelist.net/r/50x70/images/anime/1085/114792.jpg?s=bb4303c0804c9d5ca9fcb30b8f8e6783 1x, https://cdn.myanimelist.net/r/100x140/images/anime/1085/114792.jpg?s=5c97b2781732adc9ad6711abcb6f2f1b 2x\" height=\"70\" width=\"50\"/>\n",
       " </a>\n",
       " <div class=\"detail\"><div id=\"area42938\">\n",
       " <div class=\"hoverinfo\" id=\"info42938\" rel=\"a42938\"></div>\n",
       " </div>\n",
       " <div class=\"di-ib clearfix\"><h3 class=\"hoverinfo_trigger fl-l fs14 fw-b anime_ranking_h3\"><a href=\"https://myanimelist.net/anime/42938/Fruits_Basket__The_Final\" id=\"#area42938\" rel=\"#info42938\">Fruits Basket: The Final</a></h3><div class=\"icon-watch2\"><a class=\"mal-icon ml8 ga-click\" href=\"https://myanimelist.net/anime/42938/Fruits_Basket__The_Final/video\" title=\"Watch Episode Video\"><i class=\"malicon malicon-movie-episode\"></i></a></div></div><br/><div class=\"information di-ib mt4\">\n",
       "         TV (13 eps)<br/>\n",
       "         Apr 2021 - Jun 2021<br/>\n",
       "         434,616 members\n",
       "       </div></div>\n",
       " </td>\n",
       " <td class=\"score ac fs14\"><div class=\"js-top-ranking-score-col di-ib al\"><i class=\"icon-score-star fa-solid fa-star mr4 on\"></i><span class=\"text on score-label score-9\">9.00</span></div>\n",
       " </td>\n",
       " <td class=\"your-score ac fs14\">\n",
       " <div class=\"js-top-ranking-your-score-col di-ib al\"> <a class=\"\" href=\"https://myanimelist.net/login.php?error=login_required&amp;from=%2Ftopanime.php\"><i class=\"icon-score-star fa-solid fa-star mr4\"></i><span class=\"text score-label score-na\">N/A</span></a>\n",
       " </div>\n",
       " </td>\n",
       " <td class=\"status ac\"> <a class=\"btn-addEdit-large btn-anime-watch-status js-anime-watch-status notinmylist\" href=\"https://myanimelist.net/login.php?error=login_required&amp;from=%2Ftopanime.php\"><i class=\"fa-solid fa-square-plus-o mr4\"></i>Add to list</a>\n",
       " </td>\n",
       " </tr>,\n",
       " <tr class=\"ranking-list\">\n",
       " <td class=\"rank ac\" valign=\"top\">\n",
       " <span class=\"lightLink top-anime-rank-text rank2\">14</span>\n",
       " </td>\n",
       " <td class=\"title al va-t word-break\">\n",
       " <a class=\"hoverinfo_trigger fl-l ml12 mr8\" href=\"https://myanimelist.net/anime/34096/Gintama\" id=\"#area34096\" rel=\"#info34096\">\n",
       " <img alt=\"Anime: Gintama.\" border=\"0\" class=\"lazyload\" data-src=\"https://cdn.myanimelist.net/r/50x70/images/anime/3/83528.jpg?s=948f092dd55fb2572f38a0e21f03b642\" data-srcset=\"https://cdn.myanimelist.net/r/50x70/images/anime/3/83528.jpg?s=948f092dd55fb2572f38a0e21f03b642 1x, https://cdn.myanimelist.net/r/100x140/images/anime/3/83528.jpg?s=c5709cac379ebb2033052a3357967397 2x\" height=\"70\" width=\"50\"/>\n",
       " </a>\n",
       " <div class=\"detail\"><div id=\"area34096\">\n",
       " <div class=\"hoverinfo\" id=\"info34096\" rel=\"a34096\"></div>\n",
       " </div>\n",
       " <div class=\"di-ib clearfix\"><h3 class=\"hoverinfo_trigger fl-l fs14 fw-b anime_ranking_h3\"><a href=\"https://myanimelist.net/anime/34096/Gintama\" id=\"#area34096\" rel=\"#info34096\">Gintama.</a></h3><div class=\"icon-watch2\"><a class=\"mal-icon ml8 ga-click\" href=\"https://myanimelist.net/anime/34096/Gintama/video\" title=\"Watch Episode Video\"><i class=\"malicon malicon-movie-episode\"></i></a></div></div><br/><div class=\"information di-ib mt4\">\n",
       "         TV (12 eps)<br/>\n",
       "         Jan 2017 - Mar 2017<br/>\n",
       "         299,124 members\n",
       "       </div></div>\n",
       " </td>\n",
       " <td class=\"score ac fs14\"><div class=\"js-top-ranking-score-col di-ib al\"><i class=\"icon-score-star fa-solid fa-star mr4 on\"></i><span class=\"text on score-label score-8\">8.98</span></div>\n",
       " </td>\n",
       " <td class=\"your-score ac fs14\">\n",
       " <div class=\"js-top-ranking-your-score-col di-ib al\"> <a class=\"\" href=\"https://myanimelist.net/login.php?error=login_required&amp;from=%2Ftopanime.php\"><i class=\"icon-score-star fa-solid fa-star mr4\"></i><span class=\"text score-label score-na\">N/A</span></a>\n",
       " </div>\n",
       " </td>\n",
       " <td class=\"status ac\"> <a class=\"btn-addEdit-large btn-anime-watch-status js-anime-watch-status notinmylist\" href=\"https://myanimelist.net/login.php?error=login_required&amp;from=%2Ftopanime.php\"><i class=\"fa-solid fa-square-plus-o mr4\"></i>Add to list</a>\n",
       " </td>\n",
       " </tr>,\n",
       " <tr class=\"ranking-list\">\n",
       " <td class=\"rank ac\" valign=\"top\">\n",
       " <span class=\"lightLink top-anime-rank-text rank2\">15</span>\n",
       " </td>\n",
       " <td class=\"title al va-t word-break\">\n",
       " <a class=\"hoverinfo_trigger fl-l ml12 mr8\" href=\"https://myanimelist.net/anime/918/Gintama\" id=\"#area918\" rel=\"#info918\">\n",
       " <img alt=\"Anime: Gintama\" border=\"0\" class=\"lazyload\" data-src=\"https://cdn.myanimelist.net/r/50x70/images/anime/10/73274.jpg?s=ed42453c10ba12b03b1600d02725a174\" data-srcset=\"https://cdn.myanimelist.net/r/50x70/images/anime/10/73274.jpg?s=ed42453c10ba12b03b1600d02725a174 1x, https://cdn.myanimelist.net/r/100x140/images/anime/10/73274.jpg?s=bfda4724d048534799329614778234c8 2x\" height=\"70\" width=\"50\"/>\n",
       " </a>\n",
       " <div class=\"detail\"><div id=\"area918\">\n",
       " <div class=\"hoverinfo\" id=\"info918\" rel=\"a918\"></div>\n",
       " </div>\n",
       " <div class=\"di-ib clearfix\"><h3 class=\"hoverinfo_trigger fl-l fs14 fw-b anime_ranking_h3\"><a href=\"https://myanimelist.net/anime/918/Gintama\" id=\"#area918\" rel=\"#info918\">Gintama</a></h3><div class=\"icon-watch2\"><a class=\"mal-icon ml8 ga-click\" href=\"https://myanimelist.net/anime/918/Gintama/video\" title=\"Watch Episode Video\"><i class=\"malicon malicon-movie-episode\"></i></a></div></div><br/><div class=\"information di-ib mt4\">\n",
       "         TV (201 eps)<br/>\n",
       "         Apr 2006 - Mar 2010<br/>\n",
       "         1,026,339 members\n",
       "       </div></div>\n",
       " </td>\n",
       " <td class=\"score ac fs14\"><div class=\"js-top-ranking-score-col di-ib al\"><i class=\"icon-score-star fa-solid fa-star mr4 on\"></i><span class=\"text on score-label score-8\">8.94</span></div>\n",
       " </td>\n",
       " <td class=\"your-score ac fs14\">\n",
       " <div class=\"js-top-ranking-your-score-col di-ib al\"> <a class=\"\" href=\"https://myanimelist.net/login.php?error=login_required&amp;from=%2Ftopanime.php\"><i class=\"icon-score-star fa-solid fa-star mr4\"></i><span class=\"text score-label score-na\">N/A</span></a>\n",
       " </div>\n",
       " </td>\n",
       " <td class=\"status ac\"> <a class=\"btn-addEdit-large btn-anime-watch-status js-anime-watch-status notinmylist\" href=\"https://myanimelist.net/login.php?error=login_required&amp;from=%2Ftopanime.php\"><i class=\"fa-solid fa-square-plus-o mr4\"></i>Add to list</a>\n",
       " </td>\n",
       " </tr>,\n",
       " <tr class=\"ranking-list\">\n",
       " <td class=\"rank ac\" valign=\"top\">\n",
       " <span class=\"lightLink top-anime-rank-text rank2\">16</span>\n",
       " </td>\n",
       " <td class=\"title al va-t word-break\">\n",
       " <a class=\"hoverinfo_trigger fl-l ml12 mr8\" href=\"https://myanimelist.net/anime/28851/Koe_no_Katachi\" id=\"#area28851\" rel=\"#info28851\">\n",
       " <img alt=\"Anime: Koe no Katachi\" border=\"0\" class=\"lazyload\" data-src=\"https://cdn.myanimelist.net/r/50x70/images/anime/1122/96435.jpg?s=56d2750d600af93a5d326daec7748cae\" data-srcset=\"https://cdn.myanimelist.net/r/50x70/images/anime/1122/96435.jpg?s=56d2750d600af93a5d326daec7748cae 1x, https://cdn.myanimelist.net/r/100x140/images/anime/1122/96435.jpg?s=ba7b364bdcb787802fa6be905e944d77 2x\" height=\"70\" width=\"50\"/>\n",
       " </a>\n",
       " <div class=\"detail\"><div id=\"area28851\">\n",
       " <div class=\"hoverinfo\" id=\"info28851\" rel=\"a28851\"></div>\n",
       " </div>\n",
       " <div class=\"di-ib clearfix\"><h3 class=\"hoverinfo_trigger fl-l fs14 fw-b anime_ranking_h3\"><a href=\"https://myanimelist.net/anime/28851/Koe_no_Katachi\" id=\"#area28851\" rel=\"#info28851\">Koe no Katachi</a></h3><div class=\"icon-watch-pv2\"><a class=\"mal-icon ml8 ga-click\" href=\"https://myanimelist.net/anime/28851/Koe_no_Katachi/video\" title=\"Watch Promotional Video\"><i class=\"malicon malicon-movie-pv\"></i></a></div></div><br/><div class=\"information di-ib mt4\">\n",
       "         Movie (1 eps)<br/>\n",
       "         Sep 2016 - Sep 2016<br/>\n",
       "         2,203,886 members\n",
       "       </div></div>\n",
       " </td>\n",
       " <td class=\"score ac fs14\"><div class=\"js-top-ranking-score-col di-ib al\"><i class=\"icon-score-star fa-solid fa-star mr4 on\"></i><span class=\"text on score-label score-8\">8.94</span></div>\n",
       " </td>\n",
       " <td class=\"your-score ac fs14\">\n",
       " <div class=\"js-top-ranking-your-score-col di-ib al\"> <a class=\"\" href=\"https://myanimelist.net/login.php?error=login_required&amp;from=%2Ftopanime.php\"><i class=\"icon-score-star fa-solid fa-star mr4\"></i><span class=\"text score-label score-na\">N/A</span></a>\n",
       " </div>\n",
       " </td>\n",
       " <td class=\"status ac\"> <a class=\"btn-addEdit-large btn-anime-watch-status js-anime-watch-status notinmylist\" href=\"https://myanimelist.net/login.php?error=login_required&amp;from=%2Ftopanime.php\"><i class=\"fa-solid fa-square-plus-o mr4\"></i>Add to list</a>\n",
       " </td>\n",
       " </tr>,\n",
       " <tr class=\"ranking-list\">\n",
       " <td class=\"rank ac\" valign=\"top\">\n",
       " <span class=\"lightLink top-anime-rank-text rank2\">17</span>\n",
       " </td>\n",
       " <td class=\"title al va-t word-break\">\n",
       " <a class=\"hoverinfo_trigger fl-l ml12 mr8\" href=\"https://myanimelist.net/anime/35180/3-gatsu_no_Lion_2nd_Season\" id=\"#area35180\" rel=\"#info35180\">\n",
       " <img alt=\"Anime: 3-gatsu no Lion 2nd Season\" border=\"0\" class=\"lazyload\" data-src=\"https://cdn.myanimelist.net/r/50x70/images/anime/3/88469.jpg?s=becfbf556902bc3501e06a07354b9d76\" data-srcset=\"https://cdn.myanimelist.net/r/50x70/images/anime/3/88469.jpg?s=becfbf556902bc3501e06a07354b9d76 1x, https://cdn.myanimelist.net/r/100x140/images/anime/3/88469.jpg?s=4e26ac5f78b5501d6969e9eb528247a9 2x\" height=\"70\" width=\"50\"/>\n",
       " </a>\n",
       " <div class=\"detail\"><div id=\"area35180\">\n",
       " <div class=\"hoverinfo\" id=\"info35180\" rel=\"a35180\"></div>\n",
       " </div>\n",
       " <div class=\"di-ib clearfix\"><h3 class=\"hoverinfo_trigger fl-l fs14 fw-b anime_ranking_h3\"><a href=\"https://myanimelist.net/anime/35180/3-gatsu_no_Lion_2nd_Season\" id=\"#area35180\" rel=\"#info35180\">3-gatsu no Lion 2nd Season</a></h3><div class=\"icon-watch2\"><a class=\"mal-icon ml8 ga-click\" href=\"https://myanimelist.net/anime/35180/3-gatsu_no_Lion_2nd_Season/video\" title=\"Watch Episode Video\"><i class=\"malicon malicon-movie-episode\"></i></a></div></div><br/><div class=\"information di-ib mt4\">\n",
       "         TV (22 eps)<br/>\n",
       "         Oct 2017 - Mar 2018<br/>\n",
       "         385,054 members\n",
       "       </div></div>\n",
       " </td>\n",
       " <td class=\"score ac fs14\"><div class=\"js-top-ranking-score-col di-ib al\"><i class=\"icon-score-star fa-solid fa-star mr4 on\"></i><span class=\"text on score-label score-8\">8.93</span></div>\n",
       " </td>\n",
       " <td class=\"your-score ac fs14\">\n",
       " <div class=\"js-top-ranking-your-score-col di-ib al\"> <a class=\"\" href=\"https://myanimelist.net/login.php?error=login_required&amp;from=%2Ftopanime.php\"><i class=\"icon-score-star fa-solid fa-star mr4\"></i><span class=\"text score-label score-na\">N/A</span></a>\n",
       " </div>\n",
       " </td>\n",
       " <td class=\"status ac\"> <a class=\"btn-addEdit-large btn-anime-watch-status js-anime-watch-status notinmylist\" href=\"https://myanimelist.net/login.php?error=login_required&amp;from=%2Ftopanime.php\"><i class=\"fa-solid fa-square-plus-o mr4\"></i>Add to list</a>\n",
       " </td>\n",
       " </tr>,\n",
       " <tr class=\"ranking-list\">\n",
       " <td class=\"rank ac\" valign=\"top\">\n",
       " <span class=\"lightLink top-anime-rank-text rank2\">18</span>\n",
       " </td>\n",
       " <td class=\"title al va-t word-break\">\n",
       " <a class=\"hoverinfo_trigger fl-l ml12 mr8\" href=\"https://myanimelist.net/anime/4181/Clannad__After_Story\" id=\"#area4181\" rel=\"#info4181\">\n",
       " <img alt=\"Anime: Clannad: After Story\" border=\"0\" class=\"lazyload\" data-src=\"https://cdn.myanimelist.net/r/50x70/images/anime/1299/110774.jpg?s=fcd9db2cfd72c10a2278f483173cfff9\" data-srcset=\"https://cdn.myanimelist.net/r/50x70/images/anime/1299/110774.jpg?s=fcd9db2cfd72c10a2278f483173cfff9 1x, https://cdn.myanimelist.net/r/100x140/images/anime/1299/110774.jpg?s=0bee2596cef8c43a9879b9d26089f868 2x\" height=\"70\" width=\"50\"/>\n",
       " </a>\n",
       " <div class=\"detail\"><div id=\"area4181\">\n",
       " <div class=\"hoverinfo\" id=\"info4181\" rel=\"a4181\"></div>\n",
       " </div>\n",
       " <div class=\"di-ib clearfix\"><h3 class=\"hoverinfo_trigger fl-l fs14 fw-b anime_ranking_h3\"><a href=\"https://myanimelist.net/anime/4181/Clannad__After_Story\" id=\"#area4181\" rel=\"#info4181\">Clannad: After Story</a></h3><div class=\"icon-watch2\"><a class=\"mal-icon ml8 ga-click\" href=\"https://myanimelist.net/anime/4181/Clannad__After_Story/video\" title=\"Watch Episode Video\"><i class=\"malicon malicon-movie-episode\"></i></a></div></div><br/><div class=\"information di-ib mt4\">\n",
       "         TV (24 eps)<br/>\n",
       "         Oct 2008 - Mar 2009<br/>\n",
       "         1,153,079 members\n",
       "       </div></div>\n",
       " </td>\n",
       " <td class=\"score ac fs14\"><div class=\"js-top-ranking-score-col di-ib al\"><i class=\"icon-score-star fa-solid fa-star mr4 on\"></i><span class=\"text on score-label score-8\">8.93</span></div>\n",
       " </td>\n",
       " <td class=\"your-score ac fs14\">\n",
       " <div class=\"js-top-ranking-your-score-col di-ib al\"> <a class=\"\" href=\"https://myanimelist.net/login.php?error=login_required&amp;from=%2Ftopanime.php\"><i class=\"icon-score-star fa-solid fa-star mr4\"></i><span class=\"text score-label score-na\">N/A</span></a>\n",
       " </div>\n",
       " </td>\n",
       " <td class=\"status ac\"> <a class=\"btn-addEdit-large btn-anime-watch-status js-anime-watch-status notinmylist\" href=\"https://myanimelist.net/login.php?error=login_required&amp;from=%2Ftopanime.php\"><i class=\"fa-solid fa-square-plus-o mr4\"></i>Add to list</a>\n",
       " </td>\n",
       " </tr>,\n",
       " <tr class=\"ranking-list\">\n",
       " <td class=\"rank ac\" valign=\"top\">\n",
       " <span class=\"lightLink top-anime-rank-text rank2\">19</span>\n",
       " </td>\n",
       " <td class=\"title al va-t word-break\">\n",
       " <a class=\"hoverinfo_trigger fl-l ml12 mr8\" href=\"https://myanimelist.net/anime/2904/Code_Geass__Hangyaku_no_Lelouch_R2\" id=\"#area2904\" rel=\"#info2904\">\n",
       " <img alt=\"Anime: Code Geass: Hangyaku no Lelouch R2\" border=\"0\" class=\"lazyload\" data-src=\"https://cdn.myanimelist.net/r/50x70/images/anime/1088/135089.jpg?s=8228f599281b29c489dfc5a0a5761d0f\" data-srcset=\"https://cdn.myanimelist.net/r/50x70/images/anime/1088/135089.jpg?s=8228f599281b29c489dfc5a0a5761d0f 1x, https://cdn.myanimelist.net/r/100x140/images/anime/1088/135089.jpg?s=c9d93439e18ea1111b4bc8645b108a94 2x\" height=\"70\" width=\"50\"/>\n",
       " </a>\n",
       " <div class=\"detail\"><div id=\"area2904\">\n",
       " <div class=\"hoverinfo\" id=\"info2904\" rel=\"a2904\"></div>\n",
       " </div>\n",
       " <div class=\"di-ib clearfix\"><h3 class=\"hoverinfo_trigger fl-l fs14 fw-b anime_ranking_h3\"><a href=\"https://myanimelist.net/anime/2904/Code_Geass__Hangyaku_no_Lelouch_R2\" id=\"#area2904\" rel=\"#info2904\">Code Geass: Hangyaku no Lelouch R2</a></h3><div class=\"icon-watch2\"><a class=\"mal-icon ml8 ga-click\" href=\"https://myanimelist.net/anime/2904/Code_Geass__Hangyaku_no_Lelouch_R2/video\" title=\"Watch Episode Video\"><i class=\"malicon malicon-movie-episode\"></i></a></div></div><br/><div class=\"information di-ib mt4\">\n",
       "         TV (25 eps)<br/>\n",
       "         Apr 2008 - Sep 2008<br/>\n",
       "         1,705,680 members\n",
       "       </div></div>\n",
       " </td>\n",
       " <td class=\"score ac fs14\"><div class=\"js-top-ranking-score-col di-ib al\"><i class=\"icon-score-star fa-solid fa-star mr4 on\"></i><span class=\"text on score-label score-8\">8.91</span></div>\n",
       " </td>\n",
       " <td class=\"your-score ac fs14\">\n",
       " <div class=\"js-top-ranking-your-score-col di-ib al\"> <a class=\"\" href=\"https://myanimelist.net/login.php?error=login_required&amp;from=%2Ftopanime.php\"><i class=\"icon-score-star fa-solid fa-star mr4\"></i><span class=\"text score-label score-na\">N/A</span></a>\n",
       " </div>\n",
       " </td>\n",
       " <td class=\"status ac\"> <a class=\"btn-addEdit-large btn-anime-watch-status js-anime-watch-status notinmylist\" href=\"https://myanimelist.net/login.php?error=login_required&amp;from=%2Ftopanime.php\"><i class=\"fa-solid fa-square-plus-o mr4\"></i>Add to list</a>\n",
       " </td>\n",
       " </tr>,\n",
       " <tr class=\"ranking-list\">\n",
       " <td class=\"rank ac\" valign=\"top\">\n",
       " <span class=\"lightLink top-anime-rank-text rank2\">20</span>\n",
       " </td>\n",
       " <td class=\"title al va-t word-break\">\n",
       " <a class=\"hoverinfo_trigger fl-l ml12 mr8\" href=\"https://myanimelist.net/anime/15335/Gintama_Movie_2__Kanketsu-hen_-_Yorozuya_yo_Eien_Nare\" id=\"#area15335\" rel=\"#info15335\">\n",
       " <img alt=\"Anime: Gintama Movie 2: Kanketsu-hen - Yorozuya yo Eien Nare\" border=\"0\" class=\"lazyload\" data-src=\"https://cdn.myanimelist.net/r/50x70/images/anime/10/51723.jpg?s=27cd24446486572fb64c42a689d38902\" data-srcset=\"https://cdn.myanimelist.net/r/50x70/images/anime/10/51723.jpg?s=27cd24446486572fb64c42a689d38902 1x, https://cdn.myanimelist.net/r/100x140/images/anime/10/51723.jpg?s=bb3d98c8accf4dc8510356c856646b10 2x\" height=\"70\" width=\"50\"/>\n",
       " </a>\n",
       " <div class=\"detail\"><div id=\"area15335\">\n",
       " <div class=\"hoverinfo\" id=\"info15335\" rel=\"a15335\"></div>\n",
       " </div>\n",
       " <div class=\"di-ib clearfix\"><h3 class=\"hoverinfo_trigger fl-l fs14 fw-b anime_ranking_h3\"><a href=\"https://myanimelist.net/anime/15335/Gintama_Movie_2__Kanketsu-hen_-_Yorozuya_yo_Eien_Nare\" id=\"#area15335\" rel=\"#info15335\">Gintama Movie 2: Kanketsu-hen - Yorozuya yo Eien Nare</a></h3><div class=\"icon-watch-pv2\"><a class=\"mal-icon ml8 ga-click\" href=\"https://myanimelist.net/anime/15335/Gintama_Movie_2__Kanketsu-hen_-_Yorozuya_yo_Eien_Nare/video\" title=\"Watch Promotional Video\"><i class=\"malicon malicon-movie-pv\"></i></a></div></div><br/><div class=\"information di-ib mt4\">\n",
       "         Movie (1 eps)<br/>\n",
       "         Jul 2013 - Jul 2013<br/>\n",
       "         230,302 members\n",
       "       </div></div>\n",
       " </td>\n",
       " <td class=\"score ac fs14\"><div class=\"js-top-ranking-score-col di-ib al\"><i class=\"icon-score-star fa-solid fa-star mr4 on\"></i><span class=\"text on score-label score-8\">8.91</span></div>\n",
       " </td>\n",
       " <td class=\"your-score ac fs14\">\n",
       " <div class=\"js-top-ranking-your-score-col di-ib al\"> <a class=\"\" href=\"https://myanimelist.net/login.php?error=login_required&amp;from=%2Ftopanime.php\"><i class=\"icon-score-star fa-solid fa-star mr4\"></i><span class=\"text score-label score-na\">N/A</span></a>\n",
       " </div>\n",
       " </td>\n",
       " <td class=\"status ac\"> <a class=\"btn-addEdit-large btn-anime-watch-status js-anime-watch-status notinmylist\" href=\"https://myanimelist.net/login.php?error=login_required&amp;from=%2Ftopanime.php\"><i class=\"fa-solid fa-square-plus-o mr4\"></i>Add to list</a>\n",
       " </td>\n",
       " </tr>,\n",
       " <tr class=\"ranking-list\">\n",
       " <td class=\"rank ac\" valign=\"top\">\n",
       " <span class=\"lightLink top-anime-rank-text rank2\">21</span>\n",
       " </td>\n",
       " <td class=\"title al va-t word-break\">\n",
       " <a class=\"hoverinfo_trigger fl-l ml12 mr8\" href=\"https://myanimelist.net/anime/37987/Violet_Evergarden_Movie\" id=\"#area37987\" rel=\"#info37987\">\n",
       " <img alt=\"Anime: Violet Evergarden Movie\" border=\"0\" class=\"lazyload\" data-src=\"https://cdn.myanimelist.net/r/50x70/images/anime/1825/110716.jpg?s=3ad8359182d0b47905f28d0a68683171\" data-srcset=\"https://cdn.myanimelist.net/r/50x70/images/anime/1825/110716.jpg?s=3ad8359182d0b47905f28d0a68683171 1x, https://cdn.myanimelist.net/r/100x140/images/anime/1825/110716.jpg?s=38d96ccb027cd045ccabfd4e03f64841 2x\" height=\"70\" width=\"50\"/>\n",
       " </a>\n",
       " <div class=\"detail\"><div id=\"area37987\">\n",
       " <div class=\"hoverinfo\" id=\"info37987\" rel=\"a37987\"></div>\n",
       " </div>\n",
       " <div class=\"di-ib clearfix\"><h3 class=\"hoverinfo_trigger fl-l fs14 fw-b anime_ranking_h3\"><a href=\"https://myanimelist.net/anime/37987/Violet_Evergarden_Movie\" id=\"#area37987\" rel=\"#info37987\">Violet Evergarden Movie</a></h3><div class=\"icon-watch-pv2\"><a class=\"mal-icon ml8 ga-click\" href=\"https://myanimelist.net/anime/37987/Violet_Evergarden_Movie/video\" title=\"Watch Promotional Video\"><i class=\"malicon malicon-movie-pv\"></i></a></div></div><br/><div class=\"information di-ib mt4\">\n",
       "         Movie (1 eps)<br/>\n",
       "         Sep 2020 - Sep 2020<br/>\n",
       "         552,399 members\n",
       "       </div></div>\n",
       " </td>\n",
       " <td class=\"score ac fs14\"><div class=\"js-top-ranking-score-col di-ib al\"><i class=\"icon-score-star fa-solid fa-star mr4 on\"></i><span class=\"text on score-label score-8\">8.90</span></div>\n",
       " </td>\n",
       " <td class=\"your-score ac fs14\">\n",
       " <div class=\"js-top-ranking-your-score-col di-ib al\"> <a class=\"\" href=\"https://myanimelist.net/login.php?error=login_required&amp;from=%2Ftopanime.php\"><i class=\"icon-score-star fa-solid fa-star mr4\"></i><span class=\"text score-label score-na\">N/A</span></a>\n",
       " </div>\n",
       " </td>\n",
       " <td class=\"status ac\"> <a class=\"btn-addEdit-large btn-anime-watch-status js-anime-watch-status notinmylist\" href=\"https://myanimelist.net/login.php?error=login_required&amp;from=%2Ftopanime.php\"><i class=\"fa-solid fa-square-plus-o mr4\"></i>Add to list</a>\n",
       " </td>\n",
       " </tr>,\n",
       " <tr class=\"ranking-list\">\n",
       " <td class=\"rank ac\" valign=\"top\">\n",
       " <span class=\"lightLink top-anime-rank-text rank2\">22</span>\n",
       " </td>\n",
       " <td class=\"title al va-t word-break\">\n",
       " <a class=\"hoverinfo_trigger fl-l ml12 mr8\" href=\"https://myanimelist.net/anime/35247/Owarimonogatari_2nd_Season\" id=\"#area35247\" rel=\"#info35247\">\n",
       " <img alt=\"Anime: Owarimonogatari 2nd Season\" border=\"0\" class=\"lazyload\" data-src=\"https://cdn.myanimelist.net/r/50x70/images/anime/6/87322.jpg?s=3e60507a4b6016d83e7433aa4cb7853e\" data-srcset=\"https://cdn.myanimelist.net/r/50x70/images/anime/6/87322.jpg?s=3e60507a4b6016d83e7433aa4cb7853e 1x, https://cdn.myanimelist.net/r/100x140/images/anime/6/87322.jpg?s=5d0ef74fd5c7e44a1e695e85d0b86331 2x\" height=\"70\" width=\"50\"/>\n",
       " </a>\n",
       " <div class=\"detail\"><div id=\"area35247\">\n",
       " <div class=\"hoverinfo\" id=\"info35247\" rel=\"a35247\"></div>\n",
       " </div>\n",
       " <div class=\"di-ib clearfix\"><h3 class=\"hoverinfo_trigger fl-l fs14 fw-b anime_ranking_h3\"><a href=\"https://myanimelist.net/anime/35247/Owarimonogatari_2nd_Season\" id=\"#area35247\" rel=\"#info35247\">Owarimonogatari 2nd Season</a></h3><div class=\"icon-watch-pv2\"><a class=\"mal-icon ml8 ga-click\" href=\"https://myanimelist.net/anime/35247/Owarimonogatari_2nd_Season/video\" title=\"Watch Promotional Video\"><i class=\"malicon malicon-movie-pv\"></i></a></div></div><br/><div class=\"information di-ib mt4\">\n",
       "         TV (7 eps)<br/>\n",
       "         Aug 2017 - Aug 2017<br/>\n",
       "         381,877 members\n",
       "       </div></div>\n",
       " </td>\n",
       " <td class=\"score ac fs14\"><div class=\"js-top-ranking-score-col di-ib al\"><i class=\"icon-score-star fa-solid fa-star mr4 on\"></i><span class=\"text on score-label score-8\">8.88</span></div>\n",
       " </td>\n",
       " <td class=\"your-score ac fs14\">\n",
       " <div class=\"js-top-ranking-your-score-col di-ib al\"> <a class=\"\" href=\"https://myanimelist.net/login.php?error=login_required&amp;from=%2Ftopanime.php\"><i class=\"icon-score-star fa-solid fa-star mr4\"></i><span class=\"text score-label score-na\">N/A</span></a>\n",
       " </div>\n",
       " </td>\n",
       " <td class=\"status ac\"> <a class=\"btn-addEdit-large btn-anime-watch-status js-anime-watch-status notinmylist\" href=\"https://myanimelist.net/login.php?error=login_required&amp;from=%2Ftopanime.php\"><i class=\"fa-solid fa-square-plus-o mr4\"></i>Add to list</a>\n",
       " </td>\n",
       " </tr>,\n",
       " <tr class=\"ranking-list\">\n",
       " <td class=\"rank ac\" valign=\"top\">\n",
       " <span class=\"lightLink top-anime-rank-text rank2\">23</span>\n",
       " </td>\n",
       " <td class=\"title al va-t word-break\">\n",
       " <a class=\"hoverinfo_trigger fl-l ml12 mr8\" href=\"https://myanimelist.net/anime/52034/Oshi_no_Ko\" id=\"#area52034\" rel=\"#info52034\">\n",
       " <img alt=\"Anime: &amp;quot;Oshi no Ko&amp;quot;\" border=\"0\" class=\"lazyload\" data-src=\"https://cdn.myanimelist.net/r/50x70/images/anime/1812/134736.jpg?s=01b78ed332b657214ffb3bae89bdcd31\" data-srcset=\"https://cdn.myanimelist.net/r/50x70/images/anime/1812/134736.jpg?s=01b78ed332b657214ffb3bae89bdcd31 1x, https://cdn.myanimelist.net/r/100x140/images/anime/1812/134736.jpg?s=ec39651bb29c97e364b842163f6c50f1 2x\" height=\"70\" width=\"50\"/>\n",
       " </a>\n",
       " <div class=\"detail\"><div id=\"area52034\">\n",
       " <div class=\"hoverinfo\" id=\"info52034\" rel=\"a52034\"></div>\n",
       " </div>\n",
       " <div class=\"di-ib clearfix\"><h3 class=\"hoverinfo_trigger fl-l fs14 fw-b anime_ranking_h3\"><a href=\"https://myanimelist.net/anime/52034/Oshi_no_Ko\" id=\"#area52034\" rel=\"#info52034\">\"Oshi no Ko\"</a></h3><div class=\"icon-watch-pv2\"><a class=\"mal-icon ml8 ga-click\" href=\"https://myanimelist.net/anime/52034/Oshi_no_Ko/video\" title=\"Watch Promotional Video\"><i class=\"malicon malicon-movie-pv\"></i></a></div></div><br/><div class=\"information di-ib mt4\">\n",
       "         TV (11 eps)<br/>\n",
       "         Apr 2023 - Jun 2023<br/>\n",
       "         573,221 members\n",
       "       </div></div>\n",
       " </td>\n",
       " <td class=\"score ac fs14\"><div class=\"js-top-ranking-score-col di-ib al\"><i class=\"icon-score-star fa-solid fa-star mr4 on\"></i><span class=\"text on score-label score-8\">8.88</span></div>\n",
       " </td>\n",
       " <td class=\"your-score ac fs14\">\n",
       " <div class=\"js-top-ranking-your-score-col di-ib al\"> <a class=\"\" href=\"https://myanimelist.net/login.php?error=login_required&amp;from=%2Ftopanime.php\"><i class=\"icon-score-star fa-solid fa-star mr4\"></i><span class=\"text score-label score-na\">N/A</span></a>\n",
       " </div>\n",
       " </td>\n",
       " <td class=\"status ac\"> <a class=\"btn-addEdit-large btn-anime-watch-status js-anime-watch-status notinmylist\" href=\"https://myanimelist.net/login.php?error=login_required&amp;from=%2Ftopanime.php\"><i class=\"fa-solid fa-square-plus-o mr4\"></i>Add to list</a>\n",
       " </td>\n",
       " </tr>,\n",
       " <tr class=\"ranking-list\">\n",
       " <td class=\"rank ac\" valign=\"top\">\n",
       " <span class=\"lightLink top-anime-rank-text rank2\">24</span>\n",
       " </td>\n",
       " <td class=\"title al va-t word-break\">\n",
       " <a class=\"hoverinfo_trigger fl-l ml12 mr8\" href=\"https://myanimelist.net/anime/37491/Gintama__Shirogane_no_Tamashii-hen_-_Kouhan-sen\" id=\"#area37491\" rel=\"#info37491\">\n",
       " <img alt=\"Anime: Gintama.: Shirogane no Tamashii-hen - Kouhan-sen\" border=\"0\" class=\"lazyload\" data-src=\"https://cdn.myanimelist.net/r/50x70/images/anime/1776/96566.jpg?s=e1aed468f049dd9444375e9149d33d65\" data-srcset=\"https://cdn.myanimelist.net/r/50x70/images/anime/1776/96566.jpg?s=e1aed468f049dd9444375e9149d33d65 1x, https://cdn.myanimelist.net/r/100x140/images/anime/1776/96566.jpg?s=a87ac154753a26bfed4dbd557a8544ba 2x\" height=\"70\" width=\"50\"/>\n",
       " </a>\n",
       " <div class=\"detail\"><div id=\"area37491\">\n",
       " <div class=\"hoverinfo\" id=\"info37491\" rel=\"a37491\"></div>\n",
       " </div>\n",
       " <div class=\"di-ib clearfix\"><h3 class=\"hoverinfo_trigger fl-l fs14 fw-b anime_ranking_h3\"><a href=\"https://myanimelist.net/anime/37491/Gintama__Shirogane_no_Tamashii-hen_-_Kouhan-sen\" id=\"#area37491\" rel=\"#info37491\">Gintama.: Shirogane no Tamashii-hen - Kouhan-sen</a></h3><div class=\"icon-watch2\"><a class=\"mal-icon ml8 ga-click\" href=\"https://myanimelist.net/anime/37491/Gintama__Shirogane_no_Tamashii-hen_-_Kouhan-sen/video\" title=\"Watch Episode Video\"><i class=\"malicon malicon-movie-episode\"></i></a></div></div><br/><div class=\"information di-ib mt4\">\n",
       "         TV (14 eps)<br/>\n",
       "         Jul 2018 - Oct 2018<br/>\n",
       "         186,792 members\n",
       "       </div></div>\n",
       " </td>\n",
       " <td class=\"score ac fs14\"><div class=\"js-top-ranking-score-col di-ib al\"><i class=\"icon-score-star fa-solid fa-star mr4 on\"></i><span class=\"text on score-label score-8\">8.88</span></div>\n",
       " </td>\n",
       " <td class=\"your-score ac fs14\">\n",
       " <div class=\"js-top-ranking-your-score-col di-ib al\"> <a class=\"\" href=\"https://myanimelist.net/login.php?error=login_required&amp;from=%2Ftopanime.php\"><i class=\"icon-score-star fa-solid fa-star mr4\"></i><span class=\"text score-label score-na\">N/A</span></a>\n",
       " </div>\n",
       " </td>\n",
       " <td class=\"status ac\"> <a class=\"btn-addEdit-large btn-anime-watch-status js-anime-watch-status notinmylist\" href=\"https://myanimelist.net/login.php?error=login_required&amp;from=%2Ftopanime.php\"><i class=\"fa-solid fa-square-plus-o mr4\"></i>Add to list</a>\n",
       " </td>\n",
       " </tr>,\n",
       " <tr class=\"ranking-list\">\n",
       " <td class=\"rank ac\" valign=\"top\">\n",
       " <span class=\"lightLink top-anime-rank-text rank2\">25</span>\n",
       " </td>\n",
       " <td class=\"title al va-t word-break\">\n",
       " <a class=\"hoverinfo_trigger fl-l ml12 mr8\" href=\"https://myanimelist.net/anime/19/Monster\" id=\"#area19\" rel=\"#info19\">\n",
       " <img alt=\"Anime: Monster\" border=\"0\" class=\"lazyload\" data-src=\"https://cdn.myanimelist.net/r/50x70/images/anime/10/18793.jpg?s=08c4f10a101c3835eeb14ca0715512bd\" data-srcset=\"https://cdn.myanimelist.net/r/50x70/images/anime/10/18793.jpg?s=08c4f10a101c3835eeb14ca0715512bd 1x, https://cdn.myanimelist.net/r/100x140/images/anime/10/18793.jpg?s=a195ca612dd64dac5ffb27c8ea9d0b32 2x\" height=\"70\" width=\"50\"/>\n",
       " </a>\n",
       " <div class=\"detail\"><div id=\"area19\">\n",
       " <div class=\"hoverinfo\" id=\"info19\" rel=\"a19\"></div>\n",
       " </div>\n",
       " <div class=\"di-ib clearfix\"><h3 class=\"hoverinfo_trigger fl-l fs14 fw-b anime_ranking_h3\"><a href=\"https://myanimelist.net/anime/19/Monster\" id=\"#area19\" rel=\"#info19\">Monster</a></h3><div class=\"icon-watch2\"><a class=\"mal-icon ml8 ga-click\" href=\"https://myanimelist.net/anime/19/Monster/video\" title=\"Watch Episode Video\"><i class=\"malicon malicon-movie-episode\"></i></a></div></div><br/><div class=\"information di-ib mt4\">\n",
       "         TV (74 eps)<br/>\n",
       "         Apr 2004 - Sep 2005<br/>\n",
       "         1,021,020 members\n",
       "       </div></div>\n",
       " </td>\n",
       " <td class=\"score ac fs14\"><div class=\"js-top-ranking-score-col di-ib al\"><i class=\"icon-score-star fa-solid fa-star mr4 on\"></i><span class=\"text on score-label score-8\">8.87</span></div>\n",
       " </td>\n",
       " <td class=\"your-score ac fs14\">\n",
       " <div class=\"js-top-ranking-your-score-col di-ib al\"> <a class=\"\" href=\"https://myanimelist.net/login.php?error=login_required&amp;from=%2Ftopanime.php\"><i class=\"icon-score-star fa-solid fa-star mr4\"></i><span class=\"text score-label score-na\">N/A</span></a>\n",
       " </div>\n",
       " </td>\n",
       " <td class=\"status ac\"> <a class=\"btn-addEdit-large btn-anime-watch-status js-anime-watch-status notinmylist\" href=\"https://myanimelist.net/login.php?error=login_required&amp;from=%2Ftopanime.php\"><i class=\"fa-solid fa-square-plus-o mr4\"></i>Add to list</a>\n",
       " </td>\n",
       " </tr>,\n",
       " <tr class=\"ranking-list\">\n",
       " <td class=\"rank ac\" valign=\"top\">\n",
       " <span class=\"lightLink top-anime-rank-text rank2\">26</span>\n",
       " </td>\n",
       " <td class=\"title al va-t word-break\">\n",
       " <a class=\"hoverinfo_trigger fl-l ml12 mr8\" href=\"https://myanimelist.net/anime/52198/Kaguya-sama_wa_Kokurasetai__First_Kiss_wa_Owaranai\" id=\"#area52198\" rel=\"#info52198\">\n",
       " <img alt=\"Anime: Kaguya-sama wa Kokurasetai: First Kiss wa Owaranai\" border=\"0\" class=\"lazyload\" data-src=\"https://cdn.myanimelist.net/r/50x70/images/anime/1670/130060.jpg?s=d6b458f3a59a4c5ae4a2ee526feb690f\" data-srcset=\"https://cdn.myanimelist.net/r/50x70/images/anime/1670/130060.jpg?s=d6b458f3a59a4c5ae4a2ee526feb690f 1x, https://cdn.myanimelist.net/r/100x140/images/anime/1670/130060.jpg?s=1f94b50d924740fa5a4a748091963523 2x\" height=\"70\" width=\"50\"/>\n",
       " </a>\n",
       " <div class=\"detail\"><div id=\"area52198\">\n",
       " <div class=\"hoverinfo\" id=\"info52198\" rel=\"a52198\"></div>\n",
       " </div>\n",
       " <div class=\"di-ib clearfix\"><h3 class=\"hoverinfo_trigger fl-l fs14 fw-b anime_ranking_h3\"><a href=\"https://myanimelist.net/anime/52198/Kaguya-sama_wa_Kokurasetai__First_Kiss_wa_Owaranai\" id=\"#area52198\" rel=\"#info52198\">Kaguya-sama wa Kokurasetai: First Kiss wa Owaranai</a></h3><div class=\"icon-watch2\"><a class=\"mal-icon ml8 ga-click\" href=\"https://myanimelist.net/anime/52198/Kaguya-sama_wa_Kokurasetai__First_Kiss_wa_Owaranai/video\" title=\"Watch Episode Video\"><i class=\"malicon malicon-movie-episode\"></i></a></div></div><br/><div class=\"information di-ib mt4\">\n",
       "         Movie (1 eps)<br/>\n",
       "         Dec 2022 - Dec 2022<br/>\n",
       "         188,498 members\n",
       "       </div></div>\n",
       " </td>\n",
       " <td class=\"score ac fs14\"><div class=\"js-top-ranking-score-col di-ib al\"><i class=\"icon-score-star fa-solid fa-star mr4 on\"></i><span class=\"text on score-label score-8\">8.86</span></div>\n",
       " </td>\n",
       " <td class=\"your-score ac fs14\">\n",
       " <div class=\"js-top-ranking-your-score-col di-ib al\"> <a class=\"\" href=\"https://myanimelist.net/login.php?error=login_required&amp;from=%2Ftopanime.php\"><i class=\"icon-score-star fa-solid fa-star mr4\"></i><span class=\"text score-label score-na\">N/A</span></a>\n",
       " </div>\n",
       " </td>\n",
       " <td class=\"status ac\"> <a class=\"btn-addEdit-large btn-anime-watch-status js-anime-watch-status notinmylist\" href=\"https://myanimelist.net/login.php?error=login_required&amp;from=%2Ftopanime.php\"><i class=\"fa-solid fa-square-plus-o mr4\"></i>Add to list</a>\n",
       " </td>\n",
       " </tr>,\n",
       " <tr class=\"ranking-list\">\n",
       " <td class=\"rank ac\" valign=\"top\">\n",
       " <span class=\"lightLink top-anime-rank-text rank2\">27</span>\n",
       " </td>\n",
       " <td class=\"title al va-t word-break\">\n",
       " <a class=\"hoverinfo_trigger fl-l ml12 mr8\" href=\"https://myanimelist.net/anime/32281/Kimi_no_Na_wa\" id=\"#area32281\" rel=\"#info32281\">\n",
       " <img alt=\"Anime: Kimi no Na wa.\" border=\"0\" class=\"lazyload\" data-src=\"https://cdn.myanimelist.net/r/50x70/images/anime/5/87048.jpg?s=2bca128fcb9dfd6d0908f3d9986576c6\" data-srcset=\"https://cdn.myanimelist.net/r/50x70/images/anime/5/87048.jpg?s=2bca128fcb9dfd6d0908f3d9986576c6 1x, https://cdn.myanimelist.net/r/100x140/images/anime/5/87048.jpg?s=0c69e78d81c675e0bbceae647b10dc5f 2x\" height=\"70\" width=\"50\"/>\n",
       " </a>\n",
       " <div class=\"detail\"><div id=\"area32281\">\n",
       " <div class=\"hoverinfo\" id=\"info32281\" rel=\"a32281\"></div>\n",
       " </div>\n",
       " <div class=\"di-ib clearfix\"><h3 class=\"hoverinfo_trigger fl-l fs14 fw-b anime_ranking_h3\"><a href=\"https://myanimelist.net/anime/32281/Kimi_no_Na_wa\" id=\"#area32281\" rel=\"#info32281\">Kimi no Na wa.</a></h3><div class=\"icon-watch2\"><a class=\"mal-icon ml8 ga-click\" href=\"https://myanimelist.net/anime/32281/Kimi_no_Na_wa/video\" title=\"Watch Episode Video\"><i class=\"malicon malicon-movie-episode\"></i></a></div></div><br/><div class=\"information di-ib mt4\">\n",
       "         Movie (1 eps)<br/>\n",
       "         Aug 2016 - Aug 2016<br/>\n",
       "         2,608,836 members\n",
       "       </div></div>\n",
       " </td>\n",
       " <td class=\"score ac fs14\"><div class=\"js-top-ranking-score-col di-ib al\"><i class=\"icon-score-star fa-solid fa-star mr4 on\"></i><span class=\"text on score-label score-8\">8.85</span></div>\n",
       " </td>\n",
       " <td class=\"your-score ac fs14\">\n",
       " <div class=\"js-top-ranking-your-score-col di-ib al\"> <a class=\"\" href=\"https://myanimelist.net/login.php?error=login_required&amp;from=%2Ftopanime.php\"><i class=\"icon-score-star fa-solid fa-star mr4\"></i><span class=\"text score-label score-na\">N/A</span></a>\n",
       " </div>\n",
       " </td>\n",
       " <td class=\"status ac\"> <a class=\"btn-addEdit-large btn-anime-watch-status js-anime-watch-status notinmylist\" href=\"https://myanimelist.net/login.php?error=login_required&amp;from=%2Ftopanime.php\"><i class=\"fa-solid fa-square-plus-o mr4\"></i>Add to list</a>\n",
       " </td>\n",
       " </tr>,\n",
       " <tr class=\"ranking-list\">\n",
       " <td class=\"rank ac\" valign=\"top\">\n",
       " <span class=\"lightLink top-anime-rank-text rank2\">28</span>\n",
       " </td>\n",
       " <td class=\"title al va-t word-break\">\n",
       " <a class=\"hoverinfo_trigger fl-l ml12 mr8\" href=\"https://myanimelist.net/anime/49387/Vinland_Saga_Season_2\" id=\"#area49387\" rel=\"#info49387\">\n",
       " <img alt=\"Anime: Vinland Saga Season 2\" border=\"0\" class=\"lazyload\" data-src=\"https://cdn.myanimelist.net/r/50x70/images/anime/1170/124312.jpg?s=ea717ad18c8bf0f21078491e981e97a1\" data-srcset=\"https://cdn.myanimelist.net/r/50x70/images/anime/1170/124312.jpg?s=ea717ad18c8bf0f21078491e981e97a1 1x, https://cdn.myanimelist.net/r/100x140/images/anime/1170/124312.jpg?s=ff4c3d1432e28f2439e4ed886c032504 2x\" height=\"70\" width=\"50\"/>\n",
       " </a>\n",
       " <div class=\"detail\"><div id=\"area49387\">\n",
       " <div class=\"hoverinfo\" id=\"info49387\" rel=\"a49387\"></div>\n",
       " </div>\n",
       " <div class=\"di-ib clearfix\"><h3 class=\"hoverinfo_trigger fl-l fs14 fw-b anime_ranking_h3\"><a href=\"https://myanimelist.net/anime/49387/Vinland_Saga_Season_2\" id=\"#area49387\" rel=\"#info49387\">Vinland Saga Season 2</a></h3><div class=\"icon-watch2\"><a class=\"mal-icon ml8 ga-click\" href=\"https://myanimelist.net/anime/49387/Vinland_Saga_Season_2/video\" title=\"Watch Episode Video\"><i class=\"malicon malicon-movie-episode\"></i></a></div></div><br/><div class=\"information di-ib mt4\">\n",
       "         TV (24 eps)<br/>\n",
       "         Jan 2023 - Jun 2023<br/>\n",
       "         454,356 members\n",
       "       </div></div>\n",
       " </td>\n",
       " <td class=\"score ac fs14\"><div class=\"js-top-ranking-score-col di-ib al\"><i class=\"icon-score-star fa-solid fa-star mr4 on\"></i><span class=\"text on score-label score-8\">8.84</span></div>\n",
       " </td>\n",
       " <td class=\"your-score ac fs14\">\n",
       " <div class=\"js-top-ranking-your-score-col di-ib al\"> <a class=\"\" href=\"https://myanimelist.net/login.php?error=login_required&amp;from=%2Ftopanime.php\"><i class=\"icon-score-star fa-solid fa-star mr4\"></i><span class=\"text score-label score-na\">N/A</span></a>\n",
       " </div>\n",
       " </td>\n",
       " <td class=\"status ac\"> <a class=\"btn-addEdit-large btn-anime-watch-status js-anime-watch-status notinmylist\" href=\"https://myanimelist.net/login.php?error=login_required&amp;from=%2Ftopanime.php\"><i class=\"fa-solid fa-square-plus-o mr4\"></i>Add to list</a>\n",
       " </td>\n",
       " </tr>,\n",
       " <tr class=\"ranking-list\">\n",
       " <td class=\"rank ac\" valign=\"top\">\n",
       " <span class=\"lightLink top-anime-rank-text rank2\">29</span>\n",
       " </td>\n",
       " <td class=\"title al va-t word-break\">\n",
       " <a class=\"hoverinfo_trigger fl-l ml12 mr8\" href=\"https://myanimelist.net/anime/47917/Bocchi_the_Rock\" id=\"#area47917\" rel=\"#info47917\">\n",
       " <img alt=\"Anime: Bocchi the Rock!\" border=\"0\" class=\"lazyload\" data-src=\"https://cdn.myanimelist.net/r/50x70/images/anime/1448/127956.jpg?s=81e0f14a54c27c6d8046fced1a046f28\" data-srcset=\"https://cdn.myanimelist.net/r/50x70/images/anime/1448/127956.jpg?s=81e0f14a54c27c6d8046fced1a046f28 1x, https://cdn.myanimelist.net/r/100x140/images/anime/1448/127956.jpg?s=7e81931856657309a247d932fd1d74d8 2x\" height=\"70\" width=\"50\"/>\n",
       " </a>\n",
       " <div class=\"detail\"><div id=\"area47917\">\n",
       " <div class=\"hoverinfo\" id=\"info47917\" rel=\"a47917\"></div>\n",
       " </div>\n",
       " <div class=\"di-ib clearfix\"><h3 class=\"hoverinfo_trigger fl-l fs14 fw-b anime_ranking_h3\"><a href=\"https://myanimelist.net/anime/47917/Bocchi_the_Rock\" id=\"#area47917\" rel=\"#info47917\">Bocchi the Rock!</a></h3><div class=\"icon-watch2\"><a class=\"mal-icon ml8 ga-click\" href=\"https://myanimelist.net/anime/47917/Bocchi_the_Rock/video\" title=\"Watch Episode Video\"><i class=\"malicon malicon-movie-episode\"></i></a></div></div><br/><div class=\"information di-ib mt4\">\n",
       "         TV (12 eps)<br/>\n",
       "         Oct 2022 - Dec 2022<br/>\n",
       "         437,172 members\n",
       "       </div></div>\n",
       " </td>\n",
       " <td class=\"score ac fs14\"><div class=\"js-top-ranking-score-col di-ib al\"><i class=\"icon-score-star fa-solid fa-star mr4 on\"></i><span class=\"text on score-label score-8\">8.84</span></div>\n",
       " </td>\n",
       " <td class=\"your-score ac fs14\">\n",
       " <div class=\"js-top-ranking-your-score-col di-ib al\"> <a class=\"\" href=\"https://myanimelist.net/login.php?error=login_required&amp;from=%2Ftopanime.php\"><i class=\"icon-score-star fa-solid fa-star mr4\"></i><span class=\"text score-label score-na\">N/A</span></a>\n",
       " </div>\n",
       " </td>\n",
       " <td class=\"status ac\"> <a class=\"btn-addEdit-large btn-anime-watch-status js-anime-watch-status notinmylist\" href=\"https://myanimelist.net/login.php?error=login_required&amp;from=%2Ftopanime.php\"><i class=\"fa-solid fa-square-plus-o mr4\"></i>Add to list</a>\n",
       " </td>\n",
       " </tr>,\n",
       " <tr class=\"ranking-list\">\n",
       " <td class=\"rank ac\" valign=\"top\">\n",
       " <span class=\"lightLink top-anime-rank-text rank2\">30</span>\n",
       " </td>\n",
       " <td class=\"title al va-t word-break\">\n",
       " <a class=\"hoverinfo_trigger fl-l ml12 mr8\" href=\"https://myanimelist.net/anime/36838/Gintama__Shirogane_no_Tamashii-hen\" id=\"#area36838\" rel=\"#info36838\">\n",
       " <img alt=\"Anime: Gintama.: Shirogane no Tamashii-hen\" border=\"0\" class=\"lazyload\" data-src=\"https://cdn.myanimelist.net/r/50x70/images/anime/12/89603.jpg?s=635cb89402d5d39f43767f3942e91206\" data-srcset=\"https://cdn.myanimelist.net/r/50x70/images/anime/12/89603.jpg?s=635cb89402d5d39f43767f3942e91206 1x, https://cdn.myanimelist.net/r/100x140/images/anime/12/89603.jpg?s=d1ae6c96378fe82ecb9481705060774c 2x\" height=\"70\" width=\"50\"/>\n",
       " </a>\n",
       " <div class=\"detail\"><div id=\"area36838\">\n",
       " <div class=\"hoverinfo\" id=\"info36838\" rel=\"a36838\"></div>\n",
       " </div>\n",
       " <div class=\"di-ib clearfix\"><h3 class=\"hoverinfo_trigger fl-l fs14 fw-b anime_ranking_h3\"><a href=\"https://myanimelist.net/anime/36838/Gintama__Shirogane_no_Tamashii-hen\" id=\"#area36838\" rel=\"#info36838\">Gintama.: Shirogane no Tamashii-hen</a></h3><div class=\"icon-watch2\"><a class=\"mal-icon ml8 ga-click\" href=\"https://myanimelist.net/anime/36838/Gintama__Shirogane_no_Tamashii-hen/video\" title=\"Watch Episode Video\"><i class=\"malicon malicon-movie-episode\"></i></a></div></div><br/><div class=\"information di-ib mt4\">\n",
       "         TV (12 eps)<br/>\n",
       "         Jan 2018 - Mar 2018<br/>\n",
       "         201,200 members\n",
       "       </div></div>\n",
       " </td>\n",
       " <td class=\"score ac fs14\"><div class=\"js-top-ranking-score-col di-ib al\"><i class=\"icon-score-star fa-solid fa-star mr4 on\"></i><span class=\"text on score-label score-8\">8.81</span></div>\n",
       " </td>\n",
       " <td class=\"your-score ac fs14\">\n",
       " <div class=\"js-top-ranking-your-score-col di-ib al\"> <a class=\"\" href=\"https://myanimelist.net/login.php?error=login_required&amp;from=%2Ftopanime.php\"><i class=\"icon-score-star fa-solid fa-star mr4\"></i><span class=\"text score-label score-na\">N/A</span></a>\n",
       " </div>\n",
       " </td>\n",
       " <td class=\"status ac\"> <a class=\"btn-addEdit-large btn-anime-watch-status js-anime-watch-status notinmylist\" href=\"https://myanimelist.net/login.php?error=login_required&amp;from=%2Ftopanime.php\"><i class=\"fa-solid fa-square-plus-o mr4\"></i>Add to list</a>\n",
       " </td>\n",
       " </tr>,\n",
       " <tr class=\"ranking-list\">\n",
       " <td class=\"rank ac\" valign=\"top\">\n",
       " <span class=\"lightLink top-anime-rank-text rank2\">31</span>\n",
       " </td>\n",
       " <td class=\"title al va-t word-break\">\n",
       " <a class=\"hoverinfo_trigger fl-l ml12 mr8\" href=\"https://myanimelist.net/anime/40682/Kingdom_3rd_Season\" id=\"#area40682\" rel=\"#info40682\">\n",
       " <img alt=\"Anime: Kingdom 3rd Season\" border=\"0\" class=\"lazyload\" data-src=\"https://cdn.myanimelist.net/r/50x70/images/anime/1443/111830.jpg?s=a67f547ff56d05b36123d793df962b45\" data-srcset=\"https://cdn.myanimelist.net/r/50x70/images/anime/1443/111830.jpg?s=a67f547ff56d05b36123d793df962b45 1x, https://cdn.myanimelist.net/r/100x140/images/anime/1443/111830.jpg?s=5f4d5d796fc9522d7311846d60320695 2x\" height=\"70\" width=\"50\"/>\n",
       " </a>\n",
       " <div class=\"detail\"><div id=\"area40682\">\n",
       " <div class=\"hoverinfo\" id=\"info40682\" rel=\"a40682\"></div>\n",
       " </div>\n",
       " <div class=\"di-ib clearfix\"><h3 class=\"hoverinfo_trigger fl-l fs14 fw-b anime_ranking_h3\"><a href=\"https://myanimelist.net/anime/40682/Kingdom_3rd_Season\" id=\"#area40682\" rel=\"#info40682\">Kingdom 3rd Season</a></h3><div class=\"icon-watch2\"><a class=\"mal-icon ml8 ga-click\" href=\"https://myanimelist.net/anime/40682/Kingdom_3rd_Season/video\" title=\"Watch Episode Video\"><i class=\"malicon malicon-movie-episode\"></i></a></div></div><br/><div class=\"information di-ib mt4\">\n",
       "         TV (26 eps)<br/>\n",
       "         Apr 2020 - Oct 2021<br/>\n",
       "         91,792 members\n",
       "       </div></div>\n",
       " </td>\n",
       " <td class=\"score ac fs14\"><div class=\"js-top-ranking-score-col di-ib al\"><i class=\"icon-score-star fa-solid fa-star mr4 on\"></i><span class=\"text on score-label score-8\">8.81</span></div>\n",
       " </td>\n",
       " <td class=\"your-score ac fs14\">\n",
       " <div class=\"js-top-ranking-your-score-col di-ib al\"> <a class=\"\" href=\"https://myanimelist.net/login.php?error=login_required&amp;from=%2Ftopanime.php\"><i class=\"icon-score-star fa-solid fa-star mr4\"></i><span class=\"text score-label score-na\">N/A</span></a>\n",
       " </div>\n",
       " </td>\n",
       " <td class=\"status ac\"> <a class=\"btn-addEdit-large btn-anime-watch-status js-anime-watch-status notinmylist\" href=\"https://myanimelist.net/login.php?error=login_required&amp;from=%2Ftopanime.php\"><i class=\"fa-solid fa-square-plus-o mr4\"></i>Add to list</a>\n",
       " </td>\n",
       " </tr>,\n",
       " <tr class=\"ranking-list\">\n",
       " <td class=\"rank ac\" valign=\"top\">\n",
       " <span class=\"lightLink top-anime-rank-text rank2\">32</span>\n",
       " </td>\n",
       " <td class=\"title al va-t word-break\">\n",
       " <a class=\"hoverinfo_trigger fl-l ml12 mr8\" href=\"https://myanimelist.net/anime/37510/Mob_Psycho_100_II\" id=\"#area37510\" rel=\"#info37510\">\n",
       " <img alt=\"Anime: Mob Psycho 100 II\" border=\"0\" class=\"lazyload\" data-src=\"https://cdn.myanimelist.net/r/50x70/images/anime/1918/96303.jpg?s=b5b51cff7ba201e4f1acf37f4f44e224\" data-srcset=\"https://cdn.myanimelist.net/r/50x70/images/anime/1918/96303.jpg?s=b5b51cff7ba201e4f1acf37f4f44e224 1x, https://cdn.myanimelist.net/r/100x140/images/anime/1918/96303.jpg?s=51c465145beb577d45305bca91984d7a 2x\" height=\"70\" width=\"50\"/>\n",
       " </a>\n",
       " <div class=\"detail\"><div id=\"area37510\">\n",
       " <div class=\"hoverinfo\" id=\"info37510\" rel=\"a37510\"></div>\n",
       " </div>\n",
       " <div class=\"di-ib clearfix\"><h3 class=\"hoverinfo_trigger fl-l fs14 fw-b anime_ranking_h3\"><a href=\"https://myanimelist.net/anime/37510/Mob_Psycho_100_II\" id=\"#area37510\" rel=\"#info37510\">Mob Psycho 100 II</a></h3><div class=\"icon-watch2\"><a class=\"mal-icon ml8 ga-click\" href=\"https://myanimelist.net/anime/37510/Mob_Psycho_100_II/video\" title=\"Watch Episode Video\"><i class=\"malicon malicon-movie-episode\"></i></a></div></div><br/><div class=\"information di-ib mt4\">\n",
       "         TV (13 eps)<br/>\n",
       "         Jan 2019 - Apr 2019<br/>\n",
       "         1,439,906 members\n",
       "       </div></div>\n",
       " </td>\n",
       " <td class=\"score ac fs14\"><div class=\"js-top-ranking-score-col di-ib al\"><i class=\"icon-score-star fa-solid fa-star mr4 on\"></i><span class=\"text on score-label score-8\">8.80</span></div>\n",
       " </td>\n",
       " <td class=\"your-score ac fs14\">\n",
       " <div class=\"js-top-ranking-your-score-col di-ib al\"> <a class=\"\" href=\"https://myanimelist.net/login.php?error=login_required&amp;from=%2Ftopanime.php\"><i class=\"icon-score-star fa-solid fa-star mr4\"></i><span class=\"text score-label score-na\">N/A</span></a>\n",
       " </div>\n",
       " </td>\n",
       " <td class=\"status ac\"> <a class=\"btn-addEdit-large btn-anime-watch-status js-anime-watch-status notinmylist\" href=\"https://myanimelist.net/login.php?error=login_required&amp;from=%2Ftopanime.php\"><i class=\"fa-solid fa-square-plus-o mr4\"></i>Add to list</a>\n",
       " </td>\n",
       " </tr>,\n",
       " <tr class=\"ranking-list\">\n",
       " <td class=\"rank ac\" valign=\"top\">\n",
       " <span class=\"lightLink top-anime-rank-text rank2\">33</span>\n",
       " </td>\n",
       " <td class=\"title al va-t word-break\">\n",
       " <a class=\"hoverinfo_trigger fl-l ml12 mr8\" href=\"https://myanimelist.net/anime/40028/Shingeki_no_Kyojin__The_Final_Season\" id=\"#area40028\" rel=\"#info40028\">\n",
       " <img alt=\"Anime: Shingeki no Kyojin: The Final Season\" border=\"0\" class=\"lazyload\" data-src=\"https://cdn.myanimelist.net/r/50x70/images/anime/1000/110531.jpg?s=3df5ebb6800604dc04c6a6187dd7161b\" data-srcset=\"https://cdn.myanimelist.net/r/50x70/images/anime/1000/110531.jpg?s=3df5ebb6800604dc04c6a6187dd7161b 1x, https://cdn.myanimelist.net/r/100x140/images/anime/1000/110531.jpg?s=1c08fa93884604f959aa65825a252e12 2x\" height=\"70\" width=\"50\"/>\n",
       " </a>\n",
       " <div class=\"detail\"><div id=\"area40028\">\n",
       " <div class=\"hoverinfo\" id=\"info40028\" rel=\"a40028\"></div>\n",
       " </div>\n",
       " <div class=\"di-ib clearfix\"><h3 class=\"hoverinfo_trigger fl-l fs14 fw-b anime_ranking_h3\"><a href=\"https://myanimelist.net/anime/40028/Shingeki_no_Kyojin__The_Final_Season\" id=\"#area40028\" rel=\"#info40028\">Shingeki no Kyojin: The Final Season</a></h3><div class=\"icon-watch2\"><a class=\"mal-icon ml8 ga-click\" href=\"https://myanimelist.net/anime/40028/Shingeki_no_Kyojin__The_Final_Season/video\" title=\"Watch Episode Video\"><i class=\"malicon malicon-movie-episode\"></i></a></div></div><br/><div class=\"information di-ib mt4\">\n",
       "         TV (16 eps)<br/>\n",
       "         Dec 2020 - Mar 2021<br/>\n",
       "         1,856,972 members\n",
       "       </div></div>\n",
       " </td>\n",
       " <td class=\"score ac fs14\"><div class=\"js-top-ranking-score-col di-ib al\"><i class=\"icon-score-star fa-solid fa-star mr4 on\"></i><span class=\"text on score-label score-8\">8.80</span></div>\n",
       " </td>\n",
       " <td class=\"your-score ac fs14\">\n",
       " <div class=\"js-top-ranking-your-score-col di-ib al\"> <a class=\"\" href=\"https://myanimelist.net/login.php?error=login_required&amp;from=%2Ftopanime.php\"><i class=\"icon-score-star fa-solid fa-star mr4\"></i><span class=\"text score-label score-na\">N/A</span></a>\n",
       " </div>\n",
       " </td>\n",
       " <td class=\"status ac\"> <a class=\"btn-addEdit-large btn-anime-watch-status js-anime-watch-status notinmylist\" href=\"https://myanimelist.net/login.php?error=login_required&amp;from=%2Ftopanime.php\"><i class=\"fa-solid fa-square-plus-o mr4\"></i>Add to list</a>\n",
       " </td>\n",
       " </tr>,\n",
       " <tr class=\"ranking-list\">\n",
       " <td class=\"rank ac\" valign=\"top\">\n",
       " <span class=\"lightLink top-anime-rank-text rank2\">34</span>\n",
       " </td>\n",
       " <td class=\"title al va-t word-break\">\n",
       " <a class=\"hoverinfo_trigger fl-l ml12 mr8\" href=\"https://myanimelist.net/anime/47778/Kimetsu_no_Yaiba__Yuukaku-hen\" id=\"#area47778\" rel=\"#info47778\">\n",
       " <img alt=\"Anime: Kimetsu no Yaiba: Yuukaku-hen\" border=\"0\" class=\"lazyload\" data-src=\"https://cdn.myanimelist.net/r/50x70/images/anime/1908/120036.jpg?s=34065463bac342e6efe8bfdbed5d24de\" data-srcset=\"https://cdn.myanimelist.net/r/50x70/images/anime/1908/120036.jpg?s=34065463bac342e6efe8bfdbed5d24de 1x, https://cdn.myanimelist.net/r/100x140/images/anime/1908/120036.jpg?s=2044bfc6d0c06e18048e668518a97176 2x\" height=\"70\" width=\"50\"/>\n",
       " </a>\n",
       " <div class=\"detail\"><div id=\"area47778\">\n",
       " <div class=\"hoverinfo\" id=\"info47778\" rel=\"a47778\"></div>\n",
       " </div>\n",
       " <div class=\"di-ib clearfix\"><h3 class=\"hoverinfo_trigger fl-l fs14 fw-b anime_ranking_h3\"><a href=\"https://myanimelist.net/anime/47778/Kimetsu_no_Yaiba__Yuukaku-hen\" id=\"#area47778\" rel=\"#info47778\">Kimetsu no Yaiba: Yuukaku-hen</a></h3><div class=\"icon-watch2\"><a class=\"mal-icon ml8 ga-click\" href=\"https://myanimelist.net/anime/47778/Kimetsu_no_Yaiba__Yuukaku-hen/video\" title=\"Watch Episode Video\"><i class=\"malicon malicon-movie-episode\"></i></a></div></div><br/><div class=\"information di-ib mt4\">\n",
       "         TV (11 eps)<br/>\n",
       "         Dec 2021 - Feb 2022<br/>\n",
       "         1,263,280 members\n",
       "       </div></div>\n",
       " </td>\n",
       " <td class=\"score ac fs14\"><div class=\"js-top-ranking-score-col di-ib al\"><i class=\"icon-score-star fa-solid fa-star mr4 on\"></i><span class=\"text on score-label score-8\">8.79</span></div>\n",
       " </td>\n",
       " <td class=\"your-score ac fs14\">\n",
       " <div class=\"js-top-ranking-your-score-col di-ib al\"> <a class=\"\" href=\"https://myanimelist.net/login.php?error=login_required&amp;from=%2Ftopanime.php\"><i class=\"icon-score-star fa-solid fa-star mr4\"></i><span class=\"text score-label score-na\">N/A</span></a>\n",
       " </div>\n",
       " </td>\n",
       " <td class=\"status ac\"> <a class=\"btn-addEdit-large btn-anime-watch-status js-anime-watch-status notinmylist\" href=\"https://myanimelist.net/login.php?error=login_required&amp;from=%2Ftopanime.php\"><i class=\"fa-solid fa-square-plus-o mr4\"></i>Add to list</a>\n",
       " </td>\n",
       " </tr>,\n",
       " <tr class=\"ranking-list\">\n",
       " <td class=\"rank ac\" valign=\"top\">\n",
       " <span class=\"lightLink top-anime-rank-text rank2\">35</span>\n",
       " </td>\n",
       " <td class=\"title al va-t word-break\">\n",
       " <a class=\"hoverinfo_trigger fl-l ml12 mr8\" href=\"https://myanimelist.net/anime/31758/Kizumonogatari_III__Reiketsu-hen\" id=\"#area31758\" rel=\"#info31758\">\n",
       " <img alt=\"Anime: Kizumonogatari III: Reiketsu-hen\" border=\"0\" class=\"lazyload\" data-src=\"https://cdn.myanimelist.net/r/50x70/images/anime/1084/112813.jpg?s=db4fcf9c5e229584ca1b04bcebe2c3dc\" data-srcset=\"https://cdn.myanimelist.net/r/50x70/images/anime/1084/112813.jpg?s=db4fcf9c5e229584ca1b04bcebe2c3dc 1x, https://cdn.myanimelist.net/r/100x140/images/anime/1084/112813.jpg?s=693153a2a61cdcc79d61b58a3e2a7a6d 2x\" height=\"70\" width=\"50\"/>\n",
       " </a>\n",
       " <div class=\"detail\"><div id=\"area31758\">\n",
       " <div class=\"hoverinfo\" id=\"info31758\" rel=\"a31758\"></div>\n",
       " </div>\n",
       " <div class=\"di-ib clearfix\"><h3 class=\"hoverinfo_trigger fl-l fs14 fw-b anime_ranking_h3\"><a href=\"https://myanimelist.net/anime/31758/Kizumonogatari_III__Reiketsu-hen\" id=\"#area31758\" rel=\"#info31758\">Kizumonogatari III: Reiketsu-hen</a></h3><div class=\"icon-watch-pv2\"><a class=\"mal-icon ml8 ga-click\" href=\"https://myanimelist.net/anime/31758/Kizumonogatari_III__Reiketsu-hen/video\" title=\"Watch Promotional Video\"><i class=\"malicon malicon-movie-pv\"></i></a></div></div><br/><div class=\"information di-ib mt4\">\n",
       "         Movie (1 eps)<br/>\n",
       "         Jan 2017 - Jan 2017<br/>\n",
       "         441,671 members\n",
       "       </div></div>\n",
       " </td>\n",
       " <td class=\"score ac fs14\"><div class=\"js-top-ranking-score-col di-ib al\"><i class=\"icon-score-star fa-solid fa-star mr4 on\"></i><span class=\"text on score-label score-8\">8.79</span></div>\n",
       " </td>\n",
       " <td class=\"your-score ac fs14\">\n",
       " <div class=\"js-top-ranking-your-score-col di-ib al\"> <a class=\"\" href=\"https://myanimelist.net/login.php?error=login_required&amp;from=%2Ftopanime.php\"><i class=\"icon-score-star fa-solid fa-star mr4\"></i><span class=\"text score-label score-na\">N/A</span></a>\n",
       " </div>\n",
       " </td>\n",
       " <td class=\"status ac\"> <a class=\"btn-addEdit-large btn-anime-watch-status js-anime-watch-status notinmylist\" href=\"https://myanimelist.net/login.php?error=login_required&amp;from=%2Ftopanime.php\"><i class=\"fa-solid fa-square-plus-o mr4\"></i>Add to list</a>\n",
       " </td>\n",
       " </tr>,\n",
       " <tr class=\"ranking-list\">\n",
       " <td class=\"rank ac\" valign=\"top\">\n",
       " <span class=\"lightLink top-anime-rank-text rank2\">36</span>\n",
       " </td>\n",
       " <td class=\"title al va-t word-break\">\n",
       " <a class=\"hoverinfo_trigger fl-l ml12 mr8\" href=\"https://myanimelist.net/anime/199/Sen_to_Chihiro_no_Kamikakushi\" id=\"#area199\" rel=\"#info199\">\n",
       " <img alt=\"Anime: Sen to Chihiro no Kamikakushi\" border=\"0\" class=\"lazyload\" data-src=\"https://cdn.myanimelist.net/r/50x70/images/anime/6/79597.jpg?s=1f170071bc9a54ce2ba3c0d8c7aa6927\" data-srcset=\"https://cdn.myanimelist.net/r/50x70/images/anime/6/79597.jpg?s=1f170071bc9a54ce2ba3c0d8c7aa6927 1x, https://cdn.myanimelist.net/r/100x140/images/anime/6/79597.jpg?s=63a85532fc52356a938354277201d43c 2x\" height=\"70\" width=\"50\"/>\n",
       " </a>\n",
       " <div class=\"detail\"><div id=\"area199\">\n",
       " <div class=\"hoverinfo\" id=\"info199\" rel=\"a199\"></div>\n",
       " </div>\n",
       " <div class=\"di-ib clearfix\"><h3 class=\"hoverinfo_trigger fl-l fs14 fw-b anime_ranking_h3\"><a href=\"https://myanimelist.net/anime/199/Sen_to_Chihiro_no_Kamikakushi\" id=\"#area199\" rel=\"#info199\">Sen to Chihiro no Kamikakushi</a></h3><div class=\"icon-watch-pv2\"><a class=\"mal-icon ml8 ga-click\" href=\"https://myanimelist.net/anime/199/Sen_to_Chihiro_no_Kamikakushi/video\" title=\"Watch Promotional Video\"><i class=\"malicon malicon-movie-pv\"></i></a></div></div><br/><div class=\"information di-ib mt4\">\n",
       "         Movie (1 eps)<br/>\n",
       "         Jul 2001 - Jul 2001<br/>\n",
       "         1,767,528 members\n",
       "       </div></div>\n",
       " </td>\n",
       " <td class=\"score ac fs14\"><div class=\"js-top-ranking-score-col di-ib al\"><i class=\"icon-score-star fa-solid fa-star mr4 on\"></i><span class=\"text on score-label score-8\">8.78</span></div>\n",
       " </td>\n",
       " <td class=\"your-score ac fs14\">\n",
       " <div class=\"js-top-ranking-your-score-col di-ib al\"> <a class=\"\" href=\"https://myanimelist.net/login.php?error=login_required&amp;from=%2Ftopanime.php\"><i class=\"icon-score-star fa-solid fa-star mr4\"></i><span class=\"text score-label score-na\">N/A</span></a>\n",
       " </div>\n",
       " </td>\n",
       " <td class=\"status ac\"> <a class=\"btn-addEdit-large btn-anime-watch-status js-anime-watch-status notinmylist\" href=\"https://myanimelist.net/login.php?error=login_required&amp;from=%2Ftopanime.php\"><i class=\"fa-solid fa-square-plus-o mr4\"></i>Add to list</a>\n",
       " </td>\n",
       " </tr>,\n",
       " <tr class=\"ranking-list\">\n",
       " <td class=\"rank ac\" valign=\"top\">\n",
       " <span class=\"lightLink top-anime-rank-text rank2\">37</span>\n",
       " </td>\n",
       " <td class=\"title al va-t word-break\">\n",
       " <a class=\"hoverinfo_trigger fl-l ml12 mr8\" href=\"https://myanimelist.net/anime/32935/Haikyuu_Karasuno_Koukou_vs_Shiratorizawa_Gakuen_Koukou\" id=\"#area32935\" rel=\"#info32935\">\n",
       " <img alt=\"Anime: Haikyuu!! Karasuno Koukou vs. Shiratorizawa Gakuen Koukou\" border=\"0\" class=\"lazyload\" data-src=\"https://cdn.myanimelist.net/r/50x70/images/anime/7/81992.jpg?s=6d977383e0b5dc1ba1c122213178e547\" data-srcset=\"https://cdn.myanimelist.net/r/50x70/images/anime/7/81992.jpg?s=6d977383e0b5dc1ba1c122213178e547 1x, https://cdn.myanimelist.net/r/100x140/images/anime/7/81992.jpg?s=b241bc153f456bb54b738ab507d6d5db 2x\" height=\"70\" width=\"50\"/>\n",
       " </a>\n",
       " <div class=\"detail\"><div id=\"area32935\">\n",
       " <div class=\"hoverinfo\" id=\"info32935\" rel=\"a32935\"></div>\n",
       " </div>\n",
       " <div class=\"di-ib clearfix\"><h3 class=\"hoverinfo_trigger fl-l fs14 fw-b anime_ranking_h3\"><a href=\"https://myanimelist.net/anime/32935/Haikyuu_Karasuno_Koukou_vs_Shiratorizawa_Gakuen_Koukou\" id=\"#area32935\" rel=\"#info32935\">Haikyuu!! Karasuno Koukou vs. Shiratorizawa Gakuen Koukou</a></h3><div class=\"icon-watch2\"><a class=\"mal-icon ml8 ga-click\" href=\"https://myanimelist.net/anime/32935/Haikyuu_Karasuno_Koukou_vs_Shiratorizawa_Gakuen_Koukou/video\" title=\"Watch Episode Video\"><i class=\"malicon malicon-movie-episode\"></i></a></div></div><br/><div class=\"information di-ib mt4\">\n",
       "         TV (10 eps)<br/>\n",
       "         Oct 2016 - Dec 2016<br/>\n",
       "         1,146,111 members\n",
       "       </div></div>\n",
       " </td>\n",
       " <td class=\"score ac fs14\"><div class=\"js-top-ranking-score-col di-ib al\"><i class=\"icon-score-star fa-solid fa-star mr4 on\"></i><span class=\"text on score-label score-8\">8.78</span></div>\n",
       " </td>\n",
       " <td class=\"your-score ac fs14\">\n",
       " <div class=\"js-top-ranking-your-score-col di-ib al\"> <a class=\"\" href=\"https://myanimelist.net/login.php?error=login_required&amp;from=%2Ftopanime.php\"><i class=\"icon-score-star fa-solid fa-star mr4\"></i><span class=\"text score-label score-na\">N/A</span></a>\n",
       " </div>\n",
       " </td>\n",
       " <td class=\"status ac\"> <a class=\"btn-addEdit-large btn-anime-watch-status js-anime-watch-status notinmylist\" href=\"https://myanimelist.net/login.php?error=login_required&amp;from=%2Ftopanime.php\"><i class=\"fa-solid fa-square-plus-o mr4\"></i>Add to list</a>\n",
       " </td>\n",
       " </tr>,\n",
       " <tr class=\"ranking-list\">\n",
       " <td class=\"rank ac\" valign=\"top\">\n",
       " <span class=\"lightLink top-anime-rank-text rank2\">38</span>\n",
       " </td>\n",
       " <td class=\"title al va-t word-break\">\n",
       " <a class=\"hoverinfo_trigger fl-l ml12 mr8\" href=\"https://myanimelist.net/anime/17074/Monogatari_Series__Second_Season\" id=\"#area17074\" rel=\"#info17074\">\n",
       " <img alt=\"Anime: Monogatari Series: Second Season\" border=\"0\" class=\"lazyload\" data-src=\"https://cdn.myanimelist.net/r/50x70/images/anime/1807/121534.jpg?s=2f42455822fc348ba1fd6c50e94fcce1\" data-srcset=\"https://cdn.myanimelist.net/r/50x70/images/anime/1807/121534.jpg?s=2f42455822fc348ba1fd6c50e94fcce1 1x, https://cdn.myanimelist.net/r/100x140/images/anime/1807/121534.jpg?s=450ac03a6fcd16dcb5076e42f01fd9ad 2x\" height=\"70\" width=\"50\"/>\n",
       " </a>\n",
       " <div class=\"detail\"><div id=\"area17074\">\n",
       " <div class=\"hoverinfo\" id=\"info17074\" rel=\"a17074\"></div>\n",
       " </div>\n",
       " <div class=\"di-ib clearfix\"><h3 class=\"hoverinfo_trigger fl-l fs14 fw-b anime_ranking_h3\"><a href=\"https://myanimelist.net/anime/17074/Monogatari_Series__Second_Season\" id=\"#area17074\" rel=\"#info17074\">Monogatari Series: Second Season</a></h3><div class=\"icon-watch2\"><a class=\"mal-icon ml8 ga-click\" href=\"https://myanimelist.net/anime/17074/Monogatari_Series__Second_Season/video\" title=\"Watch Episode Video\"><i class=\"malicon malicon-movie-episode\"></i></a></div></div><br/><div class=\"information di-ib mt4\">\n",
       "         TV (26 eps)<br/>\n",
       "         Jul 2013 - Dec 2013<br/>\n",
       "         649,281 members\n",
       "       </div></div>\n",
       " </td>\n",
       " <td class=\"score ac fs14\"><div class=\"js-top-ranking-score-col di-ib al\"><i class=\"icon-score-star fa-solid fa-star mr4 on\"></i><span class=\"text on score-label score-8\">8.77</span></div>\n",
       " </td>\n",
       " <td class=\"your-score ac fs14\">\n",
       " <div class=\"js-top-ranking-your-score-col di-ib al\"> <a class=\"\" href=\"https://myanimelist.net/login.php?error=login_required&amp;from=%2Ftopanime.php\"><i class=\"icon-score-star fa-solid fa-star mr4\"></i><span class=\"text score-label score-na\">N/A</span></a>\n",
       " </div>\n",
       " </td>\n",
       " <td class=\"status ac\"> <a class=\"btn-addEdit-large btn-anime-watch-status js-anime-watch-status notinmylist\" href=\"https://myanimelist.net/login.php?error=login_required&amp;from=%2Ftopanime.php\"><i class=\"fa-solid fa-square-plus-o mr4\"></i>Add to list</a>\n",
       " </td>\n",
       " </tr>,\n",
       " <tr class=\"ranking-list\">\n",
       " <td class=\"rank ac\" valign=\"top\">\n",
       " <span class=\"lightLink top-anime-rank-text rank2\">39</span>\n",
       " </td>\n",
       " <td class=\"title al va-t word-break\">\n",
       " <a class=\"hoverinfo_trigger fl-l ml12 mr8\" href=\"https://myanimelist.net/anime/48583/Shingeki_no_Kyojin__The_Final_Season_Part_2\" id=\"#area48583\" rel=\"#info48583\">\n",
       " <img alt=\"Anime: Shingeki no Kyojin: The Final Season Part 2\" border=\"0\" class=\"lazyload\" data-src=\"https://cdn.myanimelist.net/r/50x70/images/anime/1948/120625.jpg?s=53584a9c479506f8c779fb38b02d1a6d\" data-srcset=\"https://cdn.myanimelist.net/r/50x70/images/anime/1948/120625.jpg?s=53584a9c479506f8c779fb38b02d1a6d 1x, https://cdn.myanimelist.net/r/100x140/images/anime/1948/120625.jpg?s=ad6cd47edcacb01a61121853204f8139 2x\" height=\"70\" width=\"50\"/>\n",
       " </a>\n",
       " <div class=\"detail\"><div id=\"area48583\">\n",
       " <div class=\"hoverinfo\" id=\"info48583\" rel=\"a48583\"></div>\n",
       " </div>\n",
       " <div class=\"di-ib clearfix\"><h3 class=\"hoverinfo_trigger fl-l fs14 fw-b anime_ranking_h3\"><a href=\"https://myanimelist.net/anime/48583/Shingeki_no_Kyojin__The_Final_Season_Part_2\" id=\"#area48583\" rel=\"#info48583\">Shingeki no Kyojin: The Final Season Part 2</a></h3><div class=\"icon-watch2\"><a class=\"mal-icon ml8 ga-click\" href=\"https://myanimelist.net/anime/48583/Shingeki_no_Kyojin__The_Final_Season_Part_2/video\" title=\"Watch Episode Video\"><i class=\"malicon malicon-movie-episode\"></i></a></div></div><br/><div class=\"information di-ib mt4\">\n",
       "         TV (12 eps)<br/>\n",
       "         Jan 2022 - Apr 2022<br/>\n",
       "         1,144,213 members\n",
       "       </div></div>\n",
       " </td>\n",
       " <td class=\"score ac fs14\"><div class=\"js-top-ranking-score-col di-ib al\"><i class=\"icon-score-star fa-solid fa-star mr4 on\"></i><span class=\"text on score-label score-8\">8.77</span></div>\n",
       " </td>\n",
       " <td class=\"your-score ac fs14\">\n",
       " <div class=\"js-top-ranking-your-score-col di-ib al\"> <a class=\"\" href=\"https://myanimelist.net/login.php?error=login_required&amp;from=%2Ftopanime.php\"><i class=\"icon-score-star fa-solid fa-star mr4\"></i><span class=\"text score-label score-na\">N/A</span></a>\n",
       " </div>\n",
       " </td>\n",
       " <td class=\"status ac\"> <a class=\"btn-addEdit-large btn-anime-watch-status js-anime-watch-status notinmylist\" href=\"https://myanimelist.net/login.php?error=login_required&amp;from=%2Ftopanime.php\"><i class=\"fa-solid fa-square-plus-o mr4\"></i>Add to list</a>\n",
       " </td>\n",
       " </tr>,\n",
       " <tr class=\"ranking-list\">\n",
       " <td class=\"rank ac\" valign=\"top\">\n",
       " <span class=\"lightLink top-anime-rank-text rank2\">40</span>\n",
       " </td>\n",
       " <td class=\"title al va-t word-break\">\n",
       " <a class=\"hoverinfo_trigger fl-l ml12 mr8\" href=\"https://myanimelist.net/anime/263/Hajime_no_Ippo\" id=\"#area263\" rel=\"#info263\">\n",
       " <img alt=\"Anime: Hajime no Ippo\" border=\"0\" class=\"lazyload\" data-src=\"https://cdn.myanimelist.net/r/50x70/images/anime/4/86334.jpg?s=4b3096d30158e251d87c196e56c04e63\" data-srcset=\"https://cdn.myanimelist.net/r/50x70/images/anime/4/86334.jpg?s=4b3096d30158e251d87c196e56c04e63 1x, https://cdn.myanimelist.net/r/100x140/images/anime/4/86334.jpg?s=448fd8dfdff2a7db7de2b85633a691f2 2x\" height=\"70\" width=\"50\"/>\n",
       " </a>\n",
       " <div class=\"detail\"><div id=\"area263\">\n",
       " <div class=\"hoverinfo\" id=\"info263\" rel=\"a263\"></div>\n",
       " </div>\n",
       " <div class=\"di-ib clearfix\"><h3 class=\"hoverinfo_trigger fl-l fs14 fw-b anime_ranking_h3\"><a href=\"https://myanimelist.net/anime/263/Hajime_no_Ippo\" id=\"#area263\" rel=\"#info263\">Hajime no Ippo</a></h3><div class=\"icon-watch2\"><a class=\"mal-icon ml8 ga-click\" href=\"https://myanimelist.net/anime/263/Hajime_no_Ippo/video\" title=\"Watch Episode Video\"><i class=\"malicon malicon-movie-episode\"></i></a></div></div><br/><div class=\"information di-ib mt4\">\n",
       "         TV (75 eps)<br/>\n",
       "         Oct 2000 - Mar 2002<br/>\n",
       "         550,050 members\n",
       "       </div></div>\n",
       " </td>\n",
       " <td class=\"score ac fs14\"><div class=\"js-top-ranking-score-col di-ib al\"><i class=\"icon-score-star fa-solid fa-star mr4 on\"></i><span class=\"text on score-label score-8\">8.76</span></div>\n",
       " </td>\n",
       " <td class=\"your-score ac fs14\">\n",
       " <div class=\"js-top-ranking-your-score-col di-ib al\"> <a class=\"\" href=\"https://myanimelist.net/login.php?error=login_required&amp;from=%2Ftopanime.php\"><i class=\"icon-score-star fa-solid fa-star mr4\"></i><span class=\"text score-label score-na\">N/A</span></a>\n",
       " </div>\n",
       " </td>\n",
       " <td class=\"status ac\"> <a class=\"btn-addEdit-large btn-anime-watch-status js-anime-watch-status notinmylist\" href=\"https://myanimelist.net/login.php?error=login_required&amp;from=%2Ftopanime.php\"><i class=\"fa-solid fa-square-plus-o mr4\"></i>Add to list</a>\n",
       " </td>\n",
       " </tr>,\n",
       " <tr class=\"ranking-list\">\n",
       " <td class=\"rank ac\" valign=\"top\">\n",
       " <span class=\"lightLink top-anime-rank-text rank2\">41</span>\n",
       " </td>\n",
       " <td class=\"title al va-t word-break\">\n",
       " <a class=\"hoverinfo_trigger fl-l ml12 mr8\" href=\"https://myanimelist.net/anime/1/Cowboy_Bebop\" id=\"#area1\" rel=\"#info1\">\n",
       " <img alt=\"Anime: Cowboy Bebop\" border=\"0\" class=\"lazyload\" data-src=\"https://cdn.myanimelist.net/r/50x70/images/anime/4/19644.jpg?s=bb1e96eb0a0224a57aa45443eab92575\" data-srcset=\"https://cdn.myanimelist.net/r/50x70/images/anime/4/19644.jpg?s=bb1e96eb0a0224a57aa45443eab92575 1x, https://cdn.myanimelist.net/r/100x140/images/anime/4/19644.jpg?s=7873ad89996b0d6be8dd51e60d88d82c 2x\" height=\"70\" width=\"50\"/>\n",
       " </a>\n",
       " <div class=\"detail\"><div id=\"area1\">\n",
       " <div class=\"hoverinfo\" id=\"info1\" rel=\"a1\"></div>\n",
       " </div>\n",
       " <div class=\"di-ib clearfix\"><h3 class=\"hoverinfo_trigger fl-l fs14 fw-b anime_ranking_h3\"><a href=\"https://myanimelist.net/anime/1/Cowboy_Bebop\" id=\"#area1\" rel=\"#info1\">Cowboy Bebop</a></h3><div class=\"icon-watch2\"><a class=\"mal-icon ml8 ga-click\" href=\"https://myanimelist.net/anime/1/Cowboy_Bebop/video\" title=\"Watch Episode Video\"><i class=\"malicon malicon-movie-episode\"></i></a></div></div><br/><div class=\"information di-ib mt4\">\n",
       "         TV (26 eps)<br/>\n",
       "         Apr 1998 - Apr 1999<br/>\n",
       "         1,778,244 members\n",
       "       </div></div>\n",
       " </td>\n",
       " <td class=\"score ac fs14\"><div class=\"js-top-ranking-score-col di-ib al\"><i class=\"icon-score-star fa-solid fa-star mr4 on\"></i><span class=\"text on score-label score-8\">8.75</span></div>\n",
       " </td>\n",
       " <td class=\"your-score ac fs14\">\n",
       " <div class=\"js-top-ranking-your-score-col di-ib al\"> <a class=\"\" href=\"https://myanimelist.net/login.php?error=login_required&amp;from=%2Ftopanime.php\"><i class=\"icon-score-star fa-solid fa-star mr4\"></i><span class=\"text score-label score-na\">N/A</span></a>\n",
       " </div>\n",
       " </td>\n",
       " <td class=\"status ac\"> <a class=\"btn-addEdit-large btn-anime-watch-status js-anime-watch-status notinmylist\" href=\"https://myanimelist.net/login.php?error=login_required&amp;from=%2Ftopanime.php\"><i class=\"fa-solid fa-square-plus-o mr4\"></i>Add to list</a>\n",
       " </td>\n",
       " </tr>,\n",
       " <tr class=\"ranking-list\">\n",
       " <td class=\"rank ac\" valign=\"top\">\n",
       " <span class=\"lightLink top-anime-rank-text rank2\">42</span>\n",
       " </td>\n",
       " <td class=\"title al va-t word-break\">\n",
       " <a class=\"hoverinfo_trigger fl-l ml12 mr8\" href=\"https://myanimelist.net/anime/50160/Kingdom_4th_Season\" id=\"#area50160\" rel=\"#info50160\">\n",
       " <img alt=\"Anime: Kingdom 4th Season\" border=\"0\" class=\"lazyload\" data-src=\"https://cdn.myanimelist.net/r/50x70/images/anime/1566/122794.jpg?s=1dd290c4b0bc3df1083c456064109e2f\" data-srcset=\"https://cdn.myanimelist.net/r/50x70/images/anime/1566/122794.jpg?s=1dd290c4b0bc3df1083c456064109e2f 1x, https://cdn.myanimelist.net/r/100x140/images/anime/1566/122794.jpg?s=ff859548e52a05da1eff40de2b5b05bf 2x\" height=\"70\" width=\"50\"/>\n",
       " </a>\n",
       " <div class=\"detail\"><div id=\"area50160\">\n",
       " <div class=\"hoverinfo\" id=\"info50160\" rel=\"a50160\"></div>\n",
       " </div>\n",
       " <div class=\"di-ib clearfix\"><h3 class=\"hoverinfo_trigger fl-l fs14 fw-b anime_ranking_h3\"><a href=\"https://myanimelist.net/anime/50160/Kingdom_4th_Season\" id=\"#area50160\" rel=\"#info50160\">Kingdom 4th Season</a></h3><div class=\"icon-watch2\"><a class=\"mal-icon ml8 ga-click\" href=\"https://myanimelist.net/anime/50160/Kingdom_4th_Season/video\" title=\"Watch Episode Video\"><i class=\"malicon malicon-movie-episode\"></i></a></div></div><br/><div class=\"information di-ib mt4\">\n",
       "         TV (26 eps)<br/>\n",
       "         Apr 2022 - Oct 2022<br/>\n",
       "         54,102 members\n",
       "       </div></div>\n",
       " </td>\n",
       " <td class=\"score ac fs14\"><div class=\"js-top-ranking-score-col di-ib al\"><i class=\"icon-score-star fa-solid fa-star mr4 on\"></i><span class=\"text on score-label score-8\">8.74</span></div>\n",
       " </td>\n",
       " <td class=\"your-score ac fs14\">\n",
       " <div class=\"js-top-ranking-your-score-col di-ib al\"> <a class=\"\" href=\"https://myanimelist.net/login.php?error=login_required&amp;from=%2Ftopanime.php\"><i class=\"icon-score-star fa-solid fa-star mr4\"></i><span class=\"text score-label score-na\">N/A</span></a>\n",
       " </div>\n",
       " </td>\n",
       " <td class=\"status ac\"> <a class=\"btn-addEdit-large btn-anime-watch-status js-anime-watch-status notinmylist\" href=\"https://myanimelist.net/login.php?error=login_required&amp;from=%2Ftopanime.php\"><i class=\"fa-solid fa-square-plus-o mr4\"></i>Add to list</a>\n",
       " </td>\n",
       " </tr>,\n",
       " <tr class=\"ranking-list\">\n",
       " <td class=\"rank ac\" valign=\"top\">\n",
       " <span class=\"lightLink top-anime-rank-text rank2\">43</span>\n",
       " </td>\n",
       " <td class=\"title al va-t word-break\">\n",
       " <a class=\"hoverinfo_trigger fl-l ml12 mr8\" href=\"https://myanimelist.net/anime/37521/Vinland_Saga\" id=\"#area37521\" rel=\"#info37521\">\n",
       " <img alt=\"Anime: Vinland Saga\" border=\"0\" class=\"lazyload\" data-src=\"https://cdn.myanimelist.net/r/50x70/images/anime/1500/103005.jpg?s=b21dbd168612f531ce4eec9bd53e272b\" data-srcset=\"https://cdn.myanimelist.net/r/50x70/images/anime/1500/103005.jpg?s=b21dbd168612f531ce4eec9bd53e272b 1x, https://cdn.myanimelist.net/r/100x140/images/anime/1500/103005.jpg?s=175909bd438e4f7969afdae5a2f58931 2x\" height=\"70\" width=\"50\"/>\n",
       " </a>\n",
       " <div class=\"detail\"><div id=\"area37521\">\n",
       " <div class=\"hoverinfo\" id=\"info37521\" rel=\"a37521\"></div>\n",
       " </div>\n",
       " <div class=\"di-ib clearfix\"><h3 class=\"hoverinfo_trigger fl-l fs14 fw-b anime_ranking_h3\"><a href=\"https://myanimelist.net/anime/37521/Vinland_Saga\" id=\"#area37521\" rel=\"#info37521\">Vinland Saga</a></h3><div class=\"icon-watch2\"><a class=\"mal-icon ml8 ga-click\" href=\"https://myanimelist.net/anime/37521/Vinland_Saga/video\" title=\"Watch Episode Video\"><i class=\"malicon malicon-movie-episode\"></i></a></div></div><br/><div class=\"information di-ib mt4\">\n",
       "         TV (24 eps)<br/>\n",
       "         Jul 2019 - Dec 2019<br/>\n",
       "         1,371,627 members\n",
       "       </div></div>\n",
       " </td>\n",
       " <td class=\"score ac fs14\"><div class=\"js-top-ranking-score-col di-ib al\"><i class=\"icon-score-star fa-solid fa-star mr4 on\"></i><span class=\"text on score-label score-8\">8.74</span></div>\n",
       " </td>\n",
       " <td class=\"your-score ac fs14\">\n",
       " <div class=\"js-top-ranking-your-score-col di-ib al\"> <a class=\"\" href=\"https://myanimelist.net/login.php?error=login_required&amp;from=%2Ftopanime.php\"><i class=\"icon-score-star fa-solid fa-star mr4\"></i><span class=\"text score-label score-na\">N/A</span></a>\n",
       " </div>\n",
       " </td>\n",
       " <td class=\"status ac\"> <a class=\"btn-addEdit-large btn-anime-watch-status js-anime-watch-status notinmylist\" href=\"https://myanimelist.net/login.php?error=login_required&amp;from=%2Ftopanime.php\"><i class=\"fa-solid fa-square-plus-o mr4\"></i>Add to list</a>\n",
       " </td>\n",
       " </tr>,\n",
       " <tr class=\"ranking-list\">\n",
       " <td class=\"rank ac\" valign=\"top\">\n",
       " <span class=\"lightLink top-anime-rank-text rank2\">44</span>\n",
       " </td>\n",
       " <td class=\"title al va-t word-break\">\n",
       " <a class=\"hoverinfo_trigger fl-l ml12 mr8\" href=\"https://myanimelist.net/anime/24701/Mushishi_Zoku_Shou_2nd_Season\" id=\"#area24701\" rel=\"#info24701\">\n",
       " <img alt=\"Anime: Mushishi Zoku Shou 2nd Season\" border=\"0\" class=\"lazyload\" data-src=\"https://cdn.myanimelist.net/r/50x70/images/anime/9/68095.jpg?s=6025adedafce15a9d2c9363e225241ba\" data-srcset=\"https://cdn.myanimelist.net/r/50x70/images/anime/9/68095.jpg?s=6025adedafce15a9d2c9363e225241ba 1x, https://cdn.myanimelist.net/r/100x140/images/anime/9/68095.jpg?s=847f720879a312ca3ac84fd8327b174e 2x\" height=\"70\" width=\"50\"/>\n",
       " </a>\n",
       " <div class=\"detail\"><div id=\"area24701\">\n",
       " <div class=\"hoverinfo\" id=\"info24701\" rel=\"a24701\"></div>\n",
       " </div>\n",
       " <div class=\"di-ib clearfix\"><h3 class=\"hoverinfo_trigger fl-l fs14 fw-b anime_ranking_h3\"><a href=\"https://myanimelist.net/anime/24701/Mushishi_Zoku_Shou_2nd_Season\" id=\"#area24701\" rel=\"#info24701\">Mushishi Zoku Shou 2nd Season</a></h3><div class=\"icon-watch2\"><a class=\"mal-icon ml8 ga-click\" href=\"https://myanimelist.net/anime/24701/Mushishi_Zoku_Shou_2nd_Season/video\" title=\"Watch Episode Video\"><i class=\"malicon malicon-movie-episode\"></i></a></div></div><br/><div class=\"information di-ib mt4\">\n",
       "         TV (10 eps)<br/>\n",
       "         Oct 2014 - Dec 2014<br/>\n",
       "         255,482 members\n",
       "       </div></div>\n",
       " </td>\n",
       " <td class=\"score ac fs14\"><div class=\"js-top-ranking-score-col di-ib al\"><i class=\"icon-score-star fa-solid fa-star mr4 on\"></i><span class=\"text on score-label score-8\">8.73</span></div>\n",
       " </td>\n",
       " <td class=\"your-score ac fs14\">\n",
       " <div class=\"js-top-ranking-your-score-col di-ib al\"> <a class=\"\" href=\"https://myanimelist.net/login.php?error=login_required&amp;from=%2Ftopanime.php\"><i class=\"icon-score-star fa-solid fa-star mr4\"></i><span class=\"text score-label score-na\">N/A</span></a>\n",
       " </div>\n",
       " </td>\n",
       " <td class=\"status ac\"> <a class=\"btn-addEdit-large btn-anime-watch-status js-anime-watch-status notinmylist\" href=\"https://myanimelist.net/login.php?error=login_required&amp;from=%2Ftopanime.php\"><i class=\"fa-solid fa-square-plus-o mr4\"></i>Add to list</a>\n",
       " </td>\n",
       " </tr>,\n",
       " <tr class=\"ranking-list\">\n",
       " <td class=\"rank ac\" valign=\"top\">\n",
       " <span class=\"lightLink top-anime-rank-text rank2\">45</span>\n",
       " </td>\n",
       " <td class=\"title al va-t word-break\">\n",
       " <a class=\"hoverinfo_trigger fl-l ml12 mr8\" href=\"https://myanimelist.net/anime/33095/Shouwa_Genroku_Rakugo_Shinjuu__Sukeroku_Futatabi-hen\" id=\"#area33095\" rel=\"#info33095\">\n",
       " <img alt=\"Anime: Shouwa Genroku Rakugo Shinjuu: Sukeroku Futatabi-hen\" border=\"0\" class=\"lazyload\" data-src=\"https://cdn.myanimelist.net/r/50x70/images/anime/1493/124765.jpg?s=5c92c94e226dfebfaa8031696c27754f\" data-srcset=\"https://cdn.myanimelist.net/r/50x70/images/anime/1493/124765.jpg?s=5c92c94e226dfebfaa8031696c27754f 1x, https://cdn.myanimelist.net/r/100x140/images/anime/1493/124765.jpg?s=aaa4a2fa43b61e27db0a64265577753c 2x\" height=\"70\" width=\"50\"/>\n",
       " </a>\n",
       " <div class=\"detail\"><div id=\"area33095\">\n",
       " <div class=\"hoverinfo\" id=\"info33095\" rel=\"a33095\"></div>\n",
       " </div>\n",
       " <div class=\"di-ib clearfix\"><h3 class=\"hoverinfo_trigger fl-l fs14 fw-b anime_ranking_h3\"><a href=\"https://myanimelist.net/anime/33095/Shouwa_Genroku_Rakugo_Shinjuu__Sukeroku_Futatabi-hen\" id=\"#area33095\" rel=\"#info33095\">Shouwa Genroku Rakugo Shinjuu: Sukeroku Futatabi-hen</a></h3><div class=\"icon-watch2\"><a class=\"mal-icon ml8 ga-click\" href=\"https://myanimelist.net/anime/33095/Shouwa_Genroku_Rakugo_Shinjuu__Sukeroku_Futatabi-hen/video\" title=\"Watch Episode Video\"><i class=\"malicon malicon-movie-episode\"></i></a></div></div><br/><div class=\"information di-ib mt4\">\n",
       "         TV (12 eps)<br/>\n",
       "         Jan 2017 - Mar 2017<br/>\n",
       "         181,128 members\n",
       "       </div></div>\n",
       " </td>\n",
       " <td class=\"score ac fs14\"><div class=\"js-top-ranking-score-col di-ib al\"><i class=\"icon-score-star fa-solid fa-star mr4 on\"></i><span class=\"text on score-label score-8\">8.73</span></div>\n",
       " </td>\n",
       " <td class=\"your-score ac fs14\">\n",
       " <div class=\"js-top-ranking-your-score-col di-ib al\"> <a class=\"\" href=\"https://myanimelist.net/login.php?error=login_required&amp;from=%2Ftopanime.php\"><i class=\"icon-score-star fa-solid fa-star mr4\"></i><span class=\"text score-label score-na\">N/A</span></a>\n",
       " </div>\n",
       " </td>\n",
       " <td class=\"status ac\"> <a class=\"btn-addEdit-large btn-anime-watch-status js-anime-watch-status notinmylist\" href=\"https://myanimelist.net/login.php?error=login_required&amp;from=%2Ftopanime.php\"><i class=\"fa-solid fa-square-plus-o mr4\"></i>Add to list</a>\n",
       " </td>\n",
       " </tr>,\n",
       " <tr class=\"ranking-list\">\n",
       " <td class=\"rank ac\" valign=\"top\">\n",
       " <span class=\"lightLink top-anime-rank-text rank2\">46</span>\n",
       " </td>\n",
       " <td class=\"title al va-t word-break\">\n",
       " <a class=\"hoverinfo_trigger fl-l ml12 mr8\" href=\"https://myanimelist.net/anime/50172/Mob_Psycho_100_III\" id=\"#area50172\" rel=\"#info50172\">\n",
       " <img alt=\"Anime: Mob Psycho 100 III\" border=\"0\" class=\"lazyload\" data-src=\"https://cdn.myanimelist.net/r/50x70/images/anime/1228/125011.jpg?s=33cd9099a0ad56c9d80989ca0e1cc2ec\" data-srcset=\"https://cdn.myanimelist.net/r/50x70/images/anime/1228/125011.jpg?s=33cd9099a0ad56c9d80989ca0e1cc2ec 1x, https://cdn.myanimelist.net/r/100x140/images/anime/1228/125011.jpg?s=e817eceaeea480cbf057b210d6052de0 2x\" height=\"70\" width=\"50\"/>\n",
       " </a>\n",
       " <div class=\"detail\"><div id=\"area50172\">\n",
       " <div class=\"hoverinfo\" id=\"info50172\" rel=\"a50172\"></div>\n",
       " </div>\n",
       " <div class=\"di-ib clearfix\"><h3 class=\"hoverinfo_trigger fl-l fs14 fw-b anime_ranking_h3\"><a href=\"https://myanimelist.net/anime/50172/Mob_Psycho_100_III\" id=\"#area50172\" rel=\"#info50172\">Mob Psycho 100 III</a></h3><div class=\"icon-watch2\"><a class=\"mal-icon ml8 ga-click\" href=\"https://myanimelist.net/anime/50172/Mob_Psycho_100_III/video\" title=\"Watch Episode Video\"><i class=\"malicon malicon-movie-episode\"></i></a></div></div><br/><div class=\"information di-ib mt4\">\n",
       "         TV (12 eps)<br/>\n",
       "         Oct 2022 - Dec 2022<br/>\n",
       "         578,960 members\n",
       "       </div></div>\n",
       " </td>\n",
       " <td class=\"score ac fs14\"><div class=\"js-top-ranking-score-col di-ib al\"><i class=\"icon-score-star fa-solid fa-star mr4 on\"></i><span class=\"text on score-label score-8\">8.72</span></div>\n",
       " </td>\n",
       " <td class=\"your-score ac fs14\">\n",
       " <div class=\"js-top-ranking-your-score-col di-ib al\"> <a class=\"\" href=\"https://myanimelist.net/login.php?error=login_required&amp;from=%2Ftopanime.php\"><i class=\"icon-score-star fa-solid fa-star mr4\"></i><span class=\"text score-label score-na\">N/A</span></a>\n",
       " </div>\n",
       " </td>\n",
       " <td class=\"status ac\"> <a class=\"btn-addEdit-large btn-anime-watch-status js-anime-watch-status notinmylist\" href=\"https://myanimelist.net/login.php?error=login_required&amp;from=%2Ftopanime.php\"><i class=\"fa-solid fa-square-plus-o mr4\"></i>Add to list</a>\n",
       " </td>\n",
       " </tr>,\n",
       " <tr class=\"ranking-list\">\n",
       " <td class=\"rank ac\" valign=\"top\">\n",
       " <span class=\"lightLink top-anime-rank-text rank2\">47</span>\n",
       " </td>\n",
       " <td class=\"title al va-t word-break\">\n",
       " <a class=\"hoverinfo_trigger fl-l ml12 mr8\" href=\"https://myanimelist.net/anime/44074/Shiguang_Dailiren\" id=\"#area44074\" rel=\"#info44074\">\n",
       " <img alt=\"Anime: Shiguang Dailiren\" border=\"0\" class=\"lazyload\" data-src=\"https://cdn.myanimelist.net/r/50x70/images/anime/1135/114867.jpg?s=048f06f7edb150d017394574a108c72c\" data-srcset=\"https://cdn.myanimelist.net/r/50x70/images/anime/1135/114867.jpg?s=048f06f7edb150d017394574a108c72c 1x, https://cdn.myanimelist.net/r/100x140/images/anime/1135/114867.jpg?s=9c2fd9fddaef71035742747d5145fc04 2x\" height=\"70\" width=\"50\"/>\n",
       " </a>\n",
       " <div class=\"detail\"><div id=\"area44074\">\n",
       " <div class=\"hoverinfo\" id=\"info44074\" rel=\"a44074\"></div>\n",
       " </div>\n",
       " <div class=\"di-ib clearfix\"><h3 class=\"hoverinfo_trigger fl-l fs14 fw-b anime_ranking_h3\"><a href=\"https://myanimelist.net/anime/44074/Shiguang_Dailiren\" id=\"#area44074\" rel=\"#info44074\">Shiguang Dailiren</a></h3><div class=\"icon-watch2\"><a class=\"mal-icon ml8 ga-click\" href=\"https://myanimelist.net/anime/44074/Shiguang_Dailiren/video\" title=\"Watch Episode Video\"><i class=\"malicon malicon-movie-episode\"></i></a></div></div><br/><div class=\"information di-ib mt4\">\n",
       "         ONA (11 eps)<br/>\n",
       "         Apr 2021 - Jul 2021<br/>\n",
       "         301,546 members\n",
       "       </div></div>\n",
       " </td>\n",
       " <td class=\"score ac fs14\"><div class=\"js-top-ranking-score-col di-ib al\"><i class=\"icon-score-star fa-solid fa-star mr4 on\"></i><span class=\"text on score-label score-8\">8.72</span></div>\n",
       " </td>\n",
       " <td class=\"your-score ac fs14\">\n",
       " <div class=\"js-top-ranking-your-score-col di-ib al\"> <a class=\"\" href=\"https://myanimelist.net/login.php?error=login_required&amp;from=%2Ftopanime.php\"><i class=\"icon-score-star fa-solid fa-star mr4\"></i><span class=\"text score-label score-na\">N/A</span></a>\n",
       " </div>\n",
       " </td>\n",
       " <td class=\"status ac\"> <a class=\"btn-addEdit-large btn-anime-watch-status js-anime-watch-status notinmylist\" href=\"https://myanimelist.net/login.php?error=login_required&amp;from=%2Ftopanime.php\"><i class=\"fa-solid fa-square-plus-o mr4\"></i>Add to list</a>\n",
       " </td>\n",
       " </tr>,\n",
       " <tr class=\"ranking-list\">\n",
       " <td class=\"rank ac\" valign=\"top\">\n",
       " <span class=\"lightLink top-anime-rank-text rank2\">48</span>\n",
       " </td>\n",
       " <td class=\"title al va-t word-break\">\n",
       " <a class=\"hoverinfo_trigger fl-l ml12 mr8\" href=\"https://myanimelist.net/anime/48569/86_Part_2\" id=\"#area48569\" rel=\"#info48569\">\n",
       " <img alt=\"Anime: 86 Part 2\" border=\"0\" class=\"lazyload\" data-src=\"https://cdn.myanimelist.net/r/50x70/images/anime/1321/117508.jpg?s=c65bc9967a249eb362a1e037e13ebd73\" data-srcset=\"https://cdn.myanimelist.net/r/50x70/images/anime/1321/117508.jpg?s=c65bc9967a249eb362a1e037e13ebd73 1x, https://cdn.myanimelist.net/r/100x140/images/anime/1321/117508.jpg?s=05384e864c30f7e24293311d31e86b16 2x\" height=\"70\" width=\"50\"/>\n",
       " </a>\n",
       " <div class=\"detail\"><div id=\"area48569\">\n",
       " <div class=\"hoverinfo\" id=\"info48569\" rel=\"a48569\"></div>\n",
       " </div>\n",
       " <div class=\"di-ib clearfix\"><h3 class=\"hoverinfo_trigger fl-l fs14 fw-b anime_ranking_h3\"><a href=\"https://myanimelist.net/anime/48569/86_Part_2\" id=\"#area48569\" rel=\"#info48569\">86 Part 2</a></h3><div class=\"icon-watch2\"><a class=\"mal-icon ml8 ga-click\" href=\"https://myanimelist.net/anime/48569/86_Part_2/video\" title=\"Watch Episode Video\"><i class=\"malicon malicon-movie-episode\"></i></a></div></div><br/><div class=\"information di-ib mt4\">\n",
       "         TV (12 eps)<br/>\n",
       "         Oct 2021 - Mar 2022<br/>\n",
       "         437,166 members\n",
       "       </div></div>\n",
       " </td>\n",
       " <td class=\"score ac fs14\"><div class=\"js-top-ranking-score-col di-ib al\"><i class=\"icon-score-star fa-solid fa-star mr4 on\"></i><span class=\"text on score-label score-8\">8.71</span></div>\n",
       " </td>\n",
       " <td class=\"your-score ac fs14\">\n",
       " <div class=\"js-top-ranking-your-score-col di-ib al\"> <a class=\"\" href=\"https://myanimelist.net/login.php?error=login_required&amp;from=%2Ftopanime.php\"><i class=\"icon-score-star fa-solid fa-star mr4\"></i><span class=\"text score-label score-na\">N/A</span></a>\n",
       " </div>\n",
       " </td>\n",
       " <td class=\"status ac\"> <a class=\"btn-addEdit-large btn-anime-watch-status js-anime-watch-status notinmylist\" href=\"https://myanimelist.net/login.php?error=login_required&amp;from=%2Ftopanime.php\"><i class=\"fa-solid fa-square-plus-o mr4\"></i>Add to list</a>\n",
       " </td>\n",
       " </tr>,\n",
       " <tr class=\"ranking-list\">\n",
       " <td class=\"rank ac\" valign=\"top\">\n",
       " <span class=\"lightLink top-anime-rank-text rank2\">49</span>\n",
       " </td>\n",
       " <td class=\"title al va-t word-break\">\n",
       " <a class=\"hoverinfo_trigger fl-l ml12 mr8\" href=\"https://myanimelist.net/anime/2921/Ashita_no_Joe_2\" id=\"#area2921\" rel=\"#info2921\">\n",
       " <img alt=\"Anime: Ashita no Joe 2\" border=\"0\" class=\"lazyload\" data-src=\"https://cdn.myanimelist.net/r/50x70/images/anime/3/45028.jpg?s=bf58ff0c0759f78bf968a74ec535d0d2\" data-srcset=\"https://cdn.myanimelist.net/r/50x70/images/anime/3/45028.jpg?s=bf58ff0c0759f78bf968a74ec535d0d2 1x, https://cdn.myanimelist.net/r/100x140/images/anime/3/45028.jpg?s=b3022f518e674c9c4c9be212b232ce66 2x\" height=\"70\" width=\"50\"/>\n",
       " </a>\n",
       " <div class=\"detail\"><div id=\"area2921\">\n",
       " <div class=\"hoverinfo\" id=\"info2921\" rel=\"a2921\"></div>\n",
       " </div>\n",
       " <div class=\"di-ib clearfix\"><h3 class=\"hoverinfo_trigger fl-l fs14 fw-b anime_ranking_h3\"><a href=\"https://myanimelist.net/anime/2921/Ashita_no_Joe_2\" id=\"#area2921\" rel=\"#info2921\">Ashita no Joe 2</a></h3><div class=\"icon-watch2\"><a class=\"mal-icon ml8 ga-click\" href=\"https://myanimelist.net/anime/2921/Ashita_no_Joe_2/video\" title=\"Watch Episode Video\"><i class=\"malicon malicon-movie-episode\"></i></a></div></div><br/><div class=\"information di-ib mt4\">\n",
       "         TV (47 eps)<br/>\n",
       "         Oct 1980 - Aug 1981<br/>\n",
       "         48,020 members\n",
       "       </div></div>\n",
       " </td>\n",
       " <td class=\"score ac fs14\"><div class=\"js-top-ranking-score-col di-ib al\"><i class=\"icon-score-star fa-solid fa-star mr4 on\"></i><span class=\"text on score-label score-8\">8.71</span></div>\n",
       " </td>\n",
       " <td class=\"your-score ac fs14\">\n",
       " <div class=\"js-top-ranking-your-score-col di-ib al\"> <a class=\"\" href=\"https://myanimelist.net/login.php?error=login_required&amp;from=%2Ftopanime.php\"><i class=\"icon-score-star fa-solid fa-star mr4\"></i><span class=\"text score-label score-na\">N/A</span></a>\n",
       " </div>\n",
       " </td>\n",
       " <td class=\"status ac\"> <a class=\"btn-addEdit-large btn-anime-watch-status js-anime-watch-status notinmylist\" href=\"https://myanimelist.net/login.php?error=login_required&amp;from=%2Ftopanime.php\"><i class=\"fa-solid fa-square-plus-o mr4\"></i>Add to list</a>\n",
       " </td>\n",
       " </tr>,\n",
       " <tr class=\"ranking-list\">\n",
       " <td class=\"rank ac\" valign=\"top\">\n",
       " <span class=\"lightLink top-anime-rank-text rank2\">50</span>\n",
       " </td>\n",
       " <td class=\"title al va-t word-break\">\n",
       " <a class=\"hoverinfo_trigger fl-l ml12 mr8\" href=\"https://myanimelist.net/anime/1575/Code_Geass__Hangyaku_no_Lelouch\" id=\"#area1575\" rel=\"#info1575\">\n",
       " <img alt=\"Anime: Code Geass: Hangyaku no Lelouch\" border=\"0\" class=\"lazyload\" data-src=\"https://cdn.myanimelist.net/r/50x70/images/anime/1032/135088.jpg?s=b67496ea440a61c0d7ac14173e0bd6e0\" data-srcset=\"https://cdn.myanimelist.net/r/50x70/images/anime/1032/135088.jpg?s=b67496ea440a61c0d7ac14173e0bd6e0 1x, https://cdn.myanimelist.net/r/100x140/images/anime/1032/135088.jpg?s=8b895bc4ead0cfc55ccfc813ba627926 2x\" height=\"70\" width=\"50\"/>\n",
       " </a>\n",
       " <div class=\"detail\"><div id=\"area1575\">\n",
       " <div class=\"hoverinfo\" id=\"info1575\" rel=\"a1575\"></div>\n",
       " </div>\n",
       " <div class=\"di-ib clearfix\"><h3 class=\"hoverinfo_trigger fl-l fs14 fw-b anime_ranking_h3\"><a href=\"https://myanimelist.net/anime/1575/Code_Geass__Hangyaku_no_Lelouch\" id=\"#area1575\" rel=\"#info1575\">Code Geass: Hangyaku no Lelouch</a></h3><div class=\"icon-watch2\"><a class=\"mal-icon ml8 ga-click\" href=\"https://myanimelist.net/anime/1575/Code_Geass__Hangyaku_no_Lelouch/video\" title=\"Watch Episode Video\"><i class=\"malicon malicon-movie-episode\"></i></a></div></div><br/><div class=\"information di-ib mt4\">\n",
       "         TV (25 eps)<br/>\n",
       "         Oct 2006 - Jul 2007<br/>\n",
       "         2,158,979 members\n",
       "       </div></div>\n",
       " </td>\n",
       " <td class=\"score ac fs14\"><div class=\"js-top-ranking-score-col di-ib al\"><i class=\"icon-score-star fa-solid fa-star mr4 on\"></i><span class=\"text on score-label score-8\">8.70</span></div>\n",
       " </td>\n",
       " <td class=\"your-score ac fs14\">\n",
       " <div class=\"js-top-ranking-your-score-col di-ib al\"> <a class=\"\" href=\"https://myanimelist.net/login.php?error=login_required&amp;from=%2Ftopanime.php\"><i class=\"icon-score-star fa-solid fa-star mr4\"></i><span class=\"text score-label score-na\">N/A</span></a>\n",
       " </div>\n",
       " </td>\n",
       " <td class=\"status ac\"> <a class=\"btn-addEdit-large btn-anime-watch-status js-anime-watch-status notinmylist\" href=\"https://myanimelist.net/login.php?error=login_required&amp;from=%2Ftopanime.php\"><i class=\"fa-solid fa-square-plus-o mr4\"></i>Add to list</a>\n",
       " </td>\n",
       " </tr>]"
      ]
     },
     "execution_count": 17,
     "metadata": {},
     "output_type": "execute_result"
    }
   ],
   "source": [
    "anime_tags"
   ]
  },
  {
   "cell_type": "markdown",
   "id": "efbec705",
   "metadata": {},
   "source": [
    "## Extracting Ranks"
   ]
  },
  {
   "cell_type": "code",
   "execution_count": 18,
   "id": "a965f363",
   "metadata": {},
   "outputs": [],
   "source": [
    "# Extract rankings\n",
    "ranks_html = parser.select(\"td[class='rank ac']\")"
   ]
  },
  {
   "cell_type": "code",
   "execution_count": 19,
   "id": "5c262a7b",
   "metadata": {},
   "outputs": [],
   "source": [
    "ranks = [rank.text.strip() for rank in ranks_html]"
   ]
  },
  {
   "cell_type": "code",
   "execution_count": 20,
   "id": "5fd71720",
   "metadata": {},
   "outputs": [
    {
     "name": "stdout",
     "output_type": "stream",
     "text": [
      "['1', '2', '3', '4', '5', '6', '7', '8', '9', '10', '11', '12', '13', '14', '15', '16', '17', '18', '19', '20', '21', '22', '23', '24', '25', '26', '27', '28', '29', '30', '31', '32', '33', '34', '35', '36', '37', '38', '39', '40', '41', '42', '43', '44', '45', '46', '47', '48', '49', '50']\n"
     ]
    }
   ],
   "source": [
    "print(ranks)"
   ]
  },
  {
   "cell_type": "code",
   "execution_count": 21,
   "id": "d5a937f8",
   "metadata": {},
   "outputs": [
    {
     "data": {
      "text/plain": [
       "<td class=\"title al va-t word-break\">\n",
       "<a class=\"hoverinfo_trigger fl-l ml12 mr8\" href=\"https://myanimelist.net/anime/5114/Fullmetal_Alchemist__Brotherhood\" id=\"#area5114\" rel=\"#info5114\">\n",
       "<img alt=\"Anime: Fullmetal Alchemist: Brotherhood\" border=\"0\" class=\"lazyload\" data-src=\"https://cdn.myanimelist.net/r/50x70/images/anime/1208/94745.jpg?s=7892d01b6c74f1bf945f7a3ff3bb1f6a\" data-srcset=\"https://cdn.myanimelist.net/r/50x70/images/anime/1208/94745.jpg?s=7892d01b6c74f1bf945f7a3ff3bb1f6a 1x, https://cdn.myanimelist.net/r/100x140/images/anime/1208/94745.jpg?s=5ec18639199f2c60b60009f34222228d 2x\" height=\"70\" width=\"50\">\n",
       "</img></a>\n",
       "<div class=\"detail\"><div id=\"area5114\">\n",
       "<div class=\"hoverinfo\" id=\"info5114\" rel=\"a5114\"></div>\n",
       "</div>\n",
       "<div class=\"di-ib clearfix\"><h3 class=\"hoverinfo_trigger fl-l fs14 fw-b anime_ranking_h3\"><a href=\"https://myanimelist.net/anime/5114/Fullmetal_Alchemist__Brotherhood\" id=\"#area5114\" rel=\"#info5114\">Fullmetal Alchemist: Brotherhood</a></h3><div class=\"icon-watch2\"><a class=\"mal-icon ml8 ga-click\" href=\"https://myanimelist.net/anime/5114/Fullmetal_Alchemist__Brotherhood/video\" title=\"Watch Episode Video\"><i class=\"malicon malicon-movie-episode\"></i></a></div></div><br/><div class=\"information di-ib mt4\">\n",
       "        TV (64 eps)<br/>\n",
       "        Apr 2009 - Jul 2010<br/>\n",
       "        3,188,280 members\n",
       "      </div></div>\n",
       "</td>"
      ]
     },
     "execution_count": 21,
     "metadata": {},
     "output_type": "execute_result"
    }
   ],
   "source": [
    "parser.select(\"td[class='title al va-t word-break']\")[0]"
   ]
  },
  {
   "cell_type": "markdown",
   "id": "9b38d402",
   "metadata": {},
   "source": [
    "## Extracting Anime page links"
   ]
  },
  {
   "cell_type": "code",
   "execution_count": 22,
   "id": "c2b8bd9a",
   "metadata": {},
   "outputs": [],
   "source": [
    "anime_info = parser.select(\"td[class='title al va-t word-break']\")"
   ]
  },
  {
   "cell_type": "code",
   "execution_count": 23,
   "id": "8b6b5544",
   "metadata": {},
   "outputs": [],
   "source": [
    "# # Extract url link\n",
    "# anime_info[0].find('a')['href']"
   ]
  },
  {
   "cell_type": "code",
   "execution_count": 24,
   "id": "8fb5f9af",
   "metadata": {},
   "outputs": [],
   "source": [
    "# Extract url links for all anime\n",
    "def extract_anime_links(a_tags):\n",
    "    links = []\n",
    "    for tag in a_tags:\n",
    "        tag = str(tag)\n",
    "        pattern = r'href=(\\S+)'\n",
    "        link = re.findall(pattern, tag)[0][1:-1]\n",
    "        links.append(link)\n",
    "        \n",
    "    return links"
   ]
  },
  {
   "cell_type": "code",
   "execution_count": 25,
   "id": "a78c857c",
   "metadata": {},
   "outputs": [],
   "source": [
    "a_tags = [info.a for info in anime_info]"
   ]
  },
  {
   "cell_type": "code",
   "execution_count": 26,
   "id": "957ad4f8",
   "metadata": {},
   "outputs": [],
   "source": [
    "anime_links = extract_anime_links(a_tags)"
   ]
  },
  {
   "cell_type": "code",
   "execution_count": 27,
   "id": "f6d83f14",
   "metadata": {},
   "outputs": [
    {
     "data": {
      "text/plain": [
       "['https://myanimelist.net/anime/5114/Fullmetal_Alchemist__Brotherhood',\n",
       " 'https://myanimelist.net/anime/9253/Steins_Gate',\n",
       " 'https://myanimelist.net/anime/41467/Bleach__Sennen_Kessen-hen',\n",
       " 'https://myanimelist.net/anime/28977/Gintama°',\n",
       " 'https://myanimelist.net/anime/43608/Kaguya-sama_wa_Kokurasetai__Ultra_Romantic',\n",
       " 'https://myanimelist.net/anime/38524/Shingeki_no_Kyojin_Season_3_Part_2',\n",
       " 'https://myanimelist.net/anime/51535/Shingeki_no_Kyojin__The_Final_Season_-_Kanketsu-hen',\n",
       " 'https://myanimelist.net/anime/9969/Gintama',\n",
       " 'https://myanimelist.net/anime/39486/Gintama__The_Final',\n",
       " 'https://myanimelist.net/anime/11061/Hunter_x_Hunter_2011']"
      ]
     },
     "execution_count": 27,
     "metadata": {},
     "output_type": "execute_result"
    }
   ],
   "source": [
    "anime_links[:10]"
   ]
  },
  {
   "cell_type": "markdown",
   "id": "2b6363f3",
   "metadata": {},
   "source": [
    "## Extracting Anime images"
   ]
  },
  {
   "cell_type": "code",
   "execution_count": 28,
   "id": "55fbab2c",
   "metadata": {},
   "outputs": [],
   "source": [
    "# # Extract anime image links\n",
    "# anime_info[0].find('img')['data-srcset'].split(', ')[1][:-3]"
   ]
  },
  {
   "cell_type": "code",
   "execution_count": 29,
   "id": "87dca127",
   "metadata": {},
   "outputs": [],
   "source": [
    "# Extract image links for all anime\n",
    "def extract_img_links(img_tags):\n",
    "    links = []\n",
    "    for tag in img_tags:\n",
    "        tag = str(tag)\n",
    "        pattern = r'https\\S+'\n",
    "        link = re.findall(pattern, tag)[2]\n",
    "        links.append(link)\n",
    "        \n",
    "    return links"
   ]
  },
  {
   "cell_type": "code",
   "execution_count": 30,
   "id": "5053aba8",
   "metadata": {},
   "outputs": [],
   "source": [
    "img_tags = [info.img for info in anime_info]"
   ]
  },
  {
   "cell_type": "code",
   "execution_count": 31,
   "id": "f4e7a8aa",
   "metadata": {},
   "outputs": [],
   "source": [
    "img_links = extract_img_links(img_tags)"
   ]
  },
  {
   "cell_type": "code",
   "execution_count": 32,
   "id": "53b0a52f",
   "metadata": {},
   "outputs": [
    {
     "data": {
      "text/plain": [
       "['https://cdn.myanimelist.net/r/100x140/images/anime/1208/94745.jpg?s=5ec18639199f2c60b60009f34222228d',\n",
       " 'https://cdn.myanimelist.net/r/100x140/images/anime/1935/127974.jpg?s=a0c19821033ace3af10310a253a9e85b',\n",
       " 'https://cdn.myanimelist.net/r/100x140/images/anime/1908/135431.jpg?s=b2907feb4a5b5797b2fabdfe87fe9fae',\n",
       " 'https://cdn.myanimelist.net/r/100x140/images/anime/3/72078.jpg?s=bb26d45bb75e13601e1b8029f717c2b0',\n",
       " 'https://cdn.myanimelist.net/r/100x140/images/anime/1160/122627.jpg?s=e4e56950556c022515bea0f8936ce541',\n",
       " 'https://cdn.myanimelist.net/r/100x140/images/anime/1517/100633.jpg?s=63aa0647fb4eba3fd80288489f0a64a4',\n",
       " 'https://cdn.myanimelist.net/r/100x140/images/anime/1279/131078.jpg?s=1b0db37795fa4240d5b66641643f76bb',\n",
       " 'https://cdn.myanimelist.net/r/100x140/images/anime/4/50361.jpg?s=0fde0801daa3b436029146f401e5e77f',\n",
       " 'https://cdn.myanimelist.net/r/100x140/images/anime/1245/116760.jpg?s=8fc5f4b436ee45307a882948a5e768ac',\n",
       " 'https://cdn.myanimelist.net/r/100x140/images/anime/1337/99013.jpg?s=9eb9cdcf5b9da3538432d014fd0aaa31']"
      ]
     },
     "execution_count": 32,
     "metadata": {},
     "output_type": "execute_result"
    }
   ],
   "source": [
    "img_links[:10]"
   ]
  },
  {
   "cell_type": "markdown",
   "id": "7eba3a72",
   "metadata": {},
   "source": [
    "## Getting Anime info"
   ]
  },
  {
   "cell_type": "code",
   "execution_count": 33,
   "id": "61d2bd0b",
   "metadata": {},
   "outputs": [
    {
     "data": {
      "text/plain": [
       "'\\n\\n\\n\\n\\n\\n\\nFullmetal Alchemist: Brotherhood\\n        TV (64 eps)\\n        Apr 2009 - Jul 2010\\n        3,188,280 members\\n      \\n'"
      ]
     },
     "execution_count": 33,
     "metadata": {},
     "output_type": "execute_result"
    }
   ],
   "source": [
    "anime_info[0].text"
   ]
  },
  {
   "cell_type": "code",
   "execution_count": 34,
   "id": "f190569a",
   "metadata": {},
   "outputs": [],
   "source": [
    "# Create list of all anime with their listed info\n",
    "anime_list = list(info.text.strip().split('\\n') for info in anime_info)"
   ]
  },
  {
   "cell_type": "code",
   "execution_count": 35,
   "id": "b65d970f",
   "metadata": {},
   "outputs": [],
   "source": [
    "def clean_list(anime_list):\n",
    "    for anime in anime_list:\n",
    "        for i, x in enumerate(anime):\n",
    "            anime[i] = x.strip()"
   ]
  },
  {
   "cell_type": "code",
   "execution_count": 36,
   "id": "47405f57",
   "metadata": {},
   "outputs": [
    {
     "data": {
      "text/plain": [
       "[['Fullmetal Alchemist: Brotherhood',\n",
       "  'TV (64 eps)',\n",
       "  'Apr 2009 - Jul 2010',\n",
       "  '3,188,280 members'],\n",
       " ['Steins;Gate', 'TV (24 eps)', 'Apr 2011 - Sep 2011', '2,449,954 members']]"
      ]
     },
     "execution_count": 36,
     "metadata": {},
     "output_type": "execute_result"
    }
   ],
   "source": [
    "clean_list(anime_list)\n",
    "anime_list[:2]"
   ]
  },
  {
   "cell_type": "markdown",
   "id": "853eba12",
   "metadata": {},
   "source": [
    "## Getting scores or ratings"
   ]
  },
  {
   "cell_type": "code",
   "execution_count": 37,
   "id": "fdf16e28",
   "metadata": {},
   "outputs": [
    {
     "data": {
      "text/plain": [
       "<td class=\"score ac fs14\"><div class=\"js-top-ranking-score-col di-ib al\"><i class=\"icon-score-star fa-solid fa-star mr4 on\"></i><span class=\"text on score-label score-9\">9.07</span></div>\n",
       "</td>"
      ]
     },
     "execution_count": 37,
     "metadata": {},
     "output_type": "execute_result"
    }
   ],
   "source": [
    "parser.select(\"td[class='score ac fs14']\")[1]"
   ]
  },
  {
   "cell_type": "code",
   "execution_count": 38,
   "id": "475daac2",
   "metadata": {},
   "outputs": [],
   "source": [
    "score_tags = parser.select(\"td[class='score ac fs14']\")"
   ]
  },
  {
   "cell_type": "code",
   "execution_count": 39,
   "id": "535bf553",
   "metadata": {},
   "outputs": [],
   "source": [
    "# Extract scores of individual anime\n",
    "anime_scores = [score.text.strip() for score in score_tags]"
   ]
  },
  {
   "cell_type": "code",
   "execution_count": 40,
   "id": "df600137",
   "metadata": {
    "scrolled": true
   },
   "outputs": [
    {
     "data": {
      "text/plain": [
       "['9.10', '9.07', '9.06', '9.06', '9.05']"
      ]
     },
     "execution_count": 40,
     "metadata": {},
     "output_type": "execute_result"
    }
   ],
   "source": [
    "anime_scores[:5]"
   ]
  },
  {
   "cell_type": "code",
   "execution_count": 41,
   "id": "faabd17e",
   "metadata": {},
   "outputs": [],
   "source": [
    "# Get titles of all anime\n",
    "anime_titles = [l[0] for l in anime_list]"
   ]
  },
  {
   "cell_type": "code",
   "execution_count": 42,
   "id": "caa48fd3",
   "metadata": {},
   "outputs": [
    {
     "data": {
      "text/plain": [
       "['Fullmetal Alchemist: Brotherhood',\n",
       " 'Steins;Gate',\n",
       " 'Bleach: Sennen Kessen-hen',\n",
       " 'Gintama°',\n",
       " 'Kaguya-sama wa Kokurasetai: Ultra Romantic']"
      ]
     },
     "execution_count": 42,
     "metadata": {},
     "output_type": "execute_result"
    }
   ],
   "source": [
    "anime_titles[:5]"
   ]
  },
  {
   "cell_type": "markdown",
   "id": "962f6120",
   "metadata": {},
   "source": [
    "## Displaying Anime info with images"
   ]
  },
  {
   "cell_type": "code",
   "execution_count": 43,
   "id": "7808cfac",
   "metadata": {},
   "outputs": [],
   "source": [
    "# Display info for top 50 anime\n",
    "def display_anime(title_list, img_list, score_list):\n",
    "    for i, (title, img_url, score) in enumerate(zip(title_list, img_list, score_list)):\n",
    "        print(f\"Rank {i+1}\")\n",
    "        print(title)\n",
    "        display(Image(url=img_url, width=100))\n",
    "        print(f\"Score {score}\")\n",
    "        print('\\n'+'='*50)"
   ]
  },
  {
   "cell_type": "code",
   "execution_count": 44,
   "id": "d629733d",
   "metadata": {
    "scrolled": true
   },
   "outputs": [
    {
     "name": "stdout",
     "output_type": "stream",
     "text": [
      "Rank 1\n",
      "Fullmetal Alchemist: Brotherhood\n"
     ]
    },
    {
     "data": {
      "text/html": [
       "<img src=\"https://cdn.myanimelist.net/r/100x140/images/anime/1208/94745.jpg?s=5ec18639199f2c60b60009f34222228d\" width=\"100\"/>"
      ],
      "text/plain": [
       "<IPython.core.display.Image object>"
      ]
     },
     "metadata": {},
     "output_type": "display_data"
    },
    {
     "name": "stdout",
     "output_type": "stream",
     "text": [
      "Score 9.10\n",
      "\n",
      "==================================================\n",
      "Rank 2\n",
      "Steins;Gate\n"
     ]
    },
    {
     "data": {
      "text/html": [
       "<img src=\"https://cdn.myanimelist.net/r/100x140/images/anime/1935/127974.jpg?s=a0c19821033ace3af10310a253a9e85b\" width=\"100\"/>"
      ],
      "text/plain": [
       "<IPython.core.display.Image object>"
      ]
     },
     "metadata": {},
     "output_type": "display_data"
    },
    {
     "name": "stdout",
     "output_type": "stream",
     "text": [
      "Score 9.07\n",
      "\n",
      "==================================================\n",
      "Rank 3\n",
      "Bleach: Sennen Kessen-hen\n"
     ]
    },
    {
     "data": {
      "text/html": [
       "<img src=\"https://cdn.myanimelist.net/r/100x140/images/anime/1908/135431.jpg?s=b2907feb4a5b5797b2fabdfe87fe9fae\" width=\"100\"/>"
      ],
      "text/plain": [
       "<IPython.core.display.Image object>"
      ]
     },
     "metadata": {},
     "output_type": "display_data"
    },
    {
     "name": "stdout",
     "output_type": "stream",
     "text": [
      "Score 9.06\n",
      "\n",
      "==================================================\n",
      "Rank 4\n",
      "Gintama°\n"
     ]
    },
    {
     "data": {
      "text/html": [
       "<img src=\"https://cdn.myanimelist.net/r/100x140/images/anime/3/72078.jpg?s=bb26d45bb75e13601e1b8029f717c2b0\" width=\"100\"/>"
      ],
      "text/plain": [
       "<IPython.core.display.Image object>"
      ]
     },
     "metadata": {},
     "output_type": "display_data"
    },
    {
     "name": "stdout",
     "output_type": "stream",
     "text": [
      "Score 9.06\n",
      "\n",
      "==================================================\n",
      "Rank 5\n",
      "Kaguya-sama wa Kokurasetai: Ultra Romantic\n"
     ]
    },
    {
     "data": {
      "text/html": [
       "<img src=\"https://cdn.myanimelist.net/r/100x140/images/anime/1160/122627.jpg?s=e4e56950556c022515bea0f8936ce541\" width=\"100\"/>"
      ],
      "text/plain": [
       "<IPython.core.display.Image object>"
      ]
     },
     "metadata": {},
     "output_type": "display_data"
    },
    {
     "name": "stdout",
     "output_type": "stream",
     "text": [
      "Score 9.05\n",
      "\n",
      "==================================================\n",
      "Rank 6\n",
      "Shingeki no Kyojin Season 3 Part 2\n"
     ]
    },
    {
     "data": {
      "text/html": [
       "<img src=\"https://cdn.myanimelist.net/r/100x140/images/anime/1517/100633.jpg?s=63aa0647fb4eba3fd80288489f0a64a4\" width=\"100\"/>"
      ],
      "text/plain": [
       "<IPython.core.display.Image object>"
      ]
     },
     "metadata": {},
     "output_type": "display_data"
    },
    {
     "name": "stdout",
     "output_type": "stream",
     "text": [
      "Score 9.05\n",
      "\n",
      "==================================================\n",
      "Rank 7\n",
      "Shingeki no Kyojin: The Final Season - Kanketsu-hen\n"
     ]
    },
    {
     "data": {
      "text/html": [
       "<img src=\"https://cdn.myanimelist.net/r/100x140/images/anime/1279/131078.jpg?s=1b0db37795fa4240d5b66641643f76bb\" width=\"100\"/>"
      ],
      "text/plain": [
       "<IPython.core.display.Image object>"
      ]
     },
     "metadata": {},
     "output_type": "display_data"
    },
    {
     "name": "stdout",
     "output_type": "stream",
     "text": [
      "Score 9.05\n",
      "\n",
      "==================================================\n",
      "Rank 8\n",
      "Gintama'\n"
     ]
    },
    {
     "data": {
      "text/html": [
       "<img src=\"https://cdn.myanimelist.net/r/100x140/images/anime/4/50361.jpg?s=0fde0801daa3b436029146f401e5e77f\" width=\"100\"/>"
      ],
      "text/plain": [
       "<IPython.core.display.Image object>"
      ]
     },
     "metadata": {},
     "output_type": "display_data"
    },
    {
     "name": "stdout",
     "output_type": "stream",
     "text": [
      "Score 9.04\n",
      "\n",
      "==================================================\n",
      "Rank 9\n",
      "Gintama: The Final\n"
     ]
    },
    {
     "data": {
      "text/html": [
       "<img src=\"https://cdn.myanimelist.net/r/100x140/images/anime/1245/116760.jpg?s=8fc5f4b436ee45307a882948a5e768ac\" width=\"100\"/>"
      ],
      "text/plain": [
       "<IPython.core.display.Image object>"
      ]
     },
     "metadata": {},
     "output_type": "display_data"
    },
    {
     "name": "stdout",
     "output_type": "stream",
     "text": [
      "Score 9.04\n",
      "\n",
      "==================================================\n",
      "Rank 10\n",
      "Hunter x Hunter (2011)\n"
     ]
    },
    {
     "data": {
      "text/html": [
       "<img src=\"https://cdn.myanimelist.net/r/100x140/images/anime/1337/99013.jpg?s=9eb9cdcf5b9da3538432d014fd0aaa31\" width=\"100\"/>"
      ],
      "text/plain": [
       "<IPython.core.display.Image object>"
      ]
     },
     "metadata": {},
     "output_type": "display_data"
    },
    {
     "name": "stdout",
     "output_type": "stream",
     "text": [
      "Score 9.04\n",
      "\n",
      "==================================================\n",
      "Rank 11\n",
      "Gintama': Enchousen\n"
     ]
    },
    {
     "data": {
      "text/html": [
       "<img src=\"https://cdn.myanimelist.net/r/100x140/images/anime/1452/123686.jpg?s=8c58b95cccbdac9b5ad4f15f4802baa9\" width=\"100\"/>"
      ],
      "text/plain": [
       "<IPython.core.display.Image object>"
      ]
     },
     "metadata": {},
     "output_type": "display_data"
    },
    {
     "name": "stdout",
     "output_type": "stream",
     "text": [
      "Score 9.03\n",
      "\n",
      "==================================================\n",
      "Rank 12\n",
      "Ginga Eiyuu Densetsu\n"
     ]
    },
    {
     "data": {
      "text/html": [
       "<img src=\"https://cdn.myanimelist.net/r/100x140/images/anime/13/13225.jpg?s=8672a3462de209d1b78348d01df76d7b\" width=\"100\"/>"
      ],
      "text/plain": [
       "<IPython.core.display.Image object>"
      ]
     },
     "metadata": {},
     "output_type": "display_data"
    },
    {
     "name": "stdout",
     "output_type": "stream",
     "text": [
      "Score 9.02\n",
      "\n",
      "==================================================\n",
      "Rank 13\n",
      "Fruits Basket: The Final\n"
     ]
    },
    {
     "data": {
      "text/html": [
       "<img src=\"https://cdn.myanimelist.net/r/100x140/images/anime/1085/114792.jpg?s=5c97b2781732adc9ad6711abcb6f2f1b\" width=\"100\"/>"
      ],
      "text/plain": [
       "<IPython.core.display.Image object>"
      ]
     },
     "metadata": {},
     "output_type": "display_data"
    },
    {
     "name": "stdout",
     "output_type": "stream",
     "text": [
      "Score 9.00\n",
      "\n",
      "==================================================\n",
      "Rank 14\n",
      "Gintama.\n"
     ]
    },
    {
     "data": {
      "text/html": [
       "<img src=\"https://cdn.myanimelist.net/r/100x140/images/anime/3/83528.jpg?s=c5709cac379ebb2033052a3357967397\" width=\"100\"/>"
      ],
      "text/plain": [
       "<IPython.core.display.Image object>"
      ]
     },
     "metadata": {},
     "output_type": "display_data"
    },
    {
     "name": "stdout",
     "output_type": "stream",
     "text": [
      "Score 8.98\n",
      "\n",
      "==================================================\n",
      "Rank 15\n",
      "Gintama\n"
     ]
    },
    {
     "data": {
      "text/html": [
       "<img src=\"https://cdn.myanimelist.net/r/100x140/images/anime/10/73274.jpg?s=bfda4724d048534799329614778234c8\" width=\"100\"/>"
      ],
      "text/plain": [
       "<IPython.core.display.Image object>"
      ]
     },
     "metadata": {},
     "output_type": "display_data"
    },
    {
     "name": "stdout",
     "output_type": "stream",
     "text": [
      "Score 8.94\n",
      "\n",
      "==================================================\n",
      "Rank 16\n",
      "Koe no Katachi\n"
     ]
    },
    {
     "data": {
      "text/html": [
       "<img src=\"https://cdn.myanimelist.net/r/100x140/images/anime/1122/96435.jpg?s=ba7b364bdcb787802fa6be905e944d77\" width=\"100\"/>"
      ],
      "text/plain": [
       "<IPython.core.display.Image object>"
      ]
     },
     "metadata": {},
     "output_type": "display_data"
    },
    {
     "name": "stdout",
     "output_type": "stream",
     "text": [
      "Score 8.94\n",
      "\n",
      "==================================================\n",
      "Rank 17\n",
      "3-gatsu no Lion 2nd Season\n"
     ]
    },
    {
     "data": {
      "text/html": [
       "<img src=\"https://cdn.myanimelist.net/r/100x140/images/anime/3/88469.jpg?s=4e26ac5f78b5501d6969e9eb528247a9\" width=\"100\"/>"
      ],
      "text/plain": [
       "<IPython.core.display.Image object>"
      ]
     },
     "metadata": {},
     "output_type": "display_data"
    },
    {
     "name": "stdout",
     "output_type": "stream",
     "text": [
      "Score 8.93\n",
      "\n",
      "==================================================\n",
      "Rank 18\n",
      "Clannad: After Story\n"
     ]
    },
    {
     "data": {
      "text/html": [
       "<img src=\"https://cdn.myanimelist.net/r/100x140/images/anime/1299/110774.jpg?s=0bee2596cef8c43a9879b9d26089f868\" width=\"100\"/>"
      ],
      "text/plain": [
       "<IPython.core.display.Image object>"
      ]
     },
     "metadata": {},
     "output_type": "display_data"
    },
    {
     "name": "stdout",
     "output_type": "stream",
     "text": [
      "Score 8.93\n",
      "\n",
      "==================================================\n",
      "Rank 19\n",
      "Code Geass: Hangyaku no Lelouch R2\n"
     ]
    },
    {
     "data": {
      "text/html": [
       "<img src=\"https://cdn.myanimelist.net/r/100x140/images/anime/1088/135089.jpg?s=c9d93439e18ea1111b4bc8645b108a94\" width=\"100\"/>"
      ],
      "text/plain": [
       "<IPython.core.display.Image object>"
      ]
     },
     "metadata": {},
     "output_type": "display_data"
    },
    {
     "name": "stdout",
     "output_type": "stream",
     "text": [
      "Score 8.91\n",
      "\n",
      "==================================================\n",
      "Rank 20\n",
      "Gintama Movie 2: Kanketsu-hen - Yorozuya yo Eien Nare\n"
     ]
    },
    {
     "data": {
      "text/html": [
       "<img src=\"https://cdn.myanimelist.net/r/100x140/images/anime/10/51723.jpg?s=bb3d98c8accf4dc8510356c856646b10\" width=\"100\"/>"
      ],
      "text/plain": [
       "<IPython.core.display.Image object>"
      ]
     },
     "metadata": {},
     "output_type": "display_data"
    },
    {
     "name": "stdout",
     "output_type": "stream",
     "text": [
      "Score 8.91\n",
      "\n",
      "==================================================\n",
      "Rank 21\n",
      "Violet Evergarden Movie\n"
     ]
    },
    {
     "data": {
      "text/html": [
       "<img src=\"https://cdn.myanimelist.net/r/100x140/images/anime/1825/110716.jpg?s=38d96ccb027cd045ccabfd4e03f64841\" width=\"100\"/>"
      ],
      "text/plain": [
       "<IPython.core.display.Image object>"
      ]
     },
     "metadata": {},
     "output_type": "display_data"
    },
    {
     "name": "stdout",
     "output_type": "stream",
     "text": [
      "Score 8.90\n",
      "\n",
      "==================================================\n",
      "Rank 22\n",
      "Owarimonogatari 2nd Season\n"
     ]
    },
    {
     "data": {
      "text/html": [
       "<img src=\"https://cdn.myanimelist.net/r/100x140/images/anime/6/87322.jpg?s=5d0ef74fd5c7e44a1e695e85d0b86331\" width=\"100\"/>"
      ],
      "text/plain": [
       "<IPython.core.display.Image object>"
      ]
     },
     "metadata": {},
     "output_type": "display_data"
    },
    {
     "name": "stdout",
     "output_type": "stream",
     "text": [
      "Score 8.88\n",
      "\n",
      "==================================================\n",
      "Rank 23\n",
      "\"Oshi no Ko\"\n"
     ]
    },
    {
     "data": {
      "text/html": [
       "<img src=\"https://cdn.myanimelist.net/r/100x140/images/anime/1812/134736.jpg?s=ec39651bb29c97e364b842163f6c50f1\" width=\"100\"/>"
      ],
      "text/plain": [
       "<IPython.core.display.Image object>"
      ]
     },
     "metadata": {},
     "output_type": "display_data"
    },
    {
     "name": "stdout",
     "output_type": "stream",
     "text": [
      "Score 8.88\n",
      "\n",
      "==================================================\n",
      "Rank 24\n",
      "Gintama.: Shirogane no Tamashii-hen - Kouhan-sen\n"
     ]
    },
    {
     "data": {
      "text/html": [
       "<img src=\"https://cdn.myanimelist.net/r/100x140/images/anime/1776/96566.jpg?s=a87ac154753a26bfed4dbd557a8544ba\" width=\"100\"/>"
      ],
      "text/plain": [
       "<IPython.core.display.Image object>"
      ]
     },
     "metadata": {},
     "output_type": "display_data"
    },
    {
     "name": "stdout",
     "output_type": "stream",
     "text": [
      "Score 8.88\n",
      "\n",
      "==================================================\n",
      "Rank 25\n",
      "Monster\n"
     ]
    },
    {
     "data": {
      "text/html": [
       "<img src=\"https://cdn.myanimelist.net/r/100x140/images/anime/10/18793.jpg?s=a195ca612dd64dac5ffb27c8ea9d0b32\" width=\"100\"/>"
      ],
      "text/plain": [
       "<IPython.core.display.Image object>"
      ]
     },
     "metadata": {},
     "output_type": "display_data"
    },
    {
     "name": "stdout",
     "output_type": "stream",
     "text": [
      "Score 8.87\n",
      "\n",
      "==================================================\n",
      "Rank 26\n",
      "Kaguya-sama wa Kokurasetai: First Kiss wa Owaranai\n"
     ]
    },
    {
     "data": {
      "text/html": [
       "<img src=\"https://cdn.myanimelist.net/r/100x140/images/anime/1670/130060.jpg?s=1f94b50d924740fa5a4a748091963523\" width=\"100\"/>"
      ],
      "text/plain": [
       "<IPython.core.display.Image object>"
      ]
     },
     "metadata": {},
     "output_type": "display_data"
    },
    {
     "name": "stdout",
     "output_type": "stream",
     "text": [
      "Score 8.86\n",
      "\n",
      "==================================================\n",
      "Rank 27\n",
      "Kimi no Na wa.\n"
     ]
    },
    {
     "data": {
      "text/html": [
       "<img src=\"https://cdn.myanimelist.net/r/100x140/images/anime/5/87048.jpg?s=0c69e78d81c675e0bbceae647b10dc5f\" width=\"100\"/>"
      ],
      "text/plain": [
       "<IPython.core.display.Image object>"
      ]
     },
     "metadata": {},
     "output_type": "display_data"
    },
    {
     "name": "stdout",
     "output_type": "stream",
     "text": [
      "Score 8.85\n",
      "\n",
      "==================================================\n",
      "Rank 28\n",
      "Vinland Saga Season 2\n"
     ]
    },
    {
     "data": {
      "text/html": [
       "<img src=\"https://cdn.myanimelist.net/r/100x140/images/anime/1170/124312.jpg?s=ff4c3d1432e28f2439e4ed886c032504\" width=\"100\"/>"
      ],
      "text/plain": [
       "<IPython.core.display.Image object>"
      ]
     },
     "metadata": {},
     "output_type": "display_data"
    },
    {
     "name": "stdout",
     "output_type": "stream",
     "text": [
      "Score 8.84\n",
      "\n",
      "==================================================\n",
      "Rank 29\n",
      "Bocchi the Rock!\n"
     ]
    },
    {
     "data": {
      "text/html": [
       "<img src=\"https://cdn.myanimelist.net/r/100x140/images/anime/1448/127956.jpg?s=7e81931856657309a247d932fd1d74d8\" width=\"100\"/>"
      ],
      "text/plain": [
       "<IPython.core.display.Image object>"
      ]
     },
     "metadata": {},
     "output_type": "display_data"
    },
    {
     "name": "stdout",
     "output_type": "stream",
     "text": [
      "Score 8.84\n",
      "\n",
      "==================================================\n",
      "Rank 30\n",
      "Gintama.: Shirogane no Tamashii-hen\n"
     ]
    },
    {
     "data": {
      "text/html": [
       "<img src=\"https://cdn.myanimelist.net/r/100x140/images/anime/12/89603.jpg?s=d1ae6c96378fe82ecb9481705060774c\" width=\"100\"/>"
      ],
      "text/plain": [
       "<IPython.core.display.Image object>"
      ]
     },
     "metadata": {},
     "output_type": "display_data"
    },
    {
     "name": "stdout",
     "output_type": "stream",
     "text": [
      "Score 8.81\n",
      "\n",
      "==================================================\n",
      "Rank 31\n",
      "Kingdom 3rd Season\n"
     ]
    },
    {
     "data": {
      "text/html": [
       "<img src=\"https://cdn.myanimelist.net/r/100x140/images/anime/1443/111830.jpg?s=5f4d5d796fc9522d7311846d60320695\" width=\"100\"/>"
      ],
      "text/plain": [
       "<IPython.core.display.Image object>"
      ]
     },
     "metadata": {},
     "output_type": "display_data"
    },
    {
     "name": "stdout",
     "output_type": "stream",
     "text": [
      "Score 8.81\n",
      "\n",
      "==================================================\n",
      "Rank 32\n",
      "Mob Psycho 100 II\n"
     ]
    },
    {
     "data": {
      "text/html": [
       "<img src=\"https://cdn.myanimelist.net/r/100x140/images/anime/1918/96303.jpg?s=51c465145beb577d45305bca91984d7a\" width=\"100\"/>"
      ],
      "text/plain": [
       "<IPython.core.display.Image object>"
      ]
     },
     "metadata": {},
     "output_type": "display_data"
    },
    {
     "name": "stdout",
     "output_type": "stream",
     "text": [
      "Score 8.80\n",
      "\n",
      "==================================================\n",
      "Rank 33\n",
      "Shingeki no Kyojin: The Final Season\n"
     ]
    },
    {
     "data": {
      "text/html": [
       "<img src=\"https://cdn.myanimelist.net/r/100x140/images/anime/1000/110531.jpg?s=1c08fa93884604f959aa65825a252e12\" width=\"100\"/>"
      ],
      "text/plain": [
       "<IPython.core.display.Image object>"
      ]
     },
     "metadata": {},
     "output_type": "display_data"
    },
    {
     "name": "stdout",
     "output_type": "stream",
     "text": [
      "Score 8.80\n",
      "\n",
      "==================================================\n",
      "Rank 34\n",
      "Kimetsu no Yaiba: Yuukaku-hen\n"
     ]
    },
    {
     "data": {
      "text/html": [
       "<img src=\"https://cdn.myanimelist.net/r/100x140/images/anime/1908/120036.jpg?s=2044bfc6d0c06e18048e668518a97176\" width=\"100\"/>"
      ],
      "text/plain": [
       "<IPython.core.display.Image object>"
      ]
     },
     "metadata": {},
     "output_type": "display_data"
    },
    {
     "name": "stdout",
     "output_type": "stream",
     "text": [
      "Score 8.79\n",
      "\n",
      "==================================================\n",
      "Rank 35\n",
      "Kizumonogatari III: Reiketsu-hen\n"
     ]
    },
    {
     "data": {
      "text/html": [
       "<img src=\"https://cdn.myanimelist.net/r/100x140/images/anime/1084/112813.jpg?s=693153a2a61cdcc79d61b58a3e2a7a6d\" width=\"100\"/>"
      ],
      "text/plain": [
       "<IPython.core.display.Image object>"
      ]
     },
     "metadata": {},
     "output_type": "display_data"
    },
    {
     "name": "stdout",
     "output_type": "stream",
     "text": [
      "Score 8.79\n",
      "\n",
      "==================================================\n",
      "Rank 36\n",
      "Sen to Chihiro no Kamikakushi\n"
     ]
    },
    {
     "data": {
      "text/html": [
       "<img src=\"https://cdn.myanimelist.net/r/100x140/images/anime/6/79597.jpg?s=63a85532fc52356a938354277201d43c\" width=\"100\"/>"
      ],
      "text/plain": [
       "<IPython.core.display.Image object>"
      ]
     },
     "metadata": {},
     "output_type": "display_data"
    },
    {
     "name": "stdout",
     "output_type": "stream",
     "text": [
      "Score 8.78\n",
      "\n",
      "==================================================\n",
      "Rank 37\n",
      "Haikyuu!! Karasuno Koukou vs. Shiratorizawa Gakuen Koukou\n"
     ]
    },
    {
     "data": {
      "text/html": [
       "<img src=\"https://cdn.myanimelist.net/r/100x140/images/anime/7/81992.jpg?s=b241bc153f456bb54b738ab507d6d5db\" width=\"100\"/>"
      ],
      "text/plain": [
       "<IPython.core.display.Image object>"
      ]
     },
     "metadata": {},
     "output_type": "display_data"
    },
    {
     "name": "stdout",
     "output_type": "stream",
     "text": [
      "Score 8.78\n",
      "\n",
      "==================================================\n",
      "Rank 38\n",
      "Monogatari Series: Second Season\n"
     ]
    },
    {
     "data": {
      "text/html": [
       "<img src=\"https://cdn.myanimelist.net/r/100x140/images/anime/1807/121534.jpg?s=450ac03a6fcd16dcb5076e42f01fd9ad\" width=\"100\"/>"
      ],
      "text/plain": [
       "<IPython.core.display.Image object>"
      ]
     },
     "metadata": {},
     "output_type": "display_data"
    },
    {
     "name": "stdout",
     "output_type": "stream",
     "text": [
      "Score 8.77\n",
      "\n",
      "==================================================\n",
      "Rank 39\n",
      "Shingeki no Kyojin: The Final Season Part 2\n"
     ]
    },
    {
     "data": {
      "text/html": [
       "<img src=\"https://cdn.myanimelist.net/r/100x140/images/anime/1948/120625.jpg?s=ad6cd47edcacb01a61121853204f8139\" width=\"100\"/>"
      ],
      "text/plain": [
       "<IPython.core.display.Image object>"
      ]
     },
     "metadata": {},
     "output_type": "display_data"
    },
    {
     "name": "stdout",
     "output_type": "stream",
     "text": [
      "Score 8.77\n",
      "\n",
      "==================================================\n",
      "Rank 40\n",
      "Hajime no Ippo\n"
     ]
    },
    {
     "data": {
      "text/html": [
       "<img src=\"https://cdn.myanimelist.net/r/100x140/images/anime/4/86334.jpg?s=448fd8dfdff2a7db7de2b85633a691f2\" width=\"100\"/>"
      ],
      "text/plain": [
       "<IPython.core.display.Image object>"
      ]
     },
     "metadata": {},
     "output_type": "display_data"
    },
    {
     "name": "stdout",
     "output_type": "stream",
     "text": [
      "Score 8.76\n",
      "\n",
      "==================================================\n",
      "Rank 41\n",
      "Cowboy Bebop\n"
     ]
    },
    {
     "data": {
      "text/html": [
       "<img src=\"https://cdn.myanimelist.net/r/100x140/images/anime/4/19644.jpg?s=7873ad89996b0d6be8dd51e60d88d82c\" width=\"100\"/>"
      ],
      "text/plain": [
       "<IPython.core.display.Image object>"
      ]
     },
     "metadata": {},
     "output_type": "display_data"
    },
    {
     "name": "stdout",
     "output_type": "stream",
     "text": [
      "Score 8.75\n",
      "\n",
      "==================================================\n",
      "Rank 42\n",
      "Kingdom 4th Season\n"
     ]
    },
    {
     "data": {
      "text/html": [
       "<img src=\"https://cdn.myanimelist.net/r/100x140/images/anime/1566/122794.jpg?s=ff859548e52a05da1eff40de2b5b05bf\" width=\"100\"/>"
      ],
      "text/plain": [
       "<IPython.core.display.Image object>"
      ]
     },
     "metadata": {},
     "output_type": "display_data"
    },
    {
     "name": "stdout",
     "output_type": "stream",
     "text": [
      "Score 8.74\n",
      "\n",
      "==================================================\n",
      "Rank 43\n",
      "Vinland Saga\n"
     ]
    },
    {
     "data": {
      "text/html": [
       "<img src=\"https://cdn.myanimelist.net/r/100x140/images/anime/1500/103005.jpg?s=175909bd438e4f7969afdae5a2f58931\" width=\"100\"/>"
      ],
      "text/plain": [
       "<IPython.core.display.Image object>"
      ]
     },
     "metadata": {},
     "output_type": "display_data"
    },
    {
     "name": "stdout",
     "output_type": "stream",
     "text": [
      "Score 8.74\n",
      "\n",
      "==================================================\n",
      "Rank 44\n",
      "Mushishi Zoku Shou 2nd Season\n"
     ]
    },
    {
     "data": {
      "text/html": [
       "<img src=\"https://cdn.myanimelist.net/r/100x140/images/anime/9/68095.jpg?s=847f720879a312ca3ac84fd8327b174e\" width=\"100\"/>"
      ],
      "text/plain": [
       "<IPython.core.display.Image object>"
      ]
     },
     "metadata": {},
     "output_type": "display_data"
    },
    {
     "name": "stdout",
     "output_type": "stream",
     "text": [
      "Score 8.73\n",
      "\n",
      "==================================================\n",
      "Rank 45\n",
      "Shouwa Genroku Rakugo Shinjuu: Sukeroku Futatabi-hen\n"
     ]
    },
    {
     "data": {
      "text/html": [
       "<img src=\"https://cdn.myanimelist.net/r/100x140/images/anime/1493/124765.jpg?s=aaa4a2fa43b61e27db0a64265577753c\" width=\"100\"/>"
      ],
      "text/plain": [
       "<IPython.core.display.Image object>"
      ]
     },
     "metadata": {},
     "output_type": "display_data"
    },
    {
     "name": "stdout",
     "output_type": "stream",
     "text": [
      "Score 8.73\n",
      "\n",
      "==================================================\n",
      "Rank 46\n",
      "Mob Psycho 100 III\n"
     ]
    },
    {
     "data": {
      "text/html": [
       "<img src=\"https://cdn.myanimelist.net/r/100x140/images/anime/1228/125011.jpg?s=e817eceaeea480cbf057b210d6052de0\" width=\"100\"/>"
      ],
      "text/plain": [
       "<IPython.core.display.Image object>"
      ]
     },
     "metadata": {},
     "output_type": "display_data"
    },
    {
     "name": "stdout",
     "output_type": "stream",
     "text": [
      "Score 8.72\n",
      "\n",
      "==================================================\n",
      "Rank 47\n",
      "Shiguang Dailiren\n"
     ]
    },
    {
     "data": {
      "text/html": [
       "<img src=\"https://cdn.myanimelist.net/r/100x140/images/anime/1135/114867.jpg?s=9c2fd9fddaef71035742747d5145fc04\" width=\"100\"/>"
      ],
      "text/plain": [
       "<IPython.core.display.Image object>"
      ]
     },
     "metadata": {},
     "output_type": "display_data"
    },
    {
     "name": "stdout",
     "output_type": "stream",
     "text": [
      "Score 8.72\n",
      "\n",
      "==================================================\n",
      "Rank 48\n",
      "86 Part 2\n"
     ]
    },
    {
     "data": {
      "text/html": [
       "<img src=\"https://cdn.myanimelist.net/r/100x140/images/anime/1321/117508.jpg?s=05384e864c30f7e24293311d31e86b16\" width=\"100\"/>"
      ],
      "text/plain": [
       "<IPython.core.display.Image object>"
      ]
     },
     "metadata": {},
     "output_type": "display_data"
    },
    {
     "name": "stdout",
     "output_type": "stream",
     "text": [
      "Score 8.71\n",
      "\n",
      "==================================================\n",
      "Rank 49\n",
      "Ashita no Joe 2\n"
     ]
    },
    {
     "data": {
      "text/html": [
       "<img src=\"https://cdn.myanimelist.net/r/100x140/images/anime/3/45028.jpg?s=b3022f518e674c9c4c9be212b232ce66\" width=\"100\"/>"
      ],
      "text/plain": [
       "<IPython.core.display.Image object>"
      ]
     },
     "metadata": {},
     "output_type": "display_data"
    },
    {
     "name": "stdout",
     "output_type": "stream",
     "text": [
      "Score 8.71\n",
      "\n",
      "==================================================\n",
      "Rank 50\n",
      "Code Geass: Hangyaku no Lelouch\n"
     ]
    },
    {
     "data": {
      "text/html": [
       "<img src=\"https://cdn.myanimelist.net/r/100x140/images/anime/1032/135088.jpg?s=8b895bc4ead0cfc55ccfc813ba627926\" width=\"100\"/>"
      ],
      "text/plain": [
       "<IPython.core.display.Image object>"
      ]
     },
     "metadata": {},
     "output_type": "display_data"
    },
    {
     "name": "stdout",
     "output_type": "stream",
     "text": [
      "Score 8.70\n",
      "\n",
      "==================================================\n"
     ]
    }
   ],
   "source": [
    "display_anime(anime_titles, img_links, anime_scores)"
   ]
  },
  {
   "cell_type": "markdown",
   "id": "b9db26e1",
   "metadata": {},
   "source": [
    "## Creating dictionaries"
   ]
  },
  {
   "cell_type": "code",
   "execution_count": 45,
   "id": "30d0685c",
   "metadata": {},
   "outputs": [],
   "source": [
    "# Add scores, links and image_links to anime info list\n",
    "for i, (link, img_link, score) in enumerate(zip(anime_links, img_links, anime_scores)):\n",
    "    anime_list[i].append(link)\n",
    "    anime_list[i].append(img_link)\n",
    "    anime_list[i].append(score)"
   ]
  },
  {
   "cell_type": "code",
   "execution_count": 46,
   "id": "62979d13",
   "metadata": {},
   "outputs": [
    {
     "data": {
      "text/plain": [
       "[['Fullmetal Alchemist: Brotherhood',\n",
       "  'TV (64 eps)',\n",
       "  'Apr 2009 - Jul 2010',\n",
       "  '3,188,280 members',\n",
       "  'https://myanimelist.net/anime/5114/Fullmetal_Alchemist__Brotherhood',\n",
       "  'https://cdn.myanimelist.net/r/100x140/images/anime/1208/94745.jpg?s=5ec18639199f2c60b60009f34222228d',\n",
       "  '9.10'],\n",
       " ['Steins;Gate',\n",
       "  'TV (24 eps)',\n",
       "  'Apr 2011 - Sep 2011',\n",
       "  '2,449,954 members',\n",
       "  'https://myanimelist.net/anime/9253/Steins_Gate',\n",
       "  'https://cdn.myanimelist.net/r/100x140/images/anime/1935/127974.jpg?s=a0c19821033ace3af10310a253a9e85b',\n",
       "  '9.07']]"
      ]
     },
     "execution_count": 46,
     "metadata": {},
     "output_type": "execute_result"
    }
   ],
   "source": [
    "anime_list[:2]"
   ]
  },
  {
   "cell_type": "code",
   "execution_count": 47,
   "id": "95460e8f",
   "metadata": {},
   "outputs": [],
   "source": [
    "# Making a dictionary from the anime list\n",
    "def make_dict_from_list(anime):\n",
    "    anime_dict = {'Title': anime[0],\n",
    "                  'Num_episodes': anime[1],\n",
    "                  'Aired_through': anime[2],\n",
    "                  'Num_members': anime[3],\n",
    "                  'page_url': anime[4],\n",
    "                  'image_url': anime[5],\n",
    "                  'Score': anime[6]}\n",
    "    return anime_dict"
   ]
  },
  {
   "cell_type": "code",
   "execution_count": 48,
   "id": "fbcf0304",
   "metadata": {},
   "outputs": [],
   "source": [
    "anime_dict = list(map(make_dict_from_list, anime_list))"
   ]
  },
  {
   "cell_type": "code",
   "execution_count": 49,
   "id": "8041cd24",
   "metadata": {},
   "outputs": [
    {
     "data": {
      "text/plain": [
       "[{'Title': 'Fullmetal Alchemist: Brotherhood',\n",
       "  'Num_episodes': 'TV (64 eps)',\n",
       "  'Aired_through': 'Apr 2009 - Jul 2010',\n",
       "  'Num_members': '3,188,280 members',\n",
       "  'page_url': 'https://myanimelist.net/anime/5114/Fullmetal_Alchemist__Brotherhood',\n",
       "  'image_url': 'https://cdn.myanimelist.net/r/100x140/images/anime/1208/94745.jpg?s=5ec18639199f2c60b60009f34222228d',\n",
       "  'Score': '9.10'},\n",
       " {'Title': 'Steins;Gate',\n",
       "  'Num_episodes': 'TV (24 eps)',\n",
       "  'Aired_through': 'Apr 2011 - Sep 2011',\n",
       "  'Num_members': '2,449,954 members',\n",
       "  'page_url': 'https://myanimelist.net/anime/9253/Steins_Gate',\n",
       "  'image_url': 'https://cdn.myanimelist.net/r/100x140/images/anime/1935/127974.jpg?s=a0c19821033ace3af10310a253a9e85b',\n",
       "  'Score': '9.07'}]"
      ]
     },
     "execution_count": 49,
     "metadata": {},
     "output_type": "execute_result"
    }
   ],
   "source": [
    "anime_dict[:2]"
   ]
  },
  {
   "cell_type": "markdown",
   "id": "b368b187",
   "metadata": {},
   "source": [
    "## Creating a dataframe"
   ]
  },
  {
   "cell_type": "code",
   "execution_count": 50,
   "id": "4420990b",
   "metadata": {},
   "outputs": [],
   "source": [
    "anime_ranks_df = pd.DataFrame(anime_dict)"
   ]
  },
  {
   "cell_type": "code",
   "execution_count": 51,
   "id": "4d261f86",
   "metadata": {
    "scrolled": false
   },
   "outputs": [
    {
     "data": {
      "text/html": [
       "<div>\n",
       "<style scoped>\n",
       "    .dataframe tbody tr th:only-of-type {\n",
       "        vertical-align: middle;\n",
       "    }\n",
       "\n",
       "    .dataframe tbody tr th {\n",
       "        vertical-align: top;\n",
       "    }\n",
       "\n",
       "    .dataframe thead th {\n",
       "        text-align: right;\n",
       "    }\n",
       "</style>\n",
       "<table border=\"1\" class=\"dataframe\">\n",
       "  <thead>\n",
       "    <tr style=\"text-align: right;\">\n",
       "      <th></th>\n",
       "      <th>Title</th>\n",
       "      <th>Num_episodes</th>\n",
       "      <th>Aired_through</th>\n",
       "      <th>Num_members</th>\n",
       "      <th>page_url</th>\n",
       "      <th>image_url</th>\n",
       "      <th>Score</th>\n",
       "    </tr>\n",
       "  </thead>\n",
       "  <tbody>\n",
       "    <tr>\n",
       "      <th>0</th>\n",
       "      <td>Fullmetal Alchemist: Brotherhood</td>\n",
       "      <td>TV (64 eps)</td>\n",
       "      <td>Apr 2009 - Jul 2010</td>\n",
       "      <td>3,188,280 members</td>\n",
       "      <td>https://myanimelist.net/anime/5114/Fullmetal_A...</td>\n",
       "      <td>https://cdn.myanimelist.net/r/100x140/images/a...</td>\n",
       "      <td>9.10</td>\n",
       "    </tr>\n",
       "    <tr>\n",
       "      <th>1</th>\n",
       "      <td>Steins;Gate</td>\n",
       "      <td>TV (24 eps)</td>\n",
       "      <td>Apr 2011 - Sep 2011</td>\n",
       "      <td>2,449,954 members</td>\n",
       "      <td>https://myanimelist.net/anime/9253/Steins_Gate</td>\n",
       "      <td>https://cdn.myanimelist.net/r/100x140/images/a...</td>\n",
       "      <td>9.07</td>\n",
       "    </tr>\n",
       "    <tr>\n",
       "      <th>2</th>\n",
       "      <td>Bleach: Sennen Kessen-hen</td>\n",
       "      <td>TV (13 eps)</td>\n",
       "      <td>Oct 2022 - Dec 2022</td>\n",
       "      <td>453,048 members</td>\n",
       "      <td>https://myanimelist.net/anime/41467/Bleach__Se...</td>\n",
       "      <td>https://cdn.myanimelist.net/r/100x140/images/a...</td>\n",
       "      <td>9.06</td>\n",
       "    </tr>\n",
       "    <tr>\n",
       "      <th>3</th>\n",
       "      <td>Gintama°</td>\n",
       "      <td>TV (51 eps)</td>\n",
       "      <td>Apr 2015 - Mar 2016</td>\n",
       "      <td>598,624 members</td>\n",
       "      <td>https://myanimelist.net/anime/28977/Gintama°</td>\n",
       "      <td>https://cdn.myanimelist.net/r/100x140/images/a...</td>\n",
       "      <td>9.06</td>\n",
       "    </tr>\n",
       "    <tr>\n",
       "      <th>4</th>\n",
       "      <td>Kaguya-sama wa Kokurasetai: Ultra Romantic</td>\n",
       "      <td>TV (13 eps)</td>\n",
       "      <td>Apr 2022 - Jun 2022</td>\n",
       "      <td>830,316 members</td>\n",
       "      <td>https://myanimelist.net/anime/43608/Kaguya-sam...</td>\n",
       "      <td>https://cdn.myanimelist.net/r/100x140/images/a...</td>\n",
       "      <td>9.05</td>\n",
       "    </tr>\n",
       "  </tbody>\n",
       "</table>\n",
       "</div>"
      ],
      "text/plain": [
       "                                        Title Num_episodes  \\\n",
       "0            Fullmetal Alchemist: Brotherhood  TV (64 eps)   \n",
       "1                                 Steins;Gate  TV (24 eps)   \n",
       "2                   Bleach: Sennen Kessen-hen  TV (13 eps)   \n",
       "3                                    Gintama°  TV (51 eps)   \n",
       "4  Kaguya-sama wa Kokurasetai: Ultra Romantic  TV (13 eps)   \n",
       "\n",
       "         Aired_through        Num_members  \\\n",
       "0  Apr 2009 - Jul 2010  3,188,280 members   \n",
       "1  Apr 2011 - Sep 2011  2,449,954 members   \n",
       "2  Oct 2022 - Dec 2022    453,048 members   \n",
       "3  Apr 2015 - Mar 2016    598,624 members   \n",
       "4  Apr 2022 - Jun 2022    830,316 members   \n",
       "\n",
       "                                            page_url  \\\n",
       "0  https://myanimelist.net/anime/5114/Fullmetal_A...   \n",
       "1     https://myanimelist.net/anime/9253/Steins_Gate   \n",
       "2  https://myanimelist.net/anime/41467/Bleach__Se...   \n",
       "3       https://myanimelist.net/anime/28977/Gintama°   \n",
       "4  https://myanimelist.net/anime/43608/Kaguya-sam...   \n",
       "\n",
       "                                           image_url Score  \n",
       "0  https://cdn.myanimelist.net/r/100x140/images/a...  9.10  \n",
       "1  https://cdn.myanimelist.net/r/100x140/images/a...  9.07  \n",
       "2  https://cdn.myanimelist.net/r/100x140/images/a...  9.06  \n",
       "3  https://cdn.myanimelist.net/r/100x140/images/a...  9.06  \n",
       "4  https://cdn.myanimelist.net/r/100x140/images/a...  9.05  "
      ]
     },
     "execution_count": 51,
     "metadata": {},
     "output_type": "execute_result"
    }
   ],
   "source": [
    "anime_ranks_df.head()"
   ]
  },
  {
   "cell_type": "code",
   "execution_count": 43,
   "id": "7ecccfeb",
   "metadata": {},
   "outputs": [],
   "source": [
    "# anime_ranks_df.to_csv(\"MAL-anime-rankings.csv\")"
   ]
  },
  {
   "cell_type": "markdown",
   "id": "883c43ca",
   "metadata": {},
   "source": [
    "## Storing data in csv file"
   ]
  },
  {
   "cell_type": "code",
   "execution_count": 80,
   "id": "719a8212",
   "metadata": {},
   "outputs": [],
   "source": [
    "# Make the csv file to store data\n",
    "def make_anime_csv(anime_dict, filename):\n",
    "    with open(filename, 'a', encoding='utf-8') as f:\n",
    "        w = csv.DictWriter(f, anime_dict[0].keys())\n",
    "#         w.writeheader()\n",
    "        w.writerows(anime_dict)"
   ]
  },
  {
   "cell_type": "code",
   "execution_count": 92,
   "id": "021e387f",
   "metadata": {},
   "outputs": [],
   "source": [
    "# Displaying df with ranks\n",
    "# anime_ranks_df.columns = ['Title', 'Num_episodes', 'Aired_through', 'Num_members', 'page_url', 'image_url', 'Score']\n",
    "# anime_ranks_df.index = ranks\n",
    "# anime_ranks_df.index.name = 'Rank'"
   ]
  },
  {
   "cell_type": "code",
   "execution_count": 45,
   "id": "7e989e4d",
   "metadata": {},
   "outputs": [],
   "source": [
    "# # Convert links to clickable links\n",
    "# anime_ranks_df.loc[:, ['Anime_url', 'Image_url']] = anime_ranks_df.loc[:, ['Anime_url', 'Image_url']].style.format(lambda x: f'<a href=\"{x}\">{x}</a>')"
   ]
  },
  {
   "cell_type": "code",
   "execution_count": 83,
   "id": "4092806c",
   "metadata": {},
   "outputs": [],
   "source": [
    "# make_anime_csv(anime_dict, 'test.csv')"
   ]
  },
  {
   "cell_type": "markdown",
   "id": "f00d62a2",
   "metadata": {},
   "source": [
    "## Combining it all together"
   ]
  },
  {
   "cell_type": "code",
   "execution_count": 85,
   "id": "8257c5c0",
   "metadata": {},
   "outputs": [],
   "source": [
    "# Helper functions\n",
    "def extract_links(a_tags):\n",
    "    links = []\n",
    "    for tag in a_tags:\n",
    "        tag = str(tag)\n",
    "        pattern = r'href=(\\S+)'\n",
    "        link = re.findall(pattern, tag)[0][1:-1]\n",
    "        links.append(link)\n",
    "        \n",
    "    return links\n",
    "\n",
    "def extract_img_links(img_tags):\n",
    "    links = []\n",
    "    for tag in img_tags:\n",
    "        tag = str(tag)\n",
    "        pattern = r'https\\S+'\n",
    "        link = re.findall(pattern, tag)[2]\n",
    "        links.append(link)\n",
    "        \n",
    "    return links\n",
    "\n",
    "def clean_list(List, type='anime'):\n",
    "    for l in List:\n",
    "        for i, x in enumerate(l):\n",
    "            l[i] = x.strip()\n",
    "        if type == 'manga':\n",
    "            del l[1]\n",
    "            \n",
    "def make_dict_from_list(l):\n",
    "    return {'Title': l[0],\n",
    "            'Num_episodes': l[1],\n",
    "            'Aired_through': l[2],\n",
    "            'Num_members': l[3],\n",
    "            'page_url': l[4],\n",
    "            'image_url': l[5],\n",
    "            'Score': l[6]}\n",
    "\n",
    "def make_csv(dic, filename):\n",
    "    with open(filename, 'a', encoding='utf-8') as f:\n",
    "        w = csv.DictWriter(f, dic[0].keys())\n",
    "        w.writerows(dic)\n",
    "\n",
    "def display_info(title_list, img_list, score_list, top_n):\n",
    "    for i, (title, img_url, score) in enumerate(zip(title_list, img_list, score_list)):\n",
    "        print(f\"Rank {i+1}\")\n",
    "        print(title)\n",
    "        display(Image(url=img_url, width=100))\n",
    "        print(f\"Score {score}\")\n",
    "        print('\\n'+'='*50)\n",
    "        if i+1 == top_n:\n",
    "            break"
   ]
  },
  {
   "cell_type": "code",
   "execution_count": 86,
   "id": "c8a893a1",
   "metadata": {},
   "outputs": [],
   "source": [
    "# Get top 50 anime\n",
    "def get_anime_info(anime_url=\"https://myanimelist.net/topanime.php\"):\n",
    "    response = requests.get(anime_url)\n",
    "    parser = BeautifulSoup(response.text, \"html.parser\")\n",
    "    \n",
    "    # Get rankings\n",
    "    ranks_html = parser.select(\"td[class='rank ac']\")\n",
    "    ranks = [rank.text.strip() for rank in ranks_html]\n",
    "    \n",
    "    # Get individual anime links\n",
    "    anime_info = parser.select(\"td[class='title al va-t word-break']\")\n",
    "    a_tags = [info.a for info in anime_info]\n",
    "    anime_links = extract_links(a_tags)\n",
    "\n",
    "    # Get image links for all anime\n",
    "    img_tags = [info.img for info in anime_info]\n",
    "    img_links = extract_img_links(img_tags)\n",
    "\n",
    "    # Create list of all anime with their listed info\n",
    "    anime_list = list(info.text.strip().split('\\n') for info in anime_info)\n",
    "    clean_list(anime_list)\n",
    "    \n",
    "    # Extract scores of individual anime\n",
    "    score_tags = parser.select(\"td[class='score ac fs14']\")\n",
    "    anime_scores = [score.text.strip() for score in score_tags]\n",
    "    \n",
    "    # Add scores, links and image_links to anime info list\n",
    "    for i, (link, img_link, score) in enumerate(zip(anime_links, img_links, anime_scores)):\n",
    "        anime_list[i].append(link)\n",
    "        anime_list[i].append(img_link)\n",
    "        anime_list[i].append(score)\n",
    "        \n",
    "    # Storing all info in dictionaries\n",
    "    anime_dict = list(map(make_dict_from_list, anime_list))\n",
    "    \n",
    "    # Get titles of all anime\n",
    "    anime_titles = [l[0] for l in anime_list]\n",
    "    \n",
    "#     display_info(anime_titles, img_links, anime_scores, top_n)\n",
    "    return anime_dict"
   ]
  },
  {
   "cell_type": "code",
   "execution_count": 5,
   "id": "f09bf455",
   "metadata": {},
   "outputs": [
    {
     "data": {
      "text/plain": [
       "[{'Title': 'Fullmetal Alchemist: Brotherhood',\n",
       "  'Num_episodes': 'TV (64 eps)',\n",
       "  'Aired_through': 'Apr 2009 - Jul 2010',\n",
       "  'Num_members': '3,188,280 members',\n",
       "  'page_url': 'https://myanimelist.net/anime/5114/Fullmetal_Alchemist__Brotherhood',\n",
       "  'image_url': 'https://cdn.myanimelist.net/r/100x140/images/anime/1208/94745.jpg?s=5ec18639199f2c60b60009f34222228d',\n",
       "  'Score': '9.10'},\n",
       " {'Title': 'Steins;Gate',\n",
       "  'Num_episodes': 'TV (24 eps)',\n",
       "  'Aired_through': 'Apr 2011 - Sep 2011',\n",
       "  'Num_members': '2,449,954 members',\n",
       "  'page_url': 'https://myanimelist.net/anime/9253/Steins_Gate',\n",
       "  'image_url': 'https://cdn.myanimelist.net/r/100x140/images/anime/1935/127974.jpg?s=a0c19821033ace3af10310a253a9e85b',\n",
       "  'Score': '9.07'},\n",
       " {'Title': 'Bleach: Sennen Kessen-hen',\n",
       "  'Num_episodes': 'TV (13 eps)',\n",
       "  'Aired_through': 'Oct 2022 - Dec 2022',\n",
       "  'Num_members': '453,048 members',\n",
       "  'page_url': 'https://myanimelist.net/anime/41467/Bleach__Sennen_Kessen-hen',\n",
       "  'image_url': 'https://cdn.myanimelist.net/r/100x140/images/anime/1908/135431.jpg?s=b2907feb4a5b5797b2fabdfe87fe9fae',\n",
       "  'Score': '9.06'},\n",
       " {'Title': 'Gintama°',\n",
       "  'Num_episodes': 'TV (51 eps)',\n",
       "  'Aired_through': 'Apr 2015 - Mar 2016',\n",
       "  'Num_members': '598,624 members',\n",
       "  'page_url': 'https://myanimelist.net/anime/28977/Gintama°',\n",
       "  'image_url': 'https://cdn.myanimelist.net/r/100x140/images/anime/3/72078.jpg?s=bb26d45bb75e13601e1b8029f717c2b0',\n",
       "  'Score': '9.06'},\n",
       " {'Title': 'Kaguya-sama wa Kokurasetai: Ultra Romantic',\n",
       "  'Num_episodes': 'TV (13 eps)',\n",
       "  'Aired_through': 'Apr 2022 - Jun 2022',\n",
       "  'Num_members': '830,316 members',\n",
       "  'page_url': 'https://myanimelist.net/anime/43608/Kaguya-sama_wa_Kokurasetai__Ultra_Romantic',\n",
       "  'image_url': 'https://cdn.myanimelist.net/r/100x140/images/anime/1160/122627.jpg?s=e4e56950556c022515bea0f8936ce541',\n",
       "  'Score': '9.05'},\n",
       " {'Title': 'Shingeki no Kyojin Season 3 Part 2',\n",
       "  'Num_episodes': 'TV (10 eps)',\n",
       "  'Aired_through': 'Apr 2019 - Jul 2019',\n",
       "  'Num_members': '2,115,515 members',\n",
       "  'page_url': 'https://myanimelist.net/anime/38524/Shingeki_no_Kyojin_Season_3_Part_2',\n",
       "  'image_url': 'https://cdn.myanimelist.net/r/100x140/images/anime/1517/100633.jpg?s=63aa0647fb4eba3fd80288489f0a64a4',\n",
       "  'Score': '9.05'},\n",
       " {'Title': 'Shingeki no Kyojin: The Final Season - Kanketsu-hen',\n",
       "  'Num_episodes': 'Special (2 eps)',\n",
       "  'Aired_through': 'Mar 2023 - 2023',\n",
       "  'Num_members': '446,872 members',\n",
       "  'page_url': 'https://myanimelist.net/anime/51535/Shingeki_no_Kyojin__The_Final_Season_-_Kanketsu-hen',\n",
       "  'image_url': 'https://cdn.myanimelist.net/r/100x140/images/anime/1279/131078.jpg?s=1b0db37795fa4240d5b66641643f76bb',\n",
       "  'Score': '9.05'},\n",
       " {'Title': \"Gintama'\",\n",
       "  'Num_episodes': 'TV (51 eps)',\n",
       "  'Aired_through': 'Apr 2011 - Mar 2012',\n",
       "  'Num_members': '528,133 members',\n",
       "  'page_url': 'https://myanimelist.net/anime/9969/Gintama',\n",
       "  'image_url': 'https://cdn.myanimelist.net/r/100x140/images/anime/4/50361.jpg?s=0fde0801daa3b436029146f401e5e77f',\n",
       "  'Score': '9.04'},\n",
       " {'Title': 'Gintama: The Final',\n",
       "  'Num_episodes': 'Movie (1 eps)',\n",
       "  'Aired_through': 'Jan 2021 - Jan 2021',\n",
       "  'Num_members': '134,175 members',\n",
       "  'page_url': 'https://myanimelist.net/anime/39486/Gintama__The_Final',\n",
       "  'image_url': 'https://cdn.myanimelist.net/r/100x140/images/anime/1245/116760.jpg?s=8fc5f4b436ee45307a882948a5e768ac',\n",
       "  'Score': '9.04'},\n",
       " {'Title': 'Hunter x Hunter (2011)',\n",
       "  'Num_episodes': 'TV (148 eps)',\n",
       "  'Aired_through': 'Oct 2011 - Sep 2014',\n",
       "  'Num_members': '2,669,186 members',\n",
       "  'page_url': 'https://myanimelist.net/anime/11061/Hunter_x_Hunter_2011',\n",
       "  'image_url': 'https://cdn.myanimelist.net/r/100x140/images/anime/1337/99013.jpg?s=9eb9cdcf5b9da3538432d014fd0aaa31',\n",
       "  'Score': '9.04'},\n",
       " {'Title': \"Gintama': Enchousen\",\n",
       "  'Num_episodes': 'TV (13 eps)',\n",
       "  'Aired_through': 'Oct 2012 - Mar 2013',\n",
       "  'Num_members': '310,470 members',\n",
       "  'page_url': 'https://myanimelist.net/anime/15417/Gintama__Enchousen',\n",
       "  'image_url': 'https://cdn.myanimelist.net/r/100x140/images/anime/1452/123686.jpg?s=8c58b95cccbdac9b5ad4f15f4802baa9',\n",
       "  'Score': '9.03'},\n",
       " {'Title': 'Ginga Eiyuu Densetsu',\n",
       "  'Num_episodes': 'OVA (110 eps)',\n",
       "  'Aired_through': 'Jan 1988 - Mar 1997',\n",
       "  'Num_members': '306,464 members',\n",
       "  'page_url': 'https://myanimelist.net/anime/820/Ginga_Eiyuu_Densetsu',\n",
       "  'image_url': 'https://cdn.myanimelist.net/r/100x140/images/anime/13/13225.jpg?s=8672a3462de209d1b78348d01df76d7b',\n",
       "  'Score': '9.02'},\n",
       " {'Title': 'Fruits Basket: The Final',\n",
       "  'Num_episodes': 'TV (13 eps)',\n",
       "  'Aired_through': 'Apr 2021 - Jun 2021',\n",
       "  'Num_members': '434,616 members',\n",
       "  'page_url': 'https://myanimelist.net/anime/42938/Fruits_Basket__The_Final',\n",
       "  'image_url': 'https://cdn.myanimelist.net/r/100x140/images/anime/1085/114792.jpg?s=5c97b2781732adc9ad6711abcb6f2f1b',\n",
       "  'Score': '9.00'},\n",
       " {'Title': 'Gintama.',\n",
       "  'Num_episodes': 'TV (12 eps)',\n",
       "  'Aired_through': 'Jan 2017 - Mar 2017',\n",
       "  'Num_members': '299,124 members',\n",
       "  'page_url': 'https://myanimelist.net/anime/34096/Gintama',\n",
       "  'image_url': 'https://cdn.myanimelist.net/r/100x140/images/anime/3/83528.jpg?s=c5709cac379ebb2033052a3357967397',\n",
       "  'Score': '8.98'},\n",
       " {'Title': 'Gintama',\n",
       "  'Num_episodes': 'TV (201 eps)',\n",
       "  'Aired_through': 'Apr 2006 - Mar 2010',\n",
       "  'Num_members': '1,026,339 members',\n",
       "  'page_url': 'https://myanimelist.net/anime/918/Gintama',\n",
       "  'image_url': 'https://cdn.myanimelist.net/r/100x140/images/anime/10/73274.jpg?s=bfda4724d048534799329614778234c8',\n",
       "  'Score': '8.94'},\n",
       " {'Title': 'Koe no Katachi',\n",
       "  'Num_episodes': 'Movie (1 eps)',\n",
       "  'Aired_through': 'Sep 2016 - Sep 2016',\n",
       "  'Num_members': '2,203,886 members',\n",
       "  'page_url': 'https://myanimelist.net/anime/28851/Koe_no_Katachi',\n",
       "  'image_url': 'https://cdn.myanimelist.net/r/100x140/images/anime/1122/96435.jpg?s=ba7b364bdcb787802fa6be905e944d77',\n",
       "  'Score': '8.94'},\n",
       " {'Title': '3-gatsu no Lion 2nd Season',\n",
       "  'Num_episodes': 'TV (22 eps)',\n",
       "  'Aired_through': 'Oct 2017 - Mar 2018',\n",
       "  'Num_members': '385,054 members',\n",
       "  'page_url': 'https://myanimelist.net/anime/35180/3-gatsu_no_Lion_2nd_Season',\n",
       "  'image_url': 'https://cdn.myanimelist.net/r/100x140/images/anime/3/88469.jpg?s=4e26ac5f78b5501d6969e9eb528247a9',\n",
       "  'Score': '8.93'},\n",
       " {'Title': 'Clannad: After Story',\n",
       "  'Num_episodes': 'TV (24 eps)',\n",
       "  'Aired_through': 'Oct 2008 - Mar 2009',\n",
       "  'Num_members': '1,153,079 members',\n",
       "  'page_url': 'https://myanimelist.net/anime/4181/Clannad__After_Story',\n",
       "  'image_url': 'https://cdn.myanimelist.net/r/100x140/images/anime/1299/110774.jpg?s=0bee2596cef8c43a9879b9d26089f868',\n",
       "  'Score': '8.93'},\n",
       " {'Title': 'Code Geass: Hangyaku no Lelouch R2',\n",
       "  'Num_episodes': 'TV (25 eps)',\n",
       "  'Aired_through': 'Apr 2008 - Sep 2008',\n",
       "  'Num_members': '1,705,680 members',\n",
       "  'page_url': 'https://myanimelist.net/anime/2904/Code_Geass__Hangyaku_no_Lelouch_R2',\n",
       "  'image_url': 'https://cdn.myanimelist.net/r/100x140/images/anime/1088/135089.jpg?s=c9d93439e18ea1111b4bc8645b108a94',\n",
       "  'Score': '8.91'},\n",
       " {'Title': 'Gintama Movie 2: Kanketsu-hen - Yorozuya yo Eien Nare',\n",
       "  'Num_episodes': 'Movie (1 eps)',\n",
       "  'Aired_through': 'Jul 2013 - Jul 2013',\n",
       "  'Num_members': '230,302 members',\n",
       "  'page_url': 'https://myanimelist.net/anime/15335/Gintama_Movie_2__Kanketsu-hen_-_Yorozuya_yo_Eien_Nare',\n",
       "  'image_url': 'https://cdn.myanimelist.net/r/100x140/images/anime/10/51723.jpg?s=bb3d98c8accf4dc8510356c856646b10',\n",
       "  'Score': '8.91'},\n",
       " {'Title': 'Violet Evergarden Movie',\n",
       "  'Num_episodes': 'Movie (1 eps)',\n",
       "  'Aired_through': 'Sep 2020 - Sep 2020',\n",
       "  'Num_members': '552,399 members',\n",
       "  'page_url': 'https://myanimelist.net/anime/37987/Violet_Evergarden_Movie',\n",
       "  'image_url': 'https://cdn.myanimelist.net/r/100x140/images/anime/1825/110716.jpg?s=38d96ccb027cd045ccabfd4e03f64841',\n",
       "  'Score': '8.90'},\n",
       " {'Title': 'Owarimonogatari 2nd Season',\n",
       "  'Num_episodes': 'TV (7 eps)',\n",
       "  'Aired_through': 'Aug 2017 - Aug 2017',\n",
       "  'Num_members': '381,877 members',\n",
       "  'page_url': 'https://myanimelist.net/anime/35247/Owarimonogatari_2nd_Season',\n",
       "  'image_url': 'https://cdn.myanimelist.net/r/100x140/images/anime/6/87322.jpg?s=5d0ef74fd5c7e44a1e695e85d0b86331',\n",
       "  'Score': '8.88'},\n",
       " {'Title': '\"Oshi no Ko\"',\n",
       "  'Num_episodes': 'TV (11 eps)',\n",
       "  'Aired_through': 'Apr 2023 - Jun 2023',\n",
       "  'Num_members': '573,221 members',\n",
       "  'page_url': 'https://myanimelist.net/anime/52034/Oshi_no_Ko',\n",
       "  'image_url': 'https://cdn.myanimelist.net/r/100x140/images/anime/1812/134736.jpg?s=ec39651bb29c97e364b842163f6c50f1',\n",
       "  'Score': '8.88'},\n",
       " {'Title': 'Gintama.: Shirogane no Tamashii-hen - Kouhan-sen',\n",
       "  'Num_episodes': 'TV (14 eps)',\n",
       "  'Aired_through': 'Jul 2018 - Oct 2018',\n",
       "  'Num_members': '186,792 members',\n",
       "  'page_url': 'https://myanimelist.net/anime/37491/Gintama__Shirogane_no_Tamashii-hen_-_Kouhan-sen',\n",
       "  'image_url': 'https://cdn.myanimelist.net/r/100x140/images/anime/1776/96566.jpg?s=a87ac154753a26bfed4dbd557a8544ba',\n",
       "  'Score': '8.88'},\n",
       " {'Title': 'Monster',\n",
       "  'Num_episodes': 'TV (74 eps)',\n",
       "  'Aired_through': 'Apr 2004 - Sep 2005',\n",
       "  'Num_members': '1,021,020 members',\n",
       "  'page_url': 'https://myanimelist.net/anime/19/Monster',\n",
       "  'image_url': 'https://cdn.myanimelist.net/r/100x140/images/anime/10/18793.jpg?s=a195ca612dd64dac5ffb27c8ea9d0b32',\n",
       "  'Score': '8.87'},\n",
       " {'Title': 'Kaguya-sama wa Kokurasetai: First Kiss wa Owaranai',\n",
       "  'Num_episodes': 'Movie (1 eps)',\n",
       "  'Aired_through': 'Dec 2022 - Dec 2022',\n",
       "  'Num_members': '188,498 members',\n",
       "  'page_url': 'https://myanimelist.net/anime/52198/Kaguya-sama_wa_Kokurasetai__First_Kiss_wa_Owaranai',\n",
       "  'image_url': 'https://cdn.myanimelist.net/r/100x140/images/anime/1670/130060.jpg?s=1f94b50d924740fa5a4a748091963523',\n",
       "  'Score': '8.86'},\n",
       " {'Title': 'Kimi no Na wa.',\n",
       "  'Num_episodes': 'Movie (1 eps)',\n",
       "  'Aired_through': 'Aug 2016 - Aug 2016',\n",
       "  'Num_members': '2,608,836 members',\n",
       "  'page_url': 'https://myanimelist.net/anime/32281/Kimi_no_Na_wa',\n",
       "  'image_url': 'https://cdn.myanimelist.net/r/100x140/images/anime/5/87048.jpg?s=0c69e78d81c675e0bbceae647b10dc5f',\n",
       "  'Score': '8.85'},\n",
       " {'Title': 'Vinland Saga Season 2',\n",
       "  'Num_episodes': 'TV (24 eps)',\n",
       "  'Aired_through': 'Jan 2023 - Jun 2023',\n",
       "  'Num_members': '454,356 members',\n",
       "  'page_url': 'https://myanimelist.net/anime/49387/Vinland_Saga_Season_2',\n",
       "  'image_url': 'https://cdn.myanimelist.net/r/100x140/images/anime/1170/124312.jpg?s=ff4c3d1432e28f2439e4ed886c032504',\n",
       "  'Score': '8.84'},\n",
       " {'Title': 'Bocchi the Rock!',\n",
       "  'Num_episodes': 'TV (12 eps)',\n",
       "  'Aired_through': 'Oct 2022 - Dec 2022',\n",
       "  'Num_members': '437,172 members',\n",
       "  'page_url': 'https://myanimelist.net/anime/47917/Bocchi_the_Rock',\n",
       "  'image_url': 'https://cdn.myanimelist.net/r/100x140/images/anime/1448/127956.jpg?s=7e81931856657309a247d932fd1d74d8',\n",
       "  'Score': '8.84'},\n",
       " {'Title': 'Gintama.: Shirogane no Tamashii-hen',\n",
       "  'Num_episodes': 'TV (12 eps)',\n",
       "  'Aired_through': 'Jan 2018 - Mar 2018',\n",
       "  'Num_members': '201,200 members',\n",
       "  'page_url': 'https://myanimelist.net/anime/36838/Gintama__Shirogane_no_Tamashii-hen',\n",
       "  'image_url': 'https://cdn.myanimelist.net/r/100x140/images/anime/12/89603.jpg?s=d1ae6c96378fe82ecb9481705060774c',\n",
       "  'Score': '8.81'},\n",
       " {'Title': 'Kingdom 3rd Season',\n",
       "  'Num_episodes': 'TV (26 eps)',\n",
       "  'Aired_through': 'Apr 2020 - Oct 2021',\n",
       "  'Num_members': '91,792 members',\n",
       "  'page_url': 'https://myanimelist.net/anime/40682/Kingdom_3rd_Season',\n",
       "  'image_url': 'https://cdn.myanimelist.net/r/100x140/images/anime/1443/111830.jpg?s=5f4d5d796fc9522d7311846d60320695',\n",
       "  'Score': '8.81'},\n",
       " {'Title': 'Mob Psycho 100 II',\n",
       "  'Num_episodes': 'TV (13 eps)',\n",
       "  'Aired_through': 'Jan 2019 - Apr 2019',\n",
       "  'Num_members': '1,439,906 members',\n",
       "  'page_url': 'https://myanimelist.net/anime/37510/Mob_Psycho_100_II',\n",
       "  'image_url': 'https://cdn.myanimelist.net/r/100x140/images/anime/1918/96303.jpg?s=51c465145beb577d45305bca91984d7a',\n",
       "  'Score': '8.80'},\n",
       " {'Title': 'Shingeki no Kyojin: The Final Season',\n",
       "  'Num_episodes': 'TV (16 eps)',\n",
       "  'Aired_through': 'Dec 2020 - Mar 2021',\n",
       "  'Num_members': '1,856,972 members',\n",
       "  'page_url': 'https://myanimelist.net/anime/40028/Shingeki_no_Kyojin__The_Final_Season',\n",
       "  'image_url': 'https://cdn.myanimelist.net/r/100x140/images/anime/1000/110531.jpg?s=1c08fa93884604f959aa65825a252e12',\n",
       "  'Score': '8.80'},\n",
       " {'Title': 'Kimetsu no Yaiba: Yuukaku-hen',\n",
       "  'Num_episodes': 'TV (11 eps)',\n",
       "  'Aired_through': 'Dec 2021 - Feb 2022',\n",
       "  'Num_members': '1,263,280 members',\n",
       "  'page_url': 'https://myanimelist.net/anime/47778/Kimetsu_no_Yaiba__Yuukaku-hen',\n",
       "  'image_url': 'https://cdn.myanimelist.net/r/100x140/images/anime/1908/120036.jpg?s=2044bfc6d0c06e18048e668518a97176',\n",
       "  'Score': '8.79'},\n",
       " {'Title': 'Kizumonogatari III: Reiketsu-hen',\n",
       "  'Num_episodes': 'Movie (1 eps)',\n",
       "  'Aired_through': 'Jan 2017 - Jan 2017',\n",
       "  'Num_members': '441,671 members',\n",
       "  'page_url': 'https://myanimelist.net/anime/31758/Kizumonogatari_III__Reiketsu-hen',\n",
       "  'image_url': 'https://cdn.myanimelist.net/r/100x140/images/anime/1084/112813.jpg?s=693153a2a61cdcc79d61b58a3e2a7a6d',\n",
       "  'Score': '8.79'},\n",
       " {'Title': 'Sen to Chihiro no Kamikakushi',\n",
       "  'Num_episodes': 'Movie (1 eps)',\n",
       "  'Aired_through': 'Jul 2001 - Jul 2001',\n",
       "  'Num_members': '1,767,528 members',\n",
       "  'page_url': 'https://myanimelist.net/anime/199/Sen_to_Chihiro_no_Kamikakushi',\n",
       "  'image_url': 'https://cdn.myanimelist.net/r/100x140/images/anime/6/79597.jpg?s=63a85532fc52356a938354277201d43c',\n",
       "  'Score': '8.78'},\n",
       " {'Title': 'Haikyuu!! Karasuno Koukou vs. Shiratorizawa Gakuen Koukou',\n",
       "  'Num_episodes': 'TV (10 eps)',\n",
       "  'Aired_through': 'Oct 2016 - Dec 2016',\n",
       "  'Num_members': '1,146,111 members',\n",
       "  'page_url': 'https://myanimelist.net/anime/32935/Haikyuu_Karasuno_Koukou_vs_Shiratorizawa_Gakuen_Koukou',\n",
       "  'image_url': 'https://cdn.myanimelist.net/r/100x140/images/anime/7/81992.jpg?s=b241bc153f456bb54b738ab507d6d5db',\n",
       "  'Score': '8.78'},\n",
       " {'Title': 'Monogatari Series: Second Season',\n",
       "  'Num_episodes': 'TV (26 eps)',\n",
       "  'Aired_through': 'Jul 2013 - Dec 2013',\n",
       "  'Num_members': '649,281 members',\n",
       "  'page_url': 'https://myanimelist.net/anime/17074/Monogatari_Series__Second_Season',\n",
       "  'image_url': 'https://cdn.myanimelist.net/r/100x140/images/anime/1807/121534.jpg?s=450ac03a6fcd16dcb5076e42f01fd9ad',\n",
       "  'Score': '8.77'},\n",
       " {'Title': 'Shingeki no Kyojin: The Final Season Part 2',\n",
       "  'Num_episodes': 'TV (12 eps)',\n",
       "  'Aired_through': 'Jan 2022 - Apr 2022',\n",
       "  'Num_members': '1,144,213 members',\n",
       "  'page_url': 'https://myanimelist.net/anime/48583/Shingeki_no_Kyojin__The_Final_Season_Part_2',\n",
       "  'image_url': 'https://cdn.myanimelist.net/r/100x140/images/anime/1948/120625.jpg?s=ad6cd47edcacb01a61121853204f8139',\n",
       "  'Score': '8.77'},\n",
       " {'Title': 'Hajime no Ippo',\n",
       "  'Num_episodes': 'TV (75 eps)',\n",
       "  'Aired_through': 'Oct 2000 - Mar 2002',\n",
       "  'Num_members': '550,050 members',\n",
       "  'page_url': 'https://myanimelist.net/anime/263/Hajime_no_Ippo',\n",
       "  'image_url': 'https://cdn.myanimelist.net/r/100x140/images/anime/4/86334.jpg?s=448fd8dfdff2a7db7de2b85633a691f2',\n",
       "  'Score': '8.76'},\n",
       " {'Title': 'Cowboy Bebop',\n",
       "  'Num_episodes': 'TV (26 eps)',\n",
       "  'Aired_through': 'Apr 1998 - Apr 1999',\n",
       "  'Num_members': '1,778,244 members',\n",
       "  'page_url': 'https://myanimelist.net/anime/1/Cowboy_Bebop',\n",
       "  'image_url': 'https://cdn.myanimelist.net/r/100x140/images/anime/4/19644.jpg?s=7873ad89996b0d6be8dd51e60d88d82c',\n",
       "  'Score': '8.75'},\n",
       " {'Title': 'Kingdom 4th Season',\n",
       "  'Num_episodes': 'TV (26 eps)',\n",
       "  'Aired_through': 'Apr 2022 - Oct 2022',\n",
       "  'Num_members': '54,102 members',\n",
       "  'page_url': 'https://myanimelist.net/anime/50160/Kingdom_4th_Season',\n",
       "  'image_url': 'https://cdn.myanimelist.net/r/100x140/images/anime/1566/122794.jpg?s=ff859548e52a05da1eff40de2b5b05bf',\n",
       "  'Score': '8.74'},\n",
       " {'Title': 'Vinland Saga',\n",
       "  'Num_episodes': 'TV (24 eps)',\n",
       "  'Aired_through': 'Jul 2019 - Dec 2019',\n",
       "  'Num_members': '1,371,627 members',\n",
       "  'page_url': 'https://myanimelist.net/anime/37521/Vinland_Saga',\n",
       "  'image_url': 'https://cdn.myanimelist.net/r/100x140/images/anime/1500/103005.jpg?s=175909bd438e4f7969afdae5a2f58931',\n",
       "  'Score': '8.74'},\n",
       " {'Title': 'Mushishi Zoku Shou 2nd Season',\n",
       "  'Num_episodes': 'TV (10 eps)',\n",
       "  'Aired_through': 'Oct 2014 - Dec 2014',\n",
       "  'Num_members': '255,482 members',\n",
       "  'page_url': 'https://myanimelist.net/anime/24701/Mushishi_Zoku_Shou_2nd_Season',\n",
       "  'image_url': 'https://cdn.myanimelist.net/r/100x140/images/anime/9/68095.jpg?s=847f720879a312ca3ac84fd8327b174e',\n",
       "  'Score': '8.73'},\n",
       " {'Title': 'Shouwa Genroku Rakugo Shinjuu: Sukeroku Futatabi-hen',\n",
       "  'Num_episodes': 'TV (12 eps)',\n",
       "  'Aired_through': 'Jan 2017 - Mar 2017',\n",
       "  'Num_members': '181,128 members',\n",
       "  'page_url': 'https://myanimelist.net/anime/33095/Shouwa_Genroku_Rakugo_Shinjuu__Sukeroku_Futatabi-hen',\n",
       "  'image_url': 'https://cdn.myanimelist.net/r/100x140/images/anime/1493/124765.jpg?s=aaa4a2fa43b61e27db0a64265577753c',\n",
       "  'Score': '8.73'},\n",
       " {'Title': 'Mob Psycho 100 III',\n",
       "  'Num_episodes': 'TV (12 eps)',\n",
       "  'Aired_through': 'Oct 2022 - Dec 2022',\n",
       "  'Num_members': '578,960 members',\n",
       "  'page_url': 'https://myanimelist.net/anime/50172/Mob_Psycho_100_III',\n",
       "  'image_url': 'https://cdn.myanimelist.net/r/100x140/images/anime/1228/125011.jpg?s=e817eceaeea480cbf057b210d6052de0',\n",
       "  'Score': '8.72'},\n",
       " {'Title': 'Shiguang Dailiren',\n",
       "  'Num_episodes': 'ONA (11 eps)',\n",
       "  'Aired_through': 'Apr 2021 - Jul 2021',\n",
       "  'Num_members': '301,546 members',\n",
       "  'page_url': 'https://myanimelist.net/anime/44074/Shiguang_Dailiren',\n",
       "  'image_url': 'https://cdn.myanimelist.net/r/100x140/images/anime/1135/114867.jpg?s=9c2fd9fddaef71035742747d5145fc04',\n",
       "  'Score': '8.72'},\n",
       " {'Title': '86 Part 2',\n",
       "  'Num_episodes': 'TV (12 eps)',\n",
       "  'Aired_through': 'Oct 2021 - Mar 2022',\n",
       "  'Num_members': '437,166 members',\n",
       "  'page_url': 'https://myanimelist.net/anime/48569/86_Part_2',\n",
       "  'image_url': 'https://cdn.myanimelist.net/r/100x140/images/anime/1321/117508.jpg?s=05384e864c30f7e24293311d31e86b16',\n",
       "  'Score': '8.71'},\n",
       " {'Title': 'Ashita no Joe 2',\n",
       "  'Num_episodes': 'TV (47 eps)',\n",
       "  'Aired_through': 'Oct 1980 - Aug 1981',\n",
       "  'Num_members': '48,020 members',\n",
       "  'page_url': 'https://myanimelist.net/anime/2921/Ashita_no_Joe_2',\n",
       "  'image_url': 'https://cdn.myanimelist.net/r/100x140/images/anime/3/45028.jpg?s=b3022f518e674c9c4c9be212b232ce66',\n",
       "  'Score': '8.71'},\n",
       " {'Title': 'Code Geass: Hangyaku no Lelouch',\n",
       "  'Num_episodes': 'TV (25 eps)',\n",
       "  'Aired_through': 'Oct 2006 - Jul 2007',\n",
       "  'Num_members': '2,158,979 members',\n",
       "  'page_url': 'https://myanimelist.net/anime/1575/Code_Geass__Hangyaku_no_Lelouch',\n",
       "  'image_url': 'https://cdn.myanimelist.net/r/100x140/images/anime/1032/135088.jpg?s=8b895bc4ead0cfc55ccfc813ba627926',\n",
       "  'Score': '8.70'}]"
      ]
     },
     "execution_count": 5,
     "metadata": {},
     "output_type": "execute_result"
    }
   ],
   "source": [
    "get_anime_info()"
   ]
  },
  {
   "cell_type": "markdown",
   "id": "2ba1f0fa",
   "metadata": {},
   "source": [
    "**Doing the same procedure for mangas with some minor changes**"
   ]
  },
  {
   "cell_type": "code",
   "execution_count": 87,
   "id": "d81527fc",
   "metadata": {},
   "outputs": [],
   "source": [
    "# Get top 50 manga\n",
    "def get_manga_info(manga_url=\"https://myanimelist.net/topmanga.php\"):\n",
    "    response = requests.get(manga_url)\n",
    "    parser = BeautifulSoup(response.text, \"html.parser\")\n",
    "    \n",
    "    # Get rankings\n",
    "    ranks_html = parser.select(\"td[class='rank ac']\")\n",
    "    ranks = [rank.text.strip() for rank in ranks_html]\n",
    "    \n",
    "    # Get individual manga links\n",
    "    manga_info = parser.select(\"td[class='title al va-t clearfix word-break']\")\n",
    "    a_tags = [info.a for info in manga_info]\n",
    "    manga_links = extract_links(a_tags)\n",
    "\n",
    "    # Get image links for all manga\n",
    "    img_tags = [info.img for info in manga_info]\n",
    "    img_links = extract_img_links(img_tags)\n",
    "\n",
    "    # Create list of all manga with their listed info\n",
    "    manga_list = list(info.text.strip().split('\\n') for info in manga_info)\n",
    "    clean_list(manga_list, 'manga')\n",
    "    \n",
    "    # Extract scores of individual manga\n",
    "    score_tags = parser.select(\"td[class='score ac fs14']\")\n",
    "    manga_scores = [score.text.strip() for score in score_tags]\n",
    "    \n",
    "    # Add scores, links and image_links to manga info list\n",
    "    for i, (link, img_link, score) in enumerate(zip(manga_links, img_links, manga_scores)):\n",
    "        manga_list[i].append(link)\n",
    "        manga_list[i].append(img_link)\n",
    "        manga_list[i].append(score)\n",
    "        \n",
    "    # Storing all info in dictionaries\n",
    "    manga_dict = list(map(make_dict_from_list, manga_list))\n",
    "    \n",
    "    # Get titles of all manga\n",
    "    manga_titles = [l[0] for l in manga_list]\n",
    "    \n",
    "#     display_info(manga_titles, img_links, manga_scores, top_n)\n",
    "    return manga_dict"
   ]
  },
  {
   "cell_type": "code",
   "execution_count": 45,
   "id": "e577fd76",
   "metadata": {
    "scrolled": true
   },
   "outputs": [
    {
     "name": "stdout",
     "output_type": "stream",
     "text": [
      "Rank 1\n",
      "Fullmetal Alchemist: Brotherhood\n"
     ]
    },
    {
     "data": {
      "text/html": [
       "<img src=\"https://cdn.myanimelist.net/r/100x140/images/anime/1208/94745.jpg?s=5ec18639199f2c60b60009f34222228d\" width=\"100\"/>"
      ],
      "text/plain": [
       "<IPython.core.display.Image object>"
      ]
     },
     "metadata": {},
     "output_type": "display_data"
    },
    {
     "name": "stdout",
     "output_type": "stream",
     "text": [
      "Score 9.10\n",
      "\n",
      "==================================================\n",
      "Rank 2\n",
      "Bleach: Sennen Kessen-hen\n"
     ]
    },
    {
     "data": {
      "text/html": [
       "<img src=\"https://cdn.myanimelist.net/r/100x140/images/anime/1956/126621.jpg?s=9d14f7b35e8be4500d2e052b9144f232\" width=\"100\"/>"
      ],
      "text/plain": [
       "<IPython.core.display.Image object>"
      ]
     },
     "metadata": {},
     "output_type": "display_data"
    },
    {
     "name": "stdout",
     "output_type": "stream",
     "text": [
      "Score 9.07\n",
      "\n",
      "==================================================\n",
      "Rank 3\n",
      "Steins;Gate\n"
     ]
    },
    {
     "data": {
      "text/html": [
       "<img src=\"https://cdn.myanimelist.net/r/100x140/images/anime/1935/127974.jpg?s=a0c19821033ace3af10310a253a9e85b\" width=\"100\"/>"
      ],
      "text/plain": [
       "<IPython.core.display.Image object>"
      ]
     },
     "metadata": {},
     "output_type": "display_data"
    },
    {
     "name": "stdout",
     "output_type": "stream",
     "text": [
      "Score 9.07\n",
      "\n",
      "==================================================\n",
      "Rank 4\n",
      "Gintama°\n"
     ]
    },
    {
     "data": {
      "text/html": [
       "<img src=\"https://cdn.myanimelist.net/r/100x140/images/anime/3/72078.jpg?s=bb26d45bb75e13601e1b8029f717c2b0\" width=\"100\"/>"
      ],
      "text/plain": [
       "<IPython.core.display.Image object>"
      ]
     },
     "metadata": {},
     "output_type": "display_data"
    },
    {
     "name": "stdout",
     "output_type": "stream",
     "text": [
      "Score 9.06\n",
      "\n",
      "==================================================\n",
      "Rank 5\n",
      "Kaguya-sama wa Kokurasetai: Ultra Romantic\n"
     ]
    },
    {
     "data": {
      "text/html": [
       "<img src=\"https://cdn.myanimelist.net/r/100x140/images/anime/1160/122627.jpg?s=e4e56950556c022515bea0f8936ce541\" width=\"100\"/>"
      ],
      "text/plain": [
       "<IPython.core.display.Image object>"
      ]
     },
     "metadata": {},
     "output_type": "display_data"
    },
    {
     "name": "stdout",
     "output_type": "stream",
     "text": [
      "Score 9.05\n",
      "\n",
      "==================================================\n"
     ]
    }
   ],
   "source": [
    "# anime_list, ranks = get_anime_info(5)"
   ]
  },
  {
   "cell_type": "code",
   "execution_count": 46,
   "id": "06eb1319",
   "metadata": {
    "scrolled": true
   },
   "outputs": [
    {
     "name": "stdout",
     "output_type": "stream",
     "text": [
      "Rank 1\n",
      "Berserk\n"
     ]
    },
    {
     "data": {
      "text/html": [
       "<img src=\"https://cdn.myanimelist.net/r/100x140/images/manga/1/157897.jpg?s=89f4db27210a934c566d75a6163c5530\" width=\"100\"/>"
      ],
      "text/plain": [
       "<IPython.core.display.Image object>"
      ]
     },
     "metadata": {},
     "output_type": "display_data"
    },
    {
     "name": "stdout",
     "output_type": "stream",
     "text": [
      "Score 9.47\n",
      "\n",
      "==================================================\n",
      "Rank 2\n",
      "JoJo no Kimyou na Bouken Part 7: Steel Ball Run\n"
     ]
    },
    {
     "data": {
      "text/html": [
       "<img src=\"https://cdn.myanimelist.net/r/100x140/images/manga/3/179882.jpg?s=aa3e372a5bc396c24cfe9b191e765fa7\" width=\"100\"/>"
      ],
      "text/plain": [
       "<IPython.core.display.Image object>"
      ]
     },
     "metadata": {},
     "output_type": "display_data"
    },
    {
     "name": "stdout",
     "output_type": "stream",
     "text": [
      "Score 9.30\n",
      "\n",
      "==================================================\n",
      "Rank 3\n",
      "Vagabond\n"
     ]
    },
    {
     "data": {
      "text/html": [
       "<img src=\"https://cdn.myanimelist.net/r/100x140/images/manga/1/259070.jpg?s=f973f0a07bd37e45f63d71ab122a8c6e\" width=\"100\"/>"
      ],
      "text/plain": [
       "<IPython.core.display.Image object>"
      ]
     },
     "metadata": {},
     "output_type": "display_data"
    },
    {
     "name": "stdout",
     "output_type": "stream",
     "text": [
      "Score 9.23\n",
      "\n",
      "==================================================\n",
      "Rank 4\n",
      "One Piece\n"
     ]
    },
    {
     "data": {
      "text/html": [
       "<img src=\"https://cdn.myanimelist.net/r/100x140/images/manga/2/253146.jpg?s=b7465f50607202245754c4a8ab34be52\" width=\"100\"/>"
      ],
      "text/plain": [
       "<IPython.core.display.Image object>"
      ]
     },
     "metadata": {},
     "output_type": "display_data"
    },
    {
     "name": "stdout",
     "output_type": "stream",
     "text": [
      "Score 9.21\n",
      "\n",
      "==================================================\n",
      "Rank 5\n",
      "Monster\n"
     ]
    },
    {
     "data": {
      "text/html": [
       "<img src=\"https://cdn.myanimelist.net/r/100x140/images/manga/3/258224.jpg?s=097b790c0519007140b374e9a9a4706f\" width=\"100\"/>"
      ],
      "text/plain": [
       "<IPython.core.display.Image object>"
      ]
     },
     "metadata": {},
     "output_type": "display_data"
    },
    {
     "name": "stdout",
     "output_type": "stream",
     "text": [
      "Score 9.15\n",
      "\n",
      "==================================================\n"
     ]
    }
   ],
   "source": [
    "# manga_list, ranks = get_manga_info(5)"
   ]
  },
  {
   "cell_type": "code",
   "execution_count": 124,
   "id": "8cc095a4",
   "metadata": {},
   "outputs": [
    {
     "data": {
      "text/plain": [
       "11"
      ]
     },
     "execution_count": 124,
     "metadata": {},
     "output_type": "execute_result"
    }
   ],
   "source": [
    "9+12%10"
   ]
  },
  {
   "cell_type": "markdown",
   "id": "7b264b17",
   "metadata": {},
   "source": [
    "## Scraping multiple pages"
   ]
  },
  {
   "cell_type": "code",
   "execution_count": 128,
   "id": "ade44340",
   "metadata": {},
   "outputs": [],
   "source": [
    "def multi_scrape(num_pages):\n",
    "    for i in range(num_pages):\n",
    "        time.sleep(2*(i%10))\n",
    "        new_url = URL + f\"?limit={10000+i*50}\"\n",
    "        anime_dict = get_anime_info(new_url)\n",
    "        make_csv(anime_dict, \"anime-rankings.csv\")\n",
    "        print(f\"Scraped {i+1}/{num_pages} pages\")\n",
    "        if (i+1) % 10 == 0:\n",
    "            print('='*30)"
   ]
  },
  {
   "cell_type": "code",
   "execution_count": 129,
   "id": "c6ca053d",
   "metadata": {
    "scrolled": true
   },
   "outputs": [
    {
     "name": "stdout",
     "output_type": "stream",
     "text": [
      "Scraped 1/56 pages\n",
      "Scraped 2/56 pages\n",
      "Scraped 3/56 pages\n",
      "Scraped 4/56 pages\n",
      "Scraped 5/56 pages\n",
      "Scraped 6/56 pages\n",
      "Scraped 7/56 pages\n",
      "Scraped 8/56 pages\n",
      "Scraped 9/56 pages\n",
      "Scraped 10/56 pages\n",
      "==============================\n",
      "Scraped 11/56 pages\n",
      "Scraped 12/56 pages\n",
      "Scraped 13/56 pages\n",
      "Scraped 14/56 pages\n",
      "Scraped 15/56 pages\n",
      "Scraped 16/56 pages\n",
      "Scraped 17/56 pages\n",
      "Scraped 18/56 pages\n",
      "Scraped 19/56 pages\n",
      "Scraped 20/56 pages\n",
      "==============================\n",
      "Scraped 21/56 pages\n",
      "Scraped 22/56 pages\n",
      "Scraped 23/56 pages\n",
      "Scraped 24/56 pages\n",
      "Scraped 25/56 pages\n",
      "Scraped 26/56 pages\n",
      "Scraped 27/56 pages\n",
      "Scraped 28/56 pages\n",
      "Scraped 29/56 pages\n",
      "Scraped 30/56 pages\n",
      "==============================\n",
      "Scraped 31/56 pages\n",
      "Scraped 32/56 pages\n",
      "Scraped 33/56 pages\n",
      "Scraped 34/56 pages\n",
      "Scraped 35/56 pages\n",
      "Scraped 36/56 pages\n",
      "Scraped 37/56 pages\n",
      "Scraped 38/56 pages\n",
      "Scraped 39/56 pages\n",
      "Scraped 40/56 pages\n",
      "==============================\n",
      "Scraped 41/56 pages\n",
      "Scraped 42/56 pages\n",
      "Scraped 43/56 pages\n",
      "Scraped 44/56 pages\n",
      "Scraped 45/56 pages\n",
      "Scraped 46/56 pages\n",
      "Scraped 47/56 pages\n",
      "Scraped 48/56 pages\n",
      "Scraped 49/56 pages\n",
      "Scraped 50/56 pages\n",
      "==============================\n",
      "Scraped 51/56 pages\n",
      "Scraped 52/56 pages\n",
      "Scraped 53/56 pages\n",
      "Scraped 54/56 pages\n",
      "Scraped 55/56 pages\n",
      "Scraped 56/56 pages\n",
      "CPU times: total: 4.62 s\n",
      "Wall time: 10min 12s\n"
     ]
    }
   ],
   "source": [
    "# %%time\n",
    "# multi_scrape(56)"
   ]
  },
  {
   "cell_type": "markdown",
   "id": "8abcdf04",
   "metadata": {},
   "source": [
    "## Cleaning the data"
   ]
  },
  {
   "cell_type": "code",
   "execution_count": 156,
   "id": "0e0ee656",
   "metadata": {},
   "outputs": [],
   "source": [
    "anime_df = pd.read_csv(\"anime-rankings.csv\", header=None)\n",
    "anime_df.columns = ['Title', 'Num_episodes', 'Aired_through', 'Num_members', 'page_url', 'image_url', 'Score']"
   ]
  },
  {
   "cell_type": "code",
   "execution_count": 157,
   "id": "c571677d",
   "metadata": {},
   "outputs": [],
   "source": [
    "# Removing rows with nan scores\n",
    "anime_df.dropna(inplace=True)"
   ]
  },
  {
   "cell_type": "code",
   "execution_count": 158,
   "id": "b486a1a9",
   "metadata": {},
   "outputs": [
    {
     "name": "stdout",
     "output_type": "stream",
     "text": [
      "Duplicates before removal: 14\n",
      "Duplicates after removal: 0\n"
     ]
    }
   ],
   "source": [
    "print(\"Duplicates before removal:\", anime_df.duplicated().sum())\n",
    "# Remove duplicates\n",
    "anime_df.drop_duplicates(inplace=True)\n",
    "print(\"Duplicates after removal:\", anime_df.duplicated().sum())"
   ]
  },
  {
   "cell_type": "code",
   "execution_count": 160,
   "id": "d648fbc3",
   "metadata": {
    "scrolled": true
   },
   "outputs": [
    {
     "data": {
      "text/html": [
       "<div>\n",
       "<style scoped>\n",
       "    .dataframe tbody tr th:only-of-type {\n",
       "        vertical-align: middle;\n",
       "    }\n",
       "\n",
       "    .dataframe tbody tr th {\n",
       "        vertical-align: top;\n",
       "    }\n",
       "\n",
       "    .dataframe thead th {\n",
       "        text-align: right;\n",
       "    }\n",
       "</style>\n",
       "<table border=\"1\" class=\"dataframe\">\n",
       "  <thead>\n",
       "    <tr style=\"text-align: right;\">\n",
       "      <th></th>\n",
       "      <th>Title</th>\n",
       "      <th>Num_episodes</th>\n",
       "      <th>Aired_through</th>\n",
       "      <th>Num_members</th>\n",
       "      <th>page_url</th>\n",
       "      <th>image_url</th>\n",
       "      <th>Score</th>\n",
       "      <th>Rank</th>\n",
       "    </tr>\n",
       "  </thead>\n",
       "  <tbody>\n",
       "    <tr>\n",
       "      <th>9552</th>\n",
       "      <td>Suzy's Zoo: Daisuki! Witzy</td>\n",
       "      <td>TV (25 eps)</td>\n",
       "      <td>Apr 2011 - Oct 2011</td>\n",
       "      <td>703 members</td>\n",
       "      <td>https://myanimelist.net/anime/10349/Suzys_Zoo_...</td>\n",
       "      <td>https://cdn.myanimelist.net/r/100x140/images/a...</td>\n",
       "      <td>5.85</td>\n",
       "      <td>9553</td>\n",
       "    </tr>\n",
       "    <tr>\n",
       "      <th>4339</th>\n",
       "      <td>Healin' Good♡Precure</td>\n",
       "      <td>TV (45 eps)</td>\n",
       "      <td>Feb 2020 - Feb 2021</td>\n",
       "      <td>10,759 members</td>\n",
       "      <td>https://myanimelist.net/anime/40610/Healin_Goo...</td>\n",
       "      <td>https://cdn.myanimelist.net/r/100x140/images/a...</td>\n",
       "      <td>6.92</td>\n",
       "      <td>4340</td>\n",
       "    </tr>\n",
       "    <tr>\n",
       "      <th>8467</th>\n",
       "      <td>UFO Princess Valkyrie: Recap</td>\n",
       "      <td>Special (1 eps)</td>\n",
       "      <td>Aug 2003 - Aug 2003</td>\n",
       "      <td>1,541 members</td>\n",
       "      <td>https://myanimelist.net/anime/11445/UFO_Prince...</td>\n",
       "      <td>https://cdn.myanimelist.net/r/100x140/images/a...</td>\n",
       "      <td>6.09</td>\n",
       "      <td>8468</td>\n",
       "    </tr>\n",
       "    <tr>\n",
       "      <th>4101</th>\n",
       "      <td>Kami-tachi ni Hirowareta Otoko</td>\n",
       "      <td>TV (12 eps)</td>\n",
       "      <td>Oct 2020 - Dec 2020</td>\n",
       "      <td>195,102 members</td>\n",
       "      <td>https://myanimelist.net/anime/41312/Kami-tachi...</td>\n",
       "      <td>https://cdn.myanimelist.net/r/100x140/images/a...</td>\n",
       "      <td>6.98</td>\n",
       "      <td>4102</td>\n",
       "    </tr>\n",
       "    <tr>\n",
       "      <th>3827</th>\n",
       "      <td>Crayon Shin-chan Movie 06: Dengeki! Buta no Hi...</td>\n",
       "      <td>Movie (1 eps)</td>\n",
       "      <td>Apr 1998 - Apr 1998</td>\n",
       "      <td>4,657 members</td>\n",
       "      <td>https://myanimelist.net/anime/8360/Crayon_Shin...</td>\n",
       "      <td>https://cdn.myanimelist.net/r/100x140/images/a...</td>\n",
       "      <td>7.04</td>\n",
       "      <td>3828</td>\n",
       "    </tr>\n",
       "  </tbody>\n",
       "</table>\n",
       "</div>"
      ],
      "text/plain": [
       "                                                  Title     Num_episodes  \\\n",
       "9552                         Suzy's Zoo: Daisuki! Witzy      TV (25 eps)   \n",
       "4339                               Healin' Good♡Precure      TV (45 eps)   \n",
       "8467                       UFO Princess Valkyrie: Recap  Special (1 eps)   \n",
       "4101                     Kami-tachi ni Hirowareta Otoko      TV (12 eps)   \n",
       "3827  Crayon Shin-chan Movie 06: Dengeki! Buta no Hi...    Movie (1 eps)   \n",
       "\n",
       "            Aired_through      Num_members  \\\n",
       "9552  Apr 2011 - Oct 2011      703 members   \n",
       "4339  Feb 2020 - Feb 2021   10,759 members   \n",
       "8467  Aug 2003 - Aug 2003    1,541 members   \n",
       "4101  Oct 2020 - Dec 2020  195,102 members   \n",
       "3827  Apr 1998 - Apr 1998    4,657 members   \n",
       "\n",
       "                                               page_url  \\\n",
       "9552  https://myanimelist.net/anime/10349/Suzys_Zoo_...   \n",
       "4339  https://myanimelist.net/anime/40610/Healin_Goo...   \n",
       "8467  https://myanimelist.net/anime/11445/UFO_Prince...   \n",
       "4101  https://myanimelist.net/anime/41312/Kami-tachi...   \n",
       "3827  https://myanimelist.net/anime/8360/Crayon_Shin...   \n",
       "\n",
       "                                              image_url  Score  Rank  \n",
       "9552  https://cdn.myanimelist.net/r/100x140/images/a...   5.85  9553  \n",
       "4339  https://cdn.myanimelist.net/r/100x140/images/a...   6.92  4340  \n",
       "8467  https://cdn.myanimelist.net/r/100x140/images/a...   6.09  8468  \n",
       "4101  https://cdn.myanimelist.net/r/100x140/images/a...   6.98  4102  \n",
       "3827  https://cdn.myanimelist.net/r/100x140/images/a...   7.04  3828  "
      ]
     },
     "execution_count": 160,
     "metadata": {},
     "output_type": "execute_result"
    }
   ],
   "source": [
    "anime_df['Rank'] = anime_df.index+1\n",
    "anime_df.sample(5)"
   ]
  },
  {
   "cell_type": "code",
   "execution_count": 166,
   "id": "ea51d024",
   "metadata": {
    "scrolled": true
   },
   "outputs": [
    {
     "data": {
      "text/html": [
       "<div>\n",
       "<style scoped>\n",
       "    .dataframe tbody tr th:only-of-type {\n",
       "        vertical-align: middle;\n",
       "    }\n",
       "\n",
       "    .dataframe tbody tr th {\n",
       "        vertical-align: top;\n",
       "    }\n",
       "\n",
       "    .dataframe thead th {\n",
       "        text-align: right;\n",
       "    }\n",
       "</style>\n",
       "<table border=\"1\" class=\"dataframe\">\n",
       "  <thead>\n",
       "    <tr style=\"text-align: right;\">\n",
       "      <th></th>\n",
       "      <th>Title</th>\n",
       "      <th>Num_episodes</th>\n",
       "      <th>Aired_through</th>\n",
       "      <th>Num_members</th>\n",
       "      <th>page_url</th>\n",
       "      <th>image_url</th>\n",
       "      <th>Score</th>\n",
       "      <th>Rank</th>\n",
       "    </tr>\n",
       "  </thead>\n",
       "  <tbody>\n",
       "    <tr>\n",
       "      <th>0</th>\n",
       "      <td>Fullmetal Alchemist: Brotherhood</td>\n",
       "      <td>TV (64 eps)</td>\n",
       "      <td>Apr 2009 - Jul 2010</td>\n",
       "      <td>3188280</td>\n",
       "      <td>https://myanimelist.net/anime/5114/Fullmetal_A...</td>\n",
       "      <td>https://cdn.myanimelist.net/r/100x140/images/a...</td>\n",
       "      <td>9.10</td>\n",
       "      <td>1</td>\n",
       "    </tr>\n",
       "    <tr>\n",
       "      <th>1</th>\n",
       "      <td>Steins;Gate</td>\n",
       "      <td>TV (24 eps)</td>\n",
       "      <td>Apr 2011 - Sep 2011</td>\n",
       "      <td>2449954</td>\n",
       "      <td>https://myanimelist.net/anime/9253/Steins_Gate</td>\n",
       "      <td>https://cdn.myanimelist.net/r/100x140/images/a...</td>\n",
       "      <td>9.07</td>\n",
       "      <td>2</td>\n",
       "    </tr>\n",
       "    <tr>\n",
       "      <th>2</th>\n",
       "      <td>Bleach: Sennen Kessen-hen</td>\n",
       "      <td>TV (13 eps)</td>\n",
       "      <td>Oct 2022 - Dec 2022</td>\n",
       "      <td>453048</td>\n",
       "      <td>https://myanimelist.net/anime/41467/Bleach__Se...</td>\n",
       "      <td>https://cdn.myanimelist.net/r/100x140/images/a...</td>\n",
       "      <td>9.06</td>\n",
       "      <td>3</td>\n",
       "    </tr>\n",
       "    <tr>\n",
       "      <th>3</th>\n",
       "      <td>Gintama°</td>\n",
       "      <td>TV (51 eps)</td>\n",
       "      <td>Apr 2015 - Mar 2016</td>\n",
       "      <td>598624</td>\n",
       "      <td>https://myanimelist.net/anime/28977/Gintama°</td>\n",
       "      <td>https://cdn.myanimelist.net/r/100x140/images/a...</td>\n",
       "      <td>9.06</td>\n",
       "      <td>4</td>\n",
       "    </tr>\n",
       "    <tr>\n",
       "      <th>4</th>\n",
       "      <td>Kaguya-sama wa Kokurasetai: Ultra Romantic</td>\n",
       "      <td>TV (13 eps)</td>\n",
       "      <td>Apr 2022 - Jun 2022</td>\n",
       "      <td>830316</td>\n",
       "      <td>https://myanimelist.net/anime/43608/Kaguya-sam...</td>\n",
       "      <td>https://cdn.myanimelist.net/r/100x140/images/a...</td>\n",
       "      <td>9.05</td>\n",
       "      <td>5</td>\n",
       "    </tr>\n",
       "  </tbody>\n",
       "</table>\n",
       "</div>"
      ],
      "text/plain": [
       "                                        Title Num_episodes  \\\n",
       "0            Fullmetal Alchemist: Brotherhood  TV (64 eps)   \n",
       "1                                 Steins;Gate  TV (24 eps)   \n",
       "2                   Bleach: Sennen Kessen-hen  TV (13 eps)   \n",
       "3                                    Gintama°  TV (51 eps)   \n",
       "4  Kaguya-sama wa Kokurasetai: Ultra Romantic  TV (13 eps)   \n",
       "\n",
       "         Aired_through  Num_members  \\\n",
       "0  Apr 2009 - Jul 2010      3188280   \n",
       "1  Apr 2011 - Sep 2011      2449954   \n",
       "2  Oct 2022 - Dec 2022       453048   \n",
       "3  Apr 2015 - Mar 2016       598624   \n",
       "4  Apr 2022 - Jun 2022       830316   \n",
       "\n",
       "                                            page_url  \\\n",
       "0  https://myanimelist.net/anime/5114/Fullmetal_A...   \n",
       "1     https://myanimelist.net/anime/9253/Steins_Gate   \n",
       "2  https://myanimelist.net/anime/41467/Bleach__Se...   \n",
       "3       https://myanimelist.net/anime/28977/Gintama°   \n",
       "4  https://myanimelist.net/anime/43608/Kaguya-sam...   \n",
       "\n",
       "                                           image_url  Score  Rank  \n",
       "0  https://cdn.myanimelist.net/r/100x140/images/a...   9.10     1  \n",
       "1  https://cdn.myanimelist.net/r/100x140/images/a...   9.07     2  \n",
       "2  https://cdn.myanimelist.net/r/100x140/images/a...   9.06     3  \n",
       "3  https://cdn.myanimelist.net/r/100x140/images/a...   9.06     4  \n",
       "4  https://cdn.myanimelist.net/r/100x140/images/a...   9.05     5  "
      ]
     },
     "execution_count": 166,
     "metadata": {},
     "output_type": "execute_result"
    }
   ],
   "source": [
    "anime_df['Num_members'] = anime_df['Num_members'].apply(lambda x: int(''.join([s for s in x if s.isdigit()])))"
   ]
  },
  {
   "cell_type": "code",
   "execution_count": 189,
   "id": "38d71b71",
   "metadata": {},
   "outputs": [],
   "source": [
    "# Separating out type and episodes from num_episodes column\n",
    "anime_df['Type'] = anime_df['Num_episodes'].apply(lambda x: x.split()[0])\n",
    "anime_df['Episodes'] = anime_df['Num_episodes'].apply(lambda x: x.split()[1][1:])\n",
    "anime_df.drop('Num_episodes', axis=1, inplace=True)"
   ]
  },
  {
   "cell_type": "code",
   "execution_count": 192,
   "id": "48225e60",
   "metadata": {},
   "outputs": [],
   "source": [
    "anime_df = anime_df[['Title', 'Rank', 'Type', 'Episodes', 'Aired_through', 'Num_members', 'page_url', 'image_url', 'Score']]"
   ]
  },
  {
   "cell_type": "code",
   "execution_count": 194,
   "id": "02d2136a",
   "metadata": {},
   "outputs": [
    {
     "data": {
      "text/html": [
       "<div>\n",
       "<style scoped>\n",
       "    .dataframe tbody tr th:only-of-type {\n",
       "        vertical-align: middle;\n",
       "    }\n",
       "\n",
       "    .dataframe tbody tr th {\n",
       "        vertical-align: top;\n",
       "    }\n",
       "\n",
       "    .dataframe thead th {\n",
       "        text-align: right;\n",
       "    }\n",
       "</style>\n",
       "<table border=\"1\" class=\"dataframe\">\n",
       "  <thead>\n",
       "    <tr style=\"text-align: right;\">\n",
       "      <th></th>\n",
       "      <th>Title</th>\n",
       "      <th>Rank</th>\n",
       "      <th>Type</th>\n",
       "      <th>Episodes</th>\n",
       "      <th>Aired</th>\n",
       "      <th>Members</th>\n",
       "      <th>page_url</th>\n",
       "      <th>image_url</th>\n",
       "      <th>Score</th>\n",
       "    </tr>\n",
       "  </thead>\n",
       "  <tbody>\n",
       "    <tr>\n",
       "      <th>0</th>\n",
       "      <td>Fullmetal Alchemist: Brotherhood</td>\n",
       "      <td>1</td>\n",
       "      <td>TV</td>\n",
       "      <td>64</td>\n",
       "      <td>Apr 2009 - Jul 2010</td>\n",
       "      <td>3188280</td>\n",
       "      <td>https://myanimelist.net/anime/5114/Fullmetal_A...</td>\n",
       "      <td>https://cdn.myanimelist.net/r/100x140/images/a...</td>\n",
       "      <td>9.10</td>\n",
       "    </tr>\n",
       "    <tr>\n",
       "      <th>1</th>\n",
       "      <td>Steins;Gate</td>\n",
       "      <td>2</td>\n",
       "      <td>TV</td>\n",
       "      <td>24</td>\n",
       "      <td>Apr 2011 - Sep 2011</td>\n",
       "      <td>2449954</td>\n",
       "      <td>https://myanimelist.net/anime/9253/Steins_Gate</td>\n",
       "      <td>https://cdn.myanimelist.net/r/100x140/images/a...</td>\n",
       "      <td>9.07</td>\n",
       "    </tr>\n",
       "    <tr>\n",
       "      <th>2</th>\n",
       "      <td>Bleach: Sennen Kessen-hen</td>\n",
       "      <td>3</td>\n",
       "      <td>TV</td>\n",
       "      <td>13</td>\n",
       "      <td>Oct 2022 - Dec 2022</td>\n",
       "      <td>453048</td>\n",
       "      <td>https://myanimelist.net/anime/41467/Bleach__Se...</td>\n",
       "      <td>https://cdn.myanimelist.net/r/100x140/images/a...</td>\n",
       "      <td>9.06</td>\n",
       "    </tr>\n",
       "    <tr>\n",
       "      <th>3</th>\n",
       "      <td>Gintama°</td>\n",
       "      <td>4</td>\n",
       "      <td>TV</td>\n",
       "      <td>51</td>\n",
       "      <td>Apr 2015 - Mar 2016</td>\n",
       "      <td>598624</td>\n",
       "      <td>https://myanimelist.net/anime/28977/Gintama°</td>\n",
       "      <td>https://cdn.myanimelist.net/r/100x140/images/a...</td>\n",
       "      <td>9.06</td>\n",
       "    </tr>\n",
       "    <tr>\n",
       "      <th>4</th>\n",
       "      <td>Kaguya-sama wa Kokurasetai: Ultra Romantic</td>\n",
       "      <td>5</td>\n",
       "      <td>TV</td>\n",
       "      <td>13</td>\n",
       "      <td>Apr 2022 - Jun 2022</td>\n",
       "      <td>830316</td>\n",
       "      <td>https://myanimelist.net/anime/43608/Kaguya-sam...</td>\n",
       "      <td>https://cdn.myanimelist.net/r/100x140/images/a...</td>\n",
       "      <td>9.05</td>\n",
       "    </tr>\n",
       "  </tbody>\n",
       "</table>\n",
       "</div>"
      ],
      "text/plain": [
       "                                        Title  Rank Type Episodes  \\\n",
       "0            Fullmetal Alchemist: Brotherhood     1   TV       64   \n",
       "1                                 Steins;Gate     2   TV       24   \n",
       "2                   Bleach: Sennen Kessen-hen     3   TV       13   \n",
       "3                                    Gintama°     4   TV       51   \n",
       "4  Kaguya-sama wa Kokurasetai: Ultra Romantic     5   TV       13   \n",
       "\n",
       "                 Aired  Members  \\\n",
       "0  Apr 2009 - Jul 2010  3188280   \n",
       "1  Apr 2011 - Sep 2011  2449954   \n",
       "2  Oct 2022 - Dec 2022   453048   \n",
       "3  Apr 2015 - Mar 2016   598624   \n",
       "4  Apr 2022 - Jun 2022   830316   \n",
       "\n",
       "                                            page_url  \\\n",
       "0  https://myanimelist.net/anime/5114/Fullmetal_A...   \n",
       "1     https://myanimelist.net/anime/9253/Steins_Gate   \n",
       "2  https://myanimelist.net/anime/41467/Bleach__Se...   \n",
       "3       https://myanimelist.net/anime/28977/Gintama°   \n",
       "4  https://myanimelist.net/anime/43608/Kaguya-sam...   \n",
       "\n",
       "                                           image_url  Score  \n",
       "0  https://cdn.myanimelist.net/r/100x140/images/a...   9.10  \n",
       "1  https://cdn.myanimelist.net/r/100x140/images/a...   9.07  \n",
       "2  https://cdn.myanimelist.net/r/100x140/images/a...   9.06  \n",
       "3  https://cdn.myanimelist.net/r/100x140/images/a...   9.06  \n",
       "4  https://cdn.myanimelist.net/r/100x140/images/a...   9.05  "
      ]
     },
     "execution_count": 194,
     "metadata": {},
     "output_type": "execute_result"
    }
   ],
   "source": [
    "anime_df.rename(columns={'Aired_through': 'Aired', 'Num_members': 'Members'}, inplace=True)\n",
    "anime_df.head()"
   ]
  },
  {
   "cell_type": "code",
   "execution_count": 291,
   "id": "6b953e4d",
   "metadata": {
    "scrolled": false
   },
   "outputs": [],
   "source": [
    "anime_df_cleaned = anime_df.sample(frac=1).reset_index(drop=True)"
   ]
  },
  {
   "cell_type": "code",
   "execution_count": 292,
   "id": "1e3abecd",
   "metadata": {},
   "outputs": [
    {
     "data": {
      "text/html": [
       "<div>\n",
       "<style scoped>\n",
       "    .dataframe tbody tr th:only-of-type {\n",
       "        vertical-align: middle;\n",
       "    }\n",
       "\n",
       "    .dataframe tbody tr th {\n",
       "        vertical-align: top;\n",
       "    }\n",
       "\n",
       "    .dataframe thead th {\n",
       "        text-align: right;\n",
       "    }\n",
       "</style>\n",
       "<table border=\"1\" class=\"dataframe\">\n",
       "  <thead>\n",
       "    <tr style=\"text-align: right;\">\n",
       "      <th></th>\n",
       "      <th>Title</th>\n",
       "      <th>Rank</th>\n",
       "      <th>Type</th>\n",
       "      <th>Episodes</th>\n",
       "      <th>Aired</th>\n",
       "      <th>Members</th>\n",
       "      <th>page_url</th>\n",
       "      <th>image_url</th>\n",
       "      <th>Score</th>\n",
       "    </tr>\n",
       "  </thead>\n",
       "  <tbody>\n",
       "    <tr>\n",
       "      <th>0</th>\n",
       "      <td>Net-juu no Susume</td>\n",
       "      <td>1568</td>\n",
       "      <td>TV</td>\n",
       "      <td>10</td>\n",
       "      <td>Oct 2017 - Dec 2017</td>\n",
       "      <td>450968</td>\n",
       "      <td>https://myanimelist.net/anime/36038/Net-juu_no...</td>\n",
       "      <td>https://cdn.myanimelist.net/r/100x140/images/a...</td>\n",
       "      <td>7.55</td>\n",
       "    </tr>\n",
       "    <tr>\n",
       "      <th>1</th>\n",
       "      <td>Neon Genesis Evangelion: The End of Evangelion</td>\n",
       "      <td>99</td>\n",
       "      <td>Movie</td>\n",
       "      <td>1</td>\n",
       "      <td>Jul 1997 - Jul 1997</td>\n",
       "      <td>883576</td>\n",
       "      <td>https://myanimelist.net/anime/32/Neon_Genesis_...</td>\n",
       "      <td>https://cdn.myanimelist.net/r/100x140/images/a...</td>\n",
       "      <td>8.55</td>\n",
       "    </tr>\n",
       "    <tr>\n",
       "      <th>2</th>\n",
       "      <td>Templex</td>\n",
       "      <td>11445</td>\n",
       "      <td>Movie</td>\n",
       "      <td>1</td>\n",
       "      <td>2015 - 2015</td>\n",
       "      <td>538</td>\n",
       "      <td>https://myanimelist.net/anime/40721/Templex</td>\n",
       "      <td>https://cdn.myanimelist.net/r/100x140/images/a...</td>\n",
       "      <td>5.29</td>\n",
       "    </tr>\n",
       "    <tr>\n",
       "      <th>3</th>\n",
       "      <td>s.CRY.ed</td>\n",
       "      <td>2248</td>\n",
       "      <td>TV</td>\n",
       "      <td>26</td>\n",
       "      <td>Jul 2001 - Dec 2001</td>\n",
       "      <td>81283</td>\n",
       "      <td>https://myanimelist.net/anime/168/sCRYed</td>\n",
       "      <td>https://cdn.myanimelist.net/r/100x140/images/a...</td>\n",
       "      <td>7.36</td>\n",
       "    </tr>\n",
       "    <tr>\n",
       "      <th>4</th>\n",
       "      <td>Toaru Majutsu no Index-tan III</td>\n",
       "      <td>6679</td>\n",
       "      <td>Special</td>\n",
       "      <td>2</td>\n",
       "      <td>Dec 2018 - Apr 2019</td>\n",
       "      <td>11370</td>\n",
       "      <td>https://myanimelist.net/anime/39094/Toaru_Maju...</td>\n",
       "      <td>https://cdn.myanimelist.net/r/100x140/images/a...</td>\n",
       "      <td>6.44</td>\n",
       "    </tr>\n",
       "  </tbody>\n",
       "</table>\n",
       "</div>"
      ],
      "text/plain": [
       "                                            Title   Rank     Type Episodes  \\\n",
       "0                               Net-juu no Susume   1568       TV       10   \n",
       "1  Neon Genesis Evangelion: The End of Evangelion     99    Movie        1   \n",
       "2                                         Templex  11445    Movie        1   \n",
       "3                                        s.CRY.ed   2248       TV       26   \n",
       "4                  Toaru Majutsu no Index-tan III   6679  Special        2   \n",
       "\n",
       "                 Aired  Members  \\\n",
       "0  Oct 2017 - Dec 2017   450968   \n",
       "1  Jul 1997 - Jul 1997   883576   \n",
       "2          2015 - 2015      538   \n",
       "3  Jul 2001 - Dec 2001    81283   \n",
       "4  Dec 2018 - Apr 2019    11370   \n",
       "\n",
       "                                            page_url  \\\n",
       "0  https://myanimelist.net/anime/36038/Net-juu_no...   \n",
       "1  https://myanimelist.net/anime/32/Neon_Genesis_...   \n",
       "2        https://myanimelist.net/anime/40721/Templex   \n",
       "3           https://myanimelist.net/anime/168/sCRYed   \n",
       "4  https://myanimelist.net/anime/39094/Toaru_Maju...   \n",
       "\n",
       "                                           image_url  Score  \n",
       "0  https://cdn.myanimelist.net/r/100x140/images/a...   7.55  \n",
       "1  https://cdn.myanimelist.net/r/100x140/images/a...   8.55  \n",
       "2  https://cdn.myanimelist.net/r/100x140/images/a...   5.29  \n",
       "3  https://cdn.myanimelist.net/r/100x140/images/a...   7.36  \n",
       "4  https://cdn.myanimelist.net/r/100x140/images/a...   6.44  "
      ]
     },
     "execution_count": 292,
     "metadata": {},
     "output_type": "execute_result"
    }
   ],
   "source": [
    "anime_df_cleaned.head()"
   ]
  },
  {
   "cell_type": "code",
   "execution_count": 297,
   "id": "47cad7ba",
   "metadata": {},
   "outputs": [],
   "source": [
    "anime_df_cleaned.to_csv(\"MAL-anime.csv\")"
   ]
  },
  {
   "cell_type": "code",
   "execution_count": 298,
   "id": "07db88bf",
   "metadata": {},
   "outputs": [
    {
     "data": {
      "text/plain": [
       "(12774, 9)"
      ]
     },
     "execution_count": 298,
     "metadata": {},
     "output_type": "execute_result"
    }
   ],
   "source": [
    "anime_df_cleaned.shape"
   ]
  },
  {
   "cell_type": "code",
   "execution_count": null,
   "id": "6d76e08c",
   "metadata": {},
   "outputs": [],
   "source": []
  },
  {
   "cell_type": "markdown",
   "id": "5833a293",
   "metadata": {},
   "source": [
    "## Visualize and analyze data"
   ]
  },
  {
   "cell_type": "code",
   "execution_count": 301,
   "id": "d207d7db",
   "metadata": {},
   "outputs": [
    {
     "name": "stdout",
     "output_type": "stream",
     "text": [
      "<class 'pandas.core.frame.DataFrame'>\n",
      "RangeIndex: 12774 entries, 0 to 12773\n",
      "Data columns (total 9 columns):\n",
      " #   Column     Non-Null Count  Dtype  \n",
      "---  ------     --------------  -----  \n",
      " 0   Title      12774 non-null  object \n",
      " 1   Rank       12774 non-null  int64  \n",
      " 2   Type       12774 non-null  object \n",
      " 3   Episodes   12774 non-null  object \n",
      " 4   Aired      12774 non-null  object \n",
      " 5   Members    12774 non-null  int64  \n",
      " 6   page_url   12774 non-null  object \n",
      " 7   image_url  12774 non-null  object \n",
      " 8   Score      12774 non-null  float64\n",
      "dtypes: float64(1), int64(2), object(6)\n",
      "memory usage: 898.3+ KB\n"
     ]
    }
   ],
   "source": [
    "anime_df_cleaned.info()"
   ]
  },
  {
   "cell_type": "code",
   "execution_count": 300,
   "id": "b22b605a",
   "metadata": {},
   "outputs": [
    {
     "data": {
      "text/plain": [
       "Title        0\n",
       "Rank         0\n",
       "Type         0\n",
       "Episodes     0\n",
       "Aired        0\n",
       "Members      0\n",
       "page_url     0\n",
       "image_url    0\n",
       "Score        0\n",
       "dtype: int64"
      ]
     },
     "execution_count": 300,
     "metadata": {},
     "output_type": "execute_result"
    }
   ],
   "source": [
    "anime_df_cleaned.isnull().sum()"
   ]
  },
  {
   "cell_type": "code",
   "execution_count": 305,
   "id": "601d85ef",
   "metadata": {},
   "outputs": [
    {
     "data": {
      "text/html": [
       "<div>\n",
       "<style scoped>\n",
       "    .dataframe tbody tr th:only-of-type {\n",
       "        vertical-align: middle;\n",
       "    }\n",
       "\n",
       "    .dataframe tbody tr th {\n",
       "        vertical-align: top;\n",
       "    }\n",
       "\n",
       "    .dataframe thead th {\n",
       "        text-align: right;\n",
       "    }\n",
       "</style>\n",
       "<table border=\"1\" class=\"dataframe\">\n",
       "  <thead>\n",
       "    <tr style=\"text-align: right;\">\n",
       "      <th></th>\n",
       "      <th>Title</th>\n",
       "      <th>Rank</th>\n",
       "      <th>Type</th>\n",
       "      <th>Episodes</th>\n",
       "      <th>Aired</th>\n",
       "      <th>Members</th>\n",
       "      <th>page_url</th>\n",
       "      <th>image_url</th>\n",
       "      <th>Score</th>\n",
       "    </tr>\n",
       "  </thead>\n",
       "  <tbody>\n",
       "    <tr>\n",
       "      <th>count</th>\n",
       "      <td>12774</td>\n",
       "      <td>12774.000000</td>\n",
       "      <td>12774</td>\n",
       "      <td>12774</td>\n",
       "      <td>12774</td>\n",
       "      <td>1.277400e+04</td>\n",
       "      <td>12774</td>\n",
       "      <td>12774</td>\n",
       "      <td>12774.000000</td>\n",
       "    </tr>\n",
       "    <tr>\n",
       "      <th>unique</th>\n",
       "      <td>12774</td>\n",
       "      <td>NaN</td>\n",
       "      <td>6</td>\n",
       "      <td>193</td>\n",
       "      <td>3631</td>\n",
       "      <td>NaN</td>\n",
       "      <td>12774</td>\n",
       "      <td>12770</td>\n",
       "      <td>NaN</td>\n",
       "    </tr>\n",
       "    <tr>\n",
       "      <th>top</th>\n",
       "      <td>Net-juu no Susume</td>\n",
       "      <td>NaN</td>\n",
       "      <td>TV</td>\n",
       "      <td>1</td>\n",
       "      <td>Oct 2016 - Dec 2016</td>\n",
       "      <td>NaN</td>\n",
       "      <td>https://myanimelist.net/anime/36038/Net-juu_no...</td>\n",
       "      <td>https://cdn.myanimelist.net/r/100x140/images/q...</td>\n",
       "      <td>NaN</td>\n",
       "    </tr>\n",
       "    <tr>\n",
       "      <th>freq</th>\n",
       "      <td>1</td>\n",
       "      <td>NaN</td>\n",
       "      <td>4510</td>\n",
       "      <td>5448</td>\n",
       "      <td>54</td>\n",
       "      <td>NaN</td>\n",
       "      <td>1</td>\n",
       "      <td>5</td>\n",
       "      <td>NaN</td>\n",
       "    </tr>\n",
       "    <tr>\n",
       "      <th>mean</th>\n",
       "      <td>NaN</td>\n",
       "      <td>6397.824409</td>\n",
       "      <td>NaN</td>\n",
       "      <td>NaN</td>\n",
       "      <td>NaN</td>\n",
       "      <td>7.080744e+04</td>\n",
       "      <td>NaN</td>\n",
       "      <td>NaN</td>\n",
       "      <td>6.475332</td>\n",
       "    </tr>\n",
       "    <tr>\n",
       "      <th>std</th>\n",
       "      <td>NaN</td>\n",
       "      <td>3690.509535</td>\n",
       "      <td>NaN</td>\n",
       "      <td>NaN</td>\n",
       "      <td>NaN</td>\n",
       "      <td>2.140947e+05</td>\n",
       "      <td>NaN</td>\n",
       "      <td>NaN</td>\n",
       "      <td>0.942195</td>\n",
       "    </tr>\n",
       "    <tr>\n",
       "      <th>min</th>\n",
       "      <td>NaN</td>\n",
       "      <td>1.000000</td>\n",
       "      <td>NaN</td>\n",
       "      <td>NaN</td>\n",
       "      <td>NaN</td>\n",
       "      <td>1.810000e+02</td>\n",
       "      <td>NaN</td>\n",
       "      <td>NaN</td>\n",
       "      <td>1.850000</td>\n",
       "    </tr>\n",
       "    <tr>\n",
       "      <th>25%</th>\n",
       "      <td>NaN</td>\n",
       "      <td>3204.250000</td>\n",
       "      <td>NaN</td>\n",
       "      <td>NaN</td>\n",
       "      <td>NaN</td>\n",
       "      <td>1.455000e+03</td>\n",
       "      <td>NaN</td>\n",
       "      <td>NaN</td>\n",
       "      <td>5.840000</td>\n",
       "    </tr>\n",
       "    <tr>\n",
       "      <th>50%</th>\n",
       "      <td>NaN</td>\n",
       "      <td>6399.500000</td>\n",
       "      <td>NaN</td>\n",
       "      <td>NaN</td>\n",
       "      <td>NaN</td>\n",
       "      <td>6.566500e+03</td>\n",
       "      <td>NaN</td>\n",
       "      <td>NaN</td>\n",
       "      <td>6.500000</td>\n",
       "    </tr>\n",
       "    <tr>\n",
       "      <th>75%</th>\n",
       "      <td>NaN</td>\n",
       "      <td>9592.750000</td>\n",
       "      <td>NaN</td>\n",
       "      <td>NaN</td>\n",
       "      <td>NaN</td>\n",
       "      <td>4.066725e+04</td>\n",
       "      <td>NaN</td>\n",
       "      <td>NaN</td>\n",
       "      <td>7.170000</td>\n",
       "    </tr>\n",
       "    <tr>\n",
       "      <th>max</th>\n",
       "      <td>NaN</td>\n",
       "      <td>12788.000000</td>\n",
       "      <td>NaN</td>\n",
       "      <td>NaN</td>\n",
       "      <td>NaN</td>\n",
       "      <td>3.759013e+06</td>\n",
       "      <td>NaN</td>\n",
       "      <td>NaN</td>\n",
       "      <td>9.100000</td>\n",
       "    </tr>\n",
       "  </tbody>\n",
       "</table>\n",
       "</div>"
      ],
      "text/plain": [
       "                    Title          Rank   Type Episodes                Aired  \\\n",
       "count               12774  12774.000000  12774    12774                12774   \n",
       "unique              12774           NaN      6      193                 3631   \n",
       "top     Net-juu no Susume           NaN     TV        1  Oct 2016 - Dec 2016   \n",
       "freq                    1           NaN   4510     5448                   54   \n",
       "mean                  NaN   6397.824409    NaN      NaN                  NaN   \n",
       "std                   NaN   3690.509535    NaN      NaN                  NaN   \n",
       "min                   NaN      1.000000    NaN      NaN                  NaN   \n",
       "25%                   NaN   3204.250000    NaN      NaN                  NaN   \n",
       "50%                   NaN   6399.500000    NaN      NaN                  NaN   \n",
       "75%                   NaN   9592.750000    NaN      NaN                  NaN   \n",
       "max                   NaN  12788.000000    NaN      NaN                  NaN   \n",
       "\n",
       "             Members                                           page_url  \\\n",
       "count   1.277400e+04                                              12774   \n",
       "unique           NaN                                              12774   \n",
       "top              NaN  https://myanimelist.net/anime/36038/Net-juu_no...   \n",
       "freq             NaN                                                  1   \n",
       "mean    7.080744e+04                                                NaN   \n",
       "std     2.140947e+05                                                NaN   \n",
       "min     1.810000e+02                                                NaN   \n",
       "25%     1.455000e+03                                                NaN   \n",
       "50%     6.566500e+03                                                NaN   \n",
       "75%     4.066725e+04                                                NaN   \n",
       "max     3.759013e+06                                                NaN   \n",
       "\n",
       "                                                image_url         Score  \n",
       "count                                               12774  12774.000000  \n",
       "unique                                              12770           NaN  \n",
       "top     https://cdn.myanimelist.net/r/100x140/images/q...           NaN  \n",
       "freq                                                    5           NaN  \n",
       "mean                                                  NaN      6.475332  \n",
       "std                                                   NaN      0.942195  \n",
       "min                                                   NaN      1.850000  \n",
       "25%                                                   NaN      5.840000  \n",
       "50%                                                   NaN      6.500000  \n",
       "75%                                                   NaN      7.170000  \n",
       "max                                                   NaN      9.100000  "
      ]
     },
     "execution_count": 305,
     "metadata": {},
     "output_type": "execute_result"
    }
   ],
   "source": [
    "anime_df_cleaned.describe(include='all')"
   ]
  },
  {
   "cell_type": "code",
   "execution_count": 309,
   "id": "46027771",
   "metadata": {},
   "outputs": [
    {
     "data": {
      "text/html": [
       "<div>\n",
       "<style scoped>\n",
       "    .dataframe tbody tr th:only-of-type {\n",
       "        vertical-align: middle;\n",
       "    }\n",
       "\n",
       "    .dataframe tbody tr th {\n",
       "        vertical-align: top;\n",
       "    }\n",
       "\n",
       "    .dataframe thead th {\n",
       "        text-align: right;\n",
       "    }\n",
       "</style>\n",
       "<table border=\"1\" class=\"dataframe\">\n",
       "  <thead>\n",
       "    <tr style=\"text-align: right;\">\n",
       "      <th></th>\n",
       "      <th>Rank</th>\n",
       "      <th>Members</th>\n",
       "      <th>Score</th>\n",
       "    </tr>\n",
       "  </thead>\n",
       "  <tbody>\n",
       "    <tr>\n",
       "      <th>Rank</th>\n",
       "      <td>1.000000</td>\n",
       "      <td>-0.375716</td>\n",
       "      <td>-0.977151</td>\n",
       "    </tr>\n",
       "    <tr>\n",
       "      <th>Members</th>\n",
       "      <td>-0.375716</td>\n",
       "      <td>1.000000</td>\n",
       "      <td>0.397808</td>\n",
       "    </tr>\n",
       "    <tr>\n",
       "      <th>Score</th>\n",
       "      <td>-0.977151</td>\n",
       "      <td>0.397808</td>\n",
       "      <td>1.000000</td>\n",
       "    </tr>\n",
       "  </tbody>\n",
       "</table>\n",
       "</div>"
      ],
      "text/plain": [
       "             Rank   Members     Score\n",
       "Rank     1.000000 -0.375716 -0.977151\n",
       "Members -0.375716  1.000000  0.397808\n",
       "Score   -0.977151  0.397808  1.000000"
      ]
     },
     "execution_count": 309,
     "metadata": {},
     "output_type": "execute_result"
    }
   ],
   "source": [
    "anime_df_cleaned.corr(numeric_only=True)"
   ]
  },
  {
   "cell_type": "code",
   "execution_count": 310,
   "id": "1ef8faab",
   "metadata": {},
   "outputs": [],
   "source": [
    "import matplotlib.pyplot as plt\n",
    "import seaborn as sns"
   ]
  },
  {
   "cell_type": "code",
   "execution_count": 331,
   "id": "dfe9757a",
   "metadata": {},
   "outputs": [
    {
     "data": {
      "image/png": "[encoded data removed]",
      "text/plain": [
       "<Figure size 640x480 with 1 Axes>"
      ]
     },
     "metadata": {},
     "output_type": "display_data"
    }
   ],
   "source": [
    "sns.histplot(x='Members', data=anime_df_cleaned, log_scale=True, kde=True);"
   ]
  },
  {
   "cell_type": "code",
   "execution_count": 332,
   "id": "bd9d2970",
   "metadata": {},
   "outputs": [
    {
     "data": {
      "text/plain": [
       "<Axes: xlabel='Type', ylabel='count'>"
      ]
     },
     "execution_count": 332,
     "metadata": {},
     "output_type": "execute_result"
    },
    {
     "data": {
      "image/png": "[encoded data removed]",
      "text/plain": [
       "<Figure size 640x480 with 1 Axes>"
      ]
     },
     "metadata": {},
     "output_type": "display_data"
    }
   ],
   "source": [
    "sns.countplot(x='Type', data=anime_df_cleaned)"
   ]
  },
  {
   "cell_type": "code",
   "execution_count": 333,
   "id": "6ee4319a",
   "metadata": {},
   "outputs": [
    {
     "data": {
      "text/plain": [
       "<Axes: xlabel='Score', ylabel='Count'>"
      ]
     },
     "execution_count": 333,
     "metadata": {},
     "output_type": "execute_result"
    },
    {
     "data": {
      "image/png": "[encoded data removed]",
      "text/plain": [
       "<Figure size 640x480 with 1 Axes>"
      ]
     },
     "metadata": {},
     "output_type": "display_data"
    }
   ],
   "source": [
    "sns.histplot(x='Score', data=anime_df_cleaned, kde=True)"
   ]
  },
  {
   "cell_type": "code",
   "execution_count": null,
   "id": "561a6f9a",
   "metadata": {},
   "outputs": [],
   "source": []
  },
  {
   "cell_type": "code",
   "execution_count": null,
   "id": "24b77192",
   "metadata": {},
   "outputs": [],
   "source": []
  },
  {
   "cell_type": "markdown",
   "id": "52c782d4",
   "metadata": {},
   "source": [
    "## Conclusion and further experiments"
   ]
  },
  {
   "cell_type": "markdown",
   "id": "bd0f8b12",
   "metadata": {},
   "source": [
    "- I have scraped the list of the top 50 anime and mangas but this could be extended much further say for top 1000 anime.\n",
    "- Selenium or playwright packages could be used to scrape multiple pages at once \n",
    "- Visualization and exploratory data analysis could be done easily by extracting multiple pages which could be another project in itself."
   ]
  },
  {
   "cell_type": "code",
   "execution_count": null,
   "id": "8b4863c8",
   "metadata": {},
   "outputs": [],
   "source": []
  }
 ],
 "metadata": {
  "kernelspec": {
   "display_name": "Python 3 (ipykernel)",
   "language": "python",
   "name": "python3"
  },
  "language_info": {
   "codemirror_mode": {
    "name": "ipython",
    "version": 3
   },
   "file_extension": ".py",
   "mimetype": "text/x-python",
   "name": "python",
   "nbconvert_exporter": "python",
   "pygments_lexer": "ipython3",
   "version": "3.9.13"
  }
 },
 "nbformat": 4,
 "nbformat_minor": 5
}
