{
 "cells": [
  {
   "cell_type": "markdown",
   "id": "3377158c",
   "metadata": {},
   "source": [
    "# Web Scraping Popular Books on Goodreads using Python"
   ]
  },
  {
   "cell_type": "code",
   "execution_count": 1,
   "id": "fe30c428",
   "metadata": {},
   "outputs": [],
   "source": [
    "# importing required libraries\n",
    "import requests\n",
    "import os\n",
    "from bs4 import BeautifulSoup\n",
    "import pandas as pd\n",
    "import csv\n",
    "import time\n",
    "\n",
    "from IPython.display import display, Image"
   ]
  },
  {
   "cell_type": "code",
   "execution_count": 2,
   "id": "eef64f93",
   "metadata": {},
   "outputs": [],
   "source": [
    "base_url = \"https://www.goodreads.com\"\n",
    "genres_url = \"https://www.goodreads.com/genres\""
   ]
  },
  {
   "cell_type": "code",
   "execution_count": 3,
   "id": "5219866e",
   "metadata": {},
   "outputs": [
    {
     "data": {
      "text/plain": [
       "200"
      ]
     },
     "execution_count": 3,
     "metadata": {},
     "output_type": "execute_result"
    }
   ],
   "source": [
    "response = requests.get(genres_url)\n",
    "response.status_code"
   ]
  },
  {
   "cell_type": "markdown",
   "id": "c2d4c9a0",
   "metadata": {},
   "source": [
    "# Exploration phase"
   ]
  },
  {
   "cell_type": "markdown",
   "id": "367f2d0f",
   "metadata": {},
   "source": [
    "First I will extract the genres of the books from the genres page"
   ]
  },
  {
   "cell_type": "code",
   "execution_count": 4,
   "id": "c2a9284c",
   "metadata": {},
   "outputs": [],
   "source": [
    "doc = BeautifulSoup(response.text, 'html.parser')"
   ]
  },
  {
   "cell_type": "code",
   "execution_count": 5,
   "id": "40522e2b",
   "metadata": {},
   "outputs": [],
   "source": [
    "genre_tags = doc.find_all('div', class_=\"rightContainer\")[0].find_all('a')"
   ]
  },
  {
   "cell_type": "code",
   "execution_count": 6,
   "id": "5c33606e",
   "metadata": {},
   "outputs": [],
   "source": [
    "genre_names = [tag.text for tag in genre_tags][1:-1]\n",
    "genre_links = [tag['href'] for tag in genre_tags][1:-1]"
   ]
  },
  {
   "cell_type": "code",
   "execution_count": 7,
   "id": "30d2c5f1",
   "metadata": {},
   "outputs": [
    {
     "data": {
      "text/plain": [
       "(['/genres/art',\n",
       "  '/genres/biography',\n",
       "  '/genres/business',\n",
       "  '/genres/chick-lit',\n",
       "  '/genres/children-s'],\n",
       " ['Art', 'Biography', 'Business', 'Chick Lit', \"Children's\"])"
      ]
     },
     "execution_count": 7,
     "metadata": {},
     "output_type": "execute_result"
    }
   ],
   "source": [
    "genre_links[:5], genre_names[:5]"
   ]
  },
  {
   "cell_type": "markdown",
   "id": "d9f154bb",
   "metadata": {},
   "source": [
    "Now I will append these genre links to the base url link which will help in extracting the most popular books of each genre. I will be using a dictionary to easily store them where the genre_names will be the keys and genre links will be the values for the dictionary."
   ]
  },
  {
   "cell_type": "code",
   "execution_count": 8,
   "id": "04606709",
   "metadata": {},
   "outputs": [],
   "source": [
    "# genre_links_dict = {name: base_url + link for (name, link) in zip(genre_names, genre_links)}\n",
    "# genre_links_dict"
   ]
  },
  {
   "cell_type": "code",
   "execution_count": 9,
   "id": "f10e62d8",
   "metadata": {},
   "outputs": [
    {
     "data": {
      "text/plain": [
       "40"
      ]
     },
     "execution_count": 9,
     "metadata": {},
     "output_type": "execute_result"
    }
   ],
   "source": [
    "num_pages = len(genre_links)\n",
    "num_pages"
   ]
  },
  {
   "cell_type": "markdown",
   "id": "9e32f0fd",
   "metadata": {},
   "source": [
    "By visiting the art genre page, it looks like the page contains the newly released books, giveaways books and the most popular books. I am interested about the most popular ones but on the page there are only limited amount of books shown so clicking on *more books* another page opened which include the full list of the most read/popular books of the art genre. This page is the most useful for my analysis. "
   ]
  },
  {
   "cell_type": "markdown",
   "id": "582238f3",
   "metadata": {},
   "source": [
    "So, now let's start with art genre and look at the html for this page"
   ]
  },
  {
   "cell_type": "markdown",
   "id": "189d15f8",
   "metadata": {},
   "source": [
    "Now let's update the genre links dict to account for the most read books"
   ]
  },
  {
   "cell_type": "code",
   "execution_count": 10,
   "id": "5cb4535c",
   "metadata": {},
   "outputs": [],
   "source": [
    "genre_links_dict = {name: genres_url + \"/most_read\" + link[7:] for (name, link) in zip(genre_names, genre_links)}"
   ]
  },
  {
   "cell_type": "code",
   "execution_count": 11,
   "id": "24575400",
   "metadata": {
    "scrolled": false
   },
   "outputs": [
    {
     "data": {
      "text/plain": [
       "{'Art': 'https://www.goodreads.com/genres/most_read/art',\n",
       " 'Biography': 'https://www.goodreads.com/genres/most_read/biography',\n",
       " 'Business': 'https://www.goodreads.com/genres/most_read/business',\n",
       " 'Chick Lit': 'https://www.goodreads.com/genres/most_read/chick-lit',\n",
       " \"Children's\": 'https://www.goodreads.com/genres/most_read/childrens',\n",
       " 'Christian': 'https://www.goodreads.com/genres/most_read/christian',\n",
       " 'Classics': 'https://www.goodreads.com/genres/most_read/classics',\n",
       " 'Comics': 'https://www.goodreads.com/genres/most_read/comics',\n",
       " 'Contemporary': 'https://www.goodreads.com/genres/most_read/contemporary',\n",
       " 'Cookbooks': 'https://www.goodreads.com/genres/most_read/cookbooks',\n",
       " 'Crime': 'https://www.goodreads.com/genres/most_read/crime',\n",
       " 'Ebooks': 'https://www.goodreads.com/genres/most_read/ebooks',\n",
       " 'Fantasy': 'https://www.goodreads.com/genres/most_read/fantasy',\n",
       " 'Fiction': 'https://www.goodreads.com/genres/most_read/fiction',\n",
       " 'Gay and Lesbian': 'https://www.goodreads.com/genres/most_read/lgbt',\n",
       " 'Graphic Novels': 'https://www.goodreads.com/genres/most_read/graphic-novels',\n",
       " 'Historical Fiction': 'https://www.goodreads.com/genres/most_read/historical-fiction',\n",
       " 'History': 'https://www.goodreads.com/genres/most_read/history',\n",
       " 'Horror': 'https://www.goodreads.com/genres/most_read/horror',\n",
       " 'Humor and Comedy': 'https://www.goodreads.com/genres/most_read/humor',\n",
       " 'Manga': 'https://www.goodreads.com/genres/most_read/manga',\n",
       " 'Memoir': 'https://www.goodreads.com/genres/most_read/memoir',\n",
       " 'Music': 'https://www.goodreads.com/genres/most_read/music',\n",
       " 'Mystery': 'https://www.goodreads.com/genres/most_read/mystery',\n",
       " 'Nonfiction': 'https://www.goodreads.com/genres/most_read/non-fiction',\n",
       " 'Paranormal': 'https://www.goodreads.com/genres/most_read/paranormal',\n",
       " 'Philosophy': 'https://www.goodreads.com/genres/most_read/philosophy',\n",
       " 'Poetry': 'https://www.goodreads.com/genres/most_read/poetry',\n",
       " 'Psychology': 'https://www.goodreads.com/genres/most_read/psychology',\n",
       " 'Religion': 'https://www.goodreads.com/genres/most_read/religion',\n",
       " 'Romance': 'https://www.goodreads.com/genres/most_read/romance',\n",
       " 'Science': 'https://www.goodreads.com/genres/most_read/science',\n",
       " 'Science Fiction': 'https://www.goodreads.com/genres/most_read/science-fiction',\n",
       " 'Self Help': 'https://www.goodreads.com/genres/most_read/self-help',\n",
       " 'Suspense': 'https://www.goodreads.com/genres/most_read/suspense',\n",
       " 'Spirituality': 'https://www.goodreads.com/genres/most_read/spirituality',\n",
       " 'Sports': 'https://www.goodreads.com/genres/most_read/sports',\n",
       " 'Thriller': 'https://www.goodreads.com/genres/most_read/thriller',\n",
       " 'Travel': 'https://www.goodreads.com/genres/most_read/travel',\n",
       " 'Young Adult': 'https://www.goodreads.com/genres/most_read/young-adult'}"
      ]
     },
     "execution_count": 11,
     "metadata": {},
     "output_type": "execute_result"
    }
   ],
   "source": [
    "genre_links_dict[\"Children's\"] = \"https://www.goodreads.com/genres/most_read/childrens\"\n",
    "genre_links_dict['Gay and Lesbian'] = \"https://www.goodreads.com/genres/most_read/lgbt\"\n",
    "genre_links_dict['Humor and Comedy'] = \"https://www.goodreads.com/genres/most_read/humor\"\n",
    "genre_links_dict"
   ]
  },
  {
   "cell_type": "markdown",
   "id": "8e45146d",
   "metadata": {},
   "source": [
    "### New releases"
   ]
  },
  {
   "cell_type": "code",
   "execution_count": 12,
   "id": "3a0e0d0a",
   "metadata": {},
   "outputs": [
    {
     "data": {
      "text/plain": [
       "{'Art': 'https://www.goodreads.com/genres/new_releases/art',\n",
       " 'Biography': 'https://www.goodreads.com/genres/new_releases/biography',\n",
       " 'Business': 'https://www.goodreads.com/genres/new_releases/business',\n",
       " 'Chick Lit': 'https://www.goodreads.com/genres/new_releases/chick-lit',\n",
       " \"Children's\": 'https://www.goodreads.com/genres/new_releases/childrens',\n",
       " 'Christian': 'https://www.goodreads.com/genres/new_releases/christian',\n",
       " 'Classics': 'https://www.goodreads.com/genres/new_releases/classics',\n",
       " 'Comics': 'https://www.goodreads.com/genres/new_releases/comics',\n",
       " 'Contemporary': 'https://www.goodreads.com/genres/new_releases/contemporary',\n",
       " 'Cookbooks': 'https://www.goodreads.com/genres/new_releases/cookbooks',\n",
       " 'Crime': 'https://www.goodreads.com/genres/new_releases/crime',\n",
       " 'Ebooks': 'https://www.goodreads.com/genres/new_releases/ebooks',\n",
       " 'Fantasy': 'https://www.goodreads.com/genres/new_releases/fantasy',\n",
       " 'Fiction': 'https://www.goodreads.com/genres/new_releases/fiction',\n",
       " 'Gay and Lesbian': 'https://www.goodreads.com/genres/new_releases/lgbt',\n",
       " 'Graphic Novels': 'https://www.goodreads.com/genres/new_releases/graphic-novels',\n",
       " 'Historical Fiction': 'https://www.goodreads.com/genres/new_releases/historical-fiction',\n",
       " 'History': 'https://www.goodreads.com/genres/new_releases/history',\n",
       " 'Horror': 'https://www.goodreads.com/genres/new_releases/horror',\n",
       " 'Humor and Comedy': 'https://www.goodreads.com/genres/new_releases/humor',\n",
       " 'Manga': 'https://www.goodreads.com/genres/new_releases/manga',\n",
       " 'Memoir': 'https://www.goodreads.com/genres/new_releases/memoir',\n",
       " 'Music': 'https://www.goodreads.com/genres/new_releases/music',\n",
       " 'Mystery': 'https://www.goodreads.com/genres/new_releases/mystery',\n",
       " 'Nonfiction': 'https://www.goodreads.com/genres/new_releases/non-fiction',\n",
       " 'Paranormal': 'https://www.goodreads.com/genres/new_releases/paranormal',\n",
       " 'Philosophy': 'https://www.goodreads.com/genres/new_releases/philosophy',\n",
       " 'Poetry': 'https://www.goodreads.com/genres/new_releases/poetry',\n",
       " 'Psychology': 'https://www.goodreads.com/genres/new_releases/psychology',\n",
       " 'Religion': 'https://www.goodreads.com/genres/new_releases/religion',\n",
       " 'Romance': 'https://www.goodreads.com/genres/new_releases/romance',\n",
       " 'Science': 'https://www.goodreads.com/genres/new_releases/science',\n",
       " 'Science Fiction': 'https://www.goodreads.com/genres/new_releases/science-fiction',\n",
       " 'Self Help': 'https://www.goodreads.com/genres/new_releases/self-help',\n",
       " 'Suspense': 'https://www.goodreads.com/genres/new_releases/suspense',\n",
       " 'Spirituality': 'https://www.goodreads.com/genres/new_releases/spirituality',\n",
       " 'Sports': 'https://www.goodreads.com/genres/new_releases/sports',\n",
       " 'Thriller': 'https://www.goodreads.com/genres/new_releases/thriller',\n",
       " 'Travel': 'https://www.goodreads.com/genres/new_releases/travel',\n",
       " 'Young Adult': 'https://www.goodreads.com/genres/new_releases/young-adult'}"
      ]
     },
     "execution_count": 12,
     "metadata": {},
     "output_type": "execute_result"
    }
   ],
   "source": [
    "genre_new_release = {genre: genre_links_dict[genre].replace('most_read', 'new_releases') for genre in genre_links_dict}\n",
    "genre_new_release"
   ]
  },
  {
   "cell_type": "markdown",
   "id": "e54e0da2",
   "metadata": {},
   "source": [
    "## More genres"
   ]
  },
  {
   "cell_type": "code",
   "execution_count": 55,
   "id": "46b4e4b5",
   "metadata": {},
   "outputs": [],
   "source": [
    "imp_genre = []"
   ]
  },
  {
   "cell_type": "code",
   "execution_count": 95,
   "id": "81d84826",
   "metadata": {},
   "outputs": [],
   "source": [
    "# pages = \"https://www.goodreads.com/genres/list?page=14\""
   ]
  },
  {
   "cell_type": "code",
   "execution_count": 96,
   "id": "aa5d2d34",
   "metadata": {},
   "outputs": [],
   "source": [
    "resp = requests.get(pages)\n",
    "soup = BeautifulSoup(resp.text, 'html.parser')"
   ]
  },
  {
   "cell_type": "code",
   "execution_count": 97,
   "id": "911d8827",
   "metadata": {
    "scrolled": false
   },
   "outputs": [
    {
     "name": "stdout",
     "output_type": "stream",
     "text": [
      "[{'Genre': '20th-century', 'Books': '1,231,737'}, {'Genre': 'action', 'Books': '1,172,660'}, {'Genre': 'adult', 'Books': '4,534,807'}, {'Genre': 'adult-fiction', 'Books': '2,086,610'}, {'Genre': 'adventure', 'Books': '2,713,177'}, {'Genre': 'amazon', 'Books': '1,359,837'}, {'Genre': 'american', 'Books': '1,140,096'}, {'Genre': 'animals', 'Books': '1,063,942'}, {'Genre': 'art', 'Books': '1,346,609'}, {'Genre': 'biography', 'Books': '2,703,244'}, {'Genre': 'business', 'Books': '1,360,475'}, {'Genre': 'chick-lit', 'Books': '1,790,847'}, {'Genre': 'childrens', 'Books': '2,511,692'}, {'Genre': 'christian', 'Books': '1,565,619'}, {'Genre': 'classics', 'Books': '8,025,658'}, {'Genre': 'comics', 'Books': '4,574,108'}, {'Genre': 'contemporary', 'Books': '7,504,344'}, {'Genre': 'contemporary-romance', 'Books': '2,445,453'}, {'Genre': 'crime', 'Books': '2,474,234'}, {'Genre': 'dark', 'Books': '1,253,172'}, {'Genre': 'drama', 'Books': '1,998,315'}, {'Genre': 'dystopia', 'Books': '1,219,940'}, {'Genre': 'erotica', 'Books': '1,464,460'}, {'Genre': 'family', 'Books': '1,544,519'}, {'Genre': 'fantasy', 'Books': '20,690,137'}, {'Genre': 'feminism', 'Books': '1,052,976'}, {'Genre': 'fiction', 'Books': '23,467,415'}, {'Genre': 'graphic-novels', 'Books': '3,556,663'}, {'Genre': 'historical', 'Books': '3,747,595'}, {'Genre': 'historical-fiction', 'Books': '7,147,017'}, {'Genre': 'historical-romance', 'Books': '1,742,149'}, {'Genre': 'history', 'Books': '6,884,670'}, {'Genre': 'horror', 'Books': '4,152,043'}, {'Genre': 'humor', 'Books': '2,250,287'}, {'Genre': 'lgbt', 'Books': '1,662,771'}, {'Genre': 'literary-fiction', 'Books': '1,365,770'}, {'Genre': 'literature', 'Books': '2,319,715'}, {'Genre': 'love', 'Books': '1,129,653'}, {'Genre': 'magic', 'Books': '1,773,884'}, {'Genre': 'manga', 'Books': '7,244,141'}, {'Genre': 'memoir', 'Books': '1,867,094'}, {'Genre': 'middle-grade', 'Books': '1,771,144'}, {'Genre': 'mystery', 'Books': '7,955,073'}, {'Genre': 'mystery-thriller', 'Books': '1,699,582'}, {'Genre': 'mythology', 'Books': '1,077,801'}, {'Genre': 'new-adult', 'Books': '1,803,645'}, {'Genre': 'non-fiction', 'Books': '13,713,926'}, {'Genre': 'novels', 'Books': '2,836,401'}, {'Genre': 'paranormal', 'Books': '3,879,194'}, {'Genre': 'paranormal-romance', 'Books': '1,451,319'}, {'Genre': 'philosophy', 'Books': '3,018,855'}, {'Genre': 'picture-books', 'Books': '2,520,374'}, {'Genre': 'poetry', 'Books': '3,237,085'}, {'Genre': 'politics', 'Books': '1,985,568'}, {'Genre': 'psychology', 'Books': '2,023,576'}, {'Genre': 'realistic-fiction', 'Books': '1,328,579'}, {'Genre': 'reference', 'Books': '1,497,362'}, {'Genre': 'religion', 'Books': '1,580,499'}, {'Genre': 'romance', 'Books': '15,716,675'}, {'Genre': 'school', 'Books': '1,665,158'}, {'Genre': 'science', 'Books': '2,425,170'}, {'Genre': 'science-fiction', 'Books': '4,860,225'}, {'Genre': 'self-help', 'Books': '1,506,971'}, {'Genre': 'short-stories', 'Books': '2,727,306'}, {'Genre': 'supernatural', 'Books': '1,292,320'}, {'Genre': 'suspense', 'Books': '1,967,039'}, {'Genre': 'thriller', 'Books': '3,634,402'}, {'Genre': 'travel', 'Books': '1,154,278'}, {'Genre': 'unfinished', 'Books': '1,575,723'}, {'Genre': 'urban-fantasy', 'Books': '2,063,199'}, {'Genre': 'vampires', 'Books': '1,156,467'}, {'Genre': 'war', 'Books': '1,080,035'}, {'Genre': 'young-adult', 'Books': '9,504,228'}]\n"
     ]
    }
   ],
   "source": [
    "l = len(soup.find_all('div', class_='shelfStat'))\n",
    "for i in range(l):\n",
    "    name, num_books = soup.find_all('div', class_='shelfStat')[i].text.strip().split()[:-1]\n",
    "    if len(num_books.split(',')) >= 3:\n",
    "        imp_genre.append({'Genre': name, 'Books': num_books})\n",
    "print(imp_genre)"
   ]
  },
  {
   "cell_type": "markdown",
   "id": "df4fa09f",
   "metadata": {},
   "source": [
    "action, adult, adventure, dark, drama, dystopia, erotica, family, literature, mythology, novels, politics, short-stories, supernatural,  war"
   ]
  },
  {
   "cell_type": "markdown",
   "id": "197b0e12",
   "metadata": {},
   "source": [
    "This looks kinda neat."
   ]
  },
  {
   "cell_type": "code",
   "execution_count": 100,
   "id": "8550001c",
   "metadata": {},
   "outputs": [
    {
     "data": {
      "text/html": [
       "<div>\n",
       "<style scoped>\n",
       "    .dataframe tbody tr th:only-of-type {\n",
       "        vertical-align: middle;\n",
       "    }\n",
       "\n",
       "    .dataframe tbody tr th {\n",
       "        vertical-align: top;\n",
       "    }\n",
       "\n",
       "    .dataframe thead th {\n",
       "        text-align: right;\n",
       "    }\n",
       "</style>\n",
       "<table border=\"1\" class=\"dataframe\">\n",
       "  <thead>\n",
       "    <tr style=\"text-align: right;\">\n",
       "      <th></th>\n",
       "      <th>Genre</th>\n",
       "      <th>Books</th>\n",
       "    </tr>\n",
       "  </thead>\n",
       "  <tbody>\n",
       "    <tr>\n",
       "      <th>0</th>\n",
       "      <td>20th-century</td>\n",
       "      <td>1,231,737</td>\n",
       "    </tr>\n",
       "    <tr>\n",
       "      <th>1</th>\n",
       "      <td>action</td>\n",
       "      <td>1,172,660</td>\n",
       "    </tr>\n",
       "    <tr>\n",
       "      <th>2</th>\n",
       "      <td>adult</td>\n",
       "      <td>4,534,807</td>\n",
       "    </tr>\n",
       "    <tr>\n",
       "      <th>3</th>\n",
       "      <td>adult-fiction</td>\n",
       "      <td>2,086,610</td>\n",
       "    </tr>\n",
       "    <tr>\n",
       "      <th>4</th>\n",
       "      <td>adventure</td>\n",
       "      <td>2,713,177</td>\n",
       "    </tr>\n",
       "    <tr>\n",
       "      <th>...</th>\n",
       "      <td>...</td>\n",
       "      <td>...</td>\n",
       "    </tr>\n",
       "    <tr>\n",
       "      <th>68</th>\n",
       "      <td>unfinished</td>\n",
       "      <td>1,575,723</td>\n",
       "    </tr>\n",
       "    <tr>\n",
       "      <th>69</th>\n",
       "      <td>urban-fantasy</td>\n",
       "      <td>2,063,199</td>\n",
       "    </tr>\n",
       "    <tr>\n",
       "      <th>70</th>\n",
       "      <td>vampires</td>\n",
       "      <td>1,156,467</td>\n",
       "    </tr>\n",
       "    <tr>\n",
       "      <th>71</th>\n",
       "      <td>war</td>\n",
       "      <td>1,080,035</td>\n",
       "    </tr>\n",
       "    <tr>\n",
       "      <th>72</th>\n",
       "      <td>young-adult</td>\n",
       "      <td>9,504,228</td>\n",
       "    </tr>\n",
       "  </tbody>\n",
       "</table>\n",
       "<p>73 rows × 2 columns</p>\n",
       "</div>"
      ],
      "text/plain": [
       "            Genre      Books\n",
       "0    20th-century  1,231,737\n",
       "1          action  1,172,660\n",
       "2           adult  4,534,807\n",
       "3   adult-fiction  2,086,610\n",
       "4       adventure  2,713,177\n",
       "..            ...        ...\n",
       "68     unfinished  1,575,723\n",
       "69  urban-fantasy  2,063,199\n",
       "70       vampires  1,156,467\n",
       "71            war  1,080,035\n",
       "72    young-adult  9,504,228\n",
       "\n",
       "[73 rows x 2 columns]"
      ]
     },
     "metadata": {},
     "output_type": "display_data"
    }
   ],
   "source": [
    "pd.DataFrame(imp_genre)"
   ]
  },
  {
   "cell_type": "code",
   "execution_count": null,
   "id": "b39a25c0",
   "metadata": {},
   "outputs": [],
   "source": []
  },
  {
   "cell_type": "code",
   "execution_count": null,
   "id": "9e48af02",
   "metadata": {},
   "outputs": [],
   "source": []
  },
  {
   "cell_type": "code",
   "execution_count": null,
   "id": "8907e9e8",
   "metadata": {},
   "outputs": [],
   "source": []
  },
  {
   "cell_type": "code",
   "execution_count": 20,
   "id": "46ab4877",
   "metadata": {
    "scrolled": false
   },
   "outputs": [
    {
     "name": "stdout",
     "output_type": "stream",
     "text": [
      "200\n"
     ]
    }
   ],
   "source": [
    "response = requests.get(genre_new_release['Christian'])\n",
    "print(response.status_code)\n",
    "doc = BeautifulSoup(response.text, 'html.parser')"
   ]
  },
  {
   "cell_type": "code",
   "execution_count": 21,
   "id": "a16042ea",
   "metadata": {
    "scrolled": true
   },
   "outputs": [
    {
     "data": {
      "text/plain": [
       "'Christian'"
      ]
     },
     "execution_count": 21,
     "metadata": {},
     "output_type": "execute_result"
    }
   ],
   "source": [
    "\" \".join(doc.text.split('\\n\\n\\n')[1].split()[:-1])"
   ]
  },
  {
   "cell_type": "code",
   "execution_count": 22,
   "id": "bb1f86c5",
   "metadata": {},
   "outputs": [
    {
     "data": {
      "text/plain": [
       "21"
      ]
     },
     "execution_count": 22,
     "metadata": {},
     "output_type": "execute_result"
    }
   ],
   "source": [
    "len(doc.find_all('div', class_='leftAlignedImage'))"
   ]
  },
  {
   "cell_type": "code",
   "execution_count": 23,
   "id": "f1a77e0c",
   "metadata": {
    "scrolled": false
   },
   "outputs": [
    {
     "data": {
      "text/plain": [
       "'The Happy Life of Isadora Bentley'"
      ]
     },
     "execution_count": 23,
     "metadata": {},
     "output_type": "execute_result"
    }
   ],
   "source": [
    "doc.find_all('div', class_='leftAlignedImage')[1].script.text.split('>')[2][:-4]"
   ]
  },
  {
   "cell_type": "code",
   "execution_count": 24,
   "id": "9cbec3d8",
   "metadata": {},
   "outputs": [
    {
     "name": "stdout",
     "output_type": "stream",
     "text": [
      "0\n",
      "1\n",
      "2\n",
      "3\n",
      "4\n",
      "5\n",
      "6\n",
      "7\n",
      "8\n",
      "9\n",
      "10\n",
      "11\n",
      "12\n",
      "13\n",
      "14\n",
      "15\n",
      "16\n",
      "17\n",
      "18\n",
      "19\n",
      "20\n"
     ]
    },
    {
     "data": {
      "text/plain": [
       "[{'Title': 'The Best Summer of Our Lives',\n",
       "  'Author': 'Rachel Hauck',\n",
       "  'Score': '4.14',\n",
       "  'Ratings': '479',\n",
       "  'Published': '2023',\n",
       "  'Genre': 'Christian',\n",
       "  'Description': \"Twenty years ago, the summer of \\\\'77 was supposed to be the best summer of Summer Wilde\\\\'s life. She and her best friends, Spring, Autumn, and Snow--the Four Seasons--had big plans.\\\\n\\\\nBut those plans never had a chance. After a teenage prank gone awry, the Seasons found themselves on a bus to Tumbleweed, &quot;Nowhere,&quot; Oklahoma, to spend eight weeks as camp counselors. All four of them arrived with hidden secrets and buried fears, and the events that unfolded in those two months forever altered their friendships, their lives, and their futures.\\\\n\\\\nNow, thirtysomething, Summer is at a crossroads. When her latest girl band leaves her in a motel outside Tulsa, she is forced to face the shadows of her past. Returning to the place where everything changed, she soon learns Tumbleweed is more than a town she never wanted to see again. It\\\\'s a place for healing, for reconciling the past with the present, and for finally listening to love\\\\'s voice.\"},\n",
       " {'Title': 'The Happy Life of Isadora Bentley',\n",
       "  'Author': 'Courtney Walsh',\n",
       "  'Score': '4.33',\n",
       "  'Ratings': '1,490',\n",
       "  'Published': '2023',\n",
       "  'Genre': 'Christian',\n",
       "  'Description': 'She’s out to prove that there’s\\xa0no such thing as choosing happiness.\\\\n\\\\nIsadora Bentley follows the rules. Isadora Bentley likes things just so. Isadora Bentley believes that happiness is something that flat-out doesn’t exist in her life—and never will.\\\\n\\\\nAs a university researcher, Isadora keeps to herself as much as possible. She avoids the students she’s supposed to befriend and mentor. She stays away from her neighbors and lives her own quiet, organized life in her own quiet, organized apartment. And she will never get involved in a romantic relationship again—especially with another academic. It will be just Isadora and her research. Forever.\\\\n\\\\nBut on her thirtieth birthday, Isadora does something completely out of character. The young woman who never does anything “on a whim” makes an impulse purchase of a magazine featuring a silly article detailing “Thirty-One Ways to Be Happy”—which includes everything from smiling at strangers to exercising for endorphins to giving in to your chocolate cravings. Isadora decides to create her own secret research project—proving the writer of the ridiculous piece wrong.\\\\n\\\\nAs Isadora gets deeper into her research—and meets a handsome professor along the way—she’s stunned to discover that maybe, just maybe, she’s proving herself wrong. Perhaps there’s actually something to this happiness concept, and possibly there’s something to be said for loosening up and letting life take you somewhere\\xa0.\\xa0.\\xa0.\\xa0happy.\\\\n\\\\n\\\\nContemporary Christian romance\\\\nPerfect for fans of Denise Hunter and Rachel Linden\\\\nIncludes discussion questions for book clubs'},\n",
       " {'Title': 'Double Indemnity',\n",
       "  'Author': 'Robert Whitlow',\n",
       "  'Score': '4.32',\n",
       "  'Ratings': '368',\n",
       "  'Published': '2023',\n",
       "  'Genre': 'Christian',\n",
       "  'Description': 'Someone stands to gain millions of dollars from a hunter’s accidental death . . . unless that death wasn’t an accident. Matt and Elena Thompson present the picture of perfection. But their enviable life isn’t all it seems. Their marriage is on the rocks, and financial disaster looms. Then Matt is killed in a hunting accident, and the questions and accusations begin to mount. Attorney Liz Acosta, newly arrived in the mountains of north Georgia after graduating from law school, plans to get some job experience on her resume before returning home to seek a position with a big-time firm. Intellectual pastor Connor Grantham isn’t sure that shepherding a rural congregation is what he ultimately wants to do with his life. Drawn to philosophy, theology, and nature, he’s beginning to feel more at home in north Georgia—especially after he meets the brilliant and energetic Liz. While Liz and Connor spend more time with each other and discover just how compatible two people from wildly different backgrounds can be, they’re also being drawn into the shadowy world of Matt and Elena Thompson. As the couple’s marriage counselor, Connor finds himself in the middle of their explosive arguments. As Elena’s attorney, Liz is caught in the tailspin created by Matt’s death. Together, Connor and Liz attempt to solve the mystery of what really happened to Matt. If his death is ruled an accident, then the double indemnity clause in his life insurance would go into effect, essentially doubling the payout. But as Liz sorts through the legal paperwork of who stands to gain an immense sum of money from Matt’s death, Connor is accused of the unthinkable with much more at stake than millions of dollars.'},\n",
       " {'Title': 'With Every Memory',\n",
       "  'Author': 'Janine Rosche',\n",
       "  'Score': '4.28',\n",
       "  'Ratings': '167',\n",
       "  'Published': '2023',\n",
       "  'Genre': 'Christian',\n",
       "  'Description': \"After a tragic accident robs her of the last nine years of memories, Lori Mendenhall comes home to a family completely different than she remembers. As her memory returns and past secrets resurface, it will take all of them to repair what\\\\'s been broken and find a new future together.\"},\n",
       " {'Title': 'Indigo Isle',\n",
       "  'Author': 'T.I. Lowe',\n",
       "  'Score': '4.49',\n",
       "  'Ratings': '392',\n",
       "  'Published': '2023',\n",
       "  'Genre': 'Christian',\n",
       "  'Description': \"&quot;Storms show up and there ain\\\\'t a thing we can do to stop them.&quot;Sonny Bates left South Carolina fifteen years ago and never looked back. Now she\\\\'s a successful Hollywood location scout who travels the world, finding perfect places for movie shoots. Home is wherever she lands, and between her busy schedule and dealing with her boss\\\\'s demands, she has little time to think about the past . . . until her latest gig lands her a stone\\\\'s throw from everything she left behind.Searching off the coast of Charleston for a secluded site to film a key scene, Sonny wanders onto a private barrier island and encounters its reclusive owner, known by locals as the Monster of Indigo Isle. What she finds is a man much more complex than the myth.Once a successful New York attorney, Hudson Renfrow\\\\'s grief has exiled him to his island for several years. He spends his days alone, tending his fields of indigo, then making indigo dye--and he has no interest in serving the intrusive needs of a film company or yielding to Sonny\\\\'s determined curiosity. But when a hurricane makes landfall on the Carolina coast, stranding them together, an unlikely friendship forms between the two damaged souls. Soon the gruff exterior Hudson has long hidden behind crumbles--exposing the tender part of him that\\\\'s desperate for forgiveness and a second chance.A story of hanging on and letting go, of redemption and reconciliation, and of a love that heals the deepest wounds, from the author of the breakout Southern fiction bestseller Under the Magnolias.This book offers these extra helpful and fun features: \\\\nDiscussion questions--we\\\\'ve got you covered for book club!\\\\nRecipes\\\\nA playlist inspired by Sonny and Hudson\\\\'s love story\"},\n",
       " {'Title': 'Fairest of Heart (Texas Ever After, #1)',\n",
       "  'Author': 'Karen Witemeyer',\n",
       "  'Score': '4.43',\n",
       "  'Ratings': '549',\n",
       "  'Published': '2023',\n",
       "  'Genre': 'Christian',\n",
       "  'Description': \"Beauty has been nothing but a curse to Penelope Snow. When she becomes a personal maid for a famous actress whose troupe is leaving Chicago to tour the West, she hides her figure beneath shapeless dresses and keeps her head down. But she still manages to attract the wrong attention, leaving her prospects in tatters--and her jealous mistress plotting her demise.\\\\n\\\\nAfter his brother lost his life over a woman, Texas ranger Titus Kingsley has learned to expect the worst from women and is rarely disappointed. So when a young woman found in suspicious circumstances takes up residence with the seven old drovers living at his grandfather\\\\'s ranch, Titus is determined to keep a close eye on her.\\\\n\\\\nWith a promotion hanging in the balance, Titus is assigned to investigate a robbery case tied to Penelope\\\\'s acting troupe. The evidence points to her guilt, but Titus\\\\'s heart divines a different truth--one that might just get Penelope killed.\\\\n\\\\nAn enchanting Western take on the classic Snow White fairy tale, Fairest of Heart will sweep you away from once upon a time to happily ever after.\"},\n",
       " {'Title': 'This Is Where It Ends',\n",
       "  'Author': 'Cindy K. Sproles',\n",
       "  'Score': '4.49',\n",
       "  'Ratings': '154',\n",
       "  'Published': '2023',\n",
       "  'Genre': 'Christian',\n",
       "  'Description': \"Award-Winning Author Pens a Unique Southern TaleWhen Minerva Jane Jenkins was just 14 years old, she married a man who moved her to the mountains. He carried with him a small box, which he told her was filled with gold. And when he died 50 years later, he made her promise to keep his secret. She is to tell no one about the box or the treasure it contains.Now 94, Minerva is nearing the end of what has sometimes been a lonely life. But she\\\\'s kept that secret. Even so, rumors of hidden gold have a way of spreading, and Minerva is visited by a reporter, Del Rankin, who wants to know more of her story. His friend who joins him only wants to find the location of the gold. Neither of them knows quite who they\\\\'re up against when it comes to the old woman on the mountain.As an unlikely friendship develops, Minerva is tempted to reveal her secret to Del. After all, how long is one bound by a promise? But the truth of what\\\\'s really buried in the box may be hidden even from her.\"},\n",
       " {'Title': 'The Laws of Attraction (Wyoming Sunrise, #2)',\n",
       "  'Author': 'Mary Connealy',\n",
       "  'Score': '4.46',\n",
       "  'Ratings': '227',\n",
       "  'Published': '2023',\n",
       "  'Genre': 'Christian',\n",
       "  'Description': \"If widowed town seamstress Nell Armstrong has to make one more pair of boring chaps for the cowboys in her tiny Wyoming town, she might lose her mind. So meeting Brand Nolte, a widower father struggling to raise three girls, seems like her dream come true. Brand has no idea how to dress the girls, and Nell finally has a chance to both create beautiful dresses and teach the girls to sew.But Nell is much more than a seamstress, and the unique legal and investigative skills and knowledge she picked up alongside her late lawman husband soon become critical when a wounded stagecoach-robbery survivor is brought to town. As danger closes in from all sides, Nell and Brand must discover why there seems to be a bull\\\\'s-eye on their backs. Fan favorite Mary Connealy invites you back to 19th-century Wyoming for this adventuresome Western romance, complete with a budding romance, witty banter, and an absorbing mystery.\"},\n",
       " {'Title': 'Being God&#39;s Image: Why Creation Still Matters',\n",
       "  'Author': 'Carmen Joy Imes',\n",
       "  'Score': '4.66',\n",
       "  'Ratings': '128',\n",
       "  'Published': '2023',\n",
       "  'Genre': 'Christian',\n",
       "  'Description': \"What does it mean to be human? This timeless question proves critical as we seek to understand our purpose, identity, and significance. Amidst the many voices clamoring to shape our understanding of humanity, the Bible reveals important truths related to our human identity and\\xa0vocation that are critical to the flourishing of all of creation. Carmen Joy Imes seeks to recover the theologically rich message of the creation narratives starting in the book of Genesis as they illuminate what it means to be human. Every human being is created as God’s image. Imago Dei is our human identity, and God appointed humans to rule on God\\\\'s behalf.\\xa0Being God’s Image\\xa0explores the implications of this kinship relationship with God and considers what it means for our work, our gender relations, our care for creation, and our eternal destiny. The Bible invites us into a dramatically different quality of a beloved community in which we can know God and one another as we are truly known. Includes a discussion guide for personal reflection or group study, as well as links to related video material through the BibleProject.\"},\n",
       " {'Title': 'The Toxic War on Masculinity: How Christianity Reconciles the Sexes',\n",
       "  'Author': 'Nancy R. Pearcey',\n",
       "  'Score': '4.65',\n",
       "  'Ratings': '92',\n",
       "  'Published': '2023',\n",
       "  'Genre': 'Christian',\n",
       "  'Description': \"How the Script for Masculinity Turned Toxic--and How to Fix It\\\\n\\xa0 \\xa0\\xa0\\xa0\\xa0\\\\n&quot;Why Can\\\\'t We Hate Men?&quot; asks a headline in the Washington Post . A trendy hashtag is #KillAllMen. Books are sold titled I Hate Men ,\\xa0 No Good Men , and Are Men Necessary?\\\\n\\\\nHow did an ideology arise that condemns masculinity as dangerous and destructive?\\\\n\\xa0\\xa0\\xa0\\xa0\\xa0\\\\nBestselling author Nancy Pearcey has a knack for tackling the tough issues of our day. A former agnostic, Pearcey was hailed in The Economist as &quot;America\\\\'s pre-eminent evangelical Protestant female intellectual.&quot; In this book, she takes readers on a fascinating romp through American history to discover how the secular script for masculinity turned toxic--and what action we can take to fix it.\\\\n\\xa0 \\xa0\\xa0\\xa0\\\\nWe often hear that Exhibit A of toxic behavior is evangelical Christian men. But the social sciences tell a very different story. Studies find that family men who attend church regularly test out as the most loving husbands and the most engaged fathers. They have the lowest rate of divorce and--here\\\\'s the real stunner--the lowest rate of domestic violence of any group in America.\\\\n\\xa0\\xa0\\xa0\\xa0\\xa0\\\\nThe sociological facts explode anti-male stereotypes\\xa0and show that classic Christianity has the power to overcome toxic behavior and reconcile the sexes. That\\\\'s a finding that has stood up to rigorous empirical testing.\\\\n\\\\nThis book will equip thinkers and activists to challenge politically correct ideology and bring an evidence-based message of healing into the public square.\"},\n",
       " {'Title': 'Man of Shadow and Mist (Of Monsters and Men, #2)',\n",
       "  'Author': 'Michelle Griep',\n",
       "  'Score': '4.59',\n",
       "  'Ratings': '315',\n",
       "  'Published': '2023',\n",
       "  'Genre': 'Christian',\n",
       "  'Description': '“The world seems full of good men—even if there are monsters in it.”\\\\n–Bram Stoker, Dracula\\\\n \\\\nEngland, 1890\\\\n \\\\nVampires are alive and well in North Yorkshire, leastwise in the minds of the uneducated. Librarian Rosa Edwards intends to drive a stake through the heart of such superstitions. But gossip flies when the mysterious Sir James Morgan returns to his shadowy manor. The townsfolk say he is cursed.\\\\n \\\\nJames hates everything about England. The weather. The rumours. The scorn. Yet he must stay. His mother is dying of a disease for which he’s desperately trying to find a cure—an illness that will eventually take his own life.\\\\n \\\\nWhen Rosa sets out to prove the dark gossip about James is wrong, she discovers more questions than answers. How can she accept what she can’t explain—especially the strong allure of the enigmatic man? James must battle a town steeped in fear as well as the unsettling attraction he feels for the no-nonsense librarian.\\\\n \\\\nCan love prevail in a town filled with fear and doubt?'},\n",
       " {'Title': 'Women &amp; Work: Bearing God’s Image and Joining in His Mission through our Work',\n",
       "  'Author': 'Courtney  Moore',\n",
       "  'Score': '4.35',\n",
       "  'Ratings': '20',\n",
       "  'Published': '2023',\n",
       "  'Genre': 'Christian',\n",
       "  'Description': \"God gave His people work to do in the Garden of Eden before sin entered the world. Work is not untouched by sin, but it is good, as God allows us to image Him and the way He works through our lives. \\xa0 Vocation and work are\\xa0often a charged topic for women - inside or outside the\\xa0home.\\xa0Be a homeschool teacher or send your kids to public school? Wash clothes and dishes to the glory of God or work in the corporate world for the same?\\xa0\\xa0 In this practical book on the theology of work, read wisdom from women who represent all the realms of where a woman might find herself working and discover:\\xa0\\xa0\\\\nhow\\xa0to think about calling\\xa0\\\\nhow to work from weakness\\xa0\\\\nhow\\xa0to find joy in wise stewardship, no matter the field\\xa0\\\\nhow to join the mission of God in both motherhood and childlessness\\xa0\\\\nhow to image God in both secular and sacred work\\xa0\\\\nhow to manage and work with men\\xa0\\\\nhow to grow through conflict\\xa0\\\\n\\xa0 All work is Kingdom work. As women, let\\\\'s\\xa0join together\\xa0in celebrating the good gift of work.\\xa0\"},\n",
       " {'Title': 'In This Moment (Timeless, #2)',\n",
       "  'Author': 'Gabrielle  Meyer',\n",
       "  'Score': '4.61',\n",
       "  'Ratings': '989',\n",
       "  'Published': '2023',\n",
       "  'Genre': 'Christian',\n",
       "  'Description': \"Maggie inherited a gift from her time-crossing parents that allows her to live three separate lives in 1861, 1941, and 2001. Each night she goes to sleep in one time period and wakes up in another. Until, that is, she turns twenty-one, when she will have to forfeit two of those lives--and everyone she knows in them--forever.  In 1861, Maggie is the daughter of an influential senator at the outbreak of the Civil War, navigating a capital full of Southern spies and wounded soldiers. In 1941, she is a Navy nurse, grappling with her knowledge of the future when she\\\\'s asked to join a hospital ship being sent to Pearl Harbor. And in 2001, she\\\\'s a brilliant young medical student, fulfilling her dream of becoming a surgeon, yet unable to use her modern skills in her other paths.  While Maggie has sworn off romance until she makes her final choice, an intriguing man tugs at her heart in each era. The mysterious British gentleman. The prickly, demanding doctor. The charming young congressman. She\\\\'s drawn to each man in different ways, only complicating the impossible decision she must make, which looms ever closer.  With so much on the line, how can Maggie choose just one life to keep and the rest to lose?\"},\n",
       " {'Title': 'In the Shadow of the River',\n",
       "  'Author': 'Ann H. Gabhart',\n",
       "  'Score': '4.09',\n",
       "  'Ratings': '250',\n",
       "  'Published': '2023',\n",
       "  'Genre': 'Christian',\n",
       "  'Description': \"In 1881, Jacci Reed is only five years old when a man attempts to kidnap her from the steamboat her mother, Irena, works on. Badly wounded during the confrontation, Irena takes Jacci aboard the Kingston Floating Palace, a showboat tied up beside them. There, Jacci\\\\'s actor grandfather tends to her mother and Jacci gets a first taste of the life she will come to lead.Fifteen years later, Jacci is an actress aboard the Kingston Floating Palace, and largely contented with her adopted family of actors, singers, and dancers. Especially Gabe, who has always supported her, and the gruff grandfather she has come to know and love. Jacci\\\\'s mother has been gone for years, but the memory of the altercation that ultimately took her life--and the cryptic things Jacci has overheard about her past--is always there, lurking in the back of her mind.When someone on the showboat tries to kill Jacci, it\\\\'s clear her questions demand answers. But secrets have a way of staying in the shadows, and the answers she craves will not come easily. Gabe only hopes they come in time for him and Jacci to have a future together.\"},\n",
       " {'Title': 'The Swindler&#39;s Daughter',\n",
       "  'Author': 'Stephenia H. McGee',\n",
       "  'Score': '4.29',\n",
       "  'Ratings': '213',\n",
       "  'Published': '2023',\n",
       "  'Genre': 'Christian',\n",
       "  'Description': \"A surprise inheritance. A cache of family secrets. A choice that will change her life forever.\\\\n\\\\nLillian Doyle has lived her entire high-society life with her widowed mother, believing her father died long ago. But when news arrives that her estranged father only recently passed away--in jail--Lillian is startled to find that the man has left a business and all of his possessions to her, making her a rather unusual heiress.\\\\n\\\\nWhen she goes to take possession of her father\\\\'s house in a backwoods Georgia town, the dilapidated structure is already occupied by another woman who claims it was promised to her son, Jonah. In her attempts to untangle the mess, Lillian will discover not only a family she never knew she had but a family business that is more than meets the eye--and has put a target on her back.\\\\n\\\\nTo discover the truth and take hold of the independence she\\\\'s always dreamed of, she\\\\'ll have to make friends with adversaries and strangers--especially Jonah, the dusty and unrefined cowboy who has secret aspirations of his own.\"},\n",
       " {'Title': 'The Secret to Happiness (Cape Cod Creamery, #2)',\n",
       "  'Author': 'Suzanne Woods Fisher',\n",
       "  'Score': '4.36',\n",
       "  'Ratings': '394',\n",
       "  'Published': '2023',\n",
       "  'Genre': 'Christian',\n",
       "  'Description': \"Escape to Cape Cod--where you just might find the secret to happiness\\\\n\\\\nCallie Dixon had the world by its tail . . . until it all slipped away. Fired from her dream job after making a colossal mistake, she\\\\'s escaped to her aunt\\\\'s home on Cape Cod for time to bounce back. Except it isn\\\\'t a home, it\\\\'s an ice cream shop. And time isn\\\\'t going to help, because Callie\\\\'s bounce has up and left. There\\\\'s a reason she made that mistake at work and she\\\\'s struggling to come to terms with it.\\\\n\\\\nThings go from bad to worse when Callie\\\\'s cousin Dawn drags her to a community class about the secret to happiness. Happiness is the last thing Callie wants to think about right now, but instructor Bruno Bianco--a curiously gloomy fellow--is relentless. He has a way of turning Callie\\\\'s thoughts upside down. Her feelings, too.\\\\n\\\\nCould Bruno be right when he says that hitting rock bottom is the very best place to be? If so, how is that supposed to help her find exactly what--or who--has been missing all along?\"},\n",
       " {'Title': 'The Shifting Current: A Coastal Guardian Novella',\n",
       "  'Author': 'Dani Pettrey',\n",
       "  'Score': '4.49',\n",
       "  'Ratings': '497',\n",
       "  'Published': '2023',\n",
       "  'Genre': 'Christian',\n",
       "  'Description': 'An elusive killer. A false identity. A deadly maze of lies.\\\\n\\\\nWhen Coast Guard Investigative Service Special Agent LOGAN PERRY’s beloved grandfather is murdered, Logan races to his hometown of Cauldron Creek, New Mexico to investigate the murder. His teammate and friend, EMMY THORTON, insists on joining him. Not a good idea—not when he loves her, but carries a secret that he knows will tear them apart.\\\\n\\\\nEmmy knows Logan will pursue the investigation no matter the cost, and she won’t let the man she loves plunge into a dangerous situation alone. She needs to be at his side, even if he believes friendship is her only reason for joining him.\\\\n\\\\nWhat looks like a robbery gone wrong rapidly shifts, drawing Emmy and Logan into a dizzying maze where nothing is as it appears. Every lead slips through their fingers as threats against them grow deadlier at each turn. Having only each other to rely on, their love for one another deepens, but will they live long enough to admit their attraction to each other?\\\\n\\\\nThey’re in the killer’s sights. One wrong move puts their future together and their lives on the line.'},\n",
       " {'Title': 'Counter Attack (Pearl River #1)',\n",
       "  'Author': 'Patricia  Bradley',\n",
       "  'Score': '4.31',\n",
       "  'Ratings': '348',\n",
       "  'Published': '2023',\n",
       "  'Genre': 'Christian',\n",
       "  'Description': \"No sooner has Alexis Stone been sworn in as the interim sheriff for Russell County, Tennessee, when a serial killer dubbed the Queen\\\\'s Gambit Killer strikes again--this time in her hometown. Pearl Springs is just supposed to be a temporary stop along the way to Alex\\\\'s real dream: becoming the first female police chief of Chattanooga. But the killer\\\\'s calling card--a white pawn and a note with a chess move printed on it--cannot be ignored.Pearl Springs chief of police Nathan Landry can\\\\'t believe that his high school sweetheart Alexis (he refuses to call her Alex) is back in town, and he can\\\\'t help wanting to protect the woman he never stopped loving. But as the danger mounts and the killer closes in, can Nathan come through on the promises he makes to himself to bring a killer to justice before it\\\\'s too late.\"},\n",
       " {'Title': 'The Heart&#39;s Choice (The Jewels of Kalispell, #1)',\n",
       "  'Author': 'Tracie Peterson',\n",
       "  'Score': '4.36',\n",
       "  'Ratings': '344',\n",
       "  'Published': '2023',\n",
       "  'Genre': 'Christian',\n",
       "  'Description': \"After witnessing a wrongful conviction as a young girl, Rebecca McCutcheon--the first female court reporter in Montana--is now determined to defend the innocent. During a murder trial, something doesn\\\\'t sit well with her about the case, but no one except for the handsome new Carnegie librarian will listen to her. Librarian Mark Andrews\\\\'s father sent him off to college hoping he would take over the business side of the family ranch. Mark would rather wrangle books than cows, but when a patron seeks help with research in hopes of proving a man\\\\'s innocence, Mark is immediately drawn to her and her cause. In a race against time, will Rebecca and Mark be able to find the evidence to free the man before it\\\\'s too late? Escape to Kalispell, Montana, for a daring and romantic tale from the talented pens of bestselling authors Tracie Peterson and Kimberley Woodhouse.\"},\n",
       " {'Title': 'The Keys to Gramercy Park',\n",
       "  'Author': 'Candice Sue Patterson',\n",
       "  'Score': '4.36',\n",
       "  'Ratings': '188',\n",
       "  'Published': '2023',\n",
       "  'Genre': 'Christian',\n",
       "  'Description': 'Secrets Sealed Within a Wall Come to Light in Lower Manhattan \\xa0Walk through Doors to the Past via a new series of historical stories of romance and adventure. Investigative historical journalist Andrea Andrews is tired of waiting tables to make ends meet. If she could find and write the next breakout story, she could secure a promotion with Smithsonian Magazine as their writer-at-large. But not much happens in lower Manhattan out of the ordinary until she discovers post-Civil War counterfeit bills hidden in the wall of her historic district apartment. \\xa0 Politics have always been Beau Davidson-Quincy’s passion, despite his family’s real estate empire. His clean image and single status make him a target in the media as he prepares to build his campaign for NYC governor. He has nothing to hide until a cute waitress unravels a mystery that could destroy his family’s reputation. \\xa0 Two centuries earlier, wounded Civil War veteran Franklin Davidson lost everything—his house, his wife, his standing in society. In his darkest moment, he’s awarded a position with the newly formed Secret Service to combat the spread of counterfeit U.S. currency. His life and new home in Gramercy Park are the envy of his peers, but nothing is as it seems. Secrets are meant to be kept, and Franklin will take his to his grave. \\xa0'},\n",
       " {'Title': 'Revealing the Truth (Agents of Espionage #1)',\n",
       "  'Author': 'Lorri Dudley',\n",
       "  'Score': '4.81',\n",
       "  'Ratings': '64',\n",
       "  'Published': '2023',\n",
       "  'Genre': 'Christian',\n",
       "  'Description': 'When Katherine Jenkins is rescued from the side of the road, half-frozen and left for dead, her only option is to stay silent about her identity or risk being shipped back to her ruthless guardian, who will kill to get his hands on her inheritance and the famous Jenkins Lipizzaner horses. But even under the pretense of amnesia, she cannot shake the memory of her sister and Katherine’s need to reach her before their guardian, or his marauding bandits, finish her off. Will she be safe in the earl’s manor, or will the assailant climbing through her window be the death of her?\\\\n\\\\nBritish spy, Stephen Hartington’s assignment to uncover an underground horse-thieving ring brings him home to his family’s manor, and the last thing he expected was to be struck with a candlestick upon climbing through the guest chamber window. The manor’s feisty and intriguing new house guest throws Stephen’s best-laid plans into turmoil and raises questions about the timing of her appearance, the convenience of her memory loss, and her impeccable riding skills. Could he be housing the horse thief he’d been ordered to capture—or worse, falling in love with her?'}]"
      ]
     },
     "execution_count": 24,
     "metadata": {},
     "output_type": "execute_result"
    }
   ],
   "source": [
    "get_books(doc)"
   ]
  },
  {
   "cell_type": "code",
   "execution_count": null,
   "id": "d575acc1",
   "metadata": {},
   "outputs": [],
   "source": []
  },
  {
   "cell_type": "code",
   "execution_count": null,
   "id": "a1056792",
   "metadata": {},
   "outputs": [],
   "source": []
  },
  {
   "cell_type": "code",
   "execution_count": 40,
   "id": "0f101cdc",
   "metadata": {},
   "outputs": [],
   "source": [
    "# Extract all books using the extracted html from the page\n",
    "def get_books(doc):\n",
    "    all_books = []\n",
    "    books_on_page = len(doc.find_all('div', class_='leftAlignedImage'))\n",
    "    genre = \" \".join(doc.text.split('\\n\\n\\n')[1].split()[:-1])\n",
    "    for i in range(books_on_page): \n",
    "        try:\n",
    "            if i == 0:\n",
    "                title = doc.find_all('div', class_='leftAlignedImage')[i].find_all('script')[1].text.split('>')[2][:-4]\n",
    "                author = doc.find_all('div', class_='leftAlignedImage')[i].find_all('script')[1].text.split('>')[6][:-4]\n",
    "                score = doc.find_all('div', class_='leftAlignedImage')[i].find_all('script')[1].text.split('>')[24].strip().split()[0]\n",
    "                rating = doc.find_all('div', class_='leftAlignedImage')[i].find_all('script')[1].text.split('>')[24].strip().split()[4]\n",
    "                pub = doc.find_all('div', class_='leftAlignedImage')[i].find_all('script')[1].text.split('>')[25].strip().split()[2][:-2]\n",
    "                desc = doc.find_all('div', class_='leftAlignedImage')[i].find_all('script')[1].text.split('>')[30][:-7]\n",
    "            else:\n",
    "                title = doc.find_all('div', class_='leftAlignedImage')[i].script.text.split('>')[2][:-4]\n",
    "                author = doc.find_all('div', class_='leftAlignedImage')[i].script.text.split('>')[6][:-4]\n",
    "                score = doc.find_all('div', class_='leftAlignedImage')[i].script.text.split('>')[24].strip().split()[0]\n",
    "                rating = doc.find_all('div', class_='leftAlignedImage')[i].script.text.split('>')[24].strip().split()[4]\n",
    "                pub = doc.find_all('div', class_='leftAlignedImage')[i].script.text.split('>')[25].strip().split()[2][:-2]\n",
    "                desc = doc.find_all('div', class_='leftAlignedImage')[i].script.text.split('>')[30][:-7]\n",
    "        except:\n",
    "            if i == 0:\n",
    "                title = doc.find_all('div', class_='leftAlignedImage')[i].find_all('script')[1].text.split('>')[2][:-4]\n",
    "                author = doc.find_all('div', class_='leftAlignedImage')[i].find_all('script')[1].text.split('>')[6][:-4]\n",
    "                score = doc.find_all('div', class_='leftAlignedImage')[i].find_all('script')[1].text.split('>')[22].strip().split()[0]\n",
    "                rating = doc.find_all('div', class_='leftAlignedImage')[i].find_all('script')[1].text.split('>')[22].strip().split()[4]\n",
    "                pub = doc.find_all('div', class_='leftAlignedImage')[i].find_all('script')[1].text.split('>')[23].strip().split()[2][:-2]\n",
    "                desc = doc.find_all('div', class_='leftAlignedImage')[i].find_all('script')[1].text.split('>')[28][:-7]\n",
    "            else:\n",
    "                try:\n",
    "                    title = doc.find_all('div', class_='leftAlignedImage')[i].script.text.split('>')[2][:-4]\n",
    "                    author = doc.find_all('div', class_='leftAlignedImage')[i].script.text.split('>')[6][:-4]\n",
    "                    score = doc.find_all('div', class_='leftAlignedImage')[i].script.text.split('>')[22].strip().split()[0]\n",
    "                    rating = doc.find_all('div', class_='leftAlignedImage')[i].script.text.split('>')[22].strip().split()[4]\n",
    "                    pub = doc.find_all('div', class_='leftAlignedImage')[i].script.text.split('>')[23].strip().split()[2][:-2]\n",
    "                    desc = doc.find_all('div', class_='leftAlignedImage')[i].script.text.split('>')[28][:-7]\n",
    "                except:\n",
    "                    continue\n",
    "            \n",
    "        book_info ={'Title': title,\n",
    "                    'Author': author,\n",
    "                    'Score': score,\n",
    "                    'Ratings': rating,\n",
    "                    'Published': pub,\n",
    "                    'Genre': genre,\n",
    "                    'Description': desc}\n",
    "        print(i)\n",
    "        all_books.append(book_info)\n",
    "    return all_books"
   ]
  },
  {
   "cell_type": "code",
   "execution_count": 14,
   "id": "429eeeae",
   "metadata": {},
   "outputs": [],
   "source": [
    "# Takes in list of dicts returned by above function\n",
    "def make_csv(dic, filename):\n",
    "    with open(filename, 'a', encoding='utf-8') as f:\n",
    "        w = csv.DictWriter(f, dic[0].keys())\n",
    "        w.writerows(dic)"
   ]
  },
  {
   "cell_type": "code",
   "execution_count": 15,
   "id": "49b3888b",
   "metadata": {},
   "outputs": [],
   "source": [
    "# Debugging\n",
    "def get_doc(genre_name):\n",
    "    response = requests.get(genre_links_dict[genre_name])\n",
    "    doc = BeautifulSoup(response.text, 'html.parser')\n",
    "    return doc"
   ]
  },
  {
   "cell_type": "code",
   "execution_count": 55,
   "id": "ecce0bd6",
   "metadata": {
    "scrolled": false
   },
   "outputs": [
    {
     "ename": "AttributeError",
     "evalue": "'NoneType' object has no attribute 'text'",
     "output_type": "error",
     "traceback": [
      "\u001b[1;31m---------------------------------------------------------------------------\u001b[0m",
      "\u001b[1;31mAttributeError\u001b[0m                            Traceback (most recent call last)",
      "Cell \u001b[1;32mIn[55], line 1\u001b[0m\n\u001b[1;32m----> 1\u001b[0m \u001b[43mget_books\u001b[49m\u001b[43m(\u001b[49m\u001b[43mget_doc\u001b[49m\u001b[43m(\u001b[49m\u001b[38;5;124;43m'\u001b[39;49m\u001b[38;5;124;43mArt\u001b[39;49m\u001b[38;5;124;43m'\u001b[39;49m\u001b[43m)\u001b[49m\u001b[43m)\u001b[49m\n",
      "Cell \u001b[1;32mIn[43], line 4\u001b[0m, in \u001b[0;36mget_books\u001b[1;34m(doc)\u001b[0m\n\u001b[0;32m      2\u001b[0m \u001b[38;5;28;01mdef\u001b[39;00m \u001b[38;5;21mget_books\u001b[39m(doc):\n\u001b[0;32m      3\u001b[0m     all_books \u001b[38;5;241m=\u001b[39m []\n\u001b[1;32m----> 4\u001b[0m     genre \u001b[38;5;241m=\u001b[39m \u001b[38;5;124m\"\u001b[39m\u001b[38;5;124m \u001b[39m\u001b[38;5;124m\"\u001b[39m\u001b[38;5;241m.\u001b[39mjoin(\u001b[43mdoc\u001b[49m\u001b[38;5;241;43m.\u001b[39;49m\u001b[43mtext\u001b[49m\u001b[38;5;241m.\u001b[39msplit(\u001b[38;5;124m'\u001b[39m\u001b[38;5;130;01m\\n\u001b[39;00m\u001b[38;5;130;01m\\n\u001b[39;00m\u001b[38;5;130;01m\\n\u001b[39;00m\u001b[38;5;124m'\u001b[39m)[\u001b[38;5;241m1\u001b[39m]\u001b[38;5;241m.\u001b[39msplit()[:\u001b[38;5;241m-\u001b[39m\u001b[38;5;241m1\u001b[39m])\n\u001b[0;32m      5\u001b[0m     \u001b[38;5;28;01mfor\u001b[39;00m i \u001b[38;5;129;01min\u001b[39;00m \u001b[38;5;28mrange\u001b[39m(\u001b[38;5;241m100\u001b[39m): \n\u001b[0;32m      6\u001b[0m         \u001b[38;5;28;01mtry\u001b[39;00m:\n",
      "\u001b[1;31mAttributeError\u001b[0m: 'NoneType' object has no attribute 'text'"
     ]
    }
   ],
   "source": [
    "get_books(get_doc('Art'))"
   ]
  },
  {
   "cell_type": "code",
   "execution_count": null,
   "id": "c54a3d0c",
   "metadata": {},
   "outputs": [],
   "source": []
  },
  {
   "cell_type": "code",
   "execution_count": 49,
   "id": "2ec6172b",
   "metadata": {},
   "outputs": [],
   "source": [
    "# Ebooks, cookbooks, spirituality dowsn't have any books\n",
    "def book_scrape_new():\n",
    "    for i, genre in enumerate(genre_new_release):\n",
    "        if genre in list(genre_new_release.keys())[:36]:\n",
    "            continue\n",
    "        time.sleep(2*(i%10))\n",
    "        print(f\"Scraping {genre} new released books\")\n",
    "        response = requests.get(genre_new_release[genre])\n",
    "        doc = BeautifulSoup(response.text, 'html.parser')\n",
    "        genre_dict = get_books(doc)\n",
    "        make_csv(genre_dict, f\"{genre}.csv\")\n",
    "        print(f\"Writing new files to {genre}.csv\")\n",
    "        print(f\"Scraped {i+1}/{len(genre_new_release)} genres\")\n",
    "        print('='*30)"
   ]
  },
  {
   "cell_type": "code",
   "execution_count": 50,
   "id": "effe8dc2",
   "metadata": {},
   "outputs": [
    {
     "name": "stdout",
     "output_type": "stream",
     "text": [
      "Scraping Sports new released books\n",
      "0\n",
      "1\n",
      "2\n",
      "3\n",
      "4\n",
      "5\n",
      "6\n",
      "7\n",
      "8\n",
      "9\n",
      "10\n",
      "11\n",
      "12\n",
      "13\n",
      "14\n",
      "15\n",
      "16\n",
      "17\n",
      "18\n",
      "19\n",
      "20\n",
      "21\n",
      "22\n",
      "23\n",
      "Writing new files to Sports.csv\n",
      "Scraped 37/40 genres\n",
      "==============================\n",
      "Scraping Thriller new released books\n",
      "0\n",
      "1\n",
      "2\n",
      "3\n",
      "4\n",
      "5\n",
      "6\n",
      "7\n",
      "8\n",
      "9\n",
      "10\n",
      "11\n",
      "12\n",
      "13\n",
      "14\n",
      "15\n",
      "16\n",
      "17\n",
      "18\n",
      "19\n",
      "20\n",
      "21\n",
      "22\n",
      "23\n",
      "24\n",
      "25\n",
      "26\n",
      "27\n",
      "28\n",
      "29\n",
      "30\n",
      "31\n",
      "32\n",
      "33\n",
      "34\n",
      "35\n",
      "36\n",
      "37\n",
      "38\n",
      "39\n",
      "40\n",
      "41\n",
      "42\n",
      "43\n",
      "44\n",
      "45\n",
      "46\n",
      "47\n",
      "48\n",
      "49\n",
      "50\n",
      "51\n",
      "52\n",
      "53\n",
      "54\n",
      "55\n",
      "56\n",
      "57\n",
      "58\n",
      "59\n",
      "60\n",
      "61\n",
      "62\n",
      "63\n",
      "64\n",
      "65\n",
      "66\n",
      "67\n",
      "68\n",
      "69\n",
      "70\n",
      "71\n",
      "Writing new files to Thriller.csv\n",
      "Scraped 38/40 genres\n",
      "==============================\n",
      "Scraping Travel new released books\n",
      "0\n",
      "1\n",
      "2\n",
      "3\n",
      "4\n",
      "5\n",
      "6\n",
      "7\n",
      "8\n",
      "9\n",
      "10\n",
      "11\n",
      "12\n",
      "13\n",
      "14\n",
      "15\n",
      "16\n",
      "17\n",
      "18\n",
      "19\n",
      "20\n",
      "21\n",
      "22\n",
      "Writing new files to Travel.csv\n",
      "Scraped 39/40 genres\n",
      "==============================\n",
      "Scraping Young Adult new released books\n",
      "0\n",
      "1\n",
      "2\n",
      "3\n",
      "4\n",
      "5\n",
      "6\n",
      "7\n",
      "8\n",
      "9\n",
      "10\n",
      "11\n",
      "12\n",
      "13\n",
      "14\n",
      "15\n",
      "16\n",
      "17\n",
      "18\n",
      "19\n",
      "20\n",
      "21\n",
      "22\n",
      "23\n",
      "24\n",
      "25\n",
      "26\n",
      "27\n",
      "28\n",
      "29\n",
      "30\n",
      "31\n",
      "32\n",
      "33\n",
      "34\n",
      "35\n",
      "36\n",
      "37\n",
      "38\n",
      "39\n",
      "40\n",
      "41\n",
      "42\n",
      "43\n",
      "44\n",
      "45\n",
      "46\n",
      "47\n",
      "48\n",
      "49\n",
      "50\n",
      "51\n",
      "52\n",
      "53\n",
      "Writing new files to Young Adult.csv\n",
      "Scraped 40/40 genres\n",
      "==============================\n"
     ]
    }
   ],
   "source": [
    "%%time\n",
    "book_scrape_new()"
   ]
  },
  {
   "cell_type": "code",
   "execution_count": 17,
   "id": "597d35c7",
   "metadata": {},
   "outputs": [],
   "source": [
    "# Ebooks doesn't have any books\n",
    "def book_scraper():\n",
    "    for i, genre in enumerate(genre_links_dict):\n",
    "        if genre == 'Ebooks':\n",
    "            continue\n",
    "        if os.path.exists(f'{genre}.csv'):\n",
    "            print(f\"{genre}.csv already exists. Skipping....\")\n",
    "            continue\n",
    "        time.sleep(2*(i%10))\n",
    "        print(f\"Scraping {genre} books\")\n",
    "        response = requests.get(genre_links_dict[genre])\n",
    "        doc = BeautifulSoup(response.text, 'html.parser')\n",
    "        genre_dict = get_books(doc)\n",
    "        make_csv(genre_dict, f\"{genre}.csv\")\n",
    "        print(f\"Writing to file {genre}.csv\")\n",
    "        print(f\"Scraped {i+1}/{len(genre_links_dict)} genres\")\n",
    "        print('='*30)"
   ]
  },
  {
   "cell_type": "code",
   "execution_count": 18,
   "id": "1ebd3df5",
   "metadata": {},
   "outputs": [
    {
     "name": "stdout",
     "output_type": "stream",
     "text": [
      "Art.csv already exists. Skipping....\n",
      "Biography.csv already exists. Skipping....\n",
      "Business.csv already exists. Skipping....\n",
      "Chick Lit.csv already exists. Skipping....\n",
      "Children's.csv already exists. Skipping....\n",
      "Christian.csv already exists. Skipping....\n",
      "Classics.csv already exists. Skipping....\n",
      "Comics.csv already exists. Skipping....\n",
      "Contemporary.csv already exists. Skipping....\n",
      "Cookbooks.csv already exists. Skipping....\n",
      "Crime.csv already exists. Skipping....\n",
      "Fantasy.csv already exists. Skipping....\n",
      "Fiction.csv already exists. Skipping....\n",
      "Gay and Lesbian.csv already exists. Skipping....\n",
      "Graphic Novels.csv already exists. Skipping....\n",
      "Historical Fiction.csv already exists. Skipping....\n",
      "History.csv already exists. Skipping....\n",
      "Horror.csv already exists. Skipping....\n",
      "Humor and Comedy.csv already exists. Skipping....\n",
      "Manga.csv already exists. Skipping....\n",
      "Memoir.csv already exists. Skipping....\n",
      "Music.csv already exists. Skipping....\n",
      "Mystery.csv already exists. Skipping....\n",
      "Nonfiction.csv already exists. Skipping....\n",
      "Paranormal.csv already exists. Skipping....\n",
      "Philosophy.csv already exists. Skipping....\n",
      "Poetry.csv already exists. Skipping....\n",
      "Psychology.csv already exists. Skipping....\n",
      "Religion.csv already exists. Skipping....\n",
      "Romance.csv already exists. Skipping....\n",
      "Science.csv already exists. Skipping....\n",
      "Science Fiction.csv already exists. Skipping....\n",
      "Self Help.csv already exists. Skipping....\n",
      "Suspense.csv already exists. Skipping....\n",
      "Spirituality.csv already exists. Skipping....\n",
      "Sports.csv already exists. Skipping....\n",
      "Thriller.csv already exists. Skipping....\n",
      "Travel.csv already exists. Skipping....\n",
      "Young Adult.csv already exists. Skipping....\n",
      "CPU times: total: 0 ns\n",
      "Wall time: 1.99 ms\n"
     ]
    }
   ],
   "source": [
    "%%time\n",
    "book_scraper()"
   ]
  },
  {
   "cell_type": "code",
   "execution_count": null,
   "id": "0508ab1a",
   "metadata": {},
   "outputs": [],
   "source": []
  },
  {
   "cell_type": "code",
   "execution_count": 151,
   "id": "f7bc70d4",
   "metadata": {
    "scrolled": true
   },
   "outputs": [
    {
     "name": "stdout",
     "output_type": "stream",
     "text": [
      "0\n",
      "1\n",
      "2\n",
      "3\n",
      "4\n",
      "5\n",
      "6\n",
      "7\n",
      "8\n",
      "9\n",
      "10\n",
      "11\n",
      "12\n",
      "13\n",
      "14\n",
      "15\n",
      "16\n",
      "17\n",
      "18\n",
      "19\n",
      "20\n",
      "21\n",
      "22\n",
      "23\n",
      "24\n",
      "25\n",
      "26\n",
      "27\n",
      "28\n",
      "29\n"
     ]
    },
    {
     "data": {
      "text/html": [
       "<div>\n",
       "<style scoped>\n",
       "    .dataframe tbody tr th:only-of-type {\n",
       "        vertical-align: middle;\n",
       "    }\n",
       "\n",
       "    .dataframe tbody tr th {\n",
       "        vertical-align: top;\n",
       "    }\n",
       "\n",
       "    .dataframe thead th {\n",
       "        text-align: right;\n",
       "    }\n",
       "</style>\n",
       "<table border=\"1\" class=\"dataframe\">\n",
       "  <thead>\n",
       "    <tr style=\"text-align: right;\">\n",
       "      <th></th>\n",
       "      <th>Title</th>\n",
       "      <th>Author</th>\n",
       "      <th>Score</th>\n",
       "      <th>Ratings</th>\n",
       "      <th>Published</th>\n",
       "      <th>Genre</th>\n",
       "      <th>Description</th>\n",
       "    </tr>\n",
       "  </thead>\n",
       "  <tbody>\n",
       "    <tr>\n",
       "      <th>0</th>\n",
       "      <td>僕のヒーローアカデミア 38 [Boku no Hero Academia 38]</td>\n",
       "      <td>Kohei Horikoshi</td>\n",
       "      <td>4.30</td>\n",
       "      <td>263</td>\n",
       "      <td>2023</td>\n",
       "      <td>Manga</td>\n",
       "      <td>\\n\\n\\n\", { style: 'addbook', stem: 'leftMiddle...</td>\n",
       "    </tr>\n",
       "    <tr>\n",
       "      <th>1</th>\n",
       "      <td>とんがり帽子のアトリエ 12 [Tongari Bōshi no Atelier 12]</td>\n",
       "      <td>Kamome Shirahama</td>\n",
       "      <td>4.63</td>\n",
       "      <td>35</td>\n",
       "      <td>2023</td>\n",
       "      <td>Manga</td>\n",
       "      <td>\\n\\n\\n\", { style: 'addbook', stem: 'leftMiddle...</td>\n",
       "    </tr>\n",
       "    <tr>\n",
       "      <th>2</th>\n",
       "      <td>ワンパンマン 28 深淵へ [One Punch Man 28: Shin&amp;#39;en e]</td>\n",
       "      <td>ONE</td>\n",
       "      <td>4.30</td>\n",
       "      <td>191</td>\n",
       "      <td>2023</td>\n",
       "      <td>Manga</td>\n",
       "      <td>\\n\\n\\n\", { style: 'addbook', stem: 'leftMiddle...</td>\n",
       "    </tr>\n",
       "    <tr>\n",
       "      <th>3</th>\n",
       "      <td>ヴィンランド・サガ 27 [Vinland Saga 27]</td>\n",
       "      <td>Makoto Yukimura</td>\n",
       "      <td>4.06</td>\n",
       "      <td>68</td>\n",
       "      <td>2023</td>\n",
       "      <td>Manga</td>\n",
       "      <td>ヴァイキング達が跋扈する11世紀北欧を舞台にトルフィンが本当の戦士を目指す物語。父親の仇を討...</td>\n",
       "    </tr>\n",
       "    <tr>\n",
       "      <th>4</th>\n",
       "      <td>ブラッククローバー 35 [Black Clover 35]</td>\n",
       "      <td>Yūki Tabata</td>\n",
       "      <td>4.32</td>\n",
       "      <td>79</td>\n",
       "      <td>2023</td>\n",
       "      <td>Manga</td>\n",
       "      <td>\\n\\n\\n\", { style: 'addbook', stem: 'rightMiddl...</td>\n",
       "    </tr>\n",
       "    <tr>\n",
       "      <th>5</th>\n",
       "      <td>圕の大魔術師 7 [Toshokan no Daimajutsushi 7]</td>\n",
       "      <td>Mitsu Izumi</td>\n",
       "      <td>4.00</td>\n",
       "      <td>1</td>\n",
       "      <td>2023</td>\n",
       "      <td>Manga</td>\n",
       "      <td>\\n\\n\\n\", { style: 'addbook', stem: 'leftMiddle...</td>\n",
       "    </tr>\n",
       "    <tr>\n",
       "      <th>6</th>\n",
       "      <td>Spider-Man: Fake Red</td>\n",
       "      <td>Yusuke Osawa</td>\n",
       "      <td>4.35</td>\n",
       "      <td>144</td>\n",
       "      <td>2023</td>\n",
       "      <td>Manga</td>\n",
       "      <td>There’s a new Spider-Man in town! And he’s got...</td>\n",
       "    </tr>\n",
       "    <tr>\n",
       "      <th>7</th>\n",
       "      <td>BORUTO―ボルト― 20 ―NARUTO NEXT GENERATIONS― (Boru...</td>\n",
       "      <td>Mikio Ikemoto</td>\n",
       "      <td>4.10</td>\n",
       "      <td>49</td>\n",
       "      <td>2023</td>\n",
       "      <td>Manga</td>\n",
       "      <td>\\n\\n\\n\", { style: 'addbook', stem: 'leftMiddle...</td>\n",
       "    </tr>\n",
       "    <tr>\n",
       "      <th>8</th>\n",
       "      <td>ふらいんぐうぃっち 12 [Flying Witch 12]</td>\n",
       "      <td>Chihiro Ishizuka</td>\n",
       "      <td>4.00</td>\n",
       "      <td>5</td>\n",
       "      <td>2023</td>\n",
       "      <td>Manga</td>\n",
       "      <td>\\n\\n\\n\", { style: 'addbook', stem: 'leftMiddle...</td>\n",
       "    </tr>\n",
       "    <tr>\n",
       "      <th>9</th>\n",
       "      <td>花野井くんと恋の病 13 [Hananoi-kun to Koi no Yamai 13]</td>\n",
       "      <td>Megumi Morino</td>\n",
       "      <td>4.71</td>\n",
       "      <td>7</td>\n",
       "      <td>2023</td>\n",
       "      <td>Manga</td>\n",
       "      <td>\\n\\n\\n\", { style: 'addbook', stem: 'rightMiddl...</td>\n",
       "    </tr>\n",
       "    <tr>\n",
       "      <th>10</th>\n",
       "      <td>あかね噺 6 [Akane-banashi 6]</td>\n",
       "      <td>Yūki Suenaga</td>\n",
       "      <td>4.39</td>\n",
       "      <td>23</td>\n",
       "      <td>2023</td>\n",
       "      <td>Manga</td>\n",
       "      <td>\\n\\n\\n\", { style: 'addbook', stem: 'leftMiddle...</td>\n",
       "    </tr>\n",
       "    <tr>\n",
       "      <th>11</th>\n",
       "      <td>一ノ瀬家の大罪 2 [Ichinose-ke no Taizai 2]</td>\n",
       "      <td>Taizan 5</td>\n",
       "      <td>3.93</td>\n",
       "      <td>29</td>\n",
       "      <td>2023</td>\n",
       "      <td>Manga</td>\n",
       "      <td>\\n\\n\\n\", { style: 'addbook', stem: 'leftMiddle...</td>\n",
       "    </tr>\n",
       "    <tr>\n",
       "      <th>12</th>\n",
       "      <td>君は放課後インソムニア 13 [Kimi wa Hōkago Insomnia 13]</td>\n",
       "      <td>Makoto Ojiro</td>\n",
       "      <td>4.55</td>\n",
       "      <td>20</td>\n",
       "      <td>2023</td>\n",
       "      <td>Manga</td>\n",
       "      <td>\\n\\n\\n\", { style: 'addbook', stem: 'leftMiddle...</td>\n",
       "    </tr>\n",
       "    <tr>\n",
       "      <th>13</th>\n",
       "      <td>ワールドトリガー 26 [World Trigger 26]</td>\n",
       "      <td>Daisuke Ashihara</td>\n",
       "      <td>3.83</td>\n",
       "      <td>6</td>\n",
       "      <td>2023</td>\n",
       "      <td>Manga</td>\n",
       "      <td>\\n\\n\\n\", { style: 'addbook', stem: 'leftMiddle...</td>\n",
       "    </tr>\n",
       "    <tr>\n",
       "      <th>14</th>\n",
       "      <td>NARUTO-ナルト- サスケ烈伝 うちはの末裔と天球の星屑 下 [Naruto: Sasu...</td>\n",
       "      <td>Shingo Kimura</td>\n",
       "      <td>4.00</td>\n",
       "      <td>20</td>\n",
       "      <td>2023</td>\n",
       "      <td>Manga</td>\n",
       "      <td>\\n\\n\\n\", { style: 'addbook', stem: 'rightMiddl...</td>\n",
       "    </tr>\n",
       "    <tr>\n",
       "      <th>15</th>\n",
       "      <td>The Essence of Being a Muse, Vol. 1</td>\n",
       "      <td>Aya Fumino</td>\n",
       "      <td>3.94</td>\n",
       "      <td>18</td>\n",
       "      <td>2023</td>\n",
       "      <td>Manga</td>\n",
       "      <td>Twenty-three-year-old art school reject Miyuu ...</td>\n",
       "    </tr>\n",
       "    <tr>\n",
       "      <th>16</th>\n",
       "      <td>ウィッチウォッチ 11 [Witch Watch 11]</td>\n",
       "      <td>Kenta Shinohara</td>\n",
       "      <td>3.94</td>\n",
       "      <td>17</td>\n",
       "      <td>2023</td>\n",
       "      <td>Manga</td>\n",
       "      <td>\\n\\n\\n\", { style: 'addbook', stem: 'leftMiddle...</td>\n",
       "    </tr>\n",
       "    <tr>\n",
       "      <th>17</th>\n",
       "      <td>天国大魔境 9 [Tengoku Daimakyō 9]</td>\n",
       "      <td>Masakazu Ishiguro</td>\n",
       "      <td>4.25</td>\n",
       "      <td>24</td>\n",
       "      <td>2023</td>\n",
       "      <td>Manga</td>\n",
       "      <td>\\n\\n\\n\", { style: 'addbook', stem: 'leftMiddle...</td>\n",
       "    </tr>\n",
       "    <tr>\n",
       "      <th>18</th>\n",
       "      <td>少年のアビス 13 [Shōnen no Abyss 13]</td>\n",
       "      <td>Ryō Minenami</td>\n",
       "      <td>3.73</td>\n",
       "      <td>11</td>\n",
       "      <td>2023</td>\n",
       "      <td>Manga</td>\n",
       "      <td>\\n\\n\\n\", { style: 'addbook', stem: 'leftMiddle...</td>\n",
       "    </tr>\n",
       "    <tr>\n",
       "      <th>19</th>\n",
       "      <td>ギンカとリューナ 3 [Ginka to Gluna 3]</td>\n",
       "      <td>Shinpei Watanabe</td>\n",
       "      <td>3.73</td>\n",
       "      <td>15</td>\n",
       "      <td>2023</td>\n",
       "      <td>Manga</td>\n",
       "      <td>\\n\\n\\n\", { style: 'addbook', stem: 'rightMiddl...</td>\n",
       "    </tr>\n",
       "    <tr>\n",
       "      <th>20</th>\n",
       "      <td>アルスラーン戦記 19 [Arslan Senki 19]</td>\n",
       "      <td>Hiromu Arakawa</td>\n",
       "      <td>4.00</td>\n",
       "      <td>3</td>\n",
       "      <td>2023</td>\n",
       "      <td>Manga</td>\n",
       "      <td>\\n\\n\\n\", { style: 'addbook', stem: 'leftMiddle...</td>\n",
       "    </tr>\n",
       "    <tr>\n",
       "      <th>21</th>\n",
       "      <td>Nana. Tom 1 (Nana, #1)</td>\n",
       "      <td>Ai Yazawa</td>\n",
       "      <td>4.87</td>\n",
       "      <td>30</td>\n",
       "      <td>2023</td>\n",
       "      <td>Manga</td>\n",
       "      <td>Dwie dziewczyny, których nie łączy nic poza im...</td>\n",
       "    </tr>\n",
       "    <tr>\n",
       "      <th>22</th>\n",
       "      <td>黙示録の四騎士 12 [Mokushiroku no Yonkishi 12]</td>\n",
       "      <td>Nakaba Suzuki</td>\n",
       "      <td>4.11</td>\n",
       "      <td>9</td>\n",
       "      <td>2023</td>\n",
       "      <td>Manga</td>\n",
       "      <td>\\n\\n\\n\", { style: 'addbook', stem: 'leftMiddle...</td>\n",
       "    </tr>\n",
       "    <tr>\n",
       "      <th>23</th>\n",
       "      <td>大東京鬼嫁伝 4 [Dai Tōkyō Oniyome-den 4]</td>\n",
       "      <td>Tadaichi Nakama</td>\n",
       "      <td>2.60</td>\n",
       "      <td>10</td>\n",
       "      <td>2023</td>\n",
       "      <td>Manga</td>\n",
       "      <td>\\n\\n\\n\", { style: 'addbook', stem: 'leftMiddle...</td>\n",
       "    </tr>\n",
       "    <tr>\n",
       "      <th>24</th>\n",
       "      <td>逃げ上手の若君 11 [Nige Jōzu no Wakagimi 11]</td>\n",
       "      <td>Yūsei Matsui</td>\n",
       "      <td>3.50</td>\n",
       "      <td>4</td>\n",
       "      <td>2023</td>\n",
       "      <td>Manga</td>\n",
       "      <td>\\n\\n\\n\", { style: 'addbook', stem: 'rightMiddl...</td>\n",
       "    </tr>\n",
       "    <tr>\n",
       "      <th>25</th>\n",
       "      <td>人造人間100 2 [Jinzō Ningen 100 2]</td>\n",
       "      <td>Daisuke Enoshima</td>\n",
       "      <td>3.78</td>\n",
       "      <td>9</td>\n",
       "      <td>2023</td>\n",
       "      <td>Manga</td>\n",
       "      <td>\\n\\n\\n\", { style: 'addbook', stem: 'leftMiddle...</td>\n",
       "    </tr>\n",
       "    <tr>\n",
       "      <th>26</th>\n",
       "      <td>Handyman Saitou in Another World, Vol. 1</td>\n",
       "      <td>Ichitomo Kazutomo</td>\n",
       "      <td>3.00</td>\n",
       "      <td>11</td>\n",
       "      <td>2023</td>\n",
       "      <td>Manga</td>\n",
       "      <td>Handyman Saito has never been anyone special. ...</td>\n",
       "    </tr>\n",
       "    <tr>\n",
       "      <th>27</th>\n",
       "      <td>イチゴーキ!操縦中 2 [Ichigōki! Sōjū-chū 2]</td>\n",
       "      <td>Seiji Hayashi</td>\n",
       "      <td>2.43</td>\n",
       "      <td>7</td>\n",
       "      <td>2023</td>\n",
       "      <td>Manga</td>\n",
       "      <td>\\n\\n\\n\", { style: 'addbook', stem: 'leftMiddle...</td>\n",
       "    </tr>\n",
       "    <tr>\n",
       "      <th>28</th>\n",
       "      <td>魔入りました!入間くん 32 [Mairimashita! Iruma-kun 32]</td>\n",
       "      <td>Osamu Nishi</td>\n",
       "      <td>4.56</td>\n",
       "      <td>16</td>\n",
       "      <td>2023</td>\n",
       "      <td>Manga</td>\n",
       "      <td>\\n\\n\\n\", { style: 'addbook', stem: 'leftMiddle...</td>\n",
       "    </tr>\n",
       "    <tr>\n",
       "      <th>29</th>\n",
       "      <td>あやかしトライアングル 14 [Ayakashi Triangle 14]</td>\n",
       "      <td>Kentaro Yabuki</td>\n",
       "      <td>3.75</td>\n",
       "      <td>4</td>\n",
       "      <td>2023</td>\n",
       "      <td>Manga</td>\n",
       "      <td>\\n\\n\\n\", { style: 'addbook', stem: 'rightMiddl...</td>\n",
       "    </tr>\n",
       "  </tbody>\n",
       "</table>\n",
       "</div>"
      ],
      "text/plain": [
       "                                                Title             Author  \\\n",
       "0           僕のヒーローアカデミア 38 [Boku no Hero Academia 38]    Kohei Horikoshi   \n",
       "1        とんがり帽子のアトリエ 12 [Tongari Bōshi no Atelier 12]   Kamome Shirahama   \n",
       "2     ワンパンマン 28 深淵へ [One Punch Man 28: Shin&#39;en e]                ONE   \n",
       "3                      ヴィンランド・サガ 27 [Vinland Saga 27]    Makoto Yukimura   \n",
       "4                      ブラッククローバー 35 [Black Clover 35]        Yūki Tabata   \n",
       "5              圕の大魔術師 7 [Toshokan no Daimajutsushi 7]        Mitsu Izumi   \n",
       "6                                Spider-Man: Fake Red       Yusuke Osawa   \n",
       "7   BORUTO―ボルト― 20 ―NARUTO NEXT GENERATIONS― (Boru...      Mikio Ikemoto   \n",
       "8                      ふらいんぐうぃっち 12 [Flying Witch 12]   Chihiro Ishizuka   \n",
       "9       花野井くんと恋の病 13 [Hananoi-kun to Koi no Yamai 13]      Megumi Morino   \n",
       "10                           あかね噺 6 [Akane-banashi 6]       Yūki Suenaga   \n",
       "11                一ノ瀬家の大罪 2 [Ichinose-ke no Taizai 2]           Taizan 5   \n",
       "12        君は放課後インソムニア 13 [Kimi wa Hōkago Insomnia 13]       Makoto Ojiro   \n",
       "13                     ワールドトリガー 26 [World Trigger 26]   Daisuke Ashihara   \n",
       "14  NARUTO-ナルト- サスケ烈伝 うちはの末裔と天球の星屑 下 [Naruto: Sasu...      Shingo Kimura   \n",
       "15                The Essence of Being a Muse, Vol. 1         Aya Fumino   \n",
       "16                       ウィッチウォッチ 11 [Witch Watch 11]    Kenta Shinohara   \n",
       "17                       天国大魔境 9 [Tengoku Daimakyō 9]  Masakazu Ishiguro   \n",
       "18                     少年のアビス 13 [Shōnen no Abyss 13]       Ryō Minenami   \n",
       "19                      ギンカとリューナ 3 [Ginka to Gluna 3]   Shinpei Watanabe   \n",
       "20                      アルスラーン戦記 19 [Arslan Senki 19]     Hiromu Arakawa   \n",
       "21                             Nana. Tom 1 (Nana, #1)          Ai Yazawa   \n",
       "22            黙示録の四騎士 12 [Mokushiroku no Yonkishi 12]      Nakaba Suzuki   \n",
       "23                 大東京鬼嫁伝 4 [Dai Tōkyō Oniyome-den 4]    Tadaichi Nakama   \n",
       "24              逃げ上手の若君 11 [Nige Jōzu no Wakagimi 11]       Yūsei Matsui   \n",
       "25                     人造人間100 2 [Jinzō Ningen 100 2]   Daisuke Enoshima   \n",
       "26           Handyman Saitou in Another World, Vol. 1  Ichitomo Kazutomo   \n",
       "27                 イチゴーキ!操縦中 2 [Ichigōki! Sōjū-chū 2]      Seiji Hayashi   \n",
       "28        魔入りました!入間くん 32 [Mairimashita! Iruma-kun 32]        Osamu Nishi   \n",
       "29              あやかしトライアングル 14 [Ayakashi Triangle 14]     Kentaro Yabuki   \n",
       "\n",
       "   Score Ratings Published  Genre  \\\n",
       "0   4.30     263      2023  Manga   \n",
       "1   4.63      35      2023  Manga   \n",
       "2   4.30     191      2023  Manga   \n",
       "3   4.06      68      2023  Manga   \n",
       "4   4.32      79      2023  Manga   \n",
       "5   4.00       1      2023  Manga   \n",
       "6   4.35     144      2023  Manga   \n",
       "7   4.10      49      2023  Manga   \n",
       "8   4.00       5      2023  Manga   \n",
       "9   4.71       7      2023  Manga   \n",
       "10  4.39      23      2023  Manga   \n",
       "11  3.93      29      2023  Manga   \n",
       "12  4.55      20      2023  Manga   \n",
       "13  3.83       6      2023  Manga   \n",
       "14  4.00      20      2023  Manga   \n",
       "15  3.94      18      2023  Manga   \n",
       "16  3.94      17      2023  Manga   \n",
       "17  4.25      24      2023  Manga   \n",
       "18  3.73      11      2023  Manga   \n",
       "19  3.73      15      2023  Manga   \n",
       "20  4.00       3      2023  Manga   \n",
       "21  4.87      30      2023  Manga   \n",
       "22  4.11       9      2023  Manga   \n",
       "23  2.60      10      2023  Manga   \n",
       "24  3.50       4      2023  Manga   \n",
       "25  3.78       9      2023  Manga   \n",
       "26  3.00      11      2023  Manga   \n",
       "27  2.43       7      2023  Manga   \n",
       "28  4.56      16      2023  Manga   \n",
       "29  3.75       4      2023  Manga   \n",
       "\n",
       "                                          Description  \n",
       "0   \\n\\n\\n\", { style: 'addbook', stem: 'leftMiddle...  \n",
       "1   \\n\\n\\n\", { style: 'addbook', stem: 'leftMiddle...  \n",
       "2   \\n\\n\\n\", { style: 'addbook', stem: 'leftMiddle...  \n",
       "3   ヴァイキング達が跋扈する11世紀北欧を舞台にトルフィンが本当の戦士を目指す物語。父親の仇を討...  \n",
       "4   \\n\\n\\n\", { style: 'addbook', stem: 'rightMiddl...  \n",
       "5   \\n\\n\\n\", { style: 'addbook', stem: 'leftMiddle...  \n",
       "6   There’s a new Spider-Man in town! And he’s got...  \n",
       "7   \\n\\n\\n\", { style: 'addbook', stem: 'leftMiddle...  \n",
       "8   \\n\\n\\n\", { style: 'addbook', stem: 'leftMiddle...  \n",
       "9   \\n\\n\\n\", { style: 'addbook', stem: 'rightMiddl...  \n",
       "10  \\n\\n\\n\", { style: 'addbook', stem: 'leftMiddle...  \n",
       "11  \\n\\n\\n\", { style: 'addbook', stem: 'leftMiddle...  \n",
       "12  \\n\\n\\n\", { style: 'addbook', stem: 'leftMiddle...  \n",
       "13  \\n\\n\\n\", { style: 'addbook', stem: 'leftMiddle...  \n",
       "14  \\n\\n\\n\", { style: 'addbook', stem: 'rightMiddl...  \n",
       "15  Twenty-three-year-old art school reject Miyuu ...  \n",
       "16  \\n\\n\\n\", { style: 'addbook', stem: 'leftMiddle...  \n",
       "17  \\n\\n\\n\", { style: 'addbook', stem: 'leftMiddle...  \n",
       "18  \\n\\n\\n\", { style: 'addbook', stem: 'leftMiddle...  \n",
       "19  \\n\\n\\n\", { style: 'addbook', stem: 'rightMiddl...  \n",
       "20  \\n\\n\\n\", { style: 'addbook', stem: 'leftMiddle...  \n",
       "21  Dwie dziewczyny, których nie łączy nic poza im...  \n",
       "22  \\n\\n\\n\", { style: 'addbook', stem: 'leftMiddle...  \n",
       "23  \\n\\n\\n\", { style: 'addbook', stem: 'leftMiddle...  \n",
       "24  \\n\\n\\n\", { style: 'addbook', stem: 'rightMiddl...  \n",
       "25  \\n\\n\\n\", { style: 'addbook', stem: 'leftMiddle...  \n",
       "26  Handyman Saito has never been anyone special. ...  \n",
       "27  \\n\\n\\n\", { style: 'addbook', stem: 'leftMiddle...  \n",
       "28  \\n\\n\\n\", { style: 'addbook', stem: 'leftMiddle...  \n",
       "29  \\n\\n\\n\", { style: 'addbook', stem: 'rightMiddl...  "
      ]
     },
     "execution_count": 151,
     "metadata": {},
     "output_type": "execute_result"
    }
   ],
   "source": [
    "manga_dict = get_books(doc)\n",
    "pd.DataFrame(manga_dict)"
   ]
  },
  {
   "cell_type": "markdown",
   "id": "e25ba0dc",
   "metadata": {},
   "source": [
    "## Combining all files"
   ]
  },
  {
   "cell_type": "code",
   "execution_count": 25,
   "id": "ff9fba9e",
   "metadata": {
    "scrolled": true
   },
   "outputs": [
    {
     "data": {
      "text/plain": [
       "['Art.csv',\n",
       " 'Biography.csv',\n",
       " 'Business.csv',\n",
       " 'Chick Lit.csv',\n",
       " \"Children's.csv\",\n",
       " 'Christian.csv',\n",
       " 'Classics.csv',\n",
       " 'Comics.csv',\n",
       " 'Contemporary.csv',\n",
       " 'Cookbooks.csv',\n",
       " 'Crime.csv',\n",
       " 'Fantasy.csv',\n",
       " 'Fiction.csv',\n",
       " 'Gay and Lesbian.csv',\n",
       " 'Graphic Novels.csv',\n",
       " 'Historical Fiction.csv',\n",
       " 'History.csv',\n",
       " 'Horror.csv',\n",
       " 'Humor and Comedy.csv',\n",
       " 'Manga.csv',\n",
       " 'Memoir.csv',\n",
       " 'Music.csv',\n",
       " 'Mystery.csv',\n",
       " 'Nonfiction.csv',\n",
       " 'Paranormal.csv',\n",
       " 'Philosophy.csv',\n",
       " 'Poetry.csv',\n",
       " 'Psychology.csv',\n",
       " 'Religion.csv',\n",
       " 'Romance.csv',\n",
       " 'Science Fiction.csv',\n",
       " 'Science.csv',\n",
       " 'Self Help.csv',\n",
       " 'Spirituality.csv',\n",
       " 'Sports.csv',\n",
       " 'Suspense.csv',\n",
       " 'Thriller.csv',\n",
       " 'Travel.csv',\n",
       " 'Young Adult.csv']"
      ]
     },
     "execution_count": 25,
     "metadata": {},
     "output_type": "execute_result"
    }
   ],
   "source": [
    "genre_csvs = []\n",
    "for x, _, files in os.walk('C:\\\\Users\\\\relat\\\\Academics\\\\Web scraping\\\\Goodreads'):\n",
    "    for i, f in enumerate(files):\n",
    "        if f not in ['books.csv', 'science-fiction.csv'] and f.endswith('.csv'):\n",
    "            genre_csvs.append(f)\n",
    "genre_csvs"
   ]
  },
  {
   "cell_type": "code",
   "execution_count": null,
   "id": "bbcd886d",
   "metadata": {},
   "outputs": [],
   "source": [
    "%%time\n",
    "with open(filename, 'a', encoding='utf-8') as f:\n",
    "        w = csv.DictWriter(f, dic[0].keys())\n",
    "        w.writerows(dic)\n",
    "with open(\"all_genres.csv\") as f:\n",
    "    for file in genre_csvs:\n",
    "        f."
   ]
  },
  {
   "cell_type": "code",
   "execution_count": 36,
   "id": "d06b1590",
   "metadata": {},
   "outputs": [
    {
     "data": {
      "text/html": [
       "<div>\n",
       "<style scoped>\n",
       "    .dataframe tbody tr th:only-of-type {\n",
       "        vertical-align: middle;\n",
       "    }\n",
       "\n",
       "    .dataframe tbody tr th {\n",
       "        vertical-align: top;\n",
       "    }\n",
       "\n",
       "    .dataframe thead th {\n",
       "        text-align: right;\n",
       "    }\n",
       "</style>\n",
       "<table border=\"1\" class=\"dataframe\">\n",
       "  <thead>\n",
       "    <tr style=\"text-align: right;\">\n",
       "      <th></th>\n",
       "      <th>0</th>\n",
       "      <th>1</th>\n",
       "      <th>2</th>\n",
       "      <th>3</th>\n",
       "      <th>4</th>\n",
       "      <th>5</th>\n",
       "      <th>6</th>\n",
       "    </tr>\n",
       "  </thead>\n",
       "  <tbody>\n",
       "    <tr>\n",
       "      <th>0</th>\n",
       "      <td>Horse</td>\n",
       "      <td>Geraldine Brooks</td>\n",
       "      <td>4.33</td>\n",
       "      <td>81,017</td>\n",
       "      <td>2022</td>\n",
       "      <td>Art</td>\n",
       "      <td>\\n  A discarded painting in a junk pile, a ske...</td>\n",
       "    </tr>\n",
       "    <tr>\n",
       "      <th>1</th>\n",
       "      <td>When the Rain Ends</td>\n",
       "      <td>Mary Ellen Taylor</td>\n",
       "      <td>4.17</td>\n",
       "      <td>14,920</td>\n",
       "      <td>2023</td>\n",
       "      <td>Art</td>\n",
       "      <td>From The Brighter the Light author Mary Ellen ...</td>\n",
       "    </tr>\n",
       "    <tr>\n",
       "      <th>2</th>\n",
       "      <td>The Art Thief</td>\n",
       "      <td>Michael Finkel</td>\n",
       "      <td>4.15</td>\n",
       "      <td>1,441</td>\n",
       "      <td>2023</td>\n",
       "      <td>Art</td>\n",
       "      <td>The true story of the world\\'s most prolific a...</td>\n",
       "    </tr>\n",
       "    <tr>\n",
       "      <th>3</th>\n",
       "      <td>Now Is Not the Time to Panic</td>\n",
       "      <td>Kevin    Wilson</td>\n",
       "      <td>3.71</td>\n",
       "      <td>38,448</td>\n",
       "      <td>2022</td>\n",
       "      <td>Art</td>\n",
       "      <td>From the New York Times bestselling author of ...</td>\n",
       "    </tr>\n",
       "    <tr>\n",
       "      <th>4</th>\n",
       "      <td>Still Life</td>\n",
       "      <td>Sarah Winman</td>\n",
       "      <td>4.17</td>\n",
       "      <td>52,581</td>\n",
       "      <td>2021</td>\n",
       "      <td>Art</td>\n",
       "      <td>Tuscany, 1944: As Allied troops advance and bo...</td>\n",
       "    </tr>\n",
       "    <tr>\n",
       "      <th>...</th>\n",
       "      <td>...</td>\n",
       "      <td>...</td>\n",
       "      <td>...</td>\n",
       "      <td>...</td>\n",
       "      <td>...</td>\n",
       "      <td>...</td>\n",
       "      <td>...</td>\n",
       "    </tr>\n",
       "    <tr>\n",
       "      <th>200</th>\n",
       "      <td>Hotel Laguna</td>\n",
       "      <td>Nicola  Harrison</td>\n",
       "      <td>3.96</td>\n",
       "      <td>728</td>\n",
       "      <td>2023</td>\n",
       "      <td>Art</td>\n",
       "      <td>In 1942, Hazel Francis left Wichita, Kansas fo...</td>\n",
       "    </tr>\n",
       "    <tr>\n",
       "      <th>201</th>\n",
       "      <td>The Glass Château</td>\n",
       "      <td>Stephen P. Kiernan</td>\n",
       "      <td>4.21</td>\n",
       "      <td>229</td>\n",
       "      <td>2023</td>\n",
       "      <td>Art</td>\n",
       "      <td>From the critically acclaimed author of Univer...</td>\n",
       "    </tr>\n",
       "    <tr>\n",
       "      <th>202</th>\n",
       "      <td>Loot</td>\n",
       "      <td>Tania James</td>\n",
       "      <td>3.90</td>\n",
       "      <td>515</td>\n",
       "      <td>2023</td>\n",
       "      <td>Art</td>\n",
       "      <td>A spellbinding historical novel set in the eig...</td>\n",
       "    </tr>\n",
       "    <tr>\n",
       "      <th>203</th>\n",
       "      <td>Hands of Time: A Watchmaker&amp;#39;s History</td>\n",
       "      <td>Rebecca Struthers</td>\n",
       "      <td>4.29</td>\n",
       "      <td>121</td>\n",
       "      <td>2023</td>\n",
       "      <td>Art</td>\n",
       "      <td>&amp;quot;As impeccably crafted and precisely engi...</td>\n",
       "    </tr>\n",
       "    <tr>\n",
       "      <th>204</th>\n",
       "      <td>1964: Eyes of the Storm</td>\n",
       "      <td>Paul McCartney</td>\n",
       "      <td>4.56</td>\n",
       "      <td>140</td>\n",
       "      <td>2023</td>\n",
       "      <td>Art</td>\n",
       "      <td>“Millions of eyes were suddenly upon us, creat...</td>\n",
       "    </tr>\n",
       "  </tbody>\n",
       "</table>\n",
       "<p>205 rows × 7 columns</p>\n",
       "</div>"
      ],
      "text/plain": [
       "                                             0                   1     2  \\\n",
       "0                                        Horse    Geraldine Brooks  4.33   \n",
       "1                           When the Rain Ends   Mary Ellen Taylor  4.17   \n",
       "2                                The Art Thief      Michael Finkel  4.15   \n",
       "3                 Now Is Not the Time to Panic     Kevin    Wilson  3.71   \n",
       "4                                   Still Life        Sarah Winman  4.17   \n",
       "..                                         ...                 ...   ...   \n",
       "200                               Hotel Laguna    Nicola  Harrison  3.96   \n",
       "201                          The Glass Château  Stephen P. Kiernan  4.21   \n",
       "202                                       Loot         Tania James  3.90   \n",
       "203  Hands of Time: A Watchmaker&#39;s History   Rebecca Struthers  4.29   \n",
       "204                    1964: Eyes of the Storm      Paul McCartney  4.56   \n",
       "\n",
       "          3     4    5                                                  6  \n",
       "0    81,017  2022  Art  \\n  A discarded painting in a junk pile, a ske...  \n",
       "1    14,920  2023  Art  From The Brighter the Light author Mary Ellen ...  \n",
       "2     1,441  2023  Art  The true story of the world\\'s most prolific a...  \n",
       "3    38,448  2022  Art  From the New York Times bestselling author of ...  \n",
       "4    52,581  2021  Art  Tuscany, 1944: As Allied troops advance and bo...  \n",
       "..      ...   ...  ...                                                ...  \n",
       "200     728  2023  Art  In 1942, Hazel Francis left Wichita, Kansas fo...  \n",
       "201     229  2023  Art  From the critically acclaimed author of Univer...  \n",
       "202     515  2023  Art  A spellbinding historical novel set in the eig...  \n",
       "203     121  2023  Art  &quot;As impeccably crafted and precisely engi...  \n",
       "204     140  2023  Art  “Millions of eyes were suddenly upon us, creat...  \n",
       "\n",
       "[205 rows x 7 columns]"
      ]
     },
     "execution_count": 36,
     "metadata": {},
     "output_type": "execute_result"
    }
   ],
   "source": [
    "pd.read_csv(\"Art.csv\", header=None)"
   ]
  },
  {
   "cell_type": "code",
   "execution_count": 45,
   "id": "0fd82ca9",
   "metadata": {},
   "outputs": [
    {
     "name": "stdout",
     "output_type": "stream",
     "text": [
      "5966\n",
      "CPU times: total: 281 ms\n",
      "Wall time: 305 ms\n"
     ]
    },
    {
     "data": {
      "text/html": [
       "<div>\n",
       "<style scoped>\n",
       "    .dataframe tbody tr th:only-of-type {\n",
       "        vertical-align: middle;\n",
       "    }\n",
       "\n",
       "    .dataframe tbody tr th {\n",
       "        vertical-align: top;\n",
       "    }\n",
       "\n",
       "    .dataframe thead th {\n",
       "        text-align: right;\n",
       "    }\n",
       "</style>\n",
       "<table border=\"1\" class=\"dataframe\">\n",
       "  <thead>\n",
       "    <tr style=\"text-align: right;\">\n",
       "      <th></th>\n",
       "      <th>0</th>\n",
       "      <th>1</th>\n",
       "      <th>2</th>\n",
       "      <th>3</th>\n",
       "      <th>4</th>\n",
       "      <th>5</th>\n",
       "      <th>6</th>\n",
       "    </tr>\n",
       "  </thead>\n",
       "  <tbody>\n",
       "    <tr>\n",
       "      <th>0</th>\n",
       "      <td>Horse</td>\n",
       "      <td>Geraldine Brooks</td>\n",
       "      <td>4.33</td>\n",
       "      <td>81,017</td>\n",
       "      <td>2022.0</td>\n",
       "      <td>Art</td>\n",
       "      <td>\\n  A discarded painting in a junk pile, a ske...</td>\n",
       "    </tr>\n",
       "    <tr>\n",
       "      <th>1</th>\n",
       "      <td>When the Rain Ends</td>\n",
       "      <td>Mary Ellen Taylor</td>\n",
       "      <td>4.17</td>\n",
       "      <td>14,920</td>\n",
       "      <td>2023.0</td>\n",
       "      <td>Art</td>\n",
       "      <td>From The Brighter the Light author Mary Ellen ...</td>\n",
       "    </tr>\n",
       "    <tr>\n",
       "      <th>2</th>\n",
       "      <td>The Art Thief</td>\n",
       "      <td>Michael Finkel</td>\n",
       "      <td>4.15</td>\n",
       "      <td>1,441</td>\n",
       "      <td>2023.0</td>\n",
       "      <td>Art</td>\n",
       "      <td>The true story of the world\\'s most prolific a...</td>\n",
       "    </tr>\n",
       "    <tr>\n",
       "      <th>3</th>\n",
       "      <td>Now Is Not the Time to Panic</td>\n",
       "      <td>Kevin    Wilson</td>\n",
       "      <td>3.71</td>\n",
       "      <td>38,448</td>\n",
       "      <td>2022.0</td>\n",
       "      <td>Art</td>\n",
       "      <td>From the New York Times bestselling author of ...</td>\n",
       "    </tr>\n",
       "    <tr>\n",
       "      <th>4</th>\n",
       "      <td>Still Life</td>\n",
       "      <td>Sarah Winman</td>\n",
       "      <td>4.17</td>\n",
       "      <td>52,581</td>\n",
       "      <td>2021.0</td>\n",
       "      <td>Art</td>\n",
       "      <td>Tuscany, 1944: As Allied troops advance and bo...</td>\n",
       "    </tr>\n",
       "    <tr>\n",
       "      <th>...</th>\n",
       "      <td>...</td>\n",
       "      <td>...</td>\n",
       "      <td>...</td>\n",
       "      <td>...</td>\n",
       "      <td>...</td>\n",
       "      <td>...</td>\n",
       "      <td>...</td>\n",
       "    </tr>\n",
       "    <tr>\n",
       "      <th>5961</th>\n",
       "      <td>The Ruby Code</td>\n",
       "      <td>Jessica Khoury</td>\n",
       "      <td>4.21</td>\n",
       "      <td>39</td>\n",
       "      <td>2023.0</td>\n",
       "      <td>Young Adult</td>\n",
       "      <td>From Jessica Khoury comes a high-action sci-fi...</td>\n",
       "    </tr>\n",
       "    <tr>\n",
       "      <th>5962</th>\n",
       "      <td>Nightmare Island</td>\n",
       "      <td>Shakirah Bourne</td>\n",
       "      <td>4.04</td>\n",
       "      <td>51</td>\n",
       "      <td>2023.0</td>\n",
       "      <td>Young Adult</td>\n",
       "      <td>From rising star Shakirah Bourne, author of Jo...</td>\n",
       "    </tr>\n",
       "    <tr>\n",
       "      <th>5963</th>\n",
       "      <td>Something Close to Magic</td>\n",
       "      <td>Emma   Mills</td>\n",
       "      <td>4.14</td>\n",
       "      <td>266</td>\n",
       "      <td>2023.0</td>\n",
       "      <td>Young Adult</td>\n",
       "      <td>A baker’s apprentice reluctantly embarks on an...</td>\n",
       "    </tr>\n",
       "    <tr>\n",
       "      <th>5964</th>\n",
       "      <td>The Umbrella Maker&amp;#39;s Son</td>\n",
       "      <td>Katrina Leno</td>\n",
       "      <td>4.38</td>\n",
       "      <td>34</td>\n",
       "      <td>2023.0</td>\n",
       "      <td>Young Adult</td>\n",
       "      <td>From a critically acclaimed author comes a fan...</td>\n",
       "    </tr>\n",
       "    <tr>\n",
       "      <th>5965</th>\n",
       "      <td>Vivian Lantz&amp;#39;s Second Chances</td>\n",
       "      <td>Kathryn Ormsbee</td>\n",
       "      <td>4.47</td>\n",
       "      <td>43</td>\n",
       "      <td>2023.0</td>\n",
       "      <td>Young Adult</td>\n",
       "      <td>Groundhog Day meets Eighth Grade in this time-...</td>\n",
       "    </tr>\n",
       "  </tbody>\n",
       "</table>\n",
       "<p>5966 rows × 7 columns</p>\n",
       "</div>"
      ],
      "text/plain": [
       "                                      0                  1     2       3  \\\n",
       "0                                 Horse   Geraldine Brooks  4.33  81,017   \n",
       "1                    When the Rain Ends  Mary Ellen Taylor  4.17  14,920   \n",
       "2                         The Art Thief     Michael Finkel  4.15   1,441   \n",
       "3          Now Is Not the Time to Panic    Kevin    Wilson  3.71  38,448   \n",
       "4                            Still Life       Sarah Winman  4.17  52,581   \n",
       "...                                 ...                ...   ...     ...   \n",
       "5961                      The Ruby Code     Jessica Khoury  4.21      39   \n",
       "5962                   Nightmare Island    Shakirah Bourne  4.04      51   \n",
       "5963           Something Close to Magic       Emma   Mills  4.14     266   \n",
       "5964       The Umbrella Maker&#39;s Son       Katrina Leno  4.38      34   \n",
       "5965  Vivian Lantz&#39;s Second Chances    Kathryn Ormsbee  4.47      43   \n",
       "\n",
       "           4            5                                                  6  \n",
       "0     2022.0          Art  \\n  A discarded painting in a junk pile, a ske...  \n",
       "1     2023.0          Art  From The Brighter the Light author Mary Ellen ...  \n",
       "2     2023.0          Art  The true story of the world\\'s most prolific a...  \n",
       "3     2022.0          Art  From the New York Times bestselling author of ...  \n",
       "4     2021.0          Art  Tuscany, 1944: As Allied troops advance and bo...  \n",
       "...      ...          ...                                                ...  \n",
       "5961  2023.0  Young Adult  From Jessica Khoury comes a high-action sci-fi...  \n",
       "5962  2023.0  Young Adult  From rising star Shakirah Bourne, author of Jo...  \n",
       "5963  2023.0  Young Adult  A baker’s apprentice reluctantly embarks on an...  \n",
       "5964  2023.0  Young Adult  From a critically acclaimed author comes a fan...  \n",
       "5965  2023.0  Young Adult  Groundhog Day meets Eighth Grade in this time-...  \n",
       "\n",
       "[5966 rows x 7 columns]"
      ]
     },
     "execution_count": 45,
     "metadata": {},
     "output_type": "execute_result"
    }
   ],
   "source": [
    "%%time\n",
    "total_length = sum([pd.read_csv(f, header=None).shape[0] for f in genre_csvs])\n",
    "df_from_each_file = (pd.read_csv(f, header=None) for f in genre_csvs)\n",
    "all_genres_df = pd.concat(df_from_each_file, ignore_index=True)\n",
    "print(total_length)\n",
    "all_genres_df"
   ]
  },
  {
   "cell_type": "code",
   "execution_count": 46,
   "id": "491eaa5a",
   "metadata": {},
   "outputs": [
    {
     "data": {
      "text/html": [
       "<div>\n",
       "<style scoped>\n",
       "    .dataframe tbody tr th:only-of-type {\n",
       "        vertical-align: middle;\n",
       "    }\n",
       "\n",
       "    .dataframe tbody tr th {\n",
       "        vertical-align: top;\n",
       "    }\n",
       "\n",
       "    .dataframe thead th {\n",
       "        text-align: right;\n",
       "    }\n",
       "</style>\n",
       "<table border=\"1\" class=\"dataframe\">\n",
       "  <thead>\n",
       "    <tr style=\"text-align: right;\">\n",
       "      <th></th>\n",
       "      <th>0</th>\n",
       "      <th>1</th>\n",
       "      <th>2</th>\n",
       "      <th>3</th>\n",
       "      <th>4</th>\n",
       "      <th>5</th>\n",
       "      <th>6</th>\n",
       "    </tr>\n",
       "  </thead>\n",
       "  <tbody>\n",
       "    <tr>\n",
       "      <th>100</th>\n",
       "      <td>Horse</td>\n",
       "      <td>Geraldine Brooks</td>\n",
       "      <td>4.33</td>\n",
       "      <td>81,017</td>\n",
       "      <td>2022.0</td>\n",
       "      <td>Art</td>\n",
       "      <td>\\n  A discarded painting in a junk pile, a ske...</td>\n",
       "    </tr>\n",
       "    <tr>\n",
       "      <th>101</th>\n",
       "      <td>When the Rain Ends</td>\n",
       "      <td>Mary Ellen Taylor</td>\n",
       "      <td>4.17</td>\n",
       "      <td>14,920</td>\n",
       "      <td>2023.0</td>\n",
       "      <td>Art</td>\n",
       "      <td>From The Brighter the Light author Mary Ellen ...</td>\n",
       "    </tr>\n",
       "    <tr>\n",
       "      <th>102</th>\n",
       "      <td>The Art Thief</td>\n",
       "      <td>Michael Finkel</td>\n",
       "      <td>4.15</td>\n",
       "      <td>1,441</td>\n",
       "      <td>2023.0</td>\n",
       "      <td>Art</td>\n",
       "      <td>The true story of the world\\'s most prolific a...</td>\n",
       "    </tr>\n",
       "    <tr>\n",
       "      <th>103</th>\n",
       "      <td>Now Is Not the Time to Panic</td>\n",
       "      <td>Kevin    Wilson</td>\n",
       "      <td>3.71</td>\n",
       "      <td>38,448</td>\n",
       "      <td>2022.0</td>\n",
       "      <td>Art</td>\n",
       "      <td>From the New York Times bestselling author of ...</td>\n",
       "    </tr>\n",
       "    <tr>\n",
       "      <th>105</th>\n",
       "      <td>The Magnolia Palace</td>\n",
       "      <td>Fiona  Davis</td>\n",
       "      <td>3.89</td>\n",
       "      <td>59,701</td>\n",
       "      <td>2022.0</td>\n",
       "      <td>Art</td>\n",
       "      <td>Fiona Davis, New York Times bestselling author...</td>\n",
       "    </tr>\n",
       "    <tr>\n",
       "      <th>...</th>\n",
       "      <td>...</td>\n",
       "      <td>...</td>\n",
       "      <td>...</td>\n",
       "      <td>...</td>\n",
       "      <td>...</td>\n",
       "      <td>...</td>\n",
       "      <td>...</td>\n",
       "    </tr>\n",
       "    <tr>\n",
       "      <th>4325</th>\n",
       "      <td>Arrangements in Blue: Notes on Loving and Livi...</td>\n",
       "      <td>Amy Key</td>\n",
       "      <td>4.07</td>\n",
       "      <td>461</td>\n",
       "      <td>2023.0</td>\n",
       "      <td>Poetry</td>\n",
       "      <td>When poet Amy Key was growing up, she looked f...</td>\n",
       "    </tr>\n",
       "    <tr>\n",
       "      <th>4327</th>\n",
       "      <td>When Clouds Touch Us</td>\n",
       "      <td>Thanhhà Lại</td>\n",
       "      <td>3.80</td>\n",
       "      <td>370</td>\n",
       "      <td>2023.0</td>\n",
       "      <td>Poetry</td>\n",
       "      <td>Inspired by the author\\'s own childhood, this ...</td>\n",
       "    </tr>\n",
       "    <tr>\n",
       "      <th>4557</th>\n",
       "      <td>I Felt the End Before It Came: Memoirs of a Qu...</td>\n",
       "      <td>Daniel Allen Cox</td>\n",
       "      <td>3.60</td>\n",
       "      <td>123</td>\n",
       "      <td>2023.0</td>\n",
       "      <td>Religion</td>\n",
       "      <td>“I spent eighteen years in a group that taught...</td>\n",
       "    </tr>\n",
       "    <tr>\n",
       "      <th>4865</th>\n",
       "      <td>Where Ivy Dares to Grow</td>\n",
       "      <td>Marielle Thompson</td>\n",
       "      <td>3.52</td>\n",
       "      <td>279</td>\n",
       "      <td>2023.0</td>\n",
       "      <td>Science Fiction</td>\n",
       "      <td>Mexican Gothic meets Outlander in this spellbi...</td>\n",
       "    </tr>\n",
       "    <tr>\n",
       "      <th>5005</th>\n",
       "      <td>The Theory of Everything Else: A Voyage Into t...</td>\n",
       "      <td>Dan Schreiber</td>\n",
       "      <td>4.22</td>\n",
       "      <td>1,054</td>\n",
       "      <td>2023.0</td>\n",
       "      <td>Science</td>\n",
       "      <td>&amp;quot;A pleasure. ... Suitable for beach readi...</td>\n",
       "    </tr>\n",
       "  </tbody>\n",
       "</table>\n",
       "<p>290 rows × 7 columns</p>\n",
       "</div>"
      ],
      "text/plain": [
       "                                                      0                  1  \\\n",
       "100                                               Horse   Geraldine Brooks   \n",
       "101                                  When the Rain Ends  Mary Ellen Taylor   \n",
       "102                                       The Art Thief     Michael Finkel   \n",
       "103                        Now Is Not the Time to Panic    Kevin    Wilson   \n",
       "105                                 The Magnolia Palace       Fiona  Davis   \n",
       "...                                                 ...                ...   \n",
       "4325  Arrangements in Blue: Notes on Loving and Livi...            Amy Key   \n",
       "4327                               When Clouds Touch Us        Thanhhà Lại   \n",
       "4557  I Felt the End Before It Came: Memoirs of a Qu...   Daniel Allen Cox   \n",
       "4865                            Where Ivy Dares to Grow  Marielle Thompson   \n",
       "5005  The Theory of Everything Else: A Voyage Into t...      Dan Schreiber   \n",
       "\n",
       "         2       3       4                5  \\\n",
       "100   4.33  81,017  2022.0              Art   \n",
       "101   4.17  14,920  2023.0              Art   \n",
       "102   4.15   1,441  2023.0              Art   \n",
       "103   3.71  38,448  2022.0              Art   \n",
       "105   3.89  59,701  2022.0              Art   \n",
       "...    ...     ...     ...              ...   \n",
       "4325  4.07     461  2023.0           Poetry   \n",
       "4327  3.80     370  2023.0           Poetry   \n",
       "4557  3.60     123  2023.0         Religion   \n",
       "4865  3.52     279  2023.0  Science Fiction   \n",
       "5005  4.22   1,054  2023.0          Science   \n",
       "\n",
       "                                                      6  \n",
       "100   \\n  A discarded painting in a junk pile, a ske...  \n",
       "101   From The Brighter the Light author Mary Ellen ...  \n",
       "102   The true story of the world\\'s most prolific a...  \n",
       "103   From the New York Times bestselling author of ...  \n",
       "105   Fiona Davis, New York Times bestselling author...  \n",
       "...                                                 ...  \n",
       "4325  When poet Amy Key was growing up, she looked f...  \n",
       "4327  Inspired by the author\\'s own childhood, this ...  \n",
       "4557  “I spent eighteen years in a group that taught...  \n",
       "4865  Mexican Gothic meets Outlander in this spellbi...  \n",
       "5005  &quot;A pleasure. ... Suitable for beach readi...  \n",
       "\n",
       "[290 rows x 7 columns]"
      ]
     },
     "execution_count": 46,
     "metadata": {},
     "output_type": "execute_result"
    }
   ],
   "source": [
    "all_genres_df[all_genres_df.duplicated()]"
   ]
  },
  {
   "cell_type": "code",
   "execution_count": null,
   "id": "c950de32",
   "metadata": {},
   "outputs": [],
   "source": []
  },
  {
   "cell_type": "code",
   "execution_count": null,
   "id": "0051b584",
   "metadata": {},
   "outputs": [],
   "source": []
  },
  {
   "cell_type": "markdown",
   "id": "2f0cfa87",
   "metadata": {},
   "source": [
    "On inspecting I found that the coverWrapper class contains the book info such as the link to the book page, its title and image."
   ]
  },
  {
   "cell_type": "code",
   "execution_count": 15,
   "id": "5daaeb93",
   "metadata": {},
   "outputs": [],
   "source": [
    "book_link = crime_doc.find_all('div', class_='coverWrapper')[99].a['href']\n",
    "book_title = crime_doc.find_all('div', class_='coverWrapper')[99].img['alt']\n",
    "book_img = crime_doc.find_all('div', class_='coverWrapper')[99].img['src']"
   ]
  },
  {
   "cell_type": "code",
   "execution_count": 19,
   "id": "ccedd536",
   "metadata": {},
   "outputs": [
    {
     "data": {
      "text/plain": [
       "<div data-react-class=\"ReactComponents.StoresInitializer\" data-react-props=\"{}\"><noscript data-react-checksum=\"-1445129965\" data-reactid=\".jkgx24ois4\"></noscript></div>"
      ]
     },
     "execution_count": 19,
     "metadata": {},
     "output_type": "execute_result"
    }
   ],
   "source": [
    "crime_doc.find_all('div')[0]"
   ]
  },
  {
   "cell_type": "code",
   "execution_count": 16,
   "id": "2d483c5d",
   "metadata": {},
   "outputs": [
    {
     "name": "stdout",
     "output_type": "stream",
     "text": [
      "The Southern Lawyer (Joe Hennessy Legal Thriller #1)\n"
     ]
    },
    {
     "data": {
      "image/jpeg": "[encoded data removed]",
      "text/plain": [
       "<IPython.core.display.Image object>"
      ]
     },
     "metadata": {
      "image/jpeg": {
       "width": 100
      }
     },
     "output_type": "display_data"
    }
   ],
   "source": [
    "print(book_title)\n",
    "display(Image(book_img, width=100))"
   ]
  },
  {
   "cell_type": "markdown",
   "id": "fff39596",
   "metadata": {},
   "source": [
    "Let's go to the book page to find out more about the book"
   ]
  },
  {
   "cell_type": "code",
   "execution_count": 32,
   "id": "43f5e3e2",
   "metadata": {},
   "outputs": [
    {
     "data": {
      "text/plain": [
       "'https://www.goodreads.com/book/show/53450790-the-perfect-marriage'"
      ]
     },
     "execution_count": 32,
     "metadata": {},
     "output_type": "execute_result"
    }
   ],
   "source": [
    "book_url = base_url + book_link\n",
    "book_url"
   ]
  },
  {
   "cell_type": "code",
   "execution_count": 33,
   "id": "373f7852",
   "metadata": {},
   "outputs": [],
   "source": [
    "response = requests.get(book_url)\n",
    "book_html = BeautifulSoup(response.text, 'html.parser')"
   ]
  },
  {
   "cell_type": "code",
   "execution_count": 76,
   "id": "6d95b9db",
   "metadata": {},
   "outputs": [
    {
     "data": {
      "text/plain": [
       "44825"
      ]
     },
     "execution_count": 76,
     "metadata": {},
     "output_type": "execute_result"
    }
   ],
   "source": [
    "len(book_html.text)"
   ]
  },
  {
   "cell_type": "markdown",
   "id": "1631f82f",
   "metadata": {},
   "source": [
    "The book page takes a lot of time to load so it would not be convenient to go through all the most read books in every single genre. Instead we can select a single book and do its analysis fully. We can extract the author, rating, reviews and analyze them."
   ]
  },
  {
   "cell_type": "markdown",
   "id": "f2b1bf01",
   "metadata": {},
   "source": [
    "## Analyzing a single book fully"
   ]
  },
  {
   "cell_type": "markdown",
   "id": "f5f3874d",
   "metadata": {},
   "source": [
    "The metadata contains info such as author, rating and number of reviews"
   ]
  },
  {
   "cell_type": "code",
   "execution_count": 231,
   "id": "9d31cd3b",
   "metadata": {
    "scrolled": true
   },
   "outputs": [
    {
     "ename": "AttributeError",
     "evalue": "'NoneType' object has no attribute 'text'",
     "output_type": "error",
     "traceback": [
      "\u001b[1;31m---------------------------------------------------------------------------\u001b[0m",
      "\u001b[1;31mAttributeError\u001b[0m                            Traceback (most recent call last)",
      "Cell \u001b[1;32mIn[231], line 1\u001b[0m\n\u001b[1;32m----> 1\u001b[0m author_name \u001b[38;5;241m=\u001b[39m \u001b[43mbook_html\u001b[49m\u001b[38;5;241;43m.\u001b[39;49m\u001b[43mfind\u001b[49m\u001b[43m(\u001b[49m\u001b[38;5;124;43m'\u001b[39;49m\u001b[38;5;124;43mdiv\u001b[39;49m\u001b[38;5;124;43m'\u001b[39;49m\u001b[43m,\u001b[49m\u001b[43m \u001b[49m\u001b[43mclass_\u001b[49m\u001b[38;5;241;43m=\u001b[39;49m\u001b[43m \u001b[49m\u001b[38;5;124;43m'\u001b[39;49m\u001b[38;5;124;43mBookPageMetadataSection__contributor\u001b[39;49m\u001b[38;5;124;43m'\u001b[39;49m\u001b[43m)\u001b[49m\u001b[38;5;241;43m.\u001b[39;49m\u001b[43mtext\u001b[49m\n\u001b[0;32m      2\u001b[0m \u001b[38;5;28mprint\u001b[39m(\u001b[38;5;124mf\u001b[39m\u001b[38;5;124m\"\u001b[39m\u001b[38;5;124mAuthor: \u001b[39m\u001b[38;5;132;01m{\u001b[39;00mauthor_name\u001b[38;5;132;01m}\u001b[39;00m\u001b[38;5;124m\"\u001b[39m)\n",
      "\u001b[1;31mAttributeError\u001b[0m: 'NoneType' object has no attribute 'text'"
     ]
    }
   ],
   "source": [
    "author_name = book_html.find('div', class_= 'BookPageMetadataSection__contributor').text\n",
    "print(f\"Author: {author_name}\")"
   ]
  },
  {
   "cell_type": "code",
   "execution_count": 114,
   "id": "39be9514",
   "metadata": {},
   "outputs": [
    {
     "name": "stdout",
     "output_type": "stream",
     "text": [
      "Score: 4.00\n"
     ]
    }
   ],
   "source": [
    "book_score = book_html.find('div', class_= 'RatingStatistics__column').text\n",
    "print(f\"Score: {book_score}\")"
   ]
  },
  {
   "cell_type": "code",
   "execution_count": 113,
   "id": "5f6fe1fa",
   "metadata": {},
   "outputs": [
    {
     "name": "stdout",
     "output_type": "stream",
     "text": [
      "Number of ratings given: 392,809 ratings \n",
      "Number of reviews given:  30,626 reviews\n"
     ]
    }
   ],
   "source": [
    "num_ratings, num_reviews = book_html.find('div', class_='RatingStatistics__meta')['aria-label'].split('and')\n",
    "print(f\"Number of ratings given: {num_ratings}\")\n",
    "print(f\"Number of reviews given: {num_reviews}\")"
   ]
  },
  {
   "cell_type": "code",
   "execution_count": 120,
   "id": "f4ca606c",
   "metadata": {},
   "outputs": [
    {
     "name": "stdout",
     "output_type": "stream",
     "text": [
      "Description:\n",
      "\n",
      " Would you defend your husband if he was accused of killing his mistress?Sarah Morgan is a successful and powerful defense attorney in Washington D.C. At 33 years old, she is a named partner at her firm and life is going exactly how she planned.The same cannot be said for her husband, Adam. He is a struggling writer who has had little success in his career. He begins to tire of his and Sarah’s relationship as she is constantly working. Out in the secluded woods, at Adam and Sarah’s second home, Adam engages in a passionate affair with Kelly Summers.Then, one morning everything changes. Adam is arrested for Kelly’s murder. She had been found stabbed to death in Adam and Sarah’s second home. Sarah soon finds herself playing the defender for her own husband, a man accused of murdering his mistress. But is Adam guilty or is he innocent?\n"
     ]
    }
   ],
   "source": [
    "book_desc = book_html.find('div', class_= 'BookPageMetadataSection__description').text\n",
    "print(f\"Description:\\n\\n {book_desc}\")"
   ]
  },
  {
   "cell_type": "code",
   "execution_count": 142,
   "id": "f43c91a3",
   "metadata": {},
   "outputs": [
    {
     "name": "stdout",
     "output_type": "stream",
     "text": [
      "Number of pages: 342 pages\n",
      "Edition:  Paperback\n",
      "Publishing date: July 3, 2020\n"
     ]
    }
   ],
   "source": [
    "num_pages, edition = book_html.find('div', class_= 'BookDetails').find_all('p')[0].text.split(',')\n",
    "date_published = \" \".join(book_html.find('div', class_= 'BookDetails').find_all('p')[1].text.split()[2:])\n",
    "print(f\"Number of pages: {num_pages}\")\n",
    "print(f\"Edition: {edition}\")\n",
    "print(f\"Publishing date: {date_published}\")"
   ]
  },
  {
   "cell_type": "code",
   "execution_count": 143,
   "id": "d61fb7ad",
   "metadata": {},
   "outputs": [
    {
     "data": {
      "text/plain": [
       "'https://www.goodreads.com/author/show/20309584.Jeneva_Rose'"
      ]
     },
     "execution_count": 143,
     "metadata": {},
     "output_type": "execute_result"
    }
   ],
   "source": [
    "author_profile = book_html.find('div', class_= 'FeaturedPerson__avatar').a['href']\n",
    "author_profile"
   ]
  },
  {
   "cell_type": "markdown",
   "id": "15ae9ee9",
   "metadata": {},
   "source": [
    "Author profiles can be analyzed similarly. You just have to know how to extract the relevant tags from the html."
   ]
  },
  {
   "cell_type": "markdown",
   "id": "1b5abb9e",
   "metadata": {},
   "source": [
    "## Optional"
   ]
  },
  {
   "cell_type": "code",
   "execution_count": 145,
   "id": "ac6ee039",
   "metadata": {
    "scrolled": true
   },
   "outputs": [
    {
     "name": "stdout",
     "output_type": "stream",
     "text": [
      "Profile Image for Jeneva Rose.\n"
     ]
    },
    {
     "data": {
      "image/jpeg": "[encoded data removed]",
      "text/plain": [
       "<IPython.core.display.Image object>"
      ]
     },
     "metadata": {
      "image/jpeg": {
       "width": 100
      }
     },
     "output_type": "display_data"
    }
   ],
   "source": [
    "# optional\n",
    "img_text = book_html.find('div', class_= 'FeaturedPerson__avatar').img['alt']\n",
    "img = book_html.find('div', class_= 'FeaturedPerson__avatar').img['src']\n",
    "print(img_text)\n",
    "display(Image(img, width=100))"
   ]
  },
  {
   "cell_type": "code",
   "execution_count": 208,
   "id": "6fa6bf95",
   "metadata": {},
   "outputs": [
    {
     "name": "stdout",
     "output_type": "stream",
     "text": [
      "Number of followers of Jeneva Rose: 7,520\n"
     ]
    }
   ],
   "source": [
    "num_followers = book_html.find('div' ,class_='FeaturedPerson__infoPrimary').find_all('span')[-1].text.split()[0]\n",
    "print(f\"Number of followers of {author_name}: {num_followers}\")"
   ]
  },
  {
   "cell_type": "code",
   "execution_count": 209,
   "id": "db07ca38",
   "metadata": {},
   "outputs": [
    {
     "name": "stdout",
     "output_type": "stream",
     "text": [
      "Number of books written by Jeneva Rose: 9\n"
     ]
    }
   ],
   "source": [
    "num_books = book_html.find('div' ,class_='FeaturedPerson__infoPrimary').find_all('span')[-2].text.split()[0]\n",
    "print(f\"Number of books written by {author_name}: {num_books}\")"
   ]
  },
  {
   "cell_type": "code",
   "execution_count": 328,
   "id": "8de0256b",
   "metadata": {},
   "outputs": [
    {
     "data": {
      "text/plain": [
       "('Number of ratings and percentage of total ratings',\n",
       " ['5 stars', '4 stars', '3 stars', '2 stars', '1 star'],\n",
       " ['5,895 (47%)', '3,900 (31%)', '1,868 (15%)', '414 (3%)', '287 (2%)'])"
      ]
     },
     "execution_count": 328,
     "metadata": {},
     "output_type": "execute_result"
    }
   ],
   "source": [
    "book_html.find('div', class_= 'RatingsHistogram__labelTotal')['aria-label'],\\\n",
    "[x.text for x in book_html.find_all('div', class_= 'RatingsHistogram__labelTitle')],\\\n",
    "[x.text for x in book_html.find_all('div', class_= 'RatingsHistogram__labelTotal')]"
   ]
  },
  {
   "cell_type": "markdown",
   "id": "5440492a",
   "metadata": {},
   "source": [
    "### Reviews"
   ]
  },
  {
   "cell_type": "code",
   "execution_count": 373,
   "id": "0582ea10",
   "metadata": {},
   "outputs": [
    {
     "data": {
      "text/plain": [
       "'Review by Vickie'"
      ]
     },
     "execution_count": 373,
     "metadata": {},
     "output_type": "execute_result"
    }
   ],
   "source": [
    "book_html.find_all('article', class_= 'ReviewCard')[0]['aria-label']"
   ]
  },
  {
   "cell_type": "code",
   "execution_count": 376,
   "id": "ea02ff64",
   "metadata": {},
   "outputs": [
    {
     "data": {
      "text/plain": [
       "'May 1, 2023'"
      ]
     },
     "execution_count": 376,
     "metadata": {},
     "output_type": "execute_result"
    }
   ],
   "source": [
    "book_html.find_all('section', class_= 'ReviewCard__content')[0].a.text"
   ]
  },
  {
   "cell_type": "code",
   "execution_count": 381,
   "id": "59530061",
   "metadata": {
    "scrolled": true
   },
   "outputs": [
    {
     "data": {
      "text/plain": [
       "'Rating 5 out of 5'"
      ]
     },
     "execution_count": 381,
     "metadata": {},
     "output_type": "execute_result"
    }
   ],
   "source": [
    "book_html.find_all('section', class_= 'ReviewCard__content')[0].span['aria-label']"
   ]
  },
  {
   "cell_type": "code",
   "execution_count": 369,
   "id": "faf08b44",
   "metadata": {
    "scrolled": true
   },
   "outputs": [
    {
     "data": {
      "text/plain": [
       "\"This beautifully written book is about a mother and her daughter at a crucial point in both of their lives. It's a story of coping with grief and learning how to go on with life and how to rely on other people to help you through difficult times in life.Dani is an artist and has just learned that due to an eye disease, she'll be losing her vision in the future. Her life is in turmoil, her ex-husband (but still good friend) has just died in a car accident and she's working to help her daughter Bella cope with life without her dad in it. Dani decides to move from their home in the Outer Banks of NC to an inland farm near the Virginia border and she's taking Bella away from the only home that she's ever known. Bella feels betrayed - not only does she have to learn to navigate life without her father but she's left behind all of her friends and the comfort of a home she loved. Most of the time, instead of lashing out at her mother, she stuffs her feelings inside and works to present a calm personality. But at 12, she does have bouts of anger and resentment and her mother is her favorite target. She's very resentful that her mother has signed her up for a 2 week grief camp for children who have lost someone close because she doesn't want to share her closely held feelings.Dani has always kept her true feelings from the world around her - ever since her mother died when she was very young. She is extremely worried about losing her sight but doesn't share it with her daughter or her new boyfriend. She absolutely doesn't want anyone to feel sorry for her and wants to continue her life as a gallery owner.Grief is difficult to navigate and affects everyone differently but it's absolutely crucial to have people to depend on. Will Bella learn to depend on her mother over the loss of her father and will Dani ever be able to tell Bella about her eye issues that will cause her to lose her sight? Will they both realize that together they can face whatever life brings their way?This book is beautifully written and well written characters. Dani was a great example of a mother trying cope with changes in her life and Bella was a perfect example of a pre-teen girl who can go from happy to angry very quickly. These are two characters and a splendid story that I won't soon forget.\""
      ]
     },
     "execution_count": 369,
     "metadata": {},
     "output_type": "execute_result"
    }
   ],
   "source": [
    "book_html.find_all('section', class_= 'ReviewText__content')[0].text"
   ]
  },
  {
   "cell_type": "markdown",
   "id": "96b103b5",
   "metadata": {},
   "source": [
    "## Combining all of it"
   ]
  },
  {
   "cell_type": "markdown",
   "id": "e13f43c2",
   "metadata": {},
   "source": [
    "### Book info"
   ]
  },
  {
   "cell_type": "code",
   "execution_count": 283,
   "id": "6f6e69d2",
   "metadata": {},
   "outputs": [],
   "source": [
    "# Helper functions\n",
    "# Returns a dictionary containing information about the book given its html\n",
    "def get_book_metadata(book_html):\n",
    "    \n",
    "    book_title = book_html.find('div', class_='BookPageTitleSection').text\n",
    "    author_name = book_html.find('div', class_= 'BookPageMetadataSection__contributor').text\n",
    "    book_score = book_html.find('div', class_= 'RatingStatistics__column').text\n",
    "    num_ratings, num_reviews = book_html.find('div', class_='RatingStatistics__meta')['aria-label'].split('and')\n",
    "    book_desc = book_html.find('div', class_= 'BookPageMetadataSection__description').text\n",
    "    num_pages, edition = book_html.find('div', class_= 'BookDetails').find_all('p')[0].text.split(',')\n",
    "    date_published = \" \".join(book_html.find('div', class_= 'BookDetails').find_all('p')[1].text.split()[2:])\n",
    "    \n",
    "    book_info = {'Title': book_title,\n",
    "                 'Author': author_name,\n",
    "                 'Score': book_score,\n",
    "                 'Num_ratings': num_ratings,\n",
    "                 'Num_reviews': num_reviews,\n",
    "                 'Num_pages': num_pages,\n",
    "                 'Edition': edition,\n",
    "                 'Publishing_date': date_published,\n",
    "                 'Description': book_desc}\n",
    "    \n",
    "    return book_info\n",
    "\n",
    "# Display information about the book from the dictionary\n",
    "def display_book(book, book_img):\n",
    "    print(book['Title'])\n",
    "    display(Image(book_img, width=100))\n",
    "    print(f\"Author: {book['Author']}\")\n",
    "    print(f\"Score : {book['Score']} out of 5\")\n",
    "    print(f\"Number of ratings given: {book['Num_ratings']}\")\n",
    "    print(f\"Number of reviews given: {book['Num_reviews']}\")\n",
    "    print(f\"\\nDescription of the book:\\n\\n {book['Description']}\\n\")\n",
    "    print(f\"Number of pages: {book['Num_pages']}\")\n",
    "    print(f\"Edition: {book['Edition']}\")\n",
    "    print(f\"Publishing date: {book['Publishing_date']}\")"
   ]
  },
  {
   "cell_type": "code",
   "execution_count": 284,
   "id": "c02fb7db",
   "metadata": {},
   "outputs": [],
   "source": [
    "# Most important function\n",
    "# Displays all the information about a book listed on the book's page\n",
    "def get_book_info(book_url):\n",
    "    r = requests.get(book_url)\n",
    "    book_html = BeautifulSoup(r.text, 'html.parser')\n",
    "    book_img = book_html.find('img', class_='ResponsiveImage')['src']\n",
    "    \n",
    "    book = get_book_metadata(book_html)\n",
    "    display_book(book, book_img)"
   ]
  },
  {
   "cell_type": "code",
   "execution_count": null,
   "id": "f73f66ac",
   "metadata": {},
   "outputs": [],
   "source": [
    "get_book_info()"
   ]
  },
  {
   "cell_type": "markdown",
   "id": "41320400",
   "metadata": {},
   "source": [
    "### Find books by genre and rank"
   ]
  },
  {
   "cell_type": "code",
   "execution_count": 288,
   "id": "ecf039fb",
   "metadata": {},
   "outputs": [],
   "source": [
    "def get_books_by_rank(genre_doc, rank):  \n",
    "    '''\n",
    "    Get book info about a book ranked among the given genre\n",
    "    '''\n",
    "    book_link = genre_doc.find_all('div', class_='coverWrapper')[rank-1].a['href']\n",
    "    book_url = base_url + book_link\n",
    "    print(f\"Rank #{rank} \")    \n",
    "    get_book_info(book_url)"
   ]
  },
  {
   "cell_type": "code",
   "execution_count": 289,
   "id": "c8b3692b",
   "metadata": {},
   "outputs": [],
   "source": [
    "def get_books_by_genre(genre_links_dict, genre, rank):\n",
    "    '''\n",
    "    Get any book from any genre by popularity i.e. rank\n",
    "    '''\n",
    "    genre_link = genre_links_dict[genre]\n",
    "    response = requests.get(genre_link)\n",
    "    genre_doc = BeautifulSoup(response.text, 'html.parser')\n",
    "    print(f\"Most popular books from the {genre} genre\")   \n",
    "    get_books_by_rank(genre_doc, rank)"
   ]
  },
  {
   "cell_type": "markdown",
   "id": "75593e91",
   "metadata": {},
   "source": [
    "Let's get the top ranked book from the science fiction genre"
   ]
  },
  {
   "cell_type": "code",
   "execution_count": 287,
   "id": "7faf7304",
   "metadata": {},
   "outputs": [
    {
     "name": "stdout",
     "output_type": "stream",
     "text": [
      "Rank: 1\n",
      "The Midnight Library\n"
     ]
    },
    {
     "data": {
      "image/jpeg": "[encoded data removed]",
      "text/plain": [
       "<IPython.core.display.Image object>"
      ]
     },
     "metadata": {
      "image/jpeg": {
       "width": 100
      }
     },
     "output_type": "display_data"
    },
    {
     "name": "stdout",
     "output_type": "stream",
     "text": [
      "Author: Matt Haig\n",
      "Score : 4.01 out of 5\n",
      "Number of ratings given: 1,417,215 ratings \n",
      "Number of reviews given:  152,766 reviews\n",
      "\n",
      "Description of the book:\n",
      "\n",
      " Between life and death there is a library, and within that library, the shelves go on forever. Every book provides a chance to try another life you could have lived. To see how things would be if you had made other choices . . . Would you have done anything different, if you had the chance to undo your regrets? A novel about all the choices that go into a life well lived.Somewhere out beyond the edge of the universe there is a library that contains an infinite number of books, each one the story of another reality. One tells the story of your life as it is, along with another book for the other life you could have lived if you had made a different choice at any point in your life. While we all wonder how our lives might have been, what if you had the chance to go to the library and see for yourself? Would any of these other lives truly be better?Nora Seed finds herself faced with this decision. Faced with the possibility of changing her life for a new one, following a different career, undoing old breakups, realizing her dreams of becoming a glaciologist; she must search within herself as she travels through the Midnight Library to decide what is truly fulfilling in life, and what makes it worth living in the first place.\n",
      "\n",
      "Number of pages: 304 pages\n",
      "Edition:  Hardcover\n",
      "Publishing date: August 13, 2020\n"
     ]
    }
   ],
   "source": [
    "get_books_by_genre(genre_links_dict, genre='Science Fiction', rank=1)"
   ]
  },
  {
   "cell_type": "code",
   "execution_count": null,
   "id": "ffde3065",
   "metadata": {},
   "outputs": [],
   "source": []
  },
  {
   "cell_type": "code",
   "execution_count": null,
   "id": "989c9b62",
   "metadata": {},
   "outputs": [],
   "source": []
  },
  {
   "cell_type": "code",
   "execution_count": null,
   "id": "4ee7d34f",
   "metadata": {},
   "outputs": [],
   "source": []
  },
  {
   "cell_type": "markdown",
   "id": "cfcc47a1",
   "metadata": {},
   "source": [
    "## Finding most shelved books by genre (for kaggle)"
   ]
  },
  {
   "cell_type": "markdown",
   "id": "b6d086b9",
   "metadata": {},
   "source": [
    "Exploring the most popular books. Have to change the urls again ):"
   ]
  },
  {
   "cell_type": "code",
   "execution_count": 291,
   "id": "96d0c361",
   "metadata": {},
   "outputs": [
    {
     "name": "stdout",
     "output_type": "stream",
     "text": [
      "['Science', 'Science Fiction', 'Self Help', 'Suspense', 'Spirituality', 'Sports', 'Thriller', 'Travel', 'Young Adult']\n"
     ]
    }
   ],
   "source": [
    "print(genre_names[-9:])"
   ]
  },
  {
   "cell_type": "markdown",
   "id": "02930a72",
   "metadata": {},
   "source": [
    "Let's start with the mystery genre"
   ]
  },
  {
   "cell_type": "code",
   "execution_count": 292,
   "id": "4bbdacd6",
   "metadata": {
    "scrolled": false
   },
   "outputs": [
    {
     "data": {
      "text/plain": [
       "{'Art': 'https://www.goodreads.com/shelf/show/art',\n",
       " 'Biography': 'https://www.goodreads.com/shelf/show/biography',\n",
       " 'Business': 'https://www.goodreads.com/shelf/show/business',\n",
       " 'Chick Lit': 'https://www.goodreads.com/shelf/show/chick-lit',\n",
       " \"Children's\": 'https://www.goodreads.com/shelf/show/children-s',\n",
       " 'Christian': 'https://www.goodreads.com/shelf/show/christian',\n",
       " 'Classics': 'https://www.goodreads.com/shelf/show/classics',\n",
       " 'Comics': 'https://www.goodreads.com/shelf/show/comics',\n",
       " 'Contemporary': 'https://www.goodreads.com/shelf/show/contemporary',\n",
       " 'Cookbooks': 'https://www.goodreads.com/shelf/show/cookbooks',\n",
       " 'Crime': 'https://www.goodreads.com/shelf/show/crime',\n",
       " 'Ebooks': 'https://www.goodreads.com/shelf/show/ebooks',\n",
       " 'Fantasy': 'https://www.goodreads.com/shelf/show/fantasy',\n",
       " 'Fiction': 'https://www.goodreads.com/shelf/show/fiction',\n",
       " 'Gay and Lesbian': 'https://www.goodreads.com/shelf/show/gay-and-lesbian',\n",
       " 'Graphic Novels': 'https://www.goodreads.com/shelf/show/graphic-novels',\n",
       " 'Historical Fiction': 'https://www.goodreads.com/shelf/show/historical-fiction',\n",
       " 'History': 'https://www.goodreads.com/shelf/show/history',\n",
       " 'Horror': 'https://www.goodreads.com/shelf/show/horror',\n",
       " 'Humor and Comedy': 'https://www.goodreads.com/shelf/show/humor-and-comedy',\n",
       " 'Manga': 'https://www.goodreads.com/shelf/show/manga',\n",
       " 'Memoir': 'https://www.goodreads.com/shelf/show/memoir',\n",
       " 'Music': 'https://www.goodreads.com/shelf/show/music',\n",
       " 'Mystery': 'https://www.goodreads.com/shelf/show/mystery',\n",
       " 'Nonfiction': 'https://www.goodreads.com/shelf/show/non-fiction',\n",
       " 'Paranormal': 'https://www.goodreads.com/shelf/show/paranormal',\n",
       " 'Philosophy': 'https://www.goodreads.com/shelf/show/philosophy',\n",
       " 'Poetry': 'https://www.goodreads.com/shelf/show/poetry',\n",
       " 'Psychology': 'https://www.goodreads.com/shelf/show/psychology',\n",
       " 'Religion': 'https://www.goodreads.com/shelf/show/religion',\n",
       " 'Romance': 'https://www.goodreads.com/shelf/show/romance',\n",
       " 'Science': 'https://www.goodreads.com/shelf/show/science',\n",
       " 'Science Fiction': 'https://www.goodreads.com/shelf/show/science-fiction',\n",
       " 'Self Help': 'https://www.goodreads.com/shelf/show/self-help',\n",
       " 'Suspense': 'https://www.goodreads.com/shelf/show/suspense',\n",
       " 'Spirituality': 'https://www.goodreads.com/shelf/show/spirituality',\n",
       " 'Sports': 'https://www.goodreads.com/shelf/show/sports',\n",
       " 'Thriller': 'https://www.goodreads.com/shelf/show/thriller',\n",
       " 'Travel': 'https://www.goodreads.com/shelf/show/travel',\n",
       " 'Young Adult': 'https://www.goodreads.com/shelf/show/young-adult'}"
      ]
     },
     "execution_count": 292,
     "metadata": {},
     "output_type": "execute_result"
    }
   ],
   "source": [
    "genre_most_popular_dict = {name: base_url + \"/shelf/show\" + link[7:] for (name, link) in zip(genre_names, genre_links)}\n",
    "genre_most_popular_dict"
   ]
  },
  {
   "cell_type": "markdown",
   "id": "c528a5fd",
   "metadata": {},
   "source": [
    "Let's analyze some thriller books from the thriller url"
   ]
  },
  {
   "cell_type": "code",
   "execution_count": 298,
   "id": "c35767b0",
   "metadata": {},
   "outputs": [],
   "source": [
    "thriller_url = genre_most_popular_dict['Thriller']\n",
    "response = requests.get(thriller_url)\n",
    "doc = BeautifulSoup(response.text, 'html.parser')"
   ]
  },
  {
   "cell_type": "code",
   "execution_count": 294,
   "id": "71c5cd5a",
   "metadata": {},
   "outputs": [],
   "source": [
    "# doc.find_all('div', class_='left')[0].text.strip().split('\\n')"
   ]
  },
  {
   "cell_type": "code",
   "execution_count": 299,
   "id": "1f3d4b76",
   "metadata": {},
   "outputs": [],
   "source": [
    "# All book tags from the thriller genre\n",
    "book_tags = doc.find_all('div', class_=\"left\")"
   ]
  },
  {
   "cell_type": "code",
   "execution_count": 300,
   "id": "7a694268",
   "metadata": {
    "scrolled": false
   },
   "outputs": [
    {
     "data": {
      "text/plain": [
       "<div class=\"left\" style=\"width: 75%;\">\n",
       "<a class=\"leftAlignedImage\" href=\"/book/show/19288043-gone-girl\" title=\"Gone Girl\"><img alt=\"Gone Girl\" src=\"https://i.gr-assets.com/images/S/compressed.photo.goodreads.com/books/1554086139l/19288043._SY75_.jpg\"/></a>\n",
       "<a class=\"bookTitle\" href=\"/book/show/19288043-gone-girl\">Gone Girl (Paperback)</a>\n",
       "<br/>\n",
       "<span class=\"by\">by</span>\n",
       "<span itemprop=\"author\" itemscope=\"\" itemtype=\"http://schema.org/Person\">\n",
       "<div class=\"authorName__container\">\n",
       "<a class=\"authorName\" href=\"https://www.goodreads.com/author/show/2383.Gillian_Flynn\" itemprop=\"url\"><span itemprop=\"name\">Gillian Flynn</span></a> <span class=\"greyText\">(Goodreads Author)</span>\n",
       "</div>\n",
       "</span>\n",
       "\n",
       "\n",
       "              (shelved 9076 times as <em>thriller</em>)     \n",
       "\n",
       "              <br/>\n",
       "<span class=\"greyText smallText\">\n",
       "                avg rating 4.12 —\n",
       "                2,900,791 ratings  —\n",
       "                published 2012\n",
       "              </span>\n",
       "</div>"
      ]
     },
     "execution_count": 300,
     "metadata": {},
     "output_type": "execute_result"
    }
   ],
   "source": [
    "book_tags[0]"
   ]
  },
  {
   "cell_type": "code",
   "execution_count": 301,
   "id": "9255a77b",
   "metadata": {},
   "outputs": [
    {
     "data": {
      "text/plain": [
       "['Gone Girl',\n",
       " 'The Girl on the Train',\n",
       " 'The Silent Patient',\n",
       " 'The Da Vinci Code (Robert Langdon, #2)',\n",
       " 'The Girl with the Dragon Tattoo (Millennium, #1)']"
      ]
     },
     "execution_count": 301,
     "metadata": {},
     "output_type": "execute_result"
    }
   ],
   "source": [
    "book_titles = [tag.find_all('a')[0]['title'] for tag in book_tags]\n",
    "book_titles[:5]"
   ]
  },
  {
   "cell_type": "markdown",
   "id": "6f3deac2",
   "metadata": {},
   "source": [
    "Looks like thriller authors are obsessed with girls. Anyway let's analyze further"
   ]
  },
  {
   "cell_type": "code",
   "execution_count": 302,
   "id": "ebb6ba30",
   "metadata": {},
   "outputs": [
    {
     "data": {
      "text/plain": [
       "['https://www.goodreads.com/book/show/19288043-gone-girl',\n",
       " 'https://www.goodreads.com/book/show/22557272-the-girl-on-the-train',\n",
       " 'https://www.goodreads.com/book/show/40097951-the-silent-patient',\n",
       " 'https://www.goodreads.com/book/show/968.The_Da_Vinci_Code',\n",
       " 'https://www.goodreads.com/book/show/2429135.The_Girl_with_the_Dragon_Tattoo']"
      ]
     },
     "execution_count": 302,
     "metadata": {},
     "output_type": "execute_result"
    }
   ],
   "source": [
    "book_urls = [base_url + tag.find_all('a')[0]['href'] for tag in book_tags]\n",
    "book_urls[:5]"
   ]
  },
  {
   "cell_type": "code",
   "execution_count": 303,
   "id": "c31e7d17",
   "metadata": {},
   "outputs": [],
   "source": [
    "book_imgs = [tag.find('img')['src'] for tag in book_tags]"
   ]
  },
  {
   "cell_type": "code",
   "execution_count": 333,
   "id": "6360a653",
   "metadata": {},
   "outputs": [
    {
     "data": {
      "image/jpeg": "[encoded data removed]",
      "text/plain": [
       "<IPython.core.display.Image object>"
      ]
     },
     "metadata": {
      "image/jpeg": {
       "width": 70
      }
     },
     "output_type": "display_data"
    }
   ],
   "source": [
    "display(Image(book_imgs[2], width=70))"
   ]
  },
  {
   "cell_type": "code",
   "execution_count": 308,
   "id": "73ef0589",
   "metadata": {},
   "outputs": [
    {
     "data": {
      "text/plain": [
       "['https://www.goodreads.com/author/show/2383.Gillian_Flynn',\n",
       " 'https://www.goodreads.com/author/show/1063732.Paula_Hawkins',\n",
       " 'https://www.goodreads.com/author/show/17621440.Alex_Michaelides',\n",
       " 'https://www.goodreads.com/author/show/630.Dan_Brown',\n",
       " 'https://www.goodreads.com/author/show/706255.Stieg_Larsson']"
      ]
     },
     "execution_count": 308,
     "metadata": {},
     "output_type": "execute_result"
    }
   ],
   "source": [
    "author_links = [tag.find_all('a')[2]['href'] for tag in book_tags]\n",
    "author_links[:5]"
   ]
  },
  {
   "cell_type": "code",
   "execution_count": 309,
   "id": "a6c7c208",
   "metadata": {},
   "outputs": [
    {
     "data": {
      "text/plain": [
       "['Gillian Flynn',\n",
       " 'Paula Hawkins',\n",
       " 'Alex Michaelides',\n",
       " 'Dan Brown',\n",
       " 'Stieg Larsson']"
      ]
     },
     "execution_count": 309,
     "metadata": {},
     "output_type": "execute_result"
    }
   ],
   "source": [
    "author_names = [tag.find('span', itemprop=\"name\").text for tag in book_tags]\n",
    "author_names[:5]"
   ]
  },
  {
   "cell_type": "code",
   "execution_count": 310,
   "id": "4f359be2",
   "metadata": {},
   "outputs": [],
   "source": [
    "scores_list, ratings_list, year_published_list = [], [], []\n",
    "for tag in book_tags:\n",
    "    score, num_ratings, year_published = tag.find('span', class_=\"greyText smallText\").text.strip().split('\\n')\n",
    "    score = score.strip()[11:15]\n",
    "    num_ratings = \"\".join(num_ratings.strip().split(','))[:-3]\n",
    "    year_published = [x for x in year_published.strip().split() if x.isdigit()][0]\n",
    "    scores_list.append(score)\n",
    "    ratings_list.append(num_ratings)\n",
    "    year_published_list.append(year_published)"
   ]
  },
  {
   "cell_type": "code",
   "execution_count": 311,
   "id": "b14b923c",
   "metadata": {
    "scrolled": true
   },
   "outputs": [
    {
     "name": "stdout",
     "output_type": "stream",
     "text": [
      "Top 5 books scores: ['4.12', '3.96', '4.18', '3.90', '4.16']\n",
      "Top 5 books ratings: ['2900791 ratings', '2756615 ratings', '1609324 ratings', '2261954 ratings', '3048676 ratings']\n",
      "Top 5 books publishing year: ['2012', '2015', '2019', '2003', '2005']\n"
     ]
    }
   ],
   "source": [
    "print(f\"Top 5 books scores: {scores_list[:5]}\")\n",
    "print(f\"Top 5 books ratings: {ratings_list[:5]}\")\n",
    "print(f\"Top 5 books publishing year: {year_published_list[:5]}\")"
   ]
  },
  {
   "cell_type": "markdown",
   "id": "149381b2",
   "metadata": {},
   "source": [
    "Combining all of the above together we can make a dictionary for each of the books depicting its title, url, author, scores etc. This way it will be easy to lookup info about any book"
   ]
  },
  {
   "cell_type": "code",
   "execution_count": 312,
   "id": "b320ec22",
   "metadata": {},
   "outputs": [],
   "source": [
    "ranks = [*range(1, len(book_tags)+1)]"
   ]
  },
  {
   "cell_type": "code",
   "execution_count": 313,
   "id": "8db95526",
   "metadata": {},
   "outputs": [],
   "source": [
    "book_info_dicts = []\n",
    "for (title, author, score, num_ratings, year_published) in \\\n",
    "zip(book_titles, author_names, scores_list, ratings_list, year_published_list):\n",
    "    book_info =  {'Title': title, \n",
    "                  'Author': author, \n",
    "                  'Score': score, \n",
    "                  'Num_ratings': num_ratings, \n",
    "                  'Year_published': year_published}\n",
    "    book_info_dicts.append(book_info)"
   ]
  },
  {
   "cell_type": "code",
   "execution_count": 314,
   "id": "dff4cf04",
   "metadata": {},
   "outputs": [
    {
     "data": {
      "text/plain": [
       "[{'Title': 'Gone Girl',\n",
       "  'Author': 'Gillian Flynn',\n",
       "  'Score': '4.12',\n",
       "  'Num_ratings': '2900791 ratings',\n",
       "  'Year_published': '2012'},\n",
       " {'Title': 'The Girl on the Train',\n",
       "  'Author': 'Paula Hawkins',\n",
       "  'Score': '3.96',\n",
       "  'Num_ratings': '2756615 ratings',\n",
       "  'Year_published': '2015'},\n",
       " {'Title': 'The Silent Patient',\n",
       "  'Author': 'Alex Michaelides',\n",
       "  'Score': '4.18',\n",
       "  'Num_ratings': '1609324 ratings',\n",
       "  'Year_published': '2019'},\n",
       " {'Title': 'The Da Vinci Code (Robert Langdon, #2)',\n",
       "  'Author': 'Dan Brown',\n",
       "  'Score': '3.90',\n",
       "  'Num_ratings': '2261954 ratings',\n",
       "  'Year_published': '2003'},\n",
       " {'Title': 'The Girl with the Dragon Tattoo (Millennium, #1)',\n",
       "  'Author': 'Stieg Larsson',\n",
       "  'Score': '4.16',\n",
       "  'Num_ratings': '3048676 ratings',\n",
       "  'Year_published': '2005'},\n",
       " {'Title': 'Angels & Demons (Robert Langdon, #1)',\n",
       "  'Author': 'Dan Brown',\n",
       "  'Score': '3.93',\n",
       "  'Num_ratings': '3088958 ratings',\n",
       "  'Year_published': '2000'},\n",
       " {'Title': 'Verity',\n",
       "  'Author': 'Colleen Hoover',\n",
       "  'Score': '4.35',\n",
       "  'Num_ratings': '1986825 ratings',\n",
       "  'Year_published': '2018'},\n",
       " {'Title': 'Sharp Objects',\n",
       "  'Author': 'Gillian Flynn',\n",
       "  'Score': '4.01',\n",
       "  'Num_ratings': '944094 ratings',\n",
       "  'Year_published': '2006'},\n",
       " {'Title': 'The Girl Who Played with Fire (Millennium, #2)',\n",
       "  'Author': 'Stieg Larsson',\n",
       "  'Score': '4.25',\n",
       "  'Num_ratings': '896577 ratings',\n",
       "  'Year_published': '2006'},\n",
       " {'Title': 'The Woman in the Window',\n",
       "  'Author': 'A.J. Finn',\n",
       "  'Score': '3.96',\n",
       "  'Num_ratings': '722432 ratings',\n",
       "  'Year_published': '2018'},\n",
       " {'Title': 'The Guest List',\n",
       "  'Author': 'Lucy Foley',\n",
       "  'Score': '3.83',\n",
       "  'Num_ratings': '828210 ratings',\n",
       "  'Year_published': '2020'},\n",
       " {'Title': \"The Girl Who Kicked the Hornet's Nest (Millennium, #3)\",\n",
       "  'Author': 'Stieg Larsson',\n",
       "  'Score': '4.23',\n",
       "  'Num_ratings': '714802 ratings',\n",
       "  'Year_published': '2007'},\n",
       " {'Title': 'Dark Places',\n",
       "  'Author': 'Gillian Flynn',\n",
       "  'Score': '3.95',\n",
       "  'Num_ratings': '708116 ratings',\n",
       "  'Year_published': '2009'},\n",
       " {'Title': 'The Lost Symbol (Robert Langdon, #3)',\n",
       "  'Author': 'Dan Brown',\n",
       "  'Score': '3.74',\n",
       "  'Num_ratings': '590156 ratings',\n",
       "  'Year_published': '2009'},\n",
       " {'Title': 'Inferno (Robert Langdon, #4)',\n",
       "  'Author': 'Dan Brown',\n",
       "  'Score': '3.88',\n",
       "  'Num_ratings': '533630 ratings',\n",
       "  'Year_published': '2013'},\n",
       " {'Title': 'Behind Closed Doors',\n",
       "  'Author': 'B.A. Paris',\n",
       "  'Score': '3.98',\n",
       "  'Num_ratings': '507685 ratings',\n",
       "  'Year_published': '2016'},\n",
       " {'Title': 'Dark Matter',\n",
       "  'Author': 'Blake Crouch',\n",
       "  'Score': '4.13',\n",
       "  'Num_ratings': '415138 ratings',\n",
       "  'Year_published': '2016'},\n",
       " {'Title': 'And Then There Were None',\n",
       "  'Author': 'Agatha Christie',\n",
       "  'Score': '4.28',\n",
       "  'Num_ratings': '1231703 ratings',\n",
       "  'Year_published': '1939'},\n",
       " {'Title': 'The Woman in Cabin 10',\n",
       "  'Author': 'Ruth Ware',\n",
       "  'Score': '3.74',\n",
       "  'Num_ratings': '553679 ratings',\n",
       "  'Year_published': '2016'},\n",
       " {'Title': 'Deception Point',\n",
       "  'Author': 'Dan Brown',\n",
       "  'Score': '3.75',\n",
       "  'Num_ratings': '652930 ratings',\n",
       "  'Year_published': '2001'},\n",
       " {'Title': 'Digital Fortress',\n",
       "  'Author': 'Dan Brown',\n",
       "  'Score': '3.69',\n",
       "  'Num_ratings': '621414 ratings',\n",
       "  'Year_published': '1998'},\n",
       " {'Title': \"A Good Girl's Guide to Murder (A Good Girl's Guide to Murder, #1)\",\n",
       "  'Author': 'Holly  Jackson',\n",
       "  'Score': '4.34',\n",
       "  'Num_ratings': '669271 ratings',\n",
       "  'Year_published': '2019'},\n",
       " {'Title': 'Lock Every Door',\n",
       "  'Author': 'Riley Sager',\n",
       "  'Score': '3.91',\n",
       "  'Num_ratings': '170150 ratings',\n",
       "  'Year_published': '2019'},\n",
       " {'Title': 'The Silence of the Lambs  (Hannibal Lecter, #2)',\n",
       "  'Author': 'Thomas  Harris',\n",
       "  'Score': '4.24',\n",
       "  'Num_ratings': '531156 ratings',\n",
       "  'Year_published': '1988'},\n",
       " {'Title': 'Pretty Girls',\n",
       "  'Author': 'Karin Slaughter',\n",
       "  'Score': '4.04',\n",
       "  'Num_ratings': '290193 ratings',\n",
       "  'Year_published': '2015'},\n",
       " {'Title': 'You (You, #1)',\n",
       "  'Author': 'Caroline Kepnes',\n",
       "  'Score': '3.95',\n",
       "  'Num_ratings': '226543 ratings',\n",
       "  'Year_published': '2014'},\n",
       " {'Title': 'Then She Was Gone',\n",
       "  'Author': 'Lisa Jewell',\n",
       "  'Score': '4.06',\n",
       "  'Num_ratings': '534767 ratings',\n",
       "  'Year_published': '2017'},\n",
       " {'Title': 'Before I Go to Sleep',\n",
       "  'Author': 'S.J. Watson',\n",
       "  'Score': '3.90',\n",
       "  'Num_ratings': '328850 ratings',\n",
       "  'Year_published': '2011'},\n",
       " {'Title': 'Final Girls',\n",
       "  'Author': 'Riley Sager',\n",
       "  'Score': '3.84',\n",
       "  'Num_ratings': '156287 ratings',\n",
       "  'Year_published': '2017'},\n",
       " {'Title': 'The Turn of the Key',\n",
       "  'Author': 'Ruth Ware',\n",
       "  'Score': '3.93',\n",
       "  'Num_ratings': '246562 ratings',\n",
       "  'Year_published': '2019'},\n",
       " {'Title': 'One of Us Is Lying (One of Us is Lying, #1)',\n",
       "  'Author': 'Karen M. McManus',\n",
       "  'Score': '3.96',\n",
       "  'Num_ratings': '725282 ratings',\n",
       "  'Year_published': '2017'},\n",
       " {'Title': 'The Shining (The Shining, #1)',\n",
       "  'Author': 'Stephen King',\n",
       "  'Score': '4.26',\n",
       "  'Num_ratings': '1399200 ratings',\n",
       "  'Year_published': '1977'},\n",
       " {'Title': 'Jurassic Park (Jurassic Park, #1)',\n",
       "  'Author': 'Michael Crichton',\n",
       "  'Score': '4.08',\n",
       "  'Num_ratings': '919613 ratings',\n",
       "  'Year_published': '1990'},\n",
       " {'Title': 'The Couple Next Door',\n",
       "  'Author': 'Shari Lapena',\n",
       "  'Score': '3.81',\n",
       "  'Num_ratings': '523415 ratings',\n",
       "  'Year_published': '2016'},\n",
       " {'Title': 'Rock Paper Scissors',\n",
       "  'Author': 'Alice Feeney',\n",
       "  'Score': '3.95',\n",
       "  'Num_ratings': '297481 ratings',\n",
       "  'Year_published': '2021'},\n",
       " {'Title': 'Killing Floor (Jack Reacher, #1)',\n",
       "  'Author': 'Lee Child',\n",
       "  'Score': '4.07',\n",
       "  'Num_ratings': '302607 ratings',\n",
       "  'Year_published': '1997'},\n",
       " {'Title': 'Misery',\n",
       "  'Author': 'Stephen King',\n",
       "  'Score': '4.21',\n",
       "  'Num_ratings': '644388 ratings',\n",
       "  'Year_published': '1987'},\n",
       " {'Title': 'Red Dragon (Hannibal Lecter, #1)',\n",
       "  'Author': 'Thomas  Harris',\n",
       "  'Score': '4.05',\n",
       "  'Num_ratings': '318752 ratings',\n",
       "  'Year_published': '1981'},\n",
       " {'Title': 'The Maidens',\n",
       "  'Author': 'Alex Michaelides',\n",
       "  'Score': '3.63',\n",
       "  'Num_ratings': '268600 ratings',\n",
       "  'Year_published': '2021'},\n",
       " {'Title': 'Into the Water',\n",
       "  'Author': 'Paula Hawkins',\n",
       "  'Score': '3.59',\n",
       "  'Num_ratings': '368244 ratings',\n",
       "  'Year_published': '2017'},\n",
       " {'Title': 'The Bourne Identity (Jason Bourne, #1)',\n",
       "  'Author': 'Robert Ludlum',\n",
       "  'Score': '4.05',\n",
       "  'Num_ratings': '426749 ratings',\n",
       "  'Year_published': '1980'},\n",
       " {'Title': 'The Family Upstairs (The Family Upstairs, #1)',\n",
       "  'Author': 'Lisa Jewell',\n",
       "  'Score': '3.97',\n",
       "  'Num_ratings': '332861 ratings',\n",
       "  'Year_published': '2019'},\n",
       " {'Title': 'The 7½ Deaths of Evelyn Hardcastle',\n",
       "  'Author': 'Stuart Turton',\n",
       "  'Score': '3.85',\n",
       "  'Num_ratings': '312614 ratings',\n",
       "  'Year_published': '2018'},\n",
       " {'Title': 'No Exit',\n",
       "  'Author': 'Taylor  Adams',\n",
       "  'Score': '4.02',\n",
       "  'Num_ratings': '131244 ratings',\n",
       "  'Year_published': '2018'},\n",
       " {'Title': 'Home Before Dark',\n",
       "  'Author': 'Riley Sager',\n",
       "  'Score': '4.08',\n",
       "  'Num_ratings': '155354 ratings',\n",
       "  'Year_published': '2020'},\n",
       " {'Title': 'Origin (Robert Langdon, #5)',\n",
       "  'Author': 'Dan Brown',\n",
       "  'Score': '3.88',\n",
       "  'Num_ratings': '313174 ratings',\n",
       "  'Year_published': '2017'},\n",
       " {'Title': 'The Wife Between Us',\n",
       "  'Author': 'Greer Hendricks',\n",
       "  'Score': '3.85',\n",
       "  'Num_ratings': '353196 ratings',\n",
       "  'Year_published': '2018'},\n",
       " {'Title': 'The Kind Worth Killing (Henry Kimball/Lily Kintner, #1)',\n",
       "  'Author': 'Peter  Swanson',\n",
       "  'Score': '4.02',\n",
       "  'Num_ratings': '154352 ratings',\n",
       "  'Year_published': '2015'},\n",
       " {'Title': 'In a Dark, Dark Wood',\n",
       "  'Author': 'Ruth Ware',\n",
       "  'Score': '3.72',\n",
       "  'Num_ratings': '321596 ratings',\n",
       "  'Year_published': '2015'},\n",
       " {'Title': 'The Paris Apartment',\n",
       "  'Author': 'Lucy Foley',\n",
       "  'Score': '3.68',\n",
       "  'Num_ratings': '382722 ratings',\n",
       "  'Year_published': '2022'}]"
      ]
     },
     "execution_count": 314,
     "metadata": {},
     "output_type": "execute_result"
    }
   ],
   "source": [
    "book_info_dicts"
   ]
  },
  {
   "cell_type": "code",
   "execution_count": 315,
   "id": "4a1b37a9",
   "metadata": {},
   "outputs": [],
   "source": [
    "thriller_df = pd.DataFrame(book_info_dicts, index=ranks)"
   ]
  },
  {
   "cell_type": "code",
   "execution_count": 318,
   "id": "01376c20",
   "metadata": {
    "scrolled": true
   },
   "outputs": [
    {
     "data": {
      "text/html": [
       "<div>\n",
       "<style scoped>\n",
       "    .dataframe tbody tr th:only-of-type {\n",
       "        vertical-align: middle;\n",
       "    }\n",
       "\n",
       "    .dataframe tbody tr th {\n",
       "        vertical-align: top;\n",
       "    }\n",
       "\n",
       "    .dataframe thead th {\n",
       "        text-align: right;\n",
       "    }\n",
       "</style>\n",
       "<table border=\"1\" class=\"dataframe\">\n",
       "  <thead>\n",
       "    <tr style=\"text-align: right;\">\n",
       "      <th></th>\n",
       "      <th>Title</th>\n",
       "      <th>Author</th>\n",
       "      <th>Score</th>\n",
       "      <th>Num_ratings</th>\n",
       "      <th>Year_published</th>\n",
       "    </tr>\n",
       "  </thead>\n",
       "  <tbody>\n",
       "    <tr>\n",
       "      <th>8</th>\n",
       "      <td>Sharp Objects</td>\n",
       "      <td>Gillian Flynn</td>\n",
       "      <td>4.01</td>\n",
       "      <td>944094 ratings</td>\n",
       "      <td>2006</td>\n",
       "    </tr>\n",
       "    <tr>\n",
       "      <th>33</th>\n",
       "      <td>Jurassic Park (Jurassic Park, #1)</td>\n",
       "      <td>Michael Crichton</td>\n",
       "      <td>4.08</td>\n",
       "      <td>919613 ratings</td>\n",
       "      <td>1990</td>\n",
       "    </tr>\n",
       "    <tr>\n",
       "      <th>9</th>\n",
       "      <td>The Girl Who Played with Fire (Millennium, #2)</td>\n",
       "      <td>Stieg Larsson</td>\n",
       "      <td>4.25</td>\n",
       "      <td>896577 ratings</td>\n",
       "      <td>2006</td>\n",
       "    </tr>\n",
       "    <tr>\n",
       "      <th>11</th>\n",
       "      <td>The Guest List</td>\n",
       "      <td>Lucy Foley</td>\n",
       "      <td>3.83</td>\n",
       "      <td>828210 ratings</td>\n",
       "      <td>2020</td>\n",
       "    </tr>\n",
       "    <tr>\n",
       "      <th>31</th>\n",
       "      <td>One of Us Is Lying (One of Us is Lying, #1)</td>\n",
       "      <td>Karen M. McManus</td>\n",
       "      <td>3.96</td>\n",
       "      <td>725282 ratings</td>\n",
       "      <td>2017</td>\n",
       "    </tr>\n",
       "    <tr>\n",
       "      <th>10</th>\n",
       "      <td>The Woman in the Window</td>\n",
       "      <td>A.J. Finn</td>\n",
       "      <td>3.96</td>\n",
       "      <td>722432 ratings</td>\n",
       "      <td>2018</td>\n",
       "    </tr>\n",
       "    <tr>\n",
       "      <th>12</th>\n",
       "      <td>The Girl Who Kicked the Hornet's Nest (Millenn...</td>\n",
       "      <td>Stieg Larsson</td>\n",
       "      <td>4.23</td>\n",
       "      <td>714802 ratings</td>\n",
       "      <td>2007</td>\n",
       "    </tr>\n",
       "    <tr>\n",
       "      <th>13</th>\n",
       "      <td>Dark Places</td>\n",
       "      <td>Gillian Flynn</td>\n",
       "      <td>3.95</td>\n",
       "      <td>708116 ratings</td>\n",
       "      <td>2009</td>\n",
       "    </tr>\n",
       "    <tr>\n",
       "      <th>22</th>\n",
       "      <td>A Good Girl's Guide to Murder (A Good Girl's G...</td>\n",
       "      <td>Holly  Jackson</td>\n",
       "      <td>4.34</td>\n",
       "      <td>669271 ratings</td>\n",
       "      <td>2019</td>\n",
       "    </tr>\n",
       "    <tr>\n",
       "      <th>20</th>\n",
       "      <td>Deception Point</td>\n",
       "      <td>Dan Brown</td>\n",
       "      <td>3.75</td>\n",
       "      <td>652930 ratings</td>\n",
       "      <td>2001</td>\n",
       "    </tr>\n",
       "  </tbody>\n",
       "</table>\n",
       "</div>"
      ],
      "text/plain": [
       "                                                Title            Author Score  \\\n",
       "8                                       Sharp Objects     Gillian Flynn  4.01   \n",
       "33                  Jurassic Park (Jurassic Park, #1)  Michael Crichton  4.08   \n",
       "9      The Girl Who Played with Fire (Millennium, #2)     Stieg Larsson  4.25   \n",
       "11                                     The Guest List        Lucy Foley  3.83   \n",
       "31        One of Us Is Lying (One of Us is Lying, #1)  Karen M. McManus  3.96   \n",
       "10                            The Woman in the Window         A.J. Finn  3.96   \n",
       "12  The Girl Who Kicked the Hornet's Nest (Millenn...     Stieg Larsson  4.23   \n",
       "13                                        Dark Places     Gillian Flynn  3.95   \n",
       "22  A Good Girl's Guide to Murder (A Good Girl's G...    Holly  Jackson  4.34   \n",
       "20                                    Deception Point         Dan Brown  3.75   \n",
       "\n",
       "       Num_ratings Year_published  \n",
       "8   944094 ratings           2006  \n",
       "33  919613 ratings           1990  \n",
       "9   896577 ratings           2006  \n",
       "11  828210 ratings           2020  \n",
       "31  725282 ratings           2017  \n",
       "10  722432 ratings           2018  \n",
       "12  714802 ratings           2007  \n",
       "13  708116 ratings           2009  \n",
       "22  669271 ratings           2019  \n",
       "20  652930 ratings           2001  "
      ]
     },
     "execution_count": 318,
     "metadata": {},
     "output_type": "execute_result"
    }
   ],
   "source": [
    "thriller_df.sort_values('Num_ratings', ascending=False)[:10]"
   ]
  },
  {
   "cell_type": "code",
   "execution_count": 329,
   "id": "dc59cc10",
   "metadata": {},
   "outputs": [],
   "source": [
    "# thriller_df['Score'] = thriller_df['Score'].astype('float')\n",
    "# thriller_df.info()"
   ]
  },
  {
   "cell_type": "code",
   "execution_count": 330,
   "id": "337118c5",
   "metadata": {
    "scrolled": true
   },
   "outputs": [],
   "source": [
    "# thriller_df.groupby('Author')['Title'].count().sort_values(ascending=False)"
   ]
  },
  {
   "cell_type": "code",
   "execution_count": null,
   "id": "4e03449b",
   "metadata": {},
   "outputs": [],
   "source": []
  },
  {
   "cell_type": "code",
   "execution_count": 327,
   "id": "3afc3486",
   "metadata": {},
   "outputs": [],
   "source": [
    "# Helper functions\n",
    "def get_book_metadata(book_tag):\n",
    "    book_title = book_tag.find_all('a')[0]['title']\n",
    "    book_url = base_url + book_tag.find_all('a')[0]['href'] \n",
    "    \n",
    "    book_img = book_tag.find('img')['src']\n",
    "#     display(Image(book_img, width=70))\n",
    "\n",
    "    author_link = book_tag.find_all('a')[2]['href']\n",
    "    author_name = book_tag.find('span', itemprop=\"name\").text\n",
    "    \n",
    "    score, num_ratings, year_published = book_tag.find('span', class_=\"greyText smallText\").text.strip().split('\\n')\n",
    "    score = score.strip()[11:15]\n",
    "    num_ratings = \"\".join(num_ratings.strip().split(','))[:-3]\n",
    "    year_published = [x for x in year_published.strip().split() if x.isdigit()][0]\n",
    "    \n",
    "    book_info = {'Title': book_title,\n",
    "                 'Author': author_name,\n",
    "                 'Score': score,\n",
    "                 'Num_ratings': num_ratings,\n",
    "                 'Year_published': year_published}\n",
    "    \n",
    "    return book_info"
   ]
  },
  {
   "cell_type": "code",
   "execution_count": 328,
   "id": "ed61eb62",
   "metadata": {},
   "outputs": [],
   "source": [
    "def get_popular_books(genre):\n",
    "    url = genre_most_popular_dict[genre]\n",
    "    response = requests.get(url)\n",
    "    doc = BeautifulSoup(response.text, 'html.parser')\n",
    "    \n",
    "    book_tags = doc.find_all('div', class_=\"left\")\n",
    "    book_metadata_list = [get_book_metadata(tag) for tag in book_tags]\n",
    "    \n",
    "    ranks = [*range(1, len(book_tags)+1)]\n",
    "    genre_df = pd.DataFrame(book_metadata_list, index=ranks)\n",
    "    \n",
    "    return genre_df"
   ]
  },
  {
   "cell_type": "code",
   "execution_count": 331,
   "id": "67c723b7",
   "metadata": {},
   "outputs": [
    {
     "data": {
      "text/html": [
       "<div>\n",
       "<style scoped>\n",
       "    .dataframe tbody tr th:only-of-type {\n",
       "        vertical-align: middle;\n",
       "    }\n",
       "\n",
       "    .dataframe tbody tr th {\n",
       "        vertical-align: top;\n",
       "    }\n",
       "\n",
       "    .dataframe thead th {\n",
       "        text-align: right;\n",
       "    }\n",
       "</style>\n",
       "<table border=\"1\" class=\"dataframe\">\n",
       "  <thead>\n",
       "    <tr style=\"text-align: right;\">\n",
       "      <th></th>\n",
       "      <th>Title</th>\n",
       "      <th>Author</th>\n",
       "      <th>Score</th>\n",
       "      <th>Num_ratings</th>\n",
       "      <th>Year_published</th>\n",
       "    </tr>\n",
       "  </thead>\n",
       "  <tbody>\n",
       "    <tr>\n",
       "      <th>1</th>\n",
       "      <td>Death Note, Vol. 1: Boredom (Death Note, #1)</td>\n",
       "      <td>Tsugumi Ohba</td>\n",
       "      <td>4.46</td>\n",
       "      <td>280645 ratings</td>\n",
       "      <td>2004</td>\n",
       "    </tr>\n",
       "    <tr>\n",
       "      <th>2</th>\n",
       "      <td>Fruits Basket, Vol. 1</td>\n",
       "      <td>Natsuki Takaya</td>\n",
       "      <td>4.28</td>\n",
       "      <td>183465 ratings</td>\n",
       "      <td>1999</td>\n",
       "    </tr>\n",
       "    <tr>\n",
       "      <th>3</th>\n",
       "      <td>Fullmetal Alchemist, Vol. 1 (Fullmetal Alchemi...</td>\n",
       "      <td>Hiromu Arakawa</td>\n",
       "      <td>4.52</td>\n",
       "      <td>156136 ratings</td>\n",
       "      <td>2002</td>\n",
       "    </tr>\n",
       "    <tr>\n",
       "      <th>4</th>\n",
       "      <td>Attack on Titan, Vol. 1 (Attack on Titan, #1)</td>\n",
       "      <td>Hajime Isayama</td>\n",
       "      <td>4.47</td>\n",
       "      <td>220058 ratings</td>\n",
       "      <td>2010</td>\n",
       "    </tr>\n",
       "    <tr>\n",
       "      <th>5</th>\n",
       "      <td>Black Butler, Vol. 1 (Black Butler, #1)</td>\n",
       "      <td>Yana Toboso</td>\n",
       "      <td>4.36</td>\n",
       "      <td>126353 ratings</td>\n",
       "      <td>2007</td>\n",
       "    </tr>\n",
       "    <tr>\n",
       "      <th>6</th>\n",
       "      <td>Naruto, Vol. 1: Uzumaki Naruto (Naruto, #1)</td>\n",
       "      <td>Masashi Kishimoto</td>\n",
       "      <td>4.41</td>\n",
       "      <td>196292 ratings</td>\n",
       "      <td>1999</td>\n",
       "    </tr>\n",
       "    <tr>\n",
       "      <th>7</th>\n",
       "      <td>Bleach, Vol. 1 (Bleach, #1)</td>\n",
       "      <td>Tite Kubo</td>\n",
       "      <td>4.25</td>\n",
       "      <td>170347 ratings</td>\n",
       "      <td>2002</td>\n",
       "    </tr>\n",
       "    <tr>\n",
       "      <th>8</th>\n",
       "      <td>Ouran High School Host Club, Vol. 1 (Ouran Hig...</td>\n",
       "      <td>Bisco Hatori</td>\n",
       "      <td>4.38</td>\n",
       "      <td>173371 ratings</td>\n",
       "      <td>2003</td>\n",
       "    </tr>\n",
       "    <tr>\n",
       "      <th>9</th>\n",
       "      <td>Confluence (Death Note, #2)</td>\n",
       "      <td>Tsugumi Ohba</td>\n",
       "      <td>4.47</td>\n",
       "      <td>48130 ratings</td>\n",
       "      <td>2004</td>\n",
       "    </tr>\n",
       "    <tr>\n",
       "      <th>10</th>\n",
       "      <td>My Hero Academia, Vol. 1</td>\n",
       "      <td>Kohei Horikoshi</td>\n",
       "      <td>4.38</td>\n",
       "      <td>107577 ratings</td>\n",
       "      <td>2014</td>\n",
       "    </tr>\n",
       "    <tr>\n",
       "      <th>11</th>\n",
       "      <td>Chainsaw Man, Vol. 1: Dog and Chainsaw</td>\n",
       "      <td>Tatsuki Fujimoto</td>\n",
       "      <td>4.39</td>\n",
       "      <td>60102 ratings</td>\n",
       "      <td>2019</td>\n",
       "    </tr>\n",
       "    <tr>\n",
       "      <th>12</th>\n",
       "      <td>Vampire Knight, Vol. 1 (Vampire Knight, #1)</td>\n",
       "      <td>Matsuri Hino</td>\n",
       "      <td>4.08</td>\n",
       "      <td>125762 ratings</td>\n",
       "      <td>2005</td>\n",
       "    </tr>\n",
       "    <tr>\n",
       "      <th>13</th>\n",
       "      <td>One Piece, Volume 1: Romance Dawn (One Piece, #1)</td>\n",
       "      <td>Eiichiro Oda</td>\n",
       "      <td>4.47</td>\n",
       "      <td>126725 ratings</td>\n",
       "      <td>1997</td>\n",
       "    </tr>\n",
       "    <tr>\n",
       "      <th>14</th>\n",
       "      <td>Death Note, Vol. 3: Hard Run (Death Note, #3)</td>\n",
       "      <td>Tsugumi Ohba</td>\n",
       "      <td>4.45</td>\n",
       "      <td>35444 ratings</td>\n",
       "      <td>2004</td>\n",
       "    </tr>\n",
       "    <tr>\n",
       "      <th>15</th>\n",
       "      <td>Attack on Titan, Vol. 3 (Attack on Titan, #3)</td>\n",
       "      <td>Hajime Isayama</td>\n",
       "      <td>4.46</td>\n",
       "      <td>30966 ratings</td>\n",
       "      <td>2010</td>\n",
       "    </tr>\n",
       "    <tr>\n",
       "      <th>16</th>\n",
       "      <td>Death Note, Vol. 4: Love (Death Note, #4)</td>\n",
       "      <td>Tsugumi Ohba</td>\n",
       "      <td>4.42</td>\n",
       "      <td>35960 ratings</td>\n",
       "      <td>2004</td>\n",
       "    </tr>\n",
       "    <tr>\n",
       "      <th>17</th>\n",
       "      <td>Fairy Tail, Vol. 01 (Fairy Tail, #1)</td>\n",
       "      <td>Hiro Mashima</td>\n",
       "      <td>4.36</td>\n",
       "      <td>113825 ratings</td>\n",
       "      <td>2006</td>\n",
       "    </tr>\n",
       "    <tr>\n",
       "      <th>18</th>\n",
       "      <td>Tokyo Ghoul, Tome 1 (Tokyo Ghoul, #1)</td>\n",
       "      <td>Sui Ishida</td>\n",
       "      <td>4.42</td>\n",
       "      <td>132401 ratings</td>\n",
       "      <td>2012</td>\n",
       "    </tr>\n",
       "    <tr>\n",
       "      <th>19</th>\n",
       "      <td>SPY×FAMILY 2 (SPY×FAMILY, #2)</td>\n",
       "      <td>Tatsuya Endo</td>\n",
       "      <td>4.57</td>\n",
       "      <td>35998 ratings</td>\n",
       "      <td>2019</td>\n",
       "    </tr>\n",
       "    <tr>\n",
       "      <th>20</th>\n",
       "      <td>Death Note, Vol. 5: Whiteout (Death Note, #5)</td>\n",
       "      <td>Tsugumi Ohba</td>\n",
       "      <td>4.32</td>\n",
       "      <td>27787 ratings</td>\n",
       "      <td>2005</td>\n",
       "    </tr>\n",
       "    <tr>\n",
       "      <th>21</th>\n",
       "      <td>Fruits Basket, Vol. 3</td>\n",
       "      <td>Natsuki Takaya</td>\n",
       "      <td>4.39</td>\n",
       "      <td>19621 ratings</td>\n",
       "      <td>1999</td>\n",
       "    </tr>\n",
       "    <tr>\n",
       "      <th>22</th>\n",
       "      <td>Fruits Basket, Vol. 4</td>\n",
       "      <td>Natsuki Takaya</td>\n",
       "      <td>4.41</td>\n",
       "      <td>19867 ratings</td>\n",
       "      <td>2000</td>\n",
       "    </tr>\n",
       "    <tr>\n",
       "      <th>23</th>\n",
       "      <td>Death Note, Vol. 6: Give-and-Take (Death Note,...</td>\n",
       "      <td>Tsugumi Ohba</td>\n",
       "      <td>4.39</td>\n",
       "      <td>25830 ratings</td>\n",
       "      <td>2005</td>\n",
       "    </tr>\n",
       "    <tr>\n",
       "      <th>24</th>\n",
       "      <td>Nana, Vol. 1</td>\n",
       "      <td>Ai Yazawa</td>\n",
       "      <td>4.32</td>\n",
       "      <td>50229 ratings</td>\n",
       "      <td>2000</td>\n",
       "    </tr>\n",
       "    <tr>\n",
       "      <th>25</th>\n",
       "      <td>鬼滅の刃 1 [Kimetsu no Yaiba 1]</td>\n",
       "      <td>Koyoharu Gotouge</td>\n",
       "      <td>4.52</td>\n",
       "      <td>80733 ratings</td>\n",
       "      <td>2016</td>\n",
       "    </tr>\n",
       "    <tr>\n",
       "      <th>26</th>\n",
       "      <td>Spy×Family 3 (SpyxFamily, #3)</td>\n",
       "      <td>Tatsuya Endo</td>\n",
       "      <td>4.54</td>\n",
       "      <td>28984 ratings</td>\n",
       "      <td>2020</td>\n",
       "    </tr>\n",
       "    <tr>\n",
       "      <th>27</th>\n",
       "      <td>Fruits Basket, Vol. 5</td>\n",
       "      <td>Natsuki Takaya</td>\n",
       "      <td>4.41</td>\n",
       "      <td>18062 ratings</td>\n",
       "      <td>2000</td>\n",
       "    </tr>\n",
       "    <tr>\n",
       "      <th>28</th>\n",
       "      <td>進撃の巨人 7 [Shingeki no Kyojin 7] (Attack on Tita...</td>\n",
       "      <td>Hajime Isayama</td>\n",
       "      <td>4.52</td>\n",
       "      <td>18042 ratings</td>\n",
       "      <td>2012</td>\n",
       "    </tr>\n",
       "    <tr>\n",
       "      <th>29</th>\n",
       "      <td>Spy×Family, Vol. 1 (Spy×Family, #1)</td>\n",
       "      <td>Tatsuya Endo</td>\n",
       "      <td>4.50</td>\n",
       "      <td>98773 ratings</td>\n",
       "      <td>2019</td>\n",
       "    </tr>\n",
       "    <tr>\n",
       "      <th>30</th>\n",
       "      <td>Spy×Family, Vol. 1 (Spy×Family, #1)</td>\n",
       "      <td>Tatsuya Endo</td>\n",
       "      <td>4.50</td>\n",
       "      <td>98773 ratings</td>\n",
       "      <td>2019</td>\n",
       "    </tr>\n",
       "    <tr>\n",
       "      <th>31</th>\n",
       "      <td>Fruits Basket, Vol. 2</td>\n",
       "      <td>Natsuki Takaya</td>\n",
       "      <td>4.38</td>\n",
       "      <td>21961 ratings</td>\n",
       "      <td>1999</td>\n",
       "    </tr>\n",
       "    <tr>\n",
       "      <th>32</th>\n",
       "      <td>Fruits Basket, Vol. 6</td>\n",
       "      <td>Natsuki Takaya</td>\n",
       "      <td>4.46</td>\n",
       "      <td>18663 ratings</td>\n",
       "      <td>2000</td>\n",
       "    </tr>\n",
       "    <tr>\n",
       "      <th>33</th>\n",
       "      <td>Death Note, Vol. 8: Target (Death Note, #8)</td>\n",
       "      <td>Tsugumi Ohba</td>\n",
       "      <td>4.24</td>\n",
       "      <td>23064 ratings</td>\n",
       "      <td>2005</td>\n",
       "    </tr>\n",
       "    <tr>\n",
       "      <th>34</th>\n",
       "      <td>ワンパンマン 1 一撃 [One Punch Man 1: Ichigeki]</td>\n",
       "      <td>ONE</td>\n",
       "      <td>4.49</td>\n",
       "      <td>65581 ratings</td>\n",
       "      <td>2012</td>\n",
       "    </tr>\n",
       "    <tr>\n",
       "      <th>35</th>\n",
       "      <td>Fruits Basket, Vol. 8</td>\n",
       "      <td>Natsuki Takaya</td>\n",
       "      <td>4.43</td>\n",
       "      <td>16704 ratings</td>\n",
       "      <td>2002</td>\n",
       "    </tr>\n",
       "    <tr>\n",
       "      <th>36</th>\n",
       "      <td>呪術廻戦 1 (Jujutsu Kaisen, #1)</td>\n",
       "      <td>Gege Akutami</td>\n",
       "      <td>4.54</td>\n",
       "      <td>38626 ratings</td>\n",
       "      <td>2018</td>\n",
       "    </tr>\n",
       "    <tr>\n",
       "      <th>37</th>\n",
       "      <td>Death Note, Vol. 7: Zero (Death Note, #7)</td>\n",
       "      <td>Tsugumi Ohba</td>\n",
       "      <td>4.44</td>\n",
       "      <td>26503 ratings</td>\n",
       "      <td>2005</td>\n",
       "    </tr>\n",
       "    <tr>\n",
       "      <th>38</th>\n",
       "      <td>Fruits Basket, Vol. 11</td>\n",
       "      <td>Natsuki Takaya</td>\n",
       "      <td>4.47</td>\n",
       "      <td>15448 ratings</td>\n",
       "      <td>2003</td>\n",
       "    </tr>\n",
       "    <tr>\n",
       "      <th>39</th>\n",
       "      <td>チェンソーマン 2 [Chainsaw Man 2]</td>\n",
       "      <td>Tatsuki Fujimoto</td>\n",
       "      <td>4.30</td>\n",
       "      <td>24362 ratings</td>\n",
       "      <td>2019</td>\n",
       "    </tr>\n",
       "    <tr>\n",
       "      <th>40</th>\n",
       "      <td>Skip Beat!, Vol. 1</td>\n",
       "      <td>Yoshiki Nakamura</td>\n",
       "      <td>4.26</td>\n",
       "      <td>59902 ratings</td>\n",
       "      <td>2002</td>\n",
       "    </tr>\n",
       "    <tr>\n",
       "      <th>41</th>\n",
       "      <td>Kimi ni Todoke: From Me to You, Vol. 1</td>\n",
       "      <td>Karuho Shiina</td>\n",
       "      <td>4.28</td>\n",
       "      <td>58211 ratings</td>\n",
       "      <td>2006</td>\n",
       "    </tr>\n",
       "    <tr>\n",
       "      <th>42</th>\n",
       "      <td>ハイキュー!! 1 [Haikyū!! 1]</td>\n",
       "      <td>Haruichi Furudate</td>\n",
       "      <td>4.58</td>\n",
       "      <td>43192 ratings</td>\n",
       "      <td>2012</td>\n",
       "    </tr>\n",
       "    <tr>\n",
       "      <th>43</th>\n",
       "      <td>Tokyo Ghoul, Tome 1 (Tokyo Ghoul, #1)</td>\n",
       "      <td>Sui Ishida</td>\n",
       "      <td>4.42</td>\n",
       "      <td>132401 ratings</td>\n",
       "      <td>2012</td>\n",
       "    </tr>\n",
       "    <tr>\n",
       "      <th>44</th>\n",
       "      <td>Ouran High School Host Club, Vol. 2 (Ouran Hig...</td>\n",
       "      <td>Bisco Hatori</td>\n",
       "      <td>4.44</td>\n",
       "      <td>20147 ratings</td>\n",
       "      <td>2003</td>\n",
       "    </tr>\n",
       "    <tr>\n",
       "      <th>45</th>\n",
       "      <td>Black Butler, Vol. 2 (Black Butler, #2)</td>\n",
       "      <td>Yana Toboso</td>\n",
       "      <td>4.46</td>\n",
       "      <td>30905 ratings</td>\n",
       "      <td>2007</td>\n",
       "    </tr>\n",
       "    <tr>\n",
       "      <th>46</th>\n",
       "      <td>Fruits Basket, Vol. 14</td>\n",
       "      <td>Natsuki Takaya</td>\n",
       "      <td>4.47</td>\n",
       "      <td>16124 ratings</td>\n",
       "      <td>2004</td>\n",
       "    </tr>\n",
       "    <tr>\n",
       "      <th>47</th>\n",
       "      <td>Fruits Basket, Vol. 13</td>\n",
       "      <td>Natsuki Takaya</td>\n",
       "      <td>4.45</td>\n",
       "      <td>17000 ratings</td>\n",
       "      <td>2003</td>\n",
       "    </tr>\n",
       "    <tr>\n",
       "      <th>48</th>\n",
       "      <td>チェンソーマン 3 [Chainsaw Man 3]</td>\n",
       "      <td>Tatsuki Fujimoto</td>\n",
       "      <td>4.34</td>\n",
       "      <td>19140 ratings</td>\n",
       "      <td>2019</td>\n",
       "    </tr>\n",
       "    <tr>\n",
       "      <th>49</th>\n",
       "      <td>Tsubasa: RESERVoir CHRoNiCLE, Vol. 1</td>\n",
       "      <td>CLAMP</td>\n",
       "      <td>4.13</td>\n",
       "      <td>42006 ratings</td>\n",
       "      <td>2003</td>\n",
       "    </tr>\n",
       "    <tr>\n",
       "      <th>50</th>\n",
       "      <td>僕のヒーローアカデミア 2 [Boku No Hero Academia 2]</td>\n",
       "      <td>Kohei Horikoshi</td>\n",
       "      <td>4.47</td>\n",
       "      <td>29056 ratings</td>\n",
       "      <td>2015</td>\n",
       "    </tr>\n",
       "  </tbody>\n",
       "</table>\n",
       "</div>"
      ],
      "text/plain": [
       "                                                Title             Author  \\\n",
       "1        Death Note, Vol. 1: Boredom (Death Note, #1)       Tsugumi Ohba   \n",
       "2                               Fruits Basket, Vol. 1     Natsuki Takaya   \n",
       "3   Fullmetal Alchemist, Vol. 1 (Fullmetal Alchemi...     Hiromu Arakawa   \n",
       "4       Attack on Titan, Vol. 1 (Attack on Titan, #1)     Hajime Isayama   \n",
       "5             Black Butler, Vol. 1 (Black Butler, #1)        Yana Toboso   \n",
       "6         Naruto, Vol. 1: Uzumaki Naruto (Naruto, #1)  Masashi Kishimoto   \n",
       "7                         Bleach, Vol. 1 (Bleach, #1)          Tite Kubo   \n",
       "8   Ouran High School Host Club, Vol. 1 (Ouran Hig...       Bisco Hatori   \n",
       "9                         Confluence (Death Note, #2)       Tsugumi Ohba   \n",
       "10                           My Hero Academia, Vol. 1    Kohei Horikoshi   \n",
       "11             Chainsaw Man, Vol. 1: Dog and Chainsaw   Tatsuki Fujimoto   \n",
       "12        Vampire Knight, Vol. 1 (Vampire Knight, #1)       Matsuri Hino   \n",
       "13  One Piece, Volume 1: Romance Dawn (One Piece, #1)       Eiichiro Oda   \n",
       "14      Death Note, Vol. 3: Hard Run (Death Note, #3)       Tsugumi Ohba   \n",
       "15      Attack on Titan, Vol. 3 (Attack on Titan, #3)     Hajime Isayama   \n",
       "16          Death Note, Vol. 4: Love (Death Note, #4)       Tsugumi Ohba   \n",
       "17               Fairy Tail, Vol. 01 (Fairy Tail, #1)       Hiro Mashima   \n",
       "18              Tokyo Ghoul, Tome 1 (Tokyo Ghoul, #1)         Sui Ishida   \n",
       "19                      SPY×FAMILY 2 (SPY×FAMILY, #2)       Tatsuya Endo   \n",
       "20      Death Note, Vol. 5: Whiteout (Death Note, #5)       Tsugumi Ohba   \n",
       "21                              Fruits Basket, Vol. 3     Natsuki Takaya   \n",
       "22                              Fruits Basket, Vol. 4     Natsuki Takaya   \n",
       "23  Death Note, Vol. 6: Give-and-Take (Death Note,...       Tsugumi Ohba   \n",
       "24                                       Nana, Vol. 1          Ai Yazawa   \n",
       "25                        鬼滅の刃 1 [Kimetsu no Yaiba 1]   Koyoharu Gotouge   \n",
       "26                      Spy×Family 3 (SpyxFamily, #3)       Tatsuya Endo   \n",
       "27                              Fruits Basket, Vol. 5     Natsuki Takaya   \n",
       "28  進撃の巨人 7 [Shingeki no Kyojin 7] (Attack on Tita...     Hajime Isayama   \n",
       "29                Spy×Family, Vol. 1 (Spy×Family, #1)       Tatsuya Endo   \n",
       "30                Spy×Family, Vol. 1 (Spy×Family, #1)       Tatsuya Endo   \n",
       "31                              Fruits Basket, Vol. 2     Natsuki Takaya   \n",
       "32                              Fruits Basket, Vol. 6     Natsuki Takaya   \n",
       "33        Death Note, Vol. 8: Target (Death Note, #8)       Tsugumi Ohba   \n",
       "34            ワンパンマン 1 一撃 [One Punch Man 1: Ichigeki]                ONE   \n",
       "35                              Fruits Basket, Vol. 8     Natsuki Takaya   \n",
       "36                        呪術廻戦 1 (Jujutsu Kaisen, #1)       Gege Akutami   \n",
       "37          Death Note, Vol. 7: Zero (Death Note, #7)       Tsugumi Ohba   \n",
       "38                             Fruits Basket, Vol. 11     Natsuki Takaya   \n",
       "39                         チェンソーマン 2 [Chainsaw Man 2]   Tatsuki Fujimoto   \n",
       "40                                 Skip Beat!, Vol. 1   Yoshiki Nakamura   \n",
       "41             Kimi ni Todoke: From Me to You, Vol. 1      Karuho Shiina   \n",
       "42                             ハイキュー!! 1 [Haikyū!! 1]  Haruichi Furudate   \n",
       "43              Tokyo Ghoul, Tome 1 (Tokyo Ghoul, #1)         Sui Ishida   \n",
       "44  Ouran High School Host Club, Vol. 2 (Ouran Hig...       Bisco Hatori   \n",
       "45            Black Butler, Vol. 2 (Black Butler, #2)        Yana Toboso   \n",
       "46                             Fruits Basket, Vol. 14     Natsuki Takaya   \n",
       "47                             Fruits Basket, Vol. 13     Natsuki Takaya   \n",
       "48                         チェンソーマン 3 [Chainsaw Man 3]   Tatsuki Fujimoto   \n",
       "49               Tsubasa: RESERVoir CHRoNiCLE, Vol. 1              CLAMP   \n",
       "50            僕のヒーローアカデミア 2 [Boku No Hero Academia 2]    Kohei Horikoshi   \n",
       "\n",
       "   Score     Num_ratings Year_published  \n",
       "1   4.46  280645 ratings           2004  \n",
       "2   4.28  183465 ratings           1999  \n",
       "3   4.52  156136 ratings           2002  \n",
       "4   4.47  220058 ratings           2010  \n",
       "5   4.36  126353 ratings           2007  \n",
       "6   4.41  196292 ratings           1999  \n",
       "7   4.25  170347 ratings           2002  \n",
       "8   4.38  173371 ratings           2003  \n",
       "9   4.47   48130 ratings           2004  \n",
       "10  4.38  107577 ratings           2014  \n",
       "11  4.39   60102 ratings           2019  \n",
       "12  4.08  125762 ratings           2005  \n",
       "13  4.47  126725 ratings           1997  \n",
       "14  4.45   35444 ratings           2004  \n",
       "15  4.46   30966 ratings           2010  \n",
       "16  4.42   35960 ratings           2004  \n",
       "17  4.36  113825 ratings           2006  \n",
       "18  4.42  132401 ratings           2012  \n",
       "19  4.57   35998 ratings           2019  \n",
       "20  4.32   27787 ratings           2005  \n",
       "21  4.39   19621 ratings           1999  \n",
       "22  4.41   19867 ratings           2000  \n",
       "23  4.39   25830 ratings           2005  \n",
       "24  4.32   50229 ratings           2000  \n",
       "25  4.52   80733 ratings           2016  \n",
       "26  4.54   28984 ratings           2020  \n",
       "27  4.41   18062 ratings           2000  \n",
       "28  4.52   18042 ratings           2012  \n",
       "29  4.50   98773 ratings           2019  \n",
       "30  4.50   98773 ratings           2019  \n",
       "31  4.38   21961 ratings           1999  \n",
       "32  4.46   18663 ratings           2000  \n",
       "33  4.24   23064 ratings           2005  \n",
       "34  4.49   65581 ratings           2012  \n",
       "35  4.43   16704 ratings           2002  \n",
       "36  4.54   38626 ratings           2018  \n",
       "37  4.44   26503 ratings           2005  \n",
       "38  4.47   15448 ratings           2003  \n",
       "39  4.30   24362 ratings           2019  \n",
       "40  4.26   59902 ratings           2002  \n",
       "41  4.28   58211 ratings           2006  \n",
       "42  4.58   43192 ratings           2012  \n",
       "43  4.42  132401 ratings           2012  \n",
       "44  4.44   20147 ratings           2003  \n",
       "45  4.46   30905 ratings           2007  \n",
       "46  4.47   16124 ratings           2004  \n",
       "47  4.45   17000 ratings           2003  \n",
       "48  4.34   19140 ratings           2019  \n",
       "49  4.13   42006 ratings           2003  \n",
       "50  4.47   29056 ratings           2015  "
      ]
     },
     "execution_count": 331,
     "metadata": {},
     "output_type": "execute_result"
    }
   ],
   "source": [
    "get_popular_books(genre='Manga')"
   ]
  },
  {
   "cell_type": "code",
   "execution_count": null,
   "id": "c64ba48d",
   "metadata": {},
   "outputs": [],
   "source": []
  }
 ],
 "metadata": {
  "kernelspec": {
   "display_name": "Python 3 (ipykernel)",
   "language": "python",
   "name": "python3"
  },
  "language_info": {
   "codemirror_mode": {
    "name": "ipython",
    "version": 3
   },
   "file_extension": ".py",
   "mimetype": "text/x-python",
   "name": "python",
   "nbconvert_exporter": "python",
   "pygments_lexer": "ipython3",
   "version": "3.9.13"
  }
 },
 "nbformat": 4,
 "nbformat_minor": 5
}
