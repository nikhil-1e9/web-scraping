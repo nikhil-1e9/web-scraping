{
 "cells": [
  {
   "cell_type": "code",
   "execution_count": null,
   "id": "a9c2a748",
   "metadata": {},
   "outputs": [],
   "source": []
  },
  {
   "cell_type": "code",
   "execution_count": 1,
   "id": "fe30c428",
   "metadata": {},
   "outputs": [],
   "source": [
    "import requests\n",
    "import os\n",
    "from bs4 import BeautifulSoup\n",
    "import pandas as pd\n",
    "\n",
    "from IPython.display import display, Image"
   ]
  },
  {
   "cell_type": "code",
   "execution_count": 2,
   "id": "eef64f93",
   "metadata": {},
   "outputs": [],
   "source": [
    "base_url = \"https://www.goodreads.com\"\n",
    "genres_url = \"https://www.goodreads.com/genres\""
   ]
  },
  {
   "cell_type": "code",
   "execution_count": 10,
   "id": "5219866e",
   "metadata": {},
   "outputs": [
    {
     "data": {
      "text/plain": [
       "200"
      ]
     },
     "execution_count": 10,
     "metadata": {},
     "output_type": "execute_result"
    }
   ],
   "source": [
    "response = requests.get(genres_url)\n",
    "response.status_code"
   ]
  },
  {
   "cell_type": "markdown",
   "id": "c2d4c9a0",
   "metadata": {},
   "source": [
    "# Initial exploration"
   ]
  },
  {
   "cell_type": "markdown",
   "id": "367f2d0f",
   "metadata": {},
   "source": [
    "First I will extract the genres of the books from the genres page"
   ]
  },
  {
   "cell_type": "code",
   "execution_count": 11,
   "id": "c2a9284c",
   "metadata": {},
   "outputs": [],
   "source": [
    "doc = BeautifulSoup(response.text, 'html.parser')"
   ]
  },
  {
   "cell_type": "code",
   "execution_count": 12,
   "id": "40522e2b",
   "metadata": {},
   "outputs": [],
   "source": [
    "genre_tags = doc.find_all('div', class_=\"rightContainer\")[0].find_all('a')"
   ]
  },
  {
   "cell_type": "code",
   "execution_count": 16,
   "id": "5c33606e",
   "metadata": {},
   "outputs": [],
   "source": [
    "genre_names = [tag.text for tag in genre_tags][1:-1]\n",
    "genre_links = [tag['href'] for tag in genre_tags][1:-1]"
   ]
  },
  {
   "cell_type": "code",
   "execution_count": 17,
   "id": "30d2c5f1",
   "metadata": {},
   "outputs": [
    {
     "data": {
      "text/plain": [
       "(['/genres/art',\n",
       "  '/genres/biography',\n",
       "  '/genres/business',\n",
       "  '/genres/chick-lit',\n",
       "  '/genres/children-s'],\n",
       " ['Art', 'Biography', 'Business', 'Chick Lit', \"Children's\"])"
      ]
     },
     "execution_count": 17,
     "metadata": {},
     "output_type": "execute_result"
    }
   ],
   "source": [
    "genre_links[:5], genre_names[:5]"
   ]
  },
  {
   "cell_type": "markdown",
   "id": "d9f154bb",
   "metadata": {},
   "source": [
    "Now I will append these genre links to the base url link which will help in extracting the most popular books of each genre. I will be using a dictionary to easily store them where the genre_names will be the keys and genre links will be the values for the dictionary."
   ]
  },
  {
   "cell_type": "code",
   "execution_count": 18,
   "id": "04606709",
   "metadata": {},
   "outputs": [],
   "source": [
    "# genre_links_dict = {name: base_url + link for (name, link) in zip(genre_names, genre_links)}\n",
    "# genre_links_dict"
   ]
  },
  {
   "cell_type": "code",
   "execution_count": 19,
   "id": "f10e62d8",
   "metadata": {},
   "outputs": [
    {
     "data": {
      "text/plain": [
       "40"
      ]
     },
     "execution_count": 19,
     "metadata": {},
     "output_type": "execute_result"
    }
   ],
   "source": [
    "len(genre_links)"
   ]
  },
  {
   "cell_type": "markdown",
   "id": "9e32f0fd",
   "metadata": {},
   "source": [
    "By visiting the art genre page, it looks like the page contains the newly released books, giveaways books and the most popular books. I am interested about the most popular ones but on the page there are only limited amount of books shown so clicking on *more books* another page opened which include the full list of the most read/popular books of the art genre. This page is the most useful for my analysis. "
   ]
  },
  {
   "cell_type": "markdown",
   "id": "582238f3",
   "metadata": {},
   "source": [
    "So, now let's start with art genre and look at the html for this page"
   ]
  },
  {
   "cell_type": "markdown",
   "id": "189d15f8",
   "metadata": {},
   "source": [
    "Now let's update the genre links dict to account for the most read books"
   ]
  },
  {
   "cell_type": "code",
   "execution_count": 20,
   "id": "5cb4535c",
   "metadata": {},
   "outputs": [],
   "source": [
    "genre_links_dict = {name: genres_url + \"/most_read\" + link[7:] for (name, link) in zip(genre_names, genre_links)}"
   ]
  },
  {
   "cell_type": "code",
   "execution_count": 21,
   "id": "24575400",
   "metadata": {
    "scrolled": false
   },
   "outputs": [
    {
     "data": {
      "text/plain": [
       "{'Art': 'https://www.goodreads.com/genres/most_read/art',\n",
       " 'Biography': 'https://www.goodreads.com/genres/most_read/biography',\n",
       " 'Business': 'https://www.goodreads.com/genres/most_read/business',\n",
       " 'Chick Lit': 'https://www.goodreads.com/genres/most_read/chick-lit',\n",
       " \"Children's\": 'https://www.goodreads.com/genres/most_read/children-s',\n",
       " 'Christian': 'https://www.goodreads.com/genres/most_read/christian',\n",
       " 'Classics': 'https://www.goodreads.com/genres/most_read/classics',\n",
       " 'Comics': 'https://www.goodreads.com/genres/most_read/comics',\n",
       " 'Contemporary': 'https://www.goodreads.com/genres/most_read/contemporary',\n",
       " 'Cookbooks': 'https://www.goodreads.com/genres/most_read/cookbooks',\n",
       " 'Crime': 'https://www.goodreads.com/genres/most_read/crime',\n",
       " 'Ebooks': 'https://www.goodreads.com/genres/most_read/ebooks',\n",
       " 'Fantasy': 'https://www.goodreads.com/genres/most_read/fantasy',\n",
       " 'Fiction': 'https://www.goodreads.com/genres/most_read/fiction',\n",
       " 'Gay and Lesbian': 'https://www.goodreads.com/genres/most_read/gay-and-lesbian',\n",
       " 'Graphic Novels': 'https://www.goodreads.com/genres/most_read/graphic-novels',\n",
       " 'Historical Fiction': 'https://www.goodreads.com/genres/most_read/historical-fiction',\n",
       " 'History': 'https://www.goodreads.com/genres/most_read/history',\n",
       " 'Horror': 'https://www.goodreads.com/genres/most_read/horror',\n",
       " 'Humor and Comedy': 'https://www.goodreads.com/genres/most_read/humor-and-comedy',\n",
       " 'Manga': 'https://www.goodreads.com/genres/most_read/manga',\n",
       " 'Memoir': 'https://www.goodreads.com/genres/most_read/memoir',\n",
       " 'Music': 'https://www.goodreads.com/genres/most_read/music',\n",
       " 'Mystery': 'https://www.goodreads.com/genres/most_read/mystery',\n",
       " 'Nonfiction': 'https://www.goodreads.com/genres/most_read/non-fiction',\n",
       " 'Paranormal': 'https://www.goodreads.com/genres/most_read/paranormal',\n",
       " 'Philosophy': 'https://www.goodreads.com/genres/most_read/philosophy',\n",
       " 'Poetry': 'https://www.goodreads.com/genres/most_read/poetry',\n",
       " 'Psychology': 'https://www.goodreads.com/genres/most_read/psychology',\n",
       " 'Religion': 'https://www.goodreads.com/genres/most_read/religion',\n",
       " 'Romance': 'https://www.goodreads.com/genres/most_read/romance',\n",
       " 'Science': 'https://www.goodreads.com/genres/most_read/science',\n",
       " 'Science Fiction': 'https://www.goodreads.com/genres/most_read/science-fiction',\n",
       " 'Self Help': 'https://www.goodreads.com/genres/most_read/self-help',\n",
       " 'Suspense': 'https://www.goodreads.com/genres/most_read/suspense',\n",
       " 'Spirituality': 'https://www.goodreads.com/genres/most_read/spirituality',\n",
       " 'Sports': 'https://www.goodreads.com/genres/most_read/sports',\n",
       " 'Thriller': 'https://www.goodreads.com/genres/most_read/thriller',\n",
       " 'Travel': 'https://www.goodreads.com/genres/most_read/travel',\n",
       " 'Young Adult': 'https://www.goodreads.com/genres/most_read/young-adult'}"
      ]
     },
     "execution_count": 21,
     "metadata": {},
     "output_type": "execute_result"
    }
   ],
   "source": [
    "genre_links_dict"
   ]
  },
  {
   "cell_type": "markdown",
   "id": "197b0e12",
   "metadata": {},
   "source": [
    "This looks kinda neat."
   ]
  },
  {
   "cell_type": "code",
   "execution_count": 25,
   "id": "46ab4877",
   "metadata": {},
   "outputs": [],
   "source": [
    "response = requests.get(genre_links_dict['Crime'])\n",
    "crime_doc = BeautifulSoup(response.text, 'html.parser')"
   ]
  },
  {
   "cell_type": "markdown",
   "id": "2f0cfa87",
   "metadata": {},
   "source": [
    "On inspecting I found that the coverWrapper class contains the book info such as the link to the book page, its title and image."
   ]
  },
  {
   "cell_type": "code",
   "execution_count": 210,
   "id": "5daaeb93",
   "metadata": {},
   "outputs": [],
   "source": [
    "book_link = crime_doc.find_all('div', class_='coverWrapper')[99].a['href']\n",
    "book_title = crime_doc.find_all('div', class_='coverWrapper')[99].img['alt']\n",
    "book_img = crime_doc.find_all('div', class_='coverWrapper')[99].img['src']"
   ]
  },
  {
   "cell_type": "code",
   "execution_count": 211,
   "id": "2d483c5d",
   "metadata": {},
   "outputs": [
    {
     "name": "stdout",
     "output_type": "stream",
     "text": [
      "The Woman in the Window\n"
     ]
    },
    {
     "data": {
      "image/jpeg": "[encoded data removed]",
      "text/plain": [
       "<IPython.core.display.Image object>"
      ]
     },
     "metadata": {
      "image/jpeg": {
       "width": 100
      }
     },
     "output_type": "display_data"
    }
   ],
   "source": [
    "print(book_title)\n",
    "display(Image(book_img, width=100))"
   ]
  },
  {
   "cell_type": "markdown",
   "id": "fff39596",
   "metadata": {},
   "source": [
    "Let's go to the book page to find out more about the book"
   ]
  },
  {
   "cell_type": "code",
   "execution_count": 32,
   "id": "43f5e3e2",
   "metadata": {},
   "outputs": [
    {
     "data": {
      "text/plain": [
       "'https://www.goodreads.com/book/show/53450790-the-perfect-marriage'"
      ]
     },
     "execution_count": 32,
     "metadata": {},
     "output_type": "execute_result"
    }
   ],
   "source": [
    "book_url = base_url + book_link\n",
    "book_url"
   ]
  },
  {
   "cell_type": "code",
   "execution_count": 33,
   "id": "373f7852",
   "metadata": {},
   "outputs": [],
   "source": [
    "response = requests.get(book_url)\n",
    "book_html = BeautifulSoup(response.text, 'html.parser')"
   ]
  },
  {
   "cell_type": "code",
   "execution_count": 76,
   "id": "6d95b9db",
   "metadata": {},
   "outputs": [
    {
     "data": {
      "text/plain": [
       "44825"
      ]
     },
     "execution_count": 76,
     "metadata": {},
     "output_type": "execute_result"
    }
   ],
   "source": [
    "len(book_html.text)"
   ]
  },
  {
   "cell_type": "markdown",
   "id": "1631f82f",
   "metadata": {},
   "source": [
    "The book page takes a lot of time to load so it would not be convenient to go through all the most read books in every single genre. Instead we can select a single book and do its analysis fully. We can extract the author, rating, reviews and analyze them."
   ]
  },
  {
   "cell_type": "markdown",
   "id": "f2b1bf01",
   "metadata": {},
   "source": [
    "## Analyzing a single book fully"
   ]
  },
  {
   "cell_type": "markdown",
   "id": "f5f3874d",
   "metadata": {},
   "source": [
    "The metadata contains info such as author, rating and number of reviews"
   ]
  },
  {
   "cell_type": "code",
   "execution_count": 231,
   "id": "9d31cd3b",
   "metadata": {
    "scrolled": true
   },
   "outputs": [
    {
     "ename": "AttributeError",
     "evalue": "'NoneType' object has no attribute 'text'",
     "output_type": "error",
     "traceback": [
      "\u001b[1;31m---------------------------------------------------------------------------\u001b[0m",
      "\u001b[1;31mAttributeError\u001b[0m                            Traceback (most recent call last)",
      "Cell \u001b[1;32mIn[231], line 1\u001b[0m\n\u001b[1;32m----> 1\u001b[0m author_name \u001b[38;5;241m=\u001b[39m \u001b[43mbook_html\u001b[49m\u001b[38;5;241;43m.\u001b[39;49m\u001b[43mfind\u001b[49m\u001b[43m(\u001b[49m\u001b[38;5;124;43m'\u001b[39;49m\u001b[38;5;124;43mdiv\u001b[39;49m\u001b[38;5;124;43m'\u001b[39;49m\u001b[43m,\u001b[49m\u001b[43m \u001b[49m\u001b[43mclass_\u001b[49m\u001b[38;5;241;43m=\u001b[39;49m\u001b[43m \u001b[49m\u001b[38;5;124;43m'\u001b[39;49m\u001b[38;5;124;43mBookPageMetadataSection__contributor\u001b[39;49m\u001b[38;5;124;43m'\u001b[39;49m\u001b[43m)\u001b[49m\u001b[38;5;241;43m.\u001b[39;49m\u001b[43mtext\u001b[49m\n\u001b[0;32m      2\u001b[0m \u001b[38;5;28mprint\u001b[39m(\u001b[38;5;124mf\u001b[39m\u001b[38;5;124m\"\u001b[39m\u001b[38;5;124mAuthor: \u001b[39m\u001b[38;5;132;01m{\u001b[39;00mauthor_name\u001b[38;5;132;01m}\u001b[39;00m\u001b[38;5;124m\"\u001b[39m)\n",
      "\u001b[1;31mAttributeError\u001b[0m: 'NoneType' object has no attribute 'text'"
     ]
    }
   ],
   "source": [
    "author_name = book_html.find('div', class_= 'BookPageMetadataSection__contributor').text\n",
    "print(f\"Author: {author_name}\")"
   ]
  },
  {
   "cell_type": "code",
   "execution_count": 114,
   "id": "39be9514",
   "metadata": {},
   "outputs": [
    {
     "name": "stdout",
     "output_type": "stream",
     "text": [
      "Score: 4.00\n"
     ]
    }
   ],
   "source": [
    "book_score = book_html.find('div', class_= 'RatingStatistics__column').text\n",
    "print(f\"Score: {book_score}\")"
   ]
  },
  {
   "cell_type": "code",
   "execution_count": 113,
   "id": "5f6fe1fa",
   "metadata": {},
   "outputs": [
    {
     "name": "stdout",
     "output_type": "stream",
     "text": [
      "Number of ratings given: 392,809 ratings \n",
      "Number of reviews given:  30,626 reviews\n"
     ]
    }
   ],
   "source": [
    "num_ratings, num_reviews = book_html.find('div', class_='RatingStatistics__meta')['aria-label'].split('and')\n",
    "print(f\"Number of ratings given: {num_ratings}\")\n",
    "print(f\"Number of reviews given: {num_reviews}\")"
   ]
  },
  {
   "cell_type": "code",
   "execution_count": 120,
   "id": "f4ca606c",
   "metadata": {},
   "outputs": [
    {
     "name": "stdout",
     "output_type": "stream",
     "text": [
      "Description:\n",
      "\n",
      " Would you defend your husband if he was accused of killing his mistress?Sarah Morgan is a successful and powerful defense attorney in Washington D.C. At 33 years old, she is a named partner at her firm and life is going exactly how she planned.The same cannot be said for her husband, Adam. He is a struggling writer who has had little success in his career. He begins to tire of his and Sarah’s relationship as she is constantly working. Out in the secluded woods, at Adam and Sarah’s second home, Adam engages in a passionate affair with Kelly Summers.Then, one morning everything changes. Adam is arrested for Kelly’s murder. She had been found stabbed to death in Adam and Sarah’s second home. Sarah soon finds herself playing the defender for her own husband, a man accused of murdering his mistress. But is Adam guilty or is he innocent?\n"
     ]
    }
   ],
   "source": [
    "book_desc = book_html.find('div', class_= 'BookPageMetadataSection__description').text\n",
    "print(f\"Description:\\n\\n {book_desc}\")"
   ]
  },
  {
   "cell_type": "code",
   "execution_count": 142,
   "id": "f43c91a3",
   "metadata": {},
   "outputs": [
    {
     "name": "stdout",
     "output_type": "stream",
     "text": [
      "Number of pages: 342 pages\n",
      "Edition:  Paperback\n",
      "Publishing date: July 3, 2020\n"
     ]
    }
   ],
   "source": [
    "num_pages, edition = book_html.find('div', class_= 'BookDetails').find_all('p')[0].text.split(',')\n",
    "date_published = \" \".join(book_html.find('div', class_= 'BookDetails').find_all('p')[1].text.split()[2:])\n",
    "print(f\"Number of pages: {num_pages}\")\n",
    "print(f\"Edition: {edition}\")\n",
    "print(f\"Publishing date: {date_published}\")"
   ]
  },
  {
   "cell_type": "code",
   "execution_count": 143,
   "id": "d61fb7ad",
   "metadata": {},
   "outputs": [
    {
     "data": {
      "text/plain": [
       "'https://www.goodreads.com/author/show/20309584.Jeneva_Rose'"
      ]
     },
     "execution_count": 143,
     "metadata": {},
     "output_type": "execute_result"
    }
   ],
   "source": [
    "author_profile = book_html.find('div', class_= 'FeaturedPerson__avatar').a['href']\n",
    "author_profile"
   ]
  },
  {
   "cell_type": "markdown",
   "id": "15ae9ee9",
   "metadata": {},
   "source": [
    "Author profiles can be analyzed similarly. You just have to know how to extract the relevant tags from the html."
   ]
  },
  {
   "cell_type": "markdown",
   "id": "1b5abb9e",
   "metadata": {},
   "source": [
    "## Optional"
   ]
  },
  {
   "cell_type": "code",
   "execution_count": 145,
   "id": "ac6ee039",
   "metadata": {
    "scrolled": true
   },
   "outputs": [
    {
     "name": "stdout",
     "output_type": "stream",
     "text": [
      "Profile Image for Jeneva Rose.\n"
     ]
    },
    {
     "data": {
      "image/jpeg": "[encoded data removed]",
      "text/plain": [
       "<IPython.core.display.Image object>"
      ]
     },
     "metadata": {
      "image/jpeg": {
       "width": 100
      }
     },
     "output_type": "display_data"
    }
   ],
   "source": [
    "# optional\n",
    "img_text = book_html.find('div', class_= 'FeaturedPerson__avatar').img['alt']\n",
    "img = book_html.find('div', class_= 'FeaturedPerson__avatar').img['src']\n",
    "print(img_text)\n",
    "display(Image(img, width=100))"
   ]
  },
  {
   "cell_type": "code",
   "execution_count": 208,
   "id": "6fa6bf95",
   "metadata": {},
   "outputs": [
    {
     "name": "stdout",
     "output_type": "stream",
     "text": [
      "Number of followers of Jeneva Rose: 7,520\n"
     ]
    }
   ],
   "source": [
    "num_followers = book_html.find('div' ,class_='FeaturedPerson__infoPrimary').find_all('span')[-1].text.split()[0]\n",
    "print(f\"Number of followers of {author_name}: {num_followers}\")"
   ]
  },
  {
   "cell_type": "code",
   "execution_count": 209,
   "id": "db07ca38",
   "metadata": {},
   "outputs": [
    {
     "name": "stdout",
     "output_type": "stream",
     "text": [
      "Number of books written by Jeneva Rose: 9\n"
     ]
    }
   ],
   "source": [
    "num_books = book_html.find('div' ,class_='FeaturedPerson__infoPrimary').find_all('span')[-2].text.split()[0]\n",
    "print(f\"Number of books written by {author_name}: {num_books}\")"
   ]
  },
  {
   "cell_type": "code",
   "execution_count": 328,
   "id": "8de0256b",
   "metadata": {},
   "outputs": [
    {
     "data": {
      "text/plain": [
       "('Number of ratings and percentage of total ratings',\n",
       " ['5 stars', '4 stars', '3 stars', '2 stars', '1 star'],\n",
       " ['5,895 (47%)', '3,900 (31%)', '1,868 (15%)', '414 (3%)', '287 (2%)'])"
      ]
     },
     "execution_count": 328,
     "metadata": {},
     "output_type": "execute_result"
    }
   ],
   "source": [
    "book_html.find('div', class_= 'RatingsHistogram__labelTotal')['aria-label'],\\\n",
    "[x.text for x in book_html.find_all('div', class_= 'RatingsHistogram__labelTitle')],\\\n",
    "[x.text for x in book_html.find_all('div', class_= 'RatingsHistogram__labelTotal')]"
   ]
  },
  {
   "cell_type": "markdown",
   "id": "5440492a",
   "metadata": {},
   "source": [
    "### Reviews"
   ]
  },
  {
   "cell_type": "code",
   "execution_count": 373,
   "id": "0582ea10",
   "metadata": {},
   "outputs": [
    {
     "data": {
      "text/plain": [
       "'Review by Vickie'"
      ]
     },
     "execution_count": 373,
     "metadata": {},
     "output_type": "execute_result"
    }
   ],
   "source": [
    "book_html.find_all('article', class_= 'ReviewCard')[0]['aria-label']"
   ]
  },
  {
   "cell_type": "code",
   "execution_count": 376,
   "id": "ea02ff64",
   "metadata": {},
   "outputs": [
    {
     "data": {
      "text/plain": [
       "'May 1, 2023'"
      ]
     },
     "execution_count": 376,
     "metadata": {},
     "output_type": "execute_result"
    }
   ],
   "source": [
    "book_html.find_all('section', class_= 'ReviewCard__content')[0].a.text"
   ]
  },
  {
   "cell_type": "code",
   "execution_count": 381,
   "id": "59530061",
   "metadata": {
    "scrolled": true
   },
   "outputs": [
    {
     "data": {
      "text/plain": [
       "'Rating 5 out of 5'"
      ]
     },
     "execution_count": 381,
     "metadata": {},
     "output_type": "execute_result"
    }
   ],
   "source": [
    "book_html.find_all('section', class_= 'ReviewCard__content')[0].span['aria-label']"
   ]
  },
  {
   "cell_type": "code",
   "execution_count": 369,
   "id": "faf08b44",
   "metadata": {
    "scrolled": true
   },
   "outputs": [
    {
     "data": {
      "text/plain": [
       "\"This beautifully written book is about a mother and her daughter at a crucial point in both of their lives. It's a story of coping with grief and learning how to go on with life and how to rely on other people to help you through difficult times in life.Dani is an artist and has just learned that due to an eye disease, she'll be losing her vision in the future. Her life is in turmoil, her ex-husband (but still good friend) has just died in a car accident and she's working to help her daughter Bella cope with life without her dad in it. Dani decides to move from their home in the Outer Banks of NC to an inland farm near the Virginia border and she's taking Bella away from the only home that she's ever known. Bella feels betrayed - not only does she have to learn to navigate life without her father but she's left behind all of her friends and the comfort of a home she loved. Most of the time, instead of lashing out at her mother, she stuffs her feelings inside and works to present a calm personality. But at 12, she does have bouts of anger and resentment and her mother is her favorite target. She's very resentful that her mother has signed her up for a 2 week grief camp for children who have lost someone close because she doesn't want to share her closely held feelings.Dani has always kept her true feelings from the world around her - ever since her mother died when she was very young. She is extremely worried about losing her sight but doesn't share it with her daughter or her new boyfriend. She absolutely doesn't want anyone to feel sorry for her and wants to continue her life as a gallery owner.Grief is difficult to navigate and affects everyone differently but it's absolutely crucial to have people to depend on. Will Bella learn to depend on her mother over the loss of her father and will Dani ever be able to tell Bella about her eye issues that will cause her to lose her sight? Will they both realize that together they can face whatever life brings their way?This book is beautifully written and well written characters. Dani was a great example of a mother trying cope with changes in her life and Bella was a perfect example of a pre-teen girl who can go from happy to angry very quickly. These are two characters and a splendid story that I won't soon forget.\""
      ]
     },
     "execution_count": 369,
     "metadata": {},
     "output_type": "execute_result"
    }
   ],
   "source": [
    "book_html.find_all('section', class_= 'ReviewText__content')[0].text"
   ]
  },
  {
   "cell_type": "markdown",
   "id": "96b103b5",
   "metadata": {},
   "source": [
    "## Combining all of it"
   ]
  },
  {
   "cell_type": "markdown",
   "id": "e13f43c2",
   "metadata": {},
   "source": [
    "### Book info"
   ]
  },
  {
   "cell_type": "code",
   "execution_count": 283,
   "id": "6f6e69d2",
   "metadata": {},
   "outputs": [],
   "source": [
    "# Helper functions\n",
    "# Returns a dictionary containing information about the book given its html\n",
    "def get_book_metadata(book_html):\n",
    "    \n",
    "    book_title = book_html.find('div', class_='BookPageTitleSection').text\n",
    "    author_name = book_html.find('div', class_= 'BookPageMetadataSection__contributor').text\n",
    "    book_score = book_html.find('div', class_= 'RatingStatistics__column').text\n",
    "    num_ratings, num_reviews = book_html.find('div', class_='RatingStatistics__meta')['aria-label'].split('and')\n",
    "    book_desc = book_html.find('div', class_= 'BookPageMetadataSection__description').text\n",
    "    num_pages, edition = book_html.find('div', class_= 'BookDetails').find_all('p')[0].text.split(',')\n",
    "    date_published = \" \".join(book_html.find('div', class_= 'BookDetails').find_all('p')[1].text.split()[2:])\n",
    "    \n",
    "    book_info = {'Title': book_title,\n",
    "                 'Author': author_name,\n",
    "                 'Score': book_score,\n",
    "                 'Num_ratings': num_ratings,\n",
    "                 'Num_reviews': num_reviews,\n",
    "                 'Num_pages': num_pages,\n",
    "                 'Edition': edition,\n",
    "                 'Publishing_date': date_published,\n",
    "                 'Description': book_desc}\n",
    "    \n",
    "    return book_info\n",
    "\n",
    "# Display information about the book from the dictionary\n",
    "def display_book(book, book_img):\n",
    "    print(book['Title'])\n",
    "    display(Image(book_img, width=100))\n",
    "    print(f\"Author: {book['Author']}\")\n",
    "    print(f\"Score : {book['Score']} out of 5\")\n",
    "    print(f\"Number of ratings given: {book['Num_ratings']}\")\n",
    "    print(f\"Number of reviews given: {book['Num_reviews']}\")\n",
    "    print(f\"\\nDescription of the book:\\n\\n {book['Description']}\\n\")\n",
    "    print(f\"Number of pages: {book['Num_pages']}\")\n",
    "    print(f\"Edition: {book['Edition']}\")\n",
    "    print(f\"Publishing date: {book['Publishing_date']}\")"
   ]
  },
  {
   "cell_type": "code",
   "execution_count": 284,
   "id": "c02fb7db",
   "metadata": {},
   "outputs": [],
   "source": [
    "# Most important function\n",
    "# Displays all the information about a book listed on the book's page\n",
    "def get_book_info(book_url):\n",
    "    r = requests.get(book_url)\n",
    "    book_html = BeautifulSoup(r.text, 'html.parser')\n",
    "    book_img = book_html.find('img', class_='ResponsiveImage')['src']\n",
    "    \n",
    "    book = get_book_metadata(book_html)\n",
    "    display_book(book, book_img)"
   ]
  },
  {
   "cell_type": "code",
   "execution_count": null,
   "id": "f73f66ac",
   "metadata": {},
   "outputs": [],
   "source": [
    "get_book_info()"
   ]
  },
  {
   "cell_type": "markdown",
   "id": "41320400",
   "metadata": {},
   "source": [
    "### Find books by genre and rank"
   ]
  },
  {
   "cell_type": "code",
   "execution_count": 288,
   "id": "ecf039fb",
   "metadata": {},
   "outputs": [],
   "source": [
    "def get_books_by_rank(genre_doc, rank):  \n",
    "    '''\n",
    "    Get book info about a book ranked among the given genre\n",
    "    '''\n",
    "    book_link = genre_doc.find_all('div', class_='coverWrapper')[rank-1].a['href']\n",
    "    book_url = base_url + book_link\n",
    "    print(f\"Rank #{rank} \")    \n",
    "    get_book_info(book_url)"
   ]
  },
  {
   "cell_type": "code",
   "execution_count": 289,
   "id": "c8b3692b",
   "metadata": {},
   "outputs": [],
   "source": [
    "def get_books_by_genre(genre_links_dict, genre, rank):\n",
    "    '''\n",
    "    Get any book from any genre by popularity i.e. rank\n",
    "    '''\n",
    "    genre_link = genre_links_dict[genre]\n",
    "    response = requests.get(genre_link)\n",
    "    genre_doc = BeautifulSoup(response.text, 'html.parser')\n",
    "    print(f\"Most popular books from the {genre} genre\")   \n",
    "    get_books_by_rank(genre_doc, rank)"
   ]
  },
  {
   "cell_type": "markdown",
   "id": "75593e91",
   "metadata": {},
   "source": [
    "Let's get the top ranked book from the science fiction genre"
   ]
  },
  {
   "cell_type": "code",
   "execution_count": 287,
   "id": "7faf7304",
   "metadata": {},
   "outputs": [
    {
     "name": "stdout",
     "output_type": "stream",
     "text": [
      "Rank: 1\n",
      "The Midnight Library\n"
     ]
    },
    {
     "data": {
      "image/jpeg": "[encoded data removed]",
      "text/plain": [
       "<IPython.core.display.Image object>"
      ]
     },
     "metadata": {
      "image/jpeg": {
       "width": 100
      }
     },
     "output_type": "display_data"
    },
    {
     "name": "stdout",
     "output_type": "stream",
     "text": [
      "Author: Matt Haig\n",
      "Score : 4.01 out of 5\n",
      "Number of ratings given: 1,417,215 ratings \n",
      "Number of reviews given:  152,766 reviews\n",
      "\n",
      "Description of the book:\n",
      "\n",
      " Between life and death there is a library, and within that library, the shelves go on forever. Every book provides a chance to try another life you could have lived. To see how things would be if you had made other choices . . . Would you have done anything different, if you had the chance to undo your regrets? A novel about all the choices that go into a life well lived.Somewhere out beyond the edge of the universe there is a library that contains an infinite number of books, each one the story of another reality. One tells the story of your life as it is, along with another book for the other life you could have lived if you had made a different choice at any point in your life. While we all wonder how our lives might have been, what if you had the chance to go to the library and see for yourself? Would any of these other lives truly be better?Nora Seed finds herself faced with this decision. Faced with the possibility of changing her life for a new one, following a different career, undoing old breakups, realizing her dreams of becoming a glaciologist; she must search within herself as she travels through the Midnight Library to decide what is truly fulfilling in life, and what makes it worth living in the first place.\n",
      "\n",
      "Number of pages: 304 pages\n",
      "Edition:  Hardcover\n",
      "Publishing date: August 13, 2020\n"
     ]
    }
   ],
   "source": [
    "get_books_by_genre(genre_links_dict, genre='Science Fiction', rank=1)"
   ]
  },
  {
   "cell_type": "code",
   "execution_count": null,
   "id": "ffde3065",
   "metadata": {},
   "outputs": [],
   "source": []
  },
  {
   "cell_type": "code",
   "execution_count": null,
   "id": "989c9b62",
   "metadata": {},
   "outputs": [],
   "source": []
  },
  {
   "cell_type": "code",
   "execution_count": null,
   "id": "4ee7d34f",
   "metadata": {},
   "outputs": [],
   "source": []
  },
  {
   "cell_type": "markdown",
   "id": "cfcc47a1",
   "metadata": {},
   "source": [
    "## Finding most shelved books by genre (for kaggle)"
   ]
  },
  {
   "cell_type": "markdown",
   "id": "b6d086b9",
   "metadata": {},
   "source": [
    "Exploring the most popular books. Have to change the urls again ):"
   ]
  },
  {
   "cell_type": "code",
   "execution_count": 291,
   "id": "96d0c361",
   "metadata": {},
   "outputs": [
    {
     "name": "stdout",
     "output_type": "stream",
     "text": [
      "['Science', 'Science Fiction', 'Self Help', 'Suspense', 'Spirituality', 'Sports', 'Thriller', 'Travel', 'Young Adult']\n"
     ]
    }
   ],
   "source": [
    "print(genre_names[-9:])"
   ]
  },
  {
   "cell_type": "markdown",
   "id": "02930a72",
   "metadata": {},
   "source": [
    "Let's start with the mystery genre"
   ]
  },
  {
   "cell_type": "code",
   "execution_count": 292,
   "id": "4bbdacd6",
   "metadata": {
    "scrolled": false
   },
   "outputs": [
    {
     "data": {
      "text/plain": [
       "{'Art': 'https://www.goodreads.com/shelf/show/art',\n",
       " 'Biography': 'https://www.goodreads.com/shelf/show/biography',\n",
       " 'Business': 'https://www.goodreads.com/shelf/show/business',\n",
       " 'Chick Lit': 'https://www.goodreads.com/shelf/show/chick-lit',\n",
       " \"Children's\": 'https://www.goodreads.com/shelf/show/children-s',\n",
       " 'Christian': 'https://www.goodreads.com/shelf/show/christian',\n",
       " 'Classics': 'https://www.goodreads.com/shelf/show/classics',\n",
       " 'Comics': 'https://www.goodreads.com/shelf/show/comics',\n",
       " 'Contemporary': 'https://www.goodreads.com/shelf/show/contemporary',\n",
       " 'Cookbooks': 'https://www.goodreads.com/shelf/show/cookbooks',\n",
       " 'Crime': 'https://www.goodreads.com/shelf/show/crime',\n",
       " 'Ebooks': 'https://www.goodreads.com/shelf/show/ebooks',\n",
       " 'Fantasy': 'https://www.goodreads.com/shelf/show/fantasy',\n",
       " 'Fiction': 'https://www.goodreads.com/shelf/show/fiction',\n",
       " 'Gay and Lesbian': 'https://www.goodreads.com/shelf/show/gay-and-lesbian',\n",
       " 'Graphic Novels': 'https://www.goodreads.com/shelf/show/graphic-novels',\n",
       " 'Historical Fiction': 'https://www.goodreads.com/shelf/show/historical-fiction',\n",
       " 'History': 'https://www.goodreads.com/shelf/show/history',\n",
       " 'Horror': 'https://www.goodreads.com/shelf/show/horror',\n",
       " 'Humor and Comedy': 'https://www.goodreads.com/shelf/show/humor-and-comedy',\n",
       " 'Manga': 'https://www.goodreads.com/shelf/show/manga',\n",
       " 'Memoir': 'https://www.goodreads.com/shelf/show/memoir',\n",
       " 'Music': 'https://www.goodreads.com/shelf/show/music',\n",
       " 'Mystery': 'https://www.goodreads.com/shelf/show/mystery',\n",
       " 'Nonfiction': 'https://www.goodreads.com/shelf/show/non-fiction',\n",
       " 'Paranormal': 'https://www.goodreads.com/shelf/show/paranormal',\n",
       " 'Philosophy': 'https://www.goodreads.com/shelf/show/philosophy',\n",
       " 'Poetry': 'https://www.goodreads.com/shelf/show/poetry',\n",
       " 'Psychology': 'https://www.goodreads.com/shelf/show/psychology',\n",
       " 'Religion': 'https://www.goodreads.com/shelf/show/religion',\n",
       " 'Romance': 'https://www.goodreads.com/shelf/show/romance',\n",
       " 'Science': 'https://www.goodreads.com/shelf/show/science',\n",
       " 'Science Fiction': 'https://www.goodreads.com/shelf/show/science-fiction',\n",
       " 'Self Help': 'https://www.goodreads.com/shelf/show/self-help',\n",
       " 'Suspense': 'https://www.goodreads.com/shelf/show/suspense',\n",
       " 'Spirituality': 'https://www.goodreads.com/shelf/show/spirituality',\n",
       " 'Sports': 'https://www.goodreads.com/shelf/show/sports',\n",
       " 'Thriller': 'https://www.goodreads.com/shelf/show/thriller',\n",
       " 'Travel': 'https://www.goodreads.com/shelf/show/travel',\n",
       " 'Young Adult': 'https://www.goodreads.com/shelf/show/young-adult'}"
      ]
     },
     "execution_count": 292,
     "metadata": {},
     "output_type": "execute_result"
    }
   ],
   "source": [
    "genre_most_popular_dict = {name: base_url + \"/shelf/show\" + link[7:] for (name, link) in zip(genre_names, genre_links)}\n",
    "genre_most_popular_dict"
   ]
  },
  {
   "cell_type": "markdown",
   "id": "c528a5fd",
   "metadata": {},
   "source": [
    "Let's analyze some thriller books from the thriller url"
   ]
  },
  {
   "cell_type": "code",
   "execution_count": 298,
   "id": "c35767b0",
   "metadata": {},
   "outputs": [],
   "source": [
    "thriller_url = genre_most_popular_dict['Thriller']\n",
    "response = requests.get(thriller_url)\n",
    "doc = BeautifulSoup(response.text, 'html.parser')"
   ]
  },
  {
   "cell_type": "code",
   "execution_count": 294,
   "id": "71c5cd5a",
   "metadata": {},
   "outputs": [],
   "source": [
    "# doc.find_all('div', class_='left')[0].text.strip().split('\\n')"
   ]
  },
  {
   "cell_type": "code",
   "execution_count": 299,
   "id": "1f3d4b76",
   "metadata": {},
   "outputs": [],
   "source": [
    "# All book tags from the thriller genre\n",
    "book_tags = doc.find_all('div', class_=\"left\")"
   ]
  },
  {
   "cell_type": "code",
   "execution_count": 300,
   "id": "7a694268",
   "metadata": {
    "scrolled": false
   },
   "outputs": [
    {
     "data": {
      "text/plain": [
       "<div class=\"left\" style=\"width: 75%;\">\n",
       "<a class=\"leftAlignedImage\" href=\"/book/show/19288043-gone-girl\" title=\"Gone Girl\"><img alt=\"Gone Girl\" src=\"https://i.gr-assets.com/images/S/compressed.photo.goodreads.com/books/1554086139l/19288043._SY75_.jpg\"/></a>\n",
       "<a class=\"bookTitle\" href=\"/book/show/19288043-gone-girl\">Gone Girl (Paperback)</a>\n",
       "<br/>\n",
       "<span class=\"by\">by</span>\n",
       "<span itemprop=\"author\" itemscope=\"\" itemtype=\"http://schema.org/Person\">\n",
       "<div class=\"authorName__container\">\n",
       "<a class=\"authorName\" href=\"https://www.goodreads.com/author/show/2383.Gillian_Flynn\" itemprop=\"url\"><span itemprop=\"name\">Gillian Flynn</span></a> <span class=\"greyText\">(Goodreads Author)</span>\n",
       "</div>\n",
       "</span>\n",
       "\n",
       "\n",
       "              (shelved 9076 times as <em>thriller</em>)     \n",
       "\n",
       "              <br/>\n",
       "<span class=\"greyText smallText\">\n",
       "                avg rating 4.12 —\n",
       "                2,900,791 ratings  —\n",
       "                published 2012\n",
       "              </span>\n",
       "</div>"
      ]
     },
     "execution_count": 300,
     "metadata": {},
     "output_type": "execute_result"
    }
   ],
   "source": [
    "book_tags[0]"
   ]
  },
  {
   "cell_type": "code",
   "execution_count": 301,
   "id": "9255a77b",
   "metadata": {},
   "outputs": [
    {
     "data": {
      "text/plain": [
       "['Gone Girl',\n",
       " 'The Girl on the Train',\n",
       " 'The Silent Patient',\n",
       " 'The Da Vinci Code (Robert Langdon, #2)',\n",
       " 'The Girl with the Dragon Tattoo (Millennium, #1)']"
      ]
     },
     "execution_count": 301,
     "metadata": {},
     "output_type": "execute_result"
    }
   ],
   "source": [
    "book_titles = [tag.find_all('a')[0]['title'] for tag in book_tags]\n",
    "book_titles[:5]"
   ]
  },
  {
   "cell_type": "markdown",
   "id": "6f3deac2",
   "metadata": {},
   "source": [
    "Looks like thriller authors are obsessed with girls. Anyway let's analyze further"
   ]
  },
  {
   "cell_type": "code",
   "execution_count": 302,
   "id": "ebb6ba30",
   "metadata": {},
   "outputs": [
    {
     "data": {
      "text/plain": [
       "['https://www.goodreads.com/book/show/19288043-gone-girl',\n",
       " 'https://www.goodreads.com/book/show/22557272-the-girl-on-the-train',\n",
       " 'https://www.goodreads.com/book/show/40097951-the-silent-patient',\n",
       " 'https://www.goodreads.com/book/show/968.The_Da_Vinci_Code',\n",
       " 'https://www.goodreads.com/book/show/2429135.The_Girl_with_the_Dragon_Tattoo']"
      ]
     },
     "execution_count": 302,
     "metadata": {},
     "output_type": "execute_result"
    }
   ],
   "source": [
    "book_urls = [base_url + tag.find_all('a')[0]['href'] for tag in book_tags]\n",
    "book_urls[:5]"
   ]
  },
  {
   "cell_type": "code",
   "execution_count": 303,
   "id": "c31e7d17",
   "metadata": {},
   "outputs": [],
   "source": [
    "book_imgs = [tag.find('img')['src'] for tag in book_tags]"
   ]
  },
  {
   "cell_type": "code",
   "execution_count": 333,
   "id": "6360a653",
   "metadata": {},
   "outputs": [
    {
     "data": {
      "image/jpeg": "[encoded data removed]",
      "text/plain": [
       "<IPython.core.display.Image object>"
      ]
     },
     "metadata": {
      "image/jpeg": {
       "width": 70
      }
     },
     "output_type": "display_data"
    }
   ],
   "source": [
    "display(Image(book_imgs[2], width=70))"
   ]
  },
  {
   "cell_type": "code",
   "execution_count": 308,
   "id": "73ef0589",
   "metadata": {},
   "outputs": [
    {
     "data": {
      "text/plain": [
       "['https://www.goodreads.com/author/show/2383.Gillian_Flynn',\n",
       " 'https://www.goodreads.com/author/show/1063732.Paula_Hawkins',\n",
       " 'https://www.goodreads.com/author/show/17621440.Alex_Michaelides',\n",
       " 'https://www.goodreads.com/author/show/630.Dan_Brown',\n",
       " 'https://www.goodreads.com/author/show/706255.Stieg_Larsson']"
      ]
     },
     "execution_count": 308,
     "metadata": {},
     "output_type": "execute_result"
    }
   ],
   "source": [
    "author_links = [tag.find_all('a')[2]['href'] for tag in book_tags]\n",
    "author_links[:5]"
   ]
  },
  {
   "cell_type": "code",
   "execution_count": 309,
   "id": "a6c7c208",
   "metadata": {},
   "outputs": [
    {
     "data": {
      "text/plain": [
       "['Gillian Flynn',\n",
       " 'Paula Hawkins',\n",
       " 'Alex Michaelides',\n",
       " 'Dan Brown',\n",
       " 'Stieg Larsson']"
      ]
     },
     "execution_count": 309,
     "metadata": {},
     "output_type": "execute_result"
    }
   ],
   "source": [
    "author_names = [tag.find('span', itemprop=\"name\").text for tag in book_tags]\n",
    "author_names[:5]"
   ]
  },
  {
   "cell_type": "code",
   "execution_count": 310,
   "id": "4f359be2",
   "metadata": {},
   "outputs": [],
   "source": [
    "scores_list, ratings_list, year_published_list = [], [], []\n",
    "for tag in book_tags:\n",
    "    score, num_ratings, year_published = tag.find('span', class_=\"greyText smallText\").text.strip().split('\\n')\n",
    "    score = score.strip()[11:15]\n",
    "    num_ratings = \"\".join(num_ratings.strip().split(','))[:-3]\n",
    "    year_published = [x for x in year_published.strip().split() if x.isdigit()][0]\n",
    "    scores_list.append(score)\n",
    "    ratings_list.append(num_ratings)\n",
    "    year_published_list.append(year_published)"
   ]
  },
  {
   "cell_type": "code",
   "execution_count": 311,
   "id": "b14b923c",
   "metadata": {
    "scrolled": true
   },
   "outputs": [
    {
     "name": "stdout",
     "output_type": "stream",
     "text": [
      "Top 5 books scores: ['4.12', '3.96', '4.18', '3.90', '4.16']\n",
      "Top 5 books ratings: ['2900791 ratings', '2756615 ratings', '1609324 ratings', '2261954 ratings', '3048676 ratings']\n",
      "Top 5 books publishing year: ['2012', '2015', '2019', '2003', '2005']\n"
     ]
    }
   ],
   "source": [
    "print(f\"Top 5 books scores: {scores_list[:5]}\")\n",
    "print(f\"Top 5 books ratings: {ratings_list[:5]}\")\n",
    "print(f\"Top 5 books publishing year: {year_published_list[:5]}\")"
   ]
  },
  {
   "cell_type": "markdown",
   "id": "149381b2",
   "metadata": {},
   "source": [
    "Combining all of the above together we can make a dictionary for each of the books depicting its title, url, author, scores etc. This way it will be easy to lookup info about any book"
   ]
  },
  {
   "cell_type": "code",
   "execution_count": 312,
   "id": "b320ec22",
   "metadata": {},
   "outputs": [],
   "source": [
    "ranks = [*range(1, len(book_tags)+1)]"
   ]
  },
  {
   "cell_type": "code",
   "execution_count": 313,
   "id": "8db95526",
   "metadata": {},
   "outputs": [],
   "source": [
    "book_info_dicts = []\n",
    "for (title, author, score, num_ratings, year_published) in \\\n",
    "zip(book_titles, author_names, scores_list, ratings_list, year_published_list):\n",
    "    book_info =  {'Title': title, \n",
    "                  'Author': author, \n",
    "                  'Score': score, \n",
    "                  'Num_ratings': num_ratings, \n",
    "                  'Year_published': year_published}\n",
    "    book_info_dicts.append(book_info)"
   ]
  },
  {
   "cell_type": "code",
   "execution_count": 314,
   "id": "dff4cf04",
   "metadata": {},
   "outputs": [
    {
     "data": {
      "text/plain": [
       "[{'Title': 'Gone Girl',\n",
       "  'Author': 'Gillian Flynn',\n",
       "  'Score': '4.12',\n",
       "  'Num_ratings': '2900791 ratings',\n",
       "  'Year_published': '2012'},\n",
       " {'Title': 'The Girl on the Train',\n",
       "  'Author': 'Paula Hawkins',\n",
       "  'Score': '3.96',\n",
       "  'Num_ratings': '2756615 ratings',\n",
       "  'Year_published': '2015'},\n",
       " {'Title': 'The Silent Patient',\n",
       "  'Author': 'Alex Michaelides',\n",
       "  'Score': '4.18',\n",
       "  'Num_ratings': '1609324 ratings',\n",
       "  'Year_published': '2019'},\n",
       " {'Title': 'The Da Vinci Code (Robert Langdon, #2)',\n",
       "  'Author': 'Dan Brown',\n",
       "  'Score': '3.90',\n",
       "  'Num_ratings': '2261954 ratings',\n",
       "  'Year_published': '2003'},\n",
       " {'Title': 'The Girl with the Dragon Tattoo (Millennium, #1)',\n",
       "  'Author': 'Stieg Larsson',\n",
       "  'Score': '4.16',\n",
       "  'Num_ratings': '3048676 ratings',\n",
       "  'Year_published': '2005'},\n",
       " {'Title': 'Angels & Demons (Robert Langdon, #1)',\n",
       "  'Author': 'Dan Brown',\n",
       "  'Score': '3.93',\n",
       "  'Num_ratings': '3088958 ratings',\n",
       "  'Year_published': '2000'},\n",
       " {'Title': 'Verity',\n",
       "  'Author': 'Colleen Hoover',\n",
       "  'Score': '4.35',\n",
       "  'Num_ratings': '1986825 ratings',\n",
       "  'Year_published': '2018'},\n",
       " {'Title': 'Sharp Objects',\n",
       "  'Author': 'Gillian Flynn',\n",
       "  'Score': '4.01',\n",
       "  'Num_ratings': '944094 ratings',\n",
       "  'Year_published': '2006'},\n",
       " {'Title': 'The Girl Who Played with Fire (Millennium, #2)',\n",
       "  'Author': 'Stieg Larsson',\n",
       "  'Score': '4.25',\n",
       "  'Num_ratings': '896577 ratings',\n",
       "  'Year_published': '2006'},\n",
       " {'Title': 'The Woman in the Window',\n",
       "  'Author': 'A.J. Finn',\n",
       "  'Score': '3.96',\n",
       "  'Num_ratings': '722432 ratings',\n",
       "  'Year_published': '2018'},\n",
       " {'Title': 'The Guest List',\n",
       "  'Author': 'Lucy Foley',\n",
       "  'Score': '3.83',\n",
       "  'Num_ratings': '828210 ratings',\n",
       "  'Year_published': '2020'},\n",
       " {'Title': \"The Girl Who Kicked the Hornet's Nest (Millennium, #3)\",\n",
       "  'Author': 'Stieg Larsson',\n",
       "  'Score': '4.23',\n",
       "  'Num_ratings': '714802 ratings',\n",
       "  'Year_published': '2007'},\n",
       " {'Title': 'Dark Places',\n",
       "  'Author': 'Gillian Flynn',\n",
       "  'Score': '3.95',\n",
       "  'Num_ratings': '708116 ratings',\n",
       "  'Year_published': '2009'},\n",
       " {'Title': 'The Lost Symbol (Robert Langdon, #3)',\n",
       "  'Author': 'Dan Brown',\n",
       "  'Score': '3.74',\n",
       "  'Num_ratings': '590156 ratings',\n",
       "  'Year_published': '2009'},\n",
       " {'Title': 'Inferno (Robert Langdon, #4)',\n",
       "  'Author': 'Dan Brown',\n",
       "  'Score': '3.88',\n",
       "  'Num_ratings': '533630 ratings',\n",
       "  'Year_published': '2013'},\n",
       " {'Title': 'Behind Closed Doors',\n",
       "  'Author': 'B.A. Paris',\n",
       "  'Score': '3.98',\n",
       "  'Num_ratings': '507685 ratings',\n",
       "  'Year_published': '2016'},\n",
       " {'Title': 'Dark Matter',\n",
       "  'Author': 'Blake Crouch',\n",
       "  'Score': '4.13',\n",
       "  'Num_ratings': '415138 ratings',\n",
       "  'Year_published': '2016'},\n",
       " {'Title': 'And Then There Were None',\n",
       "  'Author': 'Agatha Christie',\n",
       "  'Score': '4.28',\n",
       "  'Num_ratings': '1231703 ratings',\n",
       "  'Year_published': '1939'},\n",
       " {'Title': 'The Woman in Cabin 10',\n",
       "  'Author': 'Ruth Ware',\n",
       "  'Score': '3.74',\n",
       "  'Num_ratings': '553679 ratings',\n",
       "  'Year_published': '2016'},\n",
       " {'Title': 'Deception Point',\n",
       "  'Author': 'Dan Brown',\n",
       "  'Score': '3.75',\n",
       "  'Num_ratings': '652930 ratings',\n",
       "  'Year_published': '2001'},\n",
       " {'Title': 'Digital Fortress',\n",
       "  'Author': 'Dan Brown',\n",
       "  'Score': '3.69',\n",
       "  'Num_ratings': '621414 ratings',\n",
       "  'Year_published': '1998'},\n",
       " {'Title': \"A Good Girl's Guide to Murder (A Good Girl's Guide to Murder, #1)\",\n",
       "  'Author': 'Holly  Jackson',\n",
       "  'Score': '4.34',\n",
       "  'Num_ratings': '669271 ratings',\n",
       "  'Year_published': '2019'},\n",
       " {'Title': 'Lock Every Door',\n",
       "  'Author': 'Riley Sager',\n",
       "  'Score': '3.91',\n",
       "  'Num_ratings': '170150 ratings',\n",
       "  'Year_published': '2019'},\n",
       " {'Title': 'The Silence of the Lambs  (Hannibal Lecter, #2)',\n",
       "  'Author': 'Thomas  Harris',\n",
       "  'Score': '4.24',\n",
       "  'Num_ratings': '531156 ratings',\n",
       "  'Year_published': '1988'},\n",
       " {'Title': 'Pretty Girls',\n",
       "  'Author': 'Karin Slaughter',\n",
       "  'Score': '4.04',\n",
       "  'Num_ratings': '290193 ratings',\n",
       "  'Year_published': '2015'},\n",
       " {'Title': 'You (You, #1)',\n",
       "  'Author': 'Caroline Kepnes',\n",
       "  'Score': '3.95',\n",
       "  'Num_ratings': '226543 ratings',\n",
       "  'Year_published': '2014'},\n",
       " {'Title': 'Then She Was Gone',\n",
       "  'Author': 'Lisa Jewell',\n",
       "  'Score': '4.06',\n",
       "  'Num_ratings': '534767 ratings',\n",
       "  'Year_published': '2017'},\n",
       " {'Title': 'Before I Go to Sleep',\n",
       "  'Author': 'S.J. Watson',\n",
       "  'Score': '3.90',\n",
       "  'Num_ratings': '328850 ratings',\n",
       "  'Year_published': '2011'},\n",
       " {'Title': 'Final Girls',\n",
       "  'Author': 'Riley Sager',\n",
       "  'Score': '3.84',\n",
       "  'Num_ratings': '156287 ratings',\n",
       "  'Year_published': '2017'},\n",
       " {'Title': 'The Turn of the Key',\n",
       "  'Author': 'Ruth Ware',\n",
       "  'Score': '3.93',\n",
       "  'Num_ratings': '246562 ratings',\n",
       "  'Year_published': '2019'},\n",
       " {'Title': 'One of Us Is Lying (One of Us is Lying, #1)',\n",
       "  'Author': 'Karen M. McManus',\n",
       "  'Score': '3.96',\n",
       "  'Num_ratings': '725282 ratings',\n",
       "  'Year_published': '2017'},\n",
       " {'Title': 'The Shining (The Shining, #1)',\n",
       "  'Author': 'Stephen King',\n",
       "  'Score': '4.26',\n",
       "  'Num_ratings': '1399200 ratings',\n",
       "  'Year_published': '1977'},\n",
       " {'Title': 'Jurassic Park (Jurassic Park, #1)',\n",
       "  'Author': 'Michael Crichton',\n",
       "  'Score': '4.08',\n",
       "  'Num_ratings': '919613 ratings',\n",
       "  'Year_published': '1990'},\n",
       " {'Title': 'The Couple Next Door',\n",
       "  'Author': 'Shari Lapena',\n",
       "  'Score': '3.81',\n",
       "  'Num_ratings': '523415 ratings',\n",
       "  'Year_published': '2016'},\n",
       " {'Title': 'Rock Paper Scissors',\n",
       "  'Author': 'Alice Feeney',\n",
       "  'Score': '3.95',\n",
       "  'Num_ratings': '297481 ratings',\n",
       "  'Year_published': '2021'},\n",
       " {'Title': 'Killing Floor (Jack Reacher, #1)',\n",
       "  'Author': 'Lee Child',\n",
       "  'Score': '4.07',\n",
       "  'Num_ratings': '302607 ratings',\n",
       "  'Year_published': '1997'},\n",
       " {'Title': 'Misery',\n",
       "  'Author': 'Stephen King',\n",
       "  'Score': '4.21',\n",
       "  'Num_ratings': '644388 ratings',\n",
       "  'Year_published': '1987'},\n",
       " {'Title': 'Red Dragon (Hannibal Lecter, #1)',\n",
       "  'Author': 'Thomas  Harris',\n",
       "  'Score': '4.05',\n",
       "  'Num_ratings': '318752 ratings',\n",
       "  'Year_published': '1981'},\n",
       " {'Title': 'The Maidens',\n",
       "  'Author': 'Alex Michaelides',\n",
       "  'Score': '3.63',\n",
       "  'Num_ratings': '268600 ratings',\n",
       "  'Year_published': '2021'},\n",
       " {'Title': 'Into the Water',\n",
       "  'Author': 'Paula Hawkins',\n",
       "  'Score': '3.59',\n",
       "  'Num_ratings': '368244 ratings',\n",
       "  'Year_published': '2017'},\n",
       " {'Title': 'The Bourne Identity (Jason Bourne, #1)',\n",
       "  'Author': 'Robert Ludlum',\n",
       "  'Score': '4.05',\n",
       "  'Num_ratings': '426749 ratings',\n",
       "  'Year_published': '1980'},\n",
       " {'Title': 'The Family Upstairs (The Family Upstairs, #1)',\n",
       "  'Author': 'Lisa Jewell',\n",
       "  'Score': '3.97',\n",
       "  'Num_ratings': '332861 ratings',\n",
       "  'Year_published': '2019'},\n",
       " {'Title': 'The 7½ Deaths of Evelyn Hardcastle',\n",
       "  'Author': 'Stuart Turton',\n",
       "  'Score': '3.85',\n",
       "  'Num_ratings': '312614 ratings',\n",
       "  'Year_published': '2018'},\n",
       " {'Title': 'No Exit',\n",
       "  'Author': 'Taylor  Adams',\n",
       "  'Score': '4.02',\n",
       "  'Num_ratings': '131244 ratings',\n",
       "  'Year_published': '2018'},\n",
       " {'Title': 'Home Before Dark',\n",
       "  'Author': 'Riley Sager',\n",
       "  'Score': '4.08',\n",
       "  'Num_ratings': '155354 ratings',\n",
       "  'Year_published': '2020'},\n",
       " {'Title': 'Origin (Robert Langdon, #5)',\n",
       "  'Author': 'Dan Brown',\n",
       "  'Score': '3.88',\n",
       "  'Num_ratings': '313174 ratings',\n",
       "  'Year_published': '2017'},\n",
       " {'Title': 'The Wife Between Us',\n",
       "  'Author': 'Greer Hendricks',\n",
       "  'Score': '3.85',\n",
       "  'Num_ratings': '353196 ratings',\n",
       "  'Year_published': '2018'},\n",
       " {'Title': 'The Kind Worth Killing (Henry Kimball/Lily Kintner, #1)',\n",
       "  'Author': 'Peter  Swanson',\n",
       "  'Score': '4.02',\n",
       "  'Num_ratings': '154352 ratings',\n",
       "  'Year_published': '2015'},\n",
       " {'Title': 'In a Dark, Dark Wood',\n",
       "  'Author': 'Ruth Ware',\n",
       "  'Score': '3.72',\n",
       "  'Num_ratings': '321596 ratings',\n",
       "  'Year_published': '2015'},\n",
       " {'Title': 'The Paris Apartment',\n",
       "  'Author': 'Lucy Foley',\n",
       "  'Score': '3.68',\n",
       "  'Num_ratings': '382722 ratings',\n",
       "  'Year_published': '2022'}]"
      ]
     },
     "execution_count": 314,
     "metadata": {},
     "output_type": "execute_result"
    }
   ],
   "source": [
    "book_info_dicts"
   ]
  },
  {
   "cell_type": "code",
   "execution_count": 315,
   "id": "4a1b37a9",
   "metadata": {},
   "outputs": [],
   "source": [
    "thriller_df = pd.DataFrame(book_info_dicts, index=ranks)"
   ]
  },
  {
   "cell_type": "code",
   "execution_count": 318,
   "id": "01376c20",
   "metadata": {
    "scrolled": true
   },
   "outputs": [
    {
     "data": {
      "text/html": [
       "<div>\n",
       "<style scoped>\n",
       "    .dataframe tbody tr th:only-of-type {\n",
       "        vertical-align: middle;\n",
       "    }\n",
       "\n",
       "    .dataframe tbody tr th {\n",
       "        vertical-align: top;\n",
       "    }\n",
       "\n",
       "    .dataframe thead th {\n",
       "        text-align: right;\n",
       "    }\n",
       "</style>\n",
       "<table border=\"1\" class=\"dataframe\">\n",
       "  <thead>\n",
       "    <tr style=\"text-align: right;\">\n",
       "      <th></th>\n",
       "      <th>Title</th>\n",
       "      <th>Author</th>\n",
       "      <th>Score</th>\n",
       "      <th>Num_ratings</th>\n",
       "      <th>Year_published</th>\n",
       "    </tr>\n",
       "  </thead>\n",
       "  <tbody>\n",
       "    <tr>\n",
       "      <th>8</th>\n",
       "      <td>Sharp Objects</td>\n",
       "      <td>Gillian Flynn</td>\n",
       "      <td>4.01</td>\n",
       "      <td>944094 ratings</td>\n",
       "      <td>2006</td>\n",
       "    </tr>\n",
       "    <tr>\n",
       "      <th>33</th>\n",
       "      <td>Jurassic Park (Jurassic Park, #1)</td>\n",
       "      <td>Michael Crichton</td>\n",
       "      <td>4.08</td>\n",
       "      <td>919613 ratings</td>\n",
       "      <td>1990</td>\n",
       "    </tr>\n",
       "    <tr>\n",
       "      <th>9</th>\n",
       "      <td>The Girl Who Played with Fire (Millennium, #2)</td>\n",
       "      <td>Stieg Larsson</td>\n",
       "      <td>4.25</td>\n",
       "      <td>896577 ratings</td>\n",
       "      <td>2006</td>\n",
       "    </tr>\n",
       "    <tr>\n",
       "      <th>11</th>\n",
       "      <td>The Guest List</td>\n",
       "      <td>Lucy Foley</td>\n",
       "      <td>3.83</td>\n",
       "      <td>828210 ratings</td>\n",
       "      <td>2020</td>\n",
       "    </tr>\n",
       "    <tr>\n",
       "      <th>31</th>\n",
       "      <td>One of Us Is Lying (One of Us is Lying, #1)</td>\n",
       "      <td>Karen M. McManus</td>\n",
       "      <td>3.96</td>\n",
       "      <td>725282 ratings</td>\n",
       "      <td>2017</td>\n",
       "    </tr>\n",
       "    <tr>\n",
       "      <th>10</th>\n",
       "      <td>The Woman in the Window</td>\n",
       "      <td>A.J. Finn</td>\n",
       "      <td>3.96</td>\n",
       "      <td>722432 ratings</td>\n",
       "      <td>2018</td>\n",
       "    </tr>\n",
       "    <tr>\n",
       "      <th>12</th>\n",
       "      <td>The Girl Who Kicked the Hornet's Nest (Millenn...</td>\n",
       "      <td>Stieg Larsson</td>\n",
       "      <td>4.23</td>\n",
       "      <td>714802 ratings</td>\n",
       "      <td>2007</td>\n",
       "    </tr>\n",
       "    <tr>\n",
       "      <th>13</th>\n",
       "      <td>Dark Places</td>\n",
       "      <td>Gillian Flynn</td>\n",
       "      <td>3.95</td>\n",
       "      <td>708116 ratings</td>\n",
       "      <td>2009</td>\n",
       "    </tr>\n",
       "    <tr>\n",
       "      <th>22</th>\n",
       "      <td>A Good Girl's Guide to Murder (A Good Girl's G...</td>\n",
       "      <td>Holly  Jackson</td>\n",
       "      <td>4.34</td>\n",
       "      <td>669271 ratings</td>\n",
       "      <td>2019</td>\n",
       "    </tr>\n",
       "    <tr>\n",
       "      <th>20</th>\n",
       "      <td>Deception Point</td>\n",
       "      <td>Dan Brown</td>\n",
       "      <td>3.75</td>\n",
       "      <td>652930 ratings</td>\n",
       "      <td>2001</td>\n",
       "    </tr>\n",
       "  </tbody>\n",
       "</table>\n",
       "</div>"
      ],
      "text/plain": [
       "                                                Title            Author Score  \\\n",
       "8                                       Sharp Objects     Gillian Flynn  4.01   \n",
       "33                  Jurassic Park (Jurassic Park, #1)  Michael Crichton  4.08   \n",
       "9      The Girl Who Played with Fire (Millennium, #2)     Stieg Larsson  4.25   \n",
       "11                                     The Guest List        Lucy Foley  3.83   \n",
       "31        One of Us Is Lying (One of Us is Lying, #1)  Karen M. McManus  3.96   \n",
       "10                            The Woman in the Window         A.J. Finn  3.96   \n",
       "12  The Girl Who Kicked the Hornet's Nest (Millenn...     Stieg Larsson  4.23   \n",
       "13                                        Dark Places     Gillian Flynn  3.95   \n",
       "22  A Good Girl's Guide to Murder (A Good Girl's G...    Holly  Jackson  4.34   \n",
       "20                                    Deception Point         Dan Brown  3.75   \n",
       "\n",
       "       Num_ratings Year_published  \n",
       "8   944094 ratings           2006  \n",
       "33  919613 ratings           1990  \n",
       "9   896577 ratings           2006  \n",
       "11  828210 ratings           2020  \n",
       "31  725282 ratings           2017  \n",
       "10  722432 ratings           2018  \n",
       "12  714802 ratings           2007  \n",
       "13  708116 ratings           2009  \n",
       "22  669271 ratings           2019  \n",
       "20  652930 ratings           2001  "
      ]
     },
     "execution_count": 318,
     "metadata": {},
     "output_type": "execute_result"
    }
   ],
   "source": [
    "thriller_df.sort_values('Num_ratings', ascending=False)[:10]"
   ]
  },
  {
   "cell_type": "code",
   "execution_count": 329,
   "id": "dc59cc10",
   "metadata": {},
   "outputs": [],
   "source": [
    "# thriller_df['Score'] = thriller_df['Score'].astype('float')\n",
    "# thriller_df.info()"
   ]
  },
  {
   "cell_type": "code",
   "execution_count": 330,
   "id": "337118c5",
   "metadata": {
    "scrolled": true
   },
   "outputs": [],
   "source": [
    "# thriller_df.groupby('Author')['Title'].count().sort_values(ascending=False)"
   ]
  },
  {
   "cell_type": "code",
   "execution_count": null,
   "id": "4e03449b",
   "metadata": {},
   "outputs": [],
   "source": []
  },
  {
   "cell_type": "code",
   "execution_count": 327,
   "id": "3afc3486",
   "metadata": {},
   "outputs": [],
   "source": [
    "# Helper functions\n",
    "def get_book_metadata(book_tag):\n",
    "    book_title = book_tag.find_all('a')[0]['title']\n",
    "    book_url = base_url + book_tag.find_all('a')[0]['href'] \n",
    "    \n",
    "    book_img = book_tag.find('img')['src']\n",
    "#     display(Image(book_img, width=70))\n",
    "\n",
    "    author_link = book_tag.find_all('a')[2]['href']\n",
    "    author_name = book_tag.find('span', itemprop=\"name\").text\n",
    "    \n",
    "    score, num_ratings, year_published = book_tag.find('span', class_=\"greyText smallText\").text.strip().split('\\n')\n",
    "    score = score.strip()[11:15]\n",
    "    num_ratings = \"\".join(num_ratings.strip().split(','))[:-3]\n",
    "    year_published = [x for x in year_published.strip().split() if x.isdigit()][0]\n",
    "    \n",
    "    book_info = {'Title': book_title,\n",
    "                 'Author': author_name,\n",
    "                 'Score': score,\n",
    "                 'Num_ratings': num_ratings,\n",
    "                 'Year_published': year_published}\n",
    "    \n",
    "    return book_info"
   ]
  },
  {
   "cell_type": "code",
   "execution_count": 328,
   "id": "ed61eb62",
   "metadata": {},
   "outputs": [],
   "source": [
    "def get_popular_books(genre):\n",
    "    url = genre_most_popular_dict[genre]\n",
    "    response = requests.get(url)\n",
    "    doc = BeautifulSoup(response.text, 'html.parser')\n",
    "    \n",
    "    book_tags = doc.find_all('div', class_=\"left\")\n",
    "    book_metadata_list = [get_book_metadata(tag) for tag in book_tags]\n",
    "    \n",
    "    ranks = [*range(1, len(book_tags)+1)]\n",
    "    genre_df = pd.DataFrame(book_metadata_list, index=ranks)\n",
    "    \n",
    "    return genre_df"
   ]
  },
  {
   "cell_type": "code",
   "execution_count": 331,
   "id": "67c723b7",
   "metadata": {},
   "outputs": [
    {
     "data": {
      "text/html": [
       "<div>\n",
       "<style scoped>\n",
       "    .dataframe tbody tr th:only-of-type {\n",
       "        vertical-align: middle;\n",
       "    }\n",
       "\n",
       "    .dataframe tbody tr th {\n",
       "        vertical-align: top;\n",
       "    }\n",
       "\n",
       "    .dataframe thead th {\n",
       "        text-align: right;\n",
       "    }\n",
       "</style>\n",
       "<table border=\"1\" class=\"dataframe\">\n",
       "  <thead>\n",
       "    <tr style=\"text-align: right;\">\n",
       "      <th></th>\n",
       "      <th>Title</th>\n",
       "      <th>Author</th>\n",
       "      <th>Score</th>\n",
       "      <th>Num_ratings</th>\n",
       "      <th>Year_published</th>\n",
       "    </tr>\n",
       "  </thead>\n",
       "  <tbody>\n",
       "    <tr>\n",
       "      <th>1</th>\n",
       "      <td>Death Note, Vol. 1: Boredom (Death Note, #1)</td>\n",
       "      <td>Tsugumi Ohba</td>\n",
       "      <td>4.46</td>\n",
       "      <td>280645 ratings</td>\n",
       "      <td>2004</td>\n",
       "    </tr>\n",
       "    <tr>\n",
       "      <th>2</th>\n",
       "      <td>Fruits Basket, Vol. 1</td>\n",
       "      <td>Natsuki Takaya</td>\n",
       "      <td>4.28</td>\n",
       "      <td>183465 ratings</td>\n",
       "      <td>1999</td>\n",
       "    </tr>\n",
       "    <tr>\n",
       "      <th>3</th>\n",
       "      <td>Fullmetal Alchemist, Vol. 1 (Fullmetal Alchemi...</td>\n",
       "      <td>Hiromu Arakawa</td>\n",
       "      <td>4.52</td>\n",
       "      <td>156136 ratings</td>\n",
       "      <td>2002</td>\n",
       "    </tr>\n",
       "    <tr>\n",
       "      <th>4</th>\n",
       "      <td>Attack on Titan, Vol. 1 (Attack on Titan, #1)</td>\n",
       "      <td>Hajime Isayama</td>\n",
       "      <td>4.47</td>\n",
       "      <td>220058 ratings</td>\n",
       "      <td>2010</td>\n",
       "    </tr>\n",
       "    <tr>\n",
       "      <th>5</th>\n",
       "      <td>Black Butler, Vol. 1 (Black Butler, #1)</td>\n",
       "      <td>Yana Toboso</td>\n",
       "      <td>4.36</td>\n",
       "      <td>126353 ratings</td>\n",
       "      <td>2007</td>\n",
       "    </tr>\n",
       "    <tr>\n",
       "      <th>6</th>\n",
       "      <td>Naruto, Vol. 1: Uzumaki Naruto (Naruto, #1)</td>\n",
       "      <td>Masashi Kishimoto</td>\n",
       "      <td>4.41</td>\n",
       "      <td>196292 ratings</td>\n",
       "      <td>1999</td>\n",
       "    </tr>\n",
       "    <tr>\n",
       "      <th>7</th>\n",
       "      <td>Bleach, Vol. 1 (Bleach, #1)</td>\n",
       "      <td>Tite Kubo</td>\n",
       "      <td>4.25</td>\n",
       "      <td>170347 ratings</td>\n",
       "      <td>2002</td>\n",
       "    </tr>\n",
       "    <tr>\n",
       "      <th>8</th>\n",
       "      <td>Ouran High School Host Club, Vol. 1 (Ouran Hig...</td>\n",
       "      <td>Bisco Hatori</td>\n",
       "      <td>4.38</td>\n",
       "      <td>173371 ratings</td>\n",
       "      <td>2003</td>\n",
       "    </tr>\n",
       "    <tr>\n",
       "      <th>9</th>\n",
       "      <td>Confluence (Death Note, #2)</td>\n",
       "      <td>Tsugumi Ohba</td>\n",
       "      <td>4.47</td>\n",
       "      <td>48130 ratings</td>\n",
       "      <td>2004</td>\n",
       "    </tr>\n",
       "    <tr>\n",
       "      <th>10</th>\n",
       "      <td>My Hero Academia, Vol. 1</td>\n",
       "      <td>Kohei Horikoshi</td>\n",
       "      <td>4.38</td>\n",
       "      <td>107577 ratings</td>\n",
       "      <td>2014</td>\n",
       "    </tr>\n",
       "    <tr>\n",
       "      <th>11</th>\n",
       "      <td>Chainsaw Man, Vol. 1: Dog and Chainsaw</td>\n",
       "      <td>Tatsuki Fujimoto</td>\n",
       "      <td>4.39</td>\n",
       "      <td>60102 ratings</td>\n",
       "      <td>2019</td>\n",
       "    </tr>\n",
       "    <tr>\n",
       "      <th>12</th>\n",
       "      <td>Vampire Knight, Vol. 1 (Vampire Knight, #1)</td>\n",
       "      <td>Matsuri Hino</td>\n",
       "      <td>4.08</td>\n",
       "      <td>125762 ratings</td>\n",
       "      <td>2005</td>\n",
       "    </tr>\n",
       "    <tr>\n",
       "      <th>13</th>\n",
       "      <td>One Piece, Volume 1: Romance Dawn (One Piece, #1)</td>\n",
       "      <td>Eiichiro Oda</td>\n",
       "      <td>4.47</td>\n",
       "      <td>126725 ratings</td>\n",
       "      <td>1997</td>\n",
       "    </tr>\n",
       "    <tr>\n",
       "      <th>14</th>\n",
       "      <td>Death Note, Vol. 3: Hard Run (Death Note, #3)</td>\n",
       "      <td>Tsugumi Ohba</td>\n",
       "      <td>4.45</td>\n",
       "      <td>35444 ratings</td>\n",
       "      <td>2004</td>\n",
       "    </tr>\n",
       "    <tr>\n",
       "      <th>15</th>\n",
       "      <td>Attack on Titan, Vol. 3 (Attack on Titan, #3)</td>\n",
       "      <td>Hajime Isayama</td>\n",
       "      <td>4.46</td>\n",
       "      <td>30966 ratings</td>\n",
       "      <td>2010</td>\n",
       "    </tr>\n",
       "    <tr>\n",
       "      <th>16</th>\n",
       "      <td>Death Note, Vol. 4: Love (Death Note, #4)</td>\n",
       "      <td>Tsugumi Ohba</td>\n",
       "      <td>4.42</td>\n",
       "      <td>35960 ratings</td>\n",
       "      <td>2004</td>\n",
       "    </tr>\n",
       "    <tr>\n",
       "      <th>17</th>\n",
       "      <td>Fairy Tail, Vol. 01 (Fairy Tail, #1)</td>\n",
       "      <td>Hiro Mashima</td>\n",
       "      <td>4.36</td>\n",
       "      <td>113825 ratings</td>\n",
       "      <td>2006</td>\n",
       "    </tr>\n",
       "    <tr>\n",
       "      <th>18</th>\n",
       "      <td>Tokyo Ghoul, Tome 1 (Tokyo Ghoul, #1)</td>\n",
       "      <td>Sui Ishida</td>\n",
       "      <td>4.42</td>\n",
       "      <td>132401 ratings</td>\n",
       "      <td>2012</td>\n",
       "    </tr>\n",
       "    <tr>\n",
       "      <th>19</th>\n",
       "      <td>SPY×FAMILY 2 (SPY×FAMILY, #2)</td>\n",
       "      <td>Tatsuya Endo</td>\n",
       "      <td>4.57</td>\n",
       "      <td>35998 ratings</td>\n",
       "      <td>2019</td>\n",
       "    </tr>\n",
       "    <tr>\n",
       "      <th>20</th>\n",
       "      <td>Death Note, Vol. 5: Whiteout (Death Note, #5)</td>\n",
       "      <td>Tsugumi Ohba</td>\n",
       "      <td>4.32</td>\n",
       "      <td>27787 ratings</td>\n",
       "      <td>2005</td>\n",
       "    </tr>\n",
       "    <tr>\n",
       "      <th>21</th>\n",
       "      <td>Fruits Basket, Vol. 3</td>\n",
       "      <td>Natsuki Takaya</td>\n",
       "      <td>4.39</td>\n",
       "      <td>19621 ratings</td>\n",
       "      <td>1999</td>\n",
       "    </tr>\n",
       "    <tr>\n",
       "      <th>22</th>\n",
       "      <td>Fruits Basket, Vol. 4</td>\n",
       "      <td>Natsuki Takaya</td>\n",
       "      <td>4.41</td>\n",
       "      <td>19867 ratings</td>\n",
       "      <td>2000</td>\n",
       "    </tr>\n",
       "    <tr>\n",
       "      <th>23</th>\n",
       "      <td>Death Note, Vol. 6: Give-and-Take (Death Note,...</td>\n",
       "      <td>Tsugumi Ohba</td>\n",
       "      <td>4.39</td>\n",
       "      <td>25830 ratings</td>\n",
       "      <td>2005</td>\n",
       "    </tr>\n",
       "    <tr>\n",
       "      <th>24</th>\n",
       "      <td>Nana, Vol. 1</td>\n",
       "      <td>Ai Yazawa</td>\n",
       "      <td>4.32</td>\n",
       "      <td>50229 ratings</td>\n",
       "      <td>2000</td>\n",
       "    </tr>\n",
       "    <tr>\n",
       "      <th>25</th>\n",
       "      <td>鬼滅の刃 1 [Kimetsu no Yaiba 1]</td>\n",
       "      <td>Koyoharu Gotouge</td>\n",
       "      <td>4.52</td>\n",
       "      <td>80733 ratings</td>\n",
       "      <td>2016</td>\n",
       "    </tr>\n",
       "    <tr>\n",
       "      <th>26</th>\n",
       "      <td>Spy×Family 3 (SpyxFamily, #3)</td>\n",
       "      <td>Tatsuya Endo</td>\n",
       "      <td>4.54</td>\n",
       "      <td>28984 ratings</td>\n",
       "      <td>2020</td>\n",
       "    </tr>\n",
       "    <tr>\n",
       "      <th>27</th>\n",
       "      <td>Fruits Basket, Vol. 5</td>\n",
       "      <td>Natsuki Takaya</td>\n",
       "      <td>4.41</td>\n",
       "      <td>18062 ratings</td>\n",
       "      <td>2000</td>\n",
       "    </tr>\n",
       "    <tr>\n",
       "      <th>28</th>\n",
       "      <td>進撃の巨人 7 [Shingeki no Kyojin 7] (Attack on Tita...</td>\n",
       "      <td>Hajime Isayama</td>\n",
       "      <td>4.52</td>\n",
       "      <td>18042 ratings</td>\n",
       "      <td>2012</td>\n",
       "    </tr>\n",
       "    <tr>\n",
       "      <th>29</th>\n",
       "      <td>Spy×Family, Vol. 1 (Spy×Family, #1)</td>\n",
       "      <td>Tatsuya Endo</td>\n",
       "      <td>4.50</td>\n",
       "      <td>98773 ratings</td>\n",
       "      <td>2019</td>\n",
       "    </tr>\n",
       "    <tr>\n",
       "      <th>30</th>\n",
       "      <td>Spy×Family, Vol. 1 (Spy×Family, #1)</td>\n",
       "      <td>Tatsuya Endo</td>\n",
       "      <td>4.50</td>\n",
       "      <td>98773 ratings</td>\n",
       "      <td>2019</td>\n",
       "    </tr>\n",
       "    <tr>\n",
       "      <th>31</th>\n",
       "      <td>Fruits Basket, Vol. 2</td>\n",
       "      <td>Natsuki Takaya</td>\n",
       "      <td>4.38</td>\n",
       "      <td>21961 ratings</td>\n",
       "      <td>1999</td>\n",
       "    </tr>\n",
       "    <tr>\n",
       "      <th>32</th>\n",
       "      <td>Fruits Basket, Vol. 6</td>\n",
       "      <td>Natsuki Takaya</td>\n",
       "      <td>4.46</td>\n",
       "      <td>18663 ratings</td>\n",
       "      <td>2000</td>\n",
       "    </tr>\n",
       "    <tr>\n",
       "      <th>33</th>\n",
       "      <td>Death Note, Vol. 8: Target (Death Note, #8)</td>\n",
       "      <td>Tsugumi Ohba</td>\n",
       "      <td>4.24</td>\n",
       "      <td>23064 ratings</td>\n",
       "      <td>2005</td>\n",
       "    </tr>\n",
       "    <tr>\n",
       "      <th>34</th>\n",
       "      <td>ワンパンマン 1 一撃 [One Punch Man 1: Ichigeki]</td>\n",
       "      <td>ONE</td>\n",
       "      <td>4.49</td>\n",
       "      <td>65581 ratings</td>\n",
       "      <td>2012</td>\n",
       "    </tr>\n",
       "    <tr>\n",
       "      <th>35</th>\n",
       "      <td>Fruits Basket, Vol. 8</td>\n",
       "      <td>Natsuki Takaya</td>\n",
       "      <td>4.43</td>\n",
       "      <td>16704 ratings</td>\n",
       "      <td>2002</td>\n",
       "    </tr>\n",
       "    <tr>\n",
       "      <th>36</th>\n",
       "      <td>呪術廻戦 1 (Jujutsu Kaisen, #1)</td>\n",
       "      <td>Gege Akutami</td>\n",
       "      <td>4.54</td>\n",
       "      <td>38626 ratings</td>\n",
       "      <td>2018</td>\n",
       "    </tr>\n",
       "    <tr>\n",
       "      <th>37</th>\n",
       "      <td>Death Note, Vol. 7: Zero (Death Note, #7)</td>\n",
       "      <td>Tsugumi Ohba</td>\n",
       "      <td>4.44</td>\n",
       "      <td>26503 ratings</td>\n",
       "      <td>2005</td>\n",
       "    </tr>\n",
       "    <tr>\n",
       "      <th>38</th>\n",
       "      <td>Fruits Basket, Vol. 11</td>\n",
       "      <td>Natsuki Takaya</td>\n",
       "      <td>4.47</td>\n",
       "      <td>15448 ratings</td>\n",
       "      <td>2003</td>\n",
       "    </tr>\n",
       "    <tr>\n",
       "      <th>39</th>\n",
       "      <td>チェンソーマン 2 [Chainsaw Man 2]</td>\n",
       "      <td>Tatsuki Fujimoto</td>\n",
       "      <td>4.30</td>\n",
       "      <td>24362 ratings</td>\n",
       "      <td>2019</td>\n",
       "    </tr>\n",
       "    <tr>\n",
       "      <th>40</th>\n",
       "      <td>Skip Beat!, Vol. 1</td>\n",
       "      <td>Yoshiki Nakamura</td>\n",
       "      <td>4.26</td>\n",
       "      <td>59902 ratings</td>\n",
       "      <td>2002</td>\n",
       "    </tr>\n",
       "    <tr>\n",
       "      <th>41</th>\n",
       "      <td>Kimi ni Todoke: From Me to You, Vol. 1</td>\n",
       "      <td>Karuho Shiina</td>\n",
       "      <td>4.28</td>\n",
       "      <td>58211 ratings</td>\n",
       "      <td>2006</td>\n",
       "    </tr>\n",
       "    <tr>\n",
       "      <th>42</th>\n",
       "      <td>ハイキュー!! 1 [Haikyū!! 1]</td>\n",
       "      <td>Haruichi Furudate</td>\n",
       "      <td>4.58</td>\n",
       "      <td>43192 ratings</td>\n",
       "      <td>2012</td>\n",
       "    </tr>\n",
       "    <tr>\n",
       "      <th>43</th>\n",
       "      <td>Tokyo Ghoul, Tome 1 (Tokyo Ghoul, #1)</td>\n",
       "      <td>Sui Ishida</td>\n",
       "      <td>4.42</td>\n",
       "      <td>132401 ratings</td>\n",
       "      <td>2012</td>\n",
       "    </tr>\n",
       "    <tr>\n",
       "      <th>44</th>\n",
       "      <td>Ouran High School Host Club, Vol. 2 (Ouran Hig...</td>\n",
       "      <td>Bisco Hatori</td>\n",
       "      <td>4.44</td>\n",
       "      <td>20147 ratings</td>\n",
       "      <td>2003</td>\n",
       "    </tr>\n",
       "    <tr>\n",
       "      <th>45</th>\n",
       "      <td>Black Butler, Vol. 2 (Black Butler, #2)</td>\n",
       "      <td>Yana Toboso</td>\n",
       "      <td>4.46</td>\n",
       "      <td>30905 ratings</td>\n",
       "      <td>2007</td>\n",
       "    </tr>\n",
       "    <tr>\n",
       "      <th>46</th>\n",
       "      <td>Fruits Basket, Vol. 14</td>\n",
       "      <td>Natsuki Takaya</td>\n",
       "      <td>4.47</td>\n",
       "      <td>16124 ratings</td>\n",
       "      <td>2004</td>\n",
       "    </tr>\n",
       "    <tr>\n",
       "      <th>47</th>\n",
       "      <td>Fruits Basket, Vol. 13</td>\n",
       "      <td>Natsuki Takaya</td>\n",
       "      <td>4.45</td>\n",
       "      <td>17000 ratings</td>\n",
       "      <td>2003</td>\n",
       "    </tr>\n",
       "    <tr>\n",
       "      <th>48</th>\n",
       "      <td>チェンソーマン 3 [Chainsaw Man 3]</td>\n",
       "      <td>Tatsuki Fujimoto</td>\n",
       "      <td>4.34</td>\n",
       "      <td>19140 ratings</td>\n",
       "      <td>2019</td>\n",
       "    </tr>\n",
       "    <tr>\n",
       "      <th>49</th>\n",
       "      <td>Tsubasa: RESERVoir CHRoNiCLE, Vol. 1</td>\n",
       "      <td>CLAMP</td>\n",
       "      <td>4.13</td>\n",
       "      <td>42006 ratings</td>\n",
       "      <td>2003</td>\n",
       "    </tr>\n",
       "    <tr>\n",
       "      <th>50</th>\n",
       "      <td>僕のヒーローアカデミア 2 [Boku No Hero Academia 2]</td>\n",
       "      <td>Kohei Horikoshi</td>\n",
       "      <td>4.47</td>\n",
       "      <td>29056 ratings</td>\n",
       "      <td>2015</td>\n",
       "    </tr>\n",
       "  </tbody>\n",
       "</table>\n",
       "</div>"
      ],
      "text/plain": [
       "                                                Title             Author  \\\n",
       "1        Death Note, Vol. 1: Boredom (Death Note, #1)       Tsugumi Ohba   \n",
       "2                               Fruits Basket, Vol. 1     Natsuki Takaya   \n",
       "3   Fullmetal Alchemist, Vol. 1 (Fullmetal Alchemi...     Hiromu Arakawa   \n",
       "4       Attack on Titan, Vol. 1 (Attack on Titan, #1)     Hajime Isayama   \n",
       "5             Black Butler, Vol. 1 (Black Butler, #1)        Yana Toboso   \n",
       "6         Naruto, Vol. 1: Uzumaki Naruto (Naruto, #1)  Masashi Kishimoto   \n",
       "7                         Bleach, Vol. 1 (Bleach, #1)          Tite Kubo   \n",
       "8   Ouran High School Host Club, Vol. 1 (Ouran Hig...       Bisco Hatori   \n",
       "9                         Confluence (Death Note, #2)       Tsugumi Ohba   \n",
       "10                           My Hero Academia, Vol. 1    Kohei Horikoshi   \n",
       "11             Chainsaw Man, Vol. 1: Dog and Chainsaw   Tatsuki Fujimoto   \n",
       "12        Vampire Knight, Vol. 1 (Vampire Knight, #1)       Matsuri Hino   \n",
       "13  One Piece, Volume 1: Romance Dawn (One Piece, #1)       Eiichiro Oda   \n",
       "14      Death Note, Vol. 3: Hard Run (Death Note, #3)       Tsugumi Ohba   \n",
       "15      Attack on Titan, Vol. 3 (Attack on Titan, #3)     Hajime Isayama   \n",
       "16          Death Note, Vol. 4: Love (Death Note, #4)       Tsugumi Ohba   \n",
       "17               Fairy Tail, Vol. 01 (Fairy Tail, #1)       Hiro Mashima   \n",
       "18              Tokyo Ghoul, Tome 1 (Tokyo Ghoul, #1)         Sui Ishida   \n",
       "19                      SPY×FAMILY 2 (SPY×FAMILY, #2)       Tatsuya Endo   \n",
       "20      Death Note, Vol. 5: Whiteout (Death Note, #5)       Tsugumi Ohba   \n",
       "21                              Fruits Basket, Vol. 3     Natsuki Takaya   \n",
       "22                              Fruits Basket, Vol. 4     Natsuki Takaya   \n",
       "23  Death Note, Vol. 6: Give-and-Take (Death Note,...       Tsugumi Ohba   \n",
       "24                                       Nana, Vol. 1          Ai Yazawa   \n",
       "25                        鬼滅の刃 1 [Kimetsu no Yaiba 1]   Koyoharu Gotouge   \n",
       "26                      Spy×Family 3 (SpyxFamily, #3)       Tatsuya Endo   \n",
       "27                              Fruits Basket, Vol. 5     Natsuki Takaya   \n",
       "28  進撃の巨人 7 [Shingeki no Kyojin 7] (Attack on Tita...     Hajime Isayama   \n",
       "29                Spy×Family, Vol. 1 (Spy×Family, #1)       Tatsuya Endo   \n",
       "30                Spy×Family, Vol. 1 (Spy×Family, #1)       Tatsuya Endo   \n",
       "31                              Fruits Basket, Vol. 2     Natsuki Takaya   \n",
       "32                              Fruits Basket, Vol. 6     Natsuki Takaya   \n",
       "33        Death Note, Vol. 8: Target (Death Note, #8)       Tsugumi Ohba   \n",
       "34            ワンパンマン 1 一撃 [One Punch Man 1: Ichigeki]                ONE   \n",
       "35                              Fruits Basket, Vol. 8     Natsuki Takaya   \n",
       "36                        呪術廻戦 1 (Jujutsu Kaisen, #1)       Gege Akutami   \n",
       "37          Death Note, Vol. 7: Zero (Death Note, #7)       Tsugumi Ohba   \n",
       "38                             Fruits Basket, Vol. 11     Natsuki Takaya   \n",
       "39                         チェンソーマン 2 [Chainsaw Man 2]   Tatsuki Fujimoto   \n",
       "40                                 Skip Beat!, Vol. 1   Yoshiki Nakamura   \n",
       "41             Kimi ni Todoke: From Me to You, Vol. 1      Karuho Shiina   \n",
       "42                             ハイキュー!! 1 [Haikyū!! 1]  Haruichi Furudate   \n",
       "43              Tokyo Ghoul, Tome 1 (Tokyo Ghoul, #1)         Sui Ishida   \n",
       "44  Ouran High School Host Club, Vol. 2 (Ouran Hig...       Bisco Hatori   \n",
       "45            Black Butler, Vol. 2 (Black Butler, #2)        Yana Toboso   \n",
       "46                             Fruits Basket, Vol. 14     Natsuki Takaya   \n",
       "47                             Fruits Basket, Vol. 13     Natsuki Takaya   \n",
       "48                         チェンソーマン 3 [Chainsaw Man 3]   Tatsuki Fujimoto   \n",
       "49               Tsubasa: RESERVoir CHRoNiCLE, Vol. 1              CLAMP   \n",
       "50            僕のヒーローアカデミア 2 [Boku No Hero Academia 2]    Kohei Horikoshi   \n",
       "\n",
       "   Score     Num_ratings Year_published  \n",
       "1   4.46  280645 ratings           2004  \n",
       "2   4.28  183465 ratings           1999  \n",
       "3   4.52  156136 ratings           2002  \n",
       "4   4.47  220058 ratings           2010  \n",
       "5   4.36  126353 ratings           2007  \n",
       "6   4.41  196292 ratings           1999  \n",
       "7   4.25  170347 ratings           2002  \n",
       "8   4.38  173371 ratings           2003  \n",
       "9   4.47   48130 ratings           2004  \n",
       "10  4.38  107577 ratings           2014  \n",
       "11  4.39   60102 ratings           2019  \n",
       "12  4.08  125762 ratings           2005  \n",
       "13  4.47  126725 ratings           1997  \n",
       "14  4.45   35444 ratings           2004  \n",
       "15  4.46   30966 ratings           2010  \n",
       "16  4.42   35960 ratings           2004  \n",
       "17  4.36  113825 ratings           2006  \n",
       "18  4.42  132401 ratings           2012  \n",
       "19  4.57   35998 ratings           2019  \n",
       "20  4.32   27787 ratings           2005  \n",
       "21  4.39   19621 ratings           1999  \n",
       "22  4.41   19867 ratings           2000  \n",
       "23  4.39   25830 ratings           2005  \n",
       "24  4.32   50229 ratings           2000  \n",
       "25  4.52   80733 ratings           2016  \n",
       "26  4.54   28984 ratings           2020  \n",
       "27  4.41   18062 ratings           2000  \n",
       "28  4.52   18042 ratings           2012  \n",
       "29  4.50   98773 ratings           2019  \n",
       "30  4.50   98773 ratings           2019  \n",
       "31  4.38   21961 ratings           1999  \n",
       "32  4.46   18663 ratings           2000  \n",
       "33  4.24   23064 ratings           2005  \n",
       "34  4.49   65581 ratings           2012  \n",
       "35  4.43   16704 ratings           2002  \n",
       "36  4.54   38626 ratings           2018  \n",
       "37  4.44   26503 ratings           2005  \n",
       "38  4.47   15448 ratings           2003  \n",
       "39  4.30   24362 ratings           2019  \n",
       "40  4.26   59902 ratings           2002  \n",
       "41  4.28   58211 ratings           2006  \n",
       "42  4.58   43192 ratings           2012  \n",
       "43  4.42  132401 ratings           2012  \n",
       "44  4.44   20147 ratings           2003  \n",
       "45  4.46   30905 ratings           2007  \n",
       "46  4.47   16124 ratings           2004  \n",
       "47  4.45   17000 ratings           2003  \n",
       "48  4.34   19140 ratings           2019  \n",
       "49  4.13   42006 ratings           2003  \n",
       "50  4.47   29056 ratings           2015  "
      ]
     },
     "execution_count": 331,
     "metadata": {},
     "output_type": "execute_result"
    }
   ],
   "source": [
    "get_popular_books(genre='Manga')"
   ]
  },
  {
   "cell_type": "code",
   "execution_count": null,
   "id": "c64ba48d",
   "metadata": {},
   "outputs": [],
   "source": []
  }
 ],
 "metadata": {
  "kernelspec": {
   "display_name": "Python 3 (ipykernel)",
   "language": "python",
   "name": "python3"
  },
  "language_info": {
   "codemirror_mode": {
    "name": "ipython",
    "version": 3
   },
   "file_extension": ".py",
   "mimetype": "text/x-python",
   "name": "python",
   "nbconvert_exporter": "python",
   "pygments_lexer": "ipython3",
   "version": "3.9.13"
  }
 },
 "nbformat": 4,
 "nbformat_minor": 5
}
