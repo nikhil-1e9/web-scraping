{
 "cells": [
  {
   "cell_type": "code",
   "execution_count": 2,
   "id": "844a073f",
   "metadata": {},
   "outputs": [],
   "source": [
    "import requests\n",
    "from bs4 import BeautifulSoup\n",
    "import pandas as pd\n",
    "import numpy as np\n",
    "import matplotlib.pyplot as plt\n",
    "import seaborn as sns"
   ]
  },
  {
   "cell_type": "code",
   "execution_count": 3,
   "id": "bdd985d0",
   "metadata": {},
   "outputs": [],
   "source": [
    "URL = \"https://www.goodreads.com/quotes\""
   ]
  },
  {
   "cell_type": "code",
   "execution_count": 4,
   "id": "fe08f29f",
   "metadata": {},
   "outputs": [
    {
     "data": {
      "text/plain": [
       "200"
      ]
     },
     "execution_count": 4,
     "metadata": {},
     "output_type": "execute_result"
    }
   ],
   "source": [
    "response=requests.get(URL)\n",
    "response.status_code"
   ]
  },
  {
   "cell_type": "code",
   "execution_count": 13,
   "id": "d96ad6d2",
   "metadata": {},
   "outputs": [],
   "source": [
    "soup = BeautifulSoup(response.text, 'html.parser')"
   ]
  },
  {
   "cell_type": "code",
   "execution_count": 16,
   "id": "8eaea669",
   "metadata": {},
   "outputs": [
    {
     "data": {
      "text/plain": [
       "['',\n",
       " '',\n",
       " '',\n",
       " '',\n",
       " '',\n",
       " '      “Be yourself; everyone else is already taken.”',\n",
       " '    ',\n",
       " '  ―',\n",
       " '  ',\n",
       " '    Oscar Wilde',\n",
       " '  ',\n",
       " '',\n",
       " '',\n",
       " '',\n",
       " '     tags:',\n",
       " '       attributed-no-source,',\n",
       " '       be-yourself,',\n",
       " '       gilbert-perreira,',\n",
       " '       honesty,',\n",
       " '       inspirational,',\n",
       " '       misattributed-oscar-wilde,',\n",
       " '       quote-investigator',\n",
       " '',\n",
       " '',\n",
       " '168620 likes',\n",
       " '',\n",
       " '',\n",
       " '']"
      ]
     },
     "execution_count": 16,
     "metadata": {},
     "output_type": "execute_result"
    }
   ],
   "source": [
    "soup.find_all('div', class_='quoteDetails')[0].text.split('\\n')"
   ]
  },
  {
   "cell_type": "code",
   "execution_count": null,
   "id": "f82eff84",
   "metadata": {},
   "outputs": [],
   "source": []
  }
 ],
 "metadata": {
  "kernelspec": {
   "display_name": "Python 3 (ipykernel)",
   "language": "python",
   "name": "python3"
  },
  "language_info": {
   "codemirror_mode": {
    "name": "ipython",
    "version": 3
   },
   "file_extension": ".py",
   "mimetype": "text/x-python",
   "name": "python",
   "nbconvert_exporter": "python",
   "pygments_lexer": "ipython3",
   "version": "3.9.13"
  }
 },
 "nbformat": 4,
 "nbformat_minor": 5
}
