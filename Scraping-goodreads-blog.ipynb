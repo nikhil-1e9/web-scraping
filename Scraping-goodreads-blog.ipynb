{
 "cells": [
  {
   "cell_type": "markdown",
   "id": "a66ba7c4",
   "metadata": {},
   "source": [
    "# Web Scraping Popular Books on Goodreads using Python"
   ]
  },
  {
   "cell_type": "code",
   "execution_count": 1,
   "id": "23664896",
   "metadata": {},
   "outputs": [],
   "source": [
    "# importing required libraries\n",
    "import requests\n",
    "import os\n",
    "from bs4 import BeautifulSoup\n",
    "import pandas as pd\n",
    "\n",
    "from IPython.display import display, Image"
   ]
  },
  {
   "cell_type": "code",
   "execution_count": 2,
   "id": "a2a0f574",
   "metadata": {},
   "outputs": [],
   "source": [
    "base_url = \"https://www.goodreads.com\"\n",
    "genres_url = \"https://www.goodreads.com/genres\""
   ]
  },
  {
   "cell_type": "code",
   "execution_count": 3,
   "id": "351421fd",
   "metadata": {},
   "outputs": [
    {
     "data": {
      "text/plain": [
       "200"
      ]
     },
     "execution_count": 3,
     "metadata": {},
     "output_type": "execute_result"
    }
   ],
   "source": [
    "response = requests.get(genres_url)\n",
    "response.status_code"
   ]
  },
  {
   "cell_type": "markdown",
   "id": "86b9130b",
   "metadata": {},
   "source": [
    "The status code provides information about the request. If the request was completed successfully then status code should be 200. List of other status codes https://en.wikipedia.org/wiki/List_of_HTTP_status_codes"
   ]
  },
  {
   "cell_type": "markdown",
   "id": "00c3a5ee",
   "metadata": {},
   "source": [
    "## Extracting genres\n",
    "First I will extract the genres of the books from the genres page and store it in a dictionary"
   ]
  },
  {
   "cell_type": "code",
   "execution_count": 5,
   "id": "92571493",
   "metadata": {},
   "outputs": [
    {
     "data": {
      "text/plain": [
       "{'Art': 'https://www.goodreads.com/shelf/show/art',\n",
       " 'Biography': 'https://www.goodreads.com/shelf/show/biography',\n",
       " 'Business': 'https://www.goodreads.com/shelf/show/business',\n",
       " 'Chick Lit': 'https://www.goodreads.com/shelf/show/chick-lit',\n",
       " \"Children's\": 'https://www.goodreads.com/shelf/show/children-s',\n",
       " 'Christian': 'https://www.goodreads.com/shelf/show/christian',\n",
       " 'Classics': 'https://www.goodreads.com/shelf/show/classics',\n",
       " 'Comics': 'https://www.goodreads.com/shelf/show/comics',\n",
       " 'Contemporary': 'https://www.goodreads.com/shelf/show/contemporary',\n",
       " 'Cookbooks': 'https://www.goodreads.com/shelf/show/cookbooks',\n",
       " 'Crime': 'https://www.goodreads.com/shelf/show/crime',\n",
       " 'Ebooks': 'https://www.goodreads.com/shelf/show/ebooks',\n",
       " 'Fantasy': 'https://www.goodreads.com/shelf/show/fantasy',\n",
       " 'Fiction': 'https://www.goodreads.com/shelf/show/fiction',\n",
       " 'Gay and Lesbian': 'https://www.goodreads.com/shelf/show/gay-and-lesbian',\n",
       " 'Graphic Novels': 'https://www.goodreads.com/shelf/show/graphic-novels',\n",
       " 'Historical Fiction': 'https://www.goodreads.com/shelf/show/historical-fiction',\n",
       " 'History': 'https://www.goodreads.com/shelf/show/history',\n",
       " 'Horror': 'https://www.goodreads.com/shelf/show/horror',\n",
       " 'Humor and Comedy': 'https://www.goodreads.com/shelf/show/humor-and-comedy',\n",
       " 'Manga': 'https://www.goodreads.com/shelf/show/manga',\n",
       " 'Memoir': 'https://www.goodreads.com/shelf/show/memoir',\n",
       " 'Music': 'https://www.goodreads.com/shelf/show/music',\n",
       " 'Mystery': 'https://www.goodreads.com/shelf/show/mystery',\n",
       " 'Nonfiction': 'https://www.goodreads.com/shelf/show/non-fiction',\n",
       " 'Paranormal': 'https://www.goodreads.com/shelf/show/paranormal',\n",
       " 'Philosophy': 'https://www.goodreads.com/shelf/show/philosophy',\n",
       " 'Poetry': 'https://www.goodreads.com/shelf/show/poetry',\n",
       " 'Psychology': 'https://www.goodreads.com/shelf/show/psychology',\n",
       " 'Religion': 'https://www.goodreads.com/shelf/show/religion',\n",
       " 'Romance': 'https://www.goodreads.com/shelf/show/romance',\n",
       " 'Science': 'https://www.goodreads.com/shelf/show/science',\n",
       " 'Science Fiction': 'https://www.goodreads.com/shelf/show/science-fiction',\n",
       " 'Self Help': 'https://www.goodreads.com/shelf/show/self-help',\n",
       " 'Suspense': 'https://www.goodreads.com/shelf/show/suspense',\n",
       " 'Spirituality': 'https://www.goodreads.com/shelf/show/spirituality',\n",
       " 'Sports': 'https://www.goodreads.com/shelf/show/sports',\n",
       " 'Thriller': 'https://www.goodreads.com/shelf/show/thriller',\n",
       " 'Travel': 'https://www.goodreads.com/shelf/show/travel',\n",
       " 'Young Adult': 'https://www.goodreads.com/shelf/show/young-adult'}"
      ]
     },
     "execution_count": 5,
     "metadata": {},
     "output_type": "execute_result"
    }
   ],
   "source": [
    "doc = BeautifulSoup(response.text, 'html.parser')\n",
    "genre_tags = doc.find_all('div', class_=\"rightContainer\")[0].find_all('a')\n",
    "genre_names = [tag.text for tag in genre_tags][1:-1]\n",
    "genre_links = [tag['href'] for tag in genre_tags][1:-1]\n",
    "genre_most_popular_dict = {name: base_url + \"/shelf/show\" + link[7:] for (name, link) in zip(genre_names, genre_links)}\n",
    "genre_most_popular_dict"
   ]
  },
  {
   "cell_type": "code",
   "execution_count": 6,
   "id": "70ae30ec",
   "metadata": {},
   "outputs": [
    {
     "data": {
      "text/plain": [
       "40"
      ]
     },
     "execution_count": 6,
     "metadata": {},
     "output_type": "execute_result"
    }
   ],
   "source": [
    "len(genre_most_popular_dict)"
   ]
  },
  {
   "cell_type": "markdown",
   "id": "fd3743b3",
   "metadata": {},
   "source": [
    "There are 40 genres in total. Let's pick anyone and start exploring the most popular books from that genre. \n",
    "\n",
    "I will pick my favorite the science-fiction genre."
   ]
  },
  {
   "cell_type": "markdown",
   "id": "11bd6c10",
   "metadata": {},
   "source": [
    "## Exploring Science Fiction"
   ]
  },
  {
   "cell_type": "code",
   "execution_count": 7,
   "id": "d4724717",
   "metadata": {},
   "outputs": [
    {
     "data": {
      "text/plain": [
       "'https://www.goodreads.com/shelf/show/science-fiction'"
      ]
     },
     "execution_count": 7,
     "metadata": {},
     "output_type": "execute_result"
    }
   ],
   "source": [
    "sf_url = genre_most_popular_dict['Science Fiction']\n",
    "sf_url"
   ]
  },
  {
   "cell_type": "code",
   "execution_count": 8,
   "id": "5c5fdd40",
   "metadata": {},
   "outputs": [],
   "source": [
    "# Get the content from this url using a get request\n",
    "response = requests.get(sf_url)"
   ]
  },
  {
   "cell_type": "markdown",
   "id": "856945ba",
   "metadata": {},
   "source": [
    "The get method fetches the html of the page given the url address"
   ]
  },
  {
   "cell_type": "code",
   "execution_count": 15,
   "id": "c4b74394",
   "metadata": {},
   "outputs": [],
   "source": [
    "import pprint\n",
    "# pprint.pprint(response.text)"
   ]
  },
  {
   "cell_type": "markdown",
   "id": "f85d8921",
   "metadata": {},
   "source": [
    "The html doesn't look very neat in itself so we parse it using tht bs4 library "
   ]
  },
  {
   "cell_type": "markdown",
   "id": "db54939f",
   "metadata": {},
   "source": [
    "### Parsing the HTML"
   ]
  },
  {
   "cell_type": "code",
   "execution_count": 16,
   "id": "25f2b9b9",
   "metadata": {},
   "outputs": [],
   "source": [
    "# Parsing the html using beautiful soup\n",
    "doc = BeautifulSoup(response.text, 'html.parser')"
   ]
  },
  {
   "cell_type": "markdown",
   "id": "211c2e09",
   "metadata": {},
   "source": [
    "This doc contains all the information we need."
   ]
  },
  {
   "cell_type": "markdown",
   "id": "09c43fc7",
   "metadata": {},
   "source": [
    "### Extracting div tags"
   ]
  },
  {
   "cell_type": "markdown",
   "id": "7118ec5c",
   "metadata": {},
   "source": [
    "By inspecting the html, we find that the \"left\" class of the div element contains the information about all the listed books."
   ]
  },
  {
   "cell_type": "code",
   "execution_count": 21,
   "id": "6bb91fc1",
   "metadata": {},
   "outputs": [
    {
     "data": {
      "text/plain": [
       "<div class=\"left\" style=\"width: 75%;\">\n",
       "<a class=\"leftAlignedImage\" href=\"/book/show/44767458-dune\" title=\"Dune (Dune, #1)\"><img alt=\"Dune (Dune, #1)\" src=\"https://i.gr-assets.com/images/S/compressed.photo.goodreads.com/books/1555447414l/44767458._SY75_.jpg\"/></a>\n",
       "<a class=\"bookTitle\" href=\"/book/show/44767458-dune\">Dune (Dune, #1)</a>\n",
       "<br/>\n",
       "<span class=\"by\">by</span>\n",
       "<span itemprop=\"author\" itemscope=\"\" itemtype=\"http://schema.org/Person\">\n",
       "<div class=\"authorName__container\">\n",
       "<a class=\"authorName\" href=\"https://www.goodreads.com/author/show/58.Frank_Herbert\" itemprop=\"url\"><span itemprop=\"name\">Frank Herbert</span></a>\n",
       "</div>\n",
       "</span>\n",
       "\n",
       "\n",
       "              (shelved 18366 times as <em>science-fiction</em>)     \n",
       "\n",
       "              <br/>\n",
       "<span class=\"greyText smallText\">\n",
       "                avg rating 4.26 —\n",
       "                1,228,957 ratings  —\n",
       "                published 1965\n",
       "              </span>\n",
       "</div>"
      ]
     },
     "execution_count": 21,
     "metadata": {},
     "output_type": "execute_result"
    }
   ],
   "source": [
    "# Extract all book tags from the science-fiction genre\n",
    "book_tags = doc.find_all('div', class_=\"left\")\n",
    "book_tags[0]"
   ]
  },
  {
   "cell_type": "markdown",
   "id": "dd88e4d2",
   "metadata": {},
   "source": [
    "We should be able to get the book information from this simple html. Looks like most of the information is contained in the a tags. Let's have a look at them."
   ]
  },
  {
   "cell_type": "code",
   "execution_count": 26,
   "id": "22be0690",
   "metadata": {
    "scrolled": true
   },
   "outputs": [
    {
     "data": {
      "text/plain": [
       "[<a class=\"leftAlignedImage\" href=\"/book/show/44767458-dune\" title=\"Dune (Dune, #1)\"><img alt=\"Dune (Dune, #1)\" src=\"https://i.gr-assets.com/images/S/compressed.photo.goodreads.com/books/1555447414l/44767458._SY75_.jpg\"/></a>,\n",
       " <a class=\"bookTitle\" href=\"/book/show/44767458-dune\">Dune (Dune, #1)</a>,\n",
       " <a class=\"authorName\" href=\"https://www.goodreads.com/author/show/58.Frank_Herbert\" itemprop=\"url\"><span itemprop=\"name\">Frank Herbert</span></a>]"
      ]
     },
     "execution_count": 26,
     "metadata": {},
     "output_type": "execute_result"
    }
   ],
   "source": [
    "a_tags = book_tags[0].find_all('a')\n",
    "a_tags"
   ]
  },
  {
   "cell_type": "markdown",
   "id": "4f219b8a",
   "metadata": {},
   "source": [
    "### Extracting book info"
   ]
  },
  {
   "cell_type": "markdown",
   "id": "73df4ed6",
   "metadata": {},
   "source": [
    "As we can see the first a tag contain the page url and image of the book, the second contain the title and the third contain the author's name"
   ]
  },
  {
   "cell_type": "code",
   "execution_count": 39,
   "id": "a8fa81f8",
   "metadata": {},
   "outputs": [
    {
     "name": "stdout",
     "output_type": "stream",
     "text": [
      "https://www.goodreads.com/book/show/44767458-dune\n"
     ]
    },
    {
     "data": {
      "image/jpeg": "[encoded data removed]",
      "text/plain": [
       "<IPython.core.display.Image object>"
      ]
     },
     "metadata": {
      "image/jpeg": {
       "width": 80
      }
     },
     "output_type": "display_data"
    }
   ],
   "source": [
    "book_url = base_url + a_tags[0]['href']\n",
    "print(book_url)\n",
    "book_img = a_tags[0].find('img')['src']\n",
    "display(Image(book_img, width=80))"
   ]
  },
  {
   "cell_type": "code",
   "execution_count": 44,
   "id": "b2647455",
   "metadata": {},
   "outputs": [
    {
     "data": {
      "text/plain": [
       "'Dune (Dune, #1)'"
      ]
     },
     "execution_count": 44,
     "metadata": {},
     "output_type": "execute_result"
    }
   ],
   "source": [
    "book_title = a_tags[1].text\n",
    "book_title"
   ]
  },
  {
   "cell_type": "code",
   "execution_count": 64,
   "id": "1c694588",
   "metadata": {},
   "outputs": [
    {
     "name": "stdout",
     "output_type": "stream",
     "text": [
      "https://www.goodreads.com/author/show/58.Frank_Herbert\n",
      "Frank Herbert\n"
     ]
    }
   ],
   "source": [
    "author_link = a_tags[2]['href']\n",
    "print(author_link)\n",
    "author_name = a_tags[2].text\n",
    "print(author_name)"
   ]
  },
  {
   "cell_type": "markdown",
   "id": "8f0a3e44",
   "metadata": {},
   "source": [
    "In book tags the class greyText smallText contains the rating, number of ratings and the publishing year of the book"
   ]
  },
  {
   "cell_type": "code",
   "execution_count": 68,
   "id": "739afd71",
   "metadata": {},
   "outputs": [
    {
     "data": {
      "text/plain": [
       "<span class=\"greyText smallText\">\n",
       "                avg rating 4.26 —\n",
       "                1,228,957 ratings  —\n",
       "                published 1965\n",
       "              </span>"
      ]
     },
     "execution_count": 68,
     "metadata": {},
     "output_type": "execute_result"
    }
   ],
   "source": [
    "metadata = book_tags[0].find(class_='greyText smallText')\n",
    "metadata"
   ]
  },
  {
   "cell_type": "code",
   "execution_count": 80,
   "id": "e31a4d8e",
   "metadata": {},
   "outputs": [
    {
     "name": "stdout",
     "output_type": "stream",
     "text": [
      "Score: 4.26\n",
      "Ratings: 1,228,957\n",
      "Published: 1965\n"
     ]
    }
   ],
   "source": [
    "book_score = metadata.text.strip().split()[2]\n",
    "print(\"Score:\", book_score)\n",
    "num_ratings = metadata.text.strip().split()[4]\n",
    "print(\"Ratings:\", num_ratings)\n",
    "year_published = metadata.text.strip().split()[-1]\n",
    "print(\"Published:\", year_published)"
   ]
  },
  {
   "cell_type": "markdown",
   "id": "09352a42",
   "metadata": {},
   "source": [
    "That's all the information given for a book on the page.\n",
    "\n",
    "Now let's combine our results to get info for the top 50 most popular books in the science fiction genre"
   ]
  },
  {
   "cell_type": "code",
   "execution_count": 113,
   "id": "3a91465a",
   "metadata": {},
   "outputs": [],
   "source": [
    "# Get information about the book from the book tag\n",
    "def get_book_info(book_tag, base_url=\"https://www.goodreads.com\"):\n",
    "    # Extract <a> tags and metadata\n",
    "    a_tags = book_tag.find_all('a')\n",
    "    metadata = book_tag.find(class_='greyText smallText')\n",
    "    \n",
    "    # Get book url\n",
    "    book_url = base_url + a_tags[0]['href']\n",
    "    # Get book image\n",
    "    book_img = a_tags[0].find('img')['src']\n",
    "    # Get book title\n",
    "    book_title = a_tags[1].text\n",
    "    # Get author's name and url\n",
    "    author_link = a_tags[2]['href']\n",
    "    author_name = a_tags[2].text\n",
    "    # Get book score\n",
    "    book_score = metadata.text.strip().split()[2]\n",
    "    # Get book ratings\n",
    "    num_ratings = metadata.text.strip().split()[4]\n",
    "    # Get publishing year\n",
    "    year_published = metadata.text.strip().split()[-1]\n",
    "    \n",
    "    # Storing all of it in a dictionary\n",
    "    book_dict = {'Title': book_title,\n",
    "                 'Author': author_name,\n",
    "                 'Score': book_score,\n",
    "                 'Ratings': num_ratings,\n",
    "                 'Published': year_published,\n",
    "                 'url': book_url,\n",
    "                 'img': book_img,\n",
    "                 'author_url': author_link}\n",
    "    \n",
    "    return book_dict"
   ]
  },
  {
   "cell_type": "markdown",
   "id": "710756a4",
   "metadata": {},
   "source": [
    "### Display book info"
   ]
  },
  {
   "cell_type": "code",
   "execution_count": 114,
   "id": "753a54fa",
   "metadata": {},
   "outputs": [],
   "source": [
    "def display_book_info(book_tag):\n",
    "    book_dict = get_book_info(book_tag)\n",
    "    print(book_dict['Title'])\n",
    "    print(book_dict['url'])\n",
    "    display(Image(book_dict['img'], width=80))\n",
    "    print('by')\n",
    "    print(book_dict['Author'])\n",
    "    print(book_dict['author_url'])\n",
    "    print()\n",
    "    print(\"Score:\", book_dict['Score'])\n",
    "    print(\"Ratings:\", book_dict['Ratings'])\n",
    "    print(\"Published:\", book_dict['Published'])"
   ]
  },
  {
   "cell_type": "markdown",
   "id": "58707f56",
   "metadata": {},
   "source": [
    "The above function combines all our previous steps and prints the book info in a pretty manner. Let's see it in action"
   ]
  },
  {
   "cell_type": "code",
   "execution_count": 130,
   "id": "6d759f63",
   "metadata": {
    "scrolled": true
   },
   "outputs": [
    {
     "name": "stdout",
     "output_type": "stream",
     "text": [
      "Snow Crash (Kindle Edition)\n",
      "https://www.goodreads.com/book/show/40651883-snow-crash\n"
     ]
    },
    {
     "data": {
      "image/jpeg": "[encoded data removed]",
      "text/plain": [
       "<IPython.core.display.Image object>"
      ]
     },
     "metadata": {
      "image/jpeg": {
       "width": 80
      }
     },
     "output_type": "display_data"
    },
    {
     "name": "stdout",
     "output_type": "stream",
     "text": [
      "by\n",
      "Neal Stephenson\n",
      "https://www.goodreads.com/author/show/545.Neal_Stephenson\n",
      "\n",
      "Score: 4.02\n",
      "Ratings: 270,993\n",
      "Published: 1992\n"
     ]
    }
   ],
   "source": [
    "# Display any book from the top 50 popular books of science fiction\n",
    "display_book_info(book_tags[36])"
   ]
  },
  {
   "cell_type": "markdown",
   "id": "1241fb0f",
   "metadata": {},
   "source": [
    "Now let's go through all the books and store them in a dictionary for easy retrieval. This can be done in a single line like this:"
   ]
  },
  {
   "cell_type": "markdown",
   "id": "07637248",
   "metadata": {},
   "source": [
    "### Create dictionary for each book"
   ]
  },
  {
   "cell_type": "code",
   "execution_count": 131,
   "id": "382a14cc",
   "metadata": {},
   "outputs": [
    {
     "data": {
      "text/plain": [
       "[{'Title': 'Starship Troopers (Mass Market Paperback)',\n",
       "  'Author': 'Robert A. Heinlein',\n",
       "  'Score': '4.01',\n",
       "  'Ratings': '220,291',\n",
       "  'Published': '1959',\n",
       "  'url': 'https://www.goodreads.com/book/show/17214.Starship_Troopers',\n",
       "  'img': 'https://i.gr-assets.com/images/S/compressed.photo.goodreads.com/books/1614054412l/17214._SY75_.jpg',\n",
       "  'author_url': 'https://www.goodreads.com/author/show/205.Robert_A_Heinlein'},\n",
       " {'Title': 'The Forever War (The Forever War, #1)',\n",
       "  'Author': 'Joe Haldeman',\n",
       "  'Score': '4.14',\n",
       "  'Ratings': '160,844',\n",
       "  'Published': '1974',\n",
       "  'url': 'https://www.goodreads.com/book/show/21611.The_Forever_War',\n",
       "  'img': 'https://i.gr-assets.com/images/S/compressed.photo.goodreads.com/books/1386852511l/21611._SY75_.jpg',\n",
       "  'author_url': 'https://www.goodreads.com/author/show/12476.Joe_Haldeman'}]"
      ]
     },
     "execution_count": 131,
     "metadata": {},
     "output_type": "execute_result"
    }
   ],
   "source": [
    "all_books_sf = [get_book_info(tag) for tag in book_tags]\n",
    "all_books_sf[-2:]"
   ]
  },
  {
   "cell_type": "markdown",
   "id": "fe381ff4",
   "metadata": {},
   "source": [
    "We can extend this for any genre we like. To do that let's write another function that will combine all of what we have done so far into a single function"
   ]
  },
  {
   "cell_type": "markdown",
   "id": "ec18bec8",
   "metadata": {},
   "source": [
    "## Extracting popular books from any genre"
   ]
  },
  {
   "cell_type": "code",
   "execution_count": 134,
   "id": "f644f66c",
   "metadata": {},
   "outputs": [],
   "source": [
    "def get_books_by_genre(genre_most_popular_dict, genre):\n",
    "    genre_url = genre_most_popular_dict[genre]\n",
    "    response = requests.get(genre_url)\n",
    "    doc = BeautifulSoup(response.text, 'html.parser')\n",
    "    book_tags = doc.find_all('div', class_=\"left\")\n",
    "    all_books = [get_book_info(tag) for tag in book_tags]\n",
    "    \n",
    "    return all_books"
   ]
  },
  {
   "cell_type": "code",
   "execution_count": 143,
   "id": "bdd71108",
   "metadata": {},
   "outputs": [
    {
     "data": {
      "text/plain": [
       "[{'Title': 'And Then There Were None (Paperback)',\n",
       "  'Author': 'Agatha Christie',\n",
       "  'Score': '4.28',\n",
       "  'Ratings': '1,240,317',\n",
       "  'Published': '1939',\n",
       "  'url': 'https://www.goodreads.com/book/show/16299.And_Then_There_Were_None',\n",
       "  'img': 'https://i.gr-assets.com/images/S/compressed.photo.goodreads.com/books/1638425885l/16299._SY75_.jpg',\n",
       "  'author_url': 'https://www.goodreads.com/author/show/123715.Agatha_Christie'},\n",
       " {'Title': 'Murder on the Orient Express (Hercule Poirot, #10)',\n",
       "  'Author': 'Agatha Christie',\n",
       "  'Score': '4.20',\n",
       "  'Ratings': '569,382',\n",
       "  'Published': '1934',\n",
       "  'url': 'https://www.goodreads.com/book/show/853510.Murder_on_the_Orient_Express',\n",
       "  'img': 'https://i.gr-assets.com/images/S/compressed.photo.goodreads.com/books/1486131451l/853510._SY75_.jpg',\n",
       "  'author_url': 'https://www.goodreads.com/author/show/123715.Agatha_Christie'},\n",
       " {'Title': 'The Girl with the Dragon Tattoo (Millennium, #1)',\n",
       "  'Author': 'Stieg Larsson',\n",
       "  'Score': '4.16',\n",
       "  'Ratings': '3,056,927',\n",
       "  'Published': '2005',\n",
       "  'url': 'https://www.goodreads.com/book/show/2429135.The_Girl_with_the_Dragon_Tattoo',\n",
       "  'img': 'https://i.gr-assets.com/images/S/compressed.photo.goodreads.com/books/1684638853l/2429135._SX50_.jpg',\n",
       "  'author_url': 'https://www.goodreads.com/author/show/706255.Stieg_Larsson'},\n",
       " {'Title': 'Gone Girl (Paperback)',\n",
       "  'Author': 'Gillian Flynn',\n",
       "  'Score': '4.12',\n",
       "  'Ratings': '2,912,754',\n",
       "  'Published': '2012',\n",
       "  'url': 'https://www.goodreads.com/book/show/19288043-gone-girl',\n",
       "  'img': 'https://i.gr-assets.com/images/S/compressed.photo.goodreads.com/books/1554086139l/19288043._SY75_.jpg',\n",
       "  'author_url': 'https://www.goodreads.com/author/show/2383.Gillian_Flynn'},\n",
       " {'Title': 'The Girl on the Train (Hardcover)',\n",
       "  'Author': 'Paula Hawkins',\n",
       "  'Score': '3.96',\n",
       "  'Ratings': '2,768,755',\n",
       "  'Published': '2015',\n",
       "  'url': 'https://www.goodreads.com/book/show/22557272-the-girl-on-the-train',\n",
       "  'img': 'https://i.gr-assets.com/images/S/compressed.photo.goodreads.com/books/1574805682l/22557272._SX50_.jpg',\n",
       "  'author_url': 'https://www.goodreads.com/author/show/1063732.Paula_Hawkins'},\n",
       " {'Title': 'The Da Vinci Code (Robert Langdon, #2)',\n",
       "  'Author': 'Dan Brown',\n",
       "  'Score': '3.90',\n",
       "  'Ratings': '2,267,859',\n",
       "  'Published': '2003',\n",
       "  'url': 'https://www.goodreads.com/book/show/968.The_Da_Vinci_Code',\n",
       "  'img': 'https://i.gr-assets.com/images/S/compressed.photo.goodreads.com/books/1579621267l/968._SY75_.jpg',\n",
       "  'author_url': 'https://www.goodreads.com/author/show/630.Dan_Brown'},\n",
       " {'Title': 'The Mysterious Affair at Styles (Hercule Poirot, #1)',\n",
       "  'Author': 'Agatha Christie',\n",
       "  'Score': '4.00',\n",
       "  'Ratings': '386,078',\n",
       "  'Published': '1920',\n",
       "  'url': 'https://www.goodreads.com/book/show/52843028-the-mysterious-affair-at-styles',\n",
       "  'img': 'https://i.gr-assets.com/images/S/compressed.photo.goodreads.com/books/1585632445l/52843028._SY75_.jpg',\n",
       "  'author_url': 'https://www.goodreads.com/author/show/123715.Agatha_Christie'},\n",
       " {'Title': \"The Cuckoo's Calling (Cormoran Strike, #1)\",\n",
       "  'Author': 'Robert Galbraith',\n",
       "  'Score': '3.88',\n",
       "  'Ratings': '558,050',\n",
       "  'Published': '2013',\n",
       "  'url': 'https://www.goodreads.com/book/show/16160797-the-cuckoo-s-calling',\n",
       "  'img': 'https://i.gr-assets.com/images/S/compressed.photo.goodreads.com/books/1540217136l/16160797._SY75_.jpg',\n",
       "  'author_url': 'https://www.goodreads.com/author/show/383606.Robert_Galbraith'},\n",
       " {'Title': 'One of Us Is Lying (One of Us is Lying, #1)',\n",
       "  'Author': 'Karen M. McManus',\n",
       "  'Score': '3.96',\n",
       "  'Ratings': '734,356',\n",
       "  'Published': '2017',\n",
       "  'url': 'https://www.goodreads.com/book/show/58679358-one-of-us-is-lying',\n",
       "  'img': 'https://i.gr-assets.com/images/S/compressed.photo.goodreads.com/books/1632078539l/58679358._SY75_.jpg',\n",
       "  'author_url': 'https://www.goodreads.com/author/show/15127507.Karen_M_McManus'},\n",
       " {'Title': 'Angels & Demons (Robert Langdon, #1)',\n",
       "  'Author': 'Dan Brown',\n",
       "  'Score': '3.93',\n",
       "  'Ratings': '3,095,658',\n",
       "  'Published': '2000',\n",
       "  'url': 'https://www.goodreads.com/book/show/960.Angels_Demons',\n",
       "  'img': 'https://i.gr-assets.com/images/S/compressed.photo.goodreads.com/books/1639587647l/960._SY75_.jpg',\n",
       "  'author_url': 'https://www.goodreads.com/author/show/630.Dan_Brown'},\n",
       " {'Title': 'The Murder of Roger Ackroyd (Hercule Poirot, #4)',\n",
       "  'Author': 'Agatha Christie',\n",
       "  'Score': '4.27',\n",
       "  'Ratings': '245,137',\n",
       "  'Published': '1926',\n",
       "  'url': 'https://www.goodreads.com/book/show/16328.The_Murder_of_Roger_Ackroyd',\n",
       "  'img': 'https://i.gr-assets.com/images/S/compressed.photo.goodreads.com/books/1389734015l/16328._SY75_.jpg',\n",
       "  'author_url': 'https://www.goodreads.com/author/show/123715.Agatha_Christie'},\n",
       " {'Title': 'The Silent Patient (Hardcover)',\n",
       "  'Author': 'Alex Michaelides',\n",
       "  'Score': '4.18',\n",
       "  'Ratings': '1,645,762',\n",
       "  'Published': '2019',\n",
       "  'url': 'https://www.goodreads.com/book/show/40097951-the-silent-patient',\n",
       "  'img': 'https://i.gr-assets.com/images/S/compressed.photo.goodreads.com/books/1668782119l/40097951._SY75_.jpg',\n",
       "  'author_url': 'https://www.goodreads.com/author/show/17621440.Alex_Michaelides'},\n",
       " {'Title': 'The 7½ Deaths of Evelyn Hardcastle (Hardcover)',\n",
       "  'Author': 'Stuart Turton',\n",
       "  'Score': '3.85',\n",
       "  'Ratings': '316,881',\n",
       "  'Published': '2018',\n",
       "  'url': 'https://www.goodreads.com/book/show/36337550-the-7-deaths-of-evelyn-hardcastle',\n",
       "  'img': 'https://i.gr-assets.com/images/S/compressed.photo.goodreads.com/books/1506896221l/36337550._SY75_.jpg',\n",
       "  'author_url': 'https://www.goodreads.com/author/show/17160667.Stuart_Turton'},\n",
       " {'Title': \"A Good Girl's Guide to Murder (A Good Girl's Guide to Murder, #1)\",\n",
       "  'Author': 'Holly  Jackson',\n",
       "  'Score': '4.34',\n",
       "  'Ratings': '698,979',\n",
       "  'Published': '2019',\n",
       "  'url': 'https://www.goodreads.com/book/show/40916679-a-good-girl-s-guide-to-murder',\n",
       "  'img': 'https://i.gr-assets.com/images/S/compressed.photo.goodreads.com/books/1545494980l/40916679._SY75_.jpg',\n",
       "  'author_url': 'https://www.goodreads.com/author/show/18229614.Holly_Jackson'},\n",
       " {'Title': 'In the Woods (Dublin Murder Squad, #1)',\n",
       "  'Author': 'Tana French',\n",
       "  'Score': '3.79',\n",
       "  'Ratings': '382,310',\n",
       "  'Published': '2007',\n",
       "  'url': 'https://www.goodreads.com/book/show/2459785.In_the_Woods',\n",
       "  'img': 'https://i.gr-assets.com/images/S/compressed.photo.goodreads.com/books/1562761513l/2459785._SY75_.jpg',\n",
       "  'author_url': 'https://www.goodreads.com/author/show/138825.Tana_French'},\n",
       " {'Title': 'A Study in Scarlet (Sherlock Holmes, #1)',\n",
       "  'Author': 'Arthur Conan Doyle',\n",
       "  'Score': '4.14',\n",
       "  'Ratings': '420,014',\n",
       "  'Published': '1887',\n",
       "  'url': 'https://www.goodreads.com/book/show/102868.A_Study_in_Scarlet',\n",
       "  'img': 'https://i.gr-assets.com/images/S/compressed.photo.goodreads.com/books/1519031842l/102868._SX50_.jpg',\n",
       "  'author_url': 'https://www.goodreads.com/author/show/2448.Arthur_Conan_Doyle'},\n",
       " {'Title': 'Death on the Nile (Hercule Poirot, #18)',\n",
       "  'Author': 'Agatha Christie',\n",
       "  'Score': '4.12',\n",
       "  'Ratings': '236,899',\n",
       "  'Published': '1937',\n",
       "  'url': 'https://www.goodreads.com/book/show/131359.Death_on_the_Nile',\n",
       "  'img': 'https://i.gr-assets.com/images/S/compressed.photo.goodreads.com/books/1486837149l/131359._SY75_.jpg',\n",
       "  'author_url': 'https://www.goodreads.com/author/show/123715.Agatha_Christie'},\n",
       " {'Title': 'The Girl Who Played with Fire (Millennium, #2)',\n",
       "  'Author': 'Stieg Larsson',\n",
       "  'Score': '4.25',\n",
       "  'Ratings': '898,246',\n",
       "  'Published': '2006',\n",
       "  'url': 'https://www.goodreads.com/book/show/5060378-the-girl-who-played-with-fire',\n",
       "  'img': 'https://i.gr-assets.com/images/S/compressed.photo.goodreads.com/books/1351778881l/5060378._SX50_.jpg',\n",
       "  'author_url': 'https://www.goodreads.com/author/show/706255.Stieg_Larsson'},\n",
       " {'Title': 'The Guest List (Kindle Edition)',\n",
       "  'Author': 'Lucy Foley',\n",
       "  'Score': '3.83',\n",
       "  'Ratings': '841,116',\n",
       "  'Published': '2020',\n",
       "  'url': 'https://www.goodreads.com/book/show/52656911-the-guest-list',\n",
       "  'img': 'https://i.gr-assets.com/images/S/compressed.photo.goodreads.com/books/1591461181l/52656911._SY75_.jpg',\n",
       "  'author_url': 'https://www.goodreads.com/author/show/7770523.Lucy_Foley'},\n",
       " {'Title': 'Still Life (Chief Inspector Armand Gamache, #1)',\n",
       "  'Author': 'Louise Penny',\n",
       "  'Score': '3.90',\n",
       "  'Ratings': '230,778',\n",
       "  'Published': '2005',\n",
       "  'url': 'https://www.goodreads.com/book/show/338691.Still_Life',\n",
       "  'img': 'https://i.gr-assets.com/images/S/compressed.photo.goodreads.com/books/1324373974l/338691._SY75_.jpg',\n",
       "  'author_url': 'https://www.goodreads.com/author/show/194243.Louise_Penny'},\n",
       " {'Title': 'The Inheritance Games (The Inheritance Games, #1)',\n",
       "  'Author': 'Jennifer Lynn Barnes',\n",
       "  'Score': '4.20',\n",
       "  'Ratings': '497,138',\n",
       "  'Published': '2020',\n",
       "  'url': 'https://www.goodreads.com/book/show/52439531-the-inheritance-games',\n",
       "  'img': 'https://i.gr-assets.com/images/S/compressed.photo.goodreads.com/books/1587396413l/52439531._SY75_.jpg',\n",
       "  'author_url': 'https://www.goodreads.com/author/show/164187.Jennifer_Lynn_Barnes'},\n",
       " {'Title': 'The Hound of the Baskervilles (Sherlock Holmes, #5)',\n",
       "  'Author': 'Arthur Conan Doyle',\n",
       "  'Score': '4.13',\n",
       "  'Ratings': '326,477',\n",
       "  'Published': '1901',\n",
       "  'url': 'https://www.goodreads.com/book/show/8921.The_Hound_of_the_Baskervilles',\n",
       "  'img': 'https://i.gr-assets.com/images/S/compressed.photo.goodreads.com/books/1355929358l/8921._SX50_.jpg',\n",
       "  'author_url': 'https://www.goodreads.com/author/show/2448.Arthur_Conan_Doyle'},\n",
       " {'Title': 'The Sweetness at the Bottom of the Pie (Flavia de Luce, #1)',\n",
       "  'Author': 'Alan Bradley',\n",
       "  'Score': '3.82',\n",
       "  'Ratings': '164,343',\n",
       "  'Published': '2009',\n",
       "  'url': 'https://www.goodreads.com/book/show/40605285-the-sweetness-at-the-bottom-of-the-pie',\n",
       "  'img': 'https://i.gr-assets.com/images/S/compressed.photo.goodreads.com/books/1529610868l/40605285._SY75_.jpg',\n",
       "  'author_url': 'https://www.goodreads.com/author/show/1074866.Alan_Bradley'},\n",
       " {'Title': 'Sharp Objects (Paperback)',\n",
       "  'Author': 'Gillian Flynn',\n",
       "  'Score': '4.01',\n",
       "  'Ratings': '951,149',\n",
       "  'Published': '2006',\n",
       "  'url': 'https://www.goodreads.com/book/show/18045891-sharp-objects',\n",
       "  'img': 'https://i.gr-assets.com/images/S/compressed.photo.goodreads.com/books/1475695315l/18045891._SY75_.jpg',\n",
       "  'author_url': 'https://www.goodreads.com/author/show/2383.Gillian_Flynn'},\n",
       " {'Title': 'The Thursday Murder Club (Thursday Murder Club, #1)',\n",
       "  'Author': 'Richard Osman',\n",
       "  'Score': '3.91',\n",
       "  'Ratings': '362,195',\n",
       "  'Published': '2020',\n",
       "  'url': 'https://www.goodreads.com/book/show/46000520-the-thursday-murder-club',\n",
       "  'img': 'https://i.gr-assets.com/images/S/compressed.photo.goodreads.com/books/1582287822l/46000520._SY75_.jpg',\n",
       "  'author_url': 'https://www.goodreads.com/author/show/6173710.Richard_Osman'},\n",
       " {'Title': \"The Girl Who Kicked the Hornet's Nest (Millennium, #3)\",\n",
       "  'Author': 'Stieg Larsson',\n",
       "  'Score': '4.23',\n",
       "  'Ratings': '716,149',\n",
       "  'Published': '2007',\n",
       "  'url': 'https://www.goodreads.com/book/show/6892870-the-girl-who-kicked-the-hornet-s-nest',\n",
       "  'img': 'https://i.gr-assets.com/images/S/compressed.photo.goodreads.com/books/1327708260l/6892870._SX50_.jpg',\n",
       "  'author_url': 'https://www.goodreads.com/author/show/706255.Stieg_Larsson'},\n",
       " {'Title': 'Where the Crawdads Sing (ebook)',\n",
       "  'Author': 'Delia Owens',\n",
       "  'Score': '4.40',\n",
       "  'Ratings': '2,618,614',\n",
       "  'Published': '2018',\n",
       "  'url': 'https://www.goodreads.com/book/show/36809135-where-the-crawdads-sing',\n",
       "  'img': 'https://i.gr-assets.com/images/S/compressed.photo.goodreads.com/books/1582135294l/36809135._SY75_.jpg',\n",
       "  'author_url': 'https://www.goodreads.com/author/show/7043934.Delia_Owens'},\n",
       " {'Title': 'The Adventures of Sherlock Holmes (Sherlock Holmes, #3)',\n",
       "  'Author': 'Arthur Conan Doyle',\n",
       "  'Score': '4.30',\n",
       "  'Ratings': '288,120',\n",
       "  'Published': '1892',\n",
       "  'url': 'https://www.goodreads.com/book/show/3590.The_Adventures_of_Sherlock_Holmes',\n",
       "  'img': 'https://i.gr-assets.com/images/S/compressed.photo.goodreads.com/books/1164045516l/3590._SY75_.jpg',\n",
       "  'author_url': 'https://www.goodreads.com/author/show/2448.Arthur_Conan_Doyle'},\n",
       " {'Title': 'Truly Devious (Truly Devious, #1)',\n",
       "  'Author': 'Maureen Johnson',\n",
       "  'Score': '3.96',\n",
       "  'Ratings': '128,909',\n",
       "  'Published': '2018',\n",
       "  'url': 'https://www.goodreads.com/book/show/29589074-truly-devious',\n",
       "  'img': 'https://i.gr-assets.com/images/S/compressed.photo.goodreads.com/books/1498501619l/29589074._SX50_.jpg',\n",
       "  'author_url': 'https://www.goodreads.com/author/show/10317.Maureen_Johnson'},\n",
       " {'Title': 'Murder at the Vicarage (Hardcover)',\n",
       "  'Author': 'Agatha Christie',\n",
       "  'Score': '4.06',\n",
       "  'Ratings': '180,881',\n",
       "  'Published': '1930',\n",
       "  'url': 'https://www.goodreads.com/book/show/16331.Murder_at_the_Vicarage',\n",
       "  'img': 'https://i.gr-assets.com/images/S/compressed.photo.goodreads.com/books/1388386575l/16331._SX50_.jpg',\n",
       "  'author_url': 'https://www.goodreads.com/author/show/123715.Agatha_Christie'},\n",
       " {'Title': 'One for the Money (Stephanie Plum, #1)',\n",
       "  'Author': 'Janet Evanovich',\n",
       "  'Score': '4.04',\n",
       "  'Ratings': '535,167',\n",
       "  'Published': '1994',\n",
       "  'url': 'https://www.goodreads.com/book/show/6853.One_for_the_Money',\n",
       "  'img': 'https://i.gr-assets.com/images/S/compressed.photo.goodreads.com/books/1316730230l/6853._SY75_.jpg',\n",
       "  'author_url': 'https://www.goodreads.com/author/show/2384.Janet_Evanovich'},\n",
       " {'Title': 'The A.B.C. Murders (Hercule Poirot, #13)',\n",
       "  'Author': 'Agatha Christie',\n",
       "  'Score': '4.03',\n",
       "  'Ratings': '151,511',\n",
       "  'Published': '1936',\n",
       "  'url': 'https://www.goodreads.com/book/show/16322.The_A_B_C_Murders',\n",
       "  'img': 'https://i.gr-assets.com/images/S/compressed.photo.goodreads.com/books/1389733983l/16322._SY75_.jpg',\n",
       "  'author_url': 'https://www.goodreads.com/author/show/123715.Agatha_Christie'},\n",
       " {'Title': 'Dark Places (Hardcover)',\n",
       "  'Author': 'Gillian Flynn',\n",
       "  'Score': '3.95',\n",
       "  'Ratings': '711,057',\n",
       "  'Published': '2009',\n",
       "  'url': 'https://www.goodreads.com/book/show/5886881-dark-places',\n",
       "  'img': 'https://i.gr-assets.com/images/S/compressed.photo.goodreads.com/books/1354988288l/5886881._SY75_.jpg',\n",
       "  'author_url': 'https://www.goodreads.com/author/show/2383.Gillian_Flynn'},\n",
       " {'Title': 'The Silkworm (Cormoran Strike, #2)',\n",
       "  'Author': 'Robert Galbraith',\n",
       "  'Score': '4.05',\n",
       "  'Ratings': '256,193',\n",
       "  'Published': '2014',\n",
       "  'url': 'https://www.goodreads.com/book/show/18214414-the-silkworm',\n",
       "  'img': 'https://i.gr-assets.com/images/S/compressed.photo.goodreads.com/books/1540217126l/18214414._SY75_.jpg',\n",
       "  'author_url': 'https://www.goodreads.com/author/show/383606.Robert_Galbraith'},\n",
       " {'Title': 'We Were Liars (Kindle Edition)',\n",
       "  'Author': 'E. Lockhart',\n",
       "  'Score': '3.69',\n",
       "  'Ratings': '1,043,557',\n",
       "  'Published': '2014',\n",
       "  'url': 'https://www.goodreads.com/book/show/16143347-we-were-liars',\n",
       "  'img': 'https://i.gr-assets.com/images/S/compressed.photo.goodreads.com/books/1402749479l/16143347._SY75_.jpg',\n",
       "  'author_url': 'https://www.goodreads.com/author/show/173491.E_Lockhart'},\n",
       " {'Title': 'Rebecca (ebook)',\n",
       "  'Author': 'Daphne du Maurier',\n",
       "  'Score': '4.24',\n",
       "  'Ratings': '591,205',\n",
       "  'Published': '1938',\n",
       "  'url': 'https://www.goodreads.com/book/show/17899948-rebecca',\n",
       "  'img': 'https://i.gr-assets.com/images/S/compressed.photo.goodreads.com/books/1386605169l/17899948._SX50_.jpg',\n",
       "  'author_url': 'https://www.goodreads.com/author/show/2001717.Daphne_du_Maurier'},\n",
       " {'Title': 'The Woman in Cabin 10 (Hardcover)',\n",
       "  'Author': 'Ruth Ware',\n",
       "  'Score': '3.74',\n",
       "  'Ratings': '558,488',\n",
       "  'Published': '2016',\n",
       "  'url': 'https://www.goodreads.com/book/show/28187230-the-woman-in-cabin-10',\n",
       "  'img': 'https://i.gr-assets.com/images/S/compressed.photo.goodreads.com/books/1465878007l/28187230._SY75_.jpg',\n",
       "  'author_url': 'https://www.goodreads.com/author/show/9013543.Ruth_Ware'},\n",
       " {'Title': 'The Maid (Molly the Maid, #1)',\n",
       "  'Author': 'Nita Prose',\n",
       "  'Score': '3.80',\n",
       "  'Ratings': '396,781',\n",
       "  'Published': '2022',\n",
       "  'url': 'https://www.goodreads.com/book/show/55196813-the-maid',\n",
       "  'img': 'https://i.gr-assets.com/images/S/compressed.photo.goodreads.com/books/1643228739l/55196813._SY75_.jpg',\n",
       "  'author_url': 'https://www.goodreads.com/author/show/20650250.Nita_Prose'},\n",
       " {'Title': 'The Westing Game (Paperback)',\n",
       "  'Author': 'Ellen Raskin',\n",
       "  'Score': '4.01',\n",
       "  'Ratings': '203,142',\n",
       "  'Published': '1978',\n",
       "  'url': 'https://www.goodreads.com/book/show/902.The_Westing_Game',\n",
       "  'img': 'https://i.gr-assets.com/images/S/compressed.photo.goodreads.com/books/1356850909l/902._SX50_.jpg',\n",
       "  'author_url': 'https://www.goodreads.com/author/show/10074.Ellen_Raskin'},\n",
       " {'Title': \"The No. 1 Ladies' Detective Agency (No. 1 Ladies' Detective Agency, #1)\",\n",
       "  'Author': 'Alexander McCall Smith',\n",
       "  'Score': '3.80',\n",
       "  'Ratings': '259,183',\n",
       "  'Published': '1998',\n",
       "  'url': 'https://www.goodreads.com/book/show/7061.The_No_1_Ladies_Detective_Agency',\n",
       "  'img': 'https://i.gr-assets.com/images/S/compressed.photo.goodreads.com/books/1459953654l/7061._SY75_.jpg',\n",
       "  'author_url': 'https://www.goodreads.com/author/show/4738.Alexander_McCall_Smith'},\n",
       " {'Title': 'The Shadow of the Wind (The Cemetery of Forgotten Books, #1)',\n",
       "  'Author': 'Carlos Ruiz Zafón',\n",
       "  'Score': '4.29',\n",
       "  'Ratings': '598,407',\n",
       "  'Published': '2001',\n",
       "  'url': 'https://www.goodreads.com/book/show/1232.The_Shadow_of_the_Wind',\n",
       "  'img': 'https://i.gr-assets.com/images/S/compressed.photo.goodreads.com/books/1628791882l/1232._SY75_.jpg',\n",
       "  'author_url': 'https://www.goodreads.com/author/show/815.Carlos_Ruiz_Zaf_n'},\n",
       " {'Title': 'The Lost Symbol (Robert Langdon, #3)',\n",
       "  'Author': 'Dan Brown',\n",
       "  'Score': '3.74',\n",
       "  'Ratings': '591,395',\n",
       "  'Published': '2009',\n",
       "  'url': 'https://www.goodreads.com/book/show/6411961-the-lost-symbol',\n",
       "  'img': 'https://i.gr-assets.com/images/S/compressed.photo.goodreads.com/books/1534070883l/6411961._SY75_.jpg',\n",
       "  'author_url': 'https://www.goodreads.com/author/show/630.Dan_Brown'},\n",
       " {'Title': 'The Woman in the Window (Kindle Edition)',\n",
       "  'Author': 'A.J. Finn',\n",
       "  'Score': '3.96',\n",
       "  'Ratings': '726,429',\n",
       "  'Published': '2018',\n",
       "  'url': 'https://www.goodreads.com/book/show/40389527-the-woman-in-the-window',\n",
       "  'img': 'https://i.gr-assets.com/images/S/compressed.photo.goodreads.com/books/1528225499l/40389527._SY75_.jpg',\n",
       "  'author_url': 'https://www.goodreads.com/author/show/7992137.A_J_Finn'},\n",
       " {'Title': 'Magpie Murders (Susan Ryeland, #1)',\n",
       "  'Author': 'Anthony Horowitz',\n",
       "  'Score': '3.95',\n",
       "  'Ratings': '121,710',\n",
       "  'Published': '2016',\n",
       "  'url': 'https://www.goodreads.com/book/show/32075854-magpie-murders',\n",
       "  'img': 'https://i.gr-assets.com/images/S/compressed.photo.goodreads.com/books/1504599398l/32075854._SY75_.jpg',\n",
       "  'author_url': 'https://www.goodreads.com/author/show/32590.Anthony_Horowitz'},\n",
       " {'Title': 'The Secret History (Paperback)',\n",
       "  'Author': 'Donna Tartt',\n",
       "  'Score': '4.17',\n",
       "  'Ratings': '609,194',\n",
       "  'Published': '1992',\n",
       "  'url': 'https://www.goodreads.com/book/show/29044.The_Secret_History',\n",
       "  'img': 'https://i.gr-assets.com/images/S/compressed.photo.goodreads.com/books/1451554846l/29044._SY75_.jpg',\n",
       "  'author_url': 'https://www.goodreads.com/author/show/8719.Donna_Tartt'},\n",
       " {'Title': 'The Curious Incident of the Dog in the Night-Time (Paperback)',\n",
       "  'Author': 'Mark Haddon',\n",
       "  'Score': '3.89',\n",
       "  'Ratings': '1,425,108',\n",
       "  'Published': '2003',\n",
       "  'url': 'https://www.goodreads.com/book/show/1618.The_Curious_Incident_of_the_Dog_in_the_Night_Time',\n",
       "  'img': 'https://i.gr-assets.com/images/S/compressed.photo.goodreads.com/books/1479863624l/1618._SY75_.jpg',\n",
       "  'author_url': 'https://www.goodreads.com/author/show/1050.Mark_Haddon'},\n",
       " {'Title': 'Maisie Dobbs (Maisie Dobbs, #1)',\n",
       "  'Author': 'Jacqueline Winspear',\n",
       "  'Score': '3.92',\n",
       "  'Ratings': '105,654',\n",
       "  'Published': '2003',\n",
       "  'url': 'https://www.goodreads.com/book/show/462033.Maisie_Dobbs',\n",
       "  'img': 'https://i.gr-assets.com/images/S/compressed.photo.goodreads.com/books/1312066155l/462033._SY75_.jpg',\n",
       "  'author_url': 'https://www.goodreads.com/author/show/5023.Jacqueline_Winspear'},\n",
       " {'Title': 'The Sign of Four (Sherlock Holmes, #2)',\n",
       "  'Author': 'Arthur Conan Doyle',\n",
       "  'Score': '3.91',\n",
       "  'Ratings': '147,326',\n",
       "  'Published': '1890',\n",
       "  'url': 'https://www.goodreads.com/book/show/608474.The_Sign_of_Four',\n",
       "  'img': 'https://i.gr-assets.com/images/S/compressed.photo.goodreads.com/books/1299346921l/608474._SY75_.jpg',\n",
       "  'author_url': 'https://www.goodreads.com/author/show/2448.Arthur_Conan_Doyle'},\n",
       " {'Title': 'The Body in the Library (Hardcover)',\n",
       "  'Author': 'Agatha Christie',\n",
       "  'Score': '3.83',\n",
       "  'Ratings': '97,694',\n",
       "  'Published': '1942',\n",
       "  'url': 'https://www.goodreads.com/book/show/16319.The_Body_in_the_Library',\n",
       "  'img': 'https://i.gr-assets.com/images/S/compressed.photo.goodreads.com/books/1389733809l/16319._SY75_.jpg',\n",
       "  'author_url': 'https://www.goodreads.com/author/show/123715.Agatha_Christie'},\n",
       " {'Title': 'Verity (Paperback)',\n",
       "  'Author': 'Colleen Hoover',\n",
       "  'Score': '4.35',\n",
       "  'Ratings': '2,045,869',\n",
       "  'Published': '2018',\n",
       "  'url': 'https://www.goodreads.com/book/show/59344312-verity',\n",
       "  'img': 'https://i.gr-assets.com/images/S/compressed.photo.goodreads.com/books/1634158558l/59344312._SY75_.jpg',\n",
       "  'author_url': 'https://www.goodreads.com/author/show/5430144.Colleen_Hoover'}]"
      ]
     },
     "execution_count": 143,
     "metadata": {},
     "output_type": "execute_result"
    }
   ],
   "source": [
    "get_books_by_genre(genre_most_popular_dict, 'Mystery')"
   ]
  },
  {
   "cell_type": "markdown",
   "id": "44114fe6",
   "metadata": {},
   "source": [
    "### Creating dataframe"
   ]
  },
  {
   "cell_type": "code",
   "execution_count": 152,
   "id": "aefb26a8",
   "metadata": {},
   "outputs": [
    {
     "data": {
      "text/html": [
       "<div>\n",
       "<style scoped>\n",
       "    .dataframe tbody tr th:only-of-type {\n",
       "        vertical-align: middle;\n",
       "    }\n",
       "\n",
       "    .dataframe tbody tr th {\n",
       "        vertical-align: top;\n",
       "    }\n",
       "\n",
       "    .dataframe thead th {\n",
       "        text-align: right;\n",
       "    }\n",
       "</style>\n",
       "<table border=\"1\" class=\"dataframe\">\n",
       "  <thead>\n",
       "    <tr style=\"text-align: right;\">\n",
       "      <th></th>\n",
       "      <th>Title</th>\n",
       "      <th>Author</th>\n",
       "      <th>Score</th>\n",
       "      <th>Ratings</th>\n",
       "      <th>Published</th>\n",
       "    </tr>\n",
       "  </thead>\n",
       "  <tbody>\n",
       "    <tr>\n",
       "      <th>0</th>\n",
       "      <td>Dune (Dune, #1)</td>\n",
       "      <td>Frank Herbert</td>\n",
       "      <td>4.26</td>\n",
       "      <td>1,228,957</td>\n",
       "      <td>1965</td>\n",
       "    </tr>\n",
       "    <tr>\n",
       "      <th>1</th>\n",
       "      <td>Ender’s Game (Ender's Saga, #1)</td>\n",
       "      <td>Orson Scott Card</td>\n",
       "      <td>4.31</td>\n",
       "      <td>1,321,537</td>\n",
       "      <td>1985</td>\n",
       "    </tr>\n",
       "    <tr>\n",
       "      <th>2</th>\n",
       "      <td>The Hitchhiker's Guide to the Galaxy (Hitchhik...</td>\n",
       "      <td>Douglas Adams</td>\n",
       "      <td>4.23</td>\n",
       "      <td>1,758,596</td>\n",
       "      <td>1979</td>\n",
       "    </tr>\n",
       "    <tr>\n",
       "      <th>3</th>\n",
       "      <td>The Martian (Hardcover)</td>\n",
       "      <td>Andy Weir</td>\n",
       "      <td>4.41</td>\n",
       "      <td>1,054,000</td>\n",
       "      <td>2011</td>\n",
       "    </tr>\n",
       "    <tr>\n",
       "      <th>4</th>\n",
       "      <td>Ready Player One (Ready Player One, #1)</td>\n",
       "      <td>Ernest Cline</td>\n",
       "      <td>4.23</td>\n",
       "      <td>1,102,854</td>\n",
       "      <td>2011</td>\n",
       "    </tr>\n",
       "  </tbody>\n",
       "</table>\n",
       "</div>"
      ],
      "text/plain": [
       "                                               Title            Author Score  \\\n",
       "0                                    Dune (Dune, #1)     Frank Herbert  4.26   \n",
       "1                    Ender’s Game (Ender's Saga, #1)  Orson Scott Card  4.31   \n",
       "2  The Hitchhiker's Guide to the Galaxy (Hitchhik...     Douglas Adams  4.23   \n",
       "3                            The Martian (Hardcover)         Andy Weir  4.41   \n",
       "4            Ready Player One (Ready Player One, #1)      Ernest Cline  4.23   \n",
       "\n",
       "     Ratings Published  \n",
       "0  1,228,957      1965  \n",
       "1  1,321,537      1985  \n",
       "2  1,758,596      1979  \n",
       "3  1,054,000      2011  \n",
       "4  1,102,854      2011  "
      ]
     },
     "execution_count": 152,
     "metadata": {},
     "output_type": "execute_result"
    }
   ],
   "source": [
    "scifi_df = pd.DataFrame(all_books_sf).iloc[:,:-3]\n",
    "scifi_df.head()"
   ]
  },
  {
   "cell_type": "markdown",
   "id": "74e798ab",
   "metadata": {},
   "source": [
    "Now let's load all of into a csv file"
   ]
  },
  {
   "cell_type": "code",
   "execution_count": 153,
   "id": "32e4362e",
   "metadata": {},
   "outputs": [],
   "source": [
    "scifi_df.to_csv('science-fiction.csv')"
   ]
  },
  {
   "cell_type": "code",
   "execution_count": null,
   "id": "648eaa37",
   "metadata": {},
   "outputs": [],
   "source": []
  },
  {
   "cell_type": "code",
   "execution_count": null,
   "id": "ef60d6c5",
   "metadata": {},
   "outputs": [],
   "source": []
  },
  {
   "cell_type": "code",
   "execution_count": null,
   "id": "ae40fe6b",
   "metadata": {},
   "outputs": [],
   "source": []
  }
 ],
 "metadata": {
  "kernelspec": {
   "display_name": "Python 3 (ipykernel)",
   "language": "python",
   "name": "python3"
  },
  "language_info": {
   "codemirror_mode": {
    "name": "ipython",
    "version": 3
   },
   "file_extension": ".py",
   "mimetype": "text/x-python",
   "name": "python",
   "nbconvert_exporter": "python",
   "pygments_lexer": "ipython3",
   "version": "3.9.13"
  }
 },
 "nbformat": 4,
 "nbformat_minor": 5
}
