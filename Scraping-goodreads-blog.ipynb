{
 "cells": [
  {
   "cell_type": "markdown",
   "id": "4c25e5fc",
   "metadata": {},
   "source": [
    "# Web Scraping Popular Books on Goodreads using Python"
   ]
  },
  {
   "cell_type": "code",
   "execution_count": 1,
   "id": "876b29f0",
   "metadata": {},
   "outputs": [],
   "source": [
    "# importing required libraries\n",
    "import requests\n",
    "import os\n",
    "from bs4 import BeautifulSoup\n",
    "import pandas as pd\n",
    "\n",
    "from IPython.display import display, Image"
   ]
  },
  {
   "cell_type": "code",
   "execution_count": 2,
   "id": "17566f20",
   "metadata": {},
   "outputs": [],
   "source": [
    "base_url = \"https://www.goodreads.com\"\n",
    "genres_url = \"https://www.goodreads.com/genres\""
   ]
  },
  {
   "cell_type": "code",
   "execution_count": 3,
   "id": "c79d1ded",
   "metadata": {},
   "outputs": [
    {
     "data": {
      "text/plain": [
       "200"
      ]
     },
     "execution_count": 3,
     "metadata": {},
     "output_type": "execute_result"
    }
   ],
   "source": [
    "response = requests.get(genres_url)\n",
    "response.status_code"
   ]
  },
  {
   "cell_type": "markdown",
   "id": "14f0f409",
   "metadata": {},
   "source": [
    "The status code provides information about the request. If the request was completed successfully then status code should be 200. List of other status codes https://en.wikipedia.org/wiki/List_of_HTTP_status_codes"
   ]
  },
  {
   "cell_type": "markdown",
   "id": "d6448b5c",
   "metadata": {},
   "source": [
    "## Extracting genres\n",
    "First I will extract the genres of the books from the genres page and store it in a dictionary"
   ]
  },
  {
   "cell_type": "code",
   "execution_count": 5,
   "id": "aabebf0c",
   "metadata": {},
   "outputs": [
    {
     "data": {
      "text/plain": [
       "{'Art': 'https://www.goodreads.com/shelf/show/art',\n",
       " 'Biography': 'https://www.goodreads.com/shelf/show/biography',\n",
       " 'Business': 'https://www.goodreads.com/shelf/show/business',\n",
       " 'Chick Lit': 'https://www.goodreads.com/shelf/show/chick-lit',\n",
       " \"Children's\": 'https://www.goodreads.com/shelf/show/children-s',\n",
       " 'Christian': 'https://www.goodreads.com/shelf/show/christian',\n",
       " 'Classics': 'https://www.goodreads.com/shelf/show/classics',\n",
       " 'Comics': 'https://www.goodreads.com/shelf/show/comics',\n",
       " 'Contemporary': 'https://www.goodreads.com/shelf/show/contemporary',\n",
       " 'Cookbooks': 'https://www.goodreads.com/shelf/show/cookbooks',\n",
       " 'Crime': 'https://www.goodreads.com/shelf/show/crime',\n",
       " 'Ebooks': 'https://www.goodreads.com/shelf/show/ebooks',\n",
       " 'Fantasy': 'https://www.goodreads.com/shelf/show/fantasy',\n",
       " 'Fiction': 'https://www.goodreads.com/shelf/show/fiction',\n",
       " 'Gay and Lesbian': 'https://www.goodreads.com/shelf/show/gay-and-lesbian',\n",
       " 'Graphic Novels': 'https://www.goodreads.com/shelf/show/graphic-novels',\n",
       " 'Historical Fiction': 'https://www.goodreads.com/shelf/show/historical-fiction',\n",
       " 'History': 'https://www.goodreads.com/shelf/show/history',\n",
       " 'Horror': 'https://www.goodreads.com/shelf/show/horror',\n",
       " 'Humor and Comedy': 'https://www.goodreads.com/shelf/show/humor-and-comedy',\n",
       " 'Manga': 'https://www.goodreads.com/shelf/show/manga',\n",
       " 'Memoir': 'https://www.goodreads.com/shelf/show/memoir',\n",
       " 'Music': 'https://www.goodreads.com/shelf/show/music',\n",
       " 'Mystery': 'https://www.goodreads.com/shelf/show/mystery',\n",
       " 'Nonfiction': 'https://www.goodreads.com/shelf/show/non-fiction',\n",
       " 'Paranormal': 'https://www.goodreads.com/shelf/show/paranormal',\n",
       " 'Philosophy': 'https://www.goodreads.com/shelf/show/philosophy',\n",
       " 'Poetry': 'https://www.goodreads.com/shelf/show/poetry',\n",
       " 'Psychology': 'https://www.goodreads.com/shelf/show/psychology',\n",
       " 'Religion': 'https://www.goodreads.com/shelf/show/religion',\n",
       " 'Romance': 'https://www.goodreads.com/shelf/show/romance',\n",
       " 'Science': 'https://www.goodreads.com/shelf/show/science',\n",
       " 'Science Fiction': 'https://www.goodreads.com/shelf/show/science-fiction',\n",
       " 'Self Help': 'https://www.goodreads.com/shelf/show/self-help',\n",
       " 'Suspense': 'https://www.goodreads.com/shelf/show/suspense',\n",
       " 'Spirituality': 'https://www.goodreads.com/shelf/show/spirituality',\n",
       " 'Sports': 'https://www.goodreads.com/shelf/show/sports',\n",
       " 'Thriller': 'https://www.goodreads.com/shelf/show/thriller',\n",
       " 'Travel': 'https://www.goodreads.com/shelf/show/travel',\n",
       " 'Young Adult': 'https://www.goodreads.com/shelf/show/young-adult'}"
      ]
     },
     "execution_count": 5,
     "metadata": {},
     "output_type": "execute_result"
    }
   ],
   "source": [
    "doc = BeautifulSoup(response.text, 'html.parser')\n",
    "genre_tags = doc.find_all('div', class_=\"rightContainer\")[0].find_all('a')\n",
    "genre_names = [tag.text for tag in genre_tags][1:-1]\n",
    "genre_links = [tag['href'] for tag in genre_tags][1:-1]\n",
    "genre_most_popular_dict = {name: base_url + \"/shelf/show\" + link[7:] for (name, link) in zip(genre_names, genre_links)}\n",
    "genre_most_popular_dict"
   ]
  },
  {
   "cell_type": "code",
   "execution_count": 6,
   "id": "de79ba5b",
   "metadata": {},
   "outputs": [
    {
     "data": {
      "text/plain": [
       "40"
      ]
     },
     "execution_count": 6,
     "metadata": {},
     "output_type": "execute_result"
    }
   ],
   "source": [
    "len(genre_most_popular_dict)"
   ]
  },
  {
   "cell_type": "markdown",
   "id": "b47da556",
   "metadata": {},
   "source": [
    "There are 40 genres in total. Let's pick anyone and start exploring the most popular books from that genre. \n",
    "\n",
    "I will pick my favorite the science-fiction genre."
   ]
  },
  {
   "cell_type": "code",
   "execution_count": 7,
   "id": "81e642db",
   "metadata": {},
   "outputs": [
    {
     "data": {
      "text/plain": [
       "'https://www.goodreads.com/shelf/show/science-fiction'"
      ]
     },
     "execution_count": 7,
     "metadata": {},
     "output_type": "execute_result"
    }
   ],
   "source": [
    "sf_url = genre_most_popular_dict['Science Fiction']\n",
    "sf_url"
   ]
  },
  {
   "cell_type": "code",
   "execution_count": 8,
   "id": "978a75df",
   "metadata": {},
   "outputs": [],
   "source": [
    "# Get the content from this url using a get request\n",
    "response = requests.get(sf_url)"
   ]
  },
  {
   "cell_type": "markdown",
   "id": "6902eaad",
   "metadata": {},
   "source": [
    "The get method fetches the html of the page given the url address"
   ]
  },
  {
   "cell_type": "code",
   "execution_count": 15,
   "id": "1427ce6a",
   "metadata": {},
   "outputs": [],
   "source": [
    "import pprint\n",
    "# pprint.pprint(response.text)"
   ]
  },
  {
   "cell_type": "markdown",
   "id": "a3a0bc39",
   "metadata": {},
   "source": [
    "The html doesn't look very neat in itself so we parse it using tht bs4 library "
   ]
  },
  {
   "cell_type": "code",
   "execution_count": 16,
   "id": "a22f073a",
   "metadata": {},
   "outputs": [],
   "source": [
    "# Parsing the html using beautiful soup\n",
    "doc = BeautifulSoup(response.text, 'html.parser')"
   ]
  },
  {
   "cell_type": "markdown",
   "id": "836d648e",
   "metadata": {},
   "source": [
    "This doc contains all the information we need."
   ]
  },
  {
   "cell_type": "markdown",
   "id": "c2c77f84",
   "metadata": {},
   "source": [
    "By inspecting the html, we find that the "
   ]
  },
  {
   "cell_type": "code",
   "execution_count": 19,
   "id": "90b15138",
   "metadata": {
    "scrolled": true
   },
   "outputs": [
    {
     "data": {
      "text/plain": [
       "['Dune (Dune, #1)',\n",
       " '',\n",
       " 'by',\n",
       " '',\n",
       " '',\n",
       " 'Frank Herbert',\n",
       " '',\n",
       " '',\n",
       " '',\n",
       " '',\n",
       " '              (shelved 18366 times as science-fiction)     ',\n",
       " '',\n",
       " '              ',\n",
       " '',\n",
       " '                avg rating 4.26 —',\n",
       " '                1,228,957 ratings  —',\n",
       " '                published 1965']"
      ]
     },
     "execution_count": 19,
     "metadata": {},
     "output_type": "execute_result"
    }
   ],
   "source": [
    "doc.find_all('div', class_='left')[0].text.strip().split('\\n')"
   ]
  },
  {
   "cell_type": "code",
   "execution_count": null,
   "id": "0516463b",
   "metadata": {},
   "outputs": [],
   "source": []
  },
  {
   "cell_type": "code",
   "execution_count": null,
   "id": "d63e44e7",
   "metadata": {},
   "outputs": [],
   "source": []
  },
  {
   "cell_type": "code",
   "execution_count": null,
   "id": "b08187a5",
   "metadata": {},
   "outputs": [],
   "source": []
  },
  {
   "cell_type": "code",
   "execution_count": null,
   "id": "1f911817",
   "metadata": {},
   "outputs": [],
   "source": []
  },
  {
   "cell_type": "code",
   "execution_count": null,
   "id": "a80a8e68",
   "metadata": {},
   "outputs": [],
   "source": []
  },
  {
   "cell_type": "code",
   "execution_count": null,
   "id": "656dd785",
   "metadata": {},
   "outputs": [],
   "source": []
  },
  {
   "cell_type": "code",
   "execution_count": null,
   "id": "b89ae942",
   "metadata": {},
   "outputs": [],
   "source": []
  },
  {
   "cell_type": "code",
   "execution_count": null,
   "id": "7631c005",
   "metadata": {},
   "outputs": [],
   "source": []
  },
  {
   "cell_type": "code",
   "execution_count": null,
   "id": "9d5521d9",
   "metadata": {},
   "outputs": [],
   "source": []
  },
  {
   "cell_type": "code",
   "execution_count": null,
   "id": "9e736764",
   "metadata": {},
   "outputs": [],
   "source": []
  },
  {
   "cell_type": "code",
   "execution_count": null,
   "id": "2e35572a",
   "metadata": {},
   "outputs": [],
   "source": []
  },
  {
   "cell_type": "code",
   "execution_count": null,
   "id": "bf2283d0",
   "metadata": {},
   "outputs": [],
   "source": []
  },
  {
   "cell_type": "code",
   "execution_count": null,
   "id": "728e6f7b",
   "metadata": {},
   "outputs": [],
   "source": []
  },
  {
   "cell_type": "code",
   "execution_count": null,
   "id": "fc152378",
   "metadata": {},
   "outputs": [],
   "source": []
  },
  {
   "cell_type": "code",
   "execution_count": null,
   "id": "a484255e",
   "metadata": {},
   "outputs": [],
   "source": []
  },
  {
   "cell_type": "code",
   "execution_count": null,
   "id": "92d95a25",
   "metadata": {},
   "outputs": [],
   "source": []
  },
  {
   "cell_type": "code",
   "execution_count": null,
   "id": "86a8647c",
   "metadata": {},
   "outputs": [],
   "source": []
  },
  {
   "cell_type": "code",
   "execution_count": null,
   "id": "36136bac",
   "metadata": {},
   "outputs": [],
   "source": []
  },
  {
   "cell_type": "code",
   "execution_count": null,
   "id": "a2055a81",
   "metadata": {},
   "outputs": [],
   "source": []
  },
  {
   "cell_type": "code",
   "execution_count": null,
   "id": "3c108c9e",
   "metadata": {},
   "outputs": [],
   "source": []
  }
 ],
 "metadata": {
  "kernelspec": {
   "display_name": "Python 3 (ipykernel)",
   "language": "python",
   "name": "python3"
  },
  "language_info": {
   "codemirror_mode": {
    "name": "ipython",
    "version": 3
   },
   "file_extension": ".py",
   "mimetype": "text/x-python",
   "name": "python",
   "nbconvert_exporter": "python",
   "pygments_lexer": "ipython3",
   "version": "3.9.13"
  }
 },
 "nbformat": 4,
 "nbformat_minor": 5
}
