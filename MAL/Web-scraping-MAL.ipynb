{
 "cells": [
  {
   "cell_type": "markdown",
   "id": "11461201",
   "metadata": {},
   "source": [
    "# Webscraping MyAnimeList using Python"
   ]
  },
  {
   "cell_type": "markdown",
   "id": "4e04ac32",
   "metadata": {},
   "source": [
    "As I am a big fan of anime and manga, in this project I will be scraping the top anime and mangas from [MyAnimeList](https://myanimelist.net/) which is a site containing information about all of anime and manga. It would be fun."
   ]
  },
  {
   "cell_type": "code",
   "execution_count": 93,
   "id": "d1c71d7e",
   "metadata": {},
   "outputs": [],
   "source": [
    "# Loading required libraries\n",
    "import requests\n",
    "import os\n",
    "import csv\n",
    "from bs4 import BeautifulSoup\n",
    "import re\n",
    "import pandas as pd\n",
    "\n",
    "from IPython.display import display as disp, Image"
   ]
  },
  {
   "cell_type": "markdown",
   "id": "b8adaae8",
   "metadata": {},
   "source": [
    "## Exploring the html tags"
   ]
  },
  {
   "cell_type": "code",
   "execution_count": 183,
   "id": "cc3372f1",
   "metadata": {},
   "outputs": [],
   "source": [
    "URL = \"https://myanimelist.net/topanime.php\""
   ]
  },
  {
   "cell_type": "code",
   "execution_count": 98,
   "id": "46717c0a",
   "metadata": {},
   "outputs": [],
   "source": [
    "response = requests.get(URL)"
   ]
  },
  {
   "cell_type": "code",
   "execution_count": 99,
   "id": "142392b5",
   "metadata": {},
   "outputs": [],
   "source": [
    "parser = BeautifulSoup(response.text, \"html.parser\")"
   ]
  },
  {
   "cell_type": "code",
   "execution_count": 100,
   "id": "6572d5c9",
   "metadata": {},
   "outputs": [],
   "source": [
    "# Extract headers\n",
    "headers = parser.select(\"tr.table-header\")[0]"
   ]
  },
  {
   "cell_type": "code",
   "execution_count": 101,
   "id": "069b437a",
   "metadata": {},
   "outputs": [
    {
     "data": {
      "text/plain": [
       "'RankTitleScoreYour ScoreStatus'"
      ]
     },
     "execution_count": 101,
     "metadata": {},
     "output_type": "execute_result"
    }
   ],
   "source": [
    "headers.text"
   ]
  },
  {
   "cell_type": "code",
   "execution_count": 102,
   "id": "4fd69eab",
   "metadata": {},
   "outputs": [],
   "source": [
    "anime_tags = parser.select(\"tr.ranking-list\")"
   ]
  },
  {
   "cell_type": "code",
   "execution_count": 103,
   "id": "f3fe62ac",
   "metadata": {},
   "outputs": [
    {
     "data": {
      "text/plain": [
       "bs4.element.ResultSet"
      ]
     },
     "execution_count": 103,
     "metadata": {},
     "output_type": "execute_result"
    }
   ],
   "source": [
    "type(anime_tags)"
   ]
  },
  {
   "cell_type": "code",
   "execution_count": 104,
   "id": "931fe7c5",
   "metadata": {
    "scrolled": true
   },
   "outputs": [
    {
     "data": {
      "text/plain": [
       "[<tr class=\"ranking-list\">\n",
       " <td class=\"rank ac\" valign=\"top\">\n",
       " <span class=\"lightLink top-anime-rank-text rank2\">51</span>\n",
       " </td>\n",
       " <td class=\"title al va-t word-break\">\n",
       " <a class=\"hoverinfo_trigger fl-l ml12 mr8\" href=\"https://myanimelist.net/anime/1575/Code_Geass__Hangyaku_no_Lelouch\" id=\"#area1575\" rel=\"#info1575\">\n",
       " <img alt=\"Anime: Code Geass: Hangyaku no Lelouch\" border=\"0\" class=\"lazyload\" data-src=\"https://cdn.myanimelist.net/r/50x70/images/anime/1032/135088.jpg?s=b67496ea440a61c0d7ac14173e0bd6e0\" data-srcset=\"https://cdn.myanimelist.net/r/50x70/images/anime/1032/135088.jpg?s=b67496ea440a61c0d7ac14173e0bd6e0 1x, https://cdn.myanimelist.net/r/100x140/images/anime/1032/135088.jpg?s=8b895bc4ead0cfc55ccfc813ba627926 2x\" height=\"70\" width=\"50\">\n",
       " </img></a>\n",
       " <div class=\"detail\"><div id=\"area1575\">\n",
       " <div class=\"hoverinfo\" id=\"info1575\" rel=\"a1575\"></div>\n",
       " </div>\n",
       " <div class=\"di-ib clearfix\"><h3 class=\"hoverinfo_trigger fl-l fs14 fw-b anime_ranking_h3\"><a href=\"https://myanimelist.net/anime/1575/Code_Geass__Hangyaku_no_Lelouch\" id=\"#area1575\" rel=\"#info1575\">Code Geass: Hangyaku no Lelouch</a></h3><div class=\"icon-watch2\"><a class=\"mal-icon ml8 ga-click\" href=\"https://myanimelist.net/anime/1575/Code_Geass__Hangyaku_no_Lelouch/video\" title=\"Watch Episode Video\"><i class=\"malicon malicon-movie-episode\"></i></a></div></div><br/><div class=\"information di-ib mt4\">\n",
       "         TV (25 eps)<br/>\n",
       "         Oct 2006 - Jul 2007<br/>\n",
       "         2,158,686 members\n",
       "       </div></div>\n",
       " </td>\n",
       " <td class=\"score ac fs14\"><div class=\"js-top-ranking-score-col di-ib al\"><i class=\"icon-score-star fa-solid fa-star mr4 on\"></i><span class=\"text on score-label score-8\">8.70</span></div>\n",
       " </td>\n",
       " <td class=\"your-score ac fs14\">\n",
       " <div class=\"js-top-ranking-your-score-col di-ib al\"> <a class=\"\" href=\"https://myanimelist.net/login.php?error=login_required&amp;from=%2Ftopanime.php%3Flimit%3D50\"><i class=\"icon-score-star fa-solid fa-star mr4\"></i><span class=\"text score-label score-na\">N/A</span></a>\n",
       " </div>\n",
       " </td>\n",
       " <td class=\"status ac\"> <a class=\"btn-addEdit-large btn-anime-watch-status js-anime-watch-status notinmylist\" href=\"https://myanimelist.net/login.php?error=login_required&amp;from=%2Ftopanime.php%3Flimit%3D50\"><i class=\"fa-solid fa-square-plus-o mr4\"></i>Add to list</a>\n",
       " </td>\n",
       " </tr>,\n",
       " <tr class=\"ranking-list\">\n",
       " <td class=\"rank ac\" valign=\"top\">\n",
       " <span class=\"lightLink top-anime-rank-text rank2\">52</span>\n",
       " </td>\n",
       " <td class=\"title al va-t word-break\">\n",
       " <a class=\"hoverinfo_trigger fl-l ml12 mr8\" href=\"https://myanimelist.net/anime/21939/Mushishi_Zoku_Shou\" id=\"#area21939\" rel=\"#info21939\">\n",
       " <img alt=\"Anime: Mushishi Zoku Shou\" border=\"0\" class=\"lazyload\" data-src=\"https://cdn.myanimelist.net/r/50x70/images/anime/13/58533.jpg?s=ff40f900ea0877725ccde517b126c531\" data-srcset=\"https://cdn.myanimelist.net/r/50x70/images/anime/13/58533.jpg?s=ff40f900ea0877725ccde517b126c531 1x, https://cdn.myanimelist.net/r/100x140/images/anime/13/58533.jpg?s=8b4c39ac1694d8b1ad2a1dcc504691f6 2x\" height=\"70\" width=\"50\">\n",
       " </img></a>\n",
       " <div class=\"detail\"><div id=\"area21939\">\n",
       " <div class=\"hoverinfo\" id=\"info21939\" rel=\"a21939\"></div>\n",
       " </div>\n",
       " <div class=\"di-ib clearfix\"><h3 class=\"hoverinfo_trigger fl-l fs14 fw-b anime_ranking_h3\"><a href=\"https://myanimelist.net/anime/21939/Mushishi_Zoku_Shou\" id=\"#area21939\" rel=\"#info21939\">Mushishi Zoku Shou</a></h3><div class=\"icon-watch2\"><a class=\"mal-icon ml8 ga-click\" href=\"https://myanimelist.net/anime/21939/Mushishi_Zoku_Shou/video\" title=\"Watch Episode Video\"><i class=\"malicon malicon-movie-episode\"></i></a></div></div><br/><div class=\"information di-ib mt4\">\n",
       "         TV (10 eps)<br/>\n",
       "         Apr 2014 - Jun 2014<br/>\n",
       "         289,087 members\n",
       "       </div></div>\n",
       " </td>\n",
       " <td class=\"score ac fs14\"><div class=\"js-top-ranking-score-col di-ib al\"><i class=\"icon-score-star fa-solid fa-star mr4 on\"></i><span class=\"text on score-label score-8\">8.70</span></div>\n",
       " </td>\n",
       " <td class=\"your-score ac fs14\">\n",
       " <div class=\"js-top-ranking-your-score-col di-ib al\"> <a class=\"\" href=\"https://myanimelist.net/login.php?error=login_required&amp;from=%2Ftopanime.php%3Flimit%3D50\"><i class=\"icon-score-star fa-solid fa-star mr4\"></i><span class=\"text score-label score-na\">N/A</span></a>\n",
       " </div>\n",
       " </td>\n",
       " <td class=\"status ac\"> <a class=\"btn-addEdit-large btn-anime-watch-status js-anime-watch-status notinmylist\" href=\"https://myanimelist.net/login.php?error=login_required&amp;from=%2Ftopanime.php%3Flimit%3D50\"><i class=\"fa-solid fa-square-plus-o mr4\"></i>Add to list</a>\n",
       " </td>\n",
       " </tr>,\n",
       " <tr class=\"ranking-list\">\n",
       " <td class=\"rank ac\" valign=\"top\">\n",
       " <span class=\"lightLink top-anime-rank-text rank2\">53</span>\n",
       " </td>\n",
       " <td class=\"title al va-t word-break\">\n",
       " <a class=\"hoverinfo_trigger fl-l ml12 mr8\" href=\"https://myanimelist.net/anime/45576/Mushoku_Tensei__Isekai_Ittara_Honki_Dasu_Part_2\" id=\"#area45576\" rel=\"#info45576\">\n",
       " <img alt=\"Anime: Mushoku Tensei: Isekai Ittara Honki Dasu Part 2\" border=\"0\" class=\"lazyload\" data-src=\"https://cdn.myanimelist.net/r/50x70/images/anime/1028/117777.jpg?s=99ecca20cac2345fc956fda60a5e025f\" data-srcset=\"https://cdn.myanimelist.net/r/50x70/images/anime/1028/117777.jpg?s=99ecca20cac2345fc956fda60a5e025f 1x, https://cdn.myanimelist.net/r/100x140/images/anime/1028/117777.jpg?s=51c70b8d3ded730debc843006effa91c 2x\" height=\"70\" width=\"50\"/>\n",
       " </a>\n",
       " <div class=\"detail\"><div id=\"area45576\">\n",
       " <div class=\"hoverinfo\" id=\"info45576\" rel=\"a45576\"></div>\n",
       " </div>\n",
       " <div class=\"di-ib clearfix\"><h3 class=\"hoverinfo_trigger fl-l fs14 fw-b anime_ranking_h3\"><a href=\"https://myanimelist.net/anime/45576/Mushoku_Tensei__Isekai_Ittara_Honki_Dasu_Part_2\" id=\"#area45576\" rel=\"#info45576\">Mushoku Tensei: Isekai Ittara Honki Dasu Part 2</a></h3><div class=\"icon-watch2\"><a class=\"mal-icon ml8 ga-click\" href=\"https://myanimelist.net/anime/45576/Mushoku_Tensei__Isekai_Ittara_Honki_Dasu_Part_2/video\" title=\"Watch Episode Video\"><i class=\"malicon malicon-movie-episode\"></i></a></div></div><br/><div class=\"information di-ib mt4\">\n",
       "         TV (12 eps)<br/>\n",
       "         Oct 2021 - Dec 2021<br/>\n",
       "         795,975 members\n",
       "       </div></div>\n",
       " </td>\n",
       " <td class=\"score ac fs14\"><div class=\"js-top-ranking-score-col di-ib al\"><i class=\"icon-score-star fa-solid fa-star mr4 on\"></i><span class=\"text on score-label score-8\">8.70</span></div>\n",
       " </td>\n",
       " <td class=\"your-score ac fs14\">\n",
       " <div class=\"js-top-ranking-your-score-col di-ib al\"> <a class=\"\" href=\"https://myanimelist.net/login.php?error=login_required&amp;from=%2Ftopanime.php%3Flimit%3D50\"><i class=\"icon-score-star fa-solid fa-star mr4\"></i><span class=\"text score-label score-na\">N/A</span></a>\n",
       " </div>\n",
       " </td>\n",
       " <td class=\"status ac\"> <a class=\"btn-addEdit-large btn-anime-watch-status js-anime-watch-status notinmylist\" href=\"https://myanimelist.net/login.php?error=login_required&amp;from=%2Ftopanime.php%3Flimit%3D50\"><i class=\"fa-solid fa-square-plus-o mr4\"></i>Add to list</a>\n",
       " </td>\n",
       " </tr>,\n",
       " <tr class=\"ranking-list\">\n",
       " <td class=\"rank ac\" valign=\"top\">\n",
       " <span class=\"lightLink top-anime-rank-text rank2\">54</span>\n",
       " </td>\n",
       " <td class=\"title al va-t word-break\">\n",
       " <a class=\"hoverinfo_trigger fl-l ml12 mr8\" href=\"https://myanimelist.net/anime/44/Rurouni_Kenshin__Meiji_Kenkaku_Romantan_-_Tsuioku-hen\" id=\"#area44\" rel=\"#info44\">\n",
       " <img alt=\"Anime: Rurouni Kenshin: Meiji Kenkaku Romantan - Tsuioku-hen\" border=\"0\" class=\"lazyload\" data-src=\"https://cdn.myanimelist.net/r/50x70/images/anime/1391/120839.jpg?s=3168ae8383de7eb65ccb8b1d3a775c22\" data-srcset=\"https://cdn.myanimelist.net/r/50x70/images/anime/1391/120839.jpg?s=3168ae8383de7eb65ccb8b1d3a775c22 1x, https://cdn.myanimelist.net/r/100x140/images/anime/1391/120839.jpg?s=bd43f31022c54683198af846655f6b3e 2x\" height=\"70\" width=\"50\"/>\n",
       " </a>\n",
       " <div class=\"detail\"><div id=\"area44\">\n",
       " <div class=\"hoverinfo\" id=\"info44\" rel=\"a44\"></div>\n",
       " </div>\n",
       " <div class=\"di-ib clearfix\"><h3 class=\"hoverinfo_trigger fl-l fs14 fw-b anime_ranking_h3\"><a href=\"https://myanimelist.net/anime/44/Rurouni_Kenshin__Meiji_Kenkaku_Romantan_-_Tsuioku-hen\" id=\"#area44\" rel=\"#info44\">Rurouni Kenshin: Meiji Kenkaku Romantan - Tsuioku-hen</a></h3></div><br/><div class=\"information di-ib mt4\">\n",
       "         OVA (4 eps)<br/>\n",
       "         Feb 1999 - Sep 1999<br/>\n",
       "         269,227 members\n",
       "       </div></div>\n",
       " </td>\n",
       " <td class=\"score ac fs14\"><div class=\"js-top-ranking-score-col di-ib al\"><i class=\"icon-score-star fa-solid fa-star mr4 on\"></i><span class=\"text on score-label score-8\">8.70</span></div>\n",
       " </td>\n",
       " <td class=\"your-score ac fs14\">\n",
       " <div class=\"js-top-ranking-your-score-col di-ib al\"> <a class=\"\" href=\"https://myanimelist.net/login.php?error=login_required&amp;from=%2Ftopanime.php%3Flimit%3D50\"><i class=\"icon-score-star fa-solid fa-star mr4\"></i><span class=\"text score-label score-na\">N/A</span></a>\n",
       " </div>\n",
       " </td>\n",
       " <td class=\"status ac\"> <a class=\"btn-addEdit-large btn-anime-watch-status js-anime-watch-status notinmylist\" href=\"https://myanimelist.net/login.php?error=login_required&amp;from=%2Ftopanime.php%3Flimit%3D50\"><i class=\"fa-solid fa-square-plus-o mr4\"></i>Add to list</a>\n",
       " </td>\n",
       " </tr>,\n",
       " <tr class=\"ranking-list\">\n",
       " <td class=\"rank ac\" valign=\"top\">\n",
       " <span class=\"lightLink top-anime-rank-text rank2\">55</span>\n",
       " </td>\n",
       " <td class=\"title al va-t word-break\">\n",
       " <a class=\"hoverinfo_trigger fl-l ml12 mr8\" href=\"https://myanimelist.net/anime/46102/Odd_Taxi\" id=\"#area46102\" rel=\"#info46102\">\n",
       " <img alt=\"Anime: Odd Taxi\" border=\"0\" class=\"lazyload\" data-src=\"https://cdn.myanimelist.net/r/50x70/images/anime/1981/113348.jpg?s=38082dbb5a64de5fc2129a59c46c3fe0\" data-srcset=\"https://cdn.myanimelist.net/r/50x70/images/anime/1981/113348.jpg?s=38082dbb5a64de5fc2129a59c46c3fe0 1x, https://cdn.myanimelist.net/r/100x140/images/anime/1981/113348.jpg?s=9d3e92002db0e698516450efb42e4e59 2x\" height=\"70\" width=\"50\"/>\n",
       " </a>\n",
       " <div class=\"detail\"><div id=\"area46102\">\n",
       " <div class=\"hoverinfo\" id=\"info46102\" rel=\"a46102\"></div>\n",
       " </div>\n",
       " <div class=\"di-ib clearfix\"><h3 class=\"hoverinfo_trigger fl-l fs14 fw-b anime_ranking_h3\"><a href=\"https://myanimelist.net/anime/46102/Odd_Taxi\" id=\"#area46102\" rel=\"#info46102\">Odd Taxi</a></h3><div class=\"icon-watch2\"><a class=\"mal-icon ml8 ga-click\" href=\"https://myanimelist.net/anime/46102/Odd_Taxi/video\" title=\"Watch Episode Video\"><i class=\"malicon malicon-movie-episode\"></i></a></div></div><br/><div class=\"information di-ib mt4\">\n",
       "         TV (13 eps)<br/>\n",
       "         Apr 2021 - Jun 2021<br/>\n",
       "         392,687 members\n",
       "       </div></div>\n",
       " </td>\n",
       " <td class=\"score ac fs14\"><div class=\"js-top-ranking-score-col di-ib al\"><i class=\"icon-score-star fa-solid fa-star mr4 on\"></i><span class=\"text on score-label score-8\">8.69</span></div>\n",
       " </td>\n",
       " <td class=\"your-score ac fs14\">\n",
       " <div class=\"js-top-ranking-your-score-col di-ib al\"> <a class=\"\" href=\"https://myanimelist.net/login.php?error=login_required&amp;from=%2Ftopanime.php%3Flimit%3D50\"><i class=\"icon-score-star fa-solid fa-star mr4\"></i><span class=\"text score-label score-na\">N/A</span></a>\n",
       " </div>\n",
       " </td>\n",
       " <td class=\"status ac\"> <a class=\"btn-addEdit-large btn-anime-watch-status js-anime-watch-status notinmylist\" href=\"https://myanimelist.net/login.php?error=login_required&amp;from=%2Ftopanime.php%3Flimit%3D50\"><i class=\"fa-solid fa-square-plus-o mr4\"></i>Add to list</a>\n",
       " </td>\n",
       " </tr>,\n",
       " <tr class=\"ranking-list\">\n",
       " <td class=\"rank ac\" valign=\"top\">\n",
       " <span class=\"lightLink top-anime-rank-text rank2\">56</span>\n",
       " </td>\n",
       " <td class=\"title al va-t word-break\">\n",
       " <a class=\"hoverinfo_trigger fl-l ml12 mr8\" href=\"https://myanimelist.net/anime/21/One_Piece\" id=\"#area21\" rel=\"#info21\">\n",
       " <img alt=\"Anime: One Piece\" border=\"0\" class=\"lazyload\" data-src=\"https://cdn.myanimelist.net/r/50x70/images/anime/6/73245.jpg?s=f792b8c9e28534ae455d06b15e686a14\" data-srcset=\"https://cdn.myanimelist.net/r/50x70/images/anime/6/73245.jpg?s=f792b8c9e28534ae455d06b15e686a14 1x, https://cdn.myanimelist.net/r/100x140/images/anime/6/73245.jpg?s=81e2039193c1feb8d0d41bda2a3841a8 2x\" height=\"70\" width=\"50\"/>\n",
       " </a>\n",
       " <div class=\"detail\"><div id=\"area21\">\n",
       " <div class=\"hoverinfo\" id=\"info21\" rel=\"a21\"></div>\n",
       " </div>\n",
       " <div class=\"di-ib clearfix\"><h3 class=\"hoverinfo_trigger fl-l fs14 fw-b anime_ranking_h3\"><a href=\"https://myanimelist.net/anime/21/One_Piece\" id=\"#area21\" rel=\"#info21\">One Piece</a></h3><div class=\"icon-watch2\"><a class=\"mal-icon ml8 ga-click\" href=\"https://myanimelist.net/anime/21/One_Piece/video\" title=\"Watch Episode Video\"><i class=\"malicon malicon-movie-episode\"></i></a></div></div><br/><div class=\"information di-ib mt4\">\n",
       "         TV (? eps)<br/>\n",
       "         Oct 1999 - <br/>\n",
       "         2,182,016 members\n",
       "       </div></div>\n",
       " </td>\n",
       " <td class=\"score ac fs14\"><div class=\"js-top-ranking-score-col di-ib al\"><i class=\"icon-score-star fa-solid fa-star mr4 on\"></i><span class=\"text on score-label score-8\">8.69</span></div>\n",
       " </td>\n",
       " <td class=\"your-score ac fs14\">\n",
       " <div class=\"js-top-ranking-your-score-col di-ib al\"> <a class=\"\" href=\"https://myanimelist.net/login.php?error=login_required&amp;from=%2Ftopanime.php%3Flimit%3D50\"><i class=\"icon-score-star fa-solid fa-star mr4\"></i><span class=\"text score-label score-na\">N/A</span></a>\n",
       " </div>\n",
       " </td>\n",
       " <td class=\"status ac\"> <a class=\"btn-addEdit-large btn-anime-watch-status js-anime-watch-status notinmylist\" href=\"https://myanimelist.net/login.php?error=login_required&amp;from=%2Ftopanime.php%3Flimit%3D50\"><i class=\"fa-solid fa-square-plus-o mr4\"></i>Add to list</a>\n",
       " </td>\n",
       " </tr>,\n",
       " <tr class=\"ranking-list\">\n",
       " <td class=\"rank ac\" valign=\"top\">\n",
       " <span class=\"lightLink top-anime-rank-text rank2\">57</span>\n",
       " </td>\n",
       " <td class=\"title al va-t word-break\">\n",
       " <a class=\"hoverinfo_trigger fl-l ml12 mr8\" href=\"https://myanimelist.net/anime/245/Great_Teacher_Onizuka\" id=\"#area245\" rel=\"#info245\">\n",
       " <img alt=\"Anime: Great Teacher Onizuka\" border=\"0\" class=\"lazyload\" data-src=\"https://cdn.myanimelist.net/r/50x70/images/anime/13/11460.jpg?s=7e890b7e93b7b57c2de4aa90211931bd\" data-srcset=\"https://cdn.myanimelist.net/r/50x70/images/anime/13/11460.jpg?s=7e890b7e93b7b57c2de4aa90211931bd 1x, https://cdn.myanimelist.net/r/100x140/images/anime/13/11460.jpg?s=8134d33ff056d87cfa65345aaec756f9 2x\" height=\"70\" width=\"50\"/>\n",
       " </a>\n",
       " <div class=\"detail\"><div id=\"area245\">\n",
       " <div class=\"hoverinfo\" id=\"info245\" rel=\"a245\"></div>\n",
       " </div>\n",
       " <div class=\"di-ib clearfix\"><h3 class=\"hoverinfo_trigger fl-l fs14 fw-b anime_ranking_h3\"><a href=\"https://myanimelist.net/anime/245/Great_Teacher_Onizuka\" id=\"#area245\" rel=\"#info245\">Great Teacher Onizuka</a></h3><div class=\"icon-watch2\"><a class=\"mal-icon ml8 ga-click\" href=\"https://myanimelist.net/anime/245/Great_Teacher_Onizuka/video\" title=\"Watch Episode Video\"><i class=\"malicon malicon-movie-episode\"></i></a></div></div><br/><div class=\"information di-ib mt4\">\n",
       "         TV (43 eps)<br/>\n",
       "         Jun 1999 - Sep 2000<br/>\n",
       "         790,877 members\n",
       "       </div></div>\n",
       " </td>\n",
       " <td class=\"score ac fs14\"><div class=\"js-top-ranking-score-col di-ib al\"><i class=\"icon-score-star fa-solid fa-star mr4 on\"></i><span class=\"text on score-label score-8\">8.69</span></div>\n",
       " </td>\n",
       " <td class=\"your-score ac fs14\">\n",
       " <div class=\"js-top-ranking-your-score-col di-ib al\"> <a class=\"\" href=\"https://myanimelist.net/login.php?error=login_required&amp;from=%2Ftopanime.php%3Flimit%3D50\"><i class=\"icon-score-star fa-solid fa-star mr4\"></i><span class=\"text score-label score-na\">N/A</span></a>\n",
       " </div>\n",
       " </td>\n",
       " <td class=\"status ac\"> <a class=\"btn-addEdit-large btn-anime-watch-status js-anime-watch-status notinmylist\" href=\"https://myanimelist.net/login.php?error=login_required&amp;from=%2Ftopanime.php%3Flimit%3D50\"><i class=\"fa-solid fa-square-plus-o mr4\"></i>Add to list</a>\n",
       " </td>\n",
       " </tr>,\n",
       " <tr class=\"ranking-list\">\n",
       " <td class=\"rank ac\" valign=\"top\">\n",
       " <span class=\"lightLink top-anime-rank-text rank2\">58</span>\n",
       " </td>\n",
       " <td class=\"title al va-t word-break\">\n",
       " <a class=\"hoverinfo_trigger fl-l ml12 mr8\" href=\"https://myanimelist.net/anime/33050/Fate_stay_night_Movie__Heavens_Feel_-_III_Spring_Song\" id=\"#area33050\" rel=\"#info33050\">\n",
       " <img alt=\"Anime: Fate/stay night Movie: Heaven&amp;#039;s Feel - III. Spring Song\" border=\"0\" class=\"lazyload\" data-src=\"https://cdn.myanimelist.net/r/50x70/images/anime/1142/112957.jpg?s=f0984cb6fcb8188ce26035b0b56de828\" data-srcset=\"https://cdn.myanimelist.net/r/50x70/images/anime/1142/112957.jpg?s=f0984cb6fcb8188ce26035b0b56de828 1x, https://cdn.myanimelist.net/r/100x140/images/anime/1142/112957.jpg?s=5def2155b13d757c74eeee6845c0a871 2x\" height=\"70\" width=\"50\"/>\n",
       " </a>\n",
       " <div class=\"detail\"><div id=\"area33050\">\n",
       " <div class=\"hoverinfo\" id=\"info33050\" rel=\"a33050\"></div>\n",
       " </div>\n",
       " <div class=\"di-ib clearfix\"><h3 class=\"hoverinfo_trigger fl-l fs14 fw-b anime_ranking_h3\"><a href=\"https://myanimelist.net/anime/33050/Fate_stay_night_Movie__Heavens_Feel_-_III_Spring_Song\" id=\"#area33050\" rel=\"#info33050\">Fate/stay night Movie: Heaven's Feel - III. Spring Song</a></h3><div class=\"icon-watch-pv2\"><a class=\"mal-icon ml8 ga-click\" href=\"https://myanimelist.net/anime/33050/Fate_stay_night_Movie__Heavens_Feel_-_III_Spring_Song/video\" title=\"Watch Promotional Video\"><i class=\"malicon malicon-movie-pv\"></i></a></div></div><br/><div class=\"information di-ib mt4\">\n",
       "         Movie (1 eps)<br/>\n",
       "         Aug 2020 - Aug 2020<br/>\n",
       "         325,335 members\n",
       "       </div></div>\n",
       " </td>\n",
       " <td class=\"score ac fs14\"><div class=\"js-top-ranking-score-col di-ib al\"><i class=\"icon-score-star fa-solid fa-star mr4 on\"></i><span class=\"text on score-label score-8\">8.68</span></div>\n",
       " </td>\n",
       " <td class=\"your-score ac fs14\">\n",
       " <div class=\"js-top-ranking-your-score-col di-ib al\"> <a class=\"\" href=\"https://myanimelist.net/login.php?error=login_required&amp;from=%2Ftopanime.php%3Flimit%3D50\"><i class=\"icon-score-star fa-solid fa-star mr4\"></i><span class=\"text score-label score-na\">N/A</span></a>\n",
       " </div>\n",
       " </td>\n",
       " <td class=\"status ac\"> <a class=\"btn-addEdit-large btn-anime-watch-status js-anime-watch-status notinmylist\" href=\"https://myanimelist.net/login.php?error=login_required&amp;from=%2Ftopanime.php%3Flimit%3D50\"><i class=\"fa-solid fa-square-plus-o mr4\"></i>Add to list</a>\n",
       " </td>\n",
       " </tr>,\n",
       " <tr class=\"ranking-list\">\n",
       " <td class=\"rank ac\" valign=\"top\">\n",
       " <span class=\"lightLink top-anime-rank-text rank2\">59</span>\n",
       " </td>\n",
       " <td class=\"title al va-t word-break\">\n",
       " <a class=\"hoverinfo_trigger fl-l ml12 mr8\" href=\"https://myanimelist.net/anime/164/Mononoke_Hime\" id=\"#area164\" rel=\"#info164\">\n",
       " <img alt=\"Anime: Mononoke Hime\" border=\"0\" class=\"lazyload\" data-src=\"https://cdn.myanimelist.net/r/50x70/images/anime/7/75919.jpg?s=0d877ed9aa60cc49fdb128a2f68386e2\" data-srcset=\"https://cdn.myanimelist.net/r/50x70/images/anime/7/75919.jpg?s=0d877ed9aa60cc49fdb128a2f68386e2 1x, https://cdn.myanimelist.net/r/100x140/images/anime/7/75919.jpg?s=ec4a31ebc5b430efe3ed391d96c228a3 2x\" height=\"70\" width=\"50\"/>\n",
       " </a>\n",
       " <div class=\"detail\"><div id=\"area164\">\n",
       " <div class=\"hoverinfo\" id=\"info164\" rel=\"a164\"></div>\n",
       " </div>\n",
       " <div class=\"di-ib clearfix\"><h3 class=\"hoverinfo_trigger fl-l fs14 fw-b anime_ranking_h3\"><a href=\"https://myanimelist.net/anime/164/Mononoke_Hime\" id=\"#area164\" rel=\"#info164\">Mononoke Hime</a></h3><div class=\"icon-watch-pv2\"><a class=\"mal-icon ml8 ga-click\" href=\"https://myanimelist.net/anime/164/Mononoke_Hime/video\" title=\"Watch Promotional Video\"><i class=\"malicon malicon-movie-pv\"></i></a></div></div><br/><div class=\"information di-ib mt4\">\n",
       "         Movie (1 eps)<br/>\n",
       "         Jul 1997 - Jul 1997<br/>\n",
       "         1,194,831 members\n",
       "       </div></div>\n",
       " </td>\n",
       " <td class=\"score ac fs14\"><div class=\"js-top-ranking-score-col di-ib al\"><i class=\"icon-score-star fa-solid fa-star mr4 on\"></i><span class=\"text on score-label score-8\">8.67</span></div>\n",
       " </td>\n",
       " <td class=\"your-score ac fs14\">\n",
       " <div class=\"js-top-ranking-your-score-col di-ib al\"> <a class=\"\" href=\"https://myanimelist.net/login.php?error=login_required&amp;from=%2Ftopanime.php%3Flimit%3D50\"><i class=\"icon-score-star fa-solid fa-star mr4\"></i><span class=\"text score-label score-na\">N/A</span></a>\n",
       " </div>\n",
       " </td>\n",
       " <td class=\"status ac\"> <a class=\"btn-addEdit-large btn-anime-watch-status js-anime-watch-status notinmylist\" href=\"https://myanimelist.net/login.php?error=login_required&amp;from=%2Ftopanime.php%3Flimit%3D50\"><i class=\"fa-solid fa-square-plus-o mr4\"></i>Add to list</a>\n",
       " </td>\n",
       " </tr>,\n",
       " <tr class=\"ranking-list\">\n",
       " <td class=\"rank ac\" valign=\"top\">\n",
       " <span class=\"lightLink top-anime-rank-text rank2\">60</span>\n",
       " </td>\n",
       " <td class=\"title al va-t word-break\">\n",
       " <a class=\"hoverinfo_trigger fl-l ml12 mr8\" href=\"https://myanimelist.net/anime/45649/The_First_Slam_Dunk\" id=\"#area45649\" rel=\"#info45649\">\n",
       " <img alt=\"Anime: The First Slam Dunk\" border=\"0\" class=\"lazyload\" data-src=\"https://cdn.myanimelist.net/r/50x70/images/anime/1745/129284.jpg?s=0a4aa56dd7a19b280e4cdd09aaad81a6\" data-srcset=\"https://cdn.myanimelist.net/r/50x70/images/anime/1745/129284.jpg?s=0a4aa56dd7a19b280e4cdd09aaad81a6 1x, https://cdn.myanimelist.net/r/100x140/images/anime/1745/129284.jpg?s=227145e81dea051b0a5f60ee0aaa93c3 2x\" height=\"70\" width=\"50\"/>\n",
       " </a>\n",
       " <div class=\"detail\"><div id=\"area45649\">\n",
       " <div class=\"hoverinfo\" id=\"info45649\" rel=\"a45649\"></div>\n",
       " </div>\n",
       " <div class=\"di-ib clearfix\"><h3 class=\"hoverinfo_trigger fl-l fs14 fw-b anime_ranking_h3\"><a href=\"https://myanimelist.net/anime/45649/The_First_Slam_Dunk\" id=\"#area45649\" rel=\"#info45649\">The First Slam Dunk</a></h3><div class=\"icon-watch-pv2\"><a class=\"mal-icon ml8 ga-click\" href=\"https://myanimelist.net/anime/45649/The_First_Slam_Dunk/video\" title=\"Watch Promotional Video\"><i class=\"malicon malicon-movie-pv\"></i></a></div></div><br/><div class=\"information di-ib mt4\">\n",
       "         Movie (1 eps)<br/>\n",
       "         Dec 2022 - Dec 2022<br/>\n",
       "         20,394 members\n",
       "       </div></div>\n",
       " </td>\n",
       " <td class=\"score ac fs14\"><div class=\"js-top-ranking-score-col di-ib al\"><i class=\"icon-score-star fa-solid fa-star mr4 on\"></i><span class=\"text on score-label score-8\">8.67</span></div>\n",
       " </td>\n",
       " <td class=\"your-score ac fs14\">\n",
       " <div class=\"js-top-ranking-your-score-col di-ib al\"> <a class=\"\" href=\"https://myanimelist.net/login.php?error=login_required&amp;from=%2Ftopanime.php%3Flimit%3D50\"><i class=\"icon-score-star fa-solid fa-star mr4\"></i><span class=\"text score-label score-na\">N/A</span></a>\n",
       " </div>\n",
       " </td>\n",
       " <td class=\"status ac\"> <a class=\"btn-addEdit-large btn-anime-watch-status js-anime-watch-status notinmylist\" href=\"https://myanimelist.net/login.php?error=login_required&amp;from=%2Ftopanime.php%3Flimit%3D50\"><i class=\"fa-solid fa-square-plus-o mr4\"></i>Add to list</a>\n",
       " </td>\n",
       " </tr>,\n",
       " <tr class=\"ranking-list\">\n",
       " <td class=\"rank ac\" valign=\"top\">\n",
       " <span class=\"lightLink top-anime-rank-text rank2\">61</span>\n",
       " </td>\n",
       " <td class=\"title al va-t word-break\">\n",
       " <a class=\"hoverinfo_trigger fl-l ml12 mr8\" href=\"https://myanimelist.net/anime/33352/Violet_Evergarden\" id=\"#area33352\" rel=\"#info33352\">\n",
       " <img alt=\"Anime: Violet Evergarden\" border=\"0\" class=\"lazyload\" data-src=\"https://cdn.myanimelist.net/r/50x70/images/anime/1795/95088.jpg?s=9e24a139603a4e0ea8ea055a230b54d5\" data-srcset=\"https://cdn.myanimelist.net/r/50x70/images/anime/1795/95088.jpg?s=9e24a139603a4e0ea8ea055a230b54d5 1x, https://cdn.myanimelist.net/r/100x140/images/anime/1795/95088.jpg?s=daeb3d4de08db6c56e879eba3de19c36 2x\" height=\"70\" width=\"50\"/>\n",
       " </a>\n",
       " <div class=\"detail\"><div id=\"area33352\">\n",
       " <div class=\"hoverinfo\" id=\"info33352\" rel=\"a33352\"></div>\n",
       " </div>\n",
       " <div class=\"di-ib clearfix\"><h3 class=\"hoverinfo_trigger fl-l fs14 fw-b anime_ranking_h3\"><a href=\"https://myanimelist.net/anime/33352/Violet_Evergarden\" id=\"#area33352\" rel=\"#info33352\">Violet Evergarden</a></h3><div class=\"icon-watch-pv2\"><a class=\"mal-icon ml8 ga-click\" href=\"https://myanimelist.net/anime/33352/Violet_Evergarden/video\" title=\"Watch Promotional Video\"><i class=\"malicon malicon-movie-pv\"></i></a></div></div><br/><div class=\"information di-ib mt4\">\n",
       "         TV (13 eps)<br/>\n",
       "         Jan 2018 - Apr 2018<br/>\n",
       "         1,684,184 members\n",
       "       </div></div>\n",
       " </td>\n",
       " <td class=\"score ac fs14\"><div class=\"js-top-ranking-score-col di-ib al\"><i class=\"icon-score-star fa-solid fa-star mr4 on\"></i><span class=\"text on score-label score-8\">8.67</span></div>\n",
       " </td>\n",
       " <td class=\"your-score ac fs14\">\n",
       " <div class=\"js-top-ranking-your-score-col di-ib al\"> <a class=\"\" href=\"https://myanimelist.net/login.php?error=login_required&amp;from=%2Ftopanime.php%3Flimit%3D50\"><i class=\"icon-score-star fa-solid fa-star mr4\"></i><span class=\"text score-label score-na\">N/A</span></a>\n",
       " </div>\n",
       " </td>\n",
       " <td class=\"status ac\"> <a class=\"btn-addEdit-large btn-anime-watch-status js-anime-watch-status notinmylist\" href=\"https://myanimelist.net/login.php?error=login_required&amp;from=%2Ftopanime.php%3Flimit%3D50\"><i class=\"fa-solid fa-square-plus-o mr4\"></i>Add to list</a>\n",
       " </td>\n",
       " </tr>,\n",
       " <tr class=\"ranking-list\">\n",
       " <td class=\"rank ac\" valign=\"top\">\n",
       " <span class=\"lightLink top-anime-rank-text rank2\">62</span>\n",
       " </td>\n",
       " <td class=\"title al va-t word-break\">\n",
       " <a class=\"hoverinfo_trigger fl-l ml12 mr8\" href=\"https://myanimelist.net/anime/5258/Hajime_no_Ippo__New_Challenger\" id=\"#area5258\" rel=\"#info5258\">\n",
       " <img alt=\"Anime: Hajime no Ippo: New Challenger\" border=\"0\" class=\"lazyload\" data-src=\"https://cdn.myanimelist.net/r/50x70/images/anime/8/56617.jpg?s=4c8a3a8180c114c3771eb183e5318a0e\" data-srcset=\"https://cdn.myanimelist.net/r/50x70/images/anime/8/56617.jpg?s=4c8a3a8180c114c3771eb183e5318a0e 1x, https://cdn.myanimelist.net/r/100x140/images/anime/8/56617.jpg?s=c9e62681de46d5ec39a4c9cc8f222e97 2x\" height=\"70\" width=\"50\"/>\n",
       " </a>\n",
       " <div class=\"detail\"><div id=\"area5258\">\n",
       " <div class=\"hoverinfo\" id=\"info5258\" rel=\"a5258\"></div>\n",
       " </div>\n",
       " <div class=\"di-ib clearfix\"><h3 class=\"hoverinfo_trigger fl-l fs14 fw-b anime_ranking_h3\"><a href=\"https://myanimelist.net/anime/5258/Hajime_no_Ippo__New_Challenger\" id=\"#area5258\" rel=\"#info5258\">Hajime no Ippo: New Challenger</a></h3></div><br/><div class=\"information di-ib mt4\">\n",
       "         TV (26 eps)<br/>\n",
       "         Jan 2009 - Jul 2009<br/>\n",
       "         268,982 members\n",
       "       </div></div>\n",
       " </td>\n",
       " <td class=\"score ac fs14\"><div class=\"js-top-ranking-score-col di-ib al\"><i class=\"icon-score-star fa-solid fa-star mr4 on\"></i><span class=\"text on score-label score-8\">8.66</span></div>\n",
       " </td>\n",
       " <td class=\"your-score ac fs14\">\n",
       " <div class=\"js-top-ranking-your-score-col di-ib al\"> <a class=\"\" href=\"https://myanimelist.net/login.php?error=login_required&amp;from=%2Ftopanime.php%3Flimit%3D50\"><i class=\"icon-score-star fa-solid fa-star mr4\"></i><span class=\"text score-label score-na\">N/A</span></a>\n",
       " </div>\n",
       " </td>\n",
       " <td class=\"status ac\"> <a class=\"btn-addEdit-large btn-anime-watch-status js-anime-watch-status notinmylist\" href=\"https://myanimelist.net/login.php?error=login_required&amp;from=%2Ftopanime.php%3Flimit%3D50\"><i class=\"fa-solid fa-square-plus-o mr4\"></i>Add to list</a>\n",
       " </td>\n",
       " </tr>,\n",
       " <tr class=\"ranking-list\">\n",
       " <td class=\"rank ac\" valign=\"top\">\n",
       " <span class=\"lightLink top-anime-rank-text rank2\">63</span>\n",
       " </td>\n",
       " <td class=\"title al va-t word-break\">\n",
       " <a class=\"hoverinfo_trigger fl-l ml12 mr8\" href=\"https://myanimelist.net/anime/431/Howl_no_Ugoku_Shiro\" id=\"#area431\" rel=\"#info431\">\n",
       " <img alt=\"Anime: Howl no Ugoku Shiro\" border=\"0\" class=\"lazyload\" data-src=\"https://cdn.myanimelist.net/r/50x70/images/anime/5/75810.jpg?s=2b3056507119467116017b42d3e1da8b\" data-srcset=\"https://cdn.myanimelist.net/r/50x70/images/anime/5/75810.jpg?s=2b3056507119467116017b42d3e1da8b 1x, https://cdn.myanimelist.net/r/100x140/images/anime/5/75810.jpg?s=a6c1acf59965f7e50ac637d018a734f0 2x\" height=\"70\" width=\"50\"/>\n",
       " </a>\n",
       " <div class=\"detail\"><div id=\"area431\">\n",
       " <div class=\"hoverinfo\" id=\"info431\" rel=\"a431\"></div>\n",
       " </div>\n",
       " <div class=\"di-ib clearfix\"><h3 class=\"hoverinfo_trigger fl-l fs14 fw-b anime_ranking_h3\"><a href=\"https://myanimelist.net/anime/431/Howl_no_Ugoku_Shiro\" id=\"#area431\" rel=\"#info431\">Howl no Ugoku Shiro</a></h3><div class=\"icon-watch-pv2\"><a class=\"mal-icon ml8 ga-click\" href=\"https://myanimelist.net/anime/431/Howl_no_Ugoku_Shiro/video\" title=\"Watch Promotional Video\"><i class=\"malicon malicon-movie-pv\"></i></a></div></div><br/><div class=\"information di-ib mt4\">\n",
       "         Movie (1 eps)<br/>\n",
       "         Nov 2004 - Nov 2004<br/>\n",
       "         1,259,521 members\n",
       "       </div></div>\n",
       " </td>\n",
       " <td class=\"score ac fs14\"><div class=\"js-top-ranking-score-col di-ib al\"><i class=\"icon-score-star fa-solid fa-star mr4 on\"></i><span class=\"text on score-label score-8\">8.66</span></div>\n",
       " </td>\n",
       " <td class=\"your-score ac fs14\">\n",
       " <div class=\"js-top-ranking-your-score-col di-ib al\"> <a class=\"\" href=\"https://myanimelist.net/login.php?error=login_required&amp;from=%2Ftopanime.php%3Flimit%3D50\"><i class=\"icon-score-star fa-solid fa-star mr4\"></i><span class=\"text score-label score-na\">N/A</span></a>\n",
       " </div>\n",
       " </td>\n",
       " <td class=\"status ac\"> <a class=\"btn-addEdit-large btn-anime-watch-status js-anime-watch-status notinmylist\" href=\"https://myanimelist.net/login.php?error=login_required&amp;from=%2Ftopanime.php%3Flimit%3D50\"><i class=\"fa-solid fa-square-plus-o mr4\"></i>Add to list</a>\n",
       " </td>\n",
       " </tr>,\n",
       " <tr class=\"ranking-list\">\n",
       " <td class=\"rank ac\" valign=\"top\">\n",
       " <span class=\"lightLink top-anime-rank-text rank2\">64</span>\n",
       " </td>\n",
       " <td class=\"title al va-t word-break\">\n",
       " <a class=\"hoverinfo_trigger fl-l ml12 mr8\" href=\"https://myanimelist.net/anime/34599/Made_in_Abyss\" id=\"#area34599\" rel=\"#info34599\">\n",
       " <img alt=\"Anime: Made in Abyss\" border=\"0\" class=\"lazyload\" data-src=\"https://cdn.myanimelist.net/r/50x70/images/anime/6/86733.jpg?s=56ac623880ec87f3a0197e0391bc12c3\" data-srcset=\"https://cdn.myanimelist.net/r/50x70/images/anime/6/86733.jpg?s=56ac623880ec87f3a0197e0391bc12c3 1x, https://cdn.myanimelist.net/r/100x140/images/anime/6/86733.jpg?s=ff773aca2bed4fe79efd6a5b6ff0e911 2x\" height=\"70\" width=\"50\"/>\n",
       " </a>\n",
       " <div class=\"detail\"><div id=\"area34599\">\n",
       " <div class=\"hoverinfo\" id=\"info34599\" rel=\"a34599\"></div>\n",
       " </div>\n",
       " <div class=\"di-ib clearfix\"><h3 class=\"hoverinfo_trigger fl-l fs14 fw-b anime_ranking_h3\"><a href=\"https://myanimelist.net/anime/34599/Made_in_Abyss\" id=\"#area34599\" rel=\"#info34599\">Made in Abyss</a></h3><div class=\"icon-watch2\"><a class=\"mal-icon ml8 ga-click\" href=\"https://myanimelist.net/anime/34599/Made_in_Abyss/video\" title=\"Watch Episode Video\"><i class=\"malicon malicon-movie-episode\"></i></a></div></div><br/><div class=\"information di-ib mt4\">\n",
       "         TV (13 eps)<br/>\n",
       "         Jul 2017 - Sep 2017<br/>\n",
       "         1,300,346 members\n",
       "       </div></div>\n",
       " </td>\n",
       " <td class=\"score ac fs14\"><div class=\"js-top-ranking-score-col di-ib al\"><i class=\"icon-score-star fa-solid fa-star mr4 on\"></i><span class=\"text on score-label score-8\">8.66</span></div>\n",
       " </td>\n",
       " <td class=\"your-score ac fs14\">\n",
       " <div class=\"js-top-ranking-your-score-col di-ib al\"> <a class=\"\" href=\"https://myanimelist.net/login.php?error=login_required&amp;from=%2Ftopanime.php%3Flimit%3D50\"><i class=\"icon-score-star fa-solid fa-star mr4\"></i><span class=\"text score-label score-na\">N/A</span></a>\n",
       " </div>\n",
       " </td>\n",
       " <td class=\"status ac\"> <a class=\"btn-addEdit-large btn-anime-watch-status js-anime-watch-status notinmylist\" href=\"https://myanimelist.net/login.php?error=login_required&amp;from=%2Ftopanime.php%3Flimit%3D50\"><i class=\"fa-solid fa-square-plus-o mr4\"></i>Add to list</a>\n",
       " </td>\n",
       " </tr>,\n",
       " <tr class=\"ranking-list\">\n",
       " <td class=\"rank ac\" valign=\"top\">\n",
       " <span class=\"lightLink top-anime-rank-text rank2\">65</span>\n",
       " </td>\n",
       " <td class=\"title al va-t word-break\">\n",
       " <a class=\"hoverinfo_trigger fl-l ml12 mr8\" href=\"https://myanimelist.net/anime/41084/Made_in_Abyss__Retsujitsu_no_Ougonkyou\" id=\"#area41084\" rel=\"#info41084\">\n",
       " <img alt=\"Anime: Made in Abyss: Retsujitsu no Ougonkyou\" border=\"0\" class=\"lazyload\" data-src=\"https://cdn.myanimelist.net/r/50x70/images/anime/1864/122519.jpg?s=17612a9ecb307994db4ced0a85774a37\" data-srcset=\"https://cdn.myanimelist.net/r/50x70/images/anime/1864/122519.jpg?s=17612a9ecb307994db4ced0a85774a37 1x, https://cdn.myanimelist.net/r/100x140/images/anime/1864/122519.jpg?s=bc65b762aa0a5e87fdc0f8bc132278ed 2x\" height=\"70\" width=\"50\"/>\n",
       " </a>\n",
       " <div class=\"detail\"><div id=\"area41084\">\n",
       " <div class=\"hoverinfo\" id=\"info41084\" rel=\"a41084\"></div>\n",
       " </div>\n",
       " <div class=\"di-ib clearfix\"><h3 class=\"hoverinfo_trigger fl-l fs14 fw-b anime_ranking_h3\"><a href=\"https://myanimelist.net/anime/41084/Made_in_Abyss__Retsujitsu_no_Ougonkyou\" id=\"#area41084\" rel=\"#info41084\">Made in Abyss: Retsujitsu no Ougonkyou</a></h3><div class=\"icon-watch2\"><a class=\"mal-icon ml8 ga-click\" href=\"https://myanimelist.net/anime/41084/Made_in_Abyss__Retsujitsu_no_Ougonkyou/video\" title=\"Watch Episode Video\"><i class=\"malicon malicon-movie-episode\"></i></a></div></div><br/><div class=\"information di-ib mt4\">\n",
       "         TV (12 eps)<br/>\n",
       "         Jul 2022 - Sep 2022<br/>\n",
       "         389,366 members\n",
       "       </div></div>\n",
       " </td>\n",
       " <td class=\"score ac fs14\"><div class=\"js-top-ranking-score-col di-ib al\"><i class=\"icon-score-star fa-solid fa-star mr4 on\"></i><span class=\"text on score-label score-8\">8.66</span></div>\n",
       " </td>\n",
       " <td class=\"your-score ac fs14\">\n",
       " <div class=\"js-top-ranking-your-score-col di-ib al\"> <a class=\"\" href=\"https://myanimelist.net/login.php?error=login_required&amp;from=%2Ftopanime.php%3Flimit%3D50\"><i class=\"icon-score-star fa-solid fa-star mr4\"></i><span class=\"text score-label score-na\">N/A</span></a>\n",
       " </div>\n",
       " </td>\n",
       " <td class=\"status ac\"> <a class=\"btn-addEdit-large btn-anime-watch-status js-anime-watch-status notinmylist\" href=\"https://myanimelist.net/login.php?error=login_required&amp;from=%2Ftopanime.php%3Flimit%3D50\"><i class=\"fa-solid fa-square-plus-o mr4\"></i>Add to list</a>\n",
       " </td>\n",
       " </tr>,\n",
       " <tr class=\"ranking-list\">\n",
       " <td class=\"rank ac\" valign=\"top\">\n",
       " <span class=\"lightLink top-anime-rank-text rank2\">66</span>\n",
       " </td>\n",
       " <td class=\"title al va-t word-break\">\n",
       " <a class=\"hoverinfo_trigger fl-l ml12 mr8\" href=\"https://myanimelist.net/anime/457/Mushishi\" id=\"#area457\" rel=\"#info457\">\n",
       " <img alt=\"Anime: Mushishi\" border=\"0\" class=\"lazyload\" data-src=\"https://cdn.myanimelist.net/r/50x70/images/anime/2/73862.jpg?s=d976f75f480430a0c9fde4455696131d\" data-srcset=\"https://cdn.myanimelist.net/r/50x70/images/anime/2/73862.jpg?s=d976f75f480430a0c9fde4455696131d 1x, https://cdn.myanimelist.net/r/100x140/images/anime/2/73862.jpg?s=bd3f3140d4768f5f31ac5d5539056068 2x\" height=\"70\" width=\"50\"/>\n",
       " </a>\n",
       " <div class=\"detail\"><div id=\"area457\">\n",
       " <div class=\"hoverinfo\" id=\"info457\" rel=\"a457\"></div>\n",
       " </div>\n",
       " <div class=\"di-ib clearfix\"><h3 class=\"hoverinfo_trigger fl-l fs14 fw-b anime_ranking_h3\"><a href=\"https://myanimelist.net/anime/457/Mushishi\" id=\"#area457\" rel=\"#info457\">Mushishi</a></h3><div class=\"icon-watch2\"><a class=\"mal-icon ml8 ga-click\" href=\"https://myanimelist.net/anime/457/Mushishi/video\" title=\"Watch Episode Video\"><i class=\"malicon malicon-movie-episode\"></i></a></div></div><br/><div class=\"information di-ib mt4\">\n",
       "         TV (26 eps)<br/>\n",
       "         Oct 2005 - Jun 2006<br/>\n",
       "         796,302 members\n",
       "       </div></div>\n",
       " </td>\n",
       " <td class=\"score ac fs14\"><div class=\"js-top-ranking-score-col di-ib al\"><i class=\"icon-score-star fa-solid fa-star mr4 on\"></i><span class=\"text on score-label score-8\">8.66</span></div>\n",
       " </td>\n",
       " <td class=\"your-score ac fs14\">\n",
       " <div class=\"js-top-ranking-your-score-col di-ib al\"> <a class=\"\" href=\"https://myanimelist.net/login.php?error=login_required&amp;from=%2Ftopanime.php%3Flimit%3D50\"><i class=\"icon-score-star fa-solid fa-star mr4\"></i><span class=\"text score-label score-na\">N/A</span></a>\n",
       " </div>\n",
       " </td>\n",
       " <td class=\"status ac\"> <a class=\"btn-addEdit-large btn-anime-watch-status js-anime-watch-status notinmylist\" href=\"https://myanimelist.net/login.php?error=login_required&amp;from=%2Ftopanime.php%3Flimit%3D50\"><i class=\"fa-solid fa-square-plus-o mr4\"></i>Add to list</a>\n",
       " </td>\n",
       " </tr>,\n",
       " <tr class=\"ranking-list\">\n",
       " <td class=\"rank ac\" valign=\"top\">\n",
       " <span class=\"lightLink top-anime-rank-text rank2\">67</span>\n",
       " </td>\n",
       " <td class=\"title al va-t word-break\">\n",
       " <a class=\"hoverinfo_trigger fl-l ml12 mr8\" href=\"https://myanimelist.net/anime/23273/Shigatsu_wa_Kimi_no_Uso\" id=\"#area23273\" rel=\"#info23273\">\n",
       " <img alt=\"Anime: Shigatsu wa Kimi no Uso\" border=\"0\" class=\"lazyload\" data-src=\"https://cdn.myanimelist.net/r/50x70/images/anime/3/67177.jpg?s=bc267f764bffe825e1e8d60f7185a2e9\" data-srcset=\"https://cdn.myanimelist.net/r/50x70/images/anime/3/67177.jpg?s=bc267f764bffe825e1e8d60f7185a2e9 1x, https://cdn.myanimelist.net/r/100x140/images/anime/3/67177.jpg?s=4864d877e3763400abe924cb27b82cc2 2x\" height=\"70\" width=\"50\"/>\n",
       " </a>\n",
       " <div class=\"detail\"><div id=\"area23273\">\n",
       " <div class=\"hoverinfo\" id=\"info23273\" rel=\"a23273\"></div>\n",
       " </div>\n",
       " <div class=\"di-ib clearfix\"><h3 class=\"hoverinfo_trigger fl-l fs14 fw-b anime_ranking_h3\"><a href=\"https://myanimelist.net/anime/23273/Shigatsu_wa_Kimi_no_Uso\" id=\"#area23273\" rel=\"#info23273\">Shigatsu wa Kimi no Uso</a></h3><div class=\"icon-watch2\"><a class=\"mal-icon ml8 ga-click\" href=\"https://myanimelist.net/anime/23273/Shigatsu_wa_Kimi_no_Uso/video\" title=\"Watch Episode Video\"><i class=\"malicon malicon-movie-episode\"></i></a></div></div><br/><div class=\"information di-ib mt4\">\n",
       "         TV (22 eps)<br/>\n",
       "         Oct 2014 - Mar 2015<br/>\n",
       "         2,119,003 members\n",
       "       </div></div>\n",
       " </td>\n",
       " <td class=\"score ac fs14\"><div class=\"js-top-ranking-score-col di-ib al\"><i class=\"icon-score-star fa-solid fa-star mr4 on\"></i><span class=\"text on score-label score-8\">8.65</span></div>\n",
       " </td>\n",
       " <td class=\"your-score ac fs14\">\n",
       " <div class=\"js-top-ranking-your-score-col di-ib al\"> <a class=\"\" href=\"https://myanimelist.net/login.php?error=login_required&amp;from=%2Ftopanime.php%3Flimit%3D50\"><i class=\"icon-score-star fa-solid fa-star mr4\"></i><span class=\"text score-label score-na\">N/A</span></a>\n",
       " </div>\n",
       " </td>\n",
       " <td class=\"status ac\"> <a class=\"btn-addEdit-large btn-anime-watch-status js-anime-watch-status notinmylist\" href=\"https://myanimelist.net/login.php?error=login_required&amp;from=%2Ftopanime.php%3Flimit%3D50\"><i class=\"fa-solid fa-square-plus-o mr4\"></i>Add to list</a>\n",
       " </td>\n",
       " </tr>,\n",
       " <tr class=\"ranking-list\">\n",
       " <td class=\"rank ac\" valign=\"top\">\n",
       " <span class=\"lightLink top-anime-rank-text rank2\">68</span>\n",
       " </td>\n",
       " <td class=\"title al va-t word-break\">\n",
       " <a class=\"hoverinfo_trigger fl-l ml12 mr8\" href=\"https://myanimelist.net/anime/11665/Natsume_Yuujinchou_Shi\" id=\"#area11665\" rel=\"#info11665\">\n",
       " <img alt=\"Anime: Natsume Yuujinchou Shi\" border=\"0\" class=\"lazyload\" data-src=\"https://cdn.myanimelist.net/r/50x70/images/anime/3/37449.jpg?s=2bb045b3120e6a3a23257bb39689ae30\" data-srcset=\"https://cdn.myanimelist.net/r/50x70/images/anime/3/37449.jpg?s=2bb045b3120e6a3a23257bb39689ae30 1x, https://cdn.myanimelist.net/r/100x140/images/anime/3/37449.jpg?s=5feb674d132cc807e2fb1bb2a8689e62 2x\" height=\"70\" width=\"50\"/>\n",
       " </a>\n",
       " <div class=\"detail\"><div id=\"area11665\">\n",
       " <div class=\"hoverinfo\" id=\"info11665\" rel=\"a11665\"></div>\n",
       " </div>\n",
       " <div class=\"di-ib clearfix\"><h3 class=\"hoverinfo_trigger fl-l fs14 fw-b anime_ranking_h3\"><a href=\"https://myanimelist.net/anime/11665/Natsume_Yuujinchou_Shi\" id=\"#area11665\" rel=\"#info11665\">Natsume Yuujinchou Shi</a></h3><div class=\"icon-watch2\"><a class=\"mal-icon ml8 ga-click\" href=\"https://myanimelist.net/anime/11665/Natsume_Yuujinchou_Shi/video\" title=\"Watch Episode Video\"><i class=\"malicon malicon-movie-episode\"></i></a></div></div><br/><div class=\"information di-ib mt4\">\n",
       "         TV (13 eps)<br/>\n",
       "         Jan 2012 - Mar 2012<br/>\n",
       "         236,959 members\n",
       "       </div></div>\n",
       " </td>\n",
       " <td class=\"score ac fs14\"><div class=\"js-top-ranking-score-col di-ib al\"><i class=\"icon-score-star fa-solid fa-star mr4 on\"></i><span class=\"text on score-label score-8\">8.64</span></div>\n",
       " </td>\n",
       " <td class=\"your-score ac fs14\">\n",
       " <div class=\"js-top-ranking-your-score-col di-ib al\"> <a class=\"\" href=\"https://myanimelist.net/login.php?error=login_required&amp;from=%2Ftopanime.php%3Flimit%3D50\"><i class=\"icon-score-star fa-solid fa-star mr4\"></i><span class=\"text score-label score-na\">N/A</span></a>\n",
       " </div>\n",
       " </td>\n",
       " <td class=\"status ac\"> <a class=\"btn-addEdit-large btn-anime-watch-status js-anime-watch-status notinmylist\" href=\"https://myanimelist.net/login.php?error=login_required&amp;from=%2Ftopanime.php%3Flimit%3D50\"><i class=\"fa-solid fa-square-plus-o mr4\"></i>Add to list</a>\n",
       " </td>\n",
       " </tr>,\n",
       " <tr class=\"ranking-list\">\n",
       " <td class=\"rank ac\" valign=\"top\">\n",
       " <span class=\"lightLink top-anime-rank-text rank2\">69</span>\n",
       " </td>\n",
       " <td class=\"title al va-t word-break\">\n",
       " <a class=\"hoverinfo_trigger fl-l ml12 mr8\" href=\"https://myanimelist.net/anime/40748/Jujutsu_Kaisen\" id=\"#area40748\" rel=\"#info40748\">\n",
       " <img alt=\"Anime: Jujutsu Kaisen\" border=\"0\" class=\"lazyload\" data-src=\"https://cdn.myanimelist.net/r/50x70/images/anime/1171/109222.jpg?s=f5508bab9e7d610a28f12d1828a6ee79\" data-srcset=\"https://cdn.myanimelist.net/r/50x70/images/anime/1171/109222.jpg?s=f5508bab9e7d610a28f12d1828a6ee79 1x, https://cdn.myanimelist.net/r/100x140/images/anime/1171/109222.jpg?s=d5f93547fb6fd4d63dffe58223c77723 2x\" height=\"70\" width=\"50\"/>\n",
       " </a>\n",
       " <div class=\"detail\"><div id=\"area40748\">\n",
       " <div class=\"hoverinfo\" id=\"info40748\" rel=\"a40748\"></div>\n",
       " </div>\n",
       " <div class=\"di-ib clearfix\"><h3 class=\"hoverinfo_trigger fl-l fs14 fw-b anime_ranking_h3\"><a href=\"https://myanimelist.net/anime/40748/Jujutsu_Kaisen\" id=\"#area40748\" rel=\"#info40748\">Jujutsu Kaisen</a></h3><div class=\"icon-watch2\"><a class=\"mal-icon ml8 ga-click\" href=\"https://myanimelist.net/anime/40748/Jujutsu_Kaisen/video\" title=\"Watch Episode Video\"><i class=\"malicon malicon-movie-episode\"></i></a></div></div><br/><div class=\"information di-ib mt4\">\n",
       "         TV (24 eps)<br/>\n",
       "         Oct 2020 - Mar 2021<br/>\n",
       "         2,271,202 members\n",
       "       </div></div>\n",
       " </td>\n",
       " <td class=\"score ac fs14\"><div class=\"js-top-ranking-score-col di-ib al\"><i class=\"icon-score-star fa-solid fa-star mr4 on\"></i><span class=\"text on score-label score-8\">8.64</span></div>\n",
       " </td>\n",
       " <td class=\"your-score ac fs14\">\n",
       " <div class=\"js-top-ranking-your-score-col di-ib al\"> <a class=\"\" href=\"https://myanimelist.net/login.php?error=login_required&amp;from=%2Ftopanime.php%3Flimit%3D50\"><i class=\"icon-score-star fa-solid fa-star mr4\"></i><span class=\"text score-label score-na\">N/A</span></a>\n",
       " </div>\n",
       " </td>\n",
       " <td class=\"status ac\"> <a class=\"btn-addEdit-large btn-anime-watch-status js-anime-watch-status notinmylist\" href=\"https://myanimelist.net/login.php?error=login_required&amp;from=%2Ftopanime.php%3Flimit%3D50\"><i class=\"fa-solid fa-square-plus-o mr4\"></i>Add to list</a>\n",
       " </td>\n",
       " </tr>,\n",
       " <tr class=\"ranking-list\">\n",
       " <td class=\"rank ac\" valign=\"top\">\n",
       " <span class=\"lightLink top-anime-rank-text rank2\">70</span>\n",
       " </td>\n",
       " <td class=\"title al va-t word-break\">\n",
       " <a class=\"hoverinfo_trigger fl-l ml12 mr8\" href=\"https://myanimelist.net/anime/40591/Kaguya-sama_wa_Kokurasetai_Tensai-tachi_no_Renai_Zunousen\" id=\"#area40591\" rel=\"#info40591\">\n",
       " <img alt=\"Anime: Kaguya-sama wa Kokurasetai? Tensai-tachi no Renai Zunousen\" border=\"0\" class=\"lazyload\" data-src=\"https://cdn.myanimelist.net/r/50x70/images/anime/1764/106659.jpg?s=aab19d0f19e345e223dc26542ac3a28f\" data-srcset=\"https://cdn.myanimelist.net/r/50x70/images/anime/1764/106659.jpg?s=aab19d0f19e345e223dc26542ac3a28f 1x, https://cdn.myanimelist.net/r/100x140/images/anime/1764/106659.jpg?s=31550f89f62679c9820095853bb522a6 2x\" height=\"70\" width=\"50\"/>\n",
       " </a>\n",
       " <div class=\"detail\"><div id=\"area40591\">\n",
       " <div class=\"hoverinfo\" id=\"info40591\" rel=\"a40591\"></div>\n",
       " </div>\n",
       " <div class=\"di-ib clearfix\"><h3 class=\"hoverinfo_trigger fl-l fs14 fw-b anime_ranking_h3\"><a href=\"https://myanimelist.net/anime/40591/Kaguya-sama_wa_Kokurasetai_Tensai-tachi_no_Renai_Zunousen\" id=\"#area40591\" rel=\"#info40591\">Kaguya-sama wa Kokurasetai? Tensai-tachi no Renai Zunousen</a></h3><div class=\"icon-watch2\"><a class=\"mal-icon ml8 ga-click\" href=\"https://myanimelist.net/anime/40591/Kaguya-sama_wa_Kokurasetai_Tensai-tachi_no_Renai_Zunousen/video\" title=\"Watch Episode Video\"><i class=\"malicon malicon-movie-episode\"></i></a></div></div><br/><div class=\"information di-ib mt4\">\n",
       "         TV (12 eps)<br/>\n",
       "         Apr 2020 - Jun 2020<br/>\n",
       "         1,264,638 members\n",
       "       </div></div>\n",
       " </td>\n",
       " <td class=\"score ac fs14\"><div class=\"js-top-ranking-score-col di-ib al\"><i class=\"icon-score-star fa-solid fa-star mr4 on\"></i><span class=\"text on score-label score-8\">8.64</span></div>\n",
       " </td>\n",
       " <td class=\"your-score ac fs14\">\n",
       " <div class=\"js-top-ranking-your-score-col di-ib al\"> <a class=\"\" href=\"https://myanimelist.net/login.php?error=login_required&amp;from=%2Ftopanime.php%3Flimit%3D50\"><i class=\"icon-score-star fa-solid fa-star mr4\"></i><span class=\"text score-label score-na\">N/A</span></a>\n",
       " </div>\n",
       " </td>\n",
       " <td class=\"status ac\"> <a class=\"btn-addEdit-large btn-anime-watch-status js-anime-watch-status notinmylist\" href=\"https://myanimelist.net/login.php?error=login_required&amp;from=%2Ftopanime.php%3Flimit%3D50\"><i class=\"fa-solid fa-square-plus-o mr4\"></i>Add to list</a>\n",
       " </td>\n",
       " </tr>,\n",
       " <tr class=\"ranking-list\">\n",
       " <td class=\"rank ac\" valign=\"top\">\n",
       " <span class=\"lightLink top-anime-rank-text rank2\">71</span>\n",
       " </td>\n",
       " <td class=\"title al va-t word-break\">\n",
       " <a class=\"hoverinfo_trigger fl-l ml12 mr8\" href=\"https://myanimelist.net/anime/28891/Haikyuu_Second_Season\" id=\"#area28891\" rel=\"#info28891\">\n",
       " <img alt=\"Anime: Haikyuu!! Second Season\" border=\"0\" class=\"lazyload\" data-src=\"https://cdn.myanimelist.net/r/50x70/images/anime/9/76662.jpg?s=06ccfffc7b27ac5532d268b9934a224a\" data-srcset=\"https://cdn.myanimelist.net/r/50x70/images/anime/9/76662.jpg?s=06ccfffc7b27ac5532d268b9934a224a 1x, https://cdn.myanimelist.net/r/100x140/images/anime/9/76662.jpg?s=2ddc449aaa90570dc965ba6d9d348ebc 2x\" height=\"70\" width=\"50\"/>\n",
       " </a>\n",
       " <div class=\"detail\"><div id=\"area28891\">\n",
       " <div class=\"hoverinfo\" id=\"info28891\" rel=\"a28891\"></div>\n",
       " </div>\n",
       " <div class=\"di-ib clearfix\"><h3 class=\"hoverinfo_trigger fl-l fs14 fw-b anime_ranking_h3\"><a href=\"https://myanimelist.net/anime/28891/Haikyuu_Second_Season\" id=\"#area28891\" rel=\"#info28891\">Haikyuu!! Second Season</a></h3><div class=\"icon-watch2\"><a class=\"mal-icon ml8 ga-click\" href=\"https://myanimelist.net/anime/28891/Haikyuu_Second_Season/video\" title=\"Watch Episode Video\"><i class=\"malicon malicon-movie-episode\"></i></a></div></div><br/><div class=\"information di-ib mt4\">\n",
       "         TV (25 eps)<br/>\n",
       "         Oct 2015 - Mar 2016<br/>\n",
       "         1,365,322 members\n",
       "       </div></div>\n",
       " </td>\n",
       " <td class=\"score ac fs14\"><div class=\"js-top-ranking-score-col di-ib al\"><i class=\"icon-score-star fa-solid fa-star mr4 on\"></i><span class=\"text on score-label score-8\">8.63</span></div>\n",
       " </td>\n",
       " <td class=\"your-score ac fs14\">\n",
       " <div class=\"js-top-ranking-your-score-col di-ib al\"> <a class=\"\" href=\"https://myanimelist.net/login.php?error=login_required&amp;from=%2Ftopanime.php%3Flimit%3D50\"><i class=\"icon-score-star fa-solid fa-star mr4\"></i><span class=\"text score-label score-na\">N/A</span></a>\n",
       " </div>\n",
       " </td>\n",
       " <td class=\"status ac\"> <a class=\"btn-addEdit-large btn-anime-watch-status js-anime-watch-status notinmylist\" href=\"https://myanimelist.net/login.php?error=login_required&amp;from=%2Ftopanime.php%3Flimit%3D50\"><i class=\"fa-solid fa-square-plus-o mr4\"></i>Add to list</a>\n",
       " </td>\n",
       " </tr>,\n",
       " <tr class=\"ranking-list\">\n",
       " <td class=\"rank ac\" valign=\"top\">\n",
       " <span class=\"lightLink top-anime-rank-text rank2\">72</span>\n",
       " </td>\n",
       " <td class=\"title al va-t word-break\">\n",
       " <a class=\"hoverinfo_trigger fl-l ml12 mr8\" href=\"https://myanimelist.net/anime/53273/JoJo_no_Kimyou_na_Bouken_Part_6__Stone_Ocean_Part_3\" id=\"#area53273\" rel=\"#info53273\">\n",
       " <img alt=\"Anime: JoJo no Kimyou na Bouken Part 6: Stone Ocean Part 3\" border=\"0\" class=\"lazyload\" data-src=\"https://cdn.myanimelist.net/r/50x70/images/anime/1233/128920.jpg?s=1edd57926f956b98645fb547a428c5af\" data-srcset=\"https://cdn.myanimelist.net/r/50x70/images/anime/1233/128920.jpg?s=1edd57926f956b98645fb547a428c5af 1x, https://cdn.myanimelist.net/r/100x140/images/anime/1233/128920.jpg?s=3f550386cd09d405d1e2e1cb0da59fb0 2x\" height=\"70\" width=\"50\"/>\n",
       " </a>\n",
       " <div class=\"detail\"><div id=\"area53273\">\n",
       " <div class=\"hoverinfo\" id=\"info53273\" rel=\"a53273\"></div>\n",
       " </div>\n",
       " <div class=\"di-ib clearfix\"><h3 class=\"hoverinfo_trigger fl-l fs14 fw-b anime_ranking_h3\"><a href=\"https://myanimelist.net/anime/53273/JoJo_no_Kimyou_na_Bouken_Part_6__Stone_Ocean_Part_3\" id=\"#area53273\" rel=\"#info53273\">JoJo no Kimyou na Bouken Part 6: Stone Ocean Part 3</a></h3><div class=\"icon-watch-pv2\"><a class=\"mal-icon ml8 ga-click\" href=\"https://myanimelist.net/anime/53273/JoJo_no_Kimyou_na_Bouken_Part_6__Stone_Ocean_Part_3/video\" title=\"Watch Promotional Video\"><i class=\"malicon malicon-movie-pv\"></i></a></div></div><br/><div class=\"information di-ib mt4\">\n",
       "         ONA (14 eps)<br/>\n",
       "         Dec 2022 - Dec 2022<br/>\n",
       "         153,610 members\n",
       "       </div></div>\n",
       " </td>\n",
       " <td class=\"score ac fs14\"><div class=\"js-top-ranking-score-col di-ib al\"><i class=\"icon-score-star fa-solid fa-star mr4 on\"></i><span class=\"text on score-label score-8\">8.63</span></div>\n",
       " </td>\n",
       " <td class=\"your-score ac fs14\">\n",
       " <div class=\"js-top-ranking-your-score-col di-ib al\"> <a class=\"\" href=\"https://myanimelist.net/login.php?error=login_required&amp;from=%2Ftopanime.php%3Flimit%3D50\"><i class=\"icon-score-star fa-solid fa-star mr4\"></i><span class=\"text score-label score-na\">N/A</span></a>\n",
       " </div>\n",
       " </td>\n",
       " <td class=\"status ac\"> <a class=\"btn-addEdit-large btn-anime-watch-status js-anime-watch-status notinmylist\" href=\"https://myanimelist.net/login.php?error=login_required&amp;from=%2Ftopanime.php%3Flimit%3D50\"><i class=\"fa-solid fa-square-plus-o mr4\"></i>Add to list</a>\n",
       " </td>\n",
       " </tr>,\n",
       " <tr class=\"ranking-list\">\n",
       " <td class=\"rank ac\" valign=\"top\">\n",
       " <span class=\"lightLink top-anime-rank-text rank2\">73</span>\n",
       " </td>\n",
       " <td class=\"title al va-t word-break\">\n",
       " <a class=\"hoverinfo_trigger fl-l ml12 mr8\" href=\"https://myanimelist.net/anime/2001/Tengen_Toppa_Gurren_Lagann\" id=\"#area2001\" rel=\"#info2001\">\n",
       " <img alt=\"Anime: Tengen Toppa Gurren Lagann\" border=\"0\" class=\"lazyload\" data-src=\"https://cdn.myanimelist.net/r/50x70/images/anime/4/5123.jpg?s=15bb64e0c8b13acfa5d0761308b66f59\" data-srcset=\"https://cdn.myanimelist.net/r/50x70/images/anime/4/5123.jpg?s=15bb64e0c8b13acfa5d0761308b66f59 1x, https://cdn.myanimelist.net/r/100x140/images/anime/4/5123.jpg?s=f9c94dd8af74f4a64e1b814391632263 2x\" height=\"70\" width=\"50\"/>\n",
       " </a>\n",
       " <div class=\"detail\"><div id=\"area2001\">\n",
       " <div class=\"hoverinfo\" id=\"info2001\" rel=\"a2001\"></div>\n",
       " </div>\n",
       " <div class=\"di-ib clearfix\"><h3 class=\"hoverinfo_trigger fl-l fs14 fw-b anime_ranking_h3\"><a href=\"https://myanimelist.net/anime/2001/Tengen_Toppa_Gurren_Lagann\" id=\"#area2001\" rel=\"#info2001\">Tengen Toppa Gurren Lagann</a></h3><div class=\"icon-watch2\"><a class=\"mal-icon ml8 ga-click\" href=\"https://myanimelist.net/anime/2001/Tengen_Toppa_Gurren_Lagann/video\" title=\"Watch Episode Video\"><i class=\"malicon malicon-movie-episode\"></i></a></div></div><br/><div class=\"information di-ib mt4\">\n",
       "         TV (27 eps)<br/>\n",
       "         Apr 2007 - Sep 2007<br/>\n",
       "         1,552,062 members\n",
       "       </div></div>\n",
       " </td>\n",
       " <td class=\"score ac fs14\"><div class=\"js-top-ranking-score-col di-ib al\"><i class=\"icon-score-star fa-solid fa-star mr4 on\"></i><span class=\"text on score-label score-8\">8.63</span></div>\n",
       " </td>\n",
       " <td class=\"your-score ac fs14\">\n",
       " <div class=\"js-top-ranking-your-score-col di-ib al\"> <a class=\"\" href=\"https://myanimelist.net/login.php?error=login_required&amp;from=%2Ftopanime.php%3Flimit%3D50\"><i class=\"icon-score-star fa-solid fa-star mr4\"></i><span class=\"text score-label score-na\">N/A</span></a>\n",
       " </div>\n",
       " </td>\n",
       " <td class=\"status ac\"> <a class=\"btn-addEdit-large btn-anime-watch-status js-anime-watch-status notinmylist\" href=\"https://myanimelist.net/login.php?error=login_required&amp;from=%2Ftopanime.php%3Flimit%3D50\"><i class=\"fa-solid fa-square-plus-o mr4\"></i>Add to list</a>\n",
       " </td>\n",
       " </tr>,\n",
       " <tr class=\"ranking-list\">\n",
       " <td class=\"rank ac\" valign=\"top\">\n",
       " <span class=\"lightLink top-anime-rank-text rank2\">74</span>\n",
       " </td>\n",
       " <td class=\"title al va-t word-break\">\n",
       " <a class=\"hoverinfo_trigger fl-l ml12 mr8\" href=\"https://myanimelist.net/anime/36862/Made_in_Abyss_Movie_3__Fukaki_Tamashii_no_Reimei\" id=\"#area36862\" rel=\"#info36862\">\n",
       " <img alt=\"Anime: Made in Abyss Movie 3: Fukaki Tamashii no Reimei\" border=\"0\" class=\"lazyload\" data-src=\"https://cdn.myanimelist.net/r/50x70/images/anime/1502/110723.jpg?s=371a6b383817649bb1d3468f03522f66\" data-srcset=\"https://cdn.myanimelist.net/r/50x70/images/anime/1502/110723.jpg?s=371a6b383817649bb1d3468f03522f66 1x, https://cdn.myanimelist.net/r/100x140/images/anime/1502/110723.jpg?s=e772b96e543983ab2b0da44ce2b17650 2x\" height=\"70\" width=\"50\"/>\n",
       " </a>\n",
       " <div class=\"detail\"><div id=\"area36862\">\n",
       " <div class=\"hoverinfo\" id=\"info36862\" rel=\"a36862\"></div>\n",
       " </div>\n",
       " <div class=\"di-ib clearfix\"><h3 class=\"hoverinfo_trigger fl-l fs14 fw-b anime_ranking_h3\"><a href=\"https://myanimelist.net/anime/36862/Made_in_Abyss_Movie_3__Fukaki_Tamashii_no_Reimei\" id=\"#area36862\" rel=\"#info36862\">Made in Abyss Movie 3: Fukaki Tamashii no Reimei</a></h3><div class=\"icon-watch-pv2\"><a class=\"mal-icon ml8 ga-click\" href=\"https://myanimelist.net/anime/36862/Made_in_Abyss_Movie_3__Fukaki_Tamashii_no_Reimei/video\" title=\"Watch Promotional Video\"><i class=\"malicon malicon-movie-pv\"></i></a></div></div><br/><div class=\"information di-ib mt4\">\n",
       "         Movie (1 eps)<br/>\n",
       "         Jan 2020 - Jan 2020<br/>\n",
       "         425,915 members\n",
       "       </div></div>\n",
       " </td>\n",
       " <td class=\"score ac fs14\"><div class=\"js-top-ranking-score-col di-ib al\"><i class=\"icon-score-star fa-solid fa-star mr4 on\"></i><span class=\"text on score-label score-8\">8.63</span></div>\n",
       " </td>\n",
       " <td class=\"your-score ac fs14\">\n",
       " <div class=\"js-top-ranking-your-score-col di-ib al\"> <a class=\"\" href=\"https://myanimelist.net/login.php?error=login_required&amp;from=%2Ftopanime.php%3Flimit%3D50\"><i class=\"icon-score-star fa-solid fa-star mr4\"></i><span class=\"text score-label score-na\">N/A</span></a>\n",
       " </div>\n",
       " </td>\n",
       " <td class=\"status ac\"> <a class=\"btn-addEdit-large btn-anime-watch-status js-anime-watch-status notinmylist\" href=\"https://myanimelist.net/login.php?error=login_required&amp;from=%2Ftopanime.php%3Flimit%3D50\"><i class=\"fa-solid fa-square-plus-o mr4\"></i>Add to list</a>\n",
       " </td>\n",
       " </tr>,\n",
       " <tr class=\"ranking-list\">\n",
       " <td class=\"rank ac\" valign=\"top\">\n",
       " <span class=\"lightLink top-anime-rank-text rank2\">75</span>\n",
       " </td>\n",
       " <td class=\"title al va-t word-break\">\n",
       " <a class=\"hoverinfo_trigger fl-l ml12 mr8\" href=\"https://myanimelist.net/anime/40456/Kimetsu_no_Yaiba_Movie__Mugen_Ressha-hen\" id=\"#area40456\" rel=\"#info40456\">\n",
       " <img alt=\"Anime: Kimetsu no Yaiba Movie: Mugen Ressha-hen\" border=\"0\" class=\"lazyload\" data-src=\"https://cdn.myanimelist.net/r/50x70/images/anime/1704/106947.jpg?s=685b7fa652f5b3df29bd20fc2c8cb32e\" data-srcset=\"https://cdn.myanimelist.net/r/50x70/images/anime/1704/106947.jpg?s=685b7fa652f5b3df29bd20fc2c8cb32e 1x, https://cdn.myanimelist.net/r/100x140/images/anime/1704/106947.jpg?s=4aa86a2d3328e85a384df4248126cfdb 2x\" height=\"70\" width=\"50\"/>\n",
       " </a>\n",
       " <div class=\"detail\"><div id=\"area40456\">\n",
       " <div class=\"hoverinfo\" id=\"info40456\" rel=\"a40456\"></div>\n",
       " </div>\n",
       " <div class=\"di-ib clearfix\"><h3 class=\"hoverinfo_trigger fl-l fs14 fw-b anime_ranking_h3\"><a href=\"https://myanimelist.net/anime/40456/Kimetsu_no_Yaiba_Movie__Mugen_Ressha-hen\" id=\"#area40456\" rel=\"#info40456\">Kimetsu no Yaiba Movie: Mugen Ressha-hen</a></h3><div class=\"icon-watch2\"><a class=\"mal-icon ml8 ga-click\" href=\"https://myanimelist.net/anime/40456/Kimetsu_no_Yaiba_Movie__Mugen_Ressha-hen/video\" title=\"Watch Episode Video\"><i class=\"malicon malicon-movie-episode\"></i></a></div></div><br/><div class=\"information di-ib mt4\">\n",
       "         Movie (1 eps)<br/>\n",
       "         Oct 2020 - Oct 2020<br/>\n",
       "         1,413,139 members\n",
       "       </div></div>\n",
       " </td>\n",
       " <td class=\"score ac fs14\"><div class=\"js-top-ranking-score-col di-ib al\"><i class=\"icon-score-star fa-solid fa-star mr4 on\"></i><span class=\"text on score-label score-8\">8.62</span></div>\n",
       " </td>\n",
       " <td class=\"your-score ac fs14\">\n",
       " <div class=\"js-top-ranking-your-score-col di-ib al\"> <a class=\"\" href=\"https://myanimelist.net/login.php?error=login_required&amp;from=%2Ftopanime.php%3Flimit%3D50\"><i class=\"icon-score-star fa-solid fa-star mr4\"></i><span class=\"text score-label score-na\">N/A</span></a>\n",
       " </div>\n",
       " </td>\n",
       " <td class=\"status ac\"> <a class=\"btn-addEdit-large btn-anime-watch-status js-anime-watch-status notinmylist\" href=\"https://myanimelist.net/login.php?error=login_required&amp;from=%2Ftopanime.php%3Flimit%3D50\"><i class=\"fa-solid fa-square-plus-o mr4\"></i>Add to list</a>\n",
       " </td>\n",
       " </tr>,\n",
       " <tr class=\"ranking-list\">\n",
       " <td class=\"rank ac\" valign=\"top\">\n",
       " <span class=\"lightLink top-anime-rank-text rank2\">76</span>\n",
       " </td>\n",
       " <td class=\"title al va-t word-break\">\n",
       " <a class=\"hoverinfo_trigger fl-l ml12 mr8\" href=\"https://myanimelist.net/anime/34591/Natsume_Yuujinchou_Roku\" id=\"#area34591\" rel=\"#info34591\">\n",
       " <img alt=\"Anime: Natsume Yuujinchou Roku\" border=\"0\" class=\"lazyload\" data-src=\"https://cdn.myanimelist.net/r/50x70/images/anime/6/84416.jpg?s=931f8a6bfc42adf9257eeb7641bad75e\" data-srcset=\"https://cdn.myanimelist.net/r/50x70/images/anime/6/84416.jpg?s=931f8a6bfc42adf9257eeb7641bad75e 1x, https://cdn.myanimelist.net/r/100x140/images/anime/6/84416.jpg?s=a98aa65fd3b3ee0e3dca65b46ea34fb4 2x\" height=\"70\" width=\"50\"/>\n",
       " </a>\n",
       " <div class=\"detail\"><div id=\"area34591\">\n",
       " <div class=\"hoverinfo\" id=\"info34591\" rel=\"a34591\"></div>\n",
       " </div>\n",
       " <div class=\"di-ib clearfix\"><h3 class=\"hoverinfo_trigger fl-l fs14 fw-b anime_ranking_h3\"><a href=\"https://myanimelist.net/anime/34591/Natsume_Yuujinchou_Roku\" id=\"#area34591\" rel=\"#info34591\">Natsume Yuujinchou Roku</a></h3><div class=\"icon-watch2\"><a class=\"mal-icon ml8 ga-click\" href=\"https://myanimelist.net/anime/34591/Natsume_Yuujinchou_Roku/video\" title=\"Watch Episode Video\"><i class=\"malicon malicon-movie-episode\"></i></a></div></div><br/><div class=\"information di-ib mt4\">\n",
       "         TV (11 eps)<br/>\n",
       "         Apr 2017 - Jun 2017<br/>\n",
       "         178,434 members\n",
       "       </div></div>\n",
       " </td>\n",
       " <td class=\"score ac fs14\"><div class=\"js-top-ranking-score-col di-ib al\"><i class=\"icon-score-star fa-solid fa-star mr4 on\"></i><span class=\"text on score-label score-8\">8.62</span></div>\n",
       " </td>\n",
       " <td class=\"your-score ac fs14\">\n",
       " <div class=\"js-top-ranking-your-score-col di-ib al\"> <a class=\"\" href=\"https://myanimelist.net/login.php?error=login_required&amp;from=%2Ftopanime.php%3Flimit%3D50\"><i class=\"icon-score-star fa-solid fa-star mr4\"></i><span class=\"text score-label score-na\">N/A</span></a>\n",
       " </div>\n",
       " </td>\n",
       " <td class=\"status ac\"> <a class=\"btn-addEdit-large btn-anime-watch-status js-anime-watch-status notinmylist\" href=\"https://myanimelist.net/login.php?error=login_required&amp;from=%2Ftopanime.php%3Flimit%3D50\"><i class=\"fa-solid fa-square-plus-o mr4\"></i>Add to list</a>\n",
       " </td>\n",
       " </tr>,\n",
       " <tr class=\"ranking-list\">\n",
       " <td class=\"rank ac\" valign=\"top\">\n",
       " <span class=\"lightLink top-anime-rank-text rank2\">77</span>\n",
       " </td>\n",
       " <td class=\"title al va-t word-break\">\n",
       " <a class=\"hoverinfo_trigger fl-l ml12 mr8\" href=\"https://myanimelist.net/anime/22135/Ping_Pong_the_Animation\" id=\"#area22135\" rel=\"#info22135\">\n",
       " <img alt=\"Anime: Ping Pong the Animation\" border=\"0\" class=\"lazyload\" data-src=\"https://cdn.myanimelist.net/r/50x70/images/anime/10/58041.jpg?s=fbfd98389b5a6f1a27979446e3f07abe\" data-srcset=\"https://cdn.myanimelist.net/r/50x70/images/anime/10/58041.jpg?s=fbfd98389b5a6f1a27979446e3f07abe 1x, https://cdn.myanimelist.net/r/100x140/images/anime/10/58041.jpg?s=1baf7a3027bd98e6ca6c1dd9dcacea01 2x\" height=\"70\" width=\"50\"/>\n",
       " </a>\n",
       " <div class=\"detail\"><div id=\"area22135\">\n",
       " <div class=\"hoverinfo\" id=\"info22135\" rel=\"a22135\"></div>\n",
       " </div>\n",
       " <div class=\"di-ib clearfix\"><h3 class=\"hoverinfo_trigger fl-l fs14 fw-b anime_ranking_h3\"><a href=\"https://myanimelist.net/anime/22135/Ping_Pong_the_Animation\" id=\"#area22135\" rel=\"#info22135\">Ping Pong the Animation</a></h3><div class=\"icon-watch2\"><a class=\"mal-icon ml8 ga-click\" href=\"https://myanimelist.net/anime/22135/Ping_Pong_the_Animation/video\" title=\"Watch Episode Video\"><i class=\"malicon malicon-movie-episode\"></i></a></div></div><br/><div class=\"information di-ib mt4\">\n",
       "         TV (11 eps)<br/>\n",
       "         Apr 2014 - Jun 2014<br/>\n",
       "         376,016 members\n",
       "       </div></div>\n",
       " </td>\n",
       " <td class=\"score ac fs14\"><div class=\"js-top-ranking-score-col di-ib al\"><i class=\"icon-score-star fa-solid fa-star mr4 on\"></i><span class=\"text on score-label score-8\">8.62</span></div>\n",
       " </td>\n",
       " <td class=\"your-score ac fs14\">\n",
       " <div class=\"js-top-ranking-your-score-col di-ib al\"> <a class=\"\" href=\"https://myanimelist.net/login.php?error=login_required&amp;from=%2Ftopanime.php%3Flimit%3D50\"><i class=\"icon-score-star fa-solid fa-star mr4\"></i><span class=\"text score-label score-na\">N/A</span></a>\n",
       " </div>\n",
       " </td>\n",
       " <td class=\"status ac\"> <a class=\"btn-addEdit-large btn-anime-watch-status js-anime-watch-status notinmylist\" href=\"https://myanimelist.net/login.php?error=login_required&amp;from=%2Ftopanime.php%3Flimit%3D50\"><i class=\"fa-solid fa-square-plus-o mr4\"></i>Add to list</a>\n",
       " </td>\n",
       " </tr>,\n",
       " <tr class=\"ranking-list\">\n",
       " <td class=\"rank ac\" valign=\"top\">\n",
       " <span class=\"lightLink top-anime-rank-text rank2\">78</span>\n",
       " </td>\n",
       " <td class=\"title al va-t word-break\">\n",
       " <a class=\"hoverinfo_trigger fl-l ml12 mr8\" href=\"https://myanimelist.net/anime/35760/Shingeki_no_Kyojin_Season_3\" id=\"#area35760\" rel=\"#info35760\">\n",
       " <img alt=\"Anime: Shingeki no Kyojin Season 3\" border=\"0\" class=\"lazyload\" data-src=\"https://cdn.myanimelist.net/r/50x70/images/anime/1173/92110.jpg?s=410d006fea0608544e9861a6f261c692\" data-srcset=\"https://cdn.myanimelist.net/r/50x70/images/anime/1173/92110.jpg?s=410d006fea0608544e9861a6f261c692 1x, https://cdn.myanimelist.net/r/100x140/images/anime/1173/92110.jpg?s=1b2dd0a9167d5b66356b4b52ec11753c 2x\" height=\"70\" width=\"50\"/>\n",
       " </a>\n",
       " <div class=\"detail\"><div id=\"area35760\">\n",
       " <div class=\"hoverinfo\" id=\"info35760\" rel=\"a35760\"></div>\n",
       " </div>\n",
       " <div class=\"di-ib clearfix\"><h3 class=\"hoverinfo_trigger fl-l fs14 fw-b anime_ranking_h3\"><a href=\"https://myanimelist.net/anime/35760/Shingeki_no_Kyojin_Season_3\" id=\"#area35760\" rel=\"#info35760\">Shingeki no Kyojin Season 3</a></h3><div class=\"icon-watch2\"><a class=\"mal-icon ml8 ga-click\" href=\"https://myanimelist.net/anime/35760/Shingeki_no_Kyojin_Season_3/video\" title=\"Watch Episode Video\"><i class=\"malicon malicon-movie-episode\"></i></a></div></div><br/><div class=\"information di-ib mt4\">\n",
       "         TV (12 eps)<br/>\n",
       "         Jul 2018 - Oct 2018<br/>\n",
       "         2,222,627 members\n",
       "       </div></div>\n",
       " </td>\n",
       " <td class=\"score ac fs14\"><div class=\"js-top-ranking-score-col di-ib al\"><i class=\"icon-score-star fa-solid fa-star mr4 on\"></i><span class=\"text on score-label score-8\">8.62</span></div>\n",
       " </td>\n",
       " <td class=\"your-score ac fs14\">\n",
       " <div class=\"js-top-ranking-your-score-col di-ib al\"> <a class=\"\" href=\"https://myanimelist.net/login.php?error=login_required&amp;from=%2Ftopanime.php%3Flimit%3D50\"><i class=\"icon-score-star fa-solid fa-star mr4\"></i><span class=\"text score-label score-na\">N/A</span></a>\n",
       " </div>\n",
       " </td>\n",
       " <td class=\"status ac\"> <a class=\"btn-addEdit-large btn-anime-watch-status js-anime-watch-status notinmylist\" href=\"https://myanimelist.net/login.php?error=login_required&amp;from=%2Ftopanime.php%3Flimit%3D50\"><i class=\"fa-solid fa-square-plus-o mr4\"></i>Add to list</a>\n",
       " </td>\n",
       " </tr>,\n",
       " <tr class=\"ranking-list\">\n",
       " <td class=\"rank ac\" valign=\"top\">\n",
       " <span class=\"lightLink top-anime-rank-text rank2\">79</span>\n",
       " </td>\n",
       " <td class=\"title al va-t word-break\">\n",
       " <a class=\"hoverinfo_trigger fl-l ml12 mr8\" href=\"https://myanimelist.net/anime/1535/Death_Note\" id=\"#area1535\" rel=\"#info1535\">\n",
       " <img alt=\"Anime: Death Note\" border=\"0\" class=\"lazyload\" data-src=\"https://cdn.myanimelist.net/r/50x70/images/anime/9/9453.jpg?s=b89e80691ac5cc0610847ccbe0b8424a\" data-srcset=\"https://cdn.myanimelist.net/r/50x70/images/anime/9/9453.jpg?s=b89e80691ac5cc0610847ccbe0b8424a 1x, https://cdn.myanimelist.net/r/100x140/images/anime/9/9453.jpg?s=c90aa06a7aeeb91285aab92508edd2a1 2x\" height=\"70\" width=\"50\"/>\n",
       " </a>\n",
       " <div class=\"detail\"><div id=\"area1535\">\n",
       " <div class=\"hoverinfo\" id=\"info1535\" rel=\"a1535\"></div>\n",
       " </div>\n",
       " <div class=\"di-ib clearfix\"><h3 class=\"hoverinfo_trigger fl-l fs14 fw-b anime_ranking_h3\"><a href=\"https://myanimelist.net/anime/1535/Death_Note\" id=\"#area1535\" rel=\"#info1535\">Death Note</a></h3><div class=\"icon-watch2\"><a class=\"mal-icon ml8 ga-click\" href=\"https://myanimelist.net/anime/1535/Death_Note/video\" title=\"Watch Episode Video\"><i class=\"malicon malicon-movie-episode\"></i></a></div></div><br/><div class=\"information di-ib mt4\">\n",
       "         TV (37 eps)<br/>\n",
       "         Oct 2006 - Jun 2007<br/>\n",
       "         3,726,410 members\n",
       "       </div></div>\n",
       " </td>\n",
       " <td class=\"score ac fs14\"><div class=\"js-top-ranking-score-col di-ib al\"><i class=\"icon-score-star fa-solid fa-star mr4 on\"></i><span class=\"text on score-label score-8\">8.62</span></div>\n",
       " </td>\n",
       " <td class=\"your-score ac fs14\">\n",
       " <div class=\"js-top-ranking-your-score-col di-ib al\"> <a class=\"\" href=\"https://myanimelist.net/login.php?error=login_required&amp;from=%2Ftopanime.php%3Flimit%3D50\"><i class=\"icon-score-star fa-solid fa-star mr4\"></i><span class=\"text score-label score-na\">N/A</span></a>\n",
       " </div>\n",
       " </td>\n",
       " <td class=\"status ac\"> <a class=\"btn-addEdit-large btn-anime-watch-status js-anime-watch-status notinmylist\" href=\"https://myanimelist.net/login.php?error=login_required&amp;from=%2Ftopanime.php%3Flimit%3D50\"><i class=\"fa-solid fa-square-plus-o mr4\"></i>Add to list</a>\n",
       " </td>\n",
       " </tr>,\n",
       " <tr class=\"ranking-list\">\n",
       " <td class=\"rank ac\" valign=\"top\">\n",
       " <span class=\"lightLink top-anime-rank-text rank2\">80</span>\n",
       " </td>\n",
       " <td class=\"title al va-t word-break\">\n",
       " <a class=\"hoverinfo_trigger fl-l ml12 mr8\" href=\"https://myanimelist.net/anime/42310/Cyberpunk__Edgerunners\" id=\"#area42310\" rel=\"#info42310\">\n",
       " <img alt=\"Anime: Cyberpunk: Edgerunners\" border=\"0\" class=\"lazyload\" data-src=\"https://cdn.myanimelist.net/r/50x70/images/anime/1818/126435.jpg?s=7b294f04000f9e4b59fdae558b4b4936\" data-srcset=\"https://cdn.myanimelist.net/r/50x70/images/anime/1818/126435.jpg?s=7b294f04000f9e4b59fdae558b4b4936 1x, https://cdn.myanimelist.net/r/100x140/images/anime/1818/126435.jpg?s=16fa94bf2d63246183052392542fe1af 2x\" height=\"70\" width=\"50\"/>\n",
       " </a>\n",
       " <div class=\"detail\"><div id=\"area42310\">\n",
       " <div class=\"hoverinfo\" id=\"info42310\" rel=\"a42310\"></div>\n",
       " </div>\n",
       " <div class=\"di-ib clearfix\"><h3 class=\"hoverinfo_trigger fl-l fs14 fw-b anime_ranking_h3\"><a href=\"https://myanimelist.net/anime/42310/Cyberpunk__Edgerunners\" id=\"#area42310\" rel=\"#info42310\">Cyberpunk: Edgerunners</a></h3><div class=\"icon-watch-pv2\"><a class=\"mal-icon ml8 ga-click\" href=\"https://myanimelist.net/anime/42310/Cyberpunk__Edgerunners/video\" title=\"Watch Promotional Video\"><i class=\"malicon malicon-movie-pv\"></i></a></div></div><br/><div class=\"information di-ib mt4\">\n",
       "         ONA (10 eps)<br/>\n",
       "         Sep 2022 - Sep 2022<br/>\n",
       "         593,422 members\n",
       "       </div></div>\n",
       " </td>\n",
       " <td class=\"score ac fs14\"><div class=\"js-top-ranking-score-col di-ib al\"><i class=\"icon-score-star fa-solid fa-star mr4 on\"></i><span class=\"text on score-label score-8\">8.61</span></div>\n",
       " </td>\n",
       " <td class=\"your-score ac fs14\">\n",
       " <div class=\"js-top-ranking-your-score-col di-ib al\"> <a class=\"\" href=\"https://myanimelist.net/login.php?error=login_required&amp;from=%2Ftopanime.php%3Flimit%3D50\"><i class=\"icon-score-star fa-solid fa-star mr4\"></i><span class=\"text score-label score-na\">N/A</span></a>\n",
       " </div>\n",
       " </td>\n",
       " <td class=\"status ac\"> <a class=\"btn-addEdit-large btn-anime-watch-status js-anime-watch-status notinmylist\" href=\"https://myanimelist.net/login.php?error=login_required&amp;from=%2Ftopanime.php%3Flimit%3D50\"><i class=\"fa-solid fa-square-plus-o mr4\"></i>Add to list</a>\n",
       " </td>\n",
       " </tr>,\n",
       " <tr class=\"ranking-list\">\n",
       " <td class=\"rank ac\" valign=\"top\">\n",
       " <span class=\"lightLink top-anime-rank-text rank2\">81</span>\n",
       " </td>\n",
       " <td class=\"title al va-t word-break\">\n",
       " <a class=\"hoverinfo_trigger fl-l ml12 mr8\" href=\"https://myanimelist.net/anime/50265/Spy_x_Family\" id=\"#area50265\" rel=\"#info50265\">\n",
       " <img alt=\"Anime: Spy x Family\" border=\"0\" class=\"lazyload\" data-src=\"https://cdn.myanimelist.net/r/50x70/images/anime/1441/122795.jpg?s=ba5838dcfffe4a5cd4988e09d8436c79\" data-srcset=\"https://cdn.myanimelist.net/r/50x70/images/anime/1441/122795.jpg?s=ba5838dcfffe4a5cd4988e09d8436c79 1x, https://cdn.myanimelist.net/r/100x140/images/anime/1441/122795.jpg?s=b78143ebdb28c0046f752655a225774d 2x\" height=\"70\" width=\"50\"/>\n",
       " </a>\n",
       " <div class=\"detail\"><div id=\"area50265\">\n",
       " <div class=\"hoverinfo\" id=\"info50265\" rel=\"a50265\"></div>\n",
       " </div>\n",
       " <div class=\"di-ib clearfix\"><h3 class=\"hoverinfo_trigger fl-l fs14 fw-b anime_ranking_h3\"><a href=\"https://myanimelist.net/anime/50265/Spy_x_Family\" id=\"#area50265\" rel=\"#info50265\">Spy x Family</a></h3><div class=\"icon-watch2\"><a class=\"mal-icon ml8 ga-click\" href=\"https://myanimelist.net/anime/50265/Spy_x_Family/video\" title=\"Watch Episode Video\"><i class=\"malicon malicon-movie-episode\"></i></a></div></div><br/><div class=\"information di-ib mt4\">\n",
       "         TV (12 eps)<br/>\n",
       "         Apr 2022 - Jun 2022<br/>\n",
       "         1,363,479 members\n",
       "       </div></div>\n",
       " </td>\n",
       " <td class=\"score ac fs14\"><div class=\"js-top-ranking-score-col di-ib al\"><i class=\"icon-score-star fa-solid fa-star mr4 on\"></i><span class=\"text on score-label score-8\">8.61</span></div>\n",
       " </td>\n",
       " <td class=\"your-score ac fs14\">\n",
       " <div class=\"js-top-ranking-your-score-col di-ib al\"> <a class=\"\" href=\"https://myanimelist.net/login.php?error=login_required&amp;from=%2Ftopanime.php%3Flimit%3D50\"><i class=\"icon-score-star fa-solid fa-star mr4\"></i><span class=\"text score-label score-na\">N/A</span></a>\n",
       " </div>\n",
       " </td>\n",
       " <td class=\"status ac\"> <a class=\"btn-addEdit-large btn-anime-watch-status js-anime-watch-status notinmylist\" href=\"https://myanimelist.net/login.php?error=login_required&amp;from=%2Ftopanime.php%3Flimit%3D50\"><i class=\"fa-solid fa-square-plus-o mr4\"></i>Add to list</a>\n",
       " </td>\n",
       " </tr>,\n",
       " <tr class=\"ranking-list\">\n",
       " <td class=\"rank ac\" valign=\"top\">\n",
       " <span class=\"lightLink top-anime-rank-text rank2\">82</span>\n",
       " </td>\n",
       " <td class=\"title al va-t word-break\">\n",
       " <a class=\"hoverinfo_trigger fl-l ml12 mr8\" href=\"https://myanimelist.net/anime/7311/Suzumiya_Haruhi_no_Shoushitsu\" id=\"#area7311\" rel=\"#info7311\">\n",
       " <img alt=\"Anime: Suzumiya Haruhi no Shoushitsu\" border=\"0\" class=\"lazyload\" data-src=\"https://cdn.myanimelist.net/r/50x70/images/anime/1248/112352.jpg?s=e62fda44bb62e1b938570096c39f9d05\" data-srcset=\"https://cdn.myanimelist.net/r/50x70/images/anime/1248/112352.jpg?s=e62fda44bb62e1b938570096c39f9d05 1x, https://cdn.myanimelist.net/r/100x140/images/anime/1248/112352.jpg?s=581f15a13716a9083f1f9a7557e44a72 2x\" height=\"70\" width=\"50\"/>\n",
       " </a>\n",
       " <div class=\"detail\"><div id=\"area7311\">\n",
       " <div class=\"hoverinfo\" id=\"info7311\" rel=\"a7311\"></div>\n",
       " </div>\n",
       " <div class=\"di-ib clearfix\"><h3 class=\"hoverinfo_trigger fl-l fs14 fw-b anime_ranking_h3\"><a href=\"https://myanimelist.net/anime/7311/Suzumiya_Haruhi_no_Shoushitsu\" id=\"#area7311\" rel=\"#info7311\">Suzumiya Haruhi no Shoushitsu</a></h3><div class=\"icon-watch-pv2\"><a class=\"mal-icon ml8 ga-click\" href=\"https://myanimelist.net/anime/7311/Suzumiya_Haruhi_no_Shoushitsu/video\" title=\"Watch Promotional Video\"><i class=\"malicon malicon-movie-pv\"></i></a></div></div><br/><div class=\"information di-ib mt4\">\n",
       "         Movie (1 eps)<br/>\n",
       "         Feb 2010 - Feb 2010<br/>\n",
       "         591,474 members\n",
       "       </div></div>\n",
       " </td>\n",
       " <td class=\"score ac fs14\"><div class=\"js-top-ranking-score-col di-ib al\"><i class=\"icon-score-star fa-solid fa-star mr4 on\"></i><span class=\"text on score-label score-8\">8.61</span></div>\n",
       " </td>\n",
       " <td class=\"your-score ac fs14\">\n",
       " <div class=\"js-top-ranking-your-score-col di-ib al\"> <a class=\"\" href=\"https://myanimelist.net/login.php?error=login_required&amp;from=%2Ftopanime.php%3Flimit%3D50\"><i class=\"icon-score-star fa-solid fa-star mr4\"></i><span class=\"text score-label score-na\">N/A</span></a>\n",
       " </div>\n",
       " </td>\n",
       " <td class=\"status ac\"> <a class=\"btn-addEdit-large btn-anime-watch-status js-anime-watch-status notinmylist\" href=\"https://myanimelist.net/login.php?error=login_required&amp;from=%2Ftopanime.php%3Flimit%3D50\"><i class=\"fa-solid fa-square-plus-o mr4\"></i>Add to list</a>\n",
       " </td>\n",
       " </tr>,\n",
       " <tr class=\"ranking-list\">\n",
       " <td class=\"rank ac\" valign=\"top\">\n",
       " <span class=\"lightLink top-anime-rank-text rank2\">83</span>\n",
       " </td>\n",
       " <td class=\"title al va-t word-break\">\n",
       " <a class=\"hoverinfo_trigger fl-l ml12 mr8\" href=\"https://myanimelist.net/anime/3786/Evangelion__30_10_Thrice_Upon_a_Time\" id=\"#area3786\" rel=\"#info3786\">\n",
       " <img alt=\"Anime: Evangelion: 3.0+1.0 Thrice Upon a Time\" border=\"0\" class=\"lazyload\" data-src=\"https://cdn.myanimelist.net/r/50x70/images/anime/1422/113533.jpg?s=1e4f4aa0e597b1c1f082779ab9baa2fc\" data-srcset=\"https://cdn.myanimelist.net/r/50x70/images/anime/1422/113533.jpg?s=1e4f4aa0e597b1c1f082779ab9baa2fc 1x, https://cdn.myanimelist.net/r/100x140/images/anime/1422/113533.jpg?s=bbcff367f34f75d38507a3e5091f1336 2x\" height=\"70\" width=\"50\"/>\n",
       " </a>\n",
       " <div class=\"detail\"><div id=\"area3786\">\n",
       " <div class=\"hoverinfo\" id=\"info3786\" rel=\"a3786\"></div>\n",
       " </div>\n",
       " <div class=\"di-ib clearfix\"><h3 class=\"hoverinfo_trigger fl-l fs14 fw-b anime_ranking_h3\"><a href=\"https://myanimelist.net/anime/3786/Evangelion__30_10_Thrice_Upon_a_Time\" id=\"#area3786\" rel=\"#info3786\">Evangelion: 3.0+1.0 Thrice Upon a Time</a></h3><div class=\"icon-watch-pv2\"><a class=\"mal-icon ml8 ga-click\" href=\"https://myanimelist.net/anime/3786/Evangelion__30_10_Thrice_Upon_a_Time/video\" title=\"Watch Promotional Video\"><i class=\"malicon malicon-movie-pv\"></i></a></div></div><br/><div class=\"information di-ib mt4\">\n",
       "         Movie (1 eps)<br/>\n",
       "         Mar 2021 - Mar 2021<br/>\n",
       "         348,762 members\n",
       "       </div></div>\n",
       " </td>\n",
       " <td class=\"score ac fs14\"><div class=\"js-top-ranking-score-col di-ib al\"><i class=\"icon-score-star fa-solid fa-star mr4 on\"></i><span class=\"text on score-label score-8\">8.60</span></div>\n",
       " </td>\n",
       " <td class=\"your-score ac fs14\">\n",
       " <div class=\"js-top-ranking-your-score-col di-ib al\"> <a class=\"\" href=\"https://myanimelist.net/login.php?error=login_required&amp;from=%2Ftopanime.php%3Flimit%3D50\"><i class=\"icon-score-star fa-solid fa-star mr4\"></i><span class=\"text score-label score-na\">N/A</span></a>\n",
       " </div>\n",
       " </td>\n",
       " <td class=\"status ac\"> <a class=\"btn-addEdit-large btn-anime-watch-status js-anime-watch-status notinmylist\" href=\"https://myanimelist.net/login.php?error=login_required&amp;from=%2Ftopanime.php%3Flimit%3D50\"><i class=\"fa-solid fa-square-plus-o mr4\"></i>Add to list</a>\n",
       " </td>\n",
       " </tr>,\n",
       " <tr class=\"ranking-list\">\n",
       " <td class=\"rank ac\" valign=\"top\">\n",
       " <span class=\"lightLink top-anime-rank-text rank2\">84</span>\n",
       " </td>\n",
       " <td class=\"title al va-t word-break\">\n",
       " <a class=\"hoverinfo_trigger fl-l ml12 mr8\" href=\"https://myanimelist.net/anime/38329/Seishun_Buta_Yarou_wa_Yumemiru_Shoujo_no_Yume_wo_Minai\" id=\"#area38329\" rel=\"#info38329\">\n",
       " <img alt=\"Anime: Seishun Buta Yarou wa Yumemiru Shoujo no Yume wo Minai\" border=\"0\" class=\"lazyload\" data-src=\"https://cdn.myanimelist.net/r/50x70/images/anime/1613/102179.jpg?s=9b762a892eac987081bada93be8d3bdc\" data-srcset=\"https://cdn.myanimelist.net/r/50x70/images/anime/1613/102179.jpg?s=9b762a892eac987081bada93be8d3bdc 1x, https://cdn.myanimelist.net/r/100x140/images/anime/1613/102179.jpg?s=827c2a8558037a39b3a45f05c61f219a 2x\" height=\"70\" width=\"50\"/>\n",
       " </a>\n",
       " <div class=\"detail\"><div id=\"area38329\">\n",
       " <div class=\"hoverinfo\" id=\"info38329\" rel=\"a38329\"></div>\n",
       " </div>\n",
       " <div class=\"di-ib clearfix\"><h3 class=\"hoverinfo_trigger fl-l fs14 fw-b anime_ranking_h3\"><a href=\"https://myanimelist.net/anime/38329/Seishun_Buta_Yarou_wa_Yumemiru_Shoujo_no_Yume_wo_Minai\" id=\"#area38329\" rel=\"#info38329\">Seishun Buta Yarou wa Yumemiru Shoujo no Yume wo Minai</a></h3><div class=\"icon-watch-pv2\"><a class=\"mal-icon ml8 ga-click\" href=\"https://myanimelist.net/anime/38329/Seishun_Buta_Yarou_wa_Yumemiru_Shoujo_no_Yume_wo_Minai/video\" title=\"Watch Promotional Video\"><i class=\"malicon malicon-movie-pv\"></i></a></div></div><br/><div class=\"information di-ib mt4\">\n",
       "         Movie (1 eps)<br/>\n",
       "         Jun 2019 - Jun 2019<br/>\n",
       "         668,673 members\n",
       "       </div></div>\n",
       " </td>\n",
       " <td class=\"score ac fs14\"><div class=\"js-top-ranking-score-col di-ib al\"><i class=\"icon-score-star fa-solid fa-star mr4 on\"></i><span class=\"text on score-label score-8\">8.60</span></div>\n",
       " </td>\n",
       " <td class=\"your-score ac fs14\">\n",
       " <div class=\"js-top-ranking-your-score-col di-ib al\"> <a class=\"\" href=\"https://myanimelist.net/login.php?error=login_required&amp;from=%2Ftopanime.php%3Flimit%3D50\"><i class=\"icon-score-star fa-solid fa-star mr4\"></i><span class=\"text score-label score-na\">N/A</span></a>\n",
       " </div>\n",
       " </td>\n",
       " <td class=\"status ac\"> <a class=\"btn-addEdit-large btn-anime-watch-status js-anime-watch-status notinmylist\" href=\"https://myanimelist.net/login.php?error=login_required&amp;from=%2Ftopanime.php%3Flimit%3D50\"><i class=\"fa-solid fa-square-plus-o mr4\"></i>Add to list</a>\n",
       " </td>\n",
       " </tr>,\n",
       " <tr class=\"ranking-list\">\n",
       " <td class=\"rank ac\" valign=\"top\">\n",
       " <span class=\"lightLink top-anime-rank-text rank2\">85</span>\n",
       " </td>\n",
       " <td class=\"title al va-t word-break\">\n",
       " <a class=\"hoverinfo_trigger fl-l ml12 mr8\" href=\"https://myanimelist.net/anime/28957/Mushishi_Zoku_Shou__Suzu_no_Shizuku\" id=\"#area28957\" rel=\"#info28957\">\n",
       " <img alt=\"Anime: Mushishi Zoku Shou: Suzu no Shizuku\" border=\"0\" class=\"lazyload\" data-src=\"https://cdn.myanimelist.net/r/50x70/images/anime/9/72689.jpg?s=58cb067cc48352b42e376589c0b4dfcc\" data-srcset=\"https://cdn.myanimelist.net/r/50x70/images/anime/9/72689.jpg?s=58cb067cc48352b42e376589c0b4dfcc 1x, https://cdn.myanimelist.net/r/100x140/images/anime/9/72689.jpg?s=a8f03ad75dc5bb045f9b92ea24f458b4 2x\" height=\"70\" width=\"50\"/>\n",
       " </a>\n",
       " <div class=\"detail\"><div id=\"area28957\">\n",
       " <div class=\"hoverinfo\" id=\"info28957\" rel=\"a28957\"></div>\n",
       " </div>\n",
       " <div class=\"di-ib clearfix\"><h3 class=\"hoverinfo_trigger fl-l fs14 fw-b anime_ranking_h3\"><a href=\"https://myanimelist.net/anime/28957/Mushishi_Zoku_Shou__Suzu_no_Shizuku\" id=\"#area28957\" rel=\"#info28957\">Mushishi Zoku Shou: Suzu no Shizuku</a></h3><div class=\"icon-watch-pv2\"><a class=\"mal-icon ml8 ga-click\" href=\"https://myanimelist.net/anime/28957/Mushishi_Zoku_Shou__Suzu_no_Shizuku/video\" title=\"Watch Promotional Video\"><i class=\"malicon malicon-movie-pv\"></i></a></div></div><br/><div class=\"information di-ib mt4\">\n",
       "         Movie (1 eps)<br/>\n",
       "         May 2015 - May 2015<br/>\n",
       "         123,517 members\n",
       "       </div></div>\n",
       " </td>\n",
       " <td class=\"score ac fs14\"><div class=\"js-top-ranking-score-col di-ib al\"><i class=\"icon-score-star fa-solid fa-star mr4 on\"></i><span class=\"text on score-label score-8\">8.59</span></div>\n",
       " </td>\n",
       " <td class=\"your-score ac fs14\">\n",
       " <div class=\"js-top-ranking-your-score-col di-ib al\"> <a class=\"\" href=\"https://myanimelist.net/login.php?error=login_required&amp;from=%2Ftopanime.php%3Flimit%3D50\"><i class=\"icon-score-star fa-solid fa-star mr4\"></i><span class=\"text score-label score-na\">N/A</span></a>\n",
       " </div>\n",
       " </td>\n",
       " <td class=\"status ac\"> <a class=\"btn-addEdit-large btn-anime-watch-status js-anime-watch-status notinmylist\" href=\"https://myanimelist.net/login.php?error=login_required&amp;from=%2Ftopanime.php%3Flimit%3D50\"><i class=\"fa-solid fa-square-plus-o mr4\"></i>Add to list</a>\n",
       " </td>\n",
       " </tr>,\n",
       " <tr class=\"ranking-list\">\n",
       " <td class=\"rank ac\" valign=\"top\">\n",
       " <span class=\"lightLink top-anime-rank-text rank2\">86</span>\n",
       " </td>\n",
       " <td class=\"title al va-t word-break\">\n",
       " <a class=\"hoverinfo_trigger fl-l ml12 mr8\" href=\"https://myanimelist.net/anime/19647/Hajime_no_Ippo__Rising\" id=\"#area19647\" rel=\"#info19647\">\n",
       " <img alt=\"Anime: Hajime no Ippo: Rising\" border=\"0\" class=\"lazyload\" data-src=\"https://cdn.myanimelist.net/r/50x70/images/anime/6/56147.jpg?s=7e50339d044aed8909d36bb9afa331d3\" data-srcset=\"https://cdn.myanimelist.net/r/50x70/images/anime/6/56147.jpg?s=7e50339d044aed8909d36bb9afa331d3 1x, https://cdn.myanimelist.net/r/100x140/images/anime/6/56147.jpg?s=0811f5caface8e5ae0d6987776a45899 2x\" height=\"70\" width=\"50\"/>\n",
       " </a>\n",
       " <div class=\"detail\"><div id=\"area19647\">\n",
       " <div class=\"hoverinfo\" id=\"info19647\" rel=\"a19647\"></div>\n",
       " </div>\n",
       " <div class=\"di-ib clearfix\"><h3 class=\"hoverinfo_trigger fl-l fs14 fw-b anime_ranking_h3\"><a href=\"https://myanimelist.net/anime/19647/Hajime_no_Ippo__Rising\" id=\"#area19647\" rel=\"#info19647\">Hajime no Ippo: Rising</a></h3><div class=\"icon-watch2\"><a class=\"mal-icon ml8 ga-click\" href=\"https://myanimelist.net/anime/19647/Hajime_no_Ippo__Rising/video\" title=\"Watch Episode Video\"><i class=\"malicon malicon-movie-episode\"></i></a></div></div><br/><div class=\"information di-ib mt4\">\n",
       "         TV (25 eps)<br/>\n",
       "         Oct 2013 - Mar 2014<br/>\n",
       "         242,901 members\n",
       "       </div></div>\n",
       " </td>\n",
       " <td class=\"score ac fs14\"><div class=\"js-top-ranking-score-col di-ib al\"><i class=\"icon-score-star fa-solid fa-star mr4 on\"></i><span class=\"text on score-label score-8\">8.59</span></div>\n",
       " </td>\n",
       " <td class=\"your-score ac fs14\">\n",
       " <div class=\"js-top-ranking-your-score-col di-ib al\"> <a class=\"\" href=\"https://myanimelist.net/login.php?error=login_required&amp;from=%2Ftopanime.php%3Flimit%3D50\"><i class=\"icon-score-star fa-solid fa-star mr4\"></i><span class=\"text score-label score-na\">N/A</span></a>\n",
       " </div>\n",
       " </td>\n",
       " <td class=\"status ac\"> <a class=\"btn-addEdit-large btn-anime-watch-status js-anime-watch-status notinmylist\" href=\"https://myanimelist.net/login.php?error=login_required&amp;from=%2Ftopanime.php%3Flimit%3D50\"><i class=\"fa-solid fa-square-plus-o mr4\"></i>Add to list</a>\n",
       " </td>\n",
       " </tr>,\n",
       " <tr class=\"ranking-list\">\n",
       " <td class=\"rank ac\" valign=\"top\">\n",
       " <span class=\"lightLink top-anime-rank-text rank2\">87</span>\n",
       " </td>\n",
       " <td class=\"title al va-t word-break\">\n",
       " <a class=\"hoverinfo_trigger fl-l ml12 mr8\" href=\"https://myanimelist.net/anime/44511/Chainsaw_Man\" id=\"#area44511\" rel=\"#info44511\">\n",
       " <img alt=\"Anime: Chainsaw Man\" border=\"0\" class=\"lazyload\" data-src=\"https://cdn.myanimelist.net/r/50x70/images/anime/1806/126216.jpg?s=8e4d9184579f166e9adff4987b274192\" data-srcset=\"https://cdn.myanimelist.net/r/50x70/images/anime/1806/126216.jpg?s=8e4d9184579f166e9adff4987b274192 1x, https://cdn.myanimelist.net/r/100x140/images/anime/1806/126216.jpg?s=08178bbae8e24d6a533a7f59ddea9e26 2x\" height=\"70\" width=\"50\"/>\n",
       " </a>\n",
       " <div class=\"detail\"><div id=\"area44511\">\n",
       " <div class=\"hoverinfo\" id=\"info44511\" rel=\"a44511\"></div>\n",
       " </div>\n",
       " <div class=\"di-ib clearfix\"><h3 class=\"hoverinfo_trigger fl-l fs14 fw-b anime_ranking_h3\"><a href=\"https://myanimelist.net/anime/44511/Chainsaw_Man\" id=\"#area44511\" rel=\"#info44511\">Chainsaw Man</a></h3><div class=\"icon-watch2\"><a class=\"mal-icon ml8 ga-click\" href=\"https://myanimelist.net/anime/44511/Chainsaw_Man/video\" title=\"Watch Episode Video\"><i class=\"malicon malicon-movie-episode\"></i></a></div></div><br/><div class=\"information di-ib mt4\">\n",
       "         TV (12 eps)<br/>\n",
       "         Oct 2022 - Dec 2022<br/>\n",
       "         1,292,578 members\n",
       "       </div></div>\n",
       " </td>\n",
       " <td class=\"score ac fs14\"><div class=\"js-top-ranking-score-col di-ib al\"><i class=\"icon-score-star fa-solid fa-star mr4 on\"></i><span class=\"text on score-label score-8\">8.58</span></div>\n",
       " </td>\n",
       " <td class=\"your-score ac fs14\">\n",
       " <div class=\"js-top-ranking-your-score-col di-ib al\"> <a class=\"\" href=\"https://myanimelist.net/login.php?error=login_required&amp;from=%2Ftopanime.php%3Flimit%3D50\"><i class=\"icon-score-star fa-solid fa-star mr4\"></i><span class=\"text score-label score-na\">N/A</span></a>\n",
       " </div>\n",
       " </td>\n",
       " <td class=\"status ac\"> <a class=\"btn-addEdit-large btn-anime-watch-status js-anime-watch-status notinmylist\" href=\"https://myanimelist.net/login.php?error=login_required&amp;from=%2Ftopanime.php%3Flimit%3D50\"><i class=\"fa-solid fa-square-plus-o mr4\"></i>Add to list</a>\n",
       " </td>\n",
       " </tr>,\n",
       " <tr class=\"ranking-list\">\n",
       " <td class=\"rank ac\" valign=\"top\">\n",
       " <span class=\"lightLink top-anime-rank-text rank2\">88</span>\n",
       " </td>\n",
       " <td class=\"title al va-t word-break\">\n",
       " <a class=\"hoverinfo_trigger fl-l ml12 mr8\" href=\"https://myanimelist.net/anime/37991/JoJo_no_Kimyou_na_Bouken_Part_5__Ougon_no_Kaze\" id=\"#area37991\" rel=\"#info37991\">\n",
       " <img alt=\"Anime: JoJo no Kimyou na Bouken Part 5: Ougon no Kaze\" border=\"0\" class=\"lazyload\" data-src=\"https://cdn.myanimelist.net/r/50x70/images/anime/1572/95010.jpg?s=88db8e76960fce4e7aaa69f71cfbb4cb\" data-srcset=\"https://cdn.myanimelist.net/r/50x70/images/anime/1572/95010.jpg?s=88db8e76960fce4e7aaa69f71cfbb4cb 1x, https://cdn.myanimelist.net/r/100x140/images/anime/1572/95010.jpg?s=fa9d4dedc7ac3d11c20b7e24e35debef 2x\" height=\"70\" width=\"50\"/>\n",
       " </a>\n",
       " <div class=\"detail\"><div id=\"area37991\">\n",
       " <div class=\"hoverinfo\" id=\"info37991\" rel=\"a37991\"></div>\n",
       " </div>\n",
       " <div class=\"di-ib clearfix\"><h3 class=\"hoverinfo_trigger fl-l fs14 fw-b anime_ranking_h3\"><a href=\"https://myanimelist.net/anime/37991/JoJo_no_Kimyou_na_Bouken_Part_5__Ougon_no_Kaze\" id=\"#area37991\" rel=\"#info37991\">JoJo no Kimyou na Bouken Part 5: Ougon no Kaze</a></h3><div class=\"icon-watch2\"><a class=\"mal-icon ml8 ga-click\" href=\"https://myanimelist.net/anime/37991/JoJo_no_Kimyou_na_Bouken_Part_5__Ougon_no_Kaze/video\" title=\"Watch Episode Video\"><i class=\"malicon malicon-movie-episode\"></i></a></div></div><br/><div class=\"information di-ib mt4\">\n",
       "         TV (39 eps)<br/>\n",
       "         Oct 2018 - Jul 2019<br/>\n",
       "         962,897 members\n",
       "       </div></div>\n",
       " </td>\n",
       " <td class=\"score ac fs14\"><div class=\"js-top-ranking-score-col di-ib al\"><i class=\"icon-score-star fa-solid fa-star mr4 on\"></i><span class=\"text on score-label score-8\">8.58</span></div>\n",
       " </td>\n",
       " <td class=\"your-score ac fs14\">\n",
       " <div class=\"js-top-ranking-your-score-col di-ib al\"> <a class=\"\" href=\"https://myanimelist.net/login.php?error=login_required&amp;from=%2Ftopanime.php%3Flimit%3D50\"><i class=\"icon-score-star fa-solid fa-star mr4\"></i><span class=\"text score-label score-na\">N/A</span></a>\n",
       " </div>\n",
       " </td>\n",
       " <td class=\"status ac\"> <a class=\"btn-addEdit-large btn-anime-watch-status js-anime-watch-status notinmylist\" href=\"https://myanimelist.net/login.php?error=login_required&amp;from=%2Ftopanime.php%3Flimit%3D50\"><i class=\"fa-solid fa-square-plus-o mr4\"></i>Add to list</a>\n",
       " </td>\n",
       " </tr>,\n",
       " <tr class=\"ranking-list\">\n",
       " <td class=\"rank ac\" valign=\"top\">\n",
       " <span class=\"lightLink top-anime-rank-text rank2\">89</span>\n",
       " </td>\n",
       " <td class=\"title al va-t word-break\">\n",
       " <a class=\"hoverinfo_trigger fl-l ml12 mr8\" href=\"https://myanimelist.net/anime/12355/Ookami_Kodomo_no_Ame_to_Yuki\" id=\"#area12355\" rel=\"#info12355\">\n",
       " <img alt=\"Anime: Ookami Kodomo no Ame to Yuki\" border=\"0\" class=\"lazyload\" data-src=\"https://cdn.myanimelist.net/r/50x70/images/anime/9/35721.jpg?s=3cb7f7062c2ef1c69ab18d7e3c04af2b\" data-srcset=\"https://cdn.myanimelist.net/r/50x70/images/anime/9/35721.jpg?s=3cb7f7062c2ef1c69ab18d7e3c04af2b 1x, https://cdn.myanimelist.net/r/100x140/images/anime/9/35721.jpg?s=8447e90edf5c69af409b8483f91a72e9 2x\" height=\"70\" width=\"50\"/>\n",
       " </a>\n",
       " <div class=\"detail\"><div id=\"area12355\">\n",
       " <div class=\"hoverinfo\" id=\"info12355\" rel=\"a12355\"></div>\n",
       " </div>\n",
       " <div class=\"di-ib clearfix\"><h3 class=\"hoverinfo_trigger fl-l fs14 fw-b anime_ranking_h3\"><a href=\"https://myanimelist.net/anime/12355/Ookami_Kodomo_no_Ame_to_Yuki\" id=\"#area12355\" rel=\"#info12355\">Ookami Kodomo no Ame to Yuki</a></h3><div class=\"icon-watch2\"><a class=\"mal-icon ml8 ga-click\" href=\"https://myanimelist.net/anime/12355/Ookami_Kodomo_no_Ame_to_Yuki/video\" title=\"Watch Episode Video\"><i class=\"malicon malicon-movie-episode\"></i></a></div></div><br/><div class=\"information di-ib mt4\">\n",
       "         Movie (1 eps)<br/>\n",
       "         Jul 2012 - Jul 2012<br/>\n",
       "         785,910 members\n",
       "       </div></div>\n",
       " </td>\n",
       " <td class=\"score ac fs14\"><div class=\"js-top-ranking-score-col di-ib al\"><i class=\"icon-score-star fa-solid fa-star mr4 on\"></i><span class=\"text on score-label score-8\">8.58</span></div>\n",
       " </td>\n",
       " <td class=\"your-score ac fs14\">\n",
       " <div class=\"js-top-ranking-your-score-col di-ib al\"> <a class=\"\" href=\"https://myanimelist.net/login.php?error=login_required&amp;from=%2Ftopanime.php%3Flimit%3D50\"><i class=\"icon-score-star fa-solid fa-star mr4\"></i><span class=\"text score-label score-na\">N/A</span></a>\n",
       " </div>\n",
       " </td>\n",
       " <td class=\"status ac\"> <a class=\"btn-addEdit-large btn-anime-watch-status js-anime-watch-status notinmylist\" href=\"https://myanimelist.net/login.php?error=login_required&amp;from=%2Ftopanime.php%3Flimit%3D50\"><i class=\"fa-solid fa-square-plus-o mr4\"></i>Add to list</a>\n",
       " </td>\n",
       " </tr>,\n",
       " <tr class=\"ranking-list\">\n",
       " <td class=\"rank ac\" valign=\"top\">\n",
       " <span class=\"lightLink top-anime-rank-text rank2\">90</span>\n",
       " </td>\n",
       " <td class=\"title al va-t word-break\">\n",
       " <a class=\"hoverinfo_trigger fl-l ml12 mr8\" href=\"https://myanimelist.net/anime/33/Kenpuu_Denki_Berserk\" id=\"#area33\" rel=\"#info33\">\n",
       " <img alt=\"Anime: Kenpuu Denki Berserk\" border=\"0\" class=\"lazyload\" data-src=\"https://cdn.myanimelist.net/r/50x70/images/anime/1384/119988.jpg?s=9260c7baa7b55d81d9f6375b55a803e6\" data-srcset=\"https://cdn.myanimelist.net/r/50x70/images/anime/1384/119988.jpg?s=9260c7baa7b55d81d9f6375b55a803e6 1x, https://cdn.myanimelist.net/r/100x140/images/anime/1384/119988.jpg?s=fd2dc921a492620cb9421bd005434fcc 2x\" height=\"70\" width=\"50\"/>\n",
       " </a>\n",
       " <div class=\"detail\"><div id=\"area33\">\n",
       " <div class=\"hoverinfo\" id=\"info33\" rel=\"a33\"></div>\n",
       " </div>\n",
       " <div class=\"di-ib clearfix\"><h3 class=\"hoverinfo_trigger fl-l fs14 fw-b anime_ranking_h3\"><a href=\"https://myanimelist.net/anime/33/Kenpuu_Denki_Berserk\" id=\"#area33\" rel=\"#info33\">Kenpuu Denki Berserk</a></h3><div class=\"icon-watch-pv2\"><a class=\"mal-icon ml8 ga-click\" href=\"https://myanimelist.net/anime/33/Kenpuu_Denki_Berserk/video\" title=\"Watch Promotional Video\"><i class=\"malicon malicon-movie-pv\"></i></a></div></div><br/><div class=\"information di-ib mt4\">\n",
       "         TV (25 eps)<br/>\n",
       "         Oct 1997 - Apr 1998<br/>\n",
       "         611,905 members\n",
       "       </div></div>\n",
       " </td>\n",
       " <td class=\"score ac fs14\"><div class=\"js-top-ranking-score-col di-ib al\"><i class=\"icon-score-star fa-solid fa-star mr4 on\"></i><span class=\"text on score-label score-8\">8.57</span></div>\n",
       " </td>\n",
       " <td class=\"your-score ac fs14\">\n",
       " <div class=\"js-top-ranking-your-score-col di-ib al\"> <a class=\"\" href=\"https://myanimelist.net/login.php?error=login_required&amp;from=%2Ftopanime.php%3Flimit%3D50\"><i class=\"icon-score-star fa-solid fa-star mr4\"></i><span class=\"text score-label score-na\">N/A</span></a>\n",
       " </div>\n",
       " </td>\n",
       " <td class=\"status ac\"> <a class=\"btn-addEdit-large btn-anime-watch-status js-anime-watch-status notinmylist\" href=\"https://myanimelist.net/login.php?error=login_required&amp;from=%2Ftopanime.php%3Flimit%3D50\"><i class=\"fa-solid fa-square-plus-o mr4\"></i>Add to list</a>\n",
       " </td>\n",
       " </tr>,\n",
       " <tr class=\"ranking-list\">\n",
       " <td class=\"rank ac\" valign=\"top\">\n",
       " <span class=\"lightLink top-anime-rank-text rank2\">91</span>\n",
       " </td>\n",
       " <td class=\"title al va-t word-break\">\n",
       " <a class=\"hoverinfo_trigger fl-l ml12 mr8\" href=\"https://myanimelist.net/anime/31757/Kizumonogatari_II__Nekketsu-hen\" id=\"#area31757\" rel=\"#info31757\">\n",
       " <img alt=\"Anime: Kizumonogatari II: Nekketsu-hen\" border=\"0\" class=\"lazyload\" data-src=\"https://cdn.myanimelist.net/r/50x70/images/anime/1981/112812.jpg?s=be1337b450cee892a1083242c5e526c2\" data-srcset=\"https://cdn.myanimelist.net/r/50x70/images/anime/1981/112812.jpg?s=be1337b450cee892a1083242c5e526c2 1x, https://cdn.myanimelist.net/r/100x140/images/anime/1981/112812.jpg?s=4e049ab01e189ca078eaccc3a91f84d3 2x\" height=\"70\" width=\"50\"/>\n",
       " </a>\n",
       " <div class=\"detail\"><div id=\"area31757\">\n",
       " <div class=\"hoverinfo\" id=\"info31757\" rel=\"a31757\"></div>\n",
       " </div>\n",
       " <div class=\"di-ib clearfix\"><h3 class=\"hoverinfo_trigger fl-l fs14 fw-b anime_ranking_h3\"><a href=\"https://myanimelist.net/anime/31757/Kizumonogatari_II__Nekketsu-hen\" id=\"#area31757\" rel=\"#info31757\">Kizumonogatari II: Nekketsu-hen</a></h3><div class=\"icon-watch-pv2\"><a class=\"mal-icon ml8 ga-click\" href=\"https://myanimelist.net/anime/31757/Kizumonogatari_II__Nekketsu-hen/video\" title=\"Watch Promotional Video\"><i class=\"malicon malicon-movie-pv\"></i></a></div></div><br/><div class=\"information di-ib mt4\">\n",
       "         Movie (1 eps)<br/>\n",
       "         Aug 2016 - Aug 2016<br/>\n",
       "         426,588 members\n",
       "       </div></div>\n",
       " </td>\n",
       " <td class=\"score ac fs14\"><div class=\"js-top-ranking-score-col di-ib al\"><i class=\"icon-score-star fa-solid fa-star mr4 on\"></i><span class=\"text on score-label score-8\">8.57</span></div>\n",
       " </td>\n",
       " <td class=\"your-score ac fs14\">\n",
       " <div class=\"js-top-ranking-your-score-col di-ib al\"> <a class=\"\" href=\"https://myanimelist.net/login.php?error=login_required&amp;from=%2Ftopanime.php%3Flimit%3D50\"><i class=\"icon-score-star fa-solid fa-star mr4\"></i><span class=\"text score-label score-na\">N/A</span></a>\n",
       " </div>\n",
       " </td>\n",
       " <td class=\"status ac\"> <a class=\"btn-addEdit-large btn-anime-watch-status js-anime-watch-status notinmylist\" href=\"https://myanimelist.net/login.php?error=login_required&amp;from=%2Ftopanime.php%3Flimit%3D50\"><i class=\"fa-solid fa-square-plus-o mr4\"></i>Add to list</a>\n",
       " </td>\n",
       " </tr>,\n",
       " <tr class=\"ranking-list\">\n",
       " <td class=\"rank ac\" valign=\"top\">\n",
       " <span class=\"lightLink top-anime-rank-text rank2\">92</span>\n",
       " </td>\n",
       " <td class=\"title al va-t word-break\">\n",
       " <a class=\"hoverinfo_trigger fl-l ml12 mr8\" href=\"https://myanimelist.net/anime/32983/Natsume_Yuujinchou_Go\" id=\"#area32983\" rel=\"#info32983\">\n",
       " <img alt=\"Anime: Natsume Yuujinchou Go\" border=\"0\" class=\"lazyload\" data-src=\"https://cdn.myanimelist.net/r/50x70/images/anime/11/81755.jpg?s=54d7dafe4652b04b40d97d5d6d97d18d\" data-srcset=\"https://cdn.myanimelist.net/r/50x70/images/anime/11/81755.jpg?s=54d7dafe4652b04b40d97d5d6d97d18d 1x, https://cdn.myanimelist.net/r/100x140/images/anime/11/81755.jpg?s=bf3caabaccd732425fcaf7a8c85a8ff9 2x\" height=\"70\" width=\"50\"/>\n",
       " </a>\n",
       " <div class=\"detail\"><div id=\"area32983\">\n",
       " <div class=\"hoverinfo\" id=\"info32983\" rel=\"a32983\"></div>\n",
       " </div>\n",
       " <div class=\"di-ib clearfix\"><h3 class=\"hoverinfo_trigger fl-l fs14 fw-b anime_ranking_h3\"><a href=\"https://myanimelist.net/anime/32983/Natsume_Yuujinchou_Go\" id=\"#area32983\" rel=\"#info32983\">Natsume Yuujinchou Go</a></h3><div class=\"icon-watch2\"><a class=\"mal-icon ml8 ga-click\" href=\"https://myanimelist.net/anime/32983/Natsume_Yuujinchou_Go/video\" title=\"Watch Episode Video\"><i class=\"malicon malicon-movie-episode\"></i></a></div></div><br/><div class=\"information di-ib mt4\">\n",
       "         TV (11 eps)<br/>\n",
       "         Oct 2016 - Dec 2016<br/>\n",
       "         177,688 members\n",
       "       </div></div>\n",
       " </td>\n",
       " <td class=\"score ac fs14\"><div class=\"js-top-ranking-score-col di-ib al\"><i class=\"icon-score-star fa-solid fa-star mr4 on\"></i><span class=\"text on score-label score-8\">8.57</span></div>\n",
       " </td>\n",
       " <td class=\"your-score ac fs14\">\n",
       " <div class=\"js-top-ranking-your-score-col di-ib al\"> <a class=\"\" href=\"https://myanimelist.net/login.php?error=login_required&amp;from=%2Ftopanime.php%3Flimit%3D50\"><i class=\"icon-score-star fa-solid fa-star mr4\"></i><span class=\"text score-label score-na\">N/A</span></a>\n",
       " </div>\n",
       " </td>\n",
       " <td class=\"status ac\"> <a class=\"btn-addEdit-large btn-anime-watch-status js-anime-watch-status notinmylist\" href=\"https://myanimelist.net/login.php?error=login_required&amp;from=%2Ftopanime.php%3Flimit%3D50\"><i class=\"fa-solid fa-square-plus-o mr4\"></i>Add to list</a>\n",
       " </td>\n",
       " </tr>,\n",
       " <tr class=\"ranking-list\">\n",
       " <td class=\"rank ac\" valign=\"top\">\n",
       " <span class=\"lightLink top-anime-rank-text rank2\">93</span>\n",
       " </td>\n",
       " <td class=\"title al va-t word-break\">\n",
       " <a class=\"hoverinfo_trigger fl-l ml12 mr8\" href=\"https://myanimelist.net/anime/10379/Natsume_Yuujinchou_San\" id=\"#area10379\" rel=\"#info10379\">\n",
       " <img alt=\"Anime: Natsume Yuujinchou San\" border=\"0\" class=\"lazyload\" data-src=\"https://cdn.myanimelist.net/r/50x70/images/anime/8/82394.jpg?s=f3bc38aa1e6c10580687828856d8dc28\" data-srcset=\"https://cdn.myanimelist.net/r/50x70/images/anime/8/82394.jpg?s=f3bc38aa1e6c10580687828856d8dc28 1x, https://cdn.myanimelist.net/r/100x140/images/anime/8/82394.jpg?s=f40400064283f68903948d1124df67a8 2x\" height=\"70\" width=\"50\"/>\n",
       " </a>\n",
       " <div class=\"detail\"><div id=\"area10379\">\n",
       " <div class=\"hoverinfo\" id=\"info10379\" rel=\"a10379\"></div>\n",
       " </div>\n",
       " <div class=\"di-ib clearfix\"><h3 class=\"hoverinfo_trigger fl-l fs14 fw-b anime_ranking_h3\"><a href=\"https://myanimelist.net/anime/10379/Natsume_Yuujinchou_San\" id=\"#area10379\" rel=\"#info10379\">Natsume Yuujinchou San</a></h3><div class=\"icon-watch2\"><a class=\"mal-icon ml8 ga-click\" href=\"https://myanimelist.net/anime/10379/Natsume_Yuujinchou_San/video\" title=\"Watch Episode Video\"><i class=\"malicon malicon-movie-episode\"></i></a></div></div><br/><div class=\"information di-ib mt4\">\n",
       "         TV (13 eps)<br/>\n",
       "         Jul 2011 - Sep 2011<br/>\n",
       "         244,179 members\n",
       "       </div></div>\n",
       " </td>\n",
       " <td class=\"score ac fs14\"><div class=\"js-top-ranking-score-col di-ib al\"><i class=\"icon-score-star fa-solid fa-star mr4 on\"></i><span class=\"text on score-label score-8\">8.57</span></div>\n",
       " </td>\n",
       " <td class=\"your-score ac fs14\">\n",
       " <div class=\"js-top-ranking-your-score-col di-ib al\"> <a class=\"\" href=\"https://myanimelist.net/login.php?error=login_required&amp;from=%2Ftopanime.php%3Flimit%3D50\"><i class=\"icon-score-star fa-solid fa-star mr4\"></i><span class=\"text score-label score-na\">N/A</span></a>\n",
       " </div>\n",
       " </td>\n",
       " <td class=\"status ac\"> <a class=\"btn-addEdit-large btn-anime-watch-status js-anime-watch-status notinmylist\" href=\"https://myanimelist.net/login.php?error=login_required&amp;from=%2Ftopanime.php%3Flimit%3D50\"><i class=\"fa-solid fa-square-plus-o mr4\"></i>Add to list</a>\n",
       " </td>\n",
       " </tr>,\n",
       " <tr class=\"ranking-list\">\n",
       " <td class=\"rank ac\" valign=\"top\">\n",
       " <span class=\"lightLink top-anime-rank-text rank2\">94</span>\n",
       " </td>\n",
       " <td class=\"title al va-t word-break\">\n",
       " <a class=\"hoverinfo_trigger fl-l ml12 mr8\" href=\"https://myanimelist.net/anime/28735/Shouwa_Genroku_Rakugo_Shinjuu\" id=\"#area28735\" rel=\"#info28735\">\n",
       " <img alt=\"Anime: Shouwa Genroku Rakugo Shinjuu\" border=\"0\" class=\"lazyload\" data-src=\"https://cdn.myanimelist.net/r/50x70/images/anime/1354/124768.jpg?s=43c2faea5a0fef34fb80dfd028ec808e\" data-srcset=\"https://cdn.myanimelist.net/r/50x70/images/anime/1354/124768.jpg?s=43c2faea5a0fef34fb80dfd028ec808e 1x, https://cdn.myanimelist.net/r/100x140/images/anime/1354/124768.jpg?s=a1d5665c6f353f4b3bd6eeb9a39930ef 2x\" height=\"70\" width=\"50\"/>\n",
       " </a>\n",
       " <div class=\"detail\"><div id=\"area28735\">\n",
       " <div class=\"hoverinfo\" id=\"info28735\" rel=\"a28735\"></div>\n",
       " </div>\n",
       " <div class=\"di-ib clearfix\"><h3 class=\"hoverinfo_trigger fl-l fs14 fw-b anime_ranking_h3\"><a href=\"https://myanimelist.net/anime/28735/Shouwa_Genroku_Rakugo_Shinjuu\" id=\"#area28735\" rel=\"#info28735\">Shouwa Genroku Rakugo Shinjuu</a></h3><div class=\"icon-watch2\"><a class=\"mal-icon ml8 ga-click\" href=\"https://myanimelist.net/anime/28735/Shouwa_Genroku_Rakugo_Shinjuu/video\" title=\"Watch Episode Video\"><i class=\"malicon malicon-movie-episode\"></i></a></div></div><br/><div class=\"information di-ib mt4\">\n",
       "         TV (13 eps)<br/>\n",
       "         Jan 2016 - Apr 2016<br/>\n",
       "         282,186 members\n",
       "       </div></div>\n",
       " </td>\n",
       " <td class=\"score ac fs14\"><div class=\"js-top-ranking-score-col di-ib al\"><i class=\"icon-score-star fa-solid fa-star mr4 on\"></i><span class=\"text on score-label score-8\">8.57</span></div>\n",
       " </td>\n",
       " <td class=\"your-score ac fs14\">\n",
       " <div class=\"js-top-ranking-your-score-col di-ib al\"> <a class=\"\" href=\"https://myanimelist.net/login.php?error=login_required&amp;from=%2Ftopanime.php%3Flimit%3D50\"><i class=\"icon-score-star fa-solid fa-star mr4\"></i><span class=\"text score-label score-na\">N/A</span></a>\n",
       " </div>\n",
       " </td>\n",
       " <td class=\"status ac\"> <a class=\"btn-addEdit-large btn-anime-watch-status js-anime-watch-status notinmylist\" href=\"https://myanimelist.net/login.php?error=login_required&amp;from=%2Ftopanime.php%3Flimit%3D50\"><i class=\"fa-solid fa-square-plus-o mr4\"></i>Add to list</a>\n",
       " </td>\n",
       " </tr>,\n",
       " <tr class=\"ranking-list\">\n",
       " <td class=\"rank ac\" valign=\"top\">\n",
       " <span class=\"lightLink top-anime-rank-text rank2\">95</span>\n",
       " </td>\n",
       " <td class=\"title al va-t word-break\">\n",
       " <a class=\"hoverinfo_trigger fl-l ml12 mr8\" href=\"https://myanimelist.net/anime/4565/Tengen_Toppa_Gurren_Lagann_Movie_2__Lagann-hen\" id=\"#area4565\" rel=\"#info4565\">\n",
       " <img alt=\"Anime: Tengen Toppa Gurren Lagann Movie 2: Lagann-hen\" border=\"0\" class=\"lazyload\" data-src=\"https://cdn.myanimelist.net/r/50x70/images/anime/12/19698.jpg?s=1be69978bb463a9b8284565cbf1bfb2f\" data-srcset=\"https://cdn.myanimelist.net/r/50x70/images/anime/12/19698.jpg?s=1be69978bb463a9b8284565cbf1bfb2f 1x, https://cdn.myanimelist.net/r/100x140/images/anime/12/19698.jpg?s=ddc790a2d507b1c78a8038f1e9457beb 2x\" height=\"70\" width=\"50\"/>\n",
       " </a>\n",
       " <div class=\"detail\"><div id=\"area4565\">\n",
       " <div class=\"hoverinfo\" id=\"info4565\" rel=\"a4565\"></div>\n",
       " </div>\n",
       " <div class=\"di-ib clearfix\"><h3 class=\"hoverinfo_trigger fl-l fs14 fw-b anime_ranking_h3\"><a href=\"https://myanimelist.net/anime/4565/Tengen_Toppa_Gurren_Lagann_Movie_2__Lagann-hen\" id=\"#area4565\" rel=\"#info4565\">Tengen Toppa Gurren Lagann Movie 2: Lagann-hen</a></h3></div><br/><div class=\"information di-ib mt4\">\n",
       "         Movie (1 eps)<br/>\n",
       "         Apr 2009 - Apr 2009<br/>\n",
       "         207,746 members\n",
       "       </div></div>\n",
       " </td>\n",
       " <td class=\"score ac fs14\"><div class=\"js-top-ranking-score-col di-ib al\"><i class=\"icon-score-star fa-solid fa-star mr4 on\"></i><span class=\"text on score-label score-8\">8.57</span></div>\n",
       " </td>\n",
       " <td class=\"your-score ac fs14\">\n",
       " <div class=\"js-top-ranking-your-score-col di-ib al\"> <a class=\"\" href=\"https://myanimelist.net/login.php?error=login_required&amp;from=%2Ftopanime.php%3Flimit%3D50\"><i class=\"icon-score-star fa-solid fa-star mr4\"></i><span class=\"text score-label score-na\">N/A</span></a>\n",
       " </div>\n",
       " </td>\n",
       " <td class=\"status ac\"> <a class=\"btn-addEdit-large btn-anime-watch-status js-anime-watch-status notinmylist\" href=\"https://myanimelist.net/login.php?error=login_required&amp;from=%2Ftopanime.php%3Flimit%3D50\"><i class=\"fa-solid fa-square-plus-o mr4\"></i>Add to list</a>\n",
       " </td>\n",
       " </tr>,\n",
       " <tr class=\"ranking-list\">\n",
       " <td class=\"rank ac\" valign=\"top\">\n",
       " <span class=\"lightLink top-anime-rank-text rank2\">96</span>\n",
       " </td>\n",
       " <td class=\"title al va-t word-break\">\n",
       " <a class=\"hoverinfo_trigger fl-l ml12 mr8\" href=\"https://myanimelist.net/anime/7785/Yojouhan_Shinwa_Taikei\" id=\"#area7785\" rel=\"#info7785\">\n",
       " <img alt=\"Anime: Yojouhan Shinwa Taikei\" border=\"0\" class=\"lazyload\" data-src=\"https://cdn.myanimelist.net/r/50x70/images/anime/1633/123689.jpg?s=6d15cd9c92692a0972c789132792888c\" data-srcset=\"https://cdn.myanimelist.net/r/50x70/images/anime/1633/123689.jpg?s=6d15cd9c92692a0972c789132792888c 1x, https://cdn.myanimelist.net/r/100x140/images/anime/1633/123689.jpg?s=767a2c7974ae7672bda3f065627339cc 2x\" height=\"70\" width=\"50\"/>\n",
       " </a>\n",
       " <div class=\"detail\"><div id=\"area7785\">\n",
       " <div class=\"hoverinfo\" id=\"info7785\" rel=\"a7785\"></div>\n",
       " </div>\n",
       " <div class=\"di-ib clearfix\"><h3 class=\"hoverinfo_trigger fl-l fs14 fw-b anime_ranking_h3\"><a href=\"https://myanimelist.net/anime/7785/Yojouhan_Shinwa_Taikei\" id=\"#area7785\" rel=\"#info7785\">Yojouhan Shinwa Taikei</a></h3><div class=\"icon-watch2\"><a class=\"mal-icon ml8 ga-click\" href=\"https://myanimelist.net/anime/7785/Yojouhan_Shinwa_Taikei/video\" title=\"Watch Episode Video\"><i class=\"malicon malicon-movie-episode\"></i></a></div></div><br/><div class=\"information di-ib mt4\">\n",
       "         TV (11 eps)<br/>\n",
       "         Apr 2010 - Jul 2010<br/>\n",
       "         430,894 members\n",
       "       </div></div>\n",
       " </td>\n",
       " <td class=\"score ac fs14\"><div class=\"js-top-ranking-score-col di-ib al\"><i class=\"icon-score-star fa-solid fa-star mr4 on\"></i><span class=\"text on score-label score-8\">8.56</span></div>\n",
       " </td>\n",
       " <td class=\"your-score ac fs14\">\n",
       " <div class=\"js-top-ranking-your-score-col di-ib al\"> <a class=\"\" href=\"https://myanimelist.net/login.php?error=login_required&amp;from=%2Ftopanime.php%3Flimit%3D50\"><i class=\"icon-score-star fa-solid fa-star mr4\"></i><span class=\"text score-label score-na\">N/A</span></a>\n",
       " </div>\n",
       " </td>\n",
       " <td class=\"status ac\"> <a class=\"btn-addEdit-large btn-anime-watch-status js-anime-watch-status notinmylist\" href=\"https://myanimelist.net/login.php?error=login_required&amp;from=%2Ftopanime.php%3Flimit%3D50\"><i class=\"fa-solid fa-square-plus-o mr4\"></i>Add to list</a>\n",
       " </td>\n",
       " </tr>,\n",
       " <tr class=\"ranking-list\">\n",
       " <td class=\"rank ac\" valign=\"top\">\n",
       " <span class=\"lightLink top-anime-rank-text rank2\">97</span>\n",
       " </td>\n",
       " <td class=\"title al va-t word-break\">\n",
       " <a class=\"hoverinfo_trigger fl-l ml12 mr8\" href=\"https://myanimelist.net/anime/36098/Kimi_no_Suizou_wo_Tabetai\" id=\"#area36098\" rel=\"#info36098\">\n",
       " <img alt=\"Anime: Kimi no Suizou wo Tabetai\" border=\"0\" class=\"lazyload\" data-src=\"https://cdn.myanimelist.net/r/50x70/images/anime/1768/93291.jpg?s=9511a058515d30808733fff309b97756\" data-srcset=\"https://cdn.myanimelist.net/r/50x70/images/anime/1768/93291.jpg?s=9511a058515d30808733fff309b97756 1x, https://cdn.myanimelist.net/r/100x140/images/anime/1768/93291.jpg?s=44eff1f7b3c25378ceaf04f5ccdd1f5d 2x\" height=\"70\" width=\"50\"/>\n",
       " </a>\n",
       " <div class=\"detail\"><div id=\"area36098\">\n",
       " <div class=\"hoverinfo\" id=\"info36098\" rel=\"a36098\"></div>\n",
       " </div>\n",
       " <div class=\"di-ib clearfix\"><h3 class=\"hoverinfo_trigger fl-l fs14 fw-b anime_ranking_h3\"><a href=\"https://myanimelist.net/anime/36098/Kimi_no_Suizou_wo_Tabetai\" id=\"#area36098\" rel=\"#info36098\">Kimi no Suizou wo Tabetai</a></h3><div class=\"icon-watch-pv2\"><a class=\"mal-icon ml8 ga-click\" href=\"https://myanimelist.net/anime/36098/Kimi_no_Suizou_wo_Tabetai/video\" title=\"Watch Promotional Video\"><i class=\"malicon malicon-movie-pv\"></i></a></div></div><br/><div class=\"information di-ib mt4\">\n",
       "         Movie (1 eps)<br/>\n",
       "         Sep 2018 - Sep 2018<br/>\n",
       "         900,837 members\n",
       "       </div></div>\n",
       " </td>\n",
       " <td class=\"score ac fs14\"><div class=\"js-top-ranking-score-col di-ib al\"><i class=\"icon-score-star fa-solid fa-star mr4 on\"></i><span class=\"text on score-label score-8\">8.56</span></div>\n",
       " </td>\n",
       " <td class=\"your-score ac fs14\">\n",
       " <div class=\"js-top-ranking-your-score-col di-ib al\"> <a class=\"\" href=\"https://myanimelist.net/login.php?error=login_required&amp;from=%2Ftopanime.php%3Flimit%3D50\"><i class=\"icon-score-star fa-solid fa-star mr4\"></i><span class=\"text score-label score-na\">N/A</span></a>\n",
       " </div>\n",
       " </td>\n",
       " <td class=\"status ac\"> <a class=\"btn-addEdit-large btn-anime-watch-status js-anime-watch-status notinmylist\" href=\"https://myanimelist.net/login.php?error=login_required&amp;from=%2Ftopanime.php%3Flimit%3D50\"><i class=\"fa-solid fa-square-plus-o mr4\"></i>Add to list</a>\n",
       " </td>\n",
       " </tr>,\n",
       " <tr class=\"ranking-list\">\n",
       " <td class=\"rank ac\" valign=\"top\">\n",
       " <span class=\"lightLink top-anime-rank-text rank2\">98</span>\n",
       " </td>\n",
       " <td class=\"title al va-t word-break\">\n",
       " <a class=\"hoverinfo_trigger fl-l ml12 mr8\" href=\"https://myanimelist.net/anime/40434/Mo_Dao_Zu_Shi__Wanjie_Pian\" id=\"#area40434\" rel=\"#info40434\">\n",
       " <img alt=\"Anime: Mo Dao Zu Shi: Wanjie Pian\" border=\"0\" class=\"lazyload\" data-src=\"https://cdn.myanimelist.net/r/50x70/images/anime/1634/116782.jpg?s=f3e813705fd0d84678835c9f3d36f3dd\" data-srcset=\"https://cdn.myanimelist.net/r/50x70/images/anime/1634/116782.jpg?s=f3e813705fd0d84678835c9f3d36f3dd 1x, https://cdn.myanimelist.net/r/100x140/images/anime/1634/116782.jpg?s=23f39dc785a475b0233012eb5fe1aebd 2x\" height=\"70\" width=\"50\"/>\n",
       " </a>\n",
       " <div class=\"detail\"><div id=\"area40434\">\n",
       " <div class=\"hoverinfo\" id=\"info40434\" rel=\"a40434\"></div>\n",
       " </div>\n",
       " <div class=\"di-ib clearfix\"><h3 class=\"hoverinfo_trigger fl-l fs14 fw-b anime_ranking_h3\"><a href=\"https://myanimelist.net/anime/40434/Mo_Dao_Zu_Shi__Wanjie_Pian\" id=\"#area40434\" rel=\"#info40434\">Mo Dao Zu Shi: Wanjie Pian</a></h3><div class=\"icon-watch-pv2\"><a class=\"mal-icon ml8 ga-click\" href=\"https://myanimelist.net/anime/40434/Mo_Dao_Zu_Shi__Wanjie_Pian/video\" title=\"Watch Promotional Video\"><i class=\"malicon malicon-movie-pv\"></i></a></div></div><br/><div class=\"information di-ib mt4\">\n",
       "         ONA (12 eps)<br/>\n",
       "         Aug 2021 - Oct 2021<br/>\n",
       "         73,045 members\n",
       "       </div></div>\n",
       " </td>\n",
       " <td class=\"score ac fs14\"><div class=\"js-top-ranking-score-col di-ib al\"><i class=\"icon-score-star fa-solid fa-star mr4 on\"></i><span class=\"text on score-label score-8\">8.55</span></div>\n",
       " </td>\n",
       " <td class=\"your-score ac fs14\">\n",
       " <div class=\"js-top-ranking-your-score-col di-ib al\"> <a class=\"\" href=\"https://myanimelist.net/login.php?error=login_required&amp;from=%2Ftopanime.php%3Flimit%3D50\"><i class=\"icon-score-star fa-solid fa-star mr4\"></i><span class=\"text score-label score-na\">N/A</span></a>\n",
       " </div>\n",
       " </td>\n",
       " <td class=\"status ac\"> <a class=\"btn-addEdit-large btn-anime-watch-status js-anime-watch-status notinmylist\" href=\"https://myanimelist.net/login.php?error=login_required&amp;from=%2Ftopanime.php%3Flimit%3D50\"><i class=\"fa-solid fa-square-plus-o mr4\"></i>Add to list</a>\n",
       " </td>\n",
       " </tr>,\n",
       " <tr class=\"ranking-list\">\n",
       " <td class=\"rank ac\" valign=\"top\">\n",
       " <span class=\"lightLink top-anime-rank-text rank2\">99</span>\n",
       " </td>\n",
       " <td class=\"title al va-t word-break\">\n",
       " <a class=\"hoverinfo_trigger fl-l ml12 mr8\" href=\"https://myanimelist.net/anime/32/Neon_Genesis_Evangelion__The_End_of_Evangelion\" id=\"#area32\" rel=\"#info32\">\n",
       " <img alt=\"Anime: Neon Genesis Evangelion: The End of Evangelion\" border=\"0\" class=\"lazyload\" data-src=\"https://cdn.myanimelist.net/r/50x70/images/anime/1404/98182.jpg?s=890ec3587370861a797eb6b38b2ef21a\" data-srcset=\"https://cdn.myanimelist.net/r/50x70/images/anime/1404/98182.jpg?s=890ec3587370861a797eb6b38b2ef21a 1x, https://cdn.myanimelist.net/r/100x140/images/anime/1404/98182.jpg?s=98628f236cf7dbac1e0b6eb6d0615aa5 2x\" height=\"70\" width=\"50\"/>\n",
       " </a>\n",
       " <div class=\"detail\"><div id=\"area32\">\n",
       " <div class=\"hoverinfo\" id=\"info32\" rel=\"a32\"></div>\n",
       " </div>\n",
       " <div class=\"di-ib clearfix\"><h3 class=\"hoverinfo_trigger fl-l fs14 fw-b anime_ranking_h3\"><a href=\"https://myanimelist.net/anime/32/Neon_Genesis_Evangelion__The_End_of_Evangelion\" id=\"#area32\" rel=\"#info32\">Neon Genesis Evangelion: The End of Evangelion</a></h3><div class=\"icon-watch-pv2\"><a class=\"mal-icon ml8 ga-click\" href=\"https://myanimelist.net/anime/32/Neon_Genesis_Evangelion__The_End_of_Evangelion/video\" title=\"Watch Promotional Video\"><i class=\"malicon malicon-movie-pv\"></i></a></div></div><br/><div class=\"information di-ib mt4\">\n",
       "         Movie (1 eps)<br/>\n",
       "         Jul 1997 - Jul 1997<br/>\n",
       "         883,401 members\n",
       "       </div></div>\n",
       " </td>\n",
       " <td class=\"score ac fs14\"><div class=\"js-top-ranking-score-col di-ib al\"><i class=\"icon-score-star fa-solid fa-star mr4 on\"></i><span class=\"text on score-label score-8\">8.55</span></div>\n",
       " </td>\n",
       " <td class=\"your-score ac fs14\">\n",
       " <div class=\"js-top-ranking-your-score-col di-ib al\"> <a class=\"\" href=\"https://myanimelist.net/login.php?error=login_required&amp;from=%2Ftopanime.php%3Flimit%3D50\"><i class=\"icon-score-star fa-solid fa-star mr4\"></i><span class=\"text score-label score-na\">N/A</span></a>\n",
       " </div>\n",
       " </td>\n",
       " <td class=\"status ac\"> <a class=\"btn-addEdit-large btn-anime-watch-status js-anime-watch-status notinmylist\" href=\"https://myanimelist.net/login.php?error=login_required&amp;from=%2Ftopanime.php%3Flimit%3D50\"><i class=\"fa-solid fa-square-plus-o mr4\"></i>Add to list</a>\n",
       " </td>\n",
       " </tr>,\n",
       " <tr class=\"ranking-list\">\n",
       " <td class=\"rank ac\" valign=\"top\">\n",
       " <span class=\"lightLink top-anime-rank-text rank3\">100</span>\n",
       " </td>\n",
       " <td class=\"title al va-t word-break\">\n",
       " <a class=\"hoverinfo_trigger fl-l ml12 mr8\" href=\"https://myanimelist.net/anime/40664/Shoujo☆Kageki_Revue_Starlight_Movie\" id=\"#area40664\" rel=\"#info40664\">\n",
       " <img alt=\"Anime: Shoujo☆Kageki Revue Starlight Movie\" border=\"0\" class=\"lazyload\" data-src=\"https://cdn.myanimelist.net/r/50x70/images/anime/1655/114440.jpg?s=ab83f4bf2fe34fb7e5b3f677456f6874\" data-srcset=\"https://cdn.myanimelist.net/r/50x70/images/anime/1655/114440.jpg?s=ab83f4bf2fe34fb7e5b3f677456f6874 1x, https://cdn.myanimelist.net/r/100x140/images/anime/1655/114440.jpg?s=8bc5d72a0b090e09496c5e4716a23aac 2x\" height=\"70\" width=\"50\"/>\n",
       " </a>\n",
       " <div class=\"detail\"><div id=\"area40664\">\n",
       " <div class=\"hoverinfo\" id=\"info40664\" rel=\"a40664\"></div>\n",
       " </div>\n",
       " <div class=\"di-ib clearfix\"><h3 class=\"hoverinfo_trigger fl-l fs14 fw-b anime_ranking_h3\"><a href=\"https://myanimelist.net/anime/40664/Shoujo☆Kageki_Revue_Starlight_Movie\" id=\"#area40664\" rel=\"#info40664\">Shoujo☆Kageki Revue Starlight Movie</a></h3><div class=\"icon-watch-pv2\"><a class=\"mal-icon ml8 ga-click\" href=\"https://myanimelist.net/anime/40664/Shoujo%E2%98%86Kageki_Revue_Starlight_Movie/video\" title=\"Watch Promotional Video\"><i class=\"malicon malicon-movie-pv\"></i></a></div></div><br/><div class=\"information di-ib mt4\">\n",
       "         Movie (1 eps)<br/>\n",
       "         Jun 2021 - Jun 2021<br/>\n",
       "         16,462 members\n",
       "       </div></div>\n",
       " </td>\n",
       " <td class=\"score ac fs14\"><div class=\"js-top-ranking-score-col di-ib al\"><i class=\"icon-score-star fa-solid fa-star mr4 on\"></i><span class=\"text on score-label score-8\">8.55</span></div>\n",
       " </td>\n",
       " <td class=\"your-score ac fs14\">\n",
       " <div class=\"js-top-ranking-your-score-col di-ib al\"> <a class=\"\" href=\"https://myanimelist.net/login.php?error=login_required&amp;from=%2Ftopanime.php%3Flimit%3D50\"><i class=\"icon-score-star fa-solid fa-star mr4\"></i><span class=\"text score-label score-na\">N/A</span></a>\n",
       " </div>\n",
       " </td>\n",
       " <td class=\"status ac\"> <a class=\"btn-addEdit-large btn-anime-watch-status js-anime-watch-status notinmylist\" href=\"https://myanimelist.net/login.php?error=login_required&amp;from=%2Ftopanime.php%3Flimit%3D50\"><i class=\"fa-solid fa-square-plus-o mr4\"></i>Add to list</a>\n",
       " </td>\n",
       " </tr>]"
      ]
     },
     "execution_count": 104,
     "metadata": {},
     "output_type": "execute_result"
    }
   ],
   "source": [
    "anime_tags"
   ]
  },
  {
   "cell_type": "markdown",
   "id": "2ce07495",
   "metadata": {},
   "source": [
    "## Extracting Ranks"
   ]
  },
  {
   "cell_type": "code",
   "execution_count": 105,
   "id": "a965f363",
   "metadata": {},
   "outputs": [],
   "source": [
    "# Extract rankings\n",
    "ranks_html = parser.select(\"td[class='rank ac']\")"
   ]
  },
  {
   "cell_type": "code",
   "execution_count": 106,
   "id": "5c262a7b",
   "metadata": {},
   "outputs": [],
   "source": [
    "ranks = [rank.text.strip() for rank in ranks_html]"
   ]
  },
  {
   "cell_type": "code",
   "execution_count": 107,
   "id": "5fd71720",
   "metadata": {},
   "outputs": [
    {
     "name": "stdout",
     "output_type": "stream",
     "text": [
      "['51', '52', '53', '54', '55', '56', '57', '58', '59', '60', '61', '62', '63', '64', '65', '66', '67', '68', '69', '70', '71', '72', '73', '74', '75', '76', '77', '78', '79', '80', '81', '82', '83', '84', '85', '86', '87', '88', '89', '90', '91', '92', '93', '94', '95', '96', '97', '98', '99', '100']\n"
     ]
    }
   ],
   "source": [
    "print(ranks)"
   ]
  },
  {
   "cell_type": "code",
   "execution_count": 108,
   "id": "d5a937f8",
   "metadata": {},
   "outputs": [
    {
     "data": {
      "text/plain": [
       "<td class=\"title al va-t word-break\">\n",
       "<a class=\"hoverinfo_trigger fl-l ml12 mr8\" href=\"https://myanimelist.net/anime/1575/Code_Geass__Hangyaku_no_Lelouch\" id=\"#area1575\" rel=\"#info1575\">\n",
       "<img alt=\"Anime: Code Geass: Hangyaku no Lelouch\" border=\"0\" class=\"lazyload\" data-src=\"https://cdn.myanimelist.net/r/50x70/images/anime/1032/135088.jpg?s=b67496ea440a61c0d7ac14173e0bd6e0\" data-srcset=\"https://cdn.myanimelist.net/r/50x70/images/anime/1032/135088.jpg?s=b67496ea440a61c0d7ac14173e0bd6e0 1x, https://cdn.myanimelist.net/r/100x140/images/anime/1032/135088.jpg?s=8b895bc4ead0cfc55ccfc813ba627926 2x\" height=\"70\" width=\"50\">\n",
       "</img></a>\n",
       "<div class=\"detail\"><div id=\"area1575\">\n",
       "<div class=\"hoverinfo\" id=\"info1575\" rel=\"a1575\"></div>\n",
       "</div>\n",
       "<div class=\"di-ib clearfix\"><h3 class=\"hoverinfo_trigger fl-l fs14 fw-b anime_ranking_h3\"><a href=\"https://myanimelist.net/anime/1575/Code_Geass__Hangyaku_no_Lelouch\" id=\"#area1575\" rel=\"#info1575\">Code Geass: Hangyaku no Lelouch</a></h3><div class=\"icon-watch2\"><a class=\"mal-icon ml8 ga-click\" href=\"https://myanimelist.net/anime/1575/Code_Geass__Hangyaku_no_Lelouch/video\" title=\"Watch Episode Video\"><i class=\"malicon malicon-movie-episode\"></i></a></div></div><br/><div class=\"information di-ib mt4\">\n",
       "        TV (25 eps)<br/>\n",
       "        Oct 2006 - Jul 2007<br/>\n",
       "        2,158,686 members\n",
       "      </div></div>\n",
       "</td>"
      ]
     },
     "execution_count": 108,
     "metadata": {},
     "output_type": "execute_result"
    }
   ],
   "source": [
    "parser.select(\"td[class='title al va-t word-break']\")[0]"
   ]
  },
  {
   "cell_type": "markdown",
   "id": "0b27bf89",
   "metadata": {},
   "source": [
    "## Extracting Anime page links"
   ]
  },
  {
   "cell_type": "code",
   "execution_count": 109,
   "id": "5bc699cf",
   "metadata": {},
   "outputs": [],
   "source": [
    "anime_info = parser.select(\"td[class='title al va-t word-break']\")"
   ]
  },
  {
   "cell_type": "code",
   "execution_count": 110,
   "id": "8ff033b5",
   "metadata": {},
   "outputs": [],
   "source": [
    "# # Extract url link\n",
    "# anime_info[0].find('a')['href']"
   ]
  },
  {
   "cell_type": "code",
   "execution_count": 111,
   "id": "8fb5f9af",
   "metadata": {},
   "outputs": [],
   "source": [
    "# Extract url links for all anime\n",
    "def extract_anime_links(a_tags):\n",
    "    links = []\n",
    "    for tag in a_tags:\n",
    "        tag = str(tag)\n",
    "        pattern = r'href=(\\S+)'\n",
    "        link = re.findall(pattern, tag)[0][1:-1]\n",
    "        links.append(link)\n",
    "        \n",
    "    return links"
   ]
  },
  {
   "cell_type": "code",
   "execution_count": 112,
   "id": "a78c857c",
   "metadata": {},
   "outputs": [],
   "source": [
    "a_tags = [info.a for info in anime_info]"
   ]
  },
  {
   "cell_type": "code",
   "execution_count": 113,
   "id": "957ad4f8",
   "metadata": {},
   "outputs": [],
   "source": [
    "anime_links = extract_anime_links(a_tags)"
   ]
  },
  {
   "cell_type": "code",
   "execution_count": 114,
   "id": "f6d83f14",
   "metadata": {},
   "outputs": [
    {
     "data": {
      "text/plain": [
       "['https://myanimelist.net/anime/1575/Code_Geass__Hangyaku_no_Lelouch',\n",
       " 'https://myanimelist.net/anime/21939/Mushishi_Zoku_Shou',\n",
       " 'https://myanimelist.net/anime/45576/Mushoku_Tensei__Isekai_Ittara_Honki_Dasu_Part_2',\n",
       " 'https://myanimelist.net/anime/44/Rurouni_Kenshin__Meiji_Kenkaku_Romantan_-_Tsuioku-hen',\n",
       " 'https://myanimelist.net/anime/46102/Odd_Taxi',\n",
       " 'https://myanimelist.net/anime/21/One_Piece',\n",
       " 'https://myanimelist.net/anime/245/Great_Teacher_Onizuka',\n",
       " 'https://myanimelist.net/anime/33050/Fate_stay_night_Movie__Heavens_Feel_-_III_Spring_Song',\n",
       " 'https://myanimelist.net/anime/164/Mononoke_Hime',\n",
       " 'https://myanimelist.net/anime/45649/The_First_Slam_Dunk']"
      ]
     },
     "execution_count": 114,
     "metadata": {},
     "output_type": "execute_result"
    }
   ],
   "source": [
    "anime_links[:10]"
   ]
  },
  {
   "cell_type": "markdown",
   "id": "a3dc53dd",
   "metadata": {},
   "source": [
    "## Extracting Anime images"
   ]
  },
  {
   "cell_type": "code",
   "execution_count": 115,
   "id": "55fbab2c",
   "metadata": {},
   "outputs": [],
   "source": [
    "# # Extract anime image links\n",
    "# anime_info[0].find('img')['data-srcset'].split(', ')[1][:-3]"
   ]
  },
  {
   "cell_type": "code",
   "execution_count": 116,
   "id": "87dca127",
   "metadata": {},
   "outputs": [],
   "source": [
    "# Extract image links for all anime\n",
    "def extract_img_links(img_tags):\n",
    "    links = []\n",
    "    for tag in img_tags:\n",
    "        tag = str(tag)\n",
    "        pattern = r'https\\S+'\n",
    "        link = re.findall(pattern, tag)[2]\n",
    "        links.append(link)\n",
    "        \n",
    "    return links"
   ]
  },
  {
   "cell_type": "code",
   "execution_count": 117,
   "id": "5053aba8",
   "metadata": {},
   "outputs": [],
   "source": [
    "img_tags = [info.img for info in anime_info]"
   ]
  },
  {
   "cell_type": "code",
   "execution_count": 118,
   "id": "f4e7a8aa",
   "metadata": {},
   "outputs": [],
   "source": [
    "img_links = extract_img_links(img_tags)"
   ]
  },
  {
   "cell_type": "code",
   "execution_count": 119,
   "id": "53b0a52f",
   "metadata": {},
   "outputs": [
    {
     "data": {
      "text/plain": [
       "['https://cdn.myanimelist.net/r/100x140/images/anime/1032/135088.jpg?s=8b895bc4ead0cfc55ccfc813ba627926',\n",
       " 'https://cdn.myanimelist.net/r/100x140/images/anime/13/58533.jpg?s=8b4c39ac1694d8b1ad2a1dcc504691f6',\n",
       " 'https://cdn.myanimelist.net/r/100x140/images/anime/1028/117777.jpg?s=51c70b8d3ded730debc843006effa91c',\n",
       " 'https://cdn.myanimelist.net/r/100x140/images/anime/1391/120839.jpg?s=bd43f31022c54683198af846655f6b3e',\n",
       " 'https://cdn.myanimelist.net/r/100x140/images/anime/1981/113348.jpg?s=9d3e92002db0e698516450efb42e4e59',\n",
       " 'https://cdn.myanimelist.net/r/100x140/images/anime/6/73245.jpg?s=81e2039193c1feb8d0d41bda2a3841a8',\n",
       " 'https://cdn.myanimelist.net/r/100x140/images/anime/13/11460.jpg?s=8134d33ff056d87cfa65345aaec756f9',\n",
       " 'https://cdn.myanimelist.net/r/100x140/images/anime/1142/112957.jpg?s=5def2155b13d757c74eeee6845c0a871',\n",
       " 'https://cdn.myanimelist.net/r/100x140/images/anime/7/75919.jpg?s=ec4a31ebc5b430efe3ed391d96c228a3',\n",
       " 'https://cdn.myanimelist.net/r/100x140/images/anime/1745/129284.jpg?s=227145e81dea051b0a5f60ee0aaa93c3']"
      ]
     },
     "execution_count": 119,
     "metadata": {},
     "output_type": "execute_result"
    }
   ],
   "source": [
    "img_links[:10]"
   ]
  },
  {
   "cell_type": "markdown",
   "id": "bd6fbaa3",
   "metadata": {},
   "source": [
    "## Getting Anime info"
   ]
  },
  {
   "cell_type": "code",
   "execution_count": 120,
   "id": "61d2bd0b",
   "metadata": {},
   "outputs": [
    {
     "data": {
      "text/plain": [
       "'\\n\\n\\n\\n\\n\\n\\nCode Geass: Hangyaku no Lelouch\\n        TV (25 eps)\\n        Oct 2006 - Jul 2007\\n        2,158,686 members\\n      \\n'"
      ]
     },
     "execution_count": 120,
     "metadata": {},
     "output_type": "execute_result"
    }
   ],
   "source": [
    "anime_info[0].text"
   ]
  },
  {
   "cell_type": "code",
   "execution_count": 121,
   "id": "f190569a",
   "metadata": {},
   "outputs": [],
   "source": [
    "# Create list of all anime with their listed info\n",
    "anime_list = list(info.text.strip().split('\\n') for info in anime_info)"
   ]
  },
  {
   "cell_type": "code",
   "execution_count": 122,
   "id": "b65d970f",
   "metadata": {},
   "outputs": [],
   "source": [
    "def clean_list(anime_list):\n",
    "    for anime in anime_list:\n",
    "        for i, x in enumerate(anime):\n",
    "            anime[i] = x.strip()"
   ]
  },
  {
   "cell_type": "code",
   "execution_count": 123,
   "id": "47405f57",
   "metadata": {},
   "outputs": [
    {
     "data": {
      "text/plain": [
       "[['Code Geass: Hangyaku no Lelouch',\n",
       "  'TV (25 eps)',\n",
       "  'Oct 2006 - Jul 2007',\n",
       "  '2,158,686 members'],\n",
       " ['Mushishi Zoku Shou',\n",
       "  'TV (10 eps)',\n",
       "  'Apr 2014 - Jun 2014',\n",
       "  '289,087 members']]"
      ]
     },
     "execution_count": 123,
     "metadata": {},
     "output_type": "execute_result"
    }
   ],
   "source": [
    "clean_list(anime_list)\n",
    "anime_list[:2]"
   ]
  },
  {
   "cell_type": "markdown",
   "id": "723b334f",
   "metadata": {},
   "source": [
    "## Getting scores or ratings"
   ]
  },
  {
   "cell_type": "code",
   "execution_count": 124,
   "id": "fdf16e28",
   "metadata": {},
   "outputs": [
    {
     "data": {
      "text/plain": [
       "<td class=\"score ac fs14\"><div class=\"js-top-ranking-score-col di-ib al\"><i class=\"icon-score-star fa-solid fa-star mr4 on\"></i><span class=\"text on score-label score-8\">8.70</span></div>\n",
       "</td>"
      ]
     },
     "execution_count": 124,
     "metadata": {},
     "output_type": "execute_result"
    }
   ],
   "source": [
    "parser.select(\"td[class='score ac fs14']\")[1]"
   ]
  },
  {
   "cell_type": "code",
   "execution_count": 125,
   "id": "475daac2",
   "metadata": {},
   "outputs": [],
   "source": [
    "score_tags = parser.select(\"td[class='score ac fs14']\")"
   ]
  },
  {
   "cell_type": "code",
   "execution_count": 126,
   "id": "535bf553",
   "metadata": {},
   "outputs": [],
   "source": [
    "# Extract scores of individual anime\n",
    "anime_scores = [score.text.strip() for score in score_tags]"
   ]
  },
  {
   "cell_type": "code",
   "execution_count": 127,
   "id": "df600137",
   "metadata": {
    "scrolled": true
   },
   "outputs": [
    {
     "data": {
      "text/plain": [
       "['8.70', '8.70', '8.70', '8.70', '8.69']"
      ]
     },
     "execution_count": 127,
     "metadata": {},
     "output_type": "execute_result"
    }
   ],
   "source": [
    "anime_scores[:5]"
   ]
  },
  {
   "cell_type": "code",
   "execution_count": 128,
   "id": "faabd17e",
   "metadata": {},
   "outputs": [],
   "source": [
    "# Get titles of all anime\n",
    "anime_titles = [l[0] for l in anime_list]"
   ]
  },
  {
   "cell_type": "code",
   "execution_count": 129,
   "id": "caa48fd3",
   "metadata": {},
   "outputs": [
    {
     "data": {
      "text/plain": [
       "['Code Geass: Hangyaku no Lelouch',\n",
       " 'Mushishi Zoku Shou',\n",
       " 'Mushoku Tensei: Isekai Ittara Honki Dasu Part 2',\n",
       " 'Rurouni Kenshin: Meiji Kenkaku Romantan - Tsuioku-hen',\n",
       " 'Odd Taxi']"
      ]
     },
     "execution_count": 129,
     "metadata": {},
     "output_type": "execute_result"
    }
   ],
   "source": [
    "anime_titles[:5]"
   ]
  },
  {
   "cell_type": "markdown",
   "id": "5f72b16a",
   "metadata": {},
   "source": [
    "## Displaying Anime info with images"
   ]
  },
  {
   "cell_type": "code",
   "execution_count": 130,
   "id": "7808cfac",
   "metadata": {},
   "outputs": [],
   "source": [
    "# Display info for top 50 anime\n",
    "def display_anime(title_list, img_list, score_list):\n",
    "    for i, (title, img_url, score) in enumerate(zip(title_list, img_list, score_list)):\n",
    "        print(f\"Rank {i+1}\")\n",
    "        print(title)\n",
    "        display(Image(url=img_url, width=100))\n",
    "        print(f\"Score {score}\")\n",
    "        print('\\n'+'='*50)"
   ]
  },
  {
   "cell_type": "code",
   "execution_count": 131,
   "id": "d629733d",
   "metadata": {
    "scrolled": true
   },
   "outputs": [
    {
     "name": "stdout",
     "output_type": "stream",
     "text": [
      "Rank 1\n",
      "Code Geass: Hangyaku no Lelouch\n"
     ]
    },
    {
     "data": {
      "text/html": [
       "<img src=\"https://cdn.myanimelist.net/r/100x140/images/anime/1032/135088.jpg?s=8b895bc4ead0cfc55ccfc813ba627926\" width=\"100\"/>"
      ],
      "text/plain": [
       "<IPython.core.display.Image object>"
      ]
     },
     "metadata": {},
     "output_type": "display_data"
    },
    {
     "name": "stdout",
     "output_type": "stream",
     "text": [
      "Score 8.70\n",
      "\n",
      "==================================================\n",
      "Rank 2\n",
      "Mushishi Zoku Shou\n"
     ]
    },
    {
     "data": {
      "text/html": [
       "<img src=\"https://cdn.myanimelist.net/r/100x140/images/anime/13/58533.jpg?s=8b4c39ac1694d8b1ad2a1dcc504691f6\" width=\"100\"/>"
      ],
      "text/plain": [
       "<IPython.core.display.Image object>"
      ]
     },
     "metadata": {},
     "output_type": "display_data"
    },
    {
     "name": "stdout",
     "output_type": "stream",
     "text": [
      "Score 8.70\n",
      "\n",
      "==================================================\n",
      "Rank 3\n",
      "Mushoku Tensei: Isekai Ittara Honki Dasu Part 2\n"
     ]
    },
    {
     "data": {
      "text/html": [
       "<img src=\"https://cdn.myanimelist.net/r/100x140/images/anime/1028/117777.jpg?s=51c70b8d3ded730debc843006effa91c\" width=\"100\"/>"
      ],
      "text/plain": [
       "<IPython.core.display.Image object>"
      ]
     },
     "metadata": {},
     "output_type": "display_data"
    },
    {
     "name": "stdout",
     "output_type": "stream",
     "text": [
      "Score 8.70\n",
      "\n",
      "==================================================\n",
      "Rank 4\n",
      "Rurouni Kenshin: Meiji Kenkaku Romantan - Tsuioku-hen\n"
     ]
    },
    {
     "data": {
      "text/html": [
       "<img src=\"https://cdn.myanimelist.net/r/100x140/images/anime/1391/120839.jpg?s=bd43f31022c54683198af846655f6b3e\" width=\"100\"/>"
      ],
      "text/plain": [
       "<IPython.core.display.Image object>"
      ]
     },
     "metadata": {},
     "output_type": "display_data"
    },
    {
     "name": "stdout",
     "output_type": "stream",
     "text": [
      "Score 8.70\n",
      "\n",
      "==================================================\n",
      "Rank 5\n",
      "Odd Taxi\n"
     ]
    },
    {
     "data": {
      "text/html": [
       "<img src=\"https://cdn.myanimelist.net/r/100x140/images/anime/1981/113348.jpg?s=9d3e92002db0e698516450efb42e4e59\" width=\"100\"/>"
      ],
      "text/plain": [
       "<IPython.core.display.Image object>"
      ]
     },
     "metadata": {},
     "output_type": "display_data"
    },
    {
     "name": "stdout",
     "output_type": "stream",
     "text": [
      "Score 8.69\n",
      "\n",
      "==================================================\n",
      "Rank 6\n",
      "One Piece\n"
     ]
    },
    {
     "data": {
      "text/html": [
       "<img src=\"https://cdn.myanimelist.net/r/100x140/images/anime/6/73245.jpg?s=81e2039193c1feb8d0d41bda2a3841a8\" width=\"100\"/>"
      ],
      "text/plain": [
       "<IPython.core.display.Image object>"
      ]
     },
     "metadata": {},
     "output_type": "display_data"
    },
    {
     "name": "stdout",
     "output_type": "stream",
     "text": [
      "Score 8.69\n",
      "\n",
      "==================================================\n",
      "Rank 7\n",
      "Great Teacher Onizuka\n"
     ]
    },
    {
     "data": {
      "text/html": [
       "<img src=\"https://cdn.myanimelist.net/r/100x140/images/anime/13/11460.jpg?s=8134d33ff056d87cfa65345aaec756f9\" width=\"100\"/>"
      ],
      "text/plain": [
       "<IPython.core.display.Image object>"
      ]
     },
     "metadata": {},
     "output_type": "display_data"
    },
    {
     "name": "stdout",
     "output_type": "stream",
     "text": [
      "Score 8.69\n",
      "\n",
      "==================================================\n",
      "Rank 8\n",
      "Fate/stay night Movie: Heaven's Feel - III. Spring Song\n"
     ]
    },
    {
     "data": {
      "text/html": [
       "<img src=\"https://cdn.myanimelist.net/r/100x140/images/anime/1142/112957.jpg?s=5def2155b13d757c74eeee6845c0a871\" width=\"100\"/>"
      ],
      "text/plain": [
       "<IPython.core.display.Image object>"
      ]
     },
     "metadata": {},
     "output_type": "display_data"
    },
    {
     "name": "stdout",
     "output_type": "stream",
     "text": [
      "Score 8.68\n",
      "\n",
      "==================================================\n",
      "Rank 9\n",
      "Mononoke Hime\n"
     ]
    },
    {
     "data": {
      "text/html": [
       "<img src=\"https://cdn.myanimelist.net/r/100x140/images/anime/7/75919.jpg?s=ec4a31ebc5b430efe3ed391d96c228a3\" width=\"100\"/>"
      ],
      "text/plain": [
       "<IPython.core.display.Image object>"
      ]
     },
     "metadata": {},
     "output_type": "display_data"
    },
    {
     "name": "stdout",
     "output_type": "stream",
     "text": [
      "Score 8.67\n",
      "\n",
      "==================================================\n",
      "Rank 10\n",
      "The First Slam Dunk\n"
     ]
    },
    {
     "data": {
      "text/html": [
       "<img src=\"https://cdn.myanimelist.net/r/100x140/images/anime/1745/129284.jpg?s=227145e81dea051b0a5f60ee0aaa93c3\" width=\"100\"/>"
      ],
      "text/plain": [
       "<IPython.core.display.Image object>"
      ]
     },
     "metadata": {},
     "output_type": "display_data"
    },
    {
     "name": "stdout",
     "output_type": "stream",
     "text": [
      "Score 8.67\n",
      "\n",
      "==================================================\n",
      "Rank 11\n",
      "Violet Evergarden\n"
     ]
    },
    {
     "data": {
      "text/html": [
       "<img src=\"https://cdn.myanimelist.net/r/100x140/images/anime/1795/95088.jpg?s=daeb3d4de08db6c56e879eba3de19c36\" width=\"100\"/>"
      ],
      "text/plain": [
       "<IPython.core.display.Image object>"
      ]
     },
     "metadata": {},
     "output_type": "display_data"
    },
    {
     "name": "stdout",
     "output_type": "stream",
     "text": [
      "Score 8.67\n",
      "\n",
      "==================================================\n",
      "Rank 12\n",
      "Hajime no Ippo: New Challenger\n"
     ]
    },
    {
     "data": {
      "text/html": [
       "<img src=\"https://cdn.myanimelist.net/r/100x140/images/anime/8/56617.jpg?s=c9e62681de46d5ec39a4c9cc8f222e97\" width=\"100\"/>"
      ],
      "text/plain": [
       "<IPython.core.display.Image object>"
      ]
     },
     "metadata": {},
     "output_type": "display_data"
    },
    {
     "name": "stdout",
     "output_type": "stream",
     "text": [
      "Score 8.66\n",
      "\n",
      "==================================================\n",
      "Rank 13\n",
      "Howl no Ugoku Shiro\n"
     ]
    },
    {
     "data": {
      "text/html": [
       "<img src=\"https://cdn.myanimelist.net/r/100x140/images/anime/5/75810.jpg?s=a6c1acf59965f7e50ac637d018a734f0\" width=\"100\"/>"
      ],
      "text/plain": [
       "<IPython.core.display.Image object>"
      ]
     },
     "metadata": {},
     "output_type": "display_data"
    },
    {
     "name": "stdout",
     "output_type": "stream",
     "text": [
      "Score 8.66\n",
      "\n",
      "==================================================\n",
      "Rank 14\n",
      "Made in Abyss\n"
     ]
    },
    {
     "data": {
      "text/html": [
       "<img src=\"https://cdn.myanimelist.net/r/100x140/images/anime/6/86733.jpg?s=ff773aca2bed4fe79efd6a5b6ff0e911\" width=\"100\"/>"
      ],
      "text/plain": [
       "<IPython.core.display.Image object>"
      ]
     },
     "metadata": {},
     "output_type": "display_data"
    },
    {
     "name": "stdout",
     "output_type": "stream",
     "text": [
      "Score 8.66\n",
      "\n",
      "==================================================\n",
      "Rank 15\n",
      "Made in Abyss: Retsujitsu no Ougonkyou\n"
     ]
    },
    {
     "data": {
      "text/html": [
       "<img src=\"https://cdn.myanimelist.net/r/100x140/images/anime/1864/122519.jpg?s=bc65b762aa0a5e87fdc0f8bc132278ed\" width=\"100\"/>"
      ],
      "text/plain": [
       "<IPython.core.display.Image object>"
      ]
     },
     "metadata": {},
     "output_type": "display_data"
    },
    {
     "name": "stdout",
     "output_type": "stream",
     "text": [
      "Score 8.66\n",
      "\n",
      "==================================================\n",
      "Rank 16\n",
      "Mushishi\n"
     ]
    },
    {
     "data": {
      "text/html": [
       "<img src=\"https://cdn.myanimelist.net/r/100x140/images/anime/2/73862.jpg?s=bd3f3140d4768f5f31ac5d5539056068\" width=\"100\"/>"
      ],
      "text/plain": [
       "<IPython.core.display.Image object>"
      ]
     },
     "metadata": {},
     "output_type": "display_data"
    },
    {
     "name": "stdout",
     "output_type": "stream",
     "text": [
      "Score 8.66\n",
      "\n",
      "==================================================\n",
      "Rank 17\n",
      "Shigatsu wa Kimi no Uso\n"
     ]
    },
    {
     "data": {
      "text/html": [
       "<img src=\"https://cdn.myanimelist.net/r/100x140/images/anime/3/67177.jpg?s=4864d877e3763400abe924cb27b82cc2\" width=\"100\"/>"
      ],
      "text/plain": [
       "<IPython.core.display.Image object>"
      ]
     },
     "metadata": {},
     "output_type": "display_data"
    },
    {
     "name": "stdout",
     "output_type": "stream",
     "text": [
      "Score 8.65\n",
      "\n",
      "==================================================\n",
      "Rank 18\n",
      "Natsume Yuujinchou Shi\n"
     ]
    },
    {
     "data": {
      "text/html": [
       "<img src=\"https://cdn.myanimelist.net/r/100x140/images/anime/3/37449.jpg?s=5feb674d132cc807e2fb1bb2a8689e62\" width=\"100\"/>"
      ],
      "text/plain": [
       "<IPython.core.display.Image object>"
      ]
     },
     "metadata": {},
     "output_type": "display_data"
    },
    {
     "name": "stdout",
     "output_type": "stream",
     "text": [
      "Score 8.64\n",
      "\n",
      "==================================================\n",
      "Rank 19\n",
      "Jujutsu Kaisen\n"
     ]
    },
    {
     "data": {
      "text/html": [
       "<img src=\"https://cdn.myanimelist.net/r/100x140/images/anime/1171/109222.jpg?s=d5f93547fb6fd4d63dffe58223c77723\" width=\"100\"/>"
      ],
      "text/plain": [
       "<IPython.core.display.Image object>"
      ]
     },
     "metadata": {},
     "output_type": "display_data"
    },
    {
     "name": "stdout",
     "output_type": "stream",
     "text": [
      "Score 8.64\n",
      "\n",
      "==================================================\n",
      "Rank 20\n",
      "Kaguya-sama wa Kokurasetai? Tensai-tachi no Renai Zunousen\n"
     ]
    },
    {
     "data": {
      "text/html": [
       "<img src=\"https://cdn.myanimelist.net/r/100x140/images/anime/1764/106659.jpg?s=31550f89f62679c9820095853bb522a6\" width=\"100\"/>"
      ],
      "text/plain": [
       "<IPython.core.display.Image object>"
      ]
     },
     "metadata": {},
     "output_type": "display_data"
    },
    {
     "name": "stdout",
     "output_type": "stream",
     "text": [
      "Score 8.64\n",
      "\n",
      "==================================================\n",
      "Rank 21\n",
      "Haikyuu!! Second Season\n"
     ]
    },
    {
     "data": {
      "text/html": [
       "<img src=\"https://cdn.myanimelist.net/r/100x140/images/anime/9/76662.jpg?s=2ddc449aaa90570dc965ba6d9d348ebc\" width=\"100\"/>"
      ],
      "text/plain": [
       "<IPython.core.display.Image object>"
      ]
     },
     "metadata": {},
     "output_type": "display_data"
    },
    {
     "name": "stdout",
     "output_type": "stream",
     "text": [
      "Score 8.63\n",
      "\n",
      "==================================================\n",
      "Rank 22\n",
      "JoJo no Kimyou na Bouken Part 6: Stone Ocean Part 3\n"
     ]
    },
    {
     "data": {
      "text/html": [
       "<img src=\"https://cdn.myanimelist.net/r/100x140/images/anime/1233/128920.jpg?s=3f550386cd09d405d1e2e1cb0da59fb0\" width=\"100\"/>"
      ],
      "text/plain": [
       "<IPython.core.display.Image object>"
      ]
     },
     "metadata": {},
     "output_type": "display_data"
    },
    {
     "name": "stdout",
     "output_type": "stream",
     "text": [
      "Score 8.63\n",
      "\n",
      "==================================================\n",
      "Rank 23\n",
      "Tengen Toppa Gurren Lagann\n"
     ]
    },
    {
     "data": {
      "text/html": [
       "<img src=\"https://cdn.myanimelist.net/r/100x140/images/anime/4/5123.jpg?s=f9c94dd8af74f4a64e1b814391632263\" width=\"100\"/>"
      ],
      "text/plain": [
       "<IPython.core.display.Image object>"
      ]
     },
     "metadata": {},
     "output_type": "display_data"
    },
    {
     "name": "stdout",
     "output_type": "stream",
     "text": [
      "Score 8.63\n",
      "\n",
      "==================================================\n",
      "Rank 24\n",
      "Made in Abyss Movie 3: Fukaki Tamashii no Reimei\n"
     ]
    },
    {
     "data": {
      "text/html": [
       "<img src=\"https://cdn.myanimelist.net/r/100x140/images/anime/1502/110723.jpg?s=e772b96e543983ab2b0da44ce2b17650\" width=\"100\"/>"
      ],
      "text/plain": [
       "<IPython.core.display.Image object>"
      ]
     },
     "metadata": {},
     "output_type": "display_data"
    },
    {
     "name": "stdout",
     "output_type": "stream",
     "text": [
      "Score 8.63\n",
      "\n",
      "==================================================\n",
      "Rank 25\n",
      "Kimetsu no Yaiba Movie: Mugen Ressha-hen\n"
     ]
    },
    {
     "data": {
      "text/html": [
       "<img src=\"https://cdn.myanimelist.net/r/100x140/images/anime/1704/106947.jpg?s=4aa86a2d3328e85a384df4248126cfdb\" width=\"100\"/>"
      ],
      "text/plain": [
       "<IPython.core.display.Image object>"
      ]
     },
     "metadata": {},
     "output_type": "display_data"
    },
    {
     "name": "stdout",
     "output_type": "stream",
     "text": [
      "Score 8.62\n",
      "\n",
      "==================================================\n",
      "Rank 26\n",
      "Natsume Yuujinchou Roku\n"
     ]
    },
    {
     "data": {
      "text/html": [
       "<img src=\"https://cdn.myanimelist.net/r/100x140/images/anime/6/84416.jpg?s=a98aa65fd3b3ee0e3dca65b46ea34fb4\" width=\"100\"/>"
      ],
      "text/plain": [
       "<IPython.core.display.Image object>"
      ]
     },
     "metadata": {},
     "output_type": "display_data"
    },
    {
     "name": "stdout",
     "output_type": "stream",
     "text": [
      "Score 8.62\n",
      "\n",
      "==================================================\n",
      "Rank 27\n",
      "Ping Pong the Animation\n"
     ]
    },
    {
     "data": {
      "text/html": [
       "<img src=\"https://cdn.myanimelist.net/r/100x140/images/anime/10/58041.jpg?s=1baf7a3027bd98e6ca6c1dd9dcacea01\" width=\"100\"/>"
      ],
      "text/plain": [
       "<IPython.core.display.Image object>"
      ]
     },
     "metadata": {},
     "output_type": "display_data"
    },
    {
     "name": "stdout",
     "output_type": "stream",
     "text": [
      "Score 8.62\n",
      "\n",
      "==================================================\n",
      "Rank 28\n",
      "Shingeki no Kyojin Season 3\n"
     ]
    },
    {
     "data": {
      "text/html": [
       "<img src=\"https://cdn.myanimelist.net/r/100x140/images/anime/1173/92110.jpg?s=1b2dd0a9167d5b66356b4b52ec11753c\" width=\"100\"/>"
      ],
      "text/plain": [
       "<IPython.core.display.Image object>"
      ]
     },
     "metadata": {},
     "output_type": "display_data"
    },
    {
     "name": "stdout",
     "output_type": "stream",
     "text": [
      "Score 8.62\n",
      "\n",
      "==================================================\n",
      "Rank 29\n",
      "Death Note\n"
     ]
    },
    {
     "data": {
      "text/html": [
       "<img src=\"https://cdn.myanimelist.net/r/100x140/images/anime/9/9453.jpg?s=c90aa06a7aeeb91285aab92508edd2a1\" width=\"100\"/>"
      ],
      "text/plain": [
       "<IPython.core.display.Image object>"
      ]
     },
     "metadata": {},
     "output_type": "display_data"
    },
    {
     "name": "stdout",
     "output_type": "stream",
     "text": [
      "Score 8.62\n",
      "\n",
      "==================================================\n",
      "Rank 30\n",
      "Cyberpunk: Edgerunners\n"
     ]
    },
    {
     "data": {
      "text/html": [
       "<img src=\"https://cdn.myanimelist.net/r/100x140/images/anime/1818/126435.jpg?s=16fa94bf2d63246183052392542fe1af\" width=\"100\"/>"
      ],
      "text/plain": [
       "<IPython.core.display.Image object>"
      ]
     },
     "metadata": {},
     "output_type": "display_data"
    },
    {
     "name": "stdout",
     "output_type": "stream",
     "text": [
      "Score 8.61\n",
      "\n",
      "==================================================\n",
      "Rank 31\n",
      "Spy x Family\n"
     ]
    },
    {
     "data": {
      "text/html": [
       "<img src=\"https://cdn.myanimelist.net/r/100x140/images/anime/1441/122795.jpg?s=b78143ebdb28c0046f752655a225774d\" width=\"100\"/>"
      ],
      "text/plain": [
       "<IPython.core.display.Image object>"
      ]
     },
     "metadata": {},
     "output_type": "display_data"
    },
    {
     "name": "stdout",
     "output_type": "stream",
     "text": [
      "Score 8.61\n",
      "\n",
      "==================================================\n",
      "Rank 32\n",
      "Suzumiya Haruhi no Shoushitsu\n"
     ]
    },
    {
     "data": {
      "text/html": [
       "<img src=\"https://cdn.myanimelist.net/r/100x140/images/anime/1248/112352.jpg?s=581f15a13716a9083f1f9a7557e44a72\" width=\"100\"/>"
      ],
      "text/plain": [
       "<IPython.core.display.Image object>"
      ]
     },
     "metadata": {},
     "output_type": "display_data"
    },
    {
     "name": "stdout",
     "output_type": "stream",
     "text": [
      "Score 8.61\n",
      "\n",
      "==================================================\n",
      "Rank 33\n",
      "Evangelion: 3.0+1.0 Thrice Upon a Time\n"
     ]
    },
    {
     "data": {
      "text/html": [
       "<img src=\"https://cdn.myanimelist.net/r/100x140/images/anime/1422/113533.jpg?s=bbcff367f34f75d38507a3e5091f1336\" width=\"100\"/>"
      ],
      "text/plain": [
       "<IPython.core.display.Image object>"
      ]
     },
     "metadata": {},
     "output_type": "display_data"
    },
    {
     "name": "stdout",
     "output_type": "stream",
     "text": [
      "Score 8.60\n",
      "\n",
      "==================================================\n",
      "Rank 34\n",
      "Seishun Buta Yarou wa Yumemiru Shoujo no Yume wo Minai\n"
     ]
    },
    {
     "data": {
      "text/html": [
       "<img src=\"https://cdn.myanimelist.net/r/100x140/images/anime/1613/102179.jpg?s=827c2a8558037a39b3a45f05c61f219a\" width=\"100\"/>"
      ],
      "text/plain": [
       "<IPython.core.display.Image object>"
      ]
     },
     "metadata": {},
     "output_type": "display_data"
    },
    {
     "name": "stdout",
     "output_type": "stream",
     "text": [
      "Score 8.60\n",
      "\n",
      "==================================================\n",
      "Rank 35\n",
      "Mushishi Zoku Shou: Suzu no Shizuku\n"
     ]
    },
    {
     "data": {
      "text/html": [
       "<img src=\"https://cdn.myanimelist.net/r/100x140/images/anime/9/72689.jpg?s=a8f03ad75dc5bb045f9b92ea24f458b4\" width=\"100\"/>"
      ],
      "text/plain": [
       "<IPython.core.display.Image object>"
      ]
     },
     "metadata": {},
     "output_type": "display_data"
    },
    {
     "name": "stdout",
     "output_type": "stream",
     "text": [
      "Score 8.59\n",
      "\n",
      "==================================================\n",
      "Rank 36\n",
      "Hajime no Ippo: Rising\n"
     ]
    },
    {
     "data": {
      "text/html": [
       "<img src=\"https://cdn.myanimelist.net/r/100x140/images/anime/6/56147.jpg?s=0811f5caface8e5ae0d6987776a45899\" width=\"100\"/>"
      ],
      "text/plain": [
       "<IPython.core.display.Image object>"
      ]
     },
     "metadata": {},
     "output_type": "display_data"
    },
    {
     "name": "stdout",
     "output_type": "stream",
     "text": [
      "Score 8.59\n",
      "\n",
      "==================================================\n",
      "Rank 37\n",
      "Chainsaw Man\n"
     ]
    },
    {
     "data": {
      "text/html": [
       "<img src=\"https://cdn.myanimelist.net/r/100x140/images/anime/1806/126216.jpg?s=08178bbae8e24d6a533a7f59ddea9e26\" width=\"100\"/>"
      ],
      "text/plain": [
       "<IPython.core.display.Image object>"
      ]
     },
     "metadata": {},
     "output_type": "display_data"
    },
    {
     "name": "stdout",
     "output_type": "stream",
     "text": [
      "Score 8.58\n",
      "\n",
      "==================================================\n",
      "Rank 38\n",
      "JoJo no Kimyou na Bouken Part 5: Ougon no Kaze\n"
     ]
    },
    {
     "data": {
      "text/html": [
       "<img src=\"https://cdn.myanimelist.net/r/100x140/images/anime/1572/95010.jpg?s=fa9d4dedc7ac3d11c20b7e24e35debef\" width=\"100\"/>"
      ],
      "text/plain": [
       "<IPython.core.display.Image object>"
      ]
     },
     "metadata": {},
     "output_type": "display_data"
    },
    {
     "name": "stdout",
     "output_type": "stream",
     "text": [
      "Score 8.58\n",
      "\n",
      "==================================================\n",
      "Rank 39\n",
      "Ookami Kodomo no Ame to Yuki\n"
     ]
    },
    {
     "data": {
      "text/html": [
       "<img src=\"https://cdn.myanimelist.net/r/100x140/images/anime/9/35721.jpg?s=8447e90edf5c69af409b8483f91a72e9\" width=\"100\"/>"
      ],
      "text/plain": [
       "<IPython.core.display.Image object>"
      ]
     },
     "metadata": {},
     "output_type": "display_data"
    },
    {
     "name": "stdout",
     "output_type": "stream",
     "text": [
      "Score 8.58\n",
      "\n",
      "==================================================\n",
      "Rank 40\n",
      "Kenpuu Denki Berserk\n"
     ]
    },
    {
     "data": {
      "text/html": [
       "<img src=\"https://cdn.myanimelist.net/r/100x140/images/anime/1384/119988.jpg?s=fd2dc921a492620cb9421bd005434fcc\" width=\"100\"/>"
      ],
      "text/plain": [
       "<IPython.core.display.Image object>"
      ]
     },
     "metadata": {},
     "output_type": "display_data"
    },
    {
     "name": "stdout",
     "output_type": "stream",
     "text": [
      "Score 8.57\n",
      "\n",
      "==================================================\n",
      "Rank 41\n",
      "Kizumonogatari II: Nekketsu-hen\n"
     ]
    },
    {
     "data": {
      "text/html": [
       "<img src=\"https://cdn.myanimelist.net/r/100x140/images/anime/1981/112812.jpg?s=4e049ab01e189ca078eaccc3a91f84d3\" width=\"100\"/>"
      ],
      "text/plain": [
       "<IPython.core.display.Image object>"
      ]
     },
     "metadata": {},
     "output_type": "display_data"
    },
    {
     "name": "stdout",
     "output_type": "stream",
     "text": [
      "Score 8.57\n",
      "\n",
      "==================================================\n",
      "Rank 42\n",
      "Natsume Yuujinchou Go\n"
     ]
    },
    {
     "data": {
      "text/html": [
       "<img src=\"https://cdn.myanimelist.net/r/100x140/images/anime/11/81755.jpg?s=bf3caabaccd732425fcaf7a8c85a8ff9\" width=\"100\"/>"
      ],
      "text/plain": [
       "<IPython.core.display.Image object>"
      ]
     },
     "metadata": {},
     "output_type": "display_data"
    },
    {
     "name": "stdout",
     "output_type": "stream",
     "text": [
      "Score 8.57\n",
      "\n",
      "==================================================\n",
      "Rank 43\n",
      "Natsume Yuujinchou San\n"
     ]
    },
    {
     "data": {
      "text/html": [
       "<img src=\"https://cdn.myanimelist.net/r/100x140/images/anime/8/82394.jpg?s=f40400064283f68903948d1124df67a8\" width=\"100\"/>"
      ],
      "text/plain": [
       "<IPython.core.display.Image object>"
      ]
     },
     "metadata": {},
     "output_type": "display_data"
    },
    {
     "name": "stdout",
     "output_type": "stream",
     "text": [
      "Score 8.57\n",
      "\n",
      "==================================================\n",
      "Rank 44\n",
      "Shouwa Genroku Rakugo Shinjuu\n"
     ]
    },
    {
     "data": {
      "text/html": [
       "<img src=\"https://cdn.myanimelist.net/r/100x140/images/anime/1354/124768.jpg?s=a1d5665c6f353f4b3bd6eeb9a39930ef\" width=\"100\"/>"
      ],
      "text/plain": [
       "<IPython.core.display.Image object>"
      ]
     },
     "metadata": {},
     "output_type": "display_data"
    },
    {
     "name": "stdout",
     "output_type": "stream",
     "text": [
      "Score 8.57\n",
      "\n",
      "==================================================\n",
      "Rank 45\n",
      "Tengen Toppa Gurren Lagann Movie 2: Lagann-hen\n"
     ]
    },
    {
     "data": {
      "text/html": [
       "<img src=\"https://cdn.myanimelist.net/r/100x140/images/anime/12/19698.jpg?s=ddc790a2d507b1c78a8038f1e9457beb\" width=\"100\"/>"
      ],
      "text/plain": [
       "<IPython.core.display.Image object>"
      ]
     },
     "metadata": {},
     "output_type": "display_data"
    },
    {
     "name": "stdout",
     "output_type": "stream",
     "text": [
      "Score 8.57\n",
      "\n",
      "==================================================\n",
      "Rank 46\n",
      "Yojouhan Shinwa Taikei\n"
     ]
    },
    {
     "data": {
      "text/html": [
       "<img src=\"https://cdn.myanimelist.net/r/100x140/images/anime/1633/123689.jpg?s=767a2c7974ae7672bda3f065627339cc\" width=\"100\"/>"
      ],
      "text/plain": [
       "<IPython.core.display.Image object>"
      ]
     },
     "metadata": {},
     "output_type": "display_data"
    },
    {
     "name": "stdout",
     "output_type": "stream",
     "text": [
      "Score 8.56\n",
      "\n",
      "==================================================\n",
      "Rank 47\n",
      "Kimi no Suizou wo Tabetai\n"
     ]
    },
    {
     "data": {
      "text/html": [
       "<img src=\"https://cdn.myanimelist.net/r/100x140/images/anime/1768/93291.jpg?s=44eff1f7b3c25378ceaf04f5ccdd1f5d\" width=\"100\"/>"
      ],
      "text/plain": [
       "<IPython.core.display.Image object>"
      ]
     },
     "metadata": {},
     "output_type": "display_data"
    },
    {
     "name": "stdout",
     "output_type": "stream",
     "text": [
      "Score 8.56\n",
      "\n",
      "==================================================\n",
      "Rank 48\n",
      "Mo Dao Zu Shi: Wanjie Pian\n"
     ]
    },
    {
     "data": {
      "text/html": [
       "<img src=\"https://cdn.myanimelist.net/r/100x140/images/anime/1634/116782.jpg?s=23f39dc785a475b0233012eb5fe1aebd\" width=\"100\"/>"
      ],
      "text/plain": [
       "<IPython.core.display.Image object>"
      ]
     },
     "metadata": {},
     "output_type": "display_data"
    },
    {
     "name": "stdout",
     "output_type": "stream",
     "text": [
      "Score 8.55\n",
      "\n",
      "==================================================\n",
      "Rank 49\n",
      "Neon Genesis Evangelion: The End of Evangelion\n"
     ]
    },
    {
     "data": {
      "text/html": [
       "<img src=\"https://cdn.myanimelist.net/r/100x140/images/anime/1404/98182.jpg?s=98628f236cf7dbac1e0b6eb6d0615aa5\" width=\"100\"/>"
      ],
      "text/plain": [
       "<IPython.core.display.Image object>"
      ]
     },
     "metadata": {},
     "output_type": "display_data"
    },
    {
     "name": "stdout",
     "output_type": "stream",
     "text": [
      "Score 8.55\n",
      "\n",
      "==================================================\n",
      "Rank 50\n",
      "Shoujo☆Kageki Revue Starlight Movie\n"
     ]
    },
    {
     "data": {
      "text/html": [
       "<img src=\"https://cdn.myanimelist.net/r/100x140/images/anime/1655/114440.jpg?s=8bc5d72a0b090e09496c5e4716a23aac\" width=\"100\"/>"
      ],
      "text/plain": [
       "<IPython.core.display.Image object>"
      ]
     },
     "metadata": {},
     "output_type": "display_data"
    },
    {
     "name": "stdout",
     "output_type": "stream",
     "text": [
      "Score 8.55\n",
      "\n",
      "==================================================\n"
     ]
    }
   ],
   "source": [
    "display_anime(anime_titles, img_links, anime_scores)"
   ]
  },
  {
   "cell_type": "markdown",
   "id": "1002a1af",
   "metadata": {},
   "source": [
    "## Creating dictionaries"
   ]
  },
  {
   "cell_type": "code",
   "execution_count": 132,
   "id": "30d0685c",
   "metadata": {},
   "outputs": [],
   "source": [
    "# Add scores, links and image_links to anime info list\n",
    "for i, (link, img_link, score) in enumerate(zip(anime_links, img_links, anime_scores)):\n",
    "    anime_list[i].append(link)\n",
    "    anime_list[i].append(img_link)\n",
    "    anime_list[i].append(score)"
   ]
  },
  {
   "cell_type": "code",
   "execution_count": 133,
   "id": "62979d13",
   "metadata": {},
   "outputs": [
    {
     "data": {
      "text/plain": [
       "[['Code Geass: Hangyaku no Lelouch',\n",
       "  'TV (25 eps)',\n",
       "  'Oct 2006 - Jul 2007',\n",
       "  '2,158,686 members',\n",
       "  'https://myanimelist.net/anime/1575/Code_Geass__Hangyaku_no_Lelouch',\n",
       "  'https://cdn.myanimelist.net/r/100x140/images/anime/1032/135088.jpg?s=8b895bc4ead0cfc55ccfc813ba627926',\n",
       "  '8.70'],\n",
       " ['Mushishi Zoku Shou',\n",
       "  'TV (10 eps)',\n",
       "  'Apr 2014 - Jun 2014',\n",
       "  '289,087 members',\n",
       "  'https://myanimelist.net/anime/21939/Mushishi_Zoku_Shou',\n",
       "  'https://cdn.myanimelist.net/r/100x140/images/anime/13/58533.jpg?s=8b4c39ac1694d8b1ad2a1dcc504691f6',\n",
       "  '8.70']]"
      ]
     },
     "execution_count": 133,
     "metadata": {},
     "output_type": "execute_result"
    }
   ],
   "source": [
    "anime_list[:2]"
   ]
  },
  {
   "cell_type": "code",
   "execution_count": 134,
   "id": "95460e8f",
   "metadata": {},
   "outputs": [],
   "source": [
    "# Making a dictionary from the anime list\n",
    "def make_dict_from_list(anime):\n",
    "    anime_dict = {'Title': anime[0],\n",
    "                  'Num_episodes': anime[1],\n",
    "                  'Aired_through': anime[2],\n",
    "                  'Num_members': anime[3],\n",
    "                  'page_url': anime[4],\n",
    "                  'image_url': anime[5],\n",
    "                  'Score': anime[6]}\n",
    "    return anime_dict"
   ]
  },
  {
   "cell_type": "code",
   "execution_count": 135,
   "id": "fbcf0304",
   "metadata": {},
   "outputs": [],
   "source": [
    "anime_dict = list(map(make_dict_from_list, anime_list))"
   ]
  },
  {
   "cell_type": "code",
   "execution_count": 136,
   "id": "8041cd24",
   "metadata": {},
   "outputs": [
    {
     "data": {
      "text/plain": [
       "[{'Title': 'Code Geass: Hangyaku no Lelouch',\n",
       "  'Num_episodes': 'TV (25 eps)',\n",
       "  'Aired_through': 'Oct 2006 - Jul 2007',\n",
       "  'Num_members': '2,158,686 members',\n",
       "  'page_url': 'https://myanimelist.net/anime/1575/Code_Geass__Hangyaku_no_Lelouch',\n",
       "  'image_url': 'https://cdn.myanimelist.net/r/100x140/images/anime/1032/135088.jpg?s=8b895bc4ead0cfc55ccfc813ba627926',\n",
       "  'Score': '8.70'},\n",
       " {'Title': 'Mushishi Zoku Shou',\n",
       "  'Num_episodes': 'TV (10 eps)',\n",
       "  'Aired_through': 'Apr 2014 - Jun 2014',\n",
       "  'Num_members': '289,087 members',\n",
       "  'page_url': 'https://myanimelist.net/anime/21939/Mushishi_Zoku_Shou',\n",
       "  'image_url': 'https://cdn.myanimelist.net/r/100x140/images/anime/13/58533.jpg?s=8b4c39ac1694d8b1ad2a1dcc504691f6',\n",
       "  'Score': '8.70'}]"
      ]
     },
     "execution_count": 136,
     "metadata": {},
     "output_type": "execute_result"
    }
   ],
   "source": [
    "anime_dict[:2]"
   ]
  },
  {
   "cell_type": "markdown",
   "id": "2a0c55d2",
   "metadata": {},
   "source": [
    "## Creating a dataframe"
   ]
  },
  {
   "cell_type": "code",
   "execution_count": 137,
   "id": "4420990b",
   "metadata": {},
   "outputs": [],
   "source": [
    "anime_ranks_df = pd.DataFrame(anime_dict)"
   ]
  },
  {
   "cell_type": "code",
   "execution_count": 138,
   "id": "4d261f86",
   "metadata": {
    "scrolled": false
   },
   "outputs": [
    {
     "data": {
      "text/html": [
       "<div>\n",
       "<style scoped>\n",
       "    .dataframe tbody tr th:only-of-type {\n",
       "        vertical-align: middle;\n",
       "    }\n",
       "\n",
       "    .dataframe tbody tr th {\n",
       "        vertical-align: top;\n",
       "    }\n",
       "\n",
       "    .dataframe thead th {\n",
       "        text-align: right;\n",
       "    }\n",
       "</style>\n",
       "<table border=\"1\" class=\"dataframe\">\n",
       "  <thead>\n",
       "    <tr style=\"text-align: right;\">\n",
       "      <th></th>\n",
       "      <th>Title</th>\n",
       "      <th>Num_episodes</th>\n",
       "      <th>Aired_through</th>\n",
       "      <th>Num_members</th>\n",
       "      <th>page_url</th>\n",
       "      <th>image_url</th>\n",
       "      <th>Score</th>\n",
       "    </tr>\n",
       "  </thead>\n",
       "  <tbody>\n",
       "    <tr>\n",
       "      <th>0</th>\n",
       "      <td>Code Geass: Hangyaku no Lelouch</td>\n",
       "      <td>TV (25 eps)</td>\n",
       "      <td>Oct 2006 - Jul 2007</td>\n",
       "      <td>2,158,686 members</td>\n",
       "      <td>https://myanimelist.net/anime/1575/Code_Geass_...</td>\n",
       "      <td>https://cdn.myanimelist.net/r/100x140/images/a...</td>\n",
       "      <td>8.70</td>\n",
       "    </tr>\n",
       "    <tr>\n",
       "      <th>1</th>\n",
       "      <td>Mushishi Zoku Shou</td>\n",
       "      <td>TV (10 eps)</td>\n",
       "      <td>Apr 2014 - Jun 2014</td>\n",
       "      <td>289,087 members</td>\n",
       "      <td>https://myanimelist.net/anime/21939/Mushishi_Z...</td>\n",
       "      <td>https://cdn.myanimelist.net/r/100x140/images/a...</td>\n",
       "      <td>8.70</td>\n",
       "    </tr>\n",
       "    <tr>\n",
       "      <th>2</th>\n",
       "      <td>Mushoku Tensei: Isekai Ittara Honki Dasu Part 2</td>\n",
       "      <td>TV (12 eps)</td>\n",
       "      <td>Oct 2021 - Dec 2021</td>\n",
       "      <td>795,975 members</td>\n",
       "      <td>https://myanimelist.net/anime/45576/Mushoku_Te...</td>\n",
       "      <td>https://cdn.myanimelist.net/r/100x140/images/a...</td>\n",
       "      <td>8.70</td>\n",
       "    </tr>\n",
       "    <tr>\n",
       "      <th>3</th>\n",
       "      <td>Rurouni Kenshin: Meiji Kenkaku Romantan - Tsui...</td>\n",
       "      <td>OVA (4 eps)</td>\n",
       "      <td>Feb 1999 - Sep 1999</td>\n",
       "      <td>269,227 members</td>\n",
       "      <td>https://myanimelist.net/anime/44/Rurouni_Kensh...</td>\n",
       "      <td>https://cdn.myanimelist.net/r/100x140/images/a...</td>\n",
       "      <td>8.70</td>\n",
       "    </tr>\n",
       "    <tr>\n",
       "      <th>4</th>\n",
       "      <td>Odd Taxi</td>\n",
       "      <td>TV (13 eps)</td>\n",
       "      <td>Apr 2021 - Jun 2021</td>\n",
       "      <td>392,687 members</td>\n",
       "      <td>https://myanimelist.net/anime/46102/Odd_Taxi</td>\n",
       "      <td>https://cdn.myanimelist.net/r/100x140/images/a...</td>\n",
       "      <td>8.69</td>\n",
       "    </tr>\n",
       "  </tbody>\n",
       "</table>\n",
       "</div>"
      ],
      "text/plain": [
       "                                               Title Num_episodes  \\\n",
       "0                    Code Geass: Hangyaku no Lelouch  TV (25 eps)   \n",
       "1                                 Mushishi Zoku Shou  TV (10 eps)   \n",
       "2    Mushoku Tensei: Isekai Ittara Honki Dasu Part 2  TV (12 eps)   \n",
       "3  Rurouni Kenshin: Meiji Kenkaku Romantan - Tsui...  OVA (4 eps)   \n",
       "4                                           Odd Taxi  TV (13 eps)   \n",
       "\n",
       "         Aired_through        Num_members  \\\n",
       "0  Oct 2006 - Jul 2007  2,158,686 members   \n",
       "1  Apr 2014 - Jun 2014    289,087 members   \n",
       "2  Oct 2021 - Dec 2021    795,975 members   \n",
       "3  Feb 1999 - Sep 1999    269,227 members   \n",
       "4  Apr 2021 - Jun 2021    392,687 members   \n",
       "\n",
       "                                            page_url  \\\n",
       "0  https://myanimelist.net/anime/1575/Code_Geass_...   \n",
       "1  https://myanimelist.net/anime/21939/Mushishi_Z...   \n",
       "2  https://myanimelist.net/anime/45576/Mushoku_Te...   \n",
       "3  https://myanimelist.net/anime/44/Rurouni_Kensh...   \n",
       "4       https://myanimelist.net/anime/46102/Odd_Taxi   \n",
       "\n",
       "                                           image_url Score  \n",
       "0  https://cdn.myanimelist.net/r/100x140/images/a...  8.70  \n",
       "1  https://cdn.myanimelist.net/r/100x140/images/a...  8.70  \n",
       "2  https://cdn.myanimelist.net/r/100x140/images/a...  8.70  \n",
       "3  https://cdn.myanimelist.net/r/100x140/images/a...  8.70  \n",
       "4  https://cdn.myanimelist.net/r/100x140/images/a...  8.69  "
      ]
     },
     "execution_count": 138,
     "metadata": {},
     "output_type": "execute_result"
    }
   ],
   "source": [
    "anime_ranks_df.head()"
   ]
  },
  {
   "cell_type": "code",
   "execution_count": 43,
   "id": "7ecccfeb",
   "metadata": {},
   "outputs": [],
   "source": [
    "# anime_ranks_df.to_csv(\"MAL-anime-rankings.csv\")"
   ]
  },
  {
   "cell_type": "markdown",
   "id": "f19f9ab1",
   "metadata": {},
   "source": [
    "## Storing data in csv file"
   ]
  },
  {
   "cell_type": "code",
   "execution_count": 182,
   "id": "719a8212",
   "metadata": {},
   "outputs": [],
   "source": [
    "# Make the csv file to store data\n",
    "def make_csv(anime_dict, filename='anime-rankings.csv'):\n",
    "    with open(filename, 'a') as f:\n",
    "        w = csv.DictWriter(f, anime_dict[0].keys())\n",
    "    #     w.writeheader()\n",
    "        w.writerows(anime_dict)"
   ]
  },
  {
   "cell_type": "code",
   "execution_count": 92,
   "id": "021e387f",
   "metadata": {},
   "outputs": [],
   "source": [
    "# Displaying df with ranks\n",
    "# anime_ranks_df.columns = ['Title', 'Num_episodes', 'Aired_through', 'Num_members', 'page_url', 'image_url', 'Score']\n",
    "# anime_ranks_df.index = ranks\n",
    "# anime_ranks_df.index.name = 'Rank'"
   ]
  },
  {
   "cell_type": "code",
   "execution_count": 45,
   "id": "7e989e4d",
   "metadata": {},
   "outputs": [],
   "source": [
    "# # Convert links to clickable links\n",
    "# anime_ranks_df.loc[:, ['Anime_url', 'Image_url']] = anime_ranks_df.loc[:, ['Anime_url', 'Image_url']].style.format(lambda x: f'<a href=\"{x}\">{x}</a>')"
   ]
  },
  {
   "cell_type": "code",
   "execution_count": null,
   "id": "cdd9e77d",
   "metadata": {},
   "outputs": [],
   "source": []
  },
  {
   "cell_type": "markdown",
   "id": "f00d62a2",
   "metadata": {},
   "source": [
    "## Combining it all together"
   ]
  },
  {
   "cell_type": "code",
   "execution_count": 42,
   "id": "8257c5c0",
   "metadata": {},
   "outputs": [],
   "source": [
    "# Helper functions\n",
    "def extract_links(a_tags):\n",
    "    links = []\n",
    "    for tag in a_tags:\n",
    "        tag = str(tag)\n",
    "        pattern = r'href=(\\S+)'\n",
    "        link = re.findall(pattern, tag)[0][1:-1]\n",
    "        links.append(link)\n",
    "        \n",
    "    return links\n",
    "\n",
    "def extract_img_links(img_tags):\n",
    "    links = []\n",
    "    for tag in img_tags:\n",
    "        tag = str(tag)\n",
    "        pattern = r'https\\S+'\n",
    "        link = re.findall(pattern, tag)[2]\n",
    "        links.append(link)\n",
    "        \n",
    "    return links\n",
    "\n",
    "def clean_list(List, type='anime'):\n",
    "    for l in List:\n",
    "        for i, x in enumerate(l):\n",
    "            l[i] = x.strip()\n",
    "        if type == 'manga':\n",
    "            del l[1]\n",
    "            \n",
    "def make_dict_from_list(l):\n",
    "    \n",
    "    return {'Title': l[0],\n",
    "            'Num_episodes': l[1],\n",
    "            'Aired_through': l[2],\n",
    "            'Num_members': l[3],\n",
    "            'page_url': l[4],\n",
    "            'image_url': l[5],\n",
    "            'Score': l[6]}\n",
    "\n",
    "def display_info(title_list, img_list, score_list, top_n):\n",
    "    for i, (title, img_url, score) in enumerate(zip(title_list, img_list, score_list)):\n",
    "        print(f\"Rank {i+1}\")\n",
    "        print(title)\n",
    "        display(Image(url=img_url, width=100))\n",
    "        print(f\"Score {score}\")\n",
    "        print('\\n'+'='*50)\n",
    "        if i+1 == top_n:\n",
    "            break"
   ]
  },
  {
   "cell_type": "code",
   "execution_count": 43,
   "id": "c8a893a1",
   "metadata": {},
   "outputs": [],
   "source": [
    "# Get top 50 anime\n",
    "def get_anime_info(anime_url=\"https://myanimelist.net/topanime.php\"):\n",
    "    response = requests.get(anime_url)\n",
    "    parser = BeautifulSoup(response.text, \"html.parser\")\n",
    "    \n",
    "    # Get rankings\n",
    "    ranks_html = parser.select(\"td[class='rank ac']\")\n",
    "    ranks = [rank.text.strip() for rank in ranks_html]\n",
    "    \n",
    "    # Get individual anime links\n",
    "    anime_info = parser.select(\"td[class='title al va-t word-break']\")\n",
    "    a_tags = [info.a for info in anime_info]\n",
    "    anime_links = extract_links(a_tags)\n",
    "\n",
    "    # Get image links for all anime\n",
    "    img_tags = [info.img for info in anime_info]\n",
    "    img_links = extract_img_links(img_tags)\n",
    "\n",
    "    # Create list of all anime with their listed info\n",
    "    anime_list = list(info.text.strip().split('\\n') for info in anime_info)\n",
    "    clean_list(anime_list)\n",
    "    \n",
    "    # Extract scores of individual anime\n",
    "    score_tags = parser.select(\"td[class='score ac fs14']\")\n",
    "    anime_scores = [score.text.strip() for score in score_tags]\n",
    "    \n",
    "    # Add scores, links and image_links to anime info list\n",
    "    for i, (link, img_link, score) in enumerate(zip(anime_links, img_links, anime_scores)):\n",
    "        anime_list[i].append(link)\n",
    "        anime_list[i].append(img_link)\n",
    "        anime_list[i].append(score)\n",
    "    \n",
    "    # Get titles of all anime\n",
    "    anime_titles = [l[0] for l in anime_list]\n",
    "    \n",
    "    display_info(anime_titles, img_links, anime_scores, top_n)\n",
    "    return anime_list, ranks"
   ]
  },
  {
   "cell_type": "markdown",
   "id": "2ba1f0fa",
   "metadata": {},
   "source": [
    "**Doing the same procedure for mangas with some minor changes**"
   ]
  },
  {
   "cell_type": "code",
   "execution_count": 44,
   "id": "d81527fc",
   "metadata": {},
   "outputs": [],
   "source": [
    "# Get top 50 manga\n",
    "def get_manga_info(top_n=50):\n",
    "    response = requests.get(\"https://myanimelist.net/topmanga.php\")\n",
    "    parser = BeautifulSoup(response.text, \"html.parser\")\n",
    "    \n",
    "    # Get rankings\n",
    "    ranks_html = parser.select(\"td[class='rank ac']\")\n",
    "    ranks = [rank.text.strip() for rank in ranks_html]\n",
    "    \n",
    "    # Get individual manga links\n",
    "    manga_info = parser.select(\"td[class='title al va-t clearfix word-break']\")\n",
    "    a_tags = [info.a for info in manga_info]\n",
    "    manga_links = extract_links(a_tags)\n",
    "\n",
    "    # Get image links for all manga\n",
    "    img_tags = [info.img for info in manga_info]\n",
    "    img_links = extract_img_links(img_tags)\n",
    "\n",
    "    # Create list of all manga with their listed info\n",
    "    manga_list = list(info.text.strip().split('\\n') for info in manga_info)\n",
    "    clean_list(manga_list, 'manga')\n",
    "    \n",
    "    # Extract scores of individual manga\n",
    "    score_tags = parser.select(\"td[class='score ac fs14']\")\n",
    "    manga_scores = [score.text.strip() for score in score_tags]\n",
    "    \n",
    "    # Add scores, links and image_links to manga info list\n",
    "    for i, (link, img_link, score) in enumerate(zip(manga_links, img_links, manga_scores)):\n",
    "        manga_list[i].append(link)\n",
    "        manga_list[i].append(img_link)\n",
    "        manga_list[i].append(score)\n",
    "    \n",
    "    # Get titles of all manga\n",
    "    manga_titles = [l[0] for l in manga_list]\n",
    "    \n",
    "    display_info(manga_titles, img_links, manga_scores, top_n)\n",
    "    return manga_list, ranks"
   ]
  },
  {
   "cell_type": "code",
   "execution_count": 45,
   "id": "e577fd76",
   "metadata": {
    "scrolled": true
   },
   "outputs": [
    {
     "name": "stdout",
     "output_type": "stream",
     "text": [
      "Rank 1\n",
      "Fullmetal Alchemist: Brotherhood\n"
     ]
    },
    {
     "data": {
      "text/html": [
       "<img src=\"https://cdn.myanimelist.net/r/100x140/images/anime/1208/94745.jpg?s=5ec18639199f2c60b60009f34222228d\" width=\"100\"/>"
      ],
      "text/plain": [
       "<IPython.core.display.Image object>"
      ]
     },
     "metadata": {},
     "output_type": "display_data"
    },
    {
     "name": "stdout",
     "output_type": "stream",
     "text": [
      "Score 9.10\n",
      "\n",
      "==================================================\n",
      "Rank 2\n",
      "Bleach: Sennen Kessen-hen\n"
     ]
    },
    {
     "data": {
      "text/html": [
       "<img src=\"https://cdn.myanimelist.net/r/100x140/images/anime/1956/126621.jpg?s=9d14f7b35e8be4500d2e052b9144f232\" width=\"100\"/>"
      ],
      "text/plain": [
       "<IPython.core.display.Image object>"
      ]
     },
     "metadata": {},
     "output_type": "display_data"
    },
    {
     "name": "stdout",
     "output_type": "stream",
     "text": [
      "Score 9.07\n",
      "\n",
      "==================================================\n",
      "Rank 3\n",
      "Steins;Gate\n"
     ]
    },
    {
     "data": {
      "text/html": [
       "<img src=\"https://cdn.myanimelist.net/r/100x140/images/anime/1935/127974.jpg?s=a0c19821033ace3af10310a253a9e85b\" width=\"100\"/>"
      ],
      "text/plain": [
       "<IPython.core.display.Image object>"
      ]
     },
     "metadata": {},
     "output_type": "display_data"
    },
    {
     "name": "stdout",
     "output_type": "stream",
     "text": [
      "Score 9.07\n",
      "\n",
      "==================================================\n",
      "Rank 4\n",
      "Gintama°\n"
     ]
    },
    {
     "data": {
      "text/html": [
       "<img src=\"https://cdn.myanimelist.net/r/100x140/images/anime/3/72078.jpg?s=bb26d45bb75e13601e1b8029f717c2b0\" width=\"100\"/>"
      ],
      "text/plain": [
       "<IPython.core.display.Image object>"
      ]
     },
     "metadata": {},
     "output_type": "display_data"
    },
    {
     "name": "stdout",
     "output_type": "stream",
     "text": [
      "Score 9.06\n",
      "\n",
      "==================================================\n",
      "Rank 5\n",
      "Kaguya-sama wa Kokurasetai: Ultra Romantic\n"
     ]
    },
    {
     "data": {
      "text/html": [
       "<img src=\"https://cdn.myanimelist.net/r/100x140/images/anime/1160/122627.jpg?s=e4e56950556c022515bea0f8936ce541\" width=\"100\"/>"
      ],
      "text/plain": [
       "<IPython.core.display.Image object>"
      ]
     },
     "metadata": {},
     "output_type": "display_data"
    },
    {
     "name": "stdout",
     "output_type": "stream",
     "text": [
      "Score 9.05\n",
      "\n",
      "==================================================\n"
     ]
    }
   ],
   "source": [
    "anime_list, ranks = get_anime_info(5)"
   ]
  },
  {
   "cell_type": "code",
   "execution_count": 46,
   "id": "06eb1319",
   "metadata": {
    "scrolled": true
   },
   "outputs": [
    {
     "name": "stdout",
     "output_type": "stream",
     "text": [
      "Rank 1\n",
      "Berserk\n"
     ]
    },
    {
     "data": {
      "text/html": [
       "<img src=\"https://cdn.myanimelist.net/r/100x140/images/manga/1/157897.jpg?s=89f4db27210a934c566d75a6163c5530\" width=\"100\"/>"
      ],
      "text/plain": [
       "<IPython.core.display.Image object>"
      ]
     },
     "metadata": {},
     "output_type": "display_data"
    },
    {
     "name": "stdout",
     "output_type": "stream",
     "text": [
      "Score 9.47\n",
      "\n",
      "==================================================\n",
      "Rank 2\n",
      "JoJo no Kimyou na Bouken Part 7: Steel Ball Run\n"
     ]
    },
    {
     "data": {
      "text/html": [
       "<img src=\"https://cdn.myanimelist.net/r/100x140/images/manga/3/179882.jpg?s=aa3e372a5bc396c24cfe9b191e765fa7\" width=\"100\"/>"
      ],
      "text/plain": [
       "<IPython.core.display.Image object>"
      ]
     },
     "metadata": {},
     "output_type": "display_data"
    },
    {
     "name": "stdout",
     "output_type": "stream",
     "text": [
      "Score 9.30\n",
      "\n",
      "==================================================\n",
      "Rank 3\n",
      "Vagabond\n"
     ]
    },
    {
     "data": {
      "text/html": [
       "<img src=\"https://cdn.myanimelist.net/r/100x140/images/manga/1/259070.jpg?s=f973f0a07bd37e45f63d71ab122a8c6e\" width=\"100\"/>"
      ],
      "text/plain": [
       "<IPython.core.display.Image object>"
      ]
     },
     "metadata": {},
     "output_type": "display_data"
    },
    {
     "name": "stdout",
     "output_type": "stream",
     "text": [
      "Score 9.23\n",
      "\n",
      "==================================================\n",
      "Rank 4\n",
      "One Piece\n"
     ]
    },
    {
     "data": {
      "text/html": [
       "<img src=\"https://cdn.myanimelist.net/r/100x140/images/manga/2/253146.jpg?s=b7465f50607202245754c4a8ab34be52\" width=\"100\"/>"
      ],
      "text/plain": [
       "<IPython.core.display.Image object>"
      ]
     },
     "metadata": {},
     "output_type": "display_data"
    },
    {
     "name": "stdout",
     "output_type": "stream",
     "text": [
      "Score 9.21\n",
      "\n",
      "==================================================\n",
      "Rank 5\n",
      "Monster\n"
     ]
    },
    {
     "data": {
      "text/html": [
       "<img src=\"https://cdn.myanimelist.net/r/100x140/images/manga/3/258224.jpg?s=097b790c0519007140b374e9a9a4706f\" width=\"100\"/>"
      ],
      "text/plain": [
       "<IPython.core.display.Image object>"
      ]
     },
     "metadata": {},
     "output_type": "display_data"
    },
    {
     "name": "stdout",
     "output_type": "stream",
     "text": [
      "Score 9.15\n",
      "\n",
      "==================================================\n"
     ]
    }
   ],
   "source": [
    "manga_list, ranks = get_manga_info(5)"
   ]
  },
  {
   "cell_type": "code",
   "execution_count": null,
   "id": "940f18bb",
   "metadata": {},
   "outputs": [],
   "source": []
  },
  {
   "cell_type": "markdown",
   "id": "4553e9f0",
   "metadata": {},
   "source": [
    "## Scraping multiple pages"
   ]
  },
  {
   "cell_type": "code",
   "execution_count": 184,
   "id": "62c5c493",
   "metadata": {},
   "outputs": [
    {
     "data": {
      "text/plain": [
       "'https://myanimelist.net/topanime.php'"
      ]
     },
     "execution_count": 184,
     "metadata": {},
     "output_type": "execute_result"
    }
   ],
   "source": [
    "num_pages = 2"
   ]
  },
  {
   "cell_type": "code",
   "execution_count": null,
   "id": "92ffc959",
   "metadata": {},
   "outputs": [],
   "source": [
    "for i in range(num_pages):\n",
    "    new_url = URL + f\"?limit={i*50}\""
   ]
  },
  {
   "cell_type": "code",
   "execution_count": null,
   "id": "46b07094",
   "metadata": {},
   "outputs": [],
   "source": []
  },
  {
   "cell_type": "code",
   "execution_count": null,
   "id": "819dfa3a",
   "metadata": {},
   "outputs": [],
   "source": []
  },
  {
   "cell_type": "code",
   "execution_count": null,
   "id": "bc76de2c",
   "metadata": {},
   "outputs": [],
   "source": []
  },
  {
   "cell_type": "code",
   "execution_count": null,
   "id": "7fea1c25",
   "metadata": {},
   "outputs": [],
   "source": []
  },
  {
   "cell_type": "markdown",
   "id": "5833a293",
   "metadata": {},
   "source": [
    "## Visualize and analyze data"
   ]
  },
  {
   "cell_type": "code",
   "execution_count": 47,
   "id": "559ff600",
   "metadata": {},
   "outputs": [],
   "source": [
    "# Making dataframes and csv files to keep the scraped data\n",
    "def make_df(info_list, ranks, type='anime'):\n",
    "    ranks_df = pd.DataFrame(info_list)\n",
    "    ranks_df.index = ranks\n",
    "    ranks_df.index.name = 'Rank'\n",
    "\n",
    "    if type == 'anime':\n",
    "        ranks_df.columns = ['Title', 'Num_episodes', 'Aired_through', 'Num_members', 'page_url', 'image_url', 'Score']\n",
    "        ranks_df.to_csv(\"MAL-anime-rankings.csv\")\n",
    "    elif type == 'manga':\n",
    "        ranks_df.columns = ['Title', 'Num_volumes', 'Published_through', 'Num_members', 'page_url', 'image_url', 'Score']\n",
    "        ranks_df.to_csv(\"MAL-manga-rankings.csv\")\n",
    "    else:\n",
    "        raise NameError(\"No such type of thing here\") \n",
    "        \n",
    "    display(ranks_df.sample(5))"
   ]
  },
  {
   "cell_type": "code",
   "execution_count": 48,
   "id": "a4246c9d",
   "metadata": {},
   "outputs": [
    {
     "data": {
      "text/html": [
       "<div>\n",
       "<style scoped>\n",
       "    .dataframe tbody tr th:only-of-type {\n",
       "        vertical-align: middle;\n",
       "    }\n",
       "\n",
       "    .dataframe tbody tr th {\n",
       "        vertical-align: top;\n",
       "    }\n",
       "\n",
       "    .dataframe thead th {\n",
       "        text-align: right;\n",
       "    }\n",
       "</style>\n",
       "<table border=\"1\" class=\"dataframe\">\n",
       "  <thead>\n",
       "    <tr style=\"text-align: right;\">\n",
       "      <th></th>\n",
       "      <th>Title</th>\n",
       "      <th>Num_episodes</th>\n",
       "      <th>Aired_through</th>\n",
       "      <th>Num_members</th>\n",
       "      <th>page_url</th>\n",
       "      <th>image_url</th>\n",
       "      <th>Score</th>\n",
       "    </tr>\n",
       "    <tr>\n",
       "      <th>Rank</th>\n",
       "      <th></th>\n",
       "      <th></th>\n",
       "      <th></th>\n",
       "      <th></th>\n",
       "      <th></th>\n",
       "      <th></th>\n",
       "      <th></th>\n",
       "    </tr>\n",
       "  </thead>\n",
       "  <tbody>\n",
       "    <tr>\n",
       "      <th>30</th>\n",
       "      <td>Kingdom 3rd Season</td>\n",
       "      <td>TV (26 eps)</td>\n",
       "      <td>Apr 2020 - Oct 2021</td>\n",
       "      <td>91,218 members</td>\n",
       "      <td>https://myanimelist.net/anime/40682/Kingdom_3r...</td>\n",
       "      <td>https://cdn.myanimelist.net/r/100x140/images/a...</td>\n",
       "      <td>8.81</td>\n",
       "    </tr>\n",
       "    <tr>\n",
       "      <th>6</th>\n",
       "      <td>Shingeki no Kyojin Season 3 Part 2</td>\n",
       "      <td>TV (10 eps)</td>\n",
       "      <td>Apr 2019 - Jul 2019</td>\n",
       "      <td>2,106,077 members</td>\n",
       "      <td>https://myanimelist.net/anime/38524/Shingeki_n...</td>\n",
       "      <td>https://cdn.myanimelist.net/r/100x140/images/a...</td>\n",
       "      <td>9.05</td>\n",
       "    </tr>\n",
       "    <tr>\n",
       "      <th>7</th>\n",
       "      <td>Shingeki no Kyojin: The Final Season - Kankets...</td>\n",
       "      <td>Special (2 eps)</td>\n",
       "      <td>Mar 2023 - 2023</td>\n",
       "      <td>437,824 members</td>\n",
       "      <td>https://myanimelist.net/anime/51535/Shingeki_n...</td>\n",
       "      <td>https://cdn.myanimelist.net/r/100x140/images/a...</td>\n",
       "      <td>9.05</td>\n",
       "    </tr>\n",
       "    <tr>\n",
       "      <th>5</th>\n",
       "      <td>Kaguya-sama wa Kokurasetai: Ultra Romantic</td>\n",
       "      <td>TV (13 eps)</td>\n",
       "      <td>Apr 2022 - Jun 2022</td>\n",
       "      <td>822,345 members</td>\n",
       "      <td>https://myanimelist.net/anime/43608/Kaguya-sam...</td>\n",
       "      <td>https://cdn.myanimelist.net/r/100x140/images/a...</td>\n",
       "      <td>9.05</td>\n",
       "    </tr>\n",
       "    <tr>\n",
       "      <th>29</th>\n",
       "      <td>Vinland Saga Season 2</td>\n",
       "      <td>TV (24 eps)</td>\n",
       "      <td>Jan 2023 - Jun 2023</td>\n",
       "      <td>434,841 members</td>\n",
       "      <td>https://myanimelist.net/anime/49387/Vinland_Sa...</td>\n",
       "      <td>https://cdn.myanimelist.net/r/100x140/images/a...</td>\n",
       "      <td>8.84</td>\n",
       "    </tr>\n",
       "  </tbody>\n",
       "</table>\n",
       "</div>"
      ],
      "text/plain": [
       "                                                  Title     Num_episodes  \\\n",
       "Rank                                                                       \n",
       "30                                   Kingdom 3rd Season      TV (26 eps)   \n",
       "6                    Shingeki no Kyojin Season 3 Part 2      TV (10 eps)   \n",
       "7     Shingeki no Kyojin: The Final Season - Kankets...  Special (2 eps)   \n",
       "5            Kaguya-sama wa Kokurasetai: Ultra Romantic      TV (13 eps)   \n",
       "29                                Vinland Saga Season 2      TV (24 eps)   \n",
       "\n",
       "            Aired_through        Num_members  \\\n",
       "Rank                                           \n",
       "30    Apr 2020 - Oct 2021     91,218 members   \n",
       "6     Apr 2019 - Jul 2019  2,106,077 members   \n",
       "7         Mar 2023 - 2023    437,824 members   \n",
       "5     Apr 2022 - Jun 2022    822,345 members   \n",
       "29    Jan 2023 - Jun 2023    434,841 members   \n",
       "\n",
       "                                               page_url  \\\n",
       "Rank                                                      \n",
       "30    https://myanimelist.net/anime/40682/Kingdom_3r...   \n",
       "6     https://myanimelist.net/anime/38524/Shingeki_n...   \n",
       "7     https://myanimelist.net/anime/51535/Shingeki_n...   \n",
       "5     https://myanimelist.net/anime/43608/Kaguya-sam...   \n",
       "29    https://myanimelist.net/anime/49387/Vinland_Sa...   \n",
       "\n",
       "                                              image_url Score  \n",
       "Rank                                                           \n",
       "30    https://cdn.myanimelist.net/r/100x140/images/a...  8.81  \n",
       "6     https://cdn.myanimelist.net/r/100x140/images/a...  9.05  \n",
       "7     https://cdn.myanimelist.net/r/100x140/images/a...  9.05  \n",
       "5     https://cdn.myanimelist.net/r/100x140/images/a...  9.05  \n",
       "29    https://cdn.myanimelist.net/r/100x140/images/a...  8.84  "
      ]
     },
     "metadata": {},
     "output_type": "display_data"
    }
   ],
   "source": [
    "make_df(anime_list, ranks)"
   ]
  },
  {
   "cell_type": "code",
   "execution_count": 49,
   "id": "02c9fd34",
   "metadata": {
    "scrolled": true
   },
   "outputs": [
    {
     "data": {
      "text/html": [
       "<div>\n",
       "<style scoped>\n",
       "    .dataframe tbody tr th:only-of-type {\n",
       "        vertical-align: middle;\n",
       "    }\n",
       "\n",
       "    .dataframe tbody tr th {\n",
       "        vertical-align: top;\n",
       "    }\n",
       "\n",
       "    .dataframe thead th {\n",
       "        text-align: right;\n",
       "    }\n",
       "</style>\n",
       "<table border=\"1\" class=\"dataframe\">\n",
       "  <thead>\n",
       "    <tr style=\"text-align: right;\">\n",
       "      <th></th>\n",
       "      <th>Title</th>\n",
       "      <th>Num_volumes</th>\n",
       "      <th>Published_through</th>\n",
       "      <th>Num_members</th>\n",
       "      <th>page_url</th>\n",
       "      <th>image_url</th>\n",
       "      <th>Score</th>\n",
       "    </tr>\n",
       "    <tr>\n",
       "      <th>Rank</th>\n",
       "      <th></th>\n",
       "      <th></th>\n",
       "      <th></th>\n",
       "      <th></th>\n",
       "      <th></th>\n",
       "      <th></th>\n",
       "      <th></th>\n",
       "    </tr>\n",
       "  </thead>\n",
       "  <tbody>\n",
       "    <tr>\n",
       "      <th>14</th>\n",
       "      <td>Ashita no Joe</td>\n",
       "      <td>Manga (20 vols)</td>\n",
       "      <td>Jan 1968 - May 1973</td>\n",
       "      <td>47,970 members</td>\n",
       "      <td>https://myanimelist.net/manga/1303/Ashita_no_Joe</td>\n",
       "      <td>https://cdn.myanimelist.net/r/100x140/images/m...</td>\n",
       "      <td>8.94</td>\n",
       "    </tr>\n",
       "    <tr>\n",
       "      <th>26</th>\n",
       "      <td>Koe no Katachi</td>\n",
       "      <td>Manga (7 vols)</td>\n",
       "      <td>Aug 2013 - Nov 2014</td>\n",
       "      <td>259,140 members</td>\n",
       "      <td>https://myanimelist.net/manga/56805/Koe_no_Kat...</td>\n",
       "      <td>https://cdn.myanimelist.net/r/100x140/images/m...</td>\n",
       "      <td>8.86</td>\n",
       "    </tr>\n",
       "    <tr>\n",
       "      <th>23</th>\n",
       "      <td>Yotsuba to!</td>\n",
       "      <td>Manga (? vols)</td>\n",
       "      <td>Mar 2003 -</td>\n",
       "      <td>145,403 members</td>\n",
       "      <td>https://myanimelist.net/manga/104/Yotsuba_to</td>\n",
       "      <td>https://cdn.myanimelist.net/r/100x140/images/m...</td>\n",
       "      <td>8.88</td>\n",
       "    </tr>\n",
       "    <tr>\n",
       "      <th>36</th>\n",
       "      <td>Nana</td>\n",
       "      <td>Manga (21 vols)</td>\n",
       "      <td>May 2000 - May 2009</td>\n",
       "      <td>127,373 members</td>\n",
       "      <td>https://myanimelist.net/manga/28/Nana</td>\n",
       "      <td>https://cdn.myanimelist.net/r/100x140/images/m...</td>\n",
       "      <td>8.78</td>\n",
       "    </tr>\n",
       "    <tr>\n",
       "      <th>18</th>\n",
       "      <td>Kaguya-sama wa Kokurasetai: Tensai-tachi no Re...</td>\n",
       "      <td>Manga (28 vols)</td>\n",
       "      <td>May 2015 - Nov 2022</td>\n",
       "      <td>253,462 members</td>\n",
       "      <td>https://myanimelist.net/manga/90125/Kaguya-sam...</td>\n",
       "      <td>https://cdn.myanimelist.net/r/100x140/images/m...</td>\n",
       "      <td>8.92</td>\n",
       "    </tr>\n",
       "  </tbody>\n",
       "</table>\n",
       "</div>"
      ],
      "text/plain": [
       "                                                  Title      Num_volumes  \\\n",
       "Rank                                                                       \n",
       "14                                        Ashita no Joe  Manga (20 vols)   \n",
       "26                                       Koe no Katachi   Manga (7 vols)   \n",
       "23                                          Yotsuba to!   Manga (? vols)   \n",
       "36                                                 Nana  Manga (21 vols)   \n",
       "18    Kaguya-sama wa Kokurasetai: Tensai-tachi no Re...  Manga (28 vols)   \n",
       "\n",
       "        Published_through      Num_members  \\\n",
       "Rank                                         \n",
       "14    Jan 1968 - May 1973   47,970 members   \n",
       "26    Aug 2013 - Nov 2014  259,140 members   \n",
       "23             Mar 2003 -  145,403 members   \n",
       "36    May 2000 - May 2009  127,373 members   \n",
       "18    May 2015 - Nov 2022  253,462 members   \n",
       "\n",
       "                                               page_url  \\\n",
       "Rank                                                      \n",
       "14     https://myanimelist.net/manga/1303/Ashita_no_Joe   \n",
       "26    https://myanimelist.net/manga/56805/Koe_no_Kat...   \n",
       "23         https://myanimelist.net/manga/104/Yotsuba_to   \n",
       "36                https://myanimelist.net/manga/28/Nana   \n",
       "18    https://myanimelist.net/manga/90125/Kaguya-sam...   \n",
       "\n",
       "                                              image_url Score  \n",
       "Rank                                                           \n",
       "14    https://cdn.myanimelist.net/r/100x140/images/m...  8.94  \n",
       "26    https://cdn.myanimelist.net/r/100x140/images/m...  8.86  \n",
       "23    https://cdn.myanimelist.net/r/100x140/images/m...  8.88  \n",
       "36    https://cdn.myanimelist.net/r/100x140/images/m...  8.78  \n",
       "18    https://cdn.myanimelist.net/r/100x140/images/m...  8.92  "
      ]
     },
     "metadata": {},
     "output_type": "display_data"
    }
   ],
   "source": [
    "make_df(manga_list, ranks, type='manga')"
   ]
  },
  {
   "cell_type": "code",
   "execution_count": null,
   "id": "f5d9997c",
   "metadata": {},
   "outputs": [],
   "source": []
  },
  {
   "cell_type": "code",
   "execution_count": null,
   "id": "d07b9a46",
   "metadata": {},
   "outputs": [],
   "source": []
  },
  {
   "cell_type": "markdown",
   "id": "52c782d4",
   "metadata": {},
   "source": [
    "## Conclusion and further experiments"
   ]
  },
  {
   "cell_type": "markdown",
   "id": "bd0f8b12",
   "metadata": {},
   "source": [
    "- I have scraped the list of the top 50 anime and mangas but this could be extended much further say for top 1000 anime.\n",
    "- Selenium or playwright packages could be used to scrape multiple pages at once \n",
    "- Visualization and exploratory data analysis could be done easily by extracting multiple pages which could be another project in itself."
   ]
  },
  {
   "cell_type": "code",
   "execution_count": null,
   "id": "8b4863c8",
   "metadata": {},
   "outputs": [],
   "source": []
  }
 ],
 "metadata": {
  "language_info": {
   "codemirror_mode": {
    "name": "ipython",
    "version": 3
   },
   "file_extension": ".py",
   "mimetype": "text/x-python",
   "name": "python",
   "nbconvert_exporter": "python",
   "pygments_lexer": "ipython3",
   "version": "3.9.7"
  }
 },
 "nbformat": 4,
 "nbformat_minor": 5
}
